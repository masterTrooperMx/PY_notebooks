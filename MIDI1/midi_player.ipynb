{
 "cells": [
  {
   "cell_type": "code",
   "execution_count": 2,
   "id": "a9c02dae",
   "metadata": {},
   "outputs": [
    {
     "name": "stdout",
     "output_type": "stream",
     "text": [
      "Defaulting to user installation because normal site-packages is not writeable\n",
      "Collecting pygame\n",
      "  Downloading pygame-2.3.0-cp310-cp310-manylinux_2_17_x86_64.manylinux2014_x86_64.whl (13.8 MB)\n",
      "\u001b[2K     \u001b[38;2;114;156;31m━━━━━━━━━━━━━━━━━━━━━━━━━━━━━━━━━━━━━━━━\u001b[0m \u001b[32m13.8/13.8 MB\u001b[0m \u001b[31m6.4 MB/s\u001b[0m eta \u001b[36m0:00:00\u001b[0mm eta \u001b[36m0:00:01\u001b[0m[36m0:00:01\u001b[0m\n",
      "\u001b[?25hInstalling collected packages: pygame\n",
      "Successfully installed pygame-2.3.0\n"
     ]
    }
   ],
   "source": [
    "!pip install pygame"
   ]
  },
  {
   "cell_type": "code",
   "execution_count": 9,
   "id": "b5adc9fc",
   "metadata": {},
   "outputs": [],
   "source": [
    "# see: https://www.daniweb.com/programming/software-development/code/216976/play-a-midi-music-file-using-pygame\n",
    "\n",
    "# sudo pip install pygame\n",
    "\n",
    "# on ubuntu\n",
    "# sudo apt-get install python-pygame\n",
    "\n",
    "import pygame\n",
    "\n",
    "def play_music(midi_filename):\n",
    "  '''Stream music_file in a blocking manner'''\n",
    "  clock = pygame.time.Clock()\n",
    "  pygame.mixer.music.load(midi_filename)\n",
    "  pygame.mixer.music.play()\n",
    "  while pygame.mixer.music.get_busy():\n",
    "    clock.tick(30) # check if playback has finished\n",
    "    \n",
    "midi_filename = './data/Yesterday.mid'\n",
    "\n",
    "# mixer config\n",
    "freq = 44100  # audio CD quality\n",
    "bitsize = -16   # unsigned 16 bit\n",
    "channels = 2  # 1 is mono, 2 is stereo\n",
    "buffer = 1024   # number of samples\n",
    "pygame.mixer.init(freq, bitsize, channels, buffer)\n",
    "\n",
    "# optional volume 0 to 1.0\n",
    "pygame.mixer.music.set_volume(0.8)\n",
    "\n",
    "# listen for interruptions\n",
    "try:\n",
    "  # use the midi file you just saved\n",
    "  play_music(midi_filename)\n",
    "except KeyboardInterrupt:\n",
    "  # if user hits Ctrl/C then exit\n",
    "  # (works only in console mode)\n",
    "  pygame.mixer.music.fadeout(1000)\n",
    "  pygame.mixer.music.stop()\n",
    "  raise SystemExit"
   ]
  },
  {
   "cell_type": "code",
   "execution_count": null,
   "id": "b7893a7e",
   "metadata": {},
   "outputs": [],
   "source": [
    "# seria bueno tener los controles del player"
   ]
  }
 ],
 "metadata": {
  "kernelspec": {
   "display_name": "Python 3 (ipykernel)",
   "language": "python",
   "name": "python3"
  },
  "language_info": {
   "codemirror_mode": {
    "name": "ipython",
    "version": 3
   },
   "file_extension": ".py",
   "mimetype": "text/x-python",
   "name": "python",
   "nbconvert_exporter": "python",
   "pygments_lexer": "ipython3",
   "version": "3.10.6"
  }
 },
 "nbformat": 4,
 "nbformat_minor": 5
}
