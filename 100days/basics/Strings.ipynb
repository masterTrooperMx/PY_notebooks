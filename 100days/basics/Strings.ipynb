{
 "cells": [
  {
   "cell_type": "code",
   "execution_count": 1,
   "id": "86ebb539",
   "metadata": {},
   "outputs": [],
   "source": [
    "# https://www.pythonforbeginners.com/basics/string-manipulation-in-python\n",
    "myStr=\"hello world\""
   ]
  },
  {
   "cell_type": "code",
   "execution_count": 2,
   "id": "8c167513",
   "metadata": {},
   "outputs": [
    {
     "name": "stdout",
     "output_type": "stream",
     "text": [
      "hello world\n"
     ]
    }
   ],
   "source": [
    "print(myStr)"
   ]
  },
  {
   "cell_type": "code",
   "execution_count": 4,
   "id": "4ac727bd",
   "metadata": {},
   "outputs": [
    {
     "name": "stdout",
     "output_type": "stream",
     "text": [
      "l\n"
     ]
    }
   ],
   "source": [
    "# strings are like arrays\n",
    "print(myStr[3])"
   ]
  },
  {
   "cell_type": "code",
   "execution_count": 5,
   "id": "cc968c6e",
   "metadata": {},
   "outputs": [
    {
     "name": "stdout",
     "output_type": "stream",
     "text": [
      "11\n"
     ]
    }
   ],
   "source": [
    "print(len(myStr))"
   ]
  },
  {
   "cell_type": "code",
   "execution_count": 7,
   "id": "d8f23478",
   "metadata": {},
   "outputs": [
    {
     "name": "stdout",
     "output_type": "stream",
     "text": [
      "w in  hello world is in  6\n",
      "idx == pos? True\n"
     ]
    }
   ],
   "source": [
    "# find char in string, -1 if is not found\n",
    "char = 'w'\n",
    "pos = myStr.find(char)\n",
    "print(char, 'in ', myStr, 'is in ', pos)\n",
    "# also works with substrings\n",
    "idx = myStr.index(char)\n",
    "print('idx == pos?', idx == pos)"
   ]
  },
  {
   "cell_type": "code",
   "execution_count": 8,
   "id": "79f4ae89",
   "metadata": {},
   "outputs": [
    {
     "name": "stdout",
     "output_type": "stream",
     "text": [
      "3 l in  hello world\n"
     ]
    }
   ],
   "source": [
    "# count chars\n",
    "char = 'l' # 3\n",
    "cnt = myStr.count(char)\n",
    "print(cnt, char, 'in ', myStr)"
   ]
  },
  {
   "cell_type": "code",
   "execution_count": 30,
   "id": "fc2d4864",
   "metadata": {},
   "outputs": [
    {
     "name": "stdout",
     "output_type": "stream",
     "text": [
      "h\n",
      "h\n",
      "hel\n",
      "hel\n",
      "rld\n",
      "lo world\n",
      "hello wo\n",
      "['hello', 'world']\n",
      "['h', 'e', 'l', 'l', 'o', ' ', 'w', 'o', 'r', 'l', 'd']\n",
      "False\n",
      "True\n",
      "lllll\n",
      "Goodbye world\n",
      "GOODBYE WORLD\n",
      "goodbye world\n",
      "Goodbye World\n",
      "Goodbye world\n",
      "gOODBYE WORLD\n",
      "<reversed object at 0x7f90eb92ed00>\n",
      "dlrow eybdooG\n",
      "dlrow eybdooG\n"
     ]
    }
   ],
   "source": [
    "# string slicing\n",
    "print(myStr[0]) # first char h\n",
    "print(myStr[0:1]) # substring of len 1 h\n",
    "print(myStr[0:3]) # substring hel\n",
    "print(myStr[:3]) # first 3 chars hel\n",
    "print(myStr[-3:]) # last 3 chars rld\n",
    "print(myStr[3:]) # substring from pos 3 to end lo world\n",
    "print(myStr[:-3]) # substring of all but last 3 chars hello wo\n",
    "print(myStr.split()) # array of all words\n",
    "print([*myStr]) # unpack method, strips out string into letters and set into a list\n",
    "print(myStr.startswith(char)) # true or false\n",
    "print(myStr.endswith('d')) # true or false\n",
    "print(char*5) # char/string repetition, like in perl\n",
    "word = 'Goodbye'\n",
    "print(myStr.replace('hello', word)) # reemplazar sin modificar la cadena, crea otra\n",
    "newStr = myStr.replace('hello', word)\n",
    "print(newStr.upper()) # se sobre entienden\n",
    "print(newStr.lower())\n",
    "print(newStr.title())\n",
    "print(newStr.capitalize())\n",
    "print(newStr.swapcase())\n",
    "print(reversed(newStr))\n",
    "revStr = ''.join(reversed(newStr))\n",
    "print(revStr) # de atras adelante\n",
    "print(newStr[::-1]) # a trick"
   ]
  },
  {
   "cell_type": "code",
   "execution_count": 34,
   "id": "f570ed90",
   "metadata": {},
   "outputs": [
    {
     "name": "stdout",
     "output_type": "stream",
     "text": [
      "STACK\n",
      "STACK**********\n",
      "**********STACK\n",
      "ajksdheeljrn\n"
     ]
    }
   ],
   "source": [
    "# stripping\n",
    "stackStr = \"**********STACK**********\"\n",
    "# if no char passed the assumes space\n",
    "print(stackStr.strip('*')) # removes all stars\n",
    "print(stackStr.lstrip('*')) # removes all accourrences from start (left)\n",
    "print(stackStr.rstrip('*')) # vicersa\n",
    "aStr = 'ajksdh'\n",
    "bStr = 'eeljrn'\n",
    "print(aStr+bStr) # concatenation"
   ]
  },
  {
   "cell_type": "code",
   "execution_count": 41,
   "id": "3362d5df",
   "metadata": {},
   "outputs": [
    {
     "name": "stdout",
     "output_type": "stream",
     "text": [
      "isalpha False\n",
      "isalnum False\n",
      "isdigit False\n",
      "istitle False\n",
      "isupper False\n",
      "endswith d True\n",
      "islower False\n",
      "isspace False\n",
      "startswith H False\n"
     ]
    }
   ],
   "source": [
    "# string properties\n",
    "print('isalpha', newStr.isalpha())\n",
    "print('isalnum', newStr.isalnum())\n",
    "print('isdigit', newStr.isdigit())\n",
    "print('istitle', newStr.istitle())\n",
    "print('isupper', newStr.isupper())\n",
    "print('endswith d', newStr.endswith('d'))\n",
    "print('islower', newStr.islower())\n",
    "print('isspace', newStr.isspace())\n",
    "print('startswith H', newStr.startswith('H'))"
   ]
  },
  {
   "cell_type": "code",
   "execution_count": null,
   "id": "47f72385",
   "metadata": {},
   "outputs": [],
   "source": []
  }
 ],
 "metadata": {
  "kernelspec": {
   "display_name": "Python 3 (ipykernel)",
   "language": "python",
   "name": "python3"
  },
  "language_info": {
   "codemirror_mode": {
    "name": "ipython",
    "version": 3
   },
   "file_extension": ".py",
   "mimetype": "text/x-python",
   "name": "python",
   "nbconvert_exporter": "python",
   "pygments_lexer": "ipython3",
   "version": "3.9.13"
  }
 },
 "nbformat": 4,
 "nbformat_minor": 5
}
