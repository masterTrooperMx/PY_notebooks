{
 "cells": [
  {
   "cell_type": "code",
   "execution_count": 1,
   "id": "d3d14376",
   "metadata": {},
   "outputs": [
    {
     "name": "stdout",
     "output_type": "stream",
     "text": [
      "20\n"
     ]
    }
   ],
   "source": [
    "# A lambda function is a small anonymous function.\n",
    "# A lambda function can take any number of arguments, but can only have one expression.\n",
    "x = lambda a : a + 10 # lambda function\n",
    "print(x(10))"
   ]
  },
  {
   "cell_type": "code",
   "execution_count": 2,
   "id": "53eb9e41",
   "metadata": {},
   "outputs": [
    {
     "name": "stdout",
     "output_type": "stream",
     "text": [
      "13\n"
     ]
    }
   ],
   "source": [
    "x = lambda a, b, c : a + b + c\n",
    "print(x(5, 6, 2))"
   ]
  },
  {
   "cell_type": "code",
   "execution_count": 5,
   "id": "5f9473cf",
   "metadata": {},
   "outputs": [
    {
     "name": "stdout",
     "output_type": "stream",
     "text": [
      "0\n",
      "1\n",
      "2\n"
     ]
    }
   ],
   "source": [
    "list = []\n",
    "for i in range(3):\n",
    "  print(i)\n",
    "  list.append(lambda x: x+i)"
   ]
  },
  {
   "cell_type": "code",
   "execution_count": 6,
   "id": "5bf14760",
   "metadata": {},
   "outputs": [
    {
     "data": {
      "text/plain": [
       "3"
      ]
     },
     "execution_count": 6,
     "metadata": {},
     "output_type": "execute_result"
    }
   ],
   "source": [
    "len(list)"
   ]
  },
  {
   "cell_type": "code",
   "execution_count": 7,
   "id": "56a74eff",
   "metadata": {},
   "outputs": [
    {
     "name": "stdout",
     "output_type": "stream",
     "text": [
      "6\n"
     ]
    }
   ],
   "source": [
    "suma = 0;\n",
    "for f in list:\n",
    "    suma += f(0)\n",
    "print(suma)"
   ]
  },
  {
   "cell_type": "code",
   "execution_count": 20,
   "id": "767cd7b0",
   "metadata": {},
   "outputs": [
    {
     "name": "stdout",
     "output_type": "stream",
     "text": [
      "6\n",
      "9\n",
      "12\n",
      "15\n",
      "18\n"
     ]
    }
   ],
   "source": [
    "def suma_todo(ini):\n",
    "    list = []\n",
    "    for i in range(3):\n",
    "      #print(i)\n",
    "      list.append(lambda x: x+i) # lista de comprension\n",
    "    suma = 0\n",
    "    for f in list:\n",
    "        suma += f(ini)\n",
    "    print(suma)\n",
    "    \n",
    "lamda_i = lambda x: x\n",
    "\n",
    "suma_todo(0)\n",
    "suma_todo(1)\n",
    "suma_todo(2)\n",
    "suma_todo(lamda_i(3))\n",
    "suma_todo(4)\n"
   ]
  },
  {
   "cell_type": "code",
   "execution_count": 18,
   "id": "79bd53c6",
   "metadata": {},
   "outputs": [
    {
     "name": "stdout",
     "output_type": "stream",
     "text": [
      "10\n",
      "20\n",
      "30\n",
      "40\n"
     ]
    }
   ],
   "source": [
    "# list of comprehension\n",
    "\n",
    "is_even_list = [lambda arg=x: arg * 10 for x in range(1, 5)]\n",
    " \n",
    "# iterate on each lambda function\n",
    "# and invoke the function to get the calculated value\n",
    "for item in is_even_list:\n",
    "    print(item())"
   ]
  },
  {
   "cell_type": "code",
   "execution_count": null,
   "id": "e1ac8764",
   "metadata": {},
   "outputs": [],
   "source": []
  }
 ],
 "metadata": {
  "kernelspec": {
   "display_name": "Python 3 (ipykernel)",
   "language": "python",
   "name": "python3"
  },
  "language_info": {
   "codemirror_mode": {
    "name": "ipython",
    "version": 3
   },
   "file_extension": ".py",
   "mimetype": "text/x-python",
   "name": "python",
   "nbconvert_exporter": "python",
   "pygments_lexer": "ipython3",
   "version": "3.9.13"
  }
 },
 "nbformat": 4,
 "nbformat_minor": 5
}
