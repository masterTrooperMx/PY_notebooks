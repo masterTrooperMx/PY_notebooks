{
 "cells": [
  {
   "cell_type": "code",
   "execution_count": 3,
   "id": "213f9f04",
   "metadata": {},
   "outputs": [
    {
     "data": {
      "text/plain": [
       "{'quest1': 'xxxxx', 'val1': 1213, 'quest2': 'yyyyy', 'val2': 2324}"
      ]
     },
     "execution_count": 3,
     "metadata": {},
     "output_type": "execute_result"
    }
   ],
   "source": [
    "d_quest = dict(\n",
    "    quest1 = \"xxxxx\", val1 = 1213,\n",
    "    quest2 = \"yyyyy\", val2 = 2324,\n",
    ")\n",
    "d_quest"
   ]
  },
  {
   "cell_type": "code",
   "execution_count": 7,
   "id": "1b16c11f",
   "metadata": {},
   "outputs": [
    {
     "data": {
      "text/plain": [
       "'xxxxx'"
      ]
     },
     "execution_count": 7,
     "metadata": {},
     "output_type": "execute_result"
    }
   ],
   "source": [
    "d_quest['quest1']"
   ]
  },
  {
   "cell_type": "code",
   "execution_count": 8,
   "id": "be478069",
   "metadata": {},
   "outputs": [
    {
     "data": {
      "text/plain": [
       "2324"
      ]
     },
     "execution_count": 8,
     "metadata": {},
     "output_type": "execute_result"
    }
   ],
   "source": [
    "d_quest['val2']"
   ]
  },
  {
   "cell_type": "code",
   "execution_count": 10,
   "id": "a885aae1",
   "metadata": {},
   "outputs": [
    {
     "name": "stdout",
     "output_type": "stream",
     "text": [
      "('val2', 2324)\n"
     ]
    }
   ],
   "source": [
    "print(d_quest.popitem())"
   ]
  },
  {
   "cell_type": "code",
   "execution_count": 11,
   "id": "084ffaf5",
   "metadata": {},
   "outputs": [
    {
     "data": {
      "text/plain": [
       "[['xxxxx', 1213], ['yyyyy', 2324]]"
      ]
     },
     "execution_count": 11,
     "metadata": {},
     "output_type": "execute_result"
    }
   ],
   "source": [
    "d_quest1 =[\n",
    "    [\"xxxxx\", 1213],\n",
    "    [\"yyyyy\", 2324]\n",
    "]\n",
    "d_quest1"
   ]
  },
  {
   "cell_type": "code",
   "execution_count": 12,
   "id": "df0f3eb5",
   "metadata": {},
   "outputs": [
    {
     "name": "stdout",
     "output_type": "stream",
     "text": [
      "['yyyyy', 2324]\n"
     ]
    }
   ],
   "source": [
    "import random\n",
    "print(random.choice(d_quest1))"
   ]
  },
  {
   "cell_type": "code",
   "execution_count": null,
   "id": "6f6b306c",
   "metadata": {},
   "outputs": [],
   "source": []
  }
 ],
 "metadata": {
  "kernelspec": {
   "display_name": "Python 3 (ipykernel)",
   "language": "python",
   "name": "python3"
  },
  "language_info": {
   "codemirror_mode": {
    "name": "ipython",
    "version": 3
   },
   "file_extension": ".py",
   "mimetype": "text/x-python",
   "name": "python",
   "nbconvert_exporter": "python",
   "pygments_lexer": "ipython3",
   "version": "3.10.6"
  }
 },
 "nbformat": 4,
 "nbformat_minor": 5
}
