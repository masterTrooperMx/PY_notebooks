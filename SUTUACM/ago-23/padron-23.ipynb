{
 "cells": [
  {
   "cell_type": "code",
   "execution_count": 1,
   "id": "08a20d82",
   "metadata": {},
   "outputs": [],
   "source": [
    "# Manipulación de datos\n",
    "import pandas as pd\n",
    "import numpy as np\n",
    "# Gráficas\n",
    "import seaborn as sns\n",
    "import matplotlib.pyplot as plt"
   ]
  },
  {
   "cell_type": "code",
   "execution_count": 7,
   "id": "1f0d8bfe",
   "metadata": {},
   "outputs": [
    {
     "name": "stdout",
     "output_type": "stream",
     "text": [
      "<class 'pandas.core.frame.DataFrame'>\n",
      "RangeIndex: 561 entries, 0 to 560\n",
      "Data columns (total 4 columns):\n",
      " #   Column    Non-Null Count  Dtype \n",
      "---  ------    --------------  ----- \n",
      " 0   NUM_UACM  561 non-null    int64 \n",
      " 1   CURP      561 non-null    object\n",
      " 2   INE       561 non-null    object\n",
      " 3   NOMBRE    561 non-null    object\n",
      "dtypes: int64(1), object(3)\n",
      "memory usage: 17.7+ KB\n"
     ]
    }
   ],
   "source": [
    "cols = ['NUM_UACM', 'CURP', 'INE', 'NOMBRE']\n",
    "df = pd.read_csv(\"./padron_1.csv\",sep='\\t',usecols= cols)\n",
    "df.info()"
   ]
  },
  {
   "cell_type": "code",
   "execution_count": 8,
   "id": "961e461d",
   "metadata": {},
   "outputs": [
    {
     "data": {
      "text/html": [
       "<div>\n",
       "<style scoped>\n",
       "    .dataframe tbody tr th:only-of-type {\n",
       "        vertical-align: middle;\n",
       "    }\n",
       "\n",
       "    .dataframe tbody tr th {\n",
       "        vertical-align: top;\n",
       "    }\n",
       "\n",
       "    .dataframe thead th {\n",
       "        text-align: right;\n",
       "    }\n",
       "</style>\n",
       "<table border=\"1\" class=\"dataframe\">\n",
       "  <thead>\n",
       "    <tr style=\"text-align: right;\">\n",
       "      <th></th>\n",
       "      <th>NUM_UACM</th>\n",
       "      <th>CURP</th>\n",
       "      <th>INE</th>\n",
       "      <th>NOMBRE</th>\n",
       "    </tr>\n",
       "  </thead>\n",
       "  <tbody>\n",
       "    <tr>\n",
       "      <th>0</th>\n",
       "      <td>2002010007</td>\n",
       "      <td>CXCO720320MNESBL09</td>\n",
       "      <td>SEGOB2186011</td>\n",
       "      <td>CASTRO CABRERA OLAYA MARGARITA</td>\n",
       "    </tr>\n",
       "    <tr>\n",
       "      <th>1</th>\n",
       "      <td>2002010012</td>\n",
       "      <td>CULJ761111HDFRPR03</td>\n",
       "      <td>IDMEX1501316849</td>\n",
       "      <td>CRUZ LOPEZ JORGE LUIS</td>\n",
       "    </tr>\n",
       "    <tr>\n",
       "      <th>2</th>\n",
       "      <td>2002010041</td>\n",
       "      <td>MEFE730214HDFRRD03</td>\n",
       "      <td>IDMEX1556753165</td>\n",
       "      <td>MERINO FERNANDEZ EDGAR</td>\n",
       "    </tr>\n",
       "    <tr>\n",
       "      <th>3</th>\n",
       "      <td>2002010044</td>\n",
       "      <td>MOJV711108HDFRMC08</td>\n",
       "      <td>IDMEX1228630666</td>\n",
       "      <td>MORENO JIMENEZ VICTOR MANUEL</td>\n",
       "    </tr>\n",
       "    <tr>\n",
       "      <th>4</th>\n",
       "      <td>2002010064</td>\n",
       "      <td>TEVM730303HDFRLR08</td>\n",
       "      <td>IDMEX1314563580</td>\n",
       "      <td>TREJO VELAZQUEZ MARCO ANTONIO</td>\n",
       "    </tr>\n",
       "  </tbody>\n",
       "</table>\n",
       "</div>"
      ],
      "text/plain": [
       "     NUM_UACM                CURP              INE  \\\n",
       "0  2002010007  CXCO720320MNESBL09     SEGOB2186011   \n",
       "1  2002010012  CULJ761111HDFRPR03  IDMEX1501316849   \n",
       "2  2002010041  MEFE730214HDFRRD03  IDMEX1556753165   \n",
       "3  2002010044  MOJV711108HDFRMC08  IDMEX1228630666   \n",
       "4  2002010064  TEVM730303HDFRLR08  IDMEX1314563580   \n",
       "\n",
       "                           NOMBRE  \n",
       "0  CASTRO CABRERA OLAYA MARGARITA  \n",
       "1           CRUZ LOPEZ JORGE LUIS  \n",
       "2          MERINO FERNANDEZ EDGAR  \n",
       "3    MORENO JIMENEZ VICTOR MANUEL  \n",
       "4   TREJO VELAZQUEZ MARCO ANTONIO  "
      ]
     },
     "execution_count": 8,
     "metadata": {},
     "output_type": "execute_result"
    }
   ],
   "source": [
    "df.head()"
   ]
  },
  {
   "cell_type": "code",
   "execution_count": null,
   "id": "c58e63c8",
   "metadata": {},
   "outputs": [],
   "source": [
    "# debemos adicionarle el nivel y luego agregar el salario"
   ]
  }
 ],
 "metadata": {
  "kernelspec": {
   "display_name": "Python 3 (ipykernel)",
   "language": "python",
   "name": "python3"
  },
  "language_info": {
   "codemirror_mode": {
    "name": "ipython",
    "version": 3
   },
   "file_extension": ".py",
   "mimetype": "text/x-python",
   "name": "python",
   "nbconvert_exporter": "python",
   "pygments_lexer": "ipython3",
   "version": "3.9.13"
  }
 },
 "nbformat": 4,
 "nbformat_minor": 5
}
