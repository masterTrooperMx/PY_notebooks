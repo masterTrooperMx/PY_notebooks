{
 "cells": [
  {
   "cell_type": "code",
   "execution_count": 20,
   "id": "4cfc1bd0",
   "metadata": {},
   "outputs": [],
   "source": [
    "# modules\n",
    "import random\n",
    "import string\n"
   ]
  },
  {
   "cell_type": "code",
   "execution_count": 105,
   "id": "f428854c",
   "metadata": {},
   "outputs": [],
   "source": [
    "# functions used\n",
    "# check if len divs limit\n",
    "def div_by (num_mod, num_in):\n",
    "    str_ok = \"OK\"\n",
    "    if (num_in % num_mod == 0):\n",
    "        print('OK len')\n",
    "    else:\n",
    "        print('NO OK len', num_in)\n",
    "        str_ok = \"NOK\"\n",
    "        \n",
    "    return str_ok\n",
    "# add chars so it divs limit\n",
    "def add_chars(mess, num_mod):\n",
    "    while True:\n",
    "        num_in = len(mess)\n",
    "        new_char = random.choice(string.ascii_letters)\n",
    "        mess.append(new_char)\n",
    "        if (div_by(4, len(mess)) == \"OK\"):\n",
    "            break\n",
    "            \n",
    "    return mess\n",
    "# pickup chars in a specific order\n",
    "def pick_chars(mess, even_odd):\n",
    "    ls_tmp = []\n",
    "    # even == 1 odd == 0\n",
    "    for c in range(len(mess)):\n",
    "        if (c%2 == even_odd):\n",
    "            ls_tmp.append(mess[c])\n",
    "            \n",
    "    return ls_tmp\n",
    "# print string in group of letters\n",
    "def print_groups(mess, group):\n",
    "    i = 0\n",
    "    tmp = []\n",
    "    ret = []\n",
    "    for c in range(len(mess)):\n",
    "        if (i % group == 0) and (i >= 0):\n",
    "            ret.append(tmp)\n",
    "            tmp = []\n",
    "            tmp.append(mess[i])\n",
    "        elif (i % group > 0) and (i > 0):\n",
    "            tmp.append(mess[i])\n",
    "        #else:                      \n",
    "        i = i+1\n",
    "    ret.append(tmp)    \n",
    "    return ret\n",
    "# rail_fence_cipher\n",
    "# get a string, returns a list of lists\n",
    "def rail_fence_cipher(mess):\n",
    "    # code\n",
    "    # remove spaces\n",
    "    pmessage = message.replace(' ','')\n",
    "    # convert to list\n",
    "    ls_message = [*pmessage]\n",
    "    print(ls_message)\n",
    "    # check length of message\n",
    "    #print(div_by(4,len(ls_message)))\n",
    "    if div_by(mod_num,len(ls_message)) == \"NOK\":\n",
    "        add_chars(ls_message, mod_num)\n",
    "    # create fences\n",
    "    print(ls_message)\n",
    "    upper = pick_chars(ls_message,1)\n",
    "    lower = pick_chars(ls_message,0)\n",
    "    print(lower, upper)\n",
    "    # finish up\n",
    "    pmessage = ''.join(lower) + ''.join(upper)\n",
    "    print(pmessage)\n",
    "    return pmessage\n",
    "# rail_fence_decipher\n",
    "# get a list of lists, returns a string\n",
    "def rail_fence_decipher(mess):\n",
    "    print(mess)\n",
    "    dcmess = \"\"\n",
    "    str_tmp = \"\"\n",
    "    # remove empty elems of list\n",
    "    #mess = [ele for ele in mess if ele != []]\n",
    "    if (div_by(2, len(mess)) == \"OK\"):\n",
    "        upper = mess[:int(len(mess)/2)]\n",
    "        lower = mess[int(len(mess)/2):]\n",
    "        # combine\n",
    "        #print(upper, lower)\n",
    "        for c in range(len(upper)):\n",
    "            dcmess += upper[c] + lower[c]\n",
    "    return dcmess"
   ]
  },
  {
   "cell_type": "code",
   "execution_count": 106,
   "id": "65d56340",
   "metadata": {},
   "outputs": [
    {
     "name": "stdout",
     "output_type": "stream",
     "text": [
      "['M', 'E', 'E', 'T', 'M', 'E', 'T', 'O', 'N', 'I', 'G', 'H', 'T']\n",
      "NO OK len 13\n",
      "NO OK len 14\n",
      "NO OK len 15\n",
      "OK len\n",
      "['M', 'E', 'E', 'T', 'M', 'E', 'T', 'O', 'N', 'I', 'G', 'H', 'T', 'j', 'S', 'g']\n",
      "['M', 'E', 'M', 'T', 'N', 'G', 'T', 'S'] ['E', 'T', 'E', 'O', 'I', 'H', 'j', 'g']\n",
      "MEMTNGTSETEOIHjg\n",
      "[[], ['M', 'E', 'M', 'T'], ['N', 'G', 'T', 'S'], ['E', 'T', 'E', 'O'], ['I', 'H', 'j', 'g']]\n"
     ]
    }
   ],
   "source": [
    "# rail_fence cipher\n",
    "# original message    \n",
    "message = \"MEET ME TONIGHT\"\n",
    "# prepare message\n",
    "mod_num = 4\n",
    "cmessage = rail_fence_cipher(message)\n",
    "\n",
    "print(print_groups(cmessage,mod_num))"
   ]
  },
  {
   "cell_type": "code",
   "execution_count": 107,
   "id": "fa738154",
   "metadata": {},
   "outputs": [
    {
     "name": "stdout",
     "output_type": "stream",
     "text": [
      "MEMTNGTSETEOIHjg\n",
      "OK len\n",
      "MEETMETONIGHTjSg\n"
     ]
    }
   ],
   "source": [
    "# rail_fence decipher\n",
    "dcmessage = rail_fence_decipher(cmessage)\n",
    "print(dcmessage)"
   ]
  },
  {
   "cell_type": "code",
   "execution_count": null,
   "id": "c8ff57a8",
   "metadata": {},
   "outputs": [],
   "source": [
    "# Riddle 1\n"
   ]
  }
 ],
 "metadata": {
  "kernelspec": {
   "display_name": "Python 3 (ipykernel)",
   "language": "python",
   "name": "python3"
  },
  "language_info": {
   "codemirror_mode": {
    "name": "ipython",
    "version": 3
   },
   "file_extension": ".py",
   "mimetype": "text/x-python",
   "name": "python",
   "nbconvert_exporter": "python",
   "pygments_lexer": "ipython3",
   "version": "3.10.6"
  }
 },
 "nbformat": 4,
 "nbformat_minor": 5
}
