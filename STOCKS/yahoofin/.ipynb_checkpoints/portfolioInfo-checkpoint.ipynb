{
 "cells": [
  {
   "cell_type": "code",
   "execution_count": 1,
   "id": "a8941d34",
   "metadata": {},
   "outputs": [],
   "source": [
    "#pip install yfinance\n",
    "import pandas  as pd #Data manipulation\n",
    "import numpy as np #Data manipulation\n",
    "import yfinance as yf\n",
    "#from yahoofinancials import YahooFinancials"
   ]
  },
  {
   "cell_type": "code",
   "execution_count": 3,
   "id": "96600acb",
   "metadata": {},
   "outputs": [
    {
     "name": "stderr",
     "output_type": "stream",
     "text": [
      "[*********************100%%**********************]  3 of 3 completed\n",
      "\n",
      "1 Failed download:\n",
      "['IVVPESO_ISHRS.MX']: YFTzMissingError('$%ticker%: possibly delisted; No timezone found')\n"
     ]
    },
    {
     "name": "stdout",
     "output_type": "stream",
     "text": [
      "Price        Adj Close                                   Close  \\\n",
      "Ticker     GENIUS21.MX IVVPESO_ISHRS.MX  WALMEX.MX GENIUS21.MX   \n",
      "Date                                                             \n",
      "2024-01-02   53.290001              NaN  71.860001   53.290001   \n",
      "2024-01-03   52.880001              NaN  69.800003   52.880001   \n",
      "2024-01-04   52.930000              NaN  70.059998   52.930000   \n",
      "2024-01-05   52.919998              NaN  69.540001   52.919998   \n",
      "2024-01-08   54.380001              NaN  70.110001   54.380001   \n",
      "...                ...              ...        ...         ...   \n",
      "2024-09-23   91.919998              NaN  60.490002   91.919998   \n",
      "2024-09-24   92.110001              NaN  61.790001   92.110001   \n",
      "2024-09-25   93.739998              NaN  60.570000   93.739998   \n",
      "2024-09-26   93.940002              NaN  59.610001   93.940002   \n",
      "2024-09-27   93.500000              NaN  58.130001   93.500000   \n",
      "\n",
      "Price                                         High                   \\\n",
      "Ticker     IVVPESO_ISHRS.MX  WALMEX.MX GENIUS21.MX IVVPESO_ISHRS.MX   \n",
      "Date                                                                  \n",
      "2024-01-02              NaN  71.860001   53.290001              NaN   \n",
      "2024-01-03              NaN  69.800003   52.880001              NaN   \n",
      "2024-01-04              NaN  70.059998   52.930000              NaN   \n",
      "2024-01-05              NaN  69.540001   52.919998              NaN   \n",
      "2024-01-08              NaN  70.110001   54.380001              NaN   \n",
      "...                     ...        ...         ...              ...   \n",
      "2024-09-23              NaN  60.490002   91.919998              NaN   \n",
      "2024-09-24              NaN  61.790001   92.110001              NaN   \n",
      "2024-09-25              NaN  60.570000   93.739998              NaN   \n",
      "2024-09-26              NaN  59.610001   93.940002              NaN   \n",
      "2024-09-27              NaN  58.130001   93.870003              NaN   \n",
      "\n",
      "Price                         Low                                    Open  \\\n",
      "Ticker      WALMEX.MX GENIUS21.MX IVVPESO_ISHRS.MX  WALMEX.MX GENIUS21.MX   \n",
      "Date                                                                        \n",
      "2024-01-02  71.970001   53.290001              NaN  70.949997   53.290001   \n",
      "2024-01-03  71.510002   52.880001              NaN  69.599998   52.880001   \n",
      "2024-01-04  70.709999   52.930000              NaN  69.809998   52.930000   \n",
      "2024-01-05  70.930000   52.919998              NaN  68.879997   52.919998   \n",
      "2024-01-08  70.370003   54.380001              NaN  69.480003   54.380001   \n",
      "...               ...         ...              ...        ...         ...   \n",
      "2024-09-23  60.990002   91.919998              NaN  60.110001   91.919998   \n",
      "2024-09-24  62.189999   92.110001              NaN  60.680000   92.110001   \n",
      "2024-09-25  62.200001   93.739998              NaN  60.520000   93.739998   \n",
      "2024-09-26  61.459999   93.940002              NaN  59.599998   93.940002   \n",
      "2024-09-27  59.980000   93.870003              NaN  58.040001   93.870003   \n",
      "\n",
      "Price                                       Volume                             \n",
      "Ticker     IVVPESO_ISHRS.MX  WALMEX.MX GENIUS21.MX IVVPESO_ISHRS.MX WALMEX.MX  \n",
      "Date                                                                           \n",
      "2024-01-02              NaN  71.500000         0.0              NaN   5498962  \n",
      "2024-01-03              NaN  71.510002         0.0              NaN  20301439  \n",
      "2024-01-04              NaN  69.879997         0.0              NaN  13305964  \n",
      "2024-01-05              NaN  70.040001         0.0              NaN  11655778  \n",
      "2024-01-08              NaN  69.800003         0.0              NaN   7372747  \n",
      "...                     ...        ...         ...              ...       ...  \n",
      "2024-09-23              NaN  60.980000         0.0              NaN  12173721  \n",
      "2024-09-24              NaN  60.889999         0.0              NaN  22890349  \n",
      "2024-09-25              NaN  61.400002         0.0              NaN  23528806  \n",
      "2024-09-26              NaN  60.990002         0.0              NaN  25936676  \n",
      "2024-09-27              NaN  59.799999       733.0              NaN  29487695  \n",
      "\n",
      "[188 rows x 18 columns]\n"
     ]
    }
   ],
   "source": [
    "# Lista de símbolos de las acciones en tu portafolio Mexico\n",
    "tickers = ['IVVPESO_ISHRS.MX', 'WALMEX.MX', 'GENIUS21.MX']  # Reemplaza con los símbolos de tus acciones\n",
    "\n",
    "# Descargar datos históricos de las acciones\n",
    "data = yf.download(tickers, start=\"2024-01-01\")\n",
    "\n",
    "# Mostrar datos\n",
    "print(data)\n",
    "\n",
    "# Guardar datos en un archivo CSV\n",
    "data.to_csv('historical_data_mx.csv')"
   ]
  },
  {
   "cell_type": "code",
   "execution_count": null,
   "id": "d5644c7a",
   "metadata": {},
   "outputs": [],
   "source": []
  }
 ],
 "metadata": {
  "kernelspec": {
   "display_name": "Python 3 (ipykernel)",
   "language": "python",
   "name": "python3"
  },
  "language_info": {
   "codemirror_mode": {
    "name": "ipython",
    "version": 3
   },
   "file_extension": ".py",
   "mimetype": "text/x-python",
   "name": "python",
   "nbconvert_exporter": "python",
   "pygments_lexer": "ipython3",
   "version": "3.9.13"
  }
 },
 "nbformat": 4,
 "nbformat_minor": 5
}
