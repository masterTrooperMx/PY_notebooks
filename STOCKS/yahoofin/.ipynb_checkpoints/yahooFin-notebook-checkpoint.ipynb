{
 "cells": [
  {
   "cell_type": "code",
   "execution_count": 3,
   "metadata": {},
   "outputs": [
    {
     "name": "stdout",
     "output_type": "stream",
     "text": [
      "Requirement already satisfied: yfinance in /usr/local/lib/python3.11/site-packages (0.2.32)\n",
      "Requirement already satisfied: pandas>=1.3.0 in /usr/local/lib/python3.11/site-packages (from yfinance) (1.5.3)\n",
      "Requirement already satisfied: numpy>=1.16.5 in /usr/local/lib/python3.11/site-packages (from yfinance) (1.25.0)\n",
      "Requirement already satisfied: requests>=2.31 in /usr/local/lib/python3.11/site-packages (from yfinance) (2.31.0)\n",
      "Requirement already satisfied: multitasking>=0.0.7 in /usr/local/lib/python3.11/site-packages (from yfinance) (0.0.11)\n",
      "Requirement already satisfied: lxml>=4.9.1 in /usr/local/lib/python3.11/site-packages (from yfinance) (4.9.3)\n",
      "Requirement already satisfied: appdirs>=1.4.4 in /usr/local/lib/python3.11/site-packages (from yfinance) (1.4.4)\n",
      "Requirement already satisfied: pytz>=2022.5 in /usr/local/lib/python3.11/site-packages (from yfinance) (2023.3)\n",
      "Requirement already satisfied: frozendict>=2.3.4 in /usr/local/lib/python3.11/site-packages (from yfinance) (2.3.8)\n",
      "Requirement already satisfied: peewee>=3.16.2 in /usr/local/lib/python3.11/site-packages (from yfinance) (3.17.0)\n",
      "Requirement already satisfied: beautifulsoup4>=4.11.1 in /usr/local/lib/python3.11/site-packages (from yfinance) (4.12.2)\n",
      "Requirement already satisfied: html5lib>=1.1 in /usr/local/lib/python3.11/site-packages (from yfinance) (1.1)\n",
      "Requirement already satisfied: soupsieve>1.2 in /usr/local/lib/python3.11/site-packages (from beautifulsoup4>=4.11.1->yfinance) (2.5)\n",
      "Requirement already satisfied: six>=1.9 in /usr/local/lib/python3.11/site-packages (from html5lib>=1.1->yfinance) (1.16.0)\n",
      "Requirement already satisfied: webencodings in /usr/local/lib/python3.11/site-packages (from html5lib>=1.1->yfinance) (0.5.1)\n",
      "Requirement already satisfied: python-dateutil>=2.8.1 in /usr/local/lib/python3.11/site-packages (from pandas>=1.3.0->yfinance) (2.8.2)\n",
      "Requirement already satisfied: charset-normalizer<4,>=2 in /usr/local/lib/python3.11/site-packages (from requests>=2.31->yfinance) (3.3.2)\n",
      "Requirement already satisfied: idna<4,>=2.5 in /usr/local/lib/python3.11/site-packages (from requests>=2.31->yfinance) (3.4)\n",
      "Requirement already satisfied: urllib3<3,>=1.21.1 in /usr/local/lib/python3.11/site-packages (from requests>=2.31->yfinance) (2.1.0)\n",
      "Requirement already satisfied: certifi>=2017.4.17 in /usr/local/lib/python3.11/site-packages (from requests>=2.31->yfinance) (2023.11.17)\n"
     ]
    }
   ],
   "source": [
    "!pip install yfinance"
   ]
  },
  {
   "cell_type": "code",
   "execution_count": 5,
   "metadata": {},
   "outputs": [
    {
     "ename": "ModuleNotFoundError",
     "evalue": "No module named 'yfinance'",
     "output_type": "error",
     "traceback": [
      "\u001b[0;31m---------------------------------------------------------------------------\u001b[0m",
      "\u001b[0;31mModuleNotFoundError\u001b[0m                       Traceback (most recent call last)",
      "\u001b[0;32m/var/folders/s8/2lk1tq9d6_31q71bjqgm6kk40000gn/T/ipykernel_12522/608350766.py\u001b[0m in \u001b[0;36m<module>\u001b[0;34m\u001b[0m\n\u001b[1;32m      2\u001b[0m \u001b[0;32mimport\u001b[0m \u001b[0mpandas\u001b[0m  \u001b[0;32mas\u001b[0m \u001b[0mpd\u001b[0m \u001b[0;31m#Data manipulation\u001b[0m\u001b[0;34m\u001b[0m\u001b[0;34m\u001b[0m\u001b[0m\n\u001b[1;32m      3\u001b[0m \u001b[0;32mimport\u001b[0m \u001b[0mnumpy\u001b[0m \u001b[0;32mas\u001b[0m \u001b[0mnp\u001b[0m \u001b[0;31m#Data manipulation\u001b[0m\u001b[0;34m\u001b[0m\u001b[0;34m\u001b[0m\u001b[0m\n\u001b[0;32m----> 4\u001b[0;31m \u001b[0;32mimport\u001b[0m \u001b[0myfinance\u001b[0m \u001b[0;32mas\u001b[0m \u001b[0myf\u001b[0m\u001b[0;34m\u001b[0m\u001b[0;34m\u001b[0m\u001b[0m\n\u001b[0m\u001b[1;32m      5\u001b[0m \u001b[0;31m#from yahoofinancials import YahooFinancials\u001b[0m\u001b[0;34m\u001b[0m\u001b[0;34m\u001b[0m\u001b[0m\n",
      "\u001b[0;31mModuleNotFoundError\u001b[0m: No module named 'yfinance'"
     ]
    }
   ],
   "source": [
    "#pip install yfinance\n",
    "import pandas  as pd #Data manipulation\n",
    "import numpy as np #Data manipulation\n",
    "import yfinance as yf\n",
    "#from yahoofinancials import YahooFinancials"
   ]
  },
  {
   "cell_type": "code",
   "execution_count": null,
   "metadata": {},
   "outputs": [],
   "source": [
    "# also\n",
    "# yf.download(tickers = symbol, start = start, end = end)\n",
    "symbol = 'AAPL'\n",
    "aapl_df = yf.download(tickers=symbol)\n",
    "aapl_df.head()"
   ]
  },
  {
   "cell_type": "code",
   "execution_count": null,
   "metadata": {},
   "outputs": [],
   "source": [
    "# check we don't have nulls\n",
    "aapl_df.info()"
   ]
  },
  {
   "cell_type": "code",
   "execution_count": null,
   "metadata": {},
   "outputs": [],
   "source": [
    "# pip install matplotlib\n",
    "import matplotlib.pyplot as plt # Visualization\n",
    "aapl_df['Close'].plot(title='Apple historic')"
   ]
  },
  {
   "cell_type": "code",
   "execution_count": null,
   "metadata": {},
   "outputs": [],
   "source": [
    "aapl_df_2022 = aapl_df.loc['2022-01-01' : '2022-12-31']\n",
    "aapl_df_2022.head()"
   ]
  },
  {
   "cell_type": "code",
   "execution_count": null,
   "metadata": {},
   "outputs": [],
   "source": [
    "aapl_df_2022['Close'].plot(title='Apple historic 2022')"
   ]
  },
  {
   "cell_type": "code",
   "execution_count": null,
   "metadata": {},
   "outputs": [],
   "source": [
    "aapl_df_2023 = aapl_df.loc['2023-01-01' : '2023-12-31']\n",
    "aapl_df_2023['Close'].plot(title='Apple historic 2023')"
   ]
  },
  {
   "cell_type": "code",
   "execution_count": null,
   "metadata": {},
   "outputs": [],
   "source": [
    "aapl_df_2020_2023 = aapl_df.loc['2020-01-01' : '2023-12-31']\n",
    "aapl_df_2020_2023['Close'].plot(title='Apple historic 2020-2023')"
   ]
  },
  {
   "cell_type": "code",
   "execution_count": null,
   "metadata": {},
   "outputs": [],
   "source": [
    "# https://coderzcolumn.com/tutorials/data-science/candlestick-chart-in-python-mplfinance-plotly-bokeh#2\n",
    "# pip install plotly\n",
    "# pip install --upgrade nbformat\n",
    "import plotly.graph_objects as go\n",
    "from datetime import datetime\n",
    "\n",
    "df = aapl_df_2020_2023\n",
    "\n",
    "fig = go.Figure(data=[go.Candlestick(x=df.index,\n",
    "                open=df['Open'],\n",
    "                high=df['High'],\n",
    "                low=df['Low'],\n",
    "                close=df['Close'])])\n",
    "\n",
    "fig.show()"
   ]
  },
  {
   "cell_type": "code",
   "execution_count": null,
   "metadata": {},
   "outputs": [],
   "source": [
    "# with SMA and no EMA index\n",
    "candlestick = go.Candlestick(\n",
    "                            x=df.index,\n",
    "                            open=df['Open'],\n",
    "                            high=df['High'],\n",
    "                            low=df['Low'],\n",
    "                            close=df['Close'],\n",
    "                            showlegend=False,\n",
    "                            increasing_line_color= 'blue', decreasing_line_color= 'orange',\n",
    "                            )\n",
    "\n",
    "sma = go.Scatter(x=df.index,\n",
    "                 y=df[\"sma\"],\n",
    "                 yaxis=\"y1\",\n",
    "                 name=\"SMA\"\n",
    "                )\n",
    "#ema = go.Scatter(x=df.index,\n",
    "#                 y=df[\"EMA\"],\n",
    "#                 name=\"EMA\"\n",
    "#                )\n",
    "\n",
    "#fig = go.Figure(data=[candlestick, sma, ema])\n",
    "fig = go.Figure(data=[candlestick, sma])\n",
    "\n",
    "fig.update_layout(\n",
    "    width=1800, height=1600,\n",
    "    title=\"Apple, Jan, 2020 to Dec, 2023\",\n",
    "    yaxis_title='AAPL Stock',\n",
    ")\n",
    "\n",
    "fig.show()"
   ]
  },
  {
   "cell_type": "code",
   "execution_count": null,
   "metadata": {},
   "outputs": [],
   "source": [
    "aapl_df_2020_2023 = df\n",
    "aapl_df_2023_jan_dec = aapl_df_2020_2023.loc['2023-01-01' : '2023-12-31']\n",
    "aapl_df_2023_jan_dec.head()\n",
    "df = aapl_df_2023_jan_dec\n",
    "\n",
    "# with SMA and no EMA index\n",
    "candlestick = go.Candlestick(\n",
    "                            x=df.index,\n",
    "                            open=df['Open'],\n",
    "                            high=df['High'],\n",
    "                            low=df['Low'],\n",
    "                            close=df['Close'],\n",
    "                            showlegend=False,\n",
    "                            increasing_line_color= 'blue', decreasing_line_color= 'orange',\n",
    "                            )\n",
    "\n",
    "sma = go.Scatter(x=df.index,\n",
    "                 y=df[\"SMA\"],\n",
    "                 yaxis=\"y1\",\n",
    "                 name=\"SMA\"\n",
    "                )\n",
    "#ema = go.Scatter(x=df.index,\n",
    "#                 y=df[\"EMA\"],\n",
    "#                 name=\"EMA\"\n",
    "#                )\n",
    "\n",
    "#fig = go.Figure(data=[candlestick, sma, ema])\n",
    "fig = go.Figure(data=[candlestick, sma])\n",
    "\n",
    "fig.update_layout(\n",
    "    width=1800, height=1600,\n",
    "    title=\"Apple, Jan, 2020 to Dec, 2023\",\n",
    "    yaxis_title='AAPL Stock',\n",
    ")\n",
    "\n",
    "fig.show()"
   ]
  },
  {
   "cell_type": "code",
   "execution_count": null,
   "metadata": {},
   "outputs": [],
   "source": [
    "def plot_candle_sma(dini, dend, df):\n",
    "    df = df.loc[dini.strftime(\"%Y-%m-%d\") : dend.strftime(\"%Y-%m-%d\")]\n",
    "    # with SMA and no EMA index\n",
    "    candlestick = go.Candlestick(\n",
    "                                x=df.index,\n",
    "                                open=df['Open'],\n",
    "                                high=df['High'],\n",
    "                                low=df['Low'],\n",
    "                                close=df['Close'],\n",
    "                                showlegend=False,\n",
    "                                increasing_line_color= 'blue', decreasing_line_color= 'orange',\n",
    "                                )\n",
    "\n",
    "    sma = go.Scatter(x=df.index,\n",
    "                    y=df[\"SMA\"],\n",
    "                    yaxis=\"y1\",\n",
    "                    name=\"SMA\"\n",
    "                    )\n",
    "    #ema = go.Scatter(x=df.index,\n",
    "    #                 y=df[\"EMA\"],\n",
    "    #                 name=\"EMA\"\n",
    "    #                )\n",
    "\n",
    "    #fig = go.Figure(data=[candlestick, sma, ema])\n",
    "    fig = go.Figure(data=[candlestick, sma])\n",
    "\n",
    "    fig.update_layout(\n",
    "        width=1800, height=1600,\n",
    "        title=\"Apple, Jan, 2020 to Dec, 2023\",\n",
    "        yaxis_title='AAPL Stock',\n",
    "    )\n",
    "\n",
    "    fig.show()\n",
    "\n",
    "date_end = datetime.now()\n",
    "date_start = datetime(2023, 9, 1)\n",
    "\n",
    "print(date_end.strftime(\"%Y-%m-%d\"), date_start.strftime(\"%Y-%m-%d\"))\n",
    "plot_candle_sma(date_start, date_end, aapl_df_2023_jan_dec)\n"
   ]
  },
  {
   "cell_type": "code",
   "execution_count": null,
   "metadata": {},
   "outputs": [],
   "source": [
    "# my portfolio\n",
    "# yf.download(tickers = symbol, start = start, end = end)\n",
    "symbol = [\"GENIUS21.MX\", \"BIMBOA.MX\", \"HERDEZ.MX\", \"BOLSAA.MX\", \"IVVPESOISHRS.MX\", \"WALMEX.MX\"]\n",
    "start = \"2023-01-02\" \n",
    "end = datetime.now().strftime(\"%Y-%m-%d\")\n",
    "\n",
    "portfolio_df = yf.download(tickers=symbol, start = start, end = end)\n",
    "portfolio_df.head()\n",
    "portfolio_df.info()"
   ]
  },
  {
   "cell_type": "code",
   "execution_count": null,
   "metadata": {},
   "outputs": [],
   "source": [
    "portfolio_df.to_csv(\"stocks_portfolio.csv\")"
   ]
  },
  {
   "cell_type": "code",
   "execution_count": null,
   "metadata": {},
   "outputs": [],
   "source": [
    "BOLSA_df = portfolio_df.Close[\"BOLSAA.MX\"]\n",
    "BOLSA_df.info()\n",
    "#BOLSA_df.head()"
   ]
  },
  {
   "cell_type": "code",
   "execution_count": null,
   "metadata": {},
   "outputs": [],
   "source": [
    "BOLSA_df.head()"
   ]
  },
  {
   "cell_type": "code",
   "execution_count": null,
   "metadata": {},
   "outputs": [],
   "source": [
    "BOLSA_df.plot()\n",
    "plt.show()"
   ]
  },
  {
   "cell_type": "code",
   "execution_count": null,
   "metadata": {},
   "outputs": [],
   "source": [
    "# interactive plots\n",
    "import cufflinks as cf"
   ]
  },
  {
   "cell_type": "code",
   "execution_count": null,
   "metadata": {},
   "outputs": [],
   "source": [
    "cf.set_config_file(offline = True)\n",
    "BOLSA_df.iplot()"
   ]
  },
  {
   "cell_type": "code",
   "execution_count": null,
   "metadata": {},
   "outputs": [],
   "source": [
    "# now for all dataframe with Close price\n",
    "portfolio_df.Close.iplot()"
   ]
  },
  {
   "cell_type": "code",
   "execution_count": null,
   "metadata": {},
   "outputs": [],
   "source": [
    "ivvpesoishrs = portfolio_df.swaplevel(axis = 1)[\"IVVPESOISHRS.MX\"].copy()\n",
    "ivvpesoishrs.head()"
   ]
  },
  {
   "cell_type": "code",
   "execution_count": null,
   "metadata": {},
   "outputs": [],
   "source": [
    "# ivvpesoishrs.loc[\"2017-05\"].iplot(kind= \"candle\")\n",
    "ivvpesoishrs.loc[\"05-2023\"].iplot(kind= \"candle\", \n",
    "                                  colorscale= \"pubugn\", \n",
    "                                  title= \"IVVPESOISHRS.MX\", \n",
    "                                  xTitle= \"Time\", \n",
    "                                  yTitle= \"Stock Price\")\n"
   ]
  },
  {
   "cell_type": "code",
   "execution_count": null,
   "metadata": {},
   "outputs": [],
   "source": [
    "# same data but with another granullarity (weekly)\n",
    "ivvpesoishrs = portfolio_df.swaplevel(axis = 1)[\"IVVPESOISHRS.MX\"].copy()\n",
    "weekly = ivvpesoishrs.resample(\"W-Fri\").agg({\"Open\":\"first\",\n",
    "                                   \"High\":\"max\",\n",
    "                                   \"Low\":\"min\",\n",
    "                                   \"Close\":\"last\"\n",
    "                                  })\n",
    "weekly.head()"
   ]
  },
  {
   "cell_type": "code",
   "execution_count": null,
   "metadata": {},
   "outputs": [],
   "source": [
    "weekly.loc[\"5-2023\":].iplot(kind= \"candle\")"
   ]
  },
  {
   "cell_type": "code",
   "execution_count": null,
   "metadata": {},
   "outputs": [],
   "source": [
    "# adding more technical stuff\n",
    "ivvpesoishrs.loc[\"09-2023\":].iplot(kind= \"candle\", \n",
    "                                  colorscale= \"pubugn\", \n",
    "                                  title= \"IVVPESOISHRS.MX\", \n",
    "                                  xTitle= \"Time\", \n",
    "                                  yTitle= \"Stock Price\")"
   ]
  },
  {
   "cell_type": "code",
   "execution_count": null,
   "metadata": {},
   "outputs": [],
   "source": [
    "# adding more technical stuff\n",
    "qf = cf.QuantFig(df = ivvpesoishrs.loc[\"09-2023\":])\n",
    "type(qf)\n",
    "\n",
    "qf.iplot(title= \"IVVPESOISHRS.MX\", name = \"MX ETFs\")"
   ]
  },
  {
   "cell_type": "code",
   "execution_count": null,
   "metadata": {},
   "outputs": [],
   "source": [
    "qf = cf.QuantFig(df = ivvpesoishrs.loc[\"09-2023\":])\n",
    "qf.add_volume(colorchange=False)\n",
    "qf.iplot(title= \"IVVPESOISHRS.MX\", name = \"MX ETFs\")"
   ]
  },
  {
   "cell_type": "code",
   "execution_count": null,
   "metadata": {},
   "outputs": [],
   "source": [
    "qf = cf.QuantFig(df = ivvpesoishrs.loc[\"09-2023\":])\n",
    "qf.add_sma(periods=20)\n",
    "qf.add_sma(periods=100)\n",
    "qf.iplot(title= \"IVVPESOISHRS.MX\", name = \"MX ETFs\")"
   ]
  },
  {
   "cell_type": "code",
   "execution_count": null,
   "metadata": {},
   "outputs": [],
   "source": [
    "qf = cf.QuantFig(df = ivvpesoishrs.loc[\"09-2023\":])\n",
    "qf.add_ema(periods=20)\n",
    "qf.add_ema(periods=100)\n",
    "qf.iplot(title= \"IVVPESOISHRS.MX\", name = \"MX ETFs\")"
   ]
  },
  {
   "cell_type": "code",
   "execution_count": null,
   "metadata": {},
   "outputs": [],
   "source": [
    "qf = cf.QuantFig(df = ivvpesoishrs.loc[\"09-2023\":])\n",
    "qf.add_ema(periods=50)\n",
    "qf.add_sma(periods=50)\n",
    "qf.iplot(title= \"IVVPESOISHRS.MX\", name = \"MX ETFs\")"
   ]
  },
  {
   "cell_type": "code",
   "execution_count": null,
   "metadata": {},
   "outputs": [],
   "source": []
  }
 ],
 "metadata": {
  "kernelspec": {
   "display_name": "Python 3 (ipykernel)",
   "language": "python",
   "name": "python3"
  },
  "language_info": {
   "codemirror_mode": {
    "name": "ipython",
    "version": 3
   },
   "file_extension": ".py",
   "mimetype": "text/x-python",
   "name": "python",
   "nbconvert_exporter": "python",
   "pygments_lexer": "ipython3",
   "version": "3.9.13"
  }
 },
 "nbformat": 4,
 "nbformat_minor": 2
}
