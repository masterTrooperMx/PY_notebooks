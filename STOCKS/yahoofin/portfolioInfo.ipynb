{
 "cells": [
  {
   "cell_type": "code",
   "execution_count": 1,
   "id": "3d7de7f0",
   "metadata": {},
   "outputs": [],
   "source": [
    "#pip install yfinance\n",
    "import pandas  as pd #Data manipulation\n",
    "import numpy as np #Data manipulation\n",
    "import yfinance as yf\n",
    "#from yahoofinancials import YahooFinancials"
   ]
  },
  {
   "cell_type": "code",
   "execution_count": 3,
   "id": "cb2e907e",
   "metadata": {},
   "outputs": [
    {
     "name": "stderr",
     "output_type": "stream",
     "text": [
      "[*********************100%%**********************]  3 of 3 completed\n",
      "\n",
      "1 Failed download:\n",
      "['IVVPESO_ISHRS.MX']: YFTzMissingError('$%ticker%: possibly delisted; No timezone found')\n"
     ]
    },
    {
     "name": "stdout",
     "output_type": "stream",
     "text": [
      "Price        Adj Close                                   Close  \\\n",
      "Ticker     GENIUS21.MX IVVPESO_ISHRS.MX  WALMEX.MX GENIUS21.MX   \n",
      "Date                                                             \n",
      "2024-01-02   53.290001              NaN  71.860001   53.290001   \n",
      "2024-01-03   52.880001              NaN  69.800003   52.880001   \n",
      "2024-01-04   52.930000              NaN  70.059998   52.930000   \n",
      "2024-01-05   52.919998              NaN  69.540001   52.919998   \n",
      "2024-01-08   54.380001              NaN  70.110001   54.380001   \n",
      "...                ...              ...        ...         ...   \n",
      "2024-09-23   91.919998              NaN  60.490002   91.919998   \n",
      "2024-09-24   92.110001              NaN  61.790001   92.110001   \n",
      "2024-09-25   93.739998              NaN  60.570000   93.739998   \n",
      "2024-09-26   93.940002              NaN  59.610001   93.940002   \n",
      "2024-09-27   93.500000              NaN  58.130001   93.500000   \n",
      "\n",
      "Price                                         High                   \\\n",
      "Ticker     IVVPESO_ISHRS.MX  WALMEX.MX GENIUS21.MX IVVPESO_ISHRS.MX   \n",
      "Date                                                                  \n",
      "2024-01-02              NaN  71.860001   53.290001              NaN   \n",
      "2024-01-03              NaN  69.800003   52.880001              NaN   \n",
      "2024-01-04              NaN  70.059998   52.930000              NaN   \n",
      "2024-01-05              NaN  69.540001   52.919998              NaN   \n",
      "2024-01-08              NaN  70.110001   54.380001              NaN   \n",
      "...                     ...        ...         ...              ...   \n",
      "2024-09-23              NaN  60.490002   91.919998              NaN   \n",
      "2024-09-24              NaN  61.790001   92.110001              NaN   \n",
      "2024-09-25              NaN  60.570000   93.739998              NaN   \n",
      "2024-09-26              NaN  59.610001   93.940002              NaN   \n",
      "2024-09-27              NaN  58.130001   93.870003              NaN   \n",
      "\n",
      "Price                         Low                                    Open  \\\n",
      "Ticker      WALMEX.MX GENIUS21.MX IVVPESO_ISHRS.MX  WALMEX.MX GENIUS21.MX   \n",
      "Date                                                                        \n",
      "2024-01-02  71.970001   53.290001              NaN  70.949997   53.290001   \n",
      "2024-01-03  71.510002   52.880001              NaN  69.599998   52.880001   \n",
      "2024-01-04  70.709999   52.930000              NaN  69.809998   52.930000   \n",
      "2024-01-05  70.930000   52.919998              NaN  68.879997   52.919998   \n",
      "2024-01-08  70.370003   54.380001              NaN  69.480003   54.380001   \n",
      "...               ...         ...              ...        ...         ...   \n",
      "2024-09-23  60.990002   91.919998              NaN  60.110001   91.919998   \n",
      "2024-09-24  62.189999   92.110001              NaN  60.680000   92.110001   \n",
      "2024-09-25  62.200001   93.739998              NaN  60.520000   93.739998   \n",
      "2024-09-26  61.459999   93.940002              NaN  59.599998   93.940002   \n",
      "2024-09-27  59.980000   93.870003              NaN  58.040001   93.870003   \n",
      "\n",
      "Price                                       Volume                             \n",
      "Ticker     IVVPESO_ISHRS.MX  WALMEX.MX GENIUS21.MX IVVPESO_ISHRS.MX WALMEX.MX  \n",
      "Date                                                                           \n",
      "2024-01-02              NaN  71.500000         0.0              NaN   5498962  \n",
      "2024-01-03              NaN  71.510002         0.0              NaN  20301439  \n",
      "2024-01-04              NaN  69.879997         0.0              NaN  13305964  \n",
      "2024-01-05              NaN  70.040001         0.0              NaN  11655778  \n",
      "2024-01-08              NaN  69.800003         0.0              NaN   7372747  \n",
      "...                     ...        ...         ...              ...       ...  \n",
      "2024-09-23              NaN  60.980000         0.0              NaN  12173721  \n",
      "2024-09-24              NaN  60.889999         0.0              NaN  22890349  \n",
      "2024-09-25              NaN  61.400002         0.0              NaN  23528806  \n",
      "2024-09-26              NaN  60.990002         0.0              NaN  25936676  \n",
      "2024-09-27              NaN  59.799999       733.0              NaN  29487695  \n",
      "\n",
      "[188 rows x 18 columns]\n"
     ]
    }
   ],
   "source": [
    "# Lista de símbolos de las acciones en tu portafolio Mexico\n",
    "tickers = ['IVVPESO_ISHRS.MX', 'WALMEX.MX', 'GENIUS21.MX']  # Reemplaza con los símbolos de tus acciones\n",
    "\n",
    "# Descargar datos históricos de las acciones\n",
    "data = yf.download(tickers, start=\"2024-01-01\")\n",
    "\n",
    "# Mostrar datos\n",
    "print(data)\n",
    "\n",
    "# Guardar datos en un archivo CSV\n",
    "data.to_csv('historical_data_mx.csv')"
   ]
  },
  {
   "cell_type": "code",
   "execution_count": 4,
   "id": "42e329cc",
   "metadata": {},
   "outputs": [
    {
     "name": "stderr",
     "output_type": "stream",
     "text": [
      "[*********************100%%**********************]  9 of 9 completed"
     ]
    },
    {
     "name": "stdout",
     "output_type": "stream",
     "text": [
      "Price        Adj Close                                                 \\\n",
      "Ticker            AMZN         AWK       CHWY         FDX        MSFT   \n",
      "Date                                                                    \n",
      "2024-01-02  149.929993  131.280807  22.350000  248.387589  368.854095   \n",
      "2024-01-03  148.470001  131.280807  20.879999  243.857834  368.585571   \n",
      "2024-01-04  144.570007  129.560028  20.730000  241.543716  365.940002   \n",
      "2024-01-05  145.240005  129.687851  20.430000  243.040512  365.751038   \n",
      "2024-01-08  149.100006  130.818649  20.690001  244.793320  372.653351   \n",
      "...                ...         ...        ...         ...         ...   \n",
      "2024-09-23  193.880005  147.539993  29.870001  258.790009  433.510010   \n",
      "2024-09-24  193.960007  145.039993  29.520000  267.130005  429.170013   \n",
      "2024-09-25  192.529999  144.119995  29.350000  263.769989  432.109985   \n",
      "2024-09-26  191.160004  143.179993  29.629999  266.329987  431.309998   \n",
      "2024-09-27  187.970001  144.929993  29.959999  267.549988  428.019989   \n",
      "\n",
      "Price                                                       Close  ...   Open  \\\n",
      "Ticker            NFLX        NVDA        ORCL   XXII        AMZN  ...   XXII   \n",
      "Date                                                               ...          \n",
      "2024-01-02  468.500000   48.157665  103.033989  2.880  149.929993  ...  2.912   \n",
      "2024-01-03  470.260010   47.558796  101.449760  2.736  148.470001  ...  2.720   \n",
      "2024-01-04  474.670013   47.987705  101.578476  2.752  144.570007  ...  2.672   \n",
      "2024-01-05  474.059998   49.086464  101.717102  2.880  145.240005  ...  2.768   \n",
      "2024-01-08  485.029999   52.241787  103.628075  3.088  149.100006  ...  2.912   \n",
      "...                ...         ...         ...    ...         ...  ...    ...   \n",
      "2024-09-23  705.369995  116.260002  165.949997  0.288  193.880005  ...  0.263   \n",
      "2024-09-24  722.260010  120.870003  165.800003  0.283  193.960007  ...  0.304   \n",
      "2024-09-25  721.559998  123.510002  166.279999  0.275  192.529999  ...  0.296   \n",
      "2024-09-26  711.429993  124.040001  168.100006  0.253  191.160004  ...  0.277   \n",
      "2024-09-27  707.349976  121.400002  168.740005  0.228  187.970001  ...  0.260   \n",
      "\n",
      "Price         Volume                                                 \\\n",
      "Ticker          AMZN      AWK      CHWY      FDX      MSFT     NFLX   \n",
      "Date                                                                  \n",
      "2024-01-02  47339400  1132400  11173000  2488000  25258600  5049400   \n",
      "2024-01-03  49425500   998800   9263600  2949900  23083500  3443700   \n",
      "2024-01-04  56039800   816400   6583400  2911800  20901500  3636500   \n",
      "2024-01-05  45124800   862100   5888400  2267600  20987000  2612500   \n",
      "2024-01-08  46757100  1026400   6493200  2226700  23134000  3675800   \n",
      "...              ...      ...       ...      ...       ...      ...   \n",
      "2024-09-23  36993100   814900   4649700  3730600  15128900  3224300   \n",
      "2024-09-24  43478900  1838800   4224900  4109000  17015800  3565700   \n",
      "2024-09-25  26391100  1082300   4415100  2593700  13396400  2259800   \n",
      "2024-09-26  36334900   938600   4157200  1862400  14492000  2833000   \n",
      "2024-09-27  35964900   796600   4021791  1818200  14888600  2395100   \n",
      "\n",
      "Price                                    \n",
      "Ticker           NVDA     ORCL     XXII  \n",
      "Date                                     \n",
      "2024-01-02  411254000  9597500    66600  \n",
      "2024-01-03  320896000  9455600    41181  \n",
      "2024-01-04  306535000  6822300    53419  \n",
      "2024-01-05  415039000  6131500    94963  \n",
      "2024-01-08  642510000  7038700   126575  \n",
      "...               ...      ...      ...  \n",
      "2024-09-23  206228500  7916100  2536900  \n",
      "2024-09-24  354966800  6155100  2025000  \n",
      "2024-09-25  284692900  7142400  1514800  \n",
      "2024-09-26  302582900  7096800  1668700  \n",
      "2024-09-27  270161000  8971900  3129100  \n",
      "\n",
      "[187 rows x 54 columns]\n"
     ]
    },
    {
     "name": "stderr",
     "output_type": "stream",
     "text": [
      "\n"
     ]
    }
   ],
   "source": [
    "# Lista de símbolos de las acciones en tu portafolio USA\n",
    "tickers = ['AMZN', 'AWK', 'CHWY', 'FDX', 'MSFT', 'NFLX', 'NVDA', 'ORCL', 'XXII']  # Reemplaza con los símbolos de tus acciones\n",
    "\n",
    "# Descargar datos históricos de las acciones\n",
    "data = yf.download(tickers, start=\"2024-01-01\")\n",
    "\n",
    "# Mostrar datos\n",
    "print(data)\n",
    "\n",
    "# Guardar datos en un archivo CSV\n",
    "data.to_csv('historical_data_usa.csv')"
   ]
  },
  {
   "cell_type": "code",
   "execution_count": null,
   "id": "9c2d6953",
   "metadata": {},
   "outputs": [],
   "source": []
  }
 ],
 "metadata": {
  "kernelspec": {
   "display_name": "Python 3 (ipykernel)",
   "language": "python",
   "name": "python3"
  },
  "language_info": {
   "codemirror_mode": {
    "name": "ipython",
    "version": 3
   },
   "file_extension": ".py",
   "mimetype": "text/x-python",
   "name": "python",
   "nbconvert_exporter": "python",
   "pygments_lexer": "ipython3",
   "version": "3.9.13"
  }
 },
 "nbformat": 4,
 "nbformat_minor": 5
}
