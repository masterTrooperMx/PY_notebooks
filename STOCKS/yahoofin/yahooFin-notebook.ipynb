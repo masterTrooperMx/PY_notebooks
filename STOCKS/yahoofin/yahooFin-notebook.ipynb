{
 "cells": [
  {
   "cell_type": "code",
   "execution_count": 3,
   "metadata": {},
   "outputs": [],
   "source": [
    "import pandas  as pd #Data manipulation\n",
    "import numpy as np #Data manipulation\n",
    "import yfinance as yf\n",
    "from yahoofinancials import YahooFinancials"
   ]
  },
  {
   "cell_type": "code",
   "execution_count": 4,
   "metadata": {},
   "outputs": [
    {
     "name": "stdout",
     "output_type": "stream",
     "text": [
      "[*********************100%%**********************]  1 of 1 completed\n"
     ]
    },
    {
     "data": {
      "text/html": [
       "<div>\n",
       "<style scoped>\n",
       "    .dataframe tbody tr th:only-of-type {\n",
       "        vertical-align: middle;\n",
       "    }\n",
       "\n",
       "    .dataframe tbody tr th {\n",
       "        vertical-align: top;\n",
       "    }\n",
       "\n",
       "    .dataframe thead th {\n",
       "        text-align: right;\n",
       "    }\n",
       "</style>\n",
       "<table border=\"1\" class=\"dataframe\">\n",
       "  <thead>\n",
       "    <tr style=\"text-align: right;\">\n",
       "      <th></th>\n",
       "      <th>Open</th>\n",
       "      <th>High</th>\n",
       "      <th>Low</th>\n",
       "      <th>Close</th>\n",
       "      <th>Adj Close</th>\n",
       "      <th>Volume</th>\n",
       "    </tr>\n",
       "    <tr>\n",
       "      <th>Date</th>\n",
       "      <th></th>\n",
       "      <th></th>\n",
       "      <th></th>\n",
       "      <th></th>\n",
       "      <th></th>\n",
       "      <th></th>\n",
       "    </tr>\n",
       "  </thead>\n",
       "  <tbody>\n",
       "    <tr>\n",
       "      <th>1980-12-12</th>\n",
       "      <td>0.128348</td>\n",
       "      <td>0.128906</td>\n",
       "      <td>0.128348</td>\n",
       "      <td>0.128348</td>\n",
       "      <td>0.099450</td>\n",
       "      <td>469033600</td>\n",
       "    </tr>\n",
       "    <tr>\n",
       "      <th>1980-12-15</th>\n",
       "      <td>0.122210</td>\n",
       "      <td>0.122210</td>\n",
       "      <td>0.121652</td>\n",
       "      <td>0.121652</td>\n",
       "      <td>0.094261</td>\n",
       "      <td>175884800</td>\n",
       "    </tr>\n",
       "    <tr>\n",
       "      <th>1980-12-16</th>\n",
       "      <td>0.113281</td>\n",
       "      <td>0.113281</td>\n",
       "      <td>0.112723</td>\n",
       "      <td>0.112723</td>\n",
       "      <td>0.087343</td>\n",
       "      <td>105728000</td>\n",
       "    </tr>\n",
       "    <tr>\n",
       "      <th>1980-12-17</th>\n",
       "      <td>0.115513</td>\n",
       "      <td>0.116071</td>\n",
       "      <td>0.115513</td>\n",
       "      <td>0.115513</td>\n",
       "      <td>0.089504</td>\n",
       "      <td>86441600</td>\n",
       "    </tr>\n",
       "    <tr>\n",
       "      <th>1980-12-18</th>\n",
       "      <td>0.118862</td>\n",
       "      <td>0.119420</td>\n",
       "      <td>0.118862</td>\n",
       "      <td>0.118862</td>\n",
       "      <td>0.092099</td>\n",
       "      <td>73449600</td>\n",
       "    </tr>\n",
       "  </tbody>\n",
       "</table>\n",
       "</div>"
      ],
      "text/plain": [
       "                Open      High       Low     Close  Adj Close     Volume\n",
       "Date                                                                    \n",
       "1980-12-12  0.128348  0.128906  0.128348  0.128348   0.099450  469033600\n",
       "1980-12-15  0.122210  0.122210  0.121652  0.121652   0.094261  175884800\n",
       "1980-12-16  0.113281  0.113281  0.112723  0.112723   0.087343  105728000\n",
       "1980-12-17  0.115513  0.116071  0.115513  0.115513   0.089504   86441600\n",
       "1980-12-18  0.118862  0.119420  0.118862  0.118862   0.092099   73449600"
      ]
     },
     "execution_count": 4,
     "metadata": {},
     "output_type": "execute_result"
    }
   ],
   "source": [
    "# also\n",
    "# yf.download(tickers = symbol, start = start, end = end)\n",
    "symbol = 'AAPL'\n",
    "aapl_df = yf.download(tickers=symbol)\n",
    "aapl_df.head()"
   ]
  },
  {
   "cell_type": "code",
   "execution_count": 5,
   "metadata": {},
   "outputs": [
    {
     "name": "stdout",
     "output_type": "stream",
     "text": [
      "<class 'pandas.core.frame.DataFrame'>\n",
      "DatetimeIndex: 10819 entries, 1980-12-12 to 2023-11-09\n",
      "Data columns (total 6 columns):\n",
      " #   Column     Non-Null Count  Dtype  \n",
      "---  ------     --------------  -----  \n",
      " 0   Open       10819 non-null  float64\n",
      " 1   High       10819 non-null  float64\n",
      " 2   Low        10819 non-null  float64\n",
      " 3   Close      10819 non-null  float64\n",
      " 4   Adj Close  10819 non-null  float64\n",
      " 5   Volume     10819 non-null  int64  \n",
      "dtypes: float64(5), int64(1)\n",
      "memory usage: 591.7 KB\n"
     ]
    }
   ],
   "source": [
    "# check we don't have nulls\n",
    "aapl_df.info()"
   ]
  },
  {
   "cell_type": "code",
   "execution_count": 6,
   "metadata": {},
   "outputs": [
    {
     "data": {
      "text/plain": [
       "<AxesSubplot:title={'center':'Apple historic'}, xlabel='Date'>"
      ]
     },
     "execution_count": 6,
     "metadata": {},
     "output_type": "execute_result"
    },
    {
     "data": {
      "image/png": "[encoded data removed]",
      "text/plain": [
       "<Figure size 432x288 with 1 Axes>"
      ]
     },
     "metadata": {
      "needs_background": "light"
     },
     "output_type": "display_data"
    }
   ],
   "source": [
    "import matplotlib.pyplot as plt # Visualization\n",
    "aapl_df['Close'].plot(title='Apple historic')"
   ]
  },
  {
   "cell_type": "code",
   "execution_count": 7,
   "metadata": {},
   "outputs": [
    {
     "data": {
      "text/html": [
       "<div>\n",
       "<style scoped>\n",
       "    .dataframe tbody tr th:only-of-type {\n",
       "        vertical-align: middle;\n",
       "    }\n",
       "\n",
       "    .dataframe tbody tr th {\n",
       "        vertical-align: top;\n",
       "    }\n",
       "\n",
       "    .dataframe thead th {\n",
       "        text-align: right;\n",
       "    }\n",
       "</style>\n",
       "<table border=\"1\" class=\"dataframe\">\n",
       "  <thead>\n",
       "    <tr style=\"text-align: right;\">\n",
       "      <th></th>\n",
       "      <th>Open</th>\n",
       "      <th>High</th>\n",
       "      <th>Low</th>\n",
       "      <th>Close</th>\n",
       "      <th>Adj Close</th>\n",
       "      <th>Volume</th>\n",
       "    </tr>\n",
       "    <tr>\n",
       "      <th>Date</th>\n",
       "      <th></th>\n",
       "      <th></th>\n",
       "      <th></th>\n",
       "      <th></th>\n",
       "      <th></th>\n",
       "      <th></th>\n",
       "    </tr>\n",
       "  </thead>\n",
       "  <tbody>\n",
       "    <tr>\n",
       "      <th>2022-01-03</th>\n",
       "      <td>177.830002</td>\n",
       "      <td>182.880005</td>\n",
       "      <td>177.710007</td>\n",
       "      <td>182.009995</td>\n",
       "      <td>180.190979</td>\n",
       "      <td>104487900</td>\n",
       "    </tr>\n",
       "    <tr>\n",
       "      <th>2022-01-04</th>\n",
       "      <td>182.630005</td>\n",
       "      <td>182.940002</td>\n",
       "      <td>179.119995</td>\n",
       "      <td>179.699997</td>\n",
       "      <td>177.904053</td>\n",
       "      <td>99310400</td>\n",
       "    </tr>\n",
       "    <tr>\n",
       "      <th>2022-01-05</th>\n",
       "      <td>179.610001</td>\n",
       "      <td>180.169998</td>\n",
       "      <td>174.639999</td>\n",
       "      <td>174.919998</td>\n",
       "      <td>173.171829</td>\n",
       "      <td>94537600</td>\n",
       "    </tr>\n",
       "    <tr>\n",
       "      <th>2022-01-06</th>\n",
       "      <td>172.699997</td>\n",
       "      <td>175.300003</td>\n",
       "      <td>171.639999</td>\n",
       "      <td>172.000000</td>\n",
       "      <td>170.281021</td>\n",
       "      <td>96904000</td>\n",
       "    </tr>\n",
       "    <tr>\n",
       "      <th>2022-01-07</th>\n",
       "      <td>172.889999</td>\n",
       "      <td>174.139999</td>\n",
       "      <td>171.029999</td>\n",
       "      <td>172.169998</td>\n",
       "      <td>170.449295</td>\n",
       "      <td>86709100</td>\n",
       "    </tr>\n",
       "  </tbody>\n",
       "</table>\n",
       "</div>"
      ],
      "text/plain": [
       "                  Open        High         Low       Close   Adj Close  \\\n",
       "Date                                                                     \n",
       "2022-01-03  177.830002  182.880005  177.710007  182.009995  180.190979   \n",
       "2022-01-04  182.630005  182.940002  179.119995  179.699997  177.904053   \n",
       "2022-01-05  179.610001  180.169998  174.639999  174.919998  173.171829   \n",
       "2022-01-06  172.699997  175.300003  171.639999  172.000000  170.281021   \n",
       "2022-01-07  172.889999  174.139999  171.029999  172.169998  170.449295   \n",
       "\n",
       "               Volume  \n",
       "Date                   \n",
       "2022-01-03  104487900  \n",
       "2022-01-04   99310400  \n",
       "2022-01-05   94537600  \n",
       "2022-01-06   96904000  \n",
       "2022-01-07   86709100  "
      ]
     },
     "execution_count": 7,
     "metadata": {},
     "output_type": "execute_result"
    }
   ],
   "source": [
    "aapl_df_2022 = aapl_df.loc['2022-01-01' : '2022-12-31']\n",
    "aapl_df_2022.head()"
   ]
  },
  {
   "cell_type": "code",
   "execution_count": 8,
   "metadata": {},
   "outputs": [
    {
     "data": {
      "text/plain": [
       "<AxesSubplot:title={'center':'Apple historic 2022'}, xlabel='Date'>"
      ]
     },
     "execution_count": 8,
     "metadata": {},
     "output_type": "execute_result"
    },
    {
     "data": {
      "image/png": "[encoded data removed]",
      "text/plain": [
       "<Figure size 432x288 with 1 Axes>"
      ]
     },
     "metadata": {
      "needs_background": "light"
     },
     "output_type": "display_data"
    }
   ],
   "source": [
    "aapl_df_2022['Close'].plot(title='Apple historic 2022')"
   ]
  },
  {
   "cell_type": "code",
   "execution_count": 9,
   "metadata": {},
   "outputs": [
    {
     "data": {
      "text/plain": [
       "<AxesSubplot:title={'center':'Apple historic 2023'}, xlabel='Date'>"
      ]
     },
     "execution_count": 9,
     "metadata": {},
     "output_type": "execute_result"
    },
    {
     "data": {
      "image/png": "[encoded data removed]",
      "text/plain": [
       "<Figure size 432x288 with 1 Axes>"
      ]
     },
     "metadata": {
      "needs_background": "light"
     },
     "output_type": "display_data"
    }
   ],
   "source": [
    "aapl_df_2023 = aapl_df.loc['2023-01-01' : '2023-12-31']\n",
    "aapl_df_2023['Close'].plot(title='Apple historic 2023')"
   ]
  },
  {
   "cell_type": "code",
   "execution_count": 10,
   "metadata": {},
   "outputs": [
    {
     "data": {
      "text/plain": [
       "<AxesSubplot:title={'center':'Apple historic 2020-2023'}, xlabel='Date'>"
      ]
     },
     "execution_count": 10,
     "metadata": {},
     "output_type": "execute_result"
    },
    {
     "data": {
      "image/png": "[encoded data removed]",
      "text/plain": [
       "<Figure size 432x288 with 1 Axes>"
      ]
     },
     "metadata": {
      "needs_background": "light"
     },
     "output_type": "display_data"
    }
   ],
   "source": [
    "aapl_df_2020_2023 = aapl_df.loc['2020-01-01' : '2023-12-31']\n",
    "aapl_df_2020_2023['Close'].plot(title='Apple historic 2020-2023')"
   ]
  },
  {
   "cell_type": "code",
   "execution_count": 11,
   "metadata": {},
   "outputs": [
    {
     "data": {
      "application/vnd.plotly.v1+json": {
       "config": {
        "plotlyServerURL": "https://plot.ly"
       },
       "data": [
        {
         "close": [
          75.0875015258789,
          74.35749816894531,
          74.94999694824219,
          74.59750366210938,
          75.79750061035156,
          77.40750122070312,
          77.5824966430664,
          79.23999786376953,
          78.16999816894531,
          77.83499908447266,
          78.80999755859375,
          79.68250274658203,
          79.14250183105469,
          79.42500305175781,
          79.80750274658203,
          79.57749938964844,
          77.23750305175781,
          79.42250061035156,
          81.08499908447266,
          80.96749877929688,
          77.37750244140625,
          77.16500091552734,
          79.7125015258789,
          80.36250305175781,
          81.30249786376953,
          80.00749969482422,
          80.38749694824219,
          79.90249633789062,
          81.80000305175781,
          81.21749877929688,
          81.23750305175781,
          79.75,
          80.90499877929688,
          80.07499694824219,
          78.26249694824219,
          74.54499816894531,
          72.0199966430664,
          73.1624984741211,
          68.37999725341797,
          68.33999633789062,
          74.70249938964844,
          72.33000183105469,
          75.68499755859375,
          73.2300033569336,
          72.25749969482422,
          66.5425033569336,
          71.33499908447266,
          68.85749816894531,
          62.057498931884766,
          69.49250030517578,
          60.5525016784668,
          63.21500015258789,
          61.66749954223633,
          61.19499969482422,
          57.310001373291016,
          56.092498779296875,
          61.720001220703125,
          61.380001068115234,
          64.61000061035156,
          61.935001373291016,
          63.70249938964844,
          63.5724983215332,
          60.227500915527344,
          61.23249816894531,
          60.352500915527344,
          65.61750030517578,
          64.85749816894531,
          66.51750183105469,
          66.99749755859375,
          68.3125,
          71.76249694824219,
          71.10749816894531,
          71.67250061035156,
          70.69999694824219,
          69.23249816894531,
          67.09249877929688,
          69.0250015258789,
          68.75749969482422,
          70.74250030517578,
          70.7925033569336,
          69.6449966430664,
          71.93250274658203,
          73.44999694824219,
          72.26750183105469,
          73.29000091552734,
          74.38999938964844,
          75.15750122070312,
          75.93499755859375,
          77.53250122070312,
          78.75250244140625,
          77.85250091552734,
          76.9124984741211,
          77.38500213623047,
          76.92749786376953,
          78.73999786376953,
          78.28500366210938,
          79.80750274658203,
          79.2125015258789,
          79.72250366210938,
          79.18250274658203,
          79.52749633789062,
          79.5625,
          79.48500061035156,
          80.4625015258789,
          80.83499908447266,
          81.27999877929688,
          80.58000183105469,
          82.875,
          83.36499786376953,
          85.99749755859375,
          88.20999908447266,
          83.9749984741211,
          84.69999694824219,
          85.74749755859375,
          88.0199966430664,
          87.89749908447266,
          87.93250274658203,
          87.43000030517578,
          89.71749877929688,
          91.63249969482422,
          90.01499938964844,
          91.20999908447266,
          88.40750122070312,
          90.44499969482422,
          91.19999694824219,
          91.02749633789062,
          91.02749633789062,
          93.4625015258789,
          93.17250061035156,
          95.34249877929688,
          95.75250244140625,
          95.91999816894531,
          95.47750091552734,
          97.05750274658203,
          97.7249984741211,
          96.52249908447266,
          96.32749938964844,
          98.35749816894531,
          97,
          97.27249908447266,
          92.84500122070312,
          92.61499786376953,
          94.80999755859375,
          93.25250244140625,
          95.04000091552734,
          96.19000244140625,
          106.26000213623047,
          108.9375,
          109.66500091552734,
          110.0625,
          113.90249633789062,
          111.11250305175781,
          112.72750091552734,
          109.375,
          113.01000213623047,
          115.01000213623047,
          114.90750122070312,
          114.60749816894531,
          115.5625,
          115.7074966430664,
          118.2750015258789,
          124.37000274658203,
          125.85749816894531,
          124.82499694824219,
          126.52249908447266,
          125.01000213623047,
          124.80750274658203,
          129.0399932861328,
          134.17999267578125,
          131.39999389648438,
          120.87999725341797,
          120.95999908447266,
          112.81999969482422,
          117.31999969482422,
          113.48999786376953,
          112,
          115.36000061035156,
          115.54000091552734,
          112.12999725341797,
          110.33999633789062,
          106.83999633789062,
          110.08000183105469,
          111.80999755859375,
          107.12000274658203,
          108.22000122070312,
          112.27999877929688,
          114.95999908447266,
          114.08999633789062,
          115.80999755859375,
          116.79000091552734,
          113.0199966430664,
          116.5,
          113.16000366210938,
          115.08000183105469,
          114.97000122070312,
          116.97000122070312,
          124.4000015258789,
          121.0999984741211,
          121.19000244140625,
          120.70999908447266,
          119.0199966430664,
          115.9800033569336,
          117.51000213623047,
          116.87000274658203,
          115.75,
          115.04000091552734,
          115.05000305175781,
          116.5999984741211,
          111.19999694824219,
          115.31999969482422,
          108.86000061035156,
          108.7699966430664,
          110.44000244140625,
          114.94999694824219,
          119.02999877929688,
          118.69000244140625,
          116.31999969482422,
          115.97000122070312,
          119.48999786376953,
          119.20999908447266,
          119.26000213623047,
          120.30000305175781,
          119.38999938964844,
          118.02999877929688,
          118.63999938964844,
          117.33999633789062,
          113.8499984741211,
          115.16999816894531,
          116.02999877929688,
          116.58999633789062,
          119.05000305175781,
          122.72000122070312,
          123.08000183105469,
          122.94000244140625,
          122.25,
          123.75,
          124.37999725341797,
          121.77999877929688,
          123.23999786376953,
          122.41000366210938,
          121.77999877929688,
          127.87999725341797,
          127.80999755859375,
          128.6999969482422,
          126.66000366210938,
          128.22999572753906,
          131.8800048828125,
          130.9600067138672,
          131.97000122070312,
          136.69000244140625,
          134.8699951171875,
          133.72000122070312,
          132.69000244140625,
          129.41000366210938,
          131.00999450683594,
          126.5999984741211,
          130.9199981689453,
          132.0500030517578,
          128.97999572753906,
          128.8000030517578,
          130.88999938964844,
          128.91000366210938,
          127.13999938964844,
          127.83000183105469,
          132.02999877929688,
          136.8699951171875,
          139.07000732421875,
          142.9199981689453,
          143.16000366210938,
          142.05999755859375,
          137.08999633789062,
          131.9600067138672,
          134.13999938964844,
          134.99000549316406,
          133.94000244140625,
          137.38999938964844,
          136.75999450683594,
          136.91000366210938,
          136.00999450683594,
          135.38999938964844,
          135.1300048828125,
          135.3699951171875,
          133.19000244140625,
          130.83999633789062,
          129.7100067138672,
          129.8699951171875,
          126,
          125.86000061035156,
          125.3499984741211,
          120.98999786376953,
          121.26000213623047,
          127.79000091552734,
          125.12000274658203,
          122.05999755859375,
          120.12999725341797,
          121.41999816894531,
          116.36000061035156,
          121.08999633789062,
          119.9800033569336,
          121.95999908447266,
          121.02999877929688,
          123.98999786376953,
          125.56999969482422,
          124.76000213623047,
          120.52999877929688,
          119.98999786376953,
          123.38999938964844,
          122.54000091552734,
          120.08999633789062,
          120.58999633789062,
          121.20999908447266,
          121.38999938964844,
          119.9000015258789,
          122.1500015258789,
          123,
          125.9000015258789,
          126.20999908447266,
          127.9000015258789,
          130.36000061035156,
          133,
          131.24000549316406,
          134.42999267578125,
          132.02999877929688,
          134.5,
          134.16000366210938,
          134.83999633789062,
          133.11000061035156,
          133.5,
          131.94000244140625,
          134.32000732421875,
          134.72000122070312,
          134.38999938964844,
          133.5800018310547,
          133.47999572753906,
          131.4600067138672,
          132.5399932861328,
          127.8499984741211,
          128.10000610351562,
          129.74000549316406,
          130.2100067138672,
          126.8499984741211,
          125.91000366210938,
          122.7699966430664,
          124.97000122070312,
          127.44999694824219,
          126.2699966430664,
          124.8499984741211,
          124.69000244140625,
          127.30999755859375,
          125.43000030517578,
          127.0999984741211,
          126.9000015258789,
          126.8499984741211,
          125.27999877929688,
          124.61000061035156,
          124.27999877929688,
          125.05999755859375,
          123.54000091552734,
          125.88999938964844,
          125.9000015258789,
          126.73999786376953,
          127.12999725341797,
          126.11000061035156,
          127.3499984741211,
          130.47999572753906,
          129.63999938964844,
          130.14999389648438,
          131.7899932861328,
          130.4600067138672,
          132.3000030517578,
          133.97999572753906,
          133.6999969482422,
          133.41000366210938,
          133.11000061035156,
          134.77999877929688,
          136.3300018310547,
          136.9600067138672,
          137.27000427246094,
          139.9600067138672,
          142.02000427246094,
          144.57000732421875,
          143.24000549316406,
          145.11000061035156,
          144.5,
          145.63999938964844,
          149.14999389648438,
          148.47999572753906,
          146.38999938964844,
          142.4499969482422,
          146.14999389648438,
          145.39999389648438,
          146.8000030517578,
          148.55999755859375,
          148.99000549316406,
          146.77000427246094,
          144.97999572753906,
          145.63999938964844,
          145.86000061035156,
          145.52000427246094,
          147.36000061035156,
          146.9499969482422,
          147.05999755859375,
          146.13999938964844,
          146.08999633789062,
          145.60000610351562,
          145.86000061035156,
          148.88999938964844,
          149.10000610351562,
          151.1199951171875,
          150.19000244140625,
          146.36000061035156,
          146.6999969482422,
          148.19000244140625,
          149.7100067138672,
          149.6199951171875,
          148.36000061035156,
          147.5399932861328,
          148.60000610351562,
          153.1199951171875,
          151.8300018310547,
          152.50999450683594,
          153.64999389648438,
          154.3000030517578,
          156.69000244140625,
          155.11000061035156,
          154.07000732421875,
          148.97000122070312,
          149.5500030517578,
          148.1199951171875,
          149.02999877929688,
          148.7899932861328,
          146.05999755859375,
          142.94000244140625,
          143.42999267578125,
          145.85000610351562,
          146.8300018310547,
          146.9199981689453,
          145.3699951171875,
          141.91000366210938,
          142.8300018310547,
          141.5,
          142.64999389648438,
          139.13999938964844,
          141.11000061035156,
          142,
          143.2899932861328,
          142.89999389648438,
          142.80999755859375,
          141.50999450683594,
          140.91000366210938,
          143.75999450683594,
          144.83999633789062,
          146.5500030517578,
          148.75999450683594,
          149.25999450683594,
          149.47999572753906,
          148.69000244140625,
          148.63999938964844,
          149.32000732421875,
          148.85000610351562,
          152.57000732421875,
          149.8000030517578,
          148.9600067138672,
          150.02000427246094,
          151.49000549316406,
          150.9600067138672,
          151.27999877929688,
          150.44000244140625,
          150.80999755859375,
          147.9199981689453,
          147.8699951171875,
          149.99000549316406,
          150,
          151,
          153.49000549316406,
          157.8699951171875,
          160.5500030517578,
          161.02000427246094,
          161.41000366210938,
          161.94000244140625,
          156.80999755859375,
          160.24000549316406,
          165.3000030517578,
          164.77000427246094,
          163.75999450683594,
          161.83999633789062,
          165.32000732421875,
          171.17999267578125,
          175.0800018310547,
          174.55999755859375,
          179.4499969482422,
          175.74000549316406,
          174.3300018310547,
          179.3000030517578,
          172.25999450683594,
          171.13999938964844,
          169.75,
          172.99000549316406,
          175.63999938964844,
          176.27999877929688,
          180.3300018310547,
          179.2899932861328,
          179.3800048828125,
          178.1999969482422,
          177.57000732421875,
          182.00999450683594,
          179.6999969482422,
          174.9199981689453,
          172,
          172.1699981689453,
          172.19000244140625,
          175.0800018310547,
          175.52999877929688,
          172.19000244140625,
          173.07000732421875,
          169.8000030517578,
          166.22999572753906,
          164.50999450683594,
          162.41000366210938,
          161.6199951171875,
          159.77999877929688,
          159.69000244140625,
          159.22000122070312,
          170.3300018310547,
          174.77999877929688,
          174.61000061035156,
          175.83999633789062,
          172.89999389648438,
          172.38999938964844,
          171.66000366210938,
          174.8300018310547,
          176.27999877929688,
          172.1199951171875,
          168.63999938964844,
          168.8800048828125,
          172.7899932861328,
          172.5500030517578,
          168.8800048828125,
          167.3000030517578,
          164.32000732421875,
          160.07000732421875,
          162.74000549316406,
          164.85000610351562,
          165.1199951171875,
          163.1999969482422,
          166.55999755859375,
          166.22999572753906,
          163.1699981689453,
          159.3000030517578,
          157.44000244140625,
          162.9499969482422,
          158.52000427246094,
          154.72999572753906,
          150.6199951171875,
          155.08999633789062,
          159.58999633789062,
          160.6199951171875,
          163.97999572753906,
          165.3800048828125,
          168.82000732421875,
          170.2100067138672,
          174.07000732421875,
          174.72000122070312,
          175.60000610351562,
          178.9600067138672,
          177.77000427246094,
          174.61000061035156,
          174.30999755859375,
          178.44000244140625,
          175.05999755859375,
          171.8300018310547,
          172.13999938964844,
          170.08999633789062,
          165.75,
          167.66000366210938,
          170.39999389648438,
          165.2899932861328,
          165.07000732421875,
          167.39999389648438,
          167.22999572753906,
          166.4199981689453,
          161.7899932861328,
          162.8800048828125,
          156.8000030517578,
          156.57000732421875,
          163.63999938964844,
          157.64999389648438,
          157.9600067138672,
          159.47999572753906,
          166.02000427246094,
          156.77000427246094,
          157.27999877929688,
          152.05999755859375,
          154.50999450683594,
          146.5,
          142.55999755859375,
          147.11000061035156,
          145.5399932861328,
          149.24000549316406,
          140.82000732421875,
          137.35000610351562,
          137.58999633789062,
          143.11000061035156,
          140.36000061035156,
          140.52000427246094,
          143.77999877929688,
          149.63999938964844,
          148.83999633789062,
          148.7100067138672,
          151.2100067138672,
          145.3800048828125,
          146.13999938964844,
          148.7100067138672,
          147.9600067138672,
          142.63999938964844,
          137.1300048828125,
          131.8800048828125,
          132.75999450683594,
          135.42999267578125,
          130.05999755859375,
          131.55999755859375,
          135.8699951171875,
          135.35000610351562,
          138.27000427246094,
          141.66000366210938,
          141.66000366210938,
          137.44000244140625,
          139.22999572753906,
          136.72000122070312,
          138.92999267578125,
          141.55999755859375,
          142.9199981689453,
          146.35000610351562,
          147.0399932861328,
          144.8699951171875,
          145.86000061035156,
          145.49000549316406,
          148.47000122070312,
          150.1699981689453,
          147.07000732421875,
          151,
          153.0399932861328,
          155.35000610351562,
          154.08999633789062,
          152.9499969482422,
          151.60000610351562,
          156.7899932861328,
          157.35000610351562,
          162.50999450683594,
          161.50999450683594,
          160.00999450683594,
          166.1300048828125,
          165.80999755859375,
          165.35000610351562,
          164.8699951171875,
          164.9199981689453,
          169.24000549316406,
          168.49000549316406,
          172.10000610351562,
          173.19000244140625,
          173.02999877929688,
          174.5500030517578,
          174.14999389648438,
          171.52000427246094,
          167.57000732421875,
          167.22999572753906,
          167.52999877929688,
          170.02999877929688,
          163.6199951171875,
          161.3800048828125,
          158.91000366210938,
          157.22000122070312,
          157.9600067138672,
          155.80999755859375,
          154.52999877929688,
          155.9600067138672,
          154.4600067138672,
          157.3699951171875,
          163.42999267578125,
          153.83999633789062,
          155.30999755859375,
          152.3699951171875,
          150.6999969482422,
          154.47999572753906,
          156.89999389648438,
          153.72000122070312,
          152.74000549316406,
          150.42999267578125,
          150.77000427246094,
          151.75999450683594,
          149.83999633789062,
          142.47999572753906,
          138.1999969482422,
          142.4499969482422,
          146.10000610351562,
          146.39999389648438,
          145.42999267578125,
          140.08999633789062,
          140.4199981689453,
          138.97999572753906,
          138.33999633789062,
          142.99000549316406,
          138.3800048828125,
          142.41000366210938,
          143.75,
          143.86000061035156,
          143.38999938964844,
          147.27000427246094,
          149.4499969482422,
          152.33999633789062,
          149.35000610351562,
          144.8000030517578,
          155.74000549316406,
          153.33999633789062,
          150.64999389648438,
          145.02999877929688,
          138.8800048828125,
          138.3800048828125,
          138.9199981689453,
          139.5,
          134.8699951171875,
          146.8699951171875,
          149.6999969482422,
          148.27999877929688,
          150.0399932861328,
          148.7899932861328,
          150.72000122070312,
          151.2899932861328,
          148.00999450683594,
          150.17999267578125,
          151.07000732421875,
          148.11000061035156,
          144.22000122070312,
          141.1699981689453,
          148.02999877929688,
          148.30999755859375,
          147.80999755859375,
          146.6300048828125,
          142.91000366210938,
          140.94000244140625,
          142.64999389648438,
          142.16000366210938,
          144.49000549316406,
          145.47000122070312,
          143.2100067138672,
          136.5,
          134.50999450683594,
          132.3699951171875,
          132.3000030517578,
          135.4499969482422,
          132.22999572753906,
          131.86000061035156,
          130.02999877929688,
          126.04000091552734,
          129.61000061035156,
          129.92999267578125,
          125.06999969482422,
          126.36000061035156,
          125.0199966430664,
          129.6199951171875,
          130.14999389648438,
          130.72999572753906,
          133.49000549316406,
          133.41000366210938,
          134.75999450683594,
          135.94000244140625,
          135.2100067138672,
          135.27000427246094,
          137.8699951171875,
          141.11000061035156,
          142.52999877929688,
          141.86000061035156,
          143.9600067138672,
          145.92999267578125,
          143,
          144.2899932861328,
          145.42999267578125,
          150.82000732421875,
          154.5,
          151.72999572753906,
          154.64999389648438,
          151.9199981689453,
          150.8699951171875,
          151.00999450683594,
          153.85000610351562,
          153.1999969482422,
          155.3300018310547,
          153.7100067138672,
          152.5500030517578,
          148.47999572753906,
          148.91000366210938,
          149.39999389648438,
          146.7100067138672,
          147.9199981689453,
          147.41000366210938,
          145.30999755859375,
          145.91000366210938,
          151.02999877929688,
          153.8300018310547,
          151.60000610351562,
          152.8699951171875,
          150.58999633789062,
          148.5,
          150.47000122070312,
          152.58999633789062,
          152.99000549316406,
          155.85000610351562,
          155,
          157.39999389648438,
          159.27999877929688,
          157.8300018310547,
          158.92999267578125,
          160.25,
          158.27999877929688,
          157.64999389648438,
          160.77000427246094,
          162.36000061035156,
          164.89999389648438,
          166.1699981689453,
          165.6300048828125,
          163.75999450683594,
          164.66000366210938,
          162.02999877929688,
          160.8000030517578,
          160.10000610351562,
          165.55999755859375,
          165.2100067138672,
          165.22999572753906,
          166.47000122070312,
          167.6300048828125,
          166.64999389648438,
          165.02000427246094,
          165.3300018310547,
          163.77000427246094,
          163.75999450683594,
          168.41000366210938,
          169.67999267578125,
          169.58999633789062,
          168.5399932861328,
          167.4499969482422,
          165.7899932861328,
          173.57000732421875,
          173.5,
          171.77000427246094,
          173.55999755859375,
          173.75,
          172.57000732421875,
          172.07000732421875,
          172.07000732421875,
          172.69000244140625,
          175.0500030517578,
          175.16000366210938,
          174.1999969482422,
          171.55999755859375,
          171.83999633789062,
          172.99000549316406,
          175.42999267578125,
          177.3000030517578,
          177.25,
          180.08999633789062,
          180.9499969482422,
          179.5800018310547,
          179.2100067138672,
          177.82000732421875,
          180.57000732421875,
          180.9600067138672,
          183.7899932861328,
          183.30999755859375,
          183.9499969482422,
          186.00999450683594,
          184.9199981689453,
          185.00999450683594,
          183.9600067138672,
          187,
          186.67999267578125,
          185.27000427246094,
          188.05999755859375,
          189.25,
          189.58999633789062,
          193.97000122070312,
          192.4600067138672,
          191.3300018310547,
          191.80999755859375,
          190.67999267578125,
          188.61000061035156,
          188.0800018310547,
          189.77000427246094,
          190.5399932861328,
          190.69000244140625,
          193.99000549316406,
          193.72999572753906,
          195.10000610351562,
          193.1300048828125,
          191.94000244140625,
          192.75,
          193.6199951171875,
          194.5,
          193.22000122070312,
          195.8300018310547,
          196.4499969482422,
          195.61000061035156,
          192.5800018310547,
          191.1699981689453,
          181.99000549316406,
          178.85000610351562,
          179.8000030517578,
          178.19000244140625,
          177.97000122070312,
          177.7899932861328,
          179.4600067138672,
          177.4499969482422,
          176.57000732421875,
          174,
          174.49000549316406,
          175.83999633789062,
          177.22999572753906,
          181.1199951171875,
          176.3800048828125,
          178.61000061035156,
          180.19000244140625,
          184.1199951171875,
          187.64999389648438,
          187.8699951171875,
          189.4600067138672,
          189.6999969482422,
          182.91000366210938,
          177.55999755859375,
          178.17999267578125,
          179.36000061035156,
          176.3000030517578,
          174.2100067138672,
          175.74000549316406,
          175.00999450683594,
          177.97000122070312,
          179.07000732421875,
          175.49000549316406,
          173.92999267578125,
          174.7899932861328,
          176.0800018310547,
          171.9600067138672,
          170.42999267578125,
          170.69000244140625,
          171.2100067138672,
          173.75,
          172.39999389648438,
          173.66000366210938,
          174.91000366210938,
          177.49000549316406,
          178.99000549316406,
          178.38999938964844,
          179.8000030517578,
          180.7100067138672,
          178.85000610351562,
          178.72000122070312,
          177.14999389648438,
          175.83999633789062,
          175.4600067138672,
          172.8800048828125,
          173,
          173.44000244140625,
          171.10000610351562,
          166.88999938964844,
          168.22000122070312,
          170.2899932861328,
          170.77000427246094,
          173.97000122070312,
          177.57000732421875,
          176.64999389648438,
          179.22999572753906,
          181.82000732421875,
          182.88999938964844,
          182.41000366210938
         ],
         "high": [
          75.1500015258789,
          75.1449966430664,
          74.98999786376953,
          75.2249984741211,
          76.11000061035156,
          77.60749816894531,
          78.1675033569336,
          79.26750183105469,
          79.39250183105469,
          78.875,
          78.92500305175781,
          79.68499755859375,
          79.75499725341797,
          79.99749755859375,
          79.88999938964844,
          80.8324966430664,
          77.94249725341797,
          79.5999984741211,
          81.9625015258789,
          81.02249908447266,
          80.66999816894531,
          78.37249755859375,
          79.91000366210938,
          81.19000244140625,
          81.30500030517578,
          80.8499984741211,
          80.38749694824219,
          80.9749984741211,
          81.80500030517578,
          81.55500030517578,
          81.49500274658203,
          79.9375,
          81.14250183105469,
          81.1624984741211,
          80.11250305175781,
          76.04499816894531,
          75.63249969482422,
          74.47000122070312,
          71.5,
          69.60250091552734,
          75.36000061035156,
          76,
          75.8499984741211,
          74.88749694824219,
          72.70500183105469,
          69.52249908447266,
          71.61000061035156,
          70.30500030517578,
          67.5,
          69.9800033569336,
          64.7699966430664,
          64.40249633789062,
          62.5,
          63.209999084472656,
          62.95750045776367,
          57.125,
          61.92250061035156,
          64.5625,
          64.66999816894531,
          63.967498779296875,
          63.880001068115234,
          65.62249755859375,
          62.18000030517578,
          61.287498474121094,
          61.42499923706055,
          65.77749633789062,
          67.92500305175781,
          66.84249877929688,
          67.51750183105469,
          68.42500305175781,
          72.0625,
          71.5824966430664,
          72.05000305175781,
          71.73750305175781,
          70.41999816894531,
          69.3125,
          69.4749984741211,
          70.4375,
          70.75250244140625,
          71.13500213623047,
          71.4574966430664,
          72.4175033569336,
          73.63249969482422,
          74.75,
          73.42250061035156,
          75.25,
          75.80999755859375,
          76.2925033569336,
          77.5875015258789,
          79.26249694824219,
          79.92250061035156,
          78.98750305175781,
          77.44750213623047,
          76.9749984741211,
          79.125,
          79.62999725341797,
          79.87999725341797,
          80.22250366210938,
          79.80750274658203,
          81.05999755859375,
          79.67749786376953,
          80.86000061035156,
          80.2874984741211,
          80.5875015258789,
          80.86000061035156,
          81.55000305175781,
          81.40499877929688,
          82.9375,
          83.4000015258789,
          86.40249633789062,
          88.69249725341797,
          87.76499938964844,
          86.94999694824219,
          86.41999816894531,
          88.30000305175781,
          88.8499984741211,
          88.36250305175781,
          89.13999938964844,
          89.86499786376953,
          93.09500122070312,
          92.19750213623047,
          91.25,
          91.33000183105469,
          90.5425033569336,
          91.49500274658203,
          91.83999633789062,
          92.61750030517578,
          93.94499969482422,
          94.65499877929688,
          95.375,
          96.31749725341797,
          95.9800033569336,
          99.95500183105469,
          97.25499725341797,
          99.24749755859375,
          97.40499877929688,
          97.14749908447266,
          98.5,
          99.25,
          97.9749984741211,
          97.07749938964844,
          92.97000122070312,
          94.90499877929688,
          94.55000305175781,
          95.2300033569336,
          96.29750061035156,
          106.41500091552734,
          111.63749694824219,
          110.79000091552734,
          110.39250183105469,
          114.4124984741211,
          113.67500305175781,
          113.7750015258789,
          112.48249816894531,
          113.2750015258789,
          116.0425033569336,
          115,
          116.0875015258789,
          116,
          117.1624984741211,
          118.39250183105469,
          124.86750030517578,
          128.78500366210938,
          125.18000030517578,
          126.99250030517578,
          127.48500061035156,
          126.44249725341797,
          131,
          134.8000030517578,
          137.97999572753906,
          128.83999633789062,
          123.69999694824219,
          118.98999786376953,
          119.13999938964844,
          120.5,
          115.2300033569336,
          115.93000030517578,
          118.83000183105469,
          116,
          112.19999694824219,
          110.87999725341797,
          110.19000244140625,
          112.86000061035156,
          112.11000061035156,
          110.25,
          112.44000244140625,
          115.31999969482422,
          115.30999755859375,
          117.26000213623047,
          117.72000122070312,
          115.37000274658203,
          116.6500015258789,
          116.12000274658203,
          115.55000305175781,
          116.4000015258789,
          117,
          125.18000030517578,
          125.38999938964844,
          123.02999877929688,
          121.19999694824219,
          121.55000305175781,
          120.41999816894531,
          118.9800033569336,
          118.70999908447266,
          118.04000091552734,
          116.55000305175781,
          116.55000305175781,
          117.27999877929688,
          115.43000030517578,
          116.93000030517578,
          111.98999786376953,
          110.68000030517578,
          111.48999786376953,
          115.58999633789062,
          119.62000274658203,
          119.19999694824219,
          121.98999786376953,
          117.58999633789062,
          119.62999725341797,
          120.52999877929688,
          119.66999816894531,
          120.98999786376953,
          120.66999816894531,
          119.81999969482422,
          119.05999755859375,
          118.7699966430664,
          117.62000274658203,
          115.8499984741211,
          116.75,
          117.48999786376953,
          120.97000122070312,
          123.47000122070312,
          123.37000274658203,
          123.77999877929688,
          122.86000061035156,
          124.56999969482422,
          124.9800033569336,
          125.94999694824219,
          123.87000274658203,
          122.76000213623047,
          123.3499984741211,
          127.9000015258789,
          128.3699951171875,
          129.5800018310547,
          129.10000610351562,
          128.30999755859375,
          134.41000366210938,
          132.42999267578125,
          133.4600067138672,
          137.33999633789062,
          138.7899932861328,
          135.99000549316406,
          134.74000549316406,
          133.61000061035156,
          131.74000549316406,
          131.0500030517578,
          131.6300048828125,
          132.6300048828125,
          130.1699981689453,
          129.69000244140625,
          131.4499969482422,
          131,
          130.22000122070312,
          128.7100067138672,
          132.49000549316406,
          139.6699981689453,
          139.85000610351562,
          145.08999633789062,
          144.3000030517578,
          144.3000030517578,
          141.99000549316406,
          136.74000549316406,
          135.3800048828125,
          136.30999755859375,
          135.77000427246094,
          137.39999389648438,
          137.4199981689453,
          136.9600067138672,
          137.8800048828125,
          136.99000549316406,
          136.38999938964844,
          135.52999877929688,
          136.00999450683594,
          132.22000122070312,
          130,
          130.7100067138672,
          129.72000122070312,
          126.70999908447266,
          125.55999755859375,
          126.45999908447266,
          124.8499984741211,
          127.93000030517578,
          128.72000122070312,
          125.70999908447266,
          123.5999984741211,
          121.94000244140625,
          121,
          122.05999755859375,
          122.16999816894531,
          123.20999908447266,
          121.16999816894531,
          124,
          127.22000122070312,
          125.86000061035156,
          123.18000030517578,
          121.43000030517578,
          123.87000274658203,
          124.23999786376953,
          122.9000015258789,
          121.66000366210938,
          121.4800033569336,
          122.58000183105469,
          120.4000015258789,
          123.5199966430664,
          124.18000030517578,
          126.16000366210938,
          127.12999725341797,
          127.91999816894531,
          130.38999938964844,
          133.0399932861328,
          132.85000610351562,
          134.66000366210938,
          135,
          135,
          134.6699981689453,
          135.47000122070312,
          135.52999877929688,
          133.75,
          134.14999389648438,
          135.1199951171875,
          135.05999755859375,
          135.41000366210938,
          135.02000427246094,
          137.07000732421875,
          133.55999755859375,
          134.07000732421875,
          131.49000549316406,
          130.4499969482422,
          129.75,
          131.25999450683594,
          129.5399932861328,
          126.2699966430664,
          124.63999938964844,
          126.1500015258789,
          127.88999938964844,
          126.93000030517578,
          126.98999786376953,
          124.91999816894531,
          127.72000122070312,
          128,
          127.94000244140625,
          128.32000732421875,
          127.38999938964844,
          127.63999938964844,
          125.80000305175781,
          125.3499984741211,
          125.23999786376953,
          124.8499984741211,
          126.16000366210938,
          126.31999969482422,
          128.4600067138672,
          127.75,
          128.19000244140625,
          127.44000244140625,
          130.5399932861328,
          130.60000610351562,
          130.88999938964844,
          132.5500030517578,
          131.50999450683594,
          132.41000366210938,
          134.0800018310547,
          134.32000732421875,
          134.63999938964844,
          133.88999938964844,
          135.25,
          136.49000549316406,
          137.41000366210938,
          137.3300018310547,
          140,
          143.14999389648438,
          144.88999938964844,
          144.05999755859375,
          145.64999389648438,
          146.32000732421875,
          147.4600067138672,
          149.57000732421875,
          150,
          149.75999450683594,
          144.07000732421875,
          147.10000610351562,
          146.1300048828125,
          148.1999969482422,
          148.72000122070312,
          149.8300018310547,
          149.2100067138672,
          146.97000122070312,
          146.5500030517578,
          146.3300018310547,
          146.9499969482422,
          148.0399932861328,
          147.7899932861328,
          147.83999633789062,
          147.11000061035156,
          146.6999969482422,
          147.7100067138672,
          146.72000122070312,
          149.0500030517578,
          149.44000244140625,
          151.19000244140625,
          151.67999267578125,
          150.72000122070312,
          148,
          148.5,
          150.19000244140625,
          150.86000061035156,
          150.32000732421875,
          149.1199951171875,
          148.75,
          153.49000549316406,
          152.8000030517578,
          154.97999572753906,
          154.72000122070312,
          154.6300048828125,
          157.25999450683594,
          157.0399932861328,
          156.11000061035156,
          155.47999572753906,
          151.4199981689453,
          151.07000732421875,
          149.44000244140625,
          148.97000122070312,
          148.82000732421875,
          144.83999633789062,
          144.60000610351562,
          146.42999267578125,
          147.0800018310547,
          147.47000122070312,
          145.9600067138672,
          144.75,
          144.4499969482422,
          144.3800048828125,
          142.9199981689453,
          142.2100067138672,
          142.24000549316406,
          142.14999389648438,
          144.22000122070312,
          144.17999267578125,
          144.80999755859375,
          143.25,
          141.39999389648438,
          143.8800048828125,
          144.89999389648438,
          146.83999633789062,
          149.1699981689453,
          149.75,
          149.63999938964844,
          150.17999267578125,
          149.3699951171875,
          150.83999633789062,
          149.72999572753906,
          153.1699981689453,
          149.94000244140625,
          149.6999969482422,
          151.57000732421875,
          151.97000122070312,
          152.42999267578125,
          152.1999969482422,
          151.57000732421875,
          151.42999267578125,
          150.1300048828125,
          149.42999267578125,
          150.39999389648438,
          151.8800048828125,
          151.49000549316406,
          155,
          158.6699981689453,
          161.02000427246094,
          165.6999969482422,
          161.8000030517578,
          162.13999938964844,
          160.4499969482422,
          161.19000244140625,
          165.52000427246094,
          170.3000030517578,
          164.1999969482422,
          164.9600067138672,
          167.8800048828125,
          171.5800018310547,
          175.9600067138672,
          176.75,
          179.6300048828125,
          182.1300048828125,
          177.74000549316406,
          179.5,
          181.13999938964844,
          173.47000122070312,
          170.5800018310547,
          173.1999969482422,
          175.86000061035156,
          176.85000610351562,
          180.4199981689453,
          181.3300018310547,
          180.6300048828125,
          180.57000732421875,
          179.22999572753906,
          182.8800048828125,
          182.94000244140625,
          180.1699981689453,
          175.3000030517578,
          174.13999938964844,
          172.5,
          175.17999267578125,
          177.17999267578125,
          176.6199951171875,
          173.77999877929688,
          172.5399932861328,
          171.0800018310547,
          169.67999267578125,
          166.3300018310547,
          162.3000030517578,
          162.75999450683594,
          164.38999938964844,
          163.83999633789062,
          170.35000610351562,
          175,
          174.83999633789062,
          175.8800048828125,
          176.24000549316406,
          174.10000610351562,
          173.9499969482422,
          175.35000610351562,
          176.64999389648438,
          175.47999572753906,
          173.0800018310547,
          169.5800018310547,
          172.9499969482422,
          173.33999633789062,
          171.91000366210938,
          170.5399932861328,
          166.69000244140625,
          166.14999389648438,
          162.85000610351562,
          165.1199951171875,
          165.4199981689453,
          166.60000610351562,
          167.36000061035156,
          168.91000366210938,
          165.5500030517578,
          165.02000427246094,
          162.8800048828125,
          163.41000366210938,
          160.38999938964844,
          159.27999877929688,
          154.1199951171875,
          155.57000732421875,
          160,
          161,
          164.47999572753906,
          166.35000610351562,
          169.4199981689453,
          172.63999938964844,
          174.13999938964844,
          175.27999877929688,
          175.72999572753906,
          179.00999450683594,
          179.61000061035156,
          178.02999877929688,
          174.8800048828125,
          178.49000549316406,
          178.3000030517578,
          173.6300048828125,
          173.36000061035156,
          171.77999877929688,
          169.02999877929688,
          169.8699951171875,
          171.0399932861328,
          171.27000427246094,
          166.60000610351562,
          167.82000732421875,
          168.8800048828125,
          171.52999877929688,
          167.8699951171875,
          163.1699981689453,
          162.33999633789062,
          159.7899932861328,
          164.52000427246094,
          166.1999969482422,
          158.22999572753906,
          160.7100067138672,
          166.47999572753906,
          164.0800018310547,
          159.44000244140625,
          155.8300018310547,
          156.74000549316406,
          155.4499969482422,
          146.1999969482422,
          148.10000610351562,
          147.52000427246094,
          149.77000427246094,
          147.36000061035156,
          141.66000366210938,
          140.6999969482422,
          143.25999450683594,
          141.97000122070312,
          141.7899932861328,
          144.33999633789062,
          149.67999267578125,
          150.66000366210938,
          151.74000549316406,
          151.27000427246094,
          147.97000122070312,
          148.57000732421875,
          149,
          149.8699951171875,
          147.9499969482422,
          140.75999450683594,
          135.1999969482422,
          133.88999938964844,
          137.33999633789062,
          132.38999938964844,
          133.0800018310547,
          137.05999755859375,
          137.75999450683594,
          138.58999633789062,
          141.91000366210938,
          143.49000549316406,
          143.4199981689453,
          140.6699981689453,
          138.3699951171875,
          139.0399932861328,
          141.61000061035156,
          144.1199951171875,
          146.5500030517578,
          147.5500030517578,
          146.63999938964844,
          148.4499969482422,
          146.4499969482422,
          148.9499969482422,
          150.86000061035156,
          151.57000732421875,
          151.22999572753906,
          153.72000122070312,
          155.57000732421875,
          156.27999877929688,
          155.0399932861328,
          153.08999633789062,
          157.3300018310547,
          157.63999938964844,
          163.6300048828125,
          163.58999633789062,
          162.41000366210938,
          166.58999633789062,
          167.19000244140625,
          165.85000610351562,
          167.80999755859375,
          165.82000732421875,
          169.33999633789062,
          170.99000549316406,
          172.1699981689453,
          173.38999938964844,
          173.7100067138672,
          176.14999389648438,
          174.89999389648438,
          173.74000549316406,
          169.86000061035156,
          168.7100067138672,
          168.11000061035156,
          170.13999938964844,
          171.0500030517578,
          162.89999389648438,
          162.55999755859375,
          160.5800018310547,
          158.4199981689453,
          160.36000061035156,
          157.08999633789062,
          156.6699981689453,
          156.36000061035156,
          157.82000732421875,
          164.25999450683594,
          160.5399932861328,
          157.10000610351562,
          155.24000549316406,
          151.35000610351562,
          154.55999755859375,
          158.0800018310547,
          158.74000549316406,
          154.47000122070312,
          151.47000122070312,
          153.77000427246094,
          154.72000122070312,
          150.63999938964844,
          146.72000122070312,
          143.10000610351562,
          143.07000732421875,
          146.22000122070312,
          147.3800048828125,
          147.5399932861328,
          143.10000610351562,
          141.88999938964844,
          141.35000610351562,
          140.36000061035156,
          143.58999633789062,
          144.52000427246094,
          142.89999389648438,
          146.6999969482422,
          144.9499969482422,
          145.88999938964844,
          147.85000610351562,
          150.22999572753906,
          152.49000549316406,
          151.99000549316406,
          149.0500030517578,
          157.5,
          154.24000549316406,
          155.4499969482422,
          152.1699981689453,
          142.8000030517578,
          142.6699981689453,
          139.14999389648438,
          141.42999267578125,
          138.5500030517578,
          146.8699951171875,
          150.00999450683594,
          150.27999877929688,
          153.58999633789062,
          149.8699951171875,
          151.47999572753906,
          152.6999969482422,
          150.3699951171875,
          150.4199981689453,
          151.8300018310547,
          148.8800048828125,
          146.63999938964844,
          144.80999755859375,
          148.72000122070312,
          149.1300048828125,
          148,
          150.9199981689453,
          147.3000030517578,
          143.3699951171875,
          143.52000427246094,
          145.57000732421875,
          144.5,
          149.97000122070312,
          146.66000366210938,
          141.8000030517578,
          137.64999389648438,
          135.1999969482422,
          133.25,
          136.80999755859375,
          134.55999755859375,
          132.4199981689453,
          131.41000366210938,
          131.02999877929688,
          130.47999572753906,
          129.9499969482422,
          130.89999389648438,
          128.66000366210938,
          127.7699966430664,
          130.2899932861328,
          133.41000366210938,
          131.25999450683594,
          133.50999450683594,
          134.25999450683594,
          134.9199981689453,
          137.2899932861328,
          138.61000061035156,
          136.25,
          138.02000427246094,
          143.32000732421875,
          143.16000366210938,
          142.42999267578125,
          144.25,
          147.22999572753906,
          145.5500030517578,
          144.33999633789062,
          146.61000061035156,
          151.17999267578125,
          157.3800048828125,
          153.10000610351562,
          155.22999572753906,
          154.5800018310547,
          154.3300018310547,
          151.33999633789062,
          154.25999450683594,
          153.77000427246094,
          155.5,
          156.3300018310547,
          153,
          151.3000030517578,
          149.9499969482422,
          150.33999633789062,
          147.19000244140625,
          149.1699981689453,
          149.0800018310547,
          147.22999572753906,
          146.7100067138672,
          151.11000061035156,
          156.3000030517578,
          154.02999877929688,
          153.47000122070312,
          154.5399932861328,
          150.94000244140625,
          153.13999938964844,
          153.39999389648438,
          153.25,
          156.4600067138672,
          156.74000549316406,
          157.82000732421875,
          159.39999389648438,
          162.13999938964844,
          161.5500030517578,
          160.33999633789062,
          160.77000427246094,
          158.49000549316406,
          161.0500030517578,
          162.47000122070312,
          165,
          166.2899932861328,
          166.83999633789062,
          165.0500030517578,
          164.9600067138672,
          162.02999877929688,
          162.36000061035156,
          162.05999755859375,
          165.8000030517578,
          166.32000732421875,
          165.38999938964844,
          167.41000366210938,
          168.16000366210938,
          167.8699951171875,
          166.4499969482422,
          165.60000610351562,
          166.30999755859375,
          165.27999877929688,
          168.55999755859375,
          169.85000610351562,
          170.4499969482422,
          170.35000610351562,
          170.9199981689453,
          167.0399932861328,
          174.3000030517578,
          173.85000610351562,
          173.5399932861328,
          174.02999877929688,
          174.58999633789062,
          174.05999755859375,
          173.2100067138672,
          173.13999938964844,
          172.92999267578125,
          175.24000549316406,
          176.38999938964844,
          174.7100067138672,
          173.3800048828125,
          172.4199981689453,
          173.89999389648438,
          175.77000427246094,
          178.99000549316406,
          179.35000610351562,
          180.1199951171875,
          181.77999877929688,
          184.9499969482422,
          180.1199951171875,
          181.2100067138672,
          180.83999633789062,
          182.22999572753906,
          183.88999938964844,
          184.14999389648438,
          184.38999938964844,
          186.52000427246094,
          186.99000549316406,
          186.10000610351562,
          185.41000366210938,
          187.0500030517578,
          187.55999755859375,
          188.0500030517578,
          188.38999938964844,
          189.89999389648438,
          190.07000732421875,
          194.47999572753906,
          193.8800048828125,
          192.97999572753906,
          192.02000427246094,
          192.6699981689453,
          189.99000549316406,
          189.3000030517578,
          191.6999969482422,
          191.19000244140625,
          191.17999267578125,
          194.32000732421875,
          194.3300018310547,
          198.22999572753906,
          196.47000122070312,
          194.97000122070312,
          194.91000366210938,
          194.44000244140625,
          195.63999938964844,
          197.1999969482422,
          196.6300048828125,
          196.49000549316406,
          196.72999572753906,
          195.17999267578125,
          192.3699951171875,
          187.3800048828125,
          183.1300048828125,
          180.27000427246094,
          180.92999267578125,
          180.75,
          178.6199951171875,
          179.69000244140625,
          179.47999572753906,
          178.5399932861328,
          177.50999450683594,
          175.10000610351562,
          176.1300048828125,
          177.67999267578125,
          181.5500030517578,
          181.10000610351562,
          179.14999389648438,
          180.58999633789062,
          184.89999389648438,
          187.85000610351562,
          189.1199951171875,
          189.9199981689453,
          189.97999572753906,
          188.85000610351562,
          178.2100067138672,
          180.24000549316406,
          180.3000030517578,
          180.1300048828125,
          177.3000030517578,
          176.10000610351562,
          176.5,
          179.3800048828125,
          179.6300048828125,
          179.6999969482422,
          176.3000030517578,
          177.0800018310547,
          176.97000122070312,
          175.1999969482422,
          173.0399932861328,
          172.02999877929688,
          173.07000732421875,
          174.3000030517578,
          173.6300048828125,
          174.2100067138672,
          175.4499969482422,
          177.99000549316406,
          179.0500030517578,
          179.72000122070312,
          179.85000610351562,
          182.33999633789062,
          181.92999267578125,
          179.0800018310547,
          178.4199981689453,
          177.5800018310547,
          177.83999633789062,
          175.4199981689453,
          174.00999450683594,
          173.6699981689453,
          173.05999755859375,
          171.3800048828125,
          168.9600067138672,
          171.1699981689453,
          170.89999389648438,
          174.22999572753906,
          177.77999877929688,
          176.82000732421875,
          179.42999267578125,
          182.44000244140625,
          183.4499969482422,
          184.11500549316406
         ],
         "low": [
          73.79750061035156,
          74.125,
          73.1875,
          74.37000274658203,
          74.29000091552734,
          76.55000305175781,
          77.0625,
          77.7874984741211,
          78.0425033569336,
          77.38749694824219,
          78.02249908447266,
          78.75,
          79,
          79.32749938964844,
          78.9124984741211,
          79.37999725341797,
          76.22000122070312,
          78.04750061035156,
          80.34500122070312,
          79.6875,
          77.07250213623047,
          75.55500030517578,
          78.40750122070312,
          79.73750305175781,
          80.06500244140625,
          79.5,
          78.4625015258789,
          79.67749786376953,
          80.36750030517578,
          80.8375015258789,
          80.7125015258789,
          78.65249633789062,
          80,
          79.55249786376953,
          77.625,
          72.30750274658203,
          71.53250122070312,
          71.625,
          68.23999786376953,
          64.09249877929688,
          69.43000030517578,
          71.44999694824219,
          73.28250122070312,
          72.85250091552734,
          70.30750274658203,
          65.75,
          67.34249877929688,
          67.96499633789062,
          62,
          63.23749923706055,
          60,
          59.599998474121094,
          59.279998779296875,
          60.65250015258789,
          57,
          53.15250015258789,
          58.57500076293945,
          61.07500076293945,
          61.59000015258789,
          61.76250076293945,
          62.349998474121094,
          63,
          59.782501220703125,
          59.224998474121094,
          59.74250030517578,
          62.345001220703125,
          64.75,
          65.30750274658203,
          66.17500305175781,
          66.4574966430664,
          69.51249694824219,
          70.15750122070312,
          70.5875015258789,
          69.21499633789062,
          69.2125015258789,
          66.35749816894531,
          68.05000305175781,
          68.71749877929688,
          69.25,
          69.98750305175781,
          69.55000305175781,
          70.97250366210938,
          72.0875015258789,
          71.4625015258789,
          71.58000183105469,
          73.61499786376953,
          74.71749877929688,
          75.49250030517578,
          76.07250213623047,
          76.80999755859375,
          77.72750091552734,
          75.80249786376953,
          75.38249969482422,
          75.05249786376953,
          77.58000183105469,
          78.25250244140625,
          79.12999725341797,
          78.96749877929688,
          78.8375015258789,
          79.125,
          78.27249908447266,
          78.90750122070312,
          79.11750030517578,
          79.30249786376953,
          79.73249816894531,
          80.57499694824219,
          80.19499969482422,
          80.80750274658203,
          81.83000183105469,
          83.00250244140625,
          86.52249908447266,
          83.87000274658203,
          83.55500030517578,
          83.1449966430664,
          86.18000030517578,
          87.77249908447266,
          87.30500030517578,
          86.2874984741211,
          87.7874984741211,
          90.56749725341797,
          89.62999725341797,
          89.39250183105469,
          88.25499725341797,
          87.81999969482422,
          90,
          90.97750091552734,
          90.91000366210938,
          92.46749877929688,
          93.05750274658203,
          94.08999633789062,
          94.67250061035156,
          94.70500183105469,
          95.25749969482422,
          93.87750244140625,
          96.48999786376953,
          95.90499877929688,
          95.83999633789062,
          96.0625,
          96.74250030517578,
          96.60250091552734,
          92.01000213623047,
          89.1449966430664,
          93.4800033569336,
          93.24749755859375,
          93.7125015258789,
          93.76750183105469,
          100.82499694824219,
          107.89250183105469,
          108.38749694824219,
          108.89749908447266,
          109.79750061035156,
          110.2925033569336,
          110,
          109.10749816894531,
          110.29750061035156,
          113.92749786376953,
          113.04499816894531,
          113.9625015258789,
          114.00749969482422,
          115.61000061035156,
          115.73249816894531,
          119.25,
          123.9375,
          123.05249786376953,
          125.0824966430664,
          123.8324966430664,
          124.57749938964844,
          126,
          130.52999877929688,
          127,
          120.5,
          110.88999938964844,
          112.68000030517578,
          115.26000213623047,
          112.5,
          110,
          112.80000305175781,
          113.61000061035156,
          112.04000091552734,
          108.70999908447266,
          106.08999633789062,
          103.0999984741211,
          109.16000366210938,
          106.7699966430664,
          105,
          107.66999816894531,
          112.77999877929688,
          113.56999969482422,
          113.62000274658203,
          115.83000183105469,
          112.22000122070312,
          113.55000305175781,
          112.25,
          114.12999725341797,
          114.58999633789062,
          114.91999816894531,
          119.27999877929688,
          119.6500015258789,
          119.62000274658203,
          118.1500015258789,
          118.80999755859375,
          115.66000366210938,
          115.62999725341797,
          116.44999694824219,
          114.58999633789062,
          114.27999877929688,
          112.87999725341797,
          114.54000091552734,
          111.0999984741211,
          112.19999694824219,
          107.72000122070312,
          107.31999969482422,
          108.7300033569336,
          112.3499984741211,
          116.87000274658203,
          116.12999725341797,
          116.05000305175781,
          114.12999725341797,
          116.44000244140625,
          118.56999969482422,
          117.87000274658203,
          118.1500015258789,
          118.95999908447266,
          118,
          116.80999755859375,
          117.29000091552734,
          113.75,
          112.58999633789062,
          115.16999816894531,
          116.22000122070312,
          116.80999755859375,
          120.01000213623047,
          120.88999938964844,
          122.20999908447266,
          121.5199966430664,
          122.25,
          123.08999633789062,
          121,
          120.1500015258789,
          120.55000305175781,
          121.54000091552734,
          124.12999725341797,
          126.55999755859375,
          128.0399932861328,
          126.12000274658203,
          123.44999694824219,
          129.64999389648438,
          130.77999877929688,
          131.10000610351562,
          133.50999450683594,
          134.33999633789062,
          133.39999389648438,
          131.72000122070312,
          126.76000213623047,
          128.42999267578125,
          126.37999725341797,
          127.86000061035156,
          130.22999572753906,
          128.5,
          126.86000061035156,
          128.49000549316406,
          128.75999450683594,
          127,
          126.94000244140625,
          128.5500030517578,
          133.58999633789062,
          135.02000427246094,
          136.5399932861328,
          141.3699951171875,
          140.41000366210938,
          136.6999969482422,
          130.2100067138672,
          130.92999267578125,
          134.61000061035156,
          133.61000061035156,
          134.58999633789062,
          135.86000061035156,
          134.9199981689453,
          135.85000610351562,
          134.39999389648438,
          133.77000427246094,
          133.69000244140625,
          132.7899932861328,
          129.47000122070312,
          127.41000366210938,
          128.8000030517578,
          125.5999984741211,
          118.38999938964844,
          122.2300033569336,
          120.54000091552734,
          121.19999694824219,
          122.79000091552734,
          125.01000213623047,
          121.83999633789062,
          118.62000274658203,
          117.56999969482422,
          116.20999908447266,
          118.79000091552734,
          119.44999694824219,
          121.26000213623047,
          119.16000366210938,
          120.41999816894531,
          124.72000122070312,
          122.33999633789062,
          120.31999969482422,
          119.68000030517578,
          120.26000213623047,
          122.13999938964844,
          120.06999969482422,
          119,
          118.91999816894531,
          120.7300033569336,
          118.86000061035156,
          121.1500015258789,
          122.48999786376953,
          123.06999969482422,
          125.6500015258789,
          125.13999938964844,
          128.52000427246094,
          129.47000122070312,
          130.6300048828125,
          131.92999267578125,
          131.66000366210938,
          133.63999938964844,
          133.27999877929688,
          133.33999633789062,
          131.80999755859375,
          131.3000030517578,
          131.41000366210938,
          132.16000366210938,
          133.55999755859375,
          134.11000061035156,
          133.0800018310547,
          132.4499969482422,
          131.07000732421875,
          131.8300018310547,
          126.69999694824219,
          127.97000122070312,
          127.12999725341797,
          129.47999572753906,
          126.80999755859375,
          122.7699966430664,
          122.25,
          124.26000213623047,
          125.8499984741211,
          125.16999816894531,
          124.77999877929688,
          122.86000061035156,
          125.0999984741211,
          125.20999908447266,
          125.94000244140625,
          126.31999969482422,
          126.41999816894531,
          125.08000183105469,
          124.55000305175781,
          123.94000244140625,
          124.05000305175781,
          123.12999725341797,
          123.8499984741211,
          124.83000183105469,
          126.20999908447266,
          126.5199966430664,
          125.94000244140625,
          126.0999984741211,
          127.06999969482422,
          129.38999938964844,
          128.4600067138672,
          129.64999389648438,
          130.24000549316406,
          129.2100067138672,
          131.6199951171875,
          133.22999572753906,
          132.92999267578125,
          132.80999755859375,
          133.35000610351562,
          134.35000610351562,
          135.8699951171875,
          135.75999450683594,
          137.75,
          140.07000732421875,
          142.66000366210938,
          140.6699981689453,
          142.64999389648438,
          144,
          143.6300048828125,
          147.67999267578125,
          147.08999633789062,
          145.8800048828125,
          141.6699981689453,
          142.9600067138672,
          144.6300048828125,
          145.80999755859375,
          146.9199981689453,
          147.6999969482422,
          145.5500030517578,
          142.5399932861328,
          144.5800018310547,
          144.11000061035156,
          145.25,
          145.17999267578125,
          146.27999877929688,
          146.1699981689453,
          145.6300048828125,
          145.52000427246094,
          145.3000030517578,
          145.52999877929688,
          145.83999633789062,
          148.27000427246094,
          146.47000122070312,
          149.08999633789062,
          146.14999389648438,
          144.5,
          146.77999877929688,
          147.88999938964844,
          149.14999389648438,
          147.8000030517578,
          147.50999450683594,
          146.8300018310547,
          148.61000061035156,
          151.2899932861328,
          152.33999633789062,
          152.39999389648438,
          153.08999633789062,
          154.38999938964844,
          153.97999572753906,
          153.9499969482422,
          148.6999969482422,
          148.75,
          146.91000366210938,
          146.3699951171875,
          147.22000122070312,
          145.75999450683594,
          141.27000427246094,
          142.77999877929688,
          143.6999969482422,
          145.63999938964844,
          145.55999755859375,
          143.82000732421875,
          141.69000244140625,
          142.02999877929688,
          141.27999877929688,
          139.11000061035156,
          138.27000427246094,
          139.36000061035156,
          138.3699951171875,
          142.72000122070312,
          142.55999755859375,
          141.80999755859375,
          141.0399932861328,
          139.1999969482422,
          141.50999450683594,
          143.50999450683594,
          143.16000366210938,
          146.5500030517578,
          148.1199951171875,
          147.8699951171875,
          148.63999938964844,
          147.6199951171875,
          149.00999450683594,
          148.49000549316406,
          149.72000122070312,
          146.41000366210938,
          147.8000030517578,
          148.64999389648438,
          149.82000732421875,
          150.63999938964844,
          150.05999755859375,
          150.16000366210938,
          150.05999755859375,
          147.85000610351562,
          147.67999267578125,
          147.47999572753906,
          149.42999267578125,
          149.33999633789062,
          150.99000549316406,
          153.0500030517578,
          156.52999877929688,
          161,
          159.05999755859375,
          159.63999938964844,
          156.36000061035156,
          158.7899932861328,
          159.9199981689453,
          164.52999877929688,
          157.8000030517578,
          159.72000122070312,
          164.27999877929688,
          168.33999633789062,
          170.6999969482422,
          173.9199981689453,
          174.69000244140625,
          175.52999877929688,
          172.2100067138672,
          172.30999755859375,
          170.75,
          169.69000244140625,
          167.4600067138672,
          169.1199951171875,
          172.14999389648438,
          175.27000427246094,
          177.07000732421875,
          178.52999877929688,
          178.13999938964844,
          178.08999633789062,
          177.25999450683594,
          177.7100067138672,
          179.1199951171875,
          174.63999938964844,
          171.63999938964844,
          171.02999877929688,
          168.1699981689453,
          170.82000732421875,
          174.82000732421875,
          171.7899932861328,
          171.08999633789062,
          169.41000366210938,
          165.94000244140625,
          164.17999267578125,
          162.3000030517578,
          154.6999969482422,
          157.02000427246094,
          157.82000732421875,
          158.27999877929688,
          162.8000030517578,
          169.50999450683594,
          172.30999755859375,
          173.3300018310547,
          172.1199951171875,
          170.67999267578125,
          170.9499969482422,
          171.42999267578125,
          174.89999389648438,
          171.5500030517578,
          168.0399932861328,
          166.55999755859375,
          170.25,
          170.0500030517578,
          168.47000122070312,
          166.19000244140625,
          162.14999389648438,
          159.75,
          152,
          160.8699951171875,
          162.42999267578125,
          161.97000122070312,
          162.9499969482422,
          165.5500030517578,
          162.10000610351562,
          159.0399932861328,
          155.8000030517578,
          159.41000366210938,
          155.97999572753906,
          154.5,
          150.10000610351562,
          150.3800048828125,
          154.4600067138672,
          157.6300048828125,
          159.75999450683594,
          163.00999450683594,
          164.91000366210938,
          167.64999389648438,
          170.2100067138672,
          172.75,
          172,
          176.33999633789062,
          176.6999969482422,
          174.39999389648438,
          171.94000244140625,
          174.44000244140625,
          174.4199981689453,
          170.1300048828125,
          169.85000610351562,
          169.1999969482422,
          165.5,
          166.63999938964844,
          166.77000427246094,
          165.0399932861328,
          163.57000732421875,
          163.91000366210938,
          166.10000610351562,
          165.91000366210938,
          161.5,
          158.4600067138672,
          156.72000122070312,
          155.3800048828125,
          158.92999267578125,
          157.25,
          153.27000427246094,
          156.32000732421875,
          159.25999450683594,
          154.9499969482422,
          154.17999267578125,
          151.49000549316406,
          152.92999267578125,
          145.80999755859375,
          138.8000030517578,
          143.11000061035156,
          144.17999267578125,
          146.67999267578125,
          139.89999389648438,
          136.60000610351562,
          132.61000061035156,
          137.64999389648438,
          137.3300018310547,
          138.33999633789062,
          137.13999938964844,
          145.25999450683594,
          146.83999633789062,
          147.67999267578125,
          146.86000061035156,
          144.4600067138672,
          144.89999389648438,
          144.10000610351562,
          147.4600067138672,
          142.52999877929688,
          137.05999755859375,
          131.44000244140625,
          131.47999572753906,
          132.16000366210938,
          129.0399932861328,
          129.80999755859375,
          133.32000732421875,
          133.91000366210938,
          135.6300048828125,
          139.77000427246094,
          140.97000122070312,
          137.32000732421875,
          136.6699981689453,
          133.77000427246094,
          135.66000366210938,
          136.92999267578125,
          141.0800018310547,
          143.27999877929688,
          145,
          143.77999877929688,
          145.0500030517578,
          142.1199951171875,
          143.25,
          148.1999969482422,
          146.6999969482422,
          146.91000366210938,
          150.3699951171875,
          151.94000244140625,
          153.41000366210938,
          152.27999877929688,
          150.8000030517578,
          152.16000366210938,
          154.41000366210938,
          159.5,
          160.88999938964844,
          159.6300048828125,
          160.75,
          164.42999267578125,
          163,
          164.1999969482422,
          163.25,
          166.89999389648438,
          168.19000244140625,
          169.39999389648438,
          171.35000610351562,
          171.66000366210938,
          172.57000732421875,
          173.1199951171875,
          171.30999755859375,
          167.13999938964844,
          166.64999389648438,
          166.25,
          168.35000610351562,
          163.55999755859375,
          159.82000732421875,
          157.72000122070312,
          157.13999938964844,
          154.6699981689453,
          154.97000122070312,
          153.69000244140625,
          153.61000061035156,
          152.67999267578125,
          154.75,
          159.3000030517578,
          153.3699951171875,
          153.61000061035156,
          151.3800048828125,
          148.3699951171875,
          149.10000610351562,
          153.0800018310547,
          153.60000610351562,
          150.91000366210938,
          148.55999755859375,
          149.63999938964844,
          149.9499969482422,
          144.83999633789062,
          140.67999267578125,
          138,
          137.69000244140625,
          144.25999450683594,
          143.00999450683594,
          145.22000122070312,
          139.4499969482422,
          138.57000732421875,
          138.22000122070312,
          138.16000366210938,
          134.3699951171875,
          138.19000244140625,
          140.27000427246094,
          140.61000061035156,
          141.5,
          142.64999389648438,
          142.64999389648438,
          146,
          149.36000061035156,
          148.0399932861328,
          144.1300048828125,
          147.82000732421875,
          151.9199981689453,
          149.1300048828125,
          145,
          138.75,
          134.3800048828125,
          135.6699981689453,
          137.49000549316406,
          134.58999633789062,
          139.5,
          144.3699951171875,
          147.42999267578125,
          148.55999755859375,
          147.2899932861328,
          146.14999389648438,
          149.97000122070312,
          147.72000122070312,
          146.92999267578125,
          149.33999633789062,
          147.1199951171875,
          143.3800048828125,
          140.35000610351562,
          140.5500030517578,
          146.61000061035156,
          145.64999389648438,
          145.77000427246094,
          141.9199981689453,
          140,
          141.10000610351562,
          140.89999389648438,
          141.05999755859375,
          144.24000549316406,
          141.16000366210938,
          136.02999877929688,
          133.72999572753906,
          131.32000732421875,
          129.88999938964844,
          132.75,
          130.3000030517578,
          129.63999938964844,
          128.72000122070312,
          125.87000274658203,
          127.7300033569336,
          127.43000030517578,
          124.16999816894531,
          125.08000183105469,
          124.76000213623047,
          124.88999938964844,
          129.88999938964844,
          128.1199951171875,
          130.4600067138672,
          131.44000244140625,
          131.66000366210938,
          134.1300048828125,
          135.02999877929688,
          133.77000427246094,
          134.22000122070312,
          137.89999389648438,
          140.3000030517578,
          138.80999755859375,
          141.89999389648438,
          143.0800018310547,
          142.85000610351562,
          142.27999877929688,
          141.32000732421875,
          148.1699981689453,
          147.8300018310547,
          150.77999877929688,
          150.63999938964844,
          151.1699981689453,
          150.4199981689453,
          149.22000122070312,
          150.9199981689453,
          150.86000061035156,
          152.8800048828125,
          153.35000610351562,
          150.85000610351562,
          148.41000366210938,
          147.16000366210938,
          147.24000549316406,
          145.72000122070312,
          147.4499969482422,
          146.8300018310547,
          145.00999450683594,
          143.89999389648438,
          147.3300018310547,
          153.4600067138672,
          151.1300048828125,
          151.8300018310547,
          150.22999572753906,
          147.61000061035156,
          147.6999969482422,
          150.10000610351562,
          149.9199981689453,
          151.63999938964844,
          154.27999877929688,
          154.14999389648438,
          156.5399932861328,
          157.80999755859375,
          157.67999267578125,
          157.85000610351562,
          157.8699951171875,
          155.97999572753906,
          159.35000610351562,
          161.27000427246094,
          161.91000366210938,
          164.22000122070312,
          165.11000061035156,
          161.8000030517578,
          162,
          160.0800018310547,
          160.50999450683594,
          159.77999877929688,
          161.4199981689453,
          163.82000732421875,
          164.02999877929688,
          165.64999389648438,
          165.5399932861328,
          165.55999755859375,
          164.49000549316406,
          163.88999938964844,
          163.72999572753906,
          162.8000030517578,
          165.19000244140625,
          167.8800048828125,
          168.63999938964844,
          167.5399932861328,
          167.16000366210938,
          164.30999755859375,
          170.75999450683594,
          172.11000061035156,
          171.60000610351562,
          171.89999389648438,
          172.1699981689453,
          171,
          171.47000122070312,
          171.8000030517578,
          170.4199981689453,
          172.5800018310547,
          174.94000244140625,
          173.4499969482422,
          171.27999877929688,
          170.52000427246094,
          171.69000244140625,
          173.11000061035156,
          176.57000732421875,
          176.75999450683594,
          176.92999267578125,
          179.25999450683594,
          178.0399932861328,
          177.42999267578125,
          177.32000732421875,
          177.4600067138672,
          180.6300048828125,
          180.97000122070312,
          182.44000244140625,
          182.02000427246094,
          183.77999877929688,
          184.27000427246094,
          184.41000366210938,
          182.58999633789062,
          183.6699981689453,
          185.00999450683594,
          185.22999572753906,
          185.6699981689453,
          187.60000610351562,
          188.94000244140625,
          191.25999450683594,
          191.75999450683594,
          190.6199951171875,
          189.1999969482422,
          190.24000549316406,
          187.0399932861328,
          186.60000610351562,
          188.47000122070312,
          189.77999877929688,
          189.6300048828125,
          191.80999755859375,
          192.4199981689453,
          192.64999389648438,
          192.5,
          191.22999572753906,
          192.25,
          192.9199981689453,
          193.32000732421875,
          192.5500030517578,
          194.13999938964844,
          195.25999450683594,
          195.27999877929688,
          191.85000610351562,
          190.69000244140625,
          181.9199981689453,
          177.35000610351562,
          177.5800018310547,
          177.00999450683594,
          177.60000610351562,
          176.5500030517578,
          177.30999755859375,
          177.0500030517578,
          176.5,
          173.47999572753906,
          171.9600067138672,
          173.74000549316406,
          176.25,
          178.3300018310547,
          176.00999450683594,
          175.82000732421875,
          178.5500030517578,
          179.5,
          184.74000549316406,
          187.47999572753906,
          188.27999877929688,
          187.61000061035156,
          181.47000122070312,
          173.5399932861328,
          177.7899932861328,
          177.33999633789062,
          174.82000732421875,
          173.97999572753906,
          173.5800018310547,
          173.82000732421875,
          176.1699981689453,
          177.1300048828125,
          175.39999389648438,
          173.86000061035156,
          174.0500030517578,
          174.14999389648438,
          171.66000366210938,
          169.0500030517578,
          167.6199951171875,
          170.33999633789062,
          170.92999267578125,
          170.82000732421875,
          170.97000122070312,
          172.67999267578125,
          173.17999267578125,
          175.8000030517578,
          177.9499969482422,
          177.60000610351562,
          179.0399932861328,
          178.13999938964844,
          176.50999450683594,
          174.8000030517578,
          175.11000061035156,
          175.19000244140625,
          172.63999938964844,
          169.92999267578125,
          171.4499969482422,
          170.64999389648438,
          165.6699981689453,
          166.8300018310547,
          168.8699951171875,
          167.89999389648438,
          170.1199951171875,
          175.4600067138672,
          173.35000610351562,
          176.2100067138672,
          178.97000122070312,
          181.58999633789062,
          181.80999755859375
         ],
         "open": [
          74.05999755859375,
          74.2874984741211,
          73.44750213623047,
          74.95999908447266,
          74.29000091552734,
          76.80999755859375,
          77.6500015258789,
          77.91000366210938,
          79.17500305175781,
          77.9625015258789,
          78.39749908447266,
          79.06749725341797,
          79.29750061035156,
          79.6449966430664,
          79.4800033569336,
          80.0625,
          77.51499938964844,
          78.1500015258789,
          81.11250305175781,
          80.13500213623047,
          80.23249816894531,
          76.07499694824219,
          78.82749938964844,
          80.87999725341797,
          80.64250183105469,
          80.59249877929688,
          78.54499816894531,
          80.9000015258789,
          80.36750030517578,
          81.04750061035156,
          81.18499755859375,
          78.83999633789062,
          80,
          80.65750122070312,
          79.65499877929688,
          74.31500244140625,
          75.23750305175781,
          71.63249969482422,
          70.2750015258789,
          64.31500244140625,
          70.56999969482422,
          75.9175033569336,
          74.11000061035156,
          73.87999725341797,
          70.5,
          65.9375,
          69.28500366210938,
          69.34750366210938,
          63.98500061035156,
          66.22250366210938,
          60.48749923706055,
          61.877498626708984,
          59.942501068115234,
          61.84749984741211,
          61.79499816894531,
          57.02000045776367,
          59.09000015258789,
          62.6875,
          61.630001068115234,
          63.1875,
          62.685001373291016,
          63.900001525878906,
          61.625,
          60.084999084472656,
          60.70000076293945,
          62.724998474121094,
          67.69999694824219,
          65.68499755859375,
          67.17500305175781,
          67.07749938964844,
          70,
          70.5999984741211,
          71.84500122070312,
          71.17250061035156,
          69.48750305175781,
          69.06999969482422,
          68.40249633789062,
          68.96749877929688,
          69.30000305175781,
          70.44999694824219,
          71.2699966430664,
          71.18250274658203,
          72.48999786376953,
          71.5625,
          72.2925033569336,
          73.76499938964844,
          75.11499786376953,
          75.80500030517578,
          76.41000366210938,
          77.0250015258789,
          79.4574966430664,
          78.0374984741211,
          76.12750244140625,
          75.0875015258789,
          78.2925033569336,
          78.75749969482422,
          79.16999816894531,
          79.66500091552734,
          78.94249725341797,
          80.875,
          79.03500366210938,
          79.19249725341797,
          79.8125,
          79.4375,
          80.1875,
          81.16500091552734,
          81.09750366210938,
          80.8375015258789,
          82.5625,
          83.03500366210938,
          86.9749984741211,
          87.32749938964844,
          86.18000030517578,
          83.3125,
          87.86499786376953,
          88.7874984741211,
          87.85250091552734,
          88.66000366210938,
          87.83499908447266,
          91,
          91.25,
          90.17500305175781,
          91.10250091552734,
          88.3125,
          90.0199966430664,
          91.27999877929688,
          91.9625015258789,
          92.5,
          93.85250091552734,
          94.18000030517578,
          96.26249694824219,
          95.33499908447266,
          97.26499938964844,
          94.83999633789062,
          98.98999786376953,
          96.5625,
          96.98750305175781,
          96.4175033569336,
          99.17250061035156,
          96.69249725341797,
          96.99749755859375,
          90.98750305175781,
          93.70999908447266,
          94.36750030517578,
          93.75,
          94.1875,
          102.88500213623047,
          108.19999694824219,
          109.13249969482422,
          109.37750244140625,
          110.40499877929688,
          113.20500183105469,
          112.5999984741211,
          111.97000122070312,
          110.49749755859375,
          114.43000030517578,
          114.83000183105469,
          116.0625,
          114.35250091552734,
          115.98249816894531,
          115.75,
          119.26249694824219,
          128.69749450683594,
          124.69750213623047,
          126.18000030517578,
          127.14250183105469,
          126.01249694824219,
          127.58000183105469,
          132.75999450683594,
          137.58999633789062,
          126.91000366210938,
          120.06999969482422,
          113.94999694824219,
          117.26000213623047,
          120.36000061035156,
          114.56999969482422,
          114.72000122070312,
          118.33000183105469,
          115.2300033569336,
          109.72000122070312,
          110.4000015258789,
          104.54000091552734,
          112.68000030517578,
          111.62000274658203,
          105.16999816894531,
          108.43000030517578,
          115.01000213623047,
          114.55000305175781,
          113.79000091552734,
          117.63999938964844,
          112.88999938964844,
          113.91000366210938,
          115.69999694824219,
          114.62000274658203,
          116.25,
          115.27999877929688,
          120.05999755859375,
          125.2699966430664,
          121,
          118.72000122070312,
          121.27999877929688,
          119.95999908447266,
          116.19999694824219,
          116.66999816894531,
          117.44999694824219,
          116.38999938964844,
          114.01000213623047,
          115.48999786376953,
          115.05000305175781,
          112.37000274658203,
          111.05999755859375,
          109.11000061035156,
          109.66000366210938,
          114.13999938964844,
          117.94999694824219,
          118.31999969482422,
          120.5,
          115.55000305175781,
          117.19000244140625,
          119.62000274658203,
          119.44000244140625,
          118.91999816894531,
          119.55000305175781,
          118.61000061035156,
          117.58999633789062,
          118.63999938964844,
          117.18000030517578,
          113.91000366210938,
          115.55000305175781,
          116.56999969482422,
          116.97000122070312,
          121.01000213623047,
          122.0199966430664,
          123.5199966430664,
          122.5999984741211,
          122.30999755859375,
          124.37000274658203,
          124.52999877929688,
          120.5,
          122.43000030517578,
          122.5999984741211,
          124.33999633789062,
          127.41000366210938,
          128.89999389648438,
          128.9600067138672,
          125.0199966430664,
          131.61000061035156,
          132.16000366210938,
          131.32000732421875,
          133.99000549316406,
          138.0500030517578,
          135.5800018310547,
          134.0800018310547,
          133.52000427246094,
          128.88999938964844,
          127.72000122070312,
          128.36000061035156,
          132.42999267578125,
          129.19000244140625,
          128.5,
          128.75999450683594,
          130.8000030517578,
          128.77999877929688,
          127.77999877929688,
          128.66000366210938,
          133.8000030517578,
          136.27999877929688,
          143.07000732421875,
          143.60000610351562,
          143.42999267578125,
          139.52000427246094,
          135.8300018310547,
          133.75,
          135.72999572753906,
          135.75999450683594,
          136.3000030517578,
          137.35000610351562,
          136.02999877929688,
          136.6199951171875,
          136.47999572753906,
          135.89999389648438,
          134.35000610351562,
          135.49000549316406,
          131.25,
          129.1999969482422,
          130.24000549316406,
          128.00999450683594,
          123.76000213623047,
          124.94000244140625,
          124.68000030517578,
          122.58999633789062,
          123.75,
          128.41000366210938,
          124.80999755859375,
          121.75,
          120.9800033569336,
          120.93000030517578,
          119.02999877929688,
          121.69000244140625,
          122.54000091552734,
          120.4000015258789,
          121.41000366210938,
          125.69999694824219,
          124.05000305175781,
          122.87999725341797,
          119.9000015258789,
          120.33000183105469,
          123.33000183105469,
          122.81999969482422,
          119.54000091552734,
          120.3499984741211,
          121.6500015258789,
          120.11000061035156,
          121.6500015258789,
          123.66000366210938,
          123.87000274658203,
          126.5,
          125.83000183105469,
          128.9499969482422,
          129.8000030517578,
          132.52000427246094,
          132.44000244140625,
          134.94000244140625,
          133.82000732421875,
          134.3000030517578,
          133.50999450683594,
          135.02000427246094,
          132.36000061035156,
          133.0399932861328,
          132.16000366210938,
          134.8300018310547,
          135.00999450683594,
          134.30999755859375,
          136.47000122070312,
          131.77999877929688,
          132.0399932861328,
          131.19000244140625,
          129.1999969482422,
          127.88999938964844,
          130.85000610351562,
          129.41000366210938,
          123.5,
          123.4000015258789,
          124.58000183105469,
          126.25,
          126.81999969482422,
          126.55999755859375,
          123.16000366210938,
          125.2300033569336,
          127.81999969482422,
          126.01000213623047,
          127.81999969482422,
          126.95999908447266,
          126.44000244140625,
          125.56999969482422,
          125.08000183105469,
          124.27999877929688,
          124.68000030517578,
          124.06999969482422,
          126.16999816894531,
          126.5999984741211,
          127.20999908447266,
          127.0199966430664,
          126.52999877929688,
          127.81999969482422,
          129.94000244140625,
          130.3699951171875,
          129.8000030517578,
          130.7100067138672,
          130.3000030517578,
          132.1300048828125,
          133.77000427246094,
          134.4499969482422,
          133.4600067138672,
          133.41000366210938,
          134.8000030517578,
          136.1699981689453,
          136.60000610351562,
          137.89999389648438,
          140.07000732421875,
          143.5399932861328,
          141.5800018310547,
          142.75,
          146.2100067138672,
          144.02999877929688,
          148.10000610351562,
          149.24000549316406,
          148.4600067138672,
          143.75,
          143.4600067138672,
          145.52999877929688,
          145.94000244140625,
          147.5500030517578,
          148.27000427246094,
          149.1199951171875,
          144.80999755859375,
          144.69000244140625,
          144.3800048828125,
          146.36000061035156,
          145.80999755859375,
          147.27000427246094,
          146.97999572753906,
          146.35000610351562,
          146.1999969482422,
          146.44000244140625,
          146.0500030517578,
          146.19000244140625,
          148.97000122070312,
          148.5399932861328,
          150.22999572753906,
          149.8000030517578,
          145.02999877929688,
          147.44000244140625,
          148.30999755859375,
          149.4499969482422,
          149.80999755859375,
          148.35000610351562,
          147.47999572753906,
          149,
          152.66000366210938,
          152.8300018310547,
          153.8699951171875,
          153.75999450683594,
          154.97000122070312,
          156.97999572753906,
          155.49000549316406,
          155,
          150.6300048828125,
          150.35000610351562,
          148.55999755859375,
          148.44000244140625,
          148.82000732421875,
          143.8000030517578,
          143.92999267578125,
          144.4499969482422,
          146.64999389648438,
          145.66000366210938,
          145.47000122070312,
          143.25,
          142.47000122070312,
          143.66000366210938,
          141.89999389648438,
          141.75999450683594,
          139.49000549316406,
          139.47000122070312,
          143.05999755859375,
          144.02999877929688,
          142.27000427246094,
          143.22999572753906,
          141.24000549316406,
          142.11000061035156,
          143.77000427246094,
          143.4499969482422,
          147.00999450683594,
          148.6999969482422,
          148.80999755859375,
          149.69000244140625,
          148.67999267578125,
          149.3300018310547,
          149.36000061035156,
          149.82000732421875,
          147.22000122070312,
          148.99000549316406,
          148.66000366210938,
          150.38999938964844,
          151.5800018310547,
          151.88999938964844,
          151.41000366210938,
          150.1999969482422,
          150.02000427246094,
          148.9600067138672,
          148.42999267578125,
          150.3699951171875,
          149.94000244140625,
          151,
          153.7100067138672,
          157.64999389648438,
          161.67999267578125,
          161.1199951171875,
          160.75,
          159.57000732421875,
          159.3699951171875,
          159.99000549316406,
          167.47999572753906,
          158.74000549316406,
          164.02000427246094,
          164.2899932861328,
          169.0800018310547,
          172.1300048828125,
          174.91000366210938,
          175.2100067138672,
          181.1199951171875,
          175.25,
          175.11000061035156,
          179.27999877929688,
          169.92999267578125,
          168.27999877929688,
          171.55999755859375,
          173.0399932861328,
          175.85000610351562,
          177.08999633789062,
          180.16000366210938,
          179.3300018310547,
          179.47000122070312,
          178.08999633789062,
          177.8300018310547,
          182.6300048828125,
          179.61000061035156,
          172.6999969482422,
          172.88999938964844,
          169.0800018310547,
          172.32000732421875,
          176.1199951171875,
          175.77999877929688,
          171.33999633789062,
          171.50999450683594,
          170,
          166.97999572753906,
          164.4199981689453,
          160.02000427246094,
          158.97999572753906,
          163.5,
          162.4499969482422,
          165.7100067138672,
          170.16000366210938,
          174.00999450683594,
          174.75,
          174.47999572753906,
          171.67999267578125,
          172.86000061035156,
          171.72999572753906,
          176.0500030517578,
          174.13999938964844,
          172.3300018310547,
          167.3699951171875,
          170.97000122070312,
          171.85000610351562,
          171.02999877929688,
          169.82000732421875,
          164.97999572753906,
          165.5399932861328,
          152.5800018310547,
          163.83999633789062,
          163.05999755859375,
          164.6999969482422,
          164.38999938964844,
          168.47000122070312,
          164.49000549316406,
          163.36000061035156,
          158.82000732421875,
          161.47999572753906,
          160.1999969482422,
          158.92999267578125,
          151.4499969482422,
          150.89999389648438,
          157.0500030517578,
          158.61000061035156,
          160.50999450683594,
          163.50999450683594,
          165.50999450683594,
          167.99000549316406,
          171.05999755859375,
          173.8800048828125,
          172.1699981689453,
          176.69000244140625,
          178.5500030517578,
          177.83999633789062,
          174.02999877929688,
          174.57000732421875,
          177.5,
          172.36000061035156,
          171.16000366210938,
          171.77999877929688,
          168.7100067138672,
          168.02000427246094,
          167.38999938964844,
          170.6199951171875,
          163.9199981689453,
          165.02000427246094,
          168.75999450683594,
          168.91000366210938,
          166.4600067138672,
          161.1199951171875,
          162.25,
          155.91000366210938,
          159.25,
          161.83999633789062,
          156.7100067138672,
          158.14999389648438,
          159.6699981689453,
          163.85000610351562,
          156.00999450683594,
          154.92999267578125,
          155.52000427246094,
          153.5,
          142.77000427246094,
          144.58999633789062,
          145.5500030517578,
          148.86000061035156,
          146.85000610351562,
          139.8800048828125,
          139.08999633789062,
          137.7899932861328,
          140.80999755859375,
          138.42999267578125,
          137.38999938964844,
          145.38999938964844,
          149.07000732421875,
          149.89999389648438,
          147.8300018310547,
          146.89999389648438,
          147.02999877929688,
          144.35000610351562,
          148.5800018310547,
          147.0800018310547,
          140.27999877929688,
          132.8699951171875,
          133.1300048828125,
          134.2899932861328,
          132.0800018310547,
          130.07000732421875,
          133.4199981689453,
          134.7899932861328,
          136.82000732421875,
          139.89999389648438,
          142.6999969482422,
          142.1300048828125,
          137.4600067138672,
          137.25,
          136.0399932861328,
          137.77000427246094,
          141.35000610351562,
          143.2899932861328,
          145.25999450683594,
          145.6699981689453,
          145.75999450683594,
          142.99000549316406,
          144.0800018310547,
          149.77999877929688,
          150.74000549316406,
          147.9199981689453,
          151.1199951171875,
          154.5,
          155.38999938964844,
          154.00999450683594,
          152.25999450683594,
          152.5800018310547,
          156.97999572753906,
          161.24000549316406,
          161.00999450683594,
          160.10000610351562,
          160.83999633789062,
          166.00999450683594,
          163.2100067138672,
          166.3699951171875,
          164.02000427246094,
          167.67999267578125,
          170.05999755859375,
          169.82000732421875,
          171.52000427246094,
          172.77999877929688,
          172.77000427246094,
          173.75,
          173.02999877929688,
          169.69000244140625,
          167.0800018310547,
          167.32000732421875,
          168.77999877929688,
          170.57000732421875,
          161.14999389648438,
          162.1300048828125,
          160.30999755859375,
          156.63999938964844,
          159.75,
          156.47000122070312,
          154.82000732421875,
          154.63999938964844,
          155.47000122070312,
          159.58999633789062,
          159.89999389648438,
          154.7899932861328,
          154.64999389648438,
          151.2100067138672,
          149.30999755859375,
          153.39999389648438,
          157.33999633789062,
          152.3800048828125,
          151.19000244140625,
          149.66000366210938,
          152.74000549316406,
          147.63999938964844,
          146.10000610351562,
          141.27999877929688,
          138.2100067138672,
          145.02999877929688,
          144.07000732421875,
          145.80999755859375,
          142.5399932861328,
          140.4199981689453,
          139.89999389648438,
          139.1300048828125,
          134.99000549316406,
          144.30999755859375,
          141.07000732421875,
          145.49000549316406,
          141.69000244140625,
          143.02000427246094,
          142.8699951171875,
          147.19000244140625,
          150.08999633789062,
          150.9600067138672,
          148.07000732421875,
          148.1999969482422,
          153.16000366210938,
          155.0800018310547,
          148.9499969482422,
          142.05999755859375,
          142.08999633789062,
          137.11000061035156,
          140.41000366210938,
          138.5,
          141.24000549316406,
          145.82000732421875,
          148.97000122070312,
          152.22000122070312,
          149.1300048828125,
          146.42999267578125,
          152.30999755859375,
          150.16000366210938,
          148.1300048828125,
          149.4499969482422,
          148.30999755859375,
          145.13999938964844,
          144.2899932861328,
          141.39999389648438,
          148.2100067138672,
          145.9600067138672,
          147.77000427246094,
          147.07000732421875,
          142.19000244140625,
          142.36000061035156,
          142.33999633789062,
          142.6999969482422,
          149.5,
          145.35000610351562,
          141.11000061035156,
          136.69000244140625,
          135.11000061035156,
          131.38999938964844,
          132.97999572753906,
          134.35000610351562,
          130.9199981689453,
          131.3800048828125,
          129.6699981689453,
          127.98999786376953,
          128.41000366210938,
          130.27999877929688,
          126.88999938964844,
          127.12999725341797,
          126.01000213623047,
          130.47000122070312,
          130.25999450683594,
          131.25,
          133.8800048828125,
          132.02999877929688,
          134.8300018310547,
          136.82000732421875,
          134.0800018310547,
          135.27999877929688,
          138.1199951171875,
          140.30999755859375,
          140.88999938964844,
          143.1699981689453,
          143.16000366210938,
          144.9600067138672,
          142.6999969482422,
          143.97000122070312,
          148.89999389648438,
          148.02999877929688,
          152.57000732421875,
          150.63999938964844,
          153.8800048828125,
          153.77999877929688,
          149.4600067138672,
          150.9499969482422,
          152.1199951171875,
          153.11000061035156,
          153.50999450683594,
          152.35000610351562,
          150.1999969482422,
          148.8699951171875,
          150.08999633789062,
          147.11000061035156,
          147.7100067138672,
          147.0500030517578,
          146.8300018310547,
          144.3800048828125,
          148.0399932861328,
          153.7899932861328,
          153.6999969482422,
          152.80999755859375,
          153.55999755859375,
          150.2100067138672,
          147.80999755859375,
          151.27999877929688,
          151.19000244140625,
          152.16000366210938,
          156.0800018310547,
          155.07000732421875,
          157.32000732421875,
          159.3000030517578,
          158.8300018310547,
          158.86000061035156,
          159.94000244140625,
          157.97000122070312,
          159.3699951171875,
          161.52999877929688,
          162.44000244140625,
          164.27000427246094,
          166.60000610351562,
          164.74000549316406,
          162.42999267578125,
          161.4199981689453,
          162.35000610351562,
          161.22000122070312,
          161.6300048828125,
          164.58999633789062,
          165.08999633789062,
          166.10000610351562,
          165.8000030517578,
          166.08999633789062,
          165.0500030517578,
          165,
          165.19000244140625,
          163.05999755859375,
          165.19000244140625,
          168.49000549316406,
          169.27999877929688,
          170.08999633789062,
          169.5,
          164.88999938964844,
          170.97999572753906,
          172.47999572753906,
          173.0500030517578,
          173.02000427246094,
          173.85000610351562,
          173.6199951171875,
          173.16000366210938,
          171.99000549316406,
          171.7100067138672,
          173,
          176.38999938964844,
          173.97999572753906,
          173.1300048828125,
          171.08999633789062,
          172.41000366210938,
          173.32000732421875,
          176.9600067138672,
          177.3300018310547,
          177.6999969482422,
          181.02999877929688,
          182.6300048828125,
          179.97000122070312,
          178.44000244140625,
          177.89999389648438,
          181.5,
          181.27000427246094,
          182.8000030517578,
          183.3699951171875,
          183.9600067138672,
          186.72999572753906,
          184.41000366210938,
          184.89999389648438,
          183.74000549316406,
          185.5500030517578,
          186.8300018310547,
          185.88999938964844,
          187.92999267578125,
          189.0800018310547,
          191.6300048828125,
          193.77999877929688,
          191.57000732421875,
          189.83999633789062,
          191.41000366210938,
          189.25999450683594,
          189.16000366210938,
          189.67999267578125,
          190.5,
          190.22999572753906,
          191.89999389648438,
          193.35000610351562,
          193.10000610351562,
          195.08999633789062,
          194.10000610351562,
          193.41000366210938,
          193.3300018310547,
          193.6699981689453,
          196.02000427246094,
          194.6699981689453,
          196.05999755859375,
          196.24000549316406,
          195.0399932861328,
          191.57000732421875,
          185.52000427246094,
          182.1300048828125,
          179.69000244140625,
          180.8699951171875,
          179.47999572753906,
          177.32000732421875,
          177.97000122070312,
          178.8800048828125,
          177.1300048828125,
          177.13999938964844,
          172.3000030517578,
          175.07000732421875,
          177.05999755859375,
          178.52000427246094,
          180.6699981689453,
          177.3800048828125,
          180.08999633789062,
          179.6999969482422,
          184.94000244140625,
          187.83999633789062,
          189.49000549316406,
          188.27999877929688,
          188.39999389648438,
          175.17999267578125,
          178.35000610351562,
          180.07000732421875,
          179.49000549316406,
          176.50999450683594,
          174,
          176.47999572753906,
          176.47999572753906,
          177.52000427246094,
          179.25999450683594,
          174.5500030517578,
          174.6699981689453,
          174.1999969482422,
          174.82000732421875,
          172.6199951171875,
          169.33999633789062,
          172.02000427246094,
          171.22000122070312,
          172.25999450683594,
          171.08999633789062,
          173.7899932861328,
          173.8000030517578,
          176.80999755859375,
          178.10000610351562,
          178.1999969482422,
          180.07000732421875,
          181.4199981689453,
          176.75,
          176.64999389648438,
          175.5800018310547,
          176.0399932861328,
          175.30999755859375,
          170.91000366210938,
          173.0500030517578,
          171.8800048828125,
          170.3699951171875,
          166.91000366210938,
          169.02000427246094,
          169.35000610351562,
          171,
          175.52000427246094,
          174.24000549316406,
          176.3800048828125,
          179.17999267578125,
          182.35000610351562,
          182.9600067138672
         ],
         "type": "candlestick",
         "x": [
          "2020-01-02T00:00:00",
          "2020-01-03T00:00:00",
          "2020-01-06T00:00:00",
          "2020-01-07T00:00:00",
          "2020-01-08T00:00:00",
          "2020-01-09T00:00:00",
          "2020-01-10T00:00:00",
          "2020-01-13T00:00:00",
          "2020-01-14T00:00:00",
          "2020-01-15T00:00:00",
          "2020-01-16T00:00:00",
          "2020-01-17T00:00:00",
          "2020-01-21T00:00:00",
          "2020-01-22T00:00:00",
          "2020-01-23T00:00:00",
          "2020-01-24T00:00:00",
          "2020-01-27T00:00:00",
          "2020-01-28T00:00:00",
          "2020-01-29T00:00:00",
          "2020-01-30T00:00:00",
          "2020-01-31T00:00:00",
          "2020-02-03T00:00:00",
          "2020-02-04T00:00:00",
          "2020-02-05T00:00:00",
          "2020-02-06T00:00:00",
          "2020-02-07T00:00:00",
          "2020-02-10T00:00:00",
          "2020-02-11T00:00:00",
          "2020-02-12T00:00:00",
          "2020-02-13T00:00:00",
          "2020-02-14T00:00:00",
          "2020-02-18T00:00:00",
          "2020-02-19T00:00:00",
          "2020-02-20T00:00:00",
          "2020-02-21T00:00:00",
          "2020-02-24T00:00:00",
          "2020-02-25T00:00:00",
          "2020-02-26T00:00:00",
          "2020-02-27T00:00:00",
          "2020-02-28T00:00:00",
          "2020-03-02T00:00:00",
          "2020-03-03T00:00:00",
          "2020-03-04T00:00:00",
          "2020-03-05T00:00:00",
          "2020-03-06T00:00:00",
          "2020-03-09T00:00:00",
          "2020-03-10T00:00:00",
          "2020-03-11T00:00:00",
          "2020-03-12T00:00:00",
          "2020-03-13T00:00:00",
          "2020-03-16T00:00:00",
          "2020-03-17T00:00:00",
          "2020-03-18T00:00:00",
          "2020-03-19T00:00:00",
          "2020-03-20T00:00:00",
          "2020-03-23T00:00:00",
          "2020-03-24T00:00:00",
          "2020-03-25T00:00:00",
          "2020-03-26T00:00:00",
          "2020-03-27T00:00:00",
          "2020-03-30T00:00:00",
          "2020-03-31T00:00:00",
          "2020-04-01T00:00:00",
          "2020-04-02T00:00:00",
          "2020-04-03T00:00:00",
          "2020-04-06T00:00:00",
          "2020-04-07T00:00:00",
          "2020-04-08T00:00:00",
          "2020-04-09T00:00:00",
          "2020-04-13T00:00:00",
          "2020-04-14T00:00:00",
          "2020-04-15T00:00:00",
          "2020-04-16T00:00:00",
          "2020-04-17T00:00:00",
          "2020-04-20T00:00:00",
          "2020-04-21T00:00:00",
          "2020-04-22T00:00:00",
          "2020-04-23T00:00:00",
          "2020-04-24T00:00:00",
          "2020-04-27T00:00:00",
          "2020-04-28T00:00:00",
          "2020-04-29T00:00:00",
          "2020-04-30T00:00:00",
          "2020-05-01T00:00:00",
          "2020-05-04T00:00:00",
          "2020-05-05T00:00:00",
          "2020-05-06T00:00:00",
          "2020-05-07T00:00:00",
          "2020-05-08T00:00:00",
          "2020-05-11T00:00:00",
          "2020-05-12T00:00:00",
          "2020-05-13T00:00:00",
          "2020-05-14T00:00:00",
          "2020-05-15T00:00:00",
          "2020-05-18T00:00:00",
          "2020-05-19T00:00:00",
          "2020-05-20T00:00:00",
          "2020-05-21T00:00:00",
          "2020-05-22T00:00:00",
          "2020-05-26T00:00:00",
          "2020-05-27T00:00:00",
          "2020-05-28T00:00:00",
          "2020-05-29T00:00:00",
          "2020-06-01T00:00:00",
          "2020-06-02T00:00:00",
          "2020-06-03T00:00:00",
          "2020-06-04T00:00:00",
          "2020-06-05T00:00:00",
          "2020-06-08T00:00:00",
          "2020-06-09T00:00:00",
          "2020-06-10T00:00:00",
          "2020-06-11T00:00:00",
          "2020-06-12T00:00:00",
          "2020-06-15T00:00:00",
          "2020-06-16T00:00:00",
          "2020-06-17T00:00:00",
          "2020-06-18T00:00:00",
          "2020-06-19T00:00:00",
          "2020-06-22T00:00:00",
          "2020-06-23T00:00:00",
          "2020-06-24T00:00:00",
          "2020-06-25T00:00:00",
          "2020-06-26T00:00:00",
          "2020-06-29T00:00:00",
          "2020-06-30T00:00:00",
          "2020-07-01T00:00:00",
          "2020-07-02T00:00:00",
          "2020-07-06T00:00:00",
          "2020-07-07T00:00:00",
          "2020-07-08T00:00:00",
          "2020-07-09T00:00:00",
          "2020-07-10T00:00:00",
          "2020-07-13T00:00:00",
          "2020-07-14T00:00:00",
          "2020-07-15T00:00:00",
          "2020-07-16T00:00:00",
          "2020-07-17T00:00:00",
          "2020-07-20T00:00:00",
          "2020-07-21T00:00:00",
          "2020-07-22T00:00:00",
          "2020-07-23T00:00:00",
          "2020-07-24T00:00:00",
          "2020-07-27T00:00:00",
          "2020-07-28T00:00:00",
          "2020-07-29T00:00:00",
          "2020-07-30T00:00:00",
          "2020-07-31T00:00:00",
          "2020-08-03T00:00:00",
          "2020-08-04T00:00:00",
          "2020-08-05T00:00:00",
          "2020-08-06T00:00:00",
          "2020-08-07T00:00:00",
          "2020-08-10T00:00:00",
          "2020-08-11T00:00:00",
          "2020-08-12T00:00:00",
          "2020-08-13T00:00:00",
          "2020-08-14T00:00:00",
          "2020-08-17T00:00:00",
          "2020-08-18T00:00:00",
          "2020-08-19T00:00:00",
          "2020-08-20T00:00:00",
          "2020-08-21T00:00:00",
          "2020-08-24T00:00:00",
          "2020-08-25T00:00:00",
          "2020-08-26T00:00:00",
          "2020-08-27T00:00:00",
          "2020-08-28T00:00:00",
          "2020-08-31T00:00:00",
          "2020-09-01T00:00:00",
          "2020-09-02T00:00:00",
          "2020-09-03T00:00:00",
          "2020-09-04T00:00:00",
          "2020-09-08T00:00:00",
          "2020-09-09T00:00:00",
          "2020-09-10T00:00:00",
          "2020-09-11T00:00:00",
          "2020-09-14T00:00:00",
          "2020-09-15T00:00:00",
          "2020-09-16T00:00:00",
          "2020-09-17T00:00:00",
          "2020-09-18T00:00:00",
          "2020-09-21T00:00:00",
          "2020-09-22T00:00:00",
          "2020-09-23T00:00:00",
          "2020-09-24T00:00:00",
          "2020-09-25T00:00:00",
          "2020-09-28T00:00:00",
          "2020-09-29T00:00:00",
          "2020-09-30T00:00:00",
          "2020-10-01T00:00:00",
          "2020-10-02T00:00:00",
          "2020-10-05T00:00:00",
          "2020-10-06T00:00:00",
          "2020-10-07T00:00:00",
          "2020-10-08T00:00:00",
          "2020-10-09T00:00:00",
          "2020-10-12T00:00:00",
          "2020-10-13T00:00:00",
          "2020-10-14T00:00:00",
          "2020-10-15T00:00:00",
          "2020-10-16T00:00:00",
          "2020-10-19T00:00:00",
          "2020-10-20T00:00:00",
          "2020-10-21T00:00:00",
          "2020-10-22T00:00:00",
          "2020-10-23T00:00:00",
          "2020-10-26T00:00:00",
          "2020-10-27T00:00:00",
          "2020-10-28T00:00:00",
          "2020-10-29T00:00:00",
          "2020-10-30T00:00:00",
          "2020-11-02T00:00:00",
          "2020-11-03T00:00:00",
          "2020-11-04T00:00:00",
          "2020-11-05T00:00:00",
          "2020-11-06T00:00:00",
          "2020-11-09T00:00:00",
          "2020-11-10T00:00:00",
          "2020-11-11T00:00:00",
          "2020-11-12T00:00:00",
          "2020-11-13T00:00:00",
          "2020-11-16T00:00:00",
          "2020-11-17T00:00:00",
          "2020-11-18T00:00:00",
          "2020-11-19T00:00:00",
          "2020-11-20T00:00:00",
          "2020-11-23T00:00:00",
          "2020-11-24T00:00:00",
          "2020-11-25T00:00:00",
          "2020-11-27T00:00:00",
          "2020-11-30T00:00:00",
          "2020-12-01T00:00:00",
          "2020-12-02T00:00:00",
          "2020-12-03T00:00:00",
          "2020-12-04T00:00:00",
          "2020-12-07T00:00:00",
          "2020-12-08T00:00:00",
          "2020-12-09T00:00:00",
          "2020-12-10T00:00:00",
          "2020-12-11T00:00:00",
          "2020-12-14T00:00:00",
          "2020-12-15T00:00:00",
          "2020-12-16T00:00:00",
          "2020-12-17T00:00:00",
          "2020-12-18T00:00:00",
          "2020-12-21T00:00:00",
          "2020-12-22T00:00:00",
          "2020-12-23T00:00:00",
          "2020-12-24T00:00:00",
          "2020-12-28T00:00:00",
          "2020-12-29T00:00:00",
          "2020-12-30T00:00:00",
          "2020-12-31T00:00:00",
          "2021-01-04T00:00:00",
          "2021-01-05T00:00:00",
          "2021-01-06T00:00:00",
          "2021-01-07T00:00:00",
          "2021-01-08T00:00:00",
          "2021-01-11T00:00:00",
          "2021-01-12T00:00:00",
          "2021-01-13T00:00:00",
          "2021-01-14T00:00:00",
          "2021-01-15T00:00:00",
          "2021-01-19T00:00:00",
          "2021-01-20T00:00:00",
          "2021-01-21T00:00:00",
          "2021-01-22T00:00:00",
          "2021-01-25T00:00:00",
          "2021-01-26T00:00:00",
          "2021-01-27T00:00:00",
          "2021-01-28T00:00:00",
          "2021-01-29T00:00:00",
          "2021-02-01T00:00:00",
          "2021-02-02T00:00:00",
          "2021-02-03T00:00:00",
          "2021-02-04T00:00:00",
          "2021-02-05T00:00:00",
          "2021-02-08T00:00:00",
          "2021-02-09T00:00:00",
          "2021-02-10T00:00:00",
          "2021-02-11T00:00:00",
          "2021-02-12T00:00:00",
          "2021-02-16T00:00:00",
          "2021-02-17T00:00:00",
          "2021-02-18T00:00:00",
          "2021-02-19T00:00:00",
          "2021-02-22T00:00:00",
          "2021-02-23T00:00:00",
          "2021-02-24T00:00:00",
          "2021-02-25T00:00:00",
          "2021-02-26T00:00:00",
          "2021-03-01T00:00:00",
          "2021-03-02T00:00:00",
          "2021-03-03T00:00:00",
          "2021-03-04T00:00:00",
          "2021-03-05T00:00:00",
          "2021-03-08T00:00:00",
          "2021-03-09T00:00:00",
          "2021-03-10T00:00:00",
          "2021-03-11T00:00:00",
          "2021-03-12T00:00:00",
          "2021-03-15T00:00:00",
          "2021-03-16T00:00:00",
          "2021-03-17T00:00:00",
          "2021-03-18T00:00:00",
          "2021-03-19T00:00:00",
          "2021-03-22T00:00:00",
          "2021-03-23T00:00:00",
          "2021-03-24T00:00:00",
          "2021-03-25T00:00:00",
          "2021-03-26T00:00:00",
          "2021-03-29T00:00:00",
          "2021-03-30T00:00:00",
          "2021-03-31T00:00:00",
          "2021-04-01T00:00:00",
          "2021-04-05T00:00:00",
          "2021-04-06T00:00:00",
          "2021-04-07T00:00:00",
          "2021-04-08T00:00:00",
          "2021-04-09T00:00:00",
          "2021-04-12T00:00:00",
          "2021-04-13T00:00:00",
          "2021-04-14T00:00:00",
          "2021-04-15T00:00:00",
          "2021-04-16T00:00:00",
          "2021-04-19T00:00:00",
          "2021-04-20T00:00:00",
          "2021-04-21T00:00:00",
          "2021-04-22T00:00:00",
          "2021-04-23T00:00:00",
          "2021-04-26T00:00:00",
          "2021-04-27T00:00:00",
          "2021-04-28T00:00:00",
          "2021-04-29T00:00:00",
          "2021-04-30T00:00:00",
          "2021-05-03T00:00:00",
          "2021-05-04T00:00:00",
          "2021-05-05T00:00:00",
          "2021-05-06T00:00:00",
          "2021-05-07T00:00:00",
          "2021-05-10T00:00:00",
          "2021-05-11T00:00:00",
          "2021-05-12T00:00:00",
          "2021-05-13T00:00:00",
          "2021-05-14T00:00:00",
          "2021-05-17T00:00:00",
          "2021-05-18T00:00:00",
          "2021-05-19T00:00:00",
          "2021-05-20T00:00:00",
          "2021-05-21T00:00:00",
          "2021-05-24T00:00:00",
          "2021-05-25T00:00:00",
          "2021-05-26T00:00:00",
          "2021-05-27T00:00:00",
          "2021-05-28T00:00:00",
          "2021-06-01T00:00:00",
          "2021-06-02T00:00:00",
          "2021-06-03T00:00:00",
          "2021-06-04T00:00:00",
          "2021-06-07T00:00:00",
          "2021-06-08T00:00:00",
          "2021-06-09T00:00:00",
          "2021-06-10T00:00:00",
          "2021-06-11T00:00:00",
          "2021-06-14T00:00:00",
          "2021-06-15T00:00:00",
          "2021-06-16T00:00:00",
          "2021-06-17T00:00:00",
          "2021-06-18T00:00:00",
          "2021-06-21T00:00:00",
          "2021-06-22T00:00:00",
          "2021-06-23T00:00:00",
          "2021-06-24T00:00:00",
          "2021-06-25T00:00:00",
          "2021-06-28T00:00:00",
          "2021-06-29T00:00:00",
          "2021-06-30T00:00:00",
          "2021-07-01T00:00:00",
          "2021-07-02T00:00:00",
          "2021-07-06T00:00:00",
          "2021-07-07T00:00:00",
          "2021-07-08T00:00:00",
          "2021-07-09T00:00:00",
          "2021-07-12T00:00:00",
          "2021-07-13T00:00:00",
          "2021-07-14T00:00:00",
          "2021-07-15T00:00:00",
          "2021-07-16T00:00:00",
          "2021-07-19T00:00:00",
          "2021-07-20T00:00:00",
          "2021-07-21T00:00:00",
          "2021-07-22T00:00:00",
          "2021-07-23T00:00:00",
          "2021-07-26T00:00:00",
          "2021-07-27T00:00:00",
          "2021-07-28T00:00:00",
          "2021-07-29T00:00:00",
          "2021-07-30T00:00:00",
          "2021-08-02T00:00:00",
          "2021-08-03T00:00:00",
          "2021-08-04T00:00:00",
          "2021-08-05T00:00:00",
          "2021-08-06T00:00:00",
          "2021-08-09T00:00:00",
          "2021-08-10T00:00:00",
          "2021-08-11T00:00:00",
          "2021-08-12T00:00:00",
          "2021-08-13T00:00:00",
          "2021-08-16T00:00:00",
          "2021-08-17T00:00:00",
          "2021-08-18T00:00:00",
          "2021-08-19T00:00:00",
          "2021-08-20T00:00:00",
          "2021-08-23T00:00:00",
          "2021-08-24T00:00:00",
          "2021-08-25T00:00:00",
          "2021-08-26T00:00:00",
          "2021-08-27T00:00:00",
          "2021-08-30T00:00:00",
          "2021-08-31T00:00:00",
          "2021-09-01T00:00:00",
          "2021-09-02T00:00:00",
          "2021-09-03T00:00:00",
          "2021-09-07T00:00:00",
          "2021-09-08T00:00:00",
          "2021-09-09T00:00:00",
          "2021-09-10T00:00:00",
          "2021-09-13T00:00:00",
          "2021-09-14T00:00:00",
          "2021-09-15T00:00:00",
          "2021-09-16T00:00:00",
          "2021-09-17T00:00:00",
          "2021-09-20T00:00:00",
          "2021-09-21T00:00:00",
          "2021-09-22T00:00:00",
          "2021-09-23T00:00:00",
          "2021-09-24T00:00:00",
          "2021-09-27T00:00:00",
          "2021-09-28T00:00:00",
          "2021-09-29T00:00:00",
          "2021-09-30T00:00:00",
          "2021-10-01T00:00:00",
          "2021-10-04T00:00:00",
          "2021-10-05T00:00:00",
          "2021-10-06T00:00:00",
          "2021-10-07T00:00:00",
          "2021-10-08T00:00:00",
          "2021-10-11T00:00:00",
          "2021-10-12T00:00:00",
          "2021-10-13T00:00:00",
          "2021-10-14T00:00:00",
          "2021-10-15T00:00:00",
          "2021-10-18T00:00:00",
          "2021-10-19T00:00:00",
          "2021-10-20T00:00:00",
          "2021-10-21T00:00:00",
          "2021-10-22T00:00:00",
          "2021-10-25T00:00:00",
          "2021-10-26T00:00:00",
          "2021-10-27T00:00:00",
          "2021-10-28T00:00:00",
          "2021-10-29T00:00:00",
          "2021-11-01T00:00:00",
          "2021-11-02T00:00:00",
          "2021-11-03T00:00:00",
          "2021-11-04T00:00:00",
          "2021-11-05T00:00:00",
          "2021-11-08T00:00:00",
          "2021-11-09T00:00:00",
          "2021-11-10T00:00:00",
          "2021-11-11T00:00:00",
          "2021-11-12T00:00:00",
          "2021-11-15T00:00:00",
          "2021-11-16T00:00:00",
          "2021-11-17T00:00:00",
          "2021-11-18T00:00:00",
          "2021-11-19T00:00:00",
          "2021-11-22T00:00:00",
          "2021-11-23T00:00:00",
          "2021-11-24T00:00:00",
          "2021-11-26T00:00:00",
          "2021-11-29T00:00:00",
          "2021-11-30T00:00:00",
          "2021-12-01T00:00:00",
          "2021-12-02T00:00:00",
          "2021-12-03T00:00:00",
          "2021-12-06T00:00:00",
          "2021-12-07T00:00:00",
          "2021-12-08T00:00:00",
          "2021-12-09T00:00:00",
          "2021-12-10T00:00:00",
          "2021-12-13T00:00:00",
          "2021-12-14T00:00:00",
          "2021-12-15T00:00:00",
          "2021-12-16T00:00:00",
          "2021-12-17T00:00:00",
          "2021-12-20T00:00:00",
          "2021-12-21T00:00:00",
          "2021-12-22T00:00:00",
          "2021-12-23T00:00:00",
          "2021-12-27T00:00:00",
          "2021-12-28T00:00:00",
          "2021-12-29T00:00:00",
          "2021-12-30T00:00:00",
          "2021-12-31T00:00:00",
          "2022-01-03T00:00:00",
          "2022-01-04T00:00:00",
          "2022-01-05T00:00:00",
          "2022-01-06T00:00:00",
          "2022-01-07T00:00:00",
          "2022-01-10T00:00:00",
          "2022-01-11T00:00:00",
          "2022-01-12T00:00:00",
          "2022-01-13T00:00:00",
          "2022-01-14T00:00:00",
          "2022-01-18T00:00:00",
          "2022-01-19T00:00:00",
          "2022-01-20T00:00:00",
          "2022-01-21T00:00:00",
          "2022-01-24T00:00:00",
          "2022-01-25T00:00:00",
          "2022-01-26T00:00:00",
          "2022-01-27T00:00:00",
          "2022-01-28T00:00:00",
          "2022-01-31T00:00:00",
          "2022-02-01T00:00:00",
          "2022-02-02T00:00:00",
          "2022-02-03T00:00:00",
          "2022-02-04T00:00:00",
          "2022-02-07T00:00:00",
          "2022-02-08T00:00:00",
          "2022-02-09T00:00:00",
          "2022-02-10T00:00:00",
          "2022-02-11T00:00:00",
          "2022-02-14T00:00:00",
          "2022-02-15T00:00:00",
          "2022-02-16T00:00:00",
          "2022-02-17T00:00:00",
          "2022-02-18T00:00:00",
          "2022-02-22T00:00:00",
          "2022-02-23T00:00:00",
          "2022-02-24T00:00:00",
          "2022-02-25T00:00:00",
          "2022-02-28T00:00:00",
          "2022-03-01T00:00:00",
          "2022-03-02T00:00:00",
          "2022-03-03T00:00:00",
          "2022-03-04T00:00:00",
          "2022-03-07T00:00:00",
          "2022-03-08T00:00:00",
          "2022-03-09T00:00:00",
          "2022-03-10T00:00:00",
          "2022-03-11T00:00:00",
          "2022-03-14T00:00:00",
          "2022-03-15T00:00:00",
          "2022-03-16T00:00:00",
          "2022-03-17T00:00:00",
          "2022-03-18T00:00:00",
          "2022-03-21T00:00:00",
          "2022-03-22T00:00:00",
          "2022-03-23T00:00:00",
          "2022-03-24T00:00:00",
          "2022-03-25T00:00:00",
          "2022-03-28T00:00:00",
          "2022-03-29T00:00:00",
          "2022-03-30T00:00:00",
          "2022-03-31T00:00:00",
          "2022-04-01T00:00:00",
          "2022-04-04T00:00:00",
          "2022-04-05T00:00:00",
          "2022-04-06T00:00:00",
          "2022-04-07T00:00:00",
          "2022-04-08T00:00:00",
          "2022-04-11T00:00:00",
          "2022-04-12T00:00:00",
          "2022-04-13T00:00:00",
          "2022-04-14T00:00:00",
          "2022-04-18T00:00:00",
          "2022-04-19T00:00:00",
          "2022-04-20T00:00:00",
          "2022-04-21T00:00:00",
          "2022-04-22T00:00:00",
          "2022-04-25T00:00:00",
          "2022-04-26T00:00:00",
          "2022-04-27T00:00:00",
          "2022-04-28T00:00:00",
          "2022-04-29T00:00:00",
          "2022-05-02T00:00:00",
          "2022-05-03T00:00:00",
          "2022-05-04T00:00:00",
          "2022-05-05T00:00:00",
          "2022-05-06T00:00:00",
          "2022-05-09T00:00:00",
          "2022-05-10T00:00:00",
          "2022-05-11T00:00:00",
          "2022-05-12T00:00:00",
          "2022-05-13T00:00:00",
          "2022-05-16T00:00:00",
          "2022-05-17T00:00:00",
          "2022-05-18T00:00:00",
          "2022-05-19T00:00:00",
          "2022-05-20T00:00:00",
          "2022-05-23T00:00:00",
          "2022-05-24T00:00:00",
          "2022-05-25T00:00:00",
          "2022-05-26T00:00:00",
          "2022-05-27T00:00:00",
          "2022-05-31T00:00:00",
          "2022-06-01T00:00:00",
          "2022-06-02T00:00:00",
          "2022-06-03T00:00:00",
          "2022-06-06T00:00:00",
          "2022-06-07T00:00:00",
          "2022-06-08T00:00:00",
          "2022-06-09T00:00:00",
          "2022-06-10T00:00:00",
          "2022-06-13T00:00:00",
          "2022-06-14T00:00:00",
          "2022-06-15T00:00:00",
          "2022-06-16T00:00:00",
          "2022-06-17T00:00:00",
          "2022-06-21T00:00:00",
          "2022-06-22T00:00:00",
          "2022-06-23T00:00:00",
          "2022-06-24T00:00:00",
          "2022-06-27T00:00:00",
          "2022-06-28T00:00:00",
          "2022-06-29T00:00:00",
          "2022-06-30T00:00:00",
          "2022-07-01T00:00:00",
          "2022-07-05T00:00:00",
          "2022-07-06T00:00:00",
          "2022-07-07T00:00:00",
          "2022-07-08T00:00:00",
          "2022-07-11T00:00:00",
          "2022-07-12T00:00:00",
          "2022-07-13T00:00:00",
          "2022-07-14T00:00:00",
          "2022-07-15T00:00:00",
          "2022-07-18T00:00:00",
          "2022-07-19T00:00:00",
          "2022-07-20T00:00:00",
          "2022-07-21T00:00:00",
          "2022-07-22T00:00:00",
          "2022-07-25T00:00:00",
          "2022-07-26T00:00:00",
          "2022-07-27T00:00:00",
          "2022-07-28T00:00:00",
          "2022-07-29T00:00:00",
          "2022-08-01T00:00:00",
          "2022-08-02T00:00:00",
          "2022-08-03T00:00:00",
          "2022-08-04T00:00:00",
          "2022-08-05T00:00:00",
          "2022-08-08T00:00:00",
          "2022-08-09T00:00:00",
          "2022-08-10T00:00:00",
          "2022-08-11T00:00:00",
          "2022-08-12T00:00:00",
          "2022-08-15T00:00:00",
          "2022-08-16T00:00:00",
          "2022-08-17T00:00:00",
          "2022-08-18T00:00:00",
          "2022-08-19T00:00:00",
          "2022-08-22T00:00:00",
          "2022-08-23T00:00:00",
          "2022-08-24T00:00:00",
          "2022-08-25T00:00:00",
          "2022-08-26T00:00:00",
          "2022-08-29T00:00:00",
          "2022-08-30T00:00:00",
          "2022-08-31T00:00:00",
          "2022-09-01T00:00:00",
          "2022-09-02T00:00:00",
          "2022-09-06T00:00:00",
          "2022-09-07T00:00:00",
          "2022-09-08T00:00:00",
          "2022-09-09T00:00:00",
          "2022-09-12T00:00:00",
          "2022-09-13T00:00:00",
          "2022-09-14T00:00:00",
          "2022-09-15T00:00:00",
          "2022-09-16T00:00:00",
          "2022-09-19T00:00:00",
          "2022-09-20T00:00:00",
          "2022-09-21T00:00:00",
          "2022-09-22T00:00:00",
          "2022-09-23T00:00:00",
          "2022-09-26T00:00:00",
          "2022-09-27T00:00:00",
          "2022-09-28T00:00:00",
          "2022-09-29T00:00:00",
          "2022-09-30T00:00:00",
          "2022-10-03T00:00:00",
          "2022-10-04T00:00:00",
          "2022-10-05T00:00:00",
          "2022-10-06T00:00:00",
          "2022-10-07T00:00:00",
          "2022-10-10T00:00:00",
          "2022-10-11T00:00:00",
          "2022-10-12T00:00:00",
          "2022-10-13T00:00:00",
          "2022-10-14T00:00:00",
          "2022-10-17T00:00:00",
          "2022-10-18T00:00:00",
          "2022-10-19T00:00:00",
          "2022-10-20T00:00:00",
          "2022-10-21T00:00:00",
          "2022-10-24T00:00:00",
          "2022-10-25T00:00:00",
          "2022-10-26T00:00:00",
          "2022-10-27T00:00:00",
          "2022-10-28T00:00:00",
          "2022-10-31T00:00:00",
          "2022-11-01T00:00:00",
          "2022-11-02T00:00:00",
          "2022-11-03T00:00:00",
          "2022-11-04T00:00:00",
          "2022-11-07T00:00:00",
          "2022-11-08T00:00:00",
          "2022-11-09T00:00:00",
          "2022-11-10T00:00:00",
          "2022-11-11T00:00:00",
          "2022-11-14T00:00:00",
          "2022-11-15T00:00:00",
          "2022-11-16T00:00:00",
          "2022-11-17T00:00:00",
          "2022-11-18T00:00:00",
          "2022-11-21T00:00:00",
          "2022-11-22T00:00:00",
          "2022-11-23T00:00:00",
          "2022-11-25T00:00:00",
          "2022-11-28T00:00:00",
          "2022-11-29T00:00:00",
          "2022-11-30T00:00:00",
          "2022-12-01T00:00:00",
          "2022-12-02T00:00:00",
          "2022-12-05T00:00:00",
          "2022-12-06T00:00:00",
          "2022-12-07T00:00:00",
          "2022-12-08T00:00:00",
          "2022-12-09T00:00:00",
          "2022-12-12T00:00:00",
          "2022-12-13T00:00:00",
          "2022-12-14T00:00:00",
          "2022-12-15T00:00:00",
          "2022-12-16T00:00:00",
          "2022-12-19T00:00:00",
          "2022-12-20T00:00:00",
          "2022-12-21T00:00:00",
          "2022-12-22T00:00:00",
          "2022-12-23T00:00:00",
          "2022-12-27T00:00:00",
          "2022-12-28T00:00:00",
          "2022-12-29T00:00:00",
          "2022-12-30T00:00:00",
          "2023-01-03T00:00:00",
          "2023-01-04T00:00:00",
          "2023-01-05T00:00:00",
          "2023-01-06T00:00:00",
          "2023-01-09T00:00:00",
          "2023-01-10T00:00:00",
          "2023-01-11T00:00:00",
          "2023-01-12T00:00:00",
          "2023-01-13T00:00:00",
          "2023-01-17T00:00:00",
          "2023-01-18T00:00:00",
          "2023-01-19T00:00:00",
          "2023-01-20T00:00:00",
          "2023-01-23T00:00:00",
          "2023-01-24T00:00:00",
          "2023-01-25T00:00:00",
          "2023-01-26T00:00:00",
          "2023-01-27T00:00:00",
          "2023-01-30T00:00:00",
          "2023-01-31T00:00:00",
          "2023-02-01T00:00:00",
          "2023-02-02T00:00:00",
          "2023-02-03T00:00:00",
          "2023-02-06T00:00:00",
          "2023-02-07T00:00:00",
          "2023-02-08T00:00:00",
          "2023-02-09T00:00:00",
          "2023-02-10T00:00:00",
          "2023-02-13T00:00:00",
          "2023-02-14T00:00:00",
          "2023-02-15T00:00:00",
          "2023-02-16T00:00:00",
          "2023-02-17T00:00:00",
          "2023-02-21T00:00:00",
          "2023-02-22T00:00:00",
          "2023-02-23T00:00:00",
          "2023-02-24T00:00:00",
          "2023-02-27T00:00:00",
          "2023-02-28T00:00:00",
          "2023-03-01T00:00:00",
          "2023-03-02T00:00:00",
          "2023-03-03T00:00:00",
          "2023-03-06T00:00:00",
          "2023-03-07T00:00:00",
          "2023-03-08T00:00:00",
          "2023-03-09T00:00:00",
          "2023-03-10T00:00:00",
          "2023-03-13T00:00:00",
          "2023-03-14T00:00:00",
          "2023-03-15T00:00:00",
          "2023-03-16T00:00:00",
          "2023-03-17T00:00:00",
          "2023-03-20T00:00:00",
          "2023-03-21T00:00:00",
          "2023-03-22T00:00:00",
          "2023-03-23T00:00:00",
          "2023-03-24T00:00:00",
          "2023-03-27T00:00:00",
          "2023-03-28T00:00:00",
          "2023-03-29T00:00:00",
          "2023-03-30T00:00:00",
          "2023-03-31T00:00:00",
          "2023-04-03T00:00:00",
          "2023-04-04T00:00:00",
          "2023-04-05T00:00:00",
          "2023-04-06T00:00:00",
          "2023-04-10T00:00:00",
          "2023-04-11T00:00:00",
          "2023-04-12T00:00:00",
          "2023-04-13T00:00:00",
          "2023-04-14T00:00:00",
          "2023-04-17T00:00:00",
          "2023-04-18T00:00:00",
          "2023-04-19T00:00:00",
          "2023-04-20T00:00:00",
          "2023-04-21T00:00:00",
          "2023-04-24T00:00:00",
          "2023-04-25T00:00:00",
          "2023-04-26T00:00:00",
          "2023-04-27T00:00:00",
          "2023-04-28T00:00:00",
          "2023-05-01T00:00:00",
          "2023-05-02T00:00:00",
          "2023-05-03T00:00:00",
          "2023-05-04T00:00:00",
          "2023-05-05T00:00:00",
          "2023-05-08T00:00:00",
          "2023-05-09T00:00:00",
          "2023-05-10T00:00:00",
          "2023-05-11T00:00:00",
          "2023-05-12T00:00:00",
          "2023-05-15T00:00:00",
          "2023-05-16T00:00:00",
          "2023-05-17T00:00:00",
          "2023-05-18T00:00:00",
          "2023-05-19T00:00:00",
          "2023-05-22T00:00:00",
          "2023-05-23T00:00:00",
          "2023-05-24T00:00:00",
          "2023-05-25T00:00:00",
          "2023-05-26T00:00:00",
          "2023-05-30T00:00:00",
          "2023-05-31T00:00:00",
          "2023-06-01T00:00:00",
          "2023-06-02T00:00:00",
          "2023-06-05T00:00:00",
          "2023-06-06T00:00:00",
          "2023-06-07T00:00:00",
          "2023-06-08T00:00:00",
          "2023-06-09T00:00:00",
          "2023-06-12T00:00:00",
          "2023-06-13T00:00:00",
          "2023-06-14T00:00:00",
          "2023-06-15T00:00:00",
          "2023-06-16T00:00:00",
          "2023-06-20T00:00:00",
          "2023-06-21T00:00:00",
          "2023-06-22T00:00:00",
          "2023-06-23T00:00:00",
          "2023-06-26T00:00:00",
          "2023-06-27T00:00:00",
          "2023-06-28T00:00:00",
          "2023-06-29T00:00:00",
          "2023-06-30T00:00:00",
          "2023-07-03T00:00:00",
          "2023-07-05T00:00:00",
          "2023-07-06T00:00:00",
          "2023-07-07T00:00:00",
          "2023-07-10T00:00:00",
          "2023-07-11T00:00:00",
          "2023-07-12T00:00:00",
          "2023-07-13T00:00:00",
          "2023-07-14T00:00:00",
          "2023-07-17T00:00:00",
          "2023-07-18T00:00:00",
          "2023-07-19T00:00:00",
          "2023-07-20T00:00:00",
          "2023-07-21T00:00:00",
          "2023-07-24T00:00:00",
          "2023-07-25T00:00:00",
          "2023-07-26T00:00:00",
          "2023-07-27T00:00:00",
          "2023-07-28T00:00:00",
          "2023-07-31T00:00:00",
          "2023-08-01T00:00:00",
          "2023-08-02T00:00:00",
          "2023-08-03T00:00:00",
          "2023-08-04T00:00:00",
          "2023-08-07T00:00:00",
          "2023-08-08T00:00:00",
          "2023-08-09T00:00:00",
          "2023-08-10T00:00:00",
          "2023-08-11T00:00:00",
          "2023-08-14T00:00:00",
          "2023-08-15T00:00:00",
          "2023-08-16T00:00:00",
          "2023-08-17T00:00:00",
          "2023-08-18T00:00:00",
          "2023-08-21T00:00:00",
          "2023-08-22T00:00:00",
          "2023-08-23T00:00:00",
          "2023-08-24T00:00:00",
          "2023-08-25T00:00:00",
          "2023-08-28T00:00:00",
          "2023-08-29T00:00:00",
          "2023-08-30T00:00:00",
          "2023-08-31T00:00:00",
          "2023-09-01T00:00:00",
          "2023-09-05T00:00:00",
          "2023-09-06T00:00:00",
          "2023-09-07T00:00:00",
          "2023-09-08T00:00:00",
          "2023-09-11T00:00:00",
          "2023-09-12T00:00:00",
          "2023-09-13T00:00:00",
          "2023-09-14T00:00:00",
          "2023-09-15T00:00:00",
          "2023-09-18T00:00:00",
          "2023-09-19T00:00:00",
          "2023-09-20T00:00:00",
          "2023-09-21T00:00:00",
          "2023-09-22T00:00:00",
          "2023-09-25T00:00:00",
          "2023-09-26T00:00:00",
          "2023-09-27T00:00:00",
          "2023-09-28T00:00:00",
          "2023-09-29T00:00:00",
          "2023-10-02T00:00:00",
          "2023-10-03T00:00:00",
          "2023-10-04T00:00:00",
          "2023-10-05T00:00:00",
          "2023-10-06T00:00:00",
          "2023-10-09T00:00:00",
          "2023-10-10T00:00:00",
          "2023-10-11T00:00:00",
          "2023-10-12T00:00:00",
          "2023-10-13T00:00:00",
          "2023-10-16T00:00:00",
          "2023-10-17T00:00:00",
          "2023-10-18T00:00:00",
          "2023-10-19T00:00:00",
          "2023-10-20T00:00:00",
          "2023-10-23T00:00:00",
          "2023-10-24T00:00:00",
          "2023-10-25T00:00:00",
          "2023-10-26T00:00:00",
          "2023-10-27T00:00:00",
          "2023-10-30T00:00:00",
          "2023-10-31T00:00:00",
          "2023-11-01T00:00:00",
          "2023-11-02T00:00:00",
          "2023-11-03T00:00:00",
          "2023-11-06T00:00:00",
          "2023-11-07T00:00:00",
          "2023-11-08T00:00:00",
          "2023-11-09T00:00:00"
         ]
        }
       ],
       "layout": {
        "template": {
         "data": {
          "bar": [
           {
            "error_x": {
             "color": "#2a3f5f"
            },
            "error_y": {
             "color": "#2a3f5f"
            },
            "marker": {
             "line": {
              "color": "#E5ECF6",
              "width": 0.5
             },
             "pattern": {
              "fillmode": "overlay",
              "size": 10,
              "solidity": 0.2
             }
            },
            "type": "bar"
           }
          ],
          "barpolar": [
           {
            "marker": {
             "line": {
              "color": "#E5ECF6",
              "width": 0.5
             },
             "pattern": {
              "fillmode": "overlay",
              "size": 10,
              "solidity": 0.2
             }
            },
            "type": "barpolar"
           }
          ],
          "carpet": [
           {
            "aaxis": {
             "endlinecolor": "#2a3f5f",
             "gridcolor": "white",
             "linecolor": "white",
             "minorgridcolor": "white",
             "startlinecolor": "#2a3f5f"
            },
            "baxis": {
             "endlinecolor": "#2a3f5f",
             "gridcolor": "white",
             "linecolor": "white",
             "minorgridcolor": "white",
             "startlinecolor": "#2a3f5f"
            },
            "type": "carpet"
           }
          ],
          "choropleth": [
           {
            "colorbar": {
             "outlinewidth": 0,
             "ticks": ""
            },
            "type": "choropleth"
           }
          ],
          "contour": [
           {
            "colorbar": {
             "outlinewidth": 0,
             "ticks": ""
            },
            "colorscale": [
             [
              0,
              "#0d0887"
             ],
             [
              0.1111111111111111,
              "#46039f"
             ],
             [
              0.2222222222222222,
              "#7201a8"
             ],
             [
              0.3333333333333333,
              "#9c179e"
             ],
             [
              0.4444444444444444,
              "#bd3786"
             ],
             [
              0.5555555555555556,
              "#d8576b"
             ],
             [
              0.6666666666666666,
              "#ed7953"
             ],
             [
              0.7777777777777778,
              "#fb9f3a"
             ],
             [
              0.8888888888888888,
              "#fdca26"
             ],
             [
              1,
              "#f0f921"
             ]
            ],
            "type": "contour"
           }
          ],
          "contourcarpet": [
           {
            "colorbar": {
             "outlinewidth": 0,
             "ticks": ""
            },
            "type": "contourcarpet"
           }
          ],
          "heatmap": [
           {
            "colorbar": {
             "outlinewidth": 0,
             "ticks": ""
            },
            "colorscale": [
             [
              0,
              "#0d0887"
             ],
             [
              0.1111111111111111,
              "#46039f"
             ],
             [
              0.2222222222222222,
              "#7201a8"
             ],
             [
              0.3333333333333333,
              "#9c179e"
             ],
             [
              0.4444444444444444,
              "#bd3786"
             ],
             [
              0.5555555555555556,
              "#d8576b"
             ],
             [
              0.6666666666666666,
              "#ed7953"
             ],
             [
              0.7777777777777778,
              "#fb9f3a"
             ],
             [
              0.8888888888888888,
              "#fdca26"
             ],
             [
              1,
              "#f0f921"
             ]
            ],
            "type": "heatmap"
           }
          ],
          "heatmapgl": [
           {
            "colorbar": {
             "outlinewidth": 0,
             "ticks": ""
            },
            "colorscale": [
             [
              0,
              "#0d0887"
             ],
             [
              0.1111111111111111,
              "#46039f"
             ],
             [
              0.2222222222222222,
              "#7201a8"
             ],
             [
              0.3333333333333333,
              "#9c179e"
             ],
             [
              0.4444444444444444,
              "#bd3786"
             ],
             [
              0.5555555555555556,
              "#d8576b"
             ],
             [
              0.6666666666666666,
              "#ed7953"
             ],
             [
              0.7777777777777778,
              "#fb9f3a"
             ],
             [
              0.8888888888888888,
              "#fdca26"
             ],
             [
              1,
              "#f0f921"
             ]
            ],
            "type": "heatmapgl"
           }
          ],
          "histogram": [
           {
            "marker": {
             "pattern": {
              "fillmode": "overlay",
              "size": 10,
              "solidity": 0.2
             }
            },
            "type": "histogram"
           }
          ],
          "histogram2d": [
           {
            "colorbar": {
             "outlinewidth": 0,
             "ticks": ""
            },
            "colorscale": [
             [
              0,
              "#0d0887"
             ],
             [
              0.1111111111111111,
              "#46039f"
             ],
             [
              0.2222222222222222,
              "#7201a8"
             ],
             [
              0.3333333333333333,
              "#9c179e"
             ],
             [
              0.4444444444444444,
              "#bd3786"
             ],
             [
              0.5555555555555556,
              "#d8576b"
             ],
             [
              0.6666666666666666,
              "#ed7953"
             ],
             [
              0.7777777777777778,
              "#fb9f3a"
             ],
             [
              0.8888888888888888,
              "#fdca26"
             ],
             [
              1,
              "#f0f921"
             ]
            ],
            "type": "histogram2d"
           }
          ],
          "histogram2dcontour": [
           {
            "colorbar": {
             "outlinewidth": 0,
             "ticks": ""
            },
            "colorscale": [
             [
              0,
              "#0d0887"
             ],
             [
              0.1111111111111111,
              "#46039f"
             ],
             [
              0.2222222222222222,
              "#7201a8"
             ],
             [
              0.3333333333333333,
              "#9c179e"
             ],
             [
              0.4444444444444444,
              "#bd3786"
             ],
             [
              0.5555555555555556,
              "#d8576b"
             ],
             [
              0.6666666666666666,
              "#ed7953"
             ],
             [
              0.7777777777777778,
              "#fb9f3a"
             ],
             [
              0.8888888888888888,
              "#fdca26"
             ],
             [
              1,
              "#f0f921"
             ]
            ],
            "type": "histogram2dcontour"
           }
          ],
          "mesh3d": [
           {
            "colorbar": {
             "outlinewidth": 0,
             "ticks": ""
            },
            "type": "mesh3d"
           }
          ],
          "parcoords": [
           {
            "line": {
             "colorbar": {
              "outlinewidth": 0,
              "ticks": ""
             }
            },
            "type": "parcoords"
           }
          ],
          "pie": [
           {
            "automargin": true,
            "type": "pie"
           }
          ],
          "scatter": [
           {
            "fillpattern": {
             "fillmode": "overlay",
             "size": 10,
             "solidity": 0.2
            },
            "type": "scatter"
           }
          ],
          "scatter3d": [
           {
            "line": {
             "colorbar": {
              "outlinewidth": 0,
              "ticks": ""
             }
            },
            "marker": {
             "colorbar": {
              "outlinewidth": 0,
              "ticks": ""
             }
            },
            "type": "scatter3d"
           }
          ],
          "scattercarpet": [
           {
            "marker": {
             "colorbar": {
              "outlinewidth": 0,
              "ticks": ""
             }
            },
            "type": "scattercarpet"
           }
          ],
          "scattergeo": [
           {
            "marker": {
             "colorbar": {
              "outlinewidth": 0,
              "ticks": ""
             }
            },
            "type": "scattergeo"
           }
          ],
          "scattergl": [
           {
            "marker": {
             "colorbar": {
              "outlinewidth": 0,
              "ticks": ""
             }
            },
            "type": "scattergl"
           }
          ],
          "scattermapbox": [
           {
            "marker": {
             "colorbar": {
              "outlinewidth": 0,
              "ticks": ""
             }
            },
            "type": "scattermapbox"
           }
          ],
          "scatterpolar": [
           {
            "marker": {
             "colorbar": {
              "outlinewidth": 0,
              "ticks": ""
             }
            },
            "type": "scatterpolar"
           }
          ],
          "scatterpolargl": [
           {
            "marker": {
             "colorbar": {
              "outlinewidth": 0,
              "ticks": ""
             }
            },
            "type": "scatterpolargl"
           }
          ],
          "scatterternary": [
           {
            "marker": {
             "colorbar": {
              "outlinewidth": 0,
              "ticks": ""
             }
            },
            "type": "scatterternary"
           }
          ],
          "surface": [
           {
            "colorbar": {
             "outlinewidth": 0,
             "ticks": ""
            },
            "colorscale": [
             [
              0,
              "#0d0887"
             ],
             [
              0.1111111111111111,
              "#46039f"
             ],
             [
              0.2222222222222222,
              "#7201a8"
             ],
             [
              0.3333333333333333,
              "#9c179e"
             ],
             [
              0.4444444444444444,
              "#bd3786"
             ],
             [
              0.5555555555555556,
              "#d8576b"
             ],
             [
              0.6666666666666666,
              "#ed7953"
             ],
             [
              0.7777777777777778,
              "#fb9f3a"
             ],
             [
              0.8888888888888888,
              "#fdca26"
             ],
             [
              1,
              "#f0f921"
             ]
            ],
            "type": "surface"
           }
          ],
          "table": [
           {
            "cells": {
             "fill": {
              "color": "#EBF0F8"
             },
             "line": {
              "color": "white"
             }
            },
            "header": {
             "fill": {
              "color": "#C8D4E3"
             },
             "line": {
              "color": "white"
             }
            },
            "type": "table"
           }
          ]
         },
         "layout": {
          "annotationdefaults": {
           "arrowcolor": "#2a3f5f",
           "arrowhead": 0,
           "arrowwidth": 1
          },
          "autotypenumbers": "strict",
          "coloraxis": {
           "colorbar": {
            "outlinewidth": 0,
            "ticks": ""
           }
          },
          "colorscale": {
           "diverging": [
            [
             0,
             "#8e0152"
            ],
            [
             0.1,
             "#c51b7d"
            ],
            [
             0.2,
             "#de77ae"
            ],
            [
             0.3,
             "#f1b6da"
            ],
            [
             0.4,
             "#fde0ef"
            ],
            [
             0.5,
             "#f7f7f7"
            ],
            [
             0.6,
             "#e6f5d0"
            ],
            [
             0.7,
             "#b8e186"
            ],
            [
             0.8,
             "#7fbc41"
            ],
            [
             0.9,
             "#4d9221"
            ],
            [
             1,
             "#276419"
            ]
           ],
           "sequential": [
            [
             0,
             "#0d0887"
            ],
            [
             0.1111111111111111,
             "#46039f"
            ],
            [
             0.2222222222222222,
             "#7201a8"
            ],
            [
             0.3333333333333333,
             "#9c179e"
            ],
            [
             0.4444444444444444,
             "#bd3786"
            ],
            [
             0.5555555555555556,
             "#d8576b"
            ],
            [
             0.6666666666666666,
             "#ed7953"
            ],
            [
             0.7777777777777778,
             "#fb9f3a"
            ],
            [
             0.8888888888888888,
             "#fdca26"
            ],
            [
             1,
             "#f0f921"
            ]
           ],
           "sequentialminus": [
            [
             0,
             "#0d0887"
            ],
            [
             0.1111111111111111,
             "#46039f"
            ],
            [
             0.2222222222222222,
             "#7201a8"
            ],
            [
             0.3333333333333333,
             "#9c179e"
            ],
            [
             0.4444444444444444,
             "#bd3786"
            ],
            [
             0.5555555555555556,
             "#d8576b"
            ],
            [
             0.6666666666666666,
             "#ed7953"
            ],
            [
             0.7777777777777778,
             "#fb9f3a"
            ],
            [
             0.8888888888888888,
             "#fdca26"
            ],
            [
             1,
             "#f0f921"
            ]
           ]
          },
          "colorway": [
           "#636efa",
           "#EF553B",
           "#00cc96",
           "#ab63fa",
           "#FFA15A",
           "#19d3f3",
           "#FF6692",
           "#B6E880",
           "#FF97FF",
           "#FECB52"
          ],
          "font": {
           "color": "#2a3f5f"
          },
          "geo": {
           "bgcolor": "white",
           "lakecolor": "white",
           "landcolor": "#E5ECF6",
           "showlakes": true,
           "showland": true,
           "subunitcolor": "white"
          },
          "hoverlabel": {
           "align": "left"
          },
          "hovermode": "closest",
          "mapbox": {
           "style": "light"
          },
          "paper_bgcolor": "white",
          "plot_bgcolor": "#E5ECF6",
          "polar": {
           "angularaxis": {
            "gridcolor": "white",
            "linecolor": "white",
            "ticks": ""
           },
           "bgcolor": "#E5ECF6",
           "radialaxis": {
            "gridcolor": "white",
            "linecolor": "white",
            "ticks": ""
           }
          },
          "scene": {
           "xaxis": {
            "backgroundcolor": "#E5ECF6",
            "gridcolor": "white",
            "gridwidth": 2,
            "linecolor": "white",
            "showbackground": true,
            "ticks": "",
            "zerolinecolor": "white"
           },
           "yaxis": {
            "backgroundcolor": "#E5ECF6",
            "gridcolor": "white",
            "gridwidth": 2,
            "linecolor": "white",
            "showbackground": true,
            "ticks": "",
            "zerolinecolor": "white"
           },
           "zaxis": {
            "backgroundcolor": "#E5ECF6",
            "gridcolor": "white",
            "gridwidth": 2,
            "linecolor": "white",
            "showbackground": true,
            "ticks": "",
            "zerolinecolor": "white"
           }
          },
          "shapedefaults": {
           "line": {
            "color": "#2a3f5f"
           }
          },
          "ternary": {
           "aaxis": {
            "gridcolor": "white",
            "linecolor": "white",
            "ticks": ""
           },
           "baxis": {
            "gridcolor": "white",
            "linecolor": "white",
            "ticks": ""
           },
           "bgcolor": "#E5ECF6",
           "caxis": {
            "gridcolor": "white",
            "linecolor": "white",
            "ticks": ""
           }
          },
          "title": {
           "x": 0.05
          },
          "xaxis": {
           "automargin": true,
           "gridcolor": "white",
           "linecolor": "white",
           "ticks": "",
           "title": {
            "standoff": 15
           },
           "zerolinecolor": "white",
           "zerolinewidth": 2
          },
          "yaxis": {
           "automargin": true,
           "gridcolor": "white",
           "linecolor": "white",
           "ticks": "",
           "title": {
            "standoff": 15
           },
           "zerolinecolor": "white",
           "zerolinewidth": 2
          }
         }
        }
       }
      }
     },
     "metadata": {},
     "output_type": "display_data"
    }
   ],
   "source": [
    "# https://coderzcolumn.com/tutorials/data-science/candlestick-chart-in-python-mplfinance-plotly-bokeh#2\n",
    "import plotly.graph_objects as go\n",
    "from datetime import datetime\n",
    "\n",
    "df = aapl_df_2020_2023\n",
    "\n",
    "fig = go.Figure(data=[go.Candlestick(x=df.index,\n",
    "                open=df['Open'],\n",
    "                high=df['High'],\n",
    "                low=df['Low'],\n",
    "                close=df['Close'])])\n",
    "\n",
    "fig.show()"
   ]
  },
  {
   "cell_type": "code",
   "execution_count": 12,
   "metadata": {},
   "outputs": [
    {
     "ename": "KeyError",
     "evalue": "'sma'",
     "output_type": "error",
     "traceback": [
      "\u001b[0;31m---------------------------------------------------------------------------\u001b[0m",
      "\u001b[0;31mKeyError\u001b[0m                                  Traceback (most recent call last)",
      "\u001b[0;32m~/.local/lib/python3.10/site-packages/pandas/core/indexes/base.py\u001b[0m in \u001b[0;36mget_loc\u001b[0;34m(self, key, method, tolerance)\u001b[0m\n\u001b[1;32m   3802\u001b[0m             \u001b[0;32mtry\u001b[0m\u001b[0;34m:\u001b[0m\u001b[0;34m\u001b[0m\u001b[0;34m\u001b[0m\u001b[0m\n\u001b[0;32m-> 3803\u001b[0;31m                 \u001b[0;32mreturn\u001b[0m \u001b[0mself\u001b[0m\u001b[0;34m.\u001b[0m\u001b[0m_engine\u001b[0m\u001b[0;34m.\u001b[0m\u001b[0mget_loc\u001b[0m\u001b[0;34m(\u001b[0m\u001b[0mcasted_key\u001b[0m\u001b[0;34m)\u001b[0m\u001b[0;34m\u001b[0m\u001b[0;34m\u001b[0m\u001b[0m\n\u001b[0m\u001b[1;32m   3804\u001b[0m             \u001b[0;32mexcept\u001b[0m \u001b[0mKeyError\u001b[0m \u001b[0;32mas\u001b[0m \u001b[0merr\u001b[0m\u001b[0;34m:\u001b[0m\u001b[0;34m\u001b[0m\u001b[0;34m\u001b[0m\u001b[0m\n",
      "\u001b[0;32m~/.local/lib/python3.10/site-packages/pandas/_libs/index.pyx\u001b[0m in \u001b[0;36mpandas._libs.index.IndexEngine.get_loc\u001b[0;34m()\u001b[0m\n",
      "\u001b[0;32m~/.local/lib/python3.10/site-packages/pandas/_libs/index.pyx\u001b[0m in \u001b[0;36mpandas._libs.index.IndexEngine.get_loc\u001b[0;34m()\u001b[0m\n",
      "\u001b[0;32mpandas/_libs/hashtable_class_helper.pxi\u001b[0m in \u001b[0;36mpandas._libs.hashtable.PyObjectHashTable.get_item\u001b[0;34m()\u001b[0m\n",
      "\u001b[0;32mpandas/_libs/hashtable_class_helper.pxi\u001b[0m in \u001b[0;36mpandas._libs.hashtable.PyObjectHashTable.get_item\u001b[0;34m()\u001b[0m\n",
      "\u001b[0;31mKeyError\u001b[0m: 'sma'",
      "\nThe above exception was the direct cause of the following exception:\n",
      "\u001b[0;31mKeyError\u001b[0m                                  Traceback (most recent call last)",
      "\u001b[0;32m/tmp/ipykernel_58158/495233856.py\u001b[0m in \u001b[0;36m<module>\u001b[0;34m\u001b[0m\n\u001b[1;32m     11\u001b[0m \u001b[0;34m\u001b[0m\u001b[0m\n\u001b[1;32m     12\u001b[0m sma = go.Scatter(x=df.index,\n\u001b[0;32m---> 13\u001b[0;31m                  \u001b[0my\u001b[0m\u001b[0;34m=\u001b[0m\u001b[0mdf\u001b[0m\u001b[0;34m[\u001b[0m\u001b[0;34m\"sma\"\u001b[0m\u001b[0;34m]\u001b[0m\u001b[0;34m,\u001b[0m\u001b[0;34m\u001b[0m\u001b[0;34m\u001b[0m\u001b[0m\n\u001b[0m\u001b[1;32m     14\u001b[0m                  \u001b[0myaxis\u001b[0m\u001b[0;34m=\u001b[0m\u001b[0;34m\"y1\"\u001b[0m\u001b[0;34m,\u001b[0m\u001b[0;34m\u001b[0m\u001b[0;34m\u001b[0m\u001b[0m\n\u001b[1;32m     15\u001b[0m                  \u001b[0mname\u001b[0m\u001b[0;34m=\u001b[0m\u001b[0;34m\"SMA\"\u001b[0m\u001b[0;34m\u001b[0m\u001b[0;34m\u001b[0m\u001b[0m\n",
      "\u001b[0;32m~/.local/lib/python3.10/site-packages/pandas/core/frame.py\u001b[0m in \u001b[0;36m__getitem__\u001b[0;34m(self, key)\u001b[0m\n\u001b[1;32m   3802\u001b[0m             \u001b[0;32mif\u001b[0m \u001b[0mself\u001b[0m\u001b[0;34m.\u001b[0m\u001b[0mcolumns\u001b[0m\u001b[0;34m.\u001b[0m\u001b[0mnlevels\u001b[0m \u001b[0;34m>\u001b[0m \u001b[0;36m1\u001b[0m\u001b[0;34m:\u001b[0m\u001b[0;34m\u001b[0m\u001b[0;34m\u001b[0m\u001b[0m\n\u001b[1;32m   3803\u001b[0m                 \u001b[0;32mreturn\u001b[0m \u001b[0mself\u001b[0m\u001b[0;34m.\u001b[0m\u001b[0m_getitem_multilevel\u001b[0m\u001b[0;34m(\u001b[0m\u001b[0mkey\u001b[0m\u001b[0;34m)\u001b[0m\u001b[0;34m\u001b[0m\u001b[0;34m\u001b[0m\u001b[0m\n\u001b[0;32m-> 3804\u001b[0;31m             \u001b[0mindexer\u001b[0m \u001b[0;34m=\u001b[0m \u001b[0mself\u001b[0m\u001b[0;34m.\u001b[0m\u001b[0mcolumns\u001b[0m\u001b[0;34m.\u001b[0m\u001b[0mget_loc\u001b[0m\u001b[0;34m(\u001b[0m\u001b[0mkey\u001b[0m\u001b[0;34m)\u001b[0m\u001b[0;34m\u001b[0m\u001b[0;34m\u001b[0m\u001b[0m\n\u001b[0m\u001b[1;32m   3805\u001b[0m             \u001b[0;32mif\u001b[0m \u001b[0mis_integer\u001b[0m\u001b[0;34m(\u001b[0m\u001b[0mindexer\u001b[0m\u001b[0;34m)\u001b[0m\u001b[0;34m:\u001b[0m\u001b[0;34m\u001b[0m\u001b[0;34m\u001b[0m\u001b[0m\n\u001b[1;32m   3806\u001b[0m                 \u001b[0mindexer\u001b[0m \u001b[0;34m=\u001b[0m \u001b[0;34m[\u001b[0m\u001b[0mindexer\u001b[0m\u001b[0;34m]\u001b[0m\u001b[0;34m\u001b[0m\u001b[0;34m\u001b[0m\u001b[0m\n",
      "\u001b[0;32m~/.local/lib/python3.10/site-packages/pandas/core/indexes/base.py\u001b[0m in \u001b[0;36mget_loc\u001b[0;34m(self, key, method, tolerance)\u001b[0m\n\u001b[1;32m   3803\u001b[0m                 \u001b[0;32mreturn\u001b[0m \u001b[0mself\u001b[0m\u001b[0;34m.\u001b[0m\u001b[0m_engine\u001b[0m\u001b[0;34m.\u001b[0m\u001b[0mget_loc\u001b[0m\u001b[0;34m(\u001b[0m\u001b[0mcasted_key\u001b[0m\u001b[0;34m)\u001b[0m\u001b[0;34m\u001b[0m\u001b[0;34m\u001b[0m\u001b[0m\n\u001b[1;32m   3804\u001b[0m             \u001b[0;32mexcept\u001b[0m \u001b[0mKeyError\u001b[0m \u001b[0;32mas\u001b[0m \u001b[0merr\u001b[0m\u001b[0;34m:\u001b[0m\u001b[0;34m\u001b[0m\u001b[0;34m\u001b[0m\u001b[0m\n\u001b[0;32m-> 3805\u001b[0;31m                 \u001b[0;32mraise\u001b[0m \u001b[0mKeyError\u001b[0m\u001b[0;34m(\u001b[0m\u001b[0mkey\u001b[0m\u001b[0;34m)\u001b[0m \u001b[0;32mfrom\u001b[0m \u001b[0merr\u001b[0m\u001b[0;34m\u001b[0m\u001b[0;34m\u001b[0m\u001b[0m\n\u001b[0m\u001b[1;32m   3806\u001b[0m             \u001b[0;32mexcept\u001b[0m \u001b[0mTypeError\u001b[0m\u001b[0;34m:\u001b[0m\u001b[0;34m\u001b[0m\u001b[0;34m\u001b[0m\u001b[0m\n\u001b[1;32m   3807\u001b[0m                 \u001b[0;31m# If we have a listlike key, _check_indexing_error will raise\u001b[0m\u001b[0;34m\u001b[0m\u001b[0;34m\u001b[0m\u001b[0m\n",
      "\u001b[0;31mKeyError\u001b[0m: 'sma'"
     ]
    }
   ],
   "source": [
    "# with SMA and no EMA index\n",
    "candlestick = go.Candlestick(\n",
    "                            x=df.index,\n",
    "                            open=df['Open'],\n",
    "                            high=df['High'],\n",
    "                            low=df['Low'],\n",
    "                            close=df['Close'],\n",
    "                            showlegend=False,\n",
    "                            increasing_line_color= 'blue', decreasing_line_color= 'orange',\n",
    "                            )\n",
    "\n",
    "sma = go.Scatter(x=df.index,\n",
    "                 y=df[\"sma\"],\n",
    "                 yaxis=\"y1\",\n",
    "                 name=\"SMA\"\n",
    "                )\n",
    "#ema = go.Scatter(x=df.index,\n",
    "#                 y=df[\"EMA\"],\n",
    "#                 name=\"EMA\"\n",
    "#                )\n",
    "\n",
    "#fig = go.Figure(data=[candlestick, sma, ema])\n",
    "fig = go.Figure(data=[candlestick, sma])\n",
    "\n",
    "fig.update_layout(\n",
    "    width=1800, height=1600,\n",
    "    title=\"Apple, Jan, 2020 to Dec, 2023\",\n",
    "    yaxis_title='AAPL Stock',\n",
    ")\n",
    "\n",
    "fig.show()"
   ]
  },
  {
   "cell_type": "code",
   "execution_count": null,
   "metadata": {},
   "outputs": [
    {
     "data": {
      "application/vnd.plotly.v1+json": {
       "config": {
        "plotlyServerURL": "https://plot.ly"
       },
       "data": [
        {
         "close": [
          125.06999969482422,
          126.36000061035156,
          125.0199966430664,
          129.6199951171875,
          130.14999389648438,
          130.72999572753906,
          133.49000549316406,
          133.41000366210938,
          134.75999450683594,
          135.94000244140625,
          135.2100067138672,
          135.27000427246094,
          137.8699951171875,
          141.11000061035156,
          142.52999877929688,
          141.86000061035156,
          143.9600067138672,
          145.92999267578125,
          143,
          144.2899932861328,
          145.42999267578125,
          150.82000732421875,
          154.5,
          151.72999572753906,
          154.64999389648438,
          151.9199981689453,
          150.8699951171875,
          151.00999450683594,
          153.85000610351562,
          153.1999969482422,
          155.3300018310547,
          153.7100067138672,
          152.5500030517578,
          148.47999572753906,
          148.91000366210938,
          149.39999389648438,
          146.7100067138672,
          147.9199981689453,
          147.41000366210938,
          145.30999755859375,
          145.91000366210938,
          151.02999877929688,
          153.8300018310547,
          151.60000610351562,
          152.8699951171875,
          150.58999633789062,
          148.5,
          150.47000122070312,
          152.58999633789062,
          152.99000549316406,
          155.85000610351562,
          155,
          157.39999389648438,
          159.27999877929688,
          157.8300018310547,
          158.92999267578125,
          160.25,
          158.27999877929688,
          157.64999389648438,
          160.77000427246094,
          162.36000061035156,
          164.89999389648438,
          166.1699981689453,
          165.6300048828125,
          163.75999450683594,
          164.66000366210938,
          162.02999877929688,
          160.8000030517578,
          160.10000610351562,
          165.55999755859375,
          165.2100067138672,
          165.22999572753906,
          166.47000122070312,
          167.6300048828125,
          166.64999389648438,
          165.02000427246094,
          165.3300018310547,
          163.77000427246094,
          163.75999450683594,
          168.41000366210938,
          169.67999267578125,
          169.58999633789062,
          168.5399932861328,
          167.4499969482422,
          165.7899932861328,
          173.57000732421875,
          173.5,
          171.77000427246094,
          173.55999755859375,
          173.75,
          172.57000732421875,
          172.07000732421875,
          172.07000732421875,
          172.69000244140625,
          175.0500030517578,
          175.16000366210938,
          174.1999969482422,
          171.55999755859375,
          171.83999633789062,
          172.99000549316406,
          175.42999267578125,
          177.3000030517578,
          177.25,
          180.08999633789062,
          180.9499969482422,
          179.5800018310547,
          179.2100067138672,
          177.82000732421875,
          180.57000732421875,
          180.9600067138672,
          183.7899932861328,
          183.30999755859375,
          183.9499969482422,
          186.00999450683594,
          184.9199981689453,
          185.00999450683594,
          183.9600067138672,
          187,
          186.67999267578125,
          185.27000427246094,
          188.05999755859375,
          189.25,
          189.58999633789062,
          193.97000122070312,
          192.4600067138672,
          191.3300018310547,
          191.80999755859375,
          190.67999267578125,
          188.61000061035156,
          188.0800018310547,
          189.77000427246094,
          190.5399932861328,
          190.69000244140625,
          193.99000549316406,
          193.72999572753906,
          195.10000610351562,
          193.1300048828125,
          191.94000244140625,
          192.75,
          193.6199951171875,
          194.5,
          193.22000122070312,
          195.8300018310547,
          196.4499969482422,
          195.61000061035156,
          192.5800018310547,
          191.1699981689453,
          181.99000549316406,
          178.85000610351562,
          179.8000030517578,
          178.19000244140625,
          177.97000122070312,
          177.7899932861328,
          179.4600067138672,
          177.4499969482422,
          176.57000732421875,
          174,
          174.49000549316406,
          175.83999633789062,
          177.22999572753906,
          181.1199951171875,
          176.3800048828125,
          178.61000061035156,
          180.19000244140625,
          184.1199951171875,
          187.64999389648438,
          187.8699951171875,
          189.4600067138672,
          189.6999969482422,
          182.91000366210938,
          177.55999755859375,
          178.17999267578125,
          179.36000061035156,
          176.3000030517578,
          174.2100067138672,
          175.74000549316406,
          175.00999450683594,
          177.97000122070312,
          179.07000732421875,
          175.49000549316406,
          173.92999267578125,
          174.7899932861328,
          176.0800018310547,
          171.9600067138672,
          170.42999267578125,
          170.69000244140625,
          171.2100067138672,
          173.75,
          172.39999389648438,
          173.66000366210938,
          174.91000366210938,
          177.49000549316406,
          178.99000549316406,
          178.38999938964844,
          179.8000030517578,
          180.7100067138672,
          178.85000610351562,
          178.72000122070312,
          177.14999389648438,
          175.83999633789062,
          175.4600067138672,
          172.8800048828125,
          173,
          173.44000244140625,
          171.10000610351562,
          166.88999938964844,
          168.22000122070312,
          170.2899932861328,
          170.77000427246094,
          173.97000122070312,
          177.57000732421875,
          176.64999389648438,
          179.22999572753906,
          181.82000732421875
         ],
         "decreasing": {
          "line": {
           "color": "orange"
          }
         },
         "high": [
          130.89999389648438,
          128.66000366210938,
          127.7699966430664,
          130.2899932861328,
          133.41000366210938,
          131.25999450683594,
          133.50999450683594,
          134.25999450683594,
          134.9199981689453,
          137.2899932861328,
          138.61000061035156,
          136.25,
          138.02000427246094,
          143.32000732421875,
          143.16000366210938,
          142.42999267578125,
          144.25,
          147.22999572753906,
          145.5500030517578,
          144.33999633789062,
          146.61000061035156,
          151.17999267578125,
          157.3800048828125,
          153.10000610351562,
          155.22999572753906,
          154.5800018310547,
          154.3300018310547,
          151.33999633789062,
          154.25999450683594,
          153.77000427246094,
          155.5,
          156.3300018310547,
          153,
          151.3000030517578,
          149.9499969482422,
          150.33999633789062,
          147.19000244140625,
          149.1699981689453,
          149.0800018310547,
          147.22999572753906,
          146.7100067138672,
          151.11000061035156,
          156.3000030517578,
          154.02999877929688,
          153.47000122070312,
          154.5399932861328,
          150.94000244140625,
          153.13999938964844,
          153.39999389648438,
          153.25,
          156.4600067138672,
          156.74000549316406,
          157.82000732421875,
          159.39999389648438,
          162.13999938964844,
          161.5500030517578,
          160.33999633789062,
          160.77000427246094,
          158.49000549316406,
          161.0500030517578,
          162.47000122070312,
          165,
          166.2899932861328,
          166.83999633789062,
          165.0500030517578,
          164.9600067138672,
          162.02999877929688,
          162.36000061035156,
          162.05999755859375,
          165.8000030517578,
          166.32000732421875,
          165.38999938964844,
          167.41000366210938,
          168.16000366210938,
          167.8699951171875,
          166.4499969482422,
          165.60000610351562,
          166.30999755859375,
          165.27999877929688,
          168.55999755859375,
          169.85000610351562,
          170.4499969482422,
          170.35000610351562,
          170.9199981689453,
          167.0399932861328,
          174.3000030517578,
          173.85000610351562,
          173.5399932861328,
          174.02999877929688,
          174.58999633789062,
          174.05999755859375,
          173.2100067138672,
          173.13999938964844,
          172.92999267578125,
          175.24000549316406,
          176.38999938964844,
          174.7100067138672,
          173.3800048828125,
          172.4199981689453,
          173.89999389648438,
          175.77000427246094,
          178.99000549316406,
          179.35000610351562,
          180.1199951171875,
          181.77999877929688,
          184.9499969482422,
          180.1199951171875,
          181.2100067138672,
          180.83999633789062,
          182.22999572753906,
          183.88999938964844,
          184.14999389648438,
          184.38999938964844,
          186.52000427246094,
          186.99000549316406,
          186.10000610351562,
          185.41000366210938,
          187.0500030517578,
          187.55999755859375,
          188.0500030517578,
          188.38999938964844,
          189.89999389648438,
          190.07000732421875,
          194.47999572753906,
          193.8800048828125,
          192.97999572753906,
          192.02000427246094,
          192.6699981689453,
          189.99000549316406,
          189.3000030517578,
          191.6999969482422,
          191.19000244140625,
          191.17999267578125,
          194.32000732421875,
          194.3300018310547,
          198.22999572753906,
          196.47000122070312,
          194.97000122070312,
          194.91000366210938,
          194.44000244140625,
          195.63999938964844,
          197.1999969482422,
          196.6300048828125,
          196.49000549316406,
          196.72999572753906,
          195.17999267578125,
          192.3699951171875,
          187.3800048828125,
          183.1300048828125,
          180.27000427246094,
          180.92999267578125,
          180.75,
          178.6199951171875,
          179.69000244140625,
          179.47999572753906,
          178.5399932861328,
          177.50999450683594,
          175.10000610351562,
          176.1300048828125,
          177.67999267578125,
          181.5500030517578,
          181.10000610351562,
          179.14999389648438,
          180.58999633789062,
          184.89999389648438,
          187.85000610351562,
          189.1199951171875,
          189.9199981689453,
          189.97999572753906,
          188.85000610351562,
          178.2100067138672,
          180.24000549316406,
          180.3000030517578,
          180.1300048828125,
          177.3000030517578,
          176.10000610351562,
          176.5,
          179.3800048828125,
          179.6300048828125,
          179.6999969482422,
          176.3000030517578,
          177.0800018310547,
          176.97000122070312,
          175.1999969482422,
          173.0399932861328,
          172.02999877929688,
          173.07000732421875,
          174.3000030517578,
          173.6300048828125,
          174.2100067138672,
          175.4499969482422,
          177.99000549316406,
          179.0500030517578,
          179.72000122070312,
          179.85000610351562,
          182.33999633789062,
          181.92999267578125,
          179.0800018310547,
          178.4199981689453,
          177.5800018310547,
          177.83999633789062,
          175.4199981689453,
          174.00999450683594,
          173.6699981689453,
          173.05999755859375,
          171.3800048828125,
          168.9600067138672,
          171.1699981689453,
          170.89999389648438,
          174.22999572753906,
          177.77999877929688,
          176.82000732421875,
          179.42999267578125,
          182.44000244140625
         ],
         "increasing": {
          "line": {
           "color": "blue"
          }
         },
         "low": [
          124.16999816894531,
          125.08000183105469,
          124.76000213623047,
          124.88999938964844,
          129.88999938964844,
          128.1199951171875,
          130.4600067138672,
          131.44000244140625,
          131.66000366210938,
          134.1300048828125,
          135.02999877929688,
          133.77000427246094,
          134.22000122070312,
          137.89999389648438,
          140.3000030517578,
          138.80999755859375,
          141.89999389648438,
          143.0800018310547,
          142.85000610351562,
          142.27999877929688,
          141.32000732421875,
          148.1699981689453,
          147.8300018310547,
          150.77999877929688,
          150.63999938964844,
          151.1699981689453,
          150.4199981689453,
          149.22000122070312,
          150.9199981689453,
          150.86000061035156,
          152.8800048828125,
          153.35000610351562,
          150.85000610351562,
          148.41000366210938,
          147.16000366210938,
          147.24000549316406,
          145.72000122070312,
          147.4499969482422,
          146.8300018310547,
          145.00999450683594,
          143.89999389648438,
          147.3300018310547,
          153.4600067138672,
          151.1300048828125,
          151.8300018310547,
          150.22999572753906,
          147.61000061035156,
          147.6999969482422,
          150.10000610351562,
          149.9199981689453,
          151.63999938964844,
          154.27999877929688,
          154.14999389648438,
          156.5399932861328,
          157.80999755859375,
          157.67999267578125,
          157.85000610351562,
          157.8699951171875,
          155.97999572753906,
          159.35000610351562,
          161.27000427246094,
          161.91000366210938,
          164.22000122070312,
          165.11000061035156,
          161.8000030517578,
          162,
          160.0800018310547,
          160.50999450683594,
          159.77999877929688,
          161.4199981689453,
          163.82000732421875,
          164.02999877929688,
          165.64999389648438,
          165.5399932861328,
          165.55999755859375,
          164.49000549316406,
          163.88999938964844,
          163.72999572753906,
          162.8000030517578,
          165.19000244140625,
          167.8800048828125,
          168.63999938964844,
          167.5399932861328,
          167.16000366210938,
          164.30999755859375,
          170.75999450683594,
          172.11000061035156,
          171.60000610351562,
          171.89999389648438,
          172.1699981689453,
          171,
          171.47000122070312,
          171.8000030517578,
          170.4199981689453,
          172.5800018310547,
          174.94000244140625,
          173.4499969482422,
          171.27999877929688,
          170.52000427246094,
          171.69000244140625,
          173.11000061035156,
          176.57000732421875,
          176.75999450683594,
          176.92999267578125,
          179.25999450683594,
          178.0399932861328,
          177.42999267578125,
          177.32000732421875,
          177.4600067138672,
          180.6300048828125,
          180.97000122070312,
          182.44000244140625,
          182.02000427246094,
          183.77999877929688,
          184.27000427246094,
          184.41000366210938,
          182.58999633789062,
          183.6699981689453,
          185.00999450683594,
          185.22999572753906,
          185.6699981689453,
          187.60000610351562,
          188.94000244140625,
          191.25999450683594,
          191.75999450683594,
          190.6199951171875,
          189.1999969482422,
          190.24000549316406,
          187.0399932861328,
          186.60000610351562,
          188.47000122070312,
          189.77999877929688,
          189.6300048828125,
          191.80999755859375,
          192.4199981689453,
          192.64999389648438,
          192.5,
          191.22999572753906,
          192.25,
          192.9199981689453,
          193.32000732421875,
          192.5500030517578,
          194.13999938964844,
          195.25999450683594,
          195.27999877929688,
          191.85000610351562,
          190.69000244140625,
          181.9199981689453,
          177.35000610351562,
          177.5800018310547,
          177.00999450683594,
          177.60000610351562,
          176.5500030517578,
          177.30999755859375,
          177.0500030517578,
          176.5,
          173.47999572753906,
          171.9600067138672,
          173.74000549316406,
          176.25,
          178.3300018310547,
          176.00999450683594,
          175.82000732421875,
          178.5500030517578,
          179.5,
          184.74000549316406,
          187.47999572753906,
          188.27999877929688,
          187.61000061035156,
          181.47000122070312,
          173.5399932861328,
          177.7899932861328,
          177.33999633789062,
          174.82000732421875,
          173.97999572753906,
          173.5800018310547,
          173.82000732421875,
          176.1699981689453,
          177.1300048828125,
          175.39999389648438,
          173.86000061035156,
          174.0500030517578,
          174.14999389648438,
          171.66000366210938,
          169.0500030517578,
          167.6199951171875,
          170.33999633789062,
          170.92999267578125,
          170.82000732421875,
          170.97000122070312,
          172.67999267578125,
          173.17999267578125,
          175.8000030517578,
          177.9499969482422,
          177.60000610351562,
          179.0399932861328,
          178.13999938964844,
          176.50999450683594,
          174.8000030517578,
          175.11000061035156,
          175.19000244140625,
          172.63999938964844,
          169.92999267578125,
          171.4499969482422,
          170.64999389648438,
          165.6699981689453,
          166.8300018310547,
          168.8699951171875,
          167.89999389648438,
          170.1199951171875,
          175.4600067138672,
          173.35000610351562,
          176.2100067138672,
          178.97999572753906
         ],
         "open": [
          130.27999877929688,
          126.88999938964844,
          127.12999725341797,
          126.01000213623047,
          130.47000122070312,
          130.25999450683594,
          131.25,
          133.8800048828125,
          132.02999877929688,
          134.8300018310547,
          136.82000732421875,
          134.0800018310547,
          135.27999877929688,
          138.1199951171875,
          140.30999755859375,
          140.88999938964844,
          143.1699981689453,
          143.16000366210938,
          144.9600067138672,
          142.6999969482422,
          143.97000122070312,
          148.89999389648438,
          148.02999877929688,
          152.57000732421875,
          150.63999938964844,
          153.8800048828125,
          153.77999877929688,
          149.4600067138672,
          150.9499969482422,
          152.1199951171875,
          153.11000061035156,
          153.50999450683594,
          152.35000610351562,
          150.1999969482422,
          148.8699951171875,
          150.08999633789062,
          147.11000061035156,
          147.7100067138672,
          147.0500030517578,
          146.8300018310547,
          144.3800048828125,
          148.0399932861328,
          153.7899932861328,
          153.6999969482422,
          152.80999755859375,
          153.55999755859375,
          150.2100067138672,
          147.80999755859375,
          151.27999877929688,
          151.19000244140625,
          152.16000366210938,
          156.0800018310547,
          155.07000732421875,
          157.32000732421875,
          159.3000030517578,
          158.8300018310547,
          158.86000061035156,
          159.94000244140625,
          157.97000122070312,
          159.3699951171875,
          161.52999877929688,
          162.44000244140625,
          164.27000427246094,
          166.60000610351562,
          164.74000549316406,
          162.42999267578125,
          161.4199981689453,
          162.35000610351562,
          161.22000122070312,
          161.6300048828125,
          164.58999633789062,
          165.08999633789062,
          166.10000610351562,
          165.8000030517578,
          166.08999633789062,
          165.0500030517578,
          165,
          165.19000244140625,
          163.05999755859375,
          165.19000244140625,
          168.49000549316406,
          169.27999877929688,
          170.08999633789062,
          169.5,
          164.88999938964844,
          170.97999572753906,
          172.47999572753906,
          173.0500030517578,
          173.02000427246094,
          173.85000610351562,
          173.6199951171875,
          173.16000366210938,
          171.99000549316406,
          171.7100067138672,
          173,
          176.38999938964844,
          173.97999572753906,
          173.1300048828125,
          171.08999633789062,
          172.41000366210938,
          173.32000732421875,
          176.9600067138672,
          177.3300018310547,
          177.6999969482422,
          181.02999877929688,
          182.6300048828125,
          179.97000122070312,
          178.44000244140625,
          177.89999389648438,
          181.5,
          181.27000427246094,
          182.8000030517578,
          183.3699951171875,
          183.9600067138672,
          186.72999572753906,
          184.41000366210938,
          184.89999389648438,
          183.74000549316406,
          185.5500030517578,
          186.8300018310547,
          185.88999938964844,
          187.92999267578125,
          189.0800018310547,
          191.6300048828125,
          193.77999877929688,
          191.57000732421875,
          189.83999633789062,
          191.41000366210938,
          189.25999450683594,
          189.16000366210938,
          189.67999267578125,
          190.5,
          190.22999572753906,
          191.89999389648438,
          193.35000610351562,
          193.10000610351562,
          195.08999633789062,
          194.10000610351562,
          193.41000366210938,
          193.3300018310547,
          193.6699981689453,
          196.02000427246094,
          194.6699981689453,
          196.05999755859375,
          196.24000549316406,
          195.0399932861328,
          191.57000732421875,
          185.52000427246094,
          182.1300048828125,
          179.69000244140625,
          180.8699951171875,
          179.47999572753906,
          177.32000732421875,
          177.97000122070312,
          178.8800048828125,
          177.1300048828125,
          177.13999938964844,
          172.3000030517578,
          175.07000732421875,
          177.05999755859375,
          178.52000427246094,
          180.6699981689453,
          177.3800048828125,
          180.08999633789062,
          179.6999969482422,
          184.94000244140625,
          187.83999633789062,
          189.49000549316406,
          188.27999877929688,
          188.39999389648438,
          175.17999267578125,
          178.35000610351562,
          180.07000732421875,
          179.49000549316406,
          176.50999450683594,
          174,
          176.47999572753906,
          176.47999572753906,
          177.52000427246094,
          179.25999450683594,
          174.5500030517578,
          174.6699981689453,
          174.1999969482422,
          174.82000732421875,
          172.6199951171875,
          169.33999633789062,
          172.02000427246094,
          171.22000122070312,
          172.25999450683594,
          171.08999633789062,
          173.7899932861328,
          173.8000030517578,
          176.80999755859375,
          178.10000610351562,
          178.1999969482422,
          180.07000732421875,
          181.4199981689453,
          176.75,
          176.64999389648438,
          175.5800018310547,
          176.0399932861328,
          175.30999755859375,
          170.91000366210938,
          173.0500030517578,
          171.8800048828125,
          170.3699951171875,
          166.91000366210938,
          169.02000427246094,
          169.35000610351562,
          171,
          175.52000427246094,
          174.24000549316406,
          176.3800048828125,
          179.17999267578125
         ],
         "showlegend": false,
         "type": "candlestick",
         "x": [
          "2023-01-03T00:00:00",
          "2023-01-04T00:00:00",
          "2023-01-05T00:00:00",
          "2023-01-06T00:00:00",
          "2023-01-09T00:00:00",
          "2023-01-10T00:00:00",
          "2023-01-11T00:00:00",
          "2023-01-12T00:00:00",
          "2023-01-13T00:00:00",
          "2023-01-17T00:00:00",
          "2023-01-18T00:00:00",
          "2023-01-19T00:00:00",
          "2023-01-20T00:00:00",
          "2023-01-23T00:00:00",
          "2023-01-24T00:00:00",
          "2023-01-25T00:00:00",
          "2023-01-26T00:00:00",
          "2023-01-27T00:00:00",
          "2023-01-30T00:00:00",
          "2023-01-31T00:00:00",
          "2023-02-01T00:00:00",
          "2023-02-02T00:00:00",
          "2023-02-03T00:00:00",
          "2023-02-06T00:00:00",
          "2023-02-07T00:00:00",
          "2023-02-08T00:00:00",
          "2023-02-09T00:00:00",
          "2023-02-10T00:00:00",
          "2023-02-13T00:00:00",
          "2023-02-14T00:00:00",
          "2023-02-15T00:00:00",
          "2023-02-16T00:00:00",
          "2023-02-17T00:00:00",
          "2023-02-21T00:00:00",
          "2023-02-22T00:00:00",
          "2023-02-23T00:00:00",
          "2023-02-24T00:00:00",
          "2023-02-27T00:00:00",
          "2023-02-28T00:00:00",
          "2023-03-01T00:00:00",
          "2023-03-02T00:00:00",
          "2023-03-03T00:00:00",
          "2023-03-06T00:00:00",
          "2023-03-07T00:00:00",
          "2023-03-08T00:00:00",
          "2023-03-09T00:00:00",
          "2023-03-10T00:00:00",
          "2023-03-13T00:00:00",
          "2023-03-14T00:00:00",
          "2023-03-15T00:00:00",
          "2023-03-16T00:00:00",
          "2023-03-17T00:00:00",
          "2023-03-20T00:00:00",
          "2023-03-21T00:00:00",
          "2023-03-22T00:00:00",
          "2023-03-23T00:00:00",
          "2023-03-24T00:00:00",
          "2023-03-27T00:00:00",
          "2023-03-28T00:00:00",
          "2023-03-29T00:00:00",
          "2023-03-30T00:00:00",
          "2023-03-31T00:00:00",
          "2023-04-03T00:00:00",
          "2023-04-04T00:00:00",
          "2023-04-05T00:00:00",
          "2023-04-06T00:00:00",
          "2023-04-10T00:00:00",
          "2023-04-11T00:00:00",
          "2023-04-12T00:00:00",
          "2023-04-13T00:00:00",
          "2023-04-14T00:00:00",
          "2023-04-17T00:00:00",
          "2023-04-18T00:00:00",
          "2023-04-19T00:00:00",
          "2023-04-20T00:00:00",
          "2023-04-21T00:00:00",
          "2023-04-24T00:00:00",
          "2023-04-25T00:00:00",
          "2023-04-26T00:00:00",
          "2023-04-27T00:00:00",
          "2023-04-28T00:00:00",
          "2023-05-01T00:00:00",
          "2023-05-02T00:00:00",
          "2023-05-03T00:00:00",
          "2023-05-04T00:00:00",
          "2023-05-05T00:00:00",
          "2023-05-08T00:00:00",
          "2023-05-09T00:00:00",
          "2023-05-10T00:00:00",
          "2023-05-11T00:00:00",
          "2023-05-12T00:00:00",
          "2023-05-15T00:00:00",
          "2023-05-16T00:00:00",
          "2023-05-17T00:00:00",
          "2023-05-18T00:00:00",
          "2023-05-19T00:00:00",
          "2023-05-22T00:00:00",
          "2023-05-23T00:00:00",
          "2023-05-24T00:00:00",
          "2023-05-25T00:00:00",
          "2023-05-26T00:00:00",
          "2023-05-30T00:00:00",
          "2023-05-31T00:00:00",
          "2023-06-01T00:00:00",
          "2023-06-02T00:00:00",
          "2023-06-05T00:00:00",
          "2023-06-06T00:00:00",
          "2023-06-07T00:00:00",
          "2023-06-08T00:00:00",
          "2023-06-09T00:00:00",
          "2023-06-12T00:00:00",
          "2023-06-13T00:00:00",
          "2023-06-14T00:00:00",
          "2023-06-15T00:00:00",
          "2023-06-16T00:00:00",
          "2023-06-20T00:00:00",
          "2023-06-21T00:00:00",
          "2023-06-22T00:00:00",
          "2023-06-23T00:00:00",
          "2023-06-26T00:00:00",
          "2023-06-27T00:00:00",
          "2023-06-28T00:00:00",
          "2023-06-29T00:00:00",
          "2023-06-30T00:00:00",
          "2023-07-03T00:00:00",
          "2023-07-05T00:00:00",
          "2023-07-06T00:00:00",
          "2023-07-07T00:00:00",
          "2023-07-10T00:00:00",
          "2023-07-11T00:00:00",
          "2023-07-12T00:00:00",
          "2023-07-13T00:00:00",
          "2023-07-14T00:00:00",
          "2023-07-17T00:00:00",
          "2023-07-18T00:00:00",
          "2023-07-19T00:00:00",
          "2023-07-20T00:00:00",
          "2023-07-21T00:00:00",
          "2023-07-24T00:00:00",
          "2023-07-25T00:00:00",
          "2023-07-26T00:00:00",
          "2023-07-27T00:00:00",
          "2023-07-28T00:00:00",
          "2023-07-31T00:00:00",
          "2023-08-01T00:00:00",
          "2023-08-02T00:00:00",
          "2023-08-03T00:00:00",
          "2023-08-04T00:00:00",
          "2023-08-07T00:00:00",
          "2023-08-08T00:00:00",
          "2023-08-09T00:00:00",
          "2023-08-10T00:00:00",
          "2023-08-11T00:00:00",
          "2023-08-14T00:00:00",
          "2023-08-15T00:00:00",
          "2023-08-16T00:00:00",
          "2023-08-17T00:00:00",
          "2023-08-18T00:00:00",
          "2023-08-21T00:00:00",
          "2023-08-22T00:00:00",
          "2023-08-23T00:00:00",
          "2023-08-24T00:00:00",
          "2023-08-25T00:00:00",
          "2023-08-28T00:00:00",
          "2023-08-29T00:00:00",
          "2023-08-30T00:00:00",
          "2023-08-31T00:00:00",
          "2023-09-01T00:00:00",
          "2023-09-05T00:00:00",
          "2023-09-06T00:00:00",
          "2023-09-07T00:00:00",
          "2023-09-08T00:00:00",
          "2023-09-11T00:00:00",
          "2023-09-12T00:00:00",
          "2023-09-13T00:00:00",
          "2023-09-14T00:00:00",
          "2023-09-15T00:00:00",
          "2023-09-18T00:00:00",
          "2023-09-19T00:00:00",
          "2023-09-20T00:00:00",
          "2023-09-21T00:00:00",
          "2023-09-22T00:00:00",
          "2023-09-25T00:00:00",
          "2023-09-26T00:00:00",
          "2023-09-27T00:00:00",
          "2023-09-28T00:00:00",
          "2023-09-29T00:00:00",
          "2023-10-02T00:00:00",
          "2023-10-03T00:00:00",
          "2023-10-04T00:00:00",
          "2023-10-05T00:00:00",
          "2023-10-06T00:00:00",
          "2023-10-09T00:00:00",
          "2023-10-10T00:00:00",
          "2023-10-11T00:00:00",
          "2023-10-12T00:00:00",
          "2023-10-13T00:00:00",
          "2023-10-16T00:00:00",
          "2023-10-17T00:00:00",
          "2023-10-18T00:00:00",
          "2023-10-19T00:00:00",
          "2023-10-20T00:00:00",
          "2023-10-23T00:00:00",
          "2023-10-24T00:00:00",
          "2023-10-25T00:00:00",
          "2023-10-26T00:00:00",
          "2023-10-27T00:00:00",
          "2023-10-30T00:00:00",
          "2023-10-31T00:00:00",
          "2023-11-01T00:00:00",
          "2023-11-02T00:00:00",
          "2023-11-03T00:00:00",
          "2023-11-06T00:00:00",
          "2023-11-07T00:00:00"
         ]
        },
        {
         "name": "SMA",
         "type": "scatter",
         "x": [
          "2023-01-03T00:00:00",
          "2023-01-04T00:00:00",
          "2023-01-05T00:00:00",
          "2023-01-06T00:00:00",
          "2023-01-09T00:00:00",
          "2023-01-10T00:00:00",
          "2023-01-11T00:00:00",
          "2023-01-12T00:00:00",
          "2023-01-13T00:00:00",
          "2023-01-17T00:00:00",
          "2023-01-18T00:00:00",
          "2023-01-19T00:00:00",
          "2023-01-20T00:00:00",
          "2023-01-23T00:00:00",
          "2023-01-24T00:00:00",
          "2023-01-25T00:00:00",
          "2023-01-26T00:00:00",
          "2023-01-27T00:00:00",
          "2023-01-30T00:00:00",
          "2023-01-31T00:00:00",
          "2023-02-01T00:00:00",
          "2023-02-02T00:00:00",
          "2023-02-03T00:00:00",
          "2023-02-06T00:00:00",
          "2023-02-07T00:00:00",
          "2023-02-08T00:00:00",
          "2023-02-09T00:00:00",
          "2023-02-10T00:00:00",
          "2023-02-13T00:00:00",
          "2023-02-14T00:00:00",
          "2023-02-15T00:00:00",
          "2023-02-16T00:00:00",
          "2023-02-17T00:00:00",
          "2023-02-21T00:00:00",
          "2023-02-22T00:00:00",
          "2023-02-23T00:00:00",
          "2023-02-24T00:00:00",
          "2023-02-27T00:00:00",
          "2023-02-28T00:00:00",
          "2023-03-01T00:00:00",
          "2023-03-02T00:00:00",
          "2023-03-03T00:00:00",
          "2023-03-06T00:00:00",
          "2023-03-07T00:00:00",
          "2023-03-08T00:00:00",
          "2023-03-09T00:00:00",
          "2023-03-10T00:00:00",
          "2023-03-13T00:00:00",
          "2023-03-14T00:00:00",
          "2023-03-15T00:00:00",
          "2023-03-16T00:00:00",
          "2023-03-17T00:00:00",
          "2023-03-20T00:00:00",
          "2023-03-21T00:00:00",
          "2023-03-22T00:00:00",
          "2023-03-23T00:00:00",
          "2023-03-24T00:00:00",
          "2023-03-27T00:00:00",
          "2023-03-28T00:00:00",
          "2023-03-29T00:00:00",
          "2023-03-30T00:00:00",
          "2023-03-31T00:00:00",
          "2023-04-03T00:00:00",
          "2023-04-04T00:00:00",
          "2023-04-05T00:00:00",
          "2023-04-06T00:00:00",
          "2023-04-10T00:00:00",
          "2023-04-11T00:00:00",
          "2023-04-12T00:00:00",
          "2023-04-13T00:00:00",
          "2023-04-14T00:00:00",
          "2023-04-17T00:00:00",
          "2023-04-18T00:00:00",
          "2023-04-19T00:00:00",
          "2023-04-20T00:00:00",
          "2023-04-21T00:00:00",
          "2023-04-24T00:00:00",
          "2023-04-25T00:00:00",
          "2023-04-26T00:00:00",
          "2023-04-27T00:00:00",
          "2023-04-28T00:00:00",
          "2023-05-01T00:00:00",
          "2023-05-02T00:00:00",
          "2023-05-03T00:00:00",
          "2023-05-04T00:00:00",
          "2023-05-05T00:00:00",
          "2023-05-08T00:00:00",
          "2023-05-09T00:00:00",
          "2023-05-10T00:00:00",
          "2023-05-11T00:00:00",
          "2023-05-12T00:00:00",
          "2023-05-15T00:00:00",
          "2023-05-16T00:00:00",
          "2023-05-17T00:00:00",
          "2023-05-18T00:00:00",
          "2023-05-19T00:00:00",
          "2023-05-22T00:00:00",
          "2023-05-23T00:00:00",
          "2023-05-24T00:00:00",
          "2023-05-25T00:00:00",
          "2023-05-26T00:00:00",
          "2023-05-30T00:00:00",
          "2023-05-31T00:00:00",
          "2023-06-01T00:00:00",
          "2023-06-02T00:00:00",
          "2023-06-05T00:00:00",
          "2023-06-06T00:00:00",
          "2023-06-07T00:00:00",
          "2023-06-08T00:00:00",
          "2023-06-09T00:00:00",
          "2023-06-12T00:00:00",
          "2023-06-13T00:00:00",
          "2023-06-14T00:00:00",
          "2023-06-15T00:00:00",
          "2023-06-16T00:00:00",
          "2023-06-20T00:00:00",
          "2023-06-21T00:00:00",
          "2023-06-22T00:00:00",
          "2023-06-23T00:00:00",
          "2023-06-26T00:00:00",
          "2023-06-27T00:00:00",
          "2023-06-28T00:00:00",
          "2023-06-29T00:00:00",
          "2023-06-30T00:00:00",
          "2023-07-03T00:00:00",
          "2023-07-05T00:00:00",
          "2023-07-06T00:00:00",
          "2023-07-07T00:00:00",
          "2023-07-10T00:00:00",
          "2023-07-11T00:00:00",
          "2023-07-12T00:00:00",
          "2023-07-13T00:00:00",
          "2023-07-14T00:00:00",
          "2023-07-17T00:00:00",
          "2023-07-18T00:00:00",
          "2023-07-19T00:00:00",
          "2023-07-20T00:00:00",
          "2023-07-21T00:00:00",
          "2023-07-24T00:00:00",
          "2023-07-25T00:00:00",
          "2023-07-26T00:00:00",
          "2023-07-27T00:00:00",
          "2023-07-28T00:00:00",
          "2023-07-31T00:00:00",
          "2023-08-01T00:00:00",
          "2023-08-02T00:00:00",
          "2023-08-03T00:00:00",
          "2023-08-04T00:00:00",
          "2023-08-07T00:00:00",
          "2023-08-08T00:00:00",
          "2023-08-09T00:00:00",
          "2023-08-10T00:00:00",
          "2023-08-11T00:00:00",
          "2023-08-14T00:00:00",
          "2023-08-15T00:00:00",
          "2023-08-16T00:00:00",
          "2023-08-17T00:00:00",
          "2023-08-18T00:00:00",
          "2023-08-21T00:00:00",
          "2023-08-22T00:00:00",
          "2023-08-23T00:00:00",
          "2023-08-24T00:00:00",
          "2023-08-25T00:00:00",
          "2023-08-28T00:00:00",
          "2023-08-29T00:00:00",
          "2023-08-30T00:00:00",
          "2023-08-31T00:00:00",
          "2023-09-01T00:00:00",
          "2023-09-05T00:00:00",
          "2023-09-06T00:00:00",
          "2023-09-07T00:00:00",
          "2023-09-08T00:00:00",
          "2023-09-11T00:00:00",
          "2023-09-12T00:00:00",
          "2023-09-13T00:00:00",
          "2023-09-14T00:00:00",
          "2023-09-15T00:00:00",
          "2023-09-18T00:00:00",
          "2023-09-19T00:00:00",
          "2023-09-20T00:00:00",
          "2023-09-21T00:00:00",
          "2023-09-22T00:00:00",
          "2023-09-25T00:00:00",
          "2023-09-26T00:00:00",
          "2023-09-27T00:00:00",
          "2023-09-28T00:00:00",
          "2023-09-29T00:00:00",
          "2023-10-02T00:00:00",
          "2023-10-03T00:00:00",
          "2023-10-04T00:00:00",
          "2023-10-05T00:00:00",
          "2023-10-06T00:00:00",
          "2023-10-09T00:00:00",
          "2023-10-10T00:00:00",
          "2023-10-11T00:00:00",
          "2023-10-12T00:00:00",
          "2023-10-13T00:00:00",
          "2023-10-16T00:00:00",
          "2023-10-17T00:00:00",
          "2023-10-18T00:00:00",
          "2023-10-19T00:00:00",
          "2023-10-20T00:00:00",
          "2023-10-23T00:00:00",
          "2023-10-24T00:00:00",
          "2023-10-25T00:00:00",
          "2023-10-26T00:00:00",
          "2023-10-27T00:00:00",
          "2023-10-30T00:00:00",
          "2023-10-31T00:00:00",
          "2023-11-01T00:00:00",
          "2023-11-02T00:00:00",
          "2023-11-03T00:00:00",
          "2023-11-06T00:00:00",
          "2023-11-07T00:00:00"
         ],
         "y": [
          128.20333099365234,
          127.11999766031902,
          125.48333231608073,
          126.99999745686848,
          128.2633285522461,
          130.16666158040366,
          131.4566650390625,
          132.5433349609375,
          133.88666788736978,
          134.70333353678384,
          135.30333455403647,
          135.47333780924478,
          136.11666870117188,
          138.08333333333334,
          140.50333150227866,
          141.83333333333334,
          142.78333536783853,
          143.91666666666666,
          144.29666646321616,
          144.4066619873047,
          144.23999532063803,
          146.84666442871094,
          150.25,
          152.3500010172526,
          153.6266632080078,
          152.76666259765625,
          152.47999572753906,
          151.26666259765625,
          151.90999857584634,
          152.6866658528646,
          154.12666829427084,
          154.0800018310547,
          153.86333719889322,
          151.5800018310547,
          149.9800008138021,
          148.92999776204428,
          148.34000142415366,
          148.00999959309897,
          147.34666951497397,
          146.87999979654947,
          146.21000162760416,
          147.41666666666666,
          150.2566680908203,
          152.15333557128906,
          152.76666768391928,
          151.6866658528646,
          150.65333048502603,
          149.85333251953125,
          150.5199991861979,
          152.01666768391928,
          153.81000264485678,
          154.61333719889322,
          156.08333333333334,
          157.2266642252604,
          158.1699981689453,
          158.67999776204428,
          159.00333150227866,
          159.15333048502603,
          158.7266642252604,
          158.8999989827474,
          160.25999959309897,
          162.67666625976562,
          164.4766642252604,
          165.56666564941406,
          165.1866658528646,
          164.68333435058594,
          163.48333231608072,
          162.49666849772134,
          160.97666931152344,
          162.15333557128906,
          163.6233367919922,
          165.33333333333334,
          165.63666788736978,
          166.4433339436849,
          166.91666666666666,
          166.43333435058594,
          165.66666666666666,
          164.70667012532553,
          164.2866668701172,
          165.3133341471354,
          167.28333028157553,
          169.2266642252604,
          169.2699940999349,
          168.52666219075522,
          167.25999450683594,
          168.9366658528646,
          170.95333353678384,
          172.94667053222656,
          172.9433339436849,
          173.02666727701822,
          173.2933349609375,
          172.79667154947916,
          172.2366739908854,
          172.27667236328125,
          173.27000427246094,
          174.3000030517578,
          174.80333455403647,
          173.63999938964844,
          172.53333028157553,
          172.12999979654947,
          173.4199981689453,
          175.24000040690103,
          176.65999857584634,
          178.2133331298828,
          179.42999776204428,
          180.2066650390625,
          179.91333516438803,
          178.87000528971353,
          179.20000712076822,
          179.78334045410156,
          181.7733357747396,
          182.6866658528646,
          183.6833292643229,
          184.42332967122397,
          184.95999654134116,
          185.3133290608724,
          184.62999979654947,
          185.32333374023438,
          185.87999979654947,
          186.31666564941406,
          186.6699981689453,
          187.52666727701822,
          188.96666463216147,
          190.9366658528646,
          192.0066680908203,
          192.586669921875,
          191.86666870117188,
          191.27333068847656,
          190.36666361490884,
          189.12333170572916,
          188.82000223795572,
          189.4633331298828,
          190.33333333333334,
          191.74000040690103,
          192.80333455403647,
          194.2733357747396,
          193.9866689046224,
          193.39000447591147,
          192.6066691080729,
          192.7699991861979,
          193.62333170572916,
          193.77999877929688,
          194.51666768391928,
          195.16666666666666,
          195.9633331298828,
          194.87999979654947,
          193.12000020345053,
          188.5800018310547,
          184.00333658854166,
          180.21333821614584,
          178.94667053222656,
          178.65333557128906,
          177.98333231608072,
          178.40666707356772,
          178.23333231608072,
          177.82667032877603,
          176.0066680908203,
          175.02000427246094,
          174.77666727701822,
          175.85333251953125,
          178.0633290608724,
          178.2433319091797,
          178.70333353678384,
          178.3933359781901,
          180.97333272298178,
          183.98666381835938,
          186.54666137695312,
          188.32666524251303,
          189.00999959309897,
          187.3566691080729,
          183.38999938964844,
          179.54999796549478,
          178.36666361490884,
          177.94666544596353,
          176.6233367919922,
          175.4166717529297,
          174.9866689046224,
          176.24000040690103,
          177.3500010172526,
          177.51000467936197,
          176.16333516438803,
          174.73666381835938,
          174.9333292643229,
          174.27666727701822,
          172.82333374023438,
          171.02666727701822,
          170.77666727701822,
          171.88333638509116,
          172.45333353678384,
          173.2699991861979,
          173.65666707356772,
          175.35333760579428,
          177.1300048828125,
          178.29000345865884,
          179.06000264485678,
          179.63333638509116,
          179.78667195638022,
          179.42667134602866,
          178.24000040690103,
          177.23666381835938,
          176.1499989827474,
          174.72666931152344,
          173.7800038655599,
          173.1066691080729,
          172.51333618164062,
          170.47666931152344,
          168.7366689046224,
          168.46666463216147,
          169.75999959309897,
          171.67666625976562,
          174.10333760579428,
          176.0633341471354,
          177.81666564941406,
          179.23333231608072
         ],
         "yaxis": "y"
        }
       ],
       "layout": {
        "height": 1600,
        "template": {
         "data": {
          "bar": [
           {
            "error_x": {
             "color": "#2a3f5f"
            },
            "error_y": {
             "color": "#2a3f5f"
            },
            "marker": {
             "line": {
              "color": "#E5ECF6",
              "width": 0.5
             },
             "pattern": {
              "fillmode": "overlay",
              "size": 10,
              "solidity": 0.2
             }
            },
            "type": "bar"
           }
          ],
          "barpolar": [
           {
            "marker": {
             "line": {
              "color": "#E5ECF6",
              "width": 0.5
             },
             "pattern": {
              "fillmode": "overlay",
              "size": 10,
              "solidity": 0.2
             }
            },
            "type": "barpolar"
           }
          ],
          "carpet": [
           {
            "aaxis": {
             "endlinecolor": "#2a3f5f",
             "gridcolor": "white",
             "linecolor": "white",
             "minorgridcolor": "white",
             "startlinecolor": "#2a3f5f"
            },
            "baxis": {
             "endlinecolor": "#2a3f5f",
             "gridcolor": "white",
             "linecolor": "white",
             "minorgridcolor": "white",
             "startlinecolor": "#2a3f5f"
            },
            "type": "carpet"
           }
          ],
          "choropleth": [
           {
            "colorbar": {
             "outlinewidth": 0,
             "ticks": ""
            },
            "type": "choropleth"
           }
          ],
          "contour": [
           {
            "colorbar": {
             "outlinewidth": 0,
             "ticks": ""
            },
            "colorscale": [
             [
              0,
              "#0d0887"
             ],
             [
              0.1111111111111111,
              "#46039f"
             ],
             [
              0.2222222222222222,
              "#7201a8"
             ],
             [
              0.3333333333333333,
              "#9c179e"
             ],
             [
              0.4444444444444444,
              "#bd3786"
             ],
             [
              0.5555555555555556,
              "#d8576b"
             ],
             [
              0.6666666666666666,
              "#ed7953"
             ],
             [
              0.7777777777777778,
              "#fb9f3a"
             ],
             [
              0.8888888888888888,
              "#fdca26"
             ],
             [
              1,
              "#f0f921"
             ]
            ],
            "type": "contour"
           }
          ],
          "contourcarpet": [
           {
            "colorbar": {
             "outlinewidth": 0,
             "ticks": ""
            },
            "type": "contourcarpet"
           }
          ],
          "heatmap": [
           {
            "colorbar": {
             "outlinewidth": 0,
             "ticks": ""
            },
            "colorscale": [
             [
              0,
              "#0d0887"
             ],
             [
              0.1111111111111111,
              "#46039f"
             ],
             [
              0.2222222222222222,
              "#7201a8"
             ],
             [
              0.3333333333333333,
              "#9c179e"
             ],
             [
              0.4444444444444444,
              "#bd3786"
             ],
             [
              0.5555555555555556,
              "#d8576b"
             ],
             [
              0.6666666666666666,
              "#ed7953"
             ],
             [
              0.7777777777777778,
              "#fb9f3a"
             ],
             [
              0.8888888888888888,
              "#fdca26"
             ],
             [
              1,
              "#f0f921"
             ]
            ],
            "type": "heatmap"
           }
          ],
          "heatmapgl": [
           {
            "colorbar": {
             "outlinewidth": 0,
             "ticks": ""
            },
            "colorscale": [
             [
              0,
              "#0d0887"
             ],
             [
              0.1111111111111111,
              "#46039f"
             ],
             [
              0.2222222222222222,
              "#7201a8"
             ],
             [
              0.3333333333333333,
              "#9c179e"
             ],
             [
              0.4444444444444444,
              "#bd3786"
             ],
             [
              0.5555555555555556,
              "#d8576b"
             ],
             [
              0.6666666666666666,
              "#ed7953"
             ],
             [
              0.7777777777777778,
              "#fb9f3a"
             ],
             [
              0.8888888888888888,
              "#fdca26"
             ],
             [
              1,
              "#f0f921"
             ]
            ],
            "type": "heatmapgl"
           }
          ],
          "histogram": [
           {
            "marker": {
             "pattern": {
              "fillmode": "overlay",
              "size": 10,
              "solidity": 0.2
             }
            },
            "type": "histogram"
           }
          ],
          "histogram2d": [
           {
            "colorbar": {
             "outlinewidth": 0,
             "ticks": ""
            },
            "colorscale": [
             [
              0,
              "#0d0887"
             ],
             [
              0.1111111111111111,
              "#46039f"
             ],
             [
              0.2222222222222222,
              "#7201a8"
             ],
             [
              0.3333333333333333,
              "#9c179e"
             ],
             [
              0.4444444444444444,
              "#bd3786"
             ],
             [
              0.5555555555555556,
              "#d8576b"
             ],
             [
              0.6666666666666666,
              "#ed7953"
             ],
             [
              0.7777777777777778,
              "#fb9f3a"
             ],
             [
              0.8888888888888888,
              "#fdca26"
             ],
             [
              1,
              "#f0f921"
             ]
            ],
            "type": "histogram2d"
           }
          ],
          "histogram2dcontour": [
           {
            "colorbar": {
             "outlinewidth": 0,
             "ticks": ""
            },
            "colorscale": [
             [
              0,
              "#0d0887"
             ],
             [
              0.1111111111111111,
              "#46039f"
             ],
             [
              0.2222222222222222,
              "#7201a8"
             ],
             [
              0.3333333333333333,
              "#9c179e"
             ],
             [
              0.4444444444444444,
              "#bd3786"
             ],
             [
              0.5555555555555556,
              "#d8576b"
             ],
             [
              0.6666666666666666,
              "#ed7953"
             ],
             [
              0.7777777777777778,
              "#fb9f3a"
             ],
             [
              0.8888888888888888,
              "#fdca26"
             ],
             [
              1,
              "#f0f921"
             ]
            ],
            "type": "histogram2dcontour"
           }
          ],
          "mesh3d": [
           {
            "colorbar": {
             "outlinewidth": 0,
             "ticks": ""
            },
            "type": "mesh3d"
           }
          ],
          "parcoords": [
           {
            "line": {
             "colorbar": {
              "outlinewidth": 0,
              "ticks": ""
             }
            },
            "type": "parcoords"
           }
          ],
          "pie": [
           {
            "automargin": true,
            "type": "pie"
           }
          ],
          "scatter": [
           {
            "fillpattern": {
             "fillmode": "overlay",
             "size": 10,
             "solidity": 0.2
            },
            "type": "scatter"
           }
          ],
          "scatter3d": [
           {
            "line": {
             "colorbar": {
              "outlinewidth": 0,
              "ticks": ""
             }
            },
            "marker": {
             "colorbar": {
              "outlinewidth": 0,
              "ticks": ""
             }
            },
            "type": "scatter3d"
           }
          ],
          "scattercarpet": [
           {
            "marker": {
             "colorbar": {
              "outlinewidth": 0,
              "ticks": ""
             }
            },
            "type": "scattercarpet"
           }
          ],
          "scattergeo": [
           {
            "marker": {
             "colorbar": {
              "outlinewidth": 0,
              "ticks": ""
             }
            },
            "type": "scattergeo"
           }
          ],
          "scattergl": [
           {
            "marker": {
             "colorbar": {
              "outlinewidth": 0,
              "ticks": ""
             }
            },
            "type": "scattergl"
           }
          ],
          "scattermapbox": [
           {
            "marker": {
             "colorbar": {
              "outlinewidth": 0,
              "ticks": ""
             }
            },
            "type": "scattermapbox"
           }
          ],
          "scatterpolar": [
           {
            "marker": {
             "colorbar": {
              "outlinewidth": 0,
              "ticks": ""
             }
            },
            "type": "scatterpolar"
           }
          ],
          "scatterpolargl": [
           {
            "marker": {
             "colorbar": {
              "outlinewidth": 0,
              "ticks": ""
             }
            },
            "type": "scatterpolargl"
           }
          ],
          "scatterternary": [
           {
            "marker": {
             "colorbar": {
              "outlinewidth": 0,
              "ticks": ""
             }
            },
            "type": "scatterternary"
           }
          ],
          "surface": [
           {
            "colorbar": {
             "outlinewidth": 0,
             "ticks": ""
            },
            "colorscale": [
             [
              0,
              "#0d0887"
             ],
             [
              0.1111111111111111,
              "#46039f"
             ],
             [
              0.2222222222222222,
              "#7201a8"
             ],
             [
              0.3333333333333333,
              "#9c179e"
             ],
             [
              0.4444444444444444,
              "#bd3786"
             ],
             [
              0.5555555555555556,
              "#d8576b"
             ],
             [
              0.6666666666666666,
              "#ed7953"
             ],
             [
              0.7777777777777778,
              "#fb9f3a"
             ],
             [
              0.8888888888888888,
              "#fdca26"
             ],
             [
              1,
              "#f0f921"
             ]
            ],
            "type": "surface"
           }
          ],
          "table": [
           {
            "cells": {
             "fill": {
              "color": "#EBF0F8"
             },
             "line": {
              "color": "white"
             }
            },
            "header": {
             "fill": {
              "color": "#C8D4E3"
             },
             "line": {
              "color": "white"
             }
            },
            "type": "table"
           }
          ]
         },
         "layout": {
          "annotationdefaults": {
           "arrowcolor": "#2a3f5f",
           "arrowhead": 0,
           "arrowwidth": 1
          },
          "autotypenumbers": "strict",
          "coloraxis": {
           "colorbar": {
            "outlinewidth": 0,
            "ticks": ""
           }
          },
          "colorscale": {
           "diverging": [
            [
             0,
             "#8e0152"
            ],
            [
             0.1,
             "#c51b7d"
            ],
            [
             0.2,
             "#de77ae"
            ],
            [
             0.3,
             "#f1b6da"
            ],
            [
             0.4,
             "#fde0ef"
            ],
            [
             0.5,
             "#f7f7f7"
            ],
            [
             0.6,
             "#e6f5d0"
            ],
            [
             0.7,
             "#b8e186"
            ],
            [
             0.8,
             "#7fbc41"
            ],
            [
             0.9,
             "#4d9221"
            ],
            [
             1,
             "#276419"
            ]
           ],
           "sequential": [
            [
             0,
             "#0d0887"
            ],
            [
             0.1111111111111111,
             "#46039f"
            ],
            [
             0.2222222222222222,
             "#7201a8"
            ],
            [
             0.3333333333333333,
             "#9c179e"
            ],
            [
             0.4444444444444444,
             "#bd3786"
            ],
            [
             0.5555555555555556,
             "#d8576b"
            ],
            [
             0.6666666666666666,
             "#ed7953"
            ],
            [
             0.7777777777777778,
             "#fb9f3a"
            ],
            [
             0.8888888888888888,
             "#fdca26"
            ],
            [
             1,
             "#f0f921"
            ]
           ],
           "sequentialminus": [
            [
             0,
             "#0d0887"
            ],
            [
             0.1111111111111111,
             "#46039f"
            ],
            [
             0.2222222222222222,
             "#7201a8"
            ],
            [
             0.3333333333333333,
             "#9c179e"
            ],
            [
             0.4444444444444444,
             "#bd3786"
            ],
            [
             0.5555555555555556,
             "#d8576b"
            ],
            [
             0.6666666666666666,
             "#ed7953"
            ],
            [
             0.7777777777777778,
             "#fb9f3a"
            ],
            [
             0.8888888888888888,
             "#fdca26"
            ],
            [
             1,
             "#f0f921"
            ]
           ]
          },
          "colorway": [
           "#636efa",
           "#EF553B",
           "#00cc96",
           "#ab63fa",
           "#FFA15A",
           "#19d3f3",
           "#FF6692",
           "#B6E880",
           "#FF97FF",
           "#FECB52"
          ],
          "font": {
           "color": "#2a3f5f"
          },
          "geo": {
           "bgcolor": "white",
           "lakecolor": "white",
           "landcolor": "#E5ECF6",
           "showlakes": true,
           "showland": true,
           "subunitcolor": "white"
          },
          "hoverlabel": {
           "align": "left"
          },
          "hovermode": "closest",
          "mapbox": {
           "style": "light"
          },
          "paper_bgcolor": "white",
          "plot_bgcolor": "#E5ECF6",
          "polar": {
           "angularaxis": {
            "gridcolor": "white",
            "linecolor": "white",
            "ticks": ""
           },
           "bgcolor": "#E5ECF6",
           "radialaxis": {
            "gridcolor": "white",
            "linecolor": "white",
            "ticks": ""
           }
          },
          "scene": {
           "xaxis": {
            "backgroundcolor": "#E5ECF6",
            "gridcolor": "white",
            "gridwidth": 2,
            "linecolor": "white",
            "showbackground": true,
            "ticks": "",
            "zerolinecolor": "white"
           },
           "yaxis": {
            "backgroundcolor": "#E5ECF6",
            "gridcolor": "white",
            "gridwidth": 2,
            "linecolor": "white",
            "showbackground": true,
            "ticks": "",
            "zerolinecolor": "white"
           },
           "zaxis": {
            "backgroundcolor": "#E5ECF6",
            "gridcolor": "white",
            "gridwidth": 2,
            "linecolor": "white",
            "showbackground": true,
            "ticks": "",
            "zerolinecolor": "white"
           }
          },
          "shapedefaults": {
           "line": {
            "color": "#2a3f5f"
           }
          },
          "ternary": {
           "aaxis": {
            "gridcolor": "white",
            "linecolor": "white",
            "ticks": ""
           },
           "baxis": {
            "gridcolor": "white",
            "linecolor": "white",
            "ticks": ""
           },
           "bgcolor": "#E5ECF6",
           "caxis": {
            "gridcolor": "white",
            "linecolor": "white",
            "ticks": ""
           }
          },
          "title": {
           "x": 0.05
          },
          "xaxis": {
           "automargin": true,
           "gridcolor": "white",
           "linecolor": "white",
           "ticks": "",
           "title": {
            "standoff": 15
           },
           "zerolinecolor": "white",
           "zerolinewidth": 2
          },
          "yaxis": {
           "automargin": true,
           "gridcolor": "white",
           "linecolor": "white",
           "ticks": "",
           "title": {
            "standoff": 15
           },
           "zerolinecolor": "white",
           "zerolinewidth": 2
          }
         }
        },
        "title": {
         "text": "Apple, Jan, 2020 to Dec, 2023"
        },
        "width": 1800,
        "yaxis": {
         "title": {
          "text": "AAPL Stock"
         }
        }
       }
      }
     },
     "metadata": {},
     "output_type": "display_data"
    }
   ],
   "source": [
    "aapl_df_2020_2023 = df\n",
    "aapl_df_2023_jan_dec = aapl_df_2020_2023.loc['2023-01-01' : '2023-12-31']\n",
    "aapl_df_2023_jan_dec.head()\n",
    "df = aapl_df_2023_jan_dec\n",
    "\n",
    "# with SMA and no EMA index\n",
    "candlestick = go.Candlestick(\n",
    "                            x=df.index,\n",
    "                            open=df['Open'],\n",
    "                            high=df['High'],\n",
    "                            low=df['Low'],\n",
    "                            close=df['Close'],\n",
    "                            showlegend=False,\n",
    "                            increasing_line_color= 'blue', decreasing_line_color= 'orange',\n",
    "                            )\n",
    "\n",
    "sma = go.Scatter(x=df.index,\n",
    "                 y=df[\"SMA\"],\n",
    "                 yaxis=\"y1\",\n",
    "                 name=\"SMA\"\n",
    "                )\n",
    "#ema = go.Scatter(x=df.index,\n",
    "#                 y=df[\"EMA\"],\n",
    "#                 name=\"EMA\"\n",
    "#                )\n",
    "\n",
    "#fig = go.Figure(data=[candlestick, sma, ema])\n",
    "fig = go.Figure(data=[candlestick, sma])\n",
    "\n",
    "fig.update_layout(\n",
    "    width=1800, height=1600,\n",
    "    title=\"Apple, Jan, 2020 to Dec, 2023\",\n",
    "    yaxis_title='AAPL Stock',\n",
    ")\n",
    "\n",
    "fig.show()"
   ]
  },
  {
   "cell_type": "code",
   "execution_count": null,
   "metadata": {},
   "outputs": [
    {
     "name": "stdout",
     "output_type": "stream",
     "text": [
      "2023-11-09 2023-09-01\n"
     ]
    },
    {
     "ename": "NameError",
     "evalue": "name 'aapl_df_2023_jan_dec' is not defined",
     "output_type": "error",
     "traceback": [
      "\u001b[0;31m---------------------------------------------------------------------------\u001b[0m",
      "\u001b[0;31mNameError\u001b[0m                                 Traceback (most recent call last)",
      "\u001b[0;32m/tmp/ipykernel_55145/2968035608.py\u001b[0m in \u001b[0;36m<module>\u001b[0;34m\u001b[0m\n\u001b[1;32m     37\u001b[0m \u001b[0;34m\u001b[0m\u001b[0m\n\u001b[1;32m     38\u001b[0m \u001b[0mprint\u001b[0m\u001b[0;34m(\u001b[0m\u001b[0mdate_end\u001b[0m\u001b[0;34m.\u001b[0m\u001b[0mstrftime\u001b[0m\u001b[0;34m(\u001b[0m\u001b[0;34m\"%Y-%m-%d\"\u001b[0m\u001b[0;34m)\u001b[0m\u001b[0;34m,\u001b[0m \u001b[0mdate_start\u001b[0m\u001b[0;34m.\u001b[0m\u001b[0mstrftime\u001b[0m\u001b[0;34m(\u001b[0m\u001b[0;34m\"%Y-%m-%d\"\u001b[0m\u001b[0;34m)\u001b[0m\u001b[0;34m)\u001b[0m\u001b[0;34m\u001b[0m\u001b[0;34m\u001b[0m\u001b[0m\n\u001b[0;32m---> 39\u001b[0;31m \u001b[0mplot_candle_sma\u001b[0m\u001b[0;34m(\u001b[0m\u001b[0mdate_start\u001b[0m\u001b[0;34m,\u001b[0m \u001b[0mdate_end\u001b[0m\u001b[0;34m,\u001b[0m \u001b[0maapl_df_2023_jan_dec\u001b[0m\u001b[0;34m)\u001b[0m\u001b[0;34m\u001b[0m\u001b[0;34m\u001b[0m\u001b[0m\n\u001b[0m",
      "\u001b[0;31mNameError\u001b[0m: name 'aapl_df_2023_jan_dec' is not defined"
     ]
    }
   ],
   "source": [
    "def plot_candle_sma(dini, dend, df):\n",
    "    df = df.loc[dini.strftime(\"%Y-%m-%d\") : dend.strftime(\"%Y-%m-%d\")]\n",
    "    # with SMA and no EMA index\n",
    "    candlestick = go.Candlestick(\n",
    "                                x=df.index,\n",
    "                                open=df['Open'],\n",
    "                                high=df['High'],\n",
    "                                low=df['Low'],\n",
    "                                close=df['Close'],\n",
    "                                showlegend=False,\n",
    "                                increasing_line_color= 'blue', decreasing_line_color= 'orange',\n",
    "                                )\n",
    "\n",
    "    sma = go.Scatter(x=df.index,\n",
    "                    y=df[\"SMA\"],\n",
    "                    yaxis=\"y1\",\n",
    "                    name=\"SMA\"\n",
    "                    )\n",
    "    #ema = go.Scatter(x=df.index,\n",
    "    #                 y=df[\"EMA\"],\n",
    "    #                 name=\"EMA\"\n",
    "    #                )\n",
    "\n",
    "    #fig = go.Figure(data=[candlestick, sma, ema])\n",
    "    fig = go.Figure(data=[candlestick, sma])\n",
    "\n",
    "    fig.update_layout(\n",
    "        width=1800, height=1600,\n",
    "        title=\"Apple, Jan, 2020 to Dec, 2023\",\n",
    "        yaxis_title='AAPL Stock',\n",
    "    )\n",
    "\n",
    "    fig.show()\n",
    "\n",
    "date_end = datetime.now()\n",
    "date_start = datetime(2023, 9, 1)\n",
    "\n",
    "print(date_end.strftime(\"%Y-%m-%d\"), date_start.strftime(\"%Y-%m-%d\"))\n",
    "plot_candle_sma(date_start, date_end, aapl_df_2023_jan_dec)\n"
   ]
  },
  {
   "cell_type": "code",
   "execution_count": 13,
   "metadata": {},
   "outputs": [
    {
     "name": "stdout",
     "output_type": "stream",
     "text": [
      "[*********************100%%**********************]  6 of 6 completed\n",
      "<class 'pandas.core.frame.DataFrame'>\n",
      "DatetimeIndex: 217 entries, 2023-01-02 to 2023-11-08\n",
      "Data columns (total 36 columns):\n",
      " #   Column                        Non-Null Count  Dtype  \n",
      "---  ------                        --------------  -----  \n",
      " 0   (Adj Close, BIMBOA.MX)        216 non-null    float64\n",
      " 1   (Adj Close, BOLSAA.MX)        216 non-null    float64\n",
      " 2   (Adj Close, GENIUS21.MX)      216 non-null    float64\n",
      " 3   (Adj Close, HERDEZ.MX)        216 non-null    float64\n",
      " 4   (Adj Close, IVVPESOISHRS.MX)  212 non-null    float64\n",
      " 5   (Adj Close, WALMEX.MX)        216 non-null    float64\n",
      " 6   (Close, BIMBOA.MX)            216 non-null    float64\n",
      " 7   (Close, BOLSAA.MX)            216 non-null    float64\n",
      " 8   (Close, GENIUS21.MX)          216 non-null    float64\n",
      " 9   (Close, HERDEZ.MX)            216 non-null    float64\n",
      " 10  (Close, IVVPESOISHRS.MX)      212 non-null    float64\n",
      " 11  (Close, WALMEX.MX)            216 non-null    float64\n",
      " 12  (High, BIMBOA.MX)             216 non-null    float64\n",
      " 13  (High, BOLSAA.MX)             216 non-null    float64\n",
      " 14  (High, GENIUS21.MX)           216 non-null    float64\n",
      " 15  (High, HERDEZ.MX)             216 non-null    float64\n",
      " 16  (High, IVVPESOISHRS.MX)       212 non-null    float64\n",
      " 17  (High, WALMEX.MX)             216 non-null    float64\n",
      " 18  (Low, BIMBOA.MX)              216 non-null    float64\n",
      " 19  (Low, BOLSAA.MX)              216 non-null    float64\n",
      " 20  (Low, GENIUS21.MX)            216 non-null    float64\n",
      " 21  (Low, HERDEZ.MX)              216 non-null    float64\n",
      " 22  (Low, IVVPESOISHRS.MX)        212 non-null    float64\n",
      " 23  (Low, WALMEX.MX)              216 non-null    float64\n",
      " 24  (Open, BIMBOA.MX)             216 non-null    float64\n",
      " 25  (Open, BOLSAA.MX)             216 non-null    float64\n",
      " 26  (Open, GENIUS21.MX)           216 non-null    float64\n",
      " 27  (Open, HERDEZ.MX)             216 non-null    float64\n",
      " 28  (Open, IVVPESOISHRS.MX)       212 non-null    float64\n",
      " 29  (Open, WALMEX.MX)             216 non-null    float64\n",
      " 30  (Volume, BIMBOA.MX)           216 non-null    float64\n",
      " 31  (Volume, BOLSAA.MX)           216 non-null    float64\n",
      " 32  (Volume, GENIUS21.MX)         216 non-null    float64\n",
      " 33  (Volume, HERDEZ.MX)           216 non-null    float64\n",
      " 34  (Volume, IVVPESOISHRS.MX)     212 non-null    float64\n",
      " 35  (Volume, WALMEX.MX)           216 non-null    float64\n",
      "dtypes: float64(36)\n",
      "memory usage: 62.7 KB\n"
     ]
    }
   ],
   "source": [
    "# my portfolio\n",
    "# yf.download(tickers = symbol, start = start, end = end)\n",
    "symbol = [\"GENIUS21.MX\", \"BIMBOA.MX\", \"HERDEZ.MX\", \"BOLSAA.MX\", \"IVVPESOISHRS.MX\", \"WALMEX.MX\"]\n",
    "start = \"2023-01-02\" \n",
    "end = datetime.now().strftime(\"%Y-%m-%d\")\n",
    "\n",
    "portfolio_df = yf.download(tickers=symbol, start = start, end = end)\n",
    "portfolio_df.head()\n",
    "portfolio_df.info()"
   ]
  },
  {
   "cell_type": "code",
   "execution_count": 14,
   "metadata": {},
   "outputs": [],
   "source": [
    "portfolio_df.to_csv(\"stocks_portfolio.csv\")"
   ]
  },
  {
   "cell_type": "code",
   "execution_count": 15,
   "metadata": {},
   "outputs": [
    {
     "name": "stdout",
     "output_type": "stream",
     "text": [
      "<class 'pandas.core.series.Series'>\n",
      "DatetimeIndex: 217 entries, 2023-01-02 to 2023-11-08\n",
      "Series name: BOLSAA.MX\n",
      "Non-Null Count  Dtype  \n",
      "--------------  -----  \n",
      "216 non-null    float64\n",
      "dtypes: float64(1)\n",
      "memory usage: 3.4 KB\n"
     ]
    }
   ],
   "source": [
    "BOLSA_df = portfolio_df.Close[\"BOLSAA.MX\"]\n",
    "BOLSA_df.info()\n",
    "#BOLSA_df.head()"
   ]
  },
  {
   "cell_type": "code",
   "execution_count": 16,
   "metadata": {},
   "outputs": [
    {
     "data": {
      "text/plain": [
       "Date\n",
       "2023-01-02    38.160000\n",
       "2023-01-03    37.590000\n",
       "2023-01-04    37.930000\n",
       "2023-01-05    37.830002\n",
       "2023-01-06    38.259998\n",
       "Name: BOLSAA.MX, dtype: float64"
      ]
     },
     "execution_count": 16,
     "metadata": {},
     "output_type": "execute_result"
    }
   ],
   "source": [
    "BOLSA_df.head()"
   ]
  },
  {
   "cell_type": "code",
   "execution_count": 17,
   "metadata": {},
   "outputs": [
    {
     "data": {
      "image/png": "[encoded data removed]",
      "text/plain": [
       "<Figure size 432x288 with 1 Axes>"
      ]
     },
     "metadata": {
      "needs_background": "light"
     },
     "output_type": "display_data"
    }
   ],
   "source": [
    "BOLSA_df.plot()\n",
    "plt.show()"
   ]
  },
  {
   "cell_type": "code",
   "execution_count": 18,
   "metadata": {},
   "outputs": [
    {
     "data": {
      "text/html": [
       "        <script type=\"text/javascript\">\n",
       "        window.PlotlyConfig = {MathJaxConfig: 'local'};\n",
       "        if (window.MathJax && window.MathJax.Hub && window.MathJax.Hub.Config) {window.MathJax.Hub.Config({SVG: {font: \"STIX-Web\"}});}\n",
       "        if (typeof require !== 'undefined') {\n",
       "        require.undef(\"plotly\");\n",
       "        requirejs.config({\n",
       "            paths: {\n",
       "                'plotly': ['https://cdn.plot.ly/plotly-2.27.0.min']\n",
       "            }\n",
       "        });\n",
       "        require(['plotly'], function(Plotly) {\n",
       "            window._Plotly = Plotly;\n",
       "        });\n",
       "        }\n",
       "        </script>\n",
       "        "
      ]
     },
     "metadata": {},
     "output_type": "display_data"
    }
   ],
   "source": [
    "# interactive plots\n",
    "import cufflinks as cf"
   ]
  },
  {
   "cell_type": "code",
   "execution_count": 19,
   "metadata": {},
   "outputs": [
    {
     "data": {
      "text/html": [
       "        <script type=\"text/javascript\">\n",
       "        window.PlotlyConfig = {MathJaxConfig: 'local'};\n",
       "        if (window.MathJax && window.MathJax.Hub && window.MathJax.Hub.Config) {window.MathJax.Hub.Config({SVG: {font: \"STIX-Web\"}});}\n",
       "        if (typeof require !== 'undefined') {\n",
       "        require.undef(\"plotly\");\n",
       "        requirejs.config({\n",
       "            paths: {\n",
       "                'plotly': ['https://cdn.plot.ly/plotly-2.27.0.min']\n",
       "            }\n",
       "        });\n",
       "        require(['plotly'], function(Plotly) {\n",
       "            window._Plotly = Plotly;\n",
       "        });\n",
       "        }\n",
       "        </script>\n",
       "        "
      ]
     },
     "metadata": {},
     "output_type": "display_data"
    },
    {
     "data": {
      "application/vnd.plotly.v1+json": {
       "config": {
        "linkText": "Export to plot.ly",
        "plotlyServerURL": "https://plot.ly",
        "showLink": true
       },
       "data": [
        {
         "line": {
          "color": "rgba(255, 153, 51, 1.0)",
          "dash": "solid",
          "shape": "linear",
          "width": 1.3
         },
         "mode": "lines",
         "name": "BOLSAA.MX",
         "text": "",
         "type": "scatter",
         "x": [
          "2023-01-02",
          "2023-01-03",
          "2023-01-04",
          "2023-01-05",
          "2023-01-06",
          "2023-01-09",
          "2023-01-10",
          "2023-01-11",
          "2023-01-12",
          "2023-01-13",
          "2023-01-16",
          "2023-01-17",
          "2023-01-18",
          "2023-01-19",
          "2023-01-20",
          "2023-01-23",
          "2023-01-24",
          "2023-01-25",
          "2023-01-26",
          "2023-01-27",
          "2023-01-30",
          "2023-01-31",
          "2023-02-01",
          "2023-02-02",
          "2023-02-03",
          "2023-02-07",
          "2023-02-08",
          "2023-02-09",
          "2023-02-10",
          "2023-02-13",
          "2023-02-14",
          "2023-02-15",
          "2023-02-16",
          "2023-02-17",
          "2023-02-20",
          "2023-02-21",
          "2023-02-22",
          "2023-02-23",
          "2023-02-24",
          "2023-02-27",
          "2023-02-28",
          "2023-03-01",
          "2023-03-02",
          "2023-03-03",
          "2023-03-06",
          "2023-03-07",
          "2023-03-08",
          "2023-03-09",
          "2023-03-10",
          "2023-03-13",
          "2023-03-14",
          "2023-03-15",
          "2023-03-16",
          "2023-03-17",
          "2023-03-21",
          "2023-03-22",
          "2023-03-23",
          "2023-03-24",
          "2023-03-27",
          "2023-03-28",
          "2023-03-29",
          "2023-03-30",
          "2023-03-31",
          "2023-04-03",
          "2023-04-04",
          "2023-04-05",
          "2023-04-10",
          "2023-04-11",
          "2023-04-12",
          "2023-04-13",
          "2023-04-14",
          "2023-04-17",
          "2023-04-18",
          "2023-04-19",
          "2023-04-20",
          "2023-04-21",
          "2023-04-24",
          "2023-04-25",
          "2023-04-26",
          "2023-04-27",
          "2023-04-28",
          "2023-05-02",
          "2023-05-03",
          "2023-05-04",
          "2023-05-05",
          "2023-05-08",
          "2023-05-09",
          "2023-05-10",
          "2023-05-11",
          "2023-05-12",
          "2023-05-15",
          "2023-05-16",
          "2023-05-17",
          "2023-05-18",
          "2023-05-19",
          "2023-05-22",
          "2023-05-23",
          "2023-05-24",
          "2023-05-25",
          "2023-05-26",
          "2023-05-29",
          "2023-05-30",
          "2023-05-31",
          "2023-06-01",
          "2023-06-02",
          "2023-06-05",
          "2023-06-06",
          "2023-06-07",
          "2023-06-08",
          "2023-06-09",
          "2023-06-12",
          "2023-06-13",
          "2023-06-14",
          "2023-06-15",
          "2023-06-16",
          "2023-06-19",
          "2023-06-20",
          "2023-06-21",
          "2023-06-22",
          "2023-06-23",
          "2023-06-26",
          "2023-06-27",
          "2023-06-28",
          "2023-06-29",
          "2023-06-30",
          "2023-07-03",
          "2023-07-04",
          "2023-07-05",
          "2023-07-06",
          "2023-07-07",
          "2023-07-10",
          "2023-07-11",
          "2023-07-12",
          "2023-07-13",
          "2023-07-14",
          "2023-07-17",
          "2023-07-18",
          "2023-07-19",
          "2023-07-20",
          "2023-07-21",
          "2023-07-24",
          "2023-07-25",
          "2023-07-26",
          "2023-07-27",
          "2023-07-28",
          "2023-07-31",
          "2023-08-01",
          "2023-08-02",
          "2023-08-03",
          "2023-08-04",
          "2023-08-07",
          "2023-08-08",
          "2023-08-09",
          "2023-08-10",
          "2023-08-11",
          "2023-08-14",
          "2023-08-15",
          "2023-08-16",
          "2023-08-17",
          "2023-08-18",
          "2023-08-21",
          "2023-08-22",
          "2023-08-23",
          "2023-08-24",
          "2023-08-25",
          "2023-08-28",
          "2023-08-29",
          "2023-08-30",
          "2023-08-31",
          "2023-09-01",
          "2023-09-04",
          "2023-09-05",
          "2023-09-06",
          "2023-09-07",
          "2023-09-08",
          "2023-09-11",
          "2023-09-12",
          "2023-09-13",
          "2023-09-14",
          "2023-09-15",
          "2023-09-18",
          "2023-09-19",
          "2023-09-20",
          "2023-09-21",
          "2023-09-22",
          "2023-09-25",
          "2023-09-26",
          "2023-09-27",
          "2023-09-28",
          "2023-09-29",
          "2023-10-02",
          "2023-10-03",
          "2023-10-04",
          "2023-10-05",
          "2023-10-06",
          "2023-10-09",
          "2023-10-10",
          "2023-10-11",
          "2023-10-12",
          "2023-10-13",
          "2023-10-16",
          "2023-10-17",
          "2023-10-18",
          "2023-10-19",
          "2023-10-20",
          "2023-10-23",
          "2023-10-24",
          "2023-10-25",
          "2023-10-26",
          "2023-10-27",
          "2023-10-30",
          "2023-10-31",
          "2023-11-01",
          "2023-11-03",
          "2023-11-06",
          "2023-11-07",
          "2023-11-08"
         ],
         "y": [
          38.15999984741211,
          37.59000015258789,
          37.93000030517578,
          37.83000183105469,
          38.2599983215332,
          38.869998931884766,
          38.599998474121094,
          38.61000061035156,
          38.75,
          38.689998626708984,
          38.65999984741211,
          38.599998474121094,
          38.59000015258789,
          38.5099983215332,
          38.650001525878906,
          38.650001525878906,
          39.060001373291016,
          39.650001525878906,
          40.4900016784668,
          40.630001068115234,
          40.5099983215332,
          40.88999938964844,
          40.939998626708984,
          40.900001525878906,
          41.06999969482422,
          41.029998779296875,
          41.060001373291016,
          40.939998626708984,
          39.400001525878906,
          39.7599983215332,
          38.86000061035156,
          39.09000015258789,
          39,
          38.86000061035156,
          37.70000076293945,
          37.88999938964844,
          36.2599983215332,
          36.5,
          36.02000045776367,
          35.720001220703125,
          35.66999816894531,
          36.09000015258789,
          36.11000061035156,
          36.040000915527344,
          36.29999923706055,
          36.04999923706055,
          36.56999969482422,
          35.939998626708984,
          "",
          36.15999984741211,
          36.95000076293945,
          37.150001525878906,
          38,
          39.0099983215332,
          38.599998474121094,
          37.93000030517578,
          38.18000030517578,
          38.2400016784668,
          37.88999938964844,
          37.9900016784668,
          38.599998474121094,
          38.7599983215332,
          38.529998779296875,
          38.290000915527344,
          38.36000061035156,
          37.84000015258789,
          38.66999816894531,
          38.65999984741211,
          37.68000030517578,
          38.52000045776367,
          38.349998474121094,
          38.93000030517578,
          38.900001525878906,
          39.04999923706055,
          39.220001220703125,
          39.470001220703125,
          39.279998779296875,
          38.900001525878906,
          38.95000076293945,
          38.970001220703125,
          39.619998931884766,
          40.08000183105469,
          40.220001220703125,
          40.29999923706055,
          40.709999084472656,
          40.70000076293945,
          40.70000076293945,
          41.09000015258789,
          38.189998626708984,
          38.04999923706055,
          38.099998474121094,
          38.099998474121094,
          37.7400016784668,
          37.66999816894531,
          37.470001220703125,
          36.790000915527344,
          36.810001373291016,
          36.79999923706055,
          36.880001068115234,
          36.79999923706055,
          36.939998626708984,
          36.650001525878906,
          37.189998626708984,
          36.4900016784668,
          37.650001525878906,
          37.22999954223633,
          37.91999816894531,
          37.849998474121094,
          37.70000076293945,
          37.58000183105469,
          37.31999969482422,
          37.20000076293945,
          37.15999984741211,
          37.09000015258789,
          36.75,
          36.900001525878906,
          36.619998931884766,
          36.29999923706055,
          35.880001068115234,
          35.70000076293945,
          35.529998779296875,
          35.81999969482422,
          35.7599983215332,
          35.75,
          35.58000183105469,
          35.709999084472656,
          35.18000030517578,
          35.09000015258789,
          34.689998626708984,
          34.63999938964844,
          34.7599983215332,
          35.02000045776367,
          35.31999969482422,
          35.34000015258789,
          35.41999816894531,
          35.08000183105469,
          35.099998474121094,
          34.5,
          34,
          34.81999969482422,
          34.849998474121094,
          35.25,
          35.20000076293945,
          35.060001373291016,
          35.45000076293945,
          35.5,
          35.220001220703125,
          34.70000076293945,
          34.16999816894531,
          35.029998779296875,
          35.400001525878906,
          36.099998474121094,
          35.970001220703125,
          35.47999954223633,
          35.5,
          35.63999938964844,
          35.77000045776367,
          35.130001068115234,
          35.099998474121094,
          34.66999816894531,
          34.310001373291016,
          34.02000045776367,
          34.150001525878906,
          34.29999923706055,
          34.2400016784668,
          34.25,
          34.689998626708984,
          34.470001220703125,
          34.119998931884766,
          34.25,
          34.540000915527344,
          34.22999954223633,
          33.08000183105469,
          33.40999984741211,
          33.060001373291016,
          33.04999923706055,
          33,
          33.18000030517578,
          33.47999954223633,
          34,
          33.97999954223633,
          34.150001525878906,
          34.279998779296875,
          33.7400016784668,
          33.369998931884766,
          33.29999923706055,
          33.40999984741211,
          33.869998931884766,
          33.060001373291016,
          32.630001068115234,
          33.25,
          32.869998931884766,
          33.29999923706055,
          33,
          33.25,
          33.119998931884766,
          33.58000183105469,
          33.65999984741211,
          33.25,
          32.54999923706055,
          32.95000076293945,
          32.470001220703125,
          28.950000762939453,
          30.579999923706055,
          29.6299991607666,
          29.65999984741211,
          29.540000915527344,
          29.149999618530273,
          29.020000457763672,
          28.700000762939453,
          28,
          28.06999969482422,
          28.399999618530273,
          29.290000915527344,
          30.100000381469727,
          30.100000381469727,
          29.899999618530273
         ]
        }
       ],
       "layout": {
        "legend": {
         "bgcolor": "#F5F6F9",
         "font": {
          "color": "#4D5663"
         }
        },
        "paper_bgcolor": "#F5F6F9",
        "plot_bgcolor": "#F5F6F9",
        "template": {
         "data": {
          "bar": [
           {
            "error_x": {
             "color": "#2a3f5f"
            },
            "error_y": {
             "color": "#2a3f5f"
            },
            "marker": {
             "line": {
              "color": "#E5ECF6",
              "width": 0.5
             },
             "pattern": {
              "fillmode": "overlay",
              "size": 10,
              "solidity": 0.2
             }
            },
            "type": "bar"
           }
          ],
          "barpolar": [
           {
            "marker": {
             "line": {
              "color": "#E5ECF6",
              "width": 0.5
             },
             "pattern": {
              "fillmode": "overlay",
              "size": 10,
              "solidity": 0.2
             }
            },
            "type": "barpolar"
           }
          ],
          "carpet": [
           {
            "aaxis": {
             "endlinecolor": "#2a3f5f",
             "gridcolor": "white",
             "linecolor": "white",
             "minorgridcolor": "white",
             "startlinecolor": "#2a3f5f"
            },
            "baxis": {
             "endlinecolor": "#2a3f5f",
             "gridcolor": "white",
             "linecolor": "white",
             "minorgridcolor": "white",
             "startlinecolor": "#2a3f5f"
            },
            "type": "carpet"
           }
          ],
          "choropleth": [
           {
            "colorbar": {
             "outlinewidth": 0,
             "ticks": ""
            },
            "type": "choropleth"
           }
          ],
          "contour": [
           {
            "colorbar": {
             "outlinewidth": 0,
             "ticks": ""
            },
            "colorscale": [
             [
              0,
              "#0d0887"
             ],
             [
              0.1111111111111111,
              "#46039f"
             ],
             [
              0.2222222222222222,
              "#7201a8"
             ],
             [
              0.3333333333333333,
              "#9c179e"
             ],
             [
              0.4444444444444444,
              "#bd3786"
             ],
             [
              0.5555555555555556,
              "#d8576b"
             ],
             [
              0.6666666666666666,
              "#ed7953"
             ],
             [
              0.7777777777777778,
              "#fb9f3a"
             ],
             [
              0.8888888888888888,
              "#fdca26"
             ],
             [
              1,
              "#f0f921"
             ]
            ],
            "type": "contour"
           }
          ],
          "contourcarpet": [
           {
            "colorbar": {
             "outlinewidth": 0,
             "ticks": ""
            },
            "type": "contourcarpet"
           }
          ],
          "heatmap": [
           {
            "colorbar": {
             "outlinewidth": 0,
             "ticks": ""
            },
            "colorscale": [
             [
              0,
              "#0d0887"
             ],
             [
              0.1111111111111111,
              "#46039f"
             ],
             [
              0.2222222222222222,
              "#7201a8"
             ],
             [
              0.3333333333333333,
              "#9c179e"
             ],
             [
              0.4444444444444444,
              "#bd3786"
             ],
             [
              0.5555555555555556,
              "#d8576b"
             ],
             [
              0.6666666666666666,
              "#ed7953"
             ],
             [
              0.7777777777777778,
              "#fb9f3a"
             ],
             [
              0.8888888888888888,
              "#fdca26"
             ],
             [
              1,
              "#f0f921"
             ]
            ],
            "type": "heatmap"
           }
          ],
          "heatmapgl": [
           {
            "colorbar": {
             "outlinewidth": 0,
             "ticks": ""
            },
            "colorscale": [
             [
              0,
              "#0d0887"
             ],
             [
              0.1111111111111111,
              "#46039f"
             ],
             [
              0.2222222222222222,
              "#7201a8"
             ],
             [
              0.3333333333333333,
              "#9c179e"
             ],
             [
              0.4444444444444444,
              "#bd3786"
             ],
             [
              0.5555555555555556,
              "#d8576b"
             ],
             [
              0.6666666666666666,
              "#ed7953"
             ],
             [
              0.7777777777777778,
              "#fb9f3a"
             ],
             [
              0.8888888888888888,
              "#fdca26"
             ],
             [
              1,
              "#f0f921"
             ]
            ],
            "type": "heatmapgl"
           }
          ],
          "histogram": [
           {
            "marker": {
             "pattern": {
              "fillmode": "overlay",
              "size": 10,
              "solidity": 0.2
             }
            },
            "type": "histogram"
           }
          ],
          "histogram2d": [
           {
            "colorbar": {
             "outlinewidth": 0,
             "ticks": ""
            },
            "colorscale": [
             [
              0,
              "#0d0887"
             ],
             [
              0.1111111111111111,
              "#46039f"
             ],
             [
              0.2222222222222222,
              "#7201a8"
             ],
             [
              0.3333333333333333,
              "#9c179e"
             ],
             [
              0.4444444444444444,
              "#bd3786"
             ],
             [
              0.5555555555555556,
              "#d8576b"
             ],
             [
              0.6666666666666666,
              "#ed7953"
             ],
             [
              0.7777777777777778,
              "#fb9f3a"
             ],
             [
              0.8888888888888888,
              "#fdca26"
             ],
             [
              1,
              "#f0f921"
             ]
            ],
            "type": "histogram2d"
           }
          ],
          "histogram2dcontour": [
           {
            "colorbar": {
             "outlinewidth": 0,
             "ticks": ""
            },
            "colorscale": [
             [
              0,
              "#0d0887"
             ],
             [
              0.1111111111111111,
              "#46039f"
             ],
             [
              0.2222222222222222,
              "#7201a8"
             ],
             [
              0.3333333333333333,
              "#9c179e"
             ],
             [
              0.4444444444444444,
              "#bd3786"
             ],
             [
              0.5555555555555556,
              "#d8576b"
             ],
             [
              0.6666666666666666,
              "#ed7953"
             ],
             [
              0.7777777777777778,
              "#fb9f3a"
             ],
             [
              0.8888888888888888,
              "#fdca26"
             ],
             [
              1,
              "#f0f921"
             ]
            ],
            "type": "histogram2dcontour"
           }
          ],
          "mesh3d": [
           {
            "colorbar": {
             "outlinewidth": 0,
             "ticks": ""
            },
            "type": "mesh3d"
           }
          ],
          "parcoords": [
           {
            "line": {
             "colorbar": {
              "outlinewidth": 0,
              "ticks": ""
             }
            },
            "type": "parcoords"
           }
          ],
          "pie": [
           {
            "automargin": true,
            "type": "pie"
           }
          ],
          "scatter": [
           {
            "fillpattern": {
             "fillmode": "overlay",
             "size": 10,
             "solidity": 0.2
            },
            "type": "scatter"
           }
          ],
          "scatter3d": [
           {
            "line": {
             "colorbar": {
              "outlinewidth": 0,
              "ticks": ""
             }
            },
            "marker": {
             "colorbar": {
              "outlinewidth": 0,
              "ticks": ""
             }
            },
            "type": "scatter3d"
           }
          ],
          "scattercarpet": [
           {
            "marker": {
             "colorbar": {
              "outlinewidth": 0,
              "ticks": ""
             }
            },
            "type": "scattercarpet"
           }
          ],
          "scattergeo": [
           {
            "marker": {
             "colorbar": {
              "outlinewidth": 0,
              "ticks": ""
             }
            },
            "type": "scattergeo"
           }
          ],
          "scattergl": [
           {
            "marker": {
             "colorbar": {
              "outlinewidth": 0,
              "ticks": ""
             }
            },
            "type": "scattergl"
           }
          ],
          "scattermapbox": [
           {
            "marker": {
             "colorbar": {
              "outlinewidth": 0,
              "ticks": ""
             }
            },
            "type": "scattermapbox"
           }
          ],
          "scatterpolar": [
           {
            "marker": {
             "colorbar": {
              "outlinewidth": 0,
              "ticks": ""
             }
            },
            "type": "scatterpolar"
           }
          ],
          "scatterpolargl": [
           {
            "marker": {
             "colorbar": {
              "outlinewidth": 0,
              "ticks": ""
             }
            },
            "type": "scatterpolargl"
           }
          ],
          "scatterternary": [
           {
            "marker": {
             "colorbar": {
              "outlinewidth": 0,
              "ticks": ""
             }
            },
            "type": "scatterternary"
           }
          ],
          "surface": [
           {
            "colorbar": {
             "outlinewidth": 0,
             "ticks": ""
            },
            "colorscale": [
             [
              0,
              "#0d0887"
             ],
             [
              0.1111111111111111,
              "#46039f"
             ],
             [
              0.2222222222222222,
              "#7201a8"
             ],
             [
              0.3333333333333333,
              "#9c179e"
             ],
             [
              0.4444444444444444,
              "#bd3786"
             ],
             [
              0.5555555555555556,
              "#d8576b"
             ],
             [
              0.6666666666666666,
              "#ed7953"
             ],
             [
              0.7777777777777778,
              "#fb9f3a"
             ],
             [
              0.8888888888888888,
              "#fdca26"
             ],
             [
              1,
              "#f0f921"
             ]
            ],
            "type": "surface"
           }
          ],
          "table": [
           {
            "cells": {
             "fill": {
              "color": "#EBF0F8"
             },
             "line": {
              "color": "white"
             }
            },
            "header": {
             "fill": {
              "color": "#C8D4E3"
             },
             "line": {
              "color": "white"
             }
            },
            "type": "table"
           }
          ]
         },
         "layout": {
          "annotationdefaults": {
           "arrowcolor": "#2a3f5f",
           "arrowhead": 0,
           "arrowwidth": 1
          },
          "autotypenumbers": "strict",
          "coloraxis": {
           "colorbar": {
            "outlinewidth": 0,
            "ticks": ""
           }
          },
          "colorscale": {
           "diverging": [
            [
             0,
             "#8e0152"
            ],
            [
             0.1,
             "#c51b7d"
            ],
            [
             0.2,
             "#de77ae"
            ],
            [
             0.3,
             "#f1b6da"
            ],
            [
             0.4,
             "#fde0ef"
            ],
            [
             0.5,
             "#f7f7f7"
            ],
            [
             0.6,
             "#e6f5d0"
            ],
            [
             0.7,
             "#b8e186"
            ],
            [
             0.8,
             "#7fbc41"
            ],
            [
             0.9,
             "#4d9221"
            ],
            [
             1,
             "#276419"
            ]
           ],
           "sequential": [
            [
             0,
             "#0d0887"
            ],
            [
             0.1111111111111111,
             "#46039f"
            ],
            [
             0.2222222222222222,
             "#7201a8"
            ],
            [
             0.3333333333333333,
             "#9c179e"
            ],
            [
             0.4444444444444444,
             "#bd3786"
            ],
            [
             0.5555555555555556,
             "#d8576b"
            ],
            [
             0.6666666666666666,
             "#ed7953"
            ],
            [
             0.7777777777777778,
             "#fb9f3a"
            ],
            [
             0.8888888888888888,
             "#fdca26"
            ],
            [
             1,
             "#f0f921"
            ]
           ],
           "sequentialminus": [
            [
             0,
             "#0d0887"
            ],
            [
             0.1111111111111111,
             "#46039f"
            ],
            [
             0.2222222222222222,
             "#7201a8"
            ],
            [
             0.3333333333333333,
             "#9c179e"
            ],
            [
             0.4444444444444444,
             "#bd3786"
            ],
            [
             0.5555555555555556,
             "#d8576b"
            ],
            [
             0.6666666666666666,
             "#ed7953"
            ],
            [
             0.7777777777777778,
             "#fb9f3a"
            ],
            [
             0.8888888888888888,
             "#fdca26"
            ],
            [
             1,
             "#f0f921"
            ]
           ]
          },
          "colorway": [
           "#636efa",
           "#EF553B",
           "#00cc96",
           "#ab63fa",
           "#FFA15A",
           "#19d3f3",
           "#FF6692",
           "#B6E880",
           "#FF97FF",
           "#FECB52"
          ],
          "font": {
           "color": "#2a3f5f"
          },
          "geo": {
           "bgcolor": "white",
           "lakecolor": "white",
           "landcolor": "#E5ECF6",
           "showlakes": true,
           "showland": true,
           "subunitcolor": "white"
          },
          "hoverlabel": {
           "align": "left"
          },
          "hovermode": "closest",
          "mapbox": {
           "style": "light"
          },
          "paper_bgcolor": "white",
          "plot_bgcolor": "#E5ECF6",
          "polar": {
           "angularaxis": {
            "gridcolor": "white",
            "linecolor": "white",
            "ticks": ""
           },
           "bgcolor": "#E5ECF6",
           "radialaxis": {
            "gridcolor": "white",
            "linecolor": "white",
            "ticks": ""
           }
          },
          "scene": {
           "xaxis": {
            "backgroundcolor": "#E5ECF6",
            "gridcolor": "white",
            "gridwidth": 2,
            "linecolor": "white",
            "showbackground": true,
            "ticks": "",
            "zerolinecolor": "white"
           },
           "yaxis": {
            "backgroundcolor": "#E5ECF6",
            "gridcolor": "white",
            "gridwidth": 2,
            "linecolor": "white",
            "showbackground": true,
            "ticks": "",
            "zerolinecolor": "white"
           },
           "zaxis": {
            "backgroundcolor": "#E5ECF6",
            "gridcolor": "white",
            "gridwidth": 2,
            "linecolor": "white",
            "showbackground": true,
            "ticks": "",
            "zerolinecolor": "white"
           }
          },
          "shapedefaults": {
           "line": {
            "color": "#2a3f5f"
           }
          },
          "ternary": {
           "aaxis": {
            "gridcolor": "white",
            "linecolor": "white",
            "ticks": ""
           },
           "baxis": {
            "gridcolor": "white",
            "linecolor": "white",
            "ticks": ""
           },
           "bgcolor": "#E5ECF6",
           "caxis": {
            "gridcolor": "white",
            "linecolor": "white",
            "ticks": ""
           }
          },
          "title": {
           "x": 0.05
          },
          "xaxis": {
           "automargin": true,
           "gridcolor": "white",
           "linecolor": "white",
           "ticks": "",
           "title": {
            "standoff": 15
           },
           "zerolinecolor": "white",
           "zerolinewidth": 2
          },
          "yaxis": {
           "automargin": true,
           "gridcolor": "white",
           "linecolor": "white",
           "ticks": "",
           "title": {
            "standoff": 15
           },
           "zerolinecolor": "white",
           "zerolinewidth": 2
          }
         }
        },
        "title": {
         "font": {
          "color": "#4D5663"
         }
        },
        "xaxis": {
         "gridcolor": "#E1E5ED",
         "showgrid": true,
         "tickfont": {
          "color": "#4D5663"
         },
         "title": {
          "font": {
           "color": "#4D5663"
          },
          "text": ""
         },
         "zerolinecolor": "#E1E5ED"
        },
        "yaxis": {
         "gridcolor": "#E1E5ED",
         "showgrid": true,
         "tickfont": {
          "color": "#4D5663"
         },
         "title": {
          "font": {
           "color": "#4D5663"
          },
          "text": ""
         },
         "zerolinecolor": "#E1E5ED"
        }
       }
      },
      "text/html": [
       "<div>                            <div id=\"0b84868f-667a-44f3-b99c-5cc5500b4cdc\" class=\"plotly-graph-div\" style=\"height:525px; width:100%;\"></div>            <script type=\"text/javascript\">                require([\"plotly\"], function(Plotly) {                    window.PLOTLYENV=window.PLOTLYENV || {};\n",
       "                    window.PLOTLYENV.BASE_URL='https://plot.ly';                                    if (document.getElementById(\"0b84868f-667a-44f3-b99c-5cc5500b4cdc\")) {                    Plotly.newPlot(                        \"0b84868f-667a-44f3-b99c-5cc5500b4cdc\",                        [{\"line\":{\"color\":\"rgba(255, 153, 51, 1.0)\",\"dash\":\"solid\",\"shape\":\"linear\",\"width\":1.3},\"mode\":\"lines\",\"name\":\"BOLSAA.MX\",\"text\":\"\",\"x\":[\"2023-01-02\",\"2023-01-03\",\"2023-01-04\",\"2023-01-05\",\"2023-01-06\",\"2023-01-09\",\"2023-01-10\",\"2023-01-11\",\"2023-01-12\",\"2023-01-13\",\"2023-01-16\",\"2023-01-17\",\"2023-01-18\",\"2023-01-19\",\"2023-01-20\",\"2023-01-23\",\"2023-01-24\",\"2023-01-25\",\"2023-01-26\",\"2023-01-27\",\"2023-01-30\",\"2023-01-31\",\"2023-02-01\",\"2023-02-02\",\"2023-02-03\",\"2023-02-07\",\"2023-02-08\",\"2023-02-09\",\"2023-02-10\",\"2023-02-13\",\"2023-02-14\",\"2023-02-15\",\"2023-02-16\",\"2023-02-17\",\"2023-02-20\",\"2023-02-21\",\"2023-02-22\",\"2023-02-23\",\"2023-02-24\",\"2023-02-27\",\"2023-02-28\",\"2023-03-01\",\"2023-03-02\",\"2023-03-03\",\"2023-03-06\",\"2023-03-07\",\"2023-03-08\",\"2023-03-09\",\"2023-03-10\",\"2023-03-13\",\"2023-03-14\",\"2023-03-15\",\"2023-03-16\",\"2023-03-17\",\"2023-03-21\",\"2023-03-22\",\"2023-03-23\",\"2023-03-24\",\"2023-03-27\",\"2023-03-28\",\"2023-03-29\",\"2023-03-30\",\"2023-03-31\",\"2023-04-03\",\"2023-04-04\",\"2023-04-05\",\"2023-04-10\",\"2023-04-11\",\"2023-04-12\",\"2023-04-13\",\"2023-04-14\",\"2023-04-17\",\"2023-04-18\",\"2023-04-19\",\"2023-04-20\",\"2023-04-21\",\"2023-04-24\",\"2023-04-25\",\"2023-04-26\",\"2023-04-27\",\"2023-04-28\",\"2023-05-02\",\"2023-05-03\",\"2023-05-04\",\"2023-05-05\",\"2023-05-08\",\"2023-05-09\",\"2023-05-10\",\"2023-05-11\",\"2023-05-12\",\"2023-05-15\",\"2023-05-16\",\"2023-05-17\",\"2023-05-18\",\"2023-05-19\",\"2023-05-22\",\"2023-05-23\",\"2023-05-24\",\"2023-05-25\",\"2023-05-26\",\"2023-05-29\",\"2023-05-30\",\"2023-05-31\",\"2023-06-01\",\"2023-06-02\",\"2023-06-05\",\"2023-06-06\",\"2023-06-07\",\"2023-06-08\",\"2023-06-09\",\"2023-06-12\",\"2023-06-13\",\"2023-06-14\",\"2023-06-15\",\"2023-06-16\",\"2023-06-19\",\"2023-06-20\",\"2023-06-21\",\"2023-06-22\",\"2023-06-23\",\"2023-06-26\",\"2023-06-27\",\"2023-06-28\",\"2023-06-29\",\"2023-06-30\",\"2023-07-03\",\"2023-07-04\",\"2023-07-05\",\"2023-07-06\",\"2023-07-07\",\"2023-07-10\",\"2023-07-11\",\"2023-07-12\",\"2023-07-13\",\"2023-07-14\",\"2023-07-17\",\"2023-07-18\",\"2023-07-19\",\"2023-07-20\",\"2023-07-21\",\"2023-07-24\",\"2023-07-25\",\"2023-07-26\",\"2023-07-27\",\"2023-07-28\",\"2023-07-31\",\"2023-08-01\",\"2023-08-02\",\"2023-08-03\",\"2023-08-04\",\"2023-08-07\",\"2023-08-08\",\"2023-08-09\",\"2023-08-10\",\"2023-08-11\",\"2023-08-14\",\"2023-08-15\",\"2023-08-16\",\"2023-08-17\",\"2023-08-18\",\"2023-08-21\",\"2023-08-22\",\"2023-08-23\",\"2023-08-24\",\"2023-08-25\",\"2023-08-28\",\"2023-08-29\",\"2023-08-30\",\"2023-08-31\",\"2023-09-01\",\"2023-09-04\",\"2023-09-05\",\"2023-09-06\",\"2023-09-07\",\"2023-09-08\",\"2023-09-11\",\"2023-09-12\",\"2023-09-13\",\"2023-09-14\",\"2023-09-15\",\"2023-09-18\",\"2023-09-19\",\"2023-09-20\",\"2023-09-21\",\"2023-09-22\",\"2023-09-25\",\"2023-09-26\",\"2023-09-27\",\"2023-09-28\",\"2023-09-29\",\"2023-10-02\",\"2023-10-03\",\"2023-10-04\",\"2023-10-05\",\"2023-10-06\",\"2023-10-09\",\"2023-10-10\",\"2023-10-11\",\"2023-10-12\",\"2023-10-13\",\"2023-10-16\",\"2023-10-17\",\"2023-10-18\",\"2023-10-19\",\"2023-10-20\",\"2023-10-23\",\"2023-10-24\",\"2023-10-25\",\"2023-10-26\",\"2023-10-27\",\"2023-10-30\",\"2023-10-31\",\"2023-11-01\",\"2023-11-03\",\"2023-11-06\",\"2023-11-07\",\"2023-11-08\"],\"y\":[38.15999984741211,37.59000015258789,37.93000030517578,37.83000183105469,38.2599983215332,38.869998931884766,38.599998474121094,38.61000061035156,38.75,38.689998626708984,38.65999984741211,38.599998474121094,38.59000015258789,38.5099983215332,38.650001525878906,38.650001525878906,39.060001373291016,39.650001525878906,40.4900016784668,40.630001068115234,40.5099983215332,40.88999938964844,40.939998626708984,40.900001525878906,41.06999969482422,41.029998779296875,41.060001373291016,40.939998626708984,39.400001525878906,39.7599983215332,38.86000061035156,39.09000015258789,39.0,38.86000061035156,37.70000076293945,37.88999938964844,36.2599983215332,36.5,36.02000045776367,35.720001220703125,35.66999816894531,36.09000015258789,36.11000061035156,36.040000915527344,36.29999923706055,36.04999923706055,36.56999969482422,35.939998626708984,\"\",36.15999984741211,36.95000076293945,37.150001525878906,38.0,39.0099983215332,38.599998474121094,37.93000030517578,38.18000030517578,38.2400016784668,37.88999938964844,37.9900016784668,38.599998474121094,38.7599983215332,38.529998779296875,38.290000915527344,38.36000061035156,37.84000015258789,38.66999816894531,38.65999984741211,37.68000030517578,38.52000045776367,38.349998474121094,38.93000030517578,38.900001525878906,39.04999923706055,39.220001220703125,39.470001220703125,39.279998779296875,38.900001525878906,38.95000076293945,38.970001220703125,39.619998931884766,40.08000183105469,40.220001220703125,40.29999923706055,40.709999084472656,40.70000076293945,40.70000076293945,41.09000015258789,38.189998626708984,38.04999923706055,38.099998474121094,38.099998474121094,37.7400016784668,37.66999816894531,37.470001220703125,36.790000915527344,36.810001373291016,36.79999923706055,36.880001068115234,36.79999923706055,36.939998626708984,36.650001525878906,37.189998626708984,36.4900016784668,37.650001525878906,37.22999954223633,37.91999816894531,37.849998474121094,37.70000076293945,37.58000183105469,37.31999969482422,37.20000076293945,37.15999984741211,37.09000015258789,36.75,36.900001525878906,36.619998931884766,36.29999923706055,35.880001068115234,35.70000076293945,35.529998779296875,35.81999969482422,35.7599983215332,35.75,35.58000183105469,35.709999084472656,35.18000030517578,35.09000015258789,34.689998626708984,34.63999938964844,34.7599983215332,35.02000045776367,35.31999969482422,35.34000015258789,35.41999816894531,35.08000183105469,35.099998474121094,34.5,34.0,34.81999969482422,34.849998474121094,35.25,35.20000076293945,35.060001373291016,35.45000076293945,35.5,35.220001220703125,34.70000076293945,34.16999816894531,35.029998779296875,35.400001525878906,36.099998474121094,35.970001220703125,35.47999954223633,35.5,35.63999938964844,35.77000045776367,35.130001068115234,35.099998474121094,34.66999816894531,34.310001373291016,34.02000045776367,34.150001525878906,34.29999923706055,34.2400016784668,34.25,34.689998626708984,34.470001220703125,34.119998931884766,34.25,34.540000915527344,34.22999954223633,33.08000183105469,33.40999984741211,33.060001373291016,33.04999923706055,33.0,33.18000030517578,33.47999954223633,34.0,33.97999954223633,34.150001525878906,34.279998779296875,33.7400016784668,33.369998931884766,33.29999923706055,33.40999984741211,33.869998931884766,33.060001373291016,32.630001068115234,33.25,32.869998931884766,33.29999923706055,33.0,33.25,33.119998931884766,33.58000183105469,33.65999984741211,33.25,32.54999923706055,32.95000076293945,32.470001220703125,28.950000762939453,30.579999923706055,29.6299991607666,29.65999984741211,29.540000915527344,29.149999618530273,29.020000457763672,28.700000762939453,28.0,28.06999969482422,28.399999618530273,29.290000915527344,30.100000381469727,30.100000381469727,29.899999618530273],\"type\":\"scatter\"}],                        {\"legend\":{\"bgcolor\":\"#F5F6F9\",\"font\":{\"color\":\"#4D5663\"}},\"paper_bgcolor\":\"#F5F6F9\",\"plot_bgcolor\":\"#F5F6F9\",\"template\":{\"data\":{\"barpolar\":[{\"marker\":{\"line\":{\"color\":\"#E5ECF6\",\"width\":0.5},\"pattern\":{\"fillmode\":\"overlay\",\"size\":10,\"solidity\":0.2}},\"type\":\"barpolar\"}],\"bar\":[{\"error_x\":{\"color\":\"#2a3f5f\"},\"error_y\":{\"color\":\"#2a3f5f\"},\"marker\":{\"line\":{\"color\":\"#E5ECF6\",\"width\":0.5},\"pattern\":{\"fillmode\":\"overlay\",\"size\":10,\"solidity\":0.2}},\"type\":\"bar\"}],\"carpet\":[{\"aaxis\":{\"endlinecolor\":\"#2a3f5f\",\"gridcolor\":\"white\",\"linecolor\":\"white\",\"minorgridcolor\":\"white\",\"startlinecolor\":\"#2a3f5f\"},\"baxis\":{\"endlinecolor\":\"#2a3f5f\",\"gridcolor\":\"white\",\"linecolor\":\"white\",\"minorgridcolor\":\"white\",\"startlinecolor\":\"#2a3f5f\"},\"type\":\"carpet\"}],\"choropleth\":[{\"colorbar\":{\"outlinewidth\":0,\"ticks\":\"\"},\"type\":\"choropleth\"}],\"contourcarpet\":[{\"colorbar\":{\"outlinewidth\":0,\"ticks\":\"\"},\"type\":\"contourcarpet\"}],\"contour\":[{\"colorbar\":{\"outlinewidth\":0,\"ticks\":\"\"},\"colorscale\":[[0.0,\"#0d0887\"],[0.1111111111111111,\"#46039f\"],[0.2222222222222222,\"#7201a8\"],[0.3333333333333333,\"#9c179e\"],[0.4444444444444444,\"#bd3786\"],[0.5555555555555556,\"#d8576b\"],[0.6666666666666666,\"#ed7953\"],[0.7777777777777778,\"#fb9f3a\"],[0.8888888888888888,\"#fdca26\"],[1.0,\"#f0f921\"]],\"type\":\"contour\"}],\"heatmapgl\":[{\"colorbar\":{\"outlinewidth\":0,\"ticks\":\"\"},\"colorscale\":[[0.0,\"#0d0887\"],[0.1111111111111111,\"#46039f\"],[0.2222222222222222,\"#7201a8\"],[0.3333333333333333,\"#9c179e\"],[0.4444444444444444,\"#bd3786\"],[0.5555555555555556,\"#d8576b\"],[0.6666666666666666,\"#ed7953\"],[0.7777777777777778,\"#fb9f3a\"],[0.8888888888888888,\"#fdca26\"],[1.0,\"#f0f921\"]],\"type\":\"heatmapgl\"}],\"heatmap\":[{\"colorbar\":{\"outlinewidth\":0,\"ticks\":\"\"},\"colorscale\":[[0.0,\"#0d0887\"],[0.1111111111111111,\"#46039f\"],[0.2222222222222222,\"#7201a8\"],[0.3333333333333333,\"#9c179e\"],[0.4444444444444444,\"#bd3786\"],[0.5555555555555556,\"#d8576b\"],[0.6666666666666666,\"#ed7953\"],[0.7777777777777778,\"#fb9f3a\"],[0.8888888888888888,\"#fdca26\"],[1.0,\"#f0f921\"]],\"type\":\"heatmap\"}],\"histogram2dcontour\":[{\"colorbar\":{\"outlinewidth\":0,\"ticks\":\"\"},\"colorscale\":[[0.0,\"#0d0887\"],[0.1111111111111111,\"#46039f\"],[0.2222222222222222,\"#7201a8\"],[0.3333333333333333,\"#9c179e\"],[0.4444444444444444,\"#bd3786\"],[0.5555555555555556,\"#d8576b\"],[0.6666666666666666,\"#ed7953\"],[0.7777777777777778,\"#fb9f3a\"],[0.8888888888888888,\"#fdca26\"],[1.0,\"#f0f921\"]],\"type\":\"histogram2dcontour\"}],\"histogram2d\":[{\"colorbar\":{\"outlinewidth\":0,\"ticks\":\"\"},\"colorscale\":[[0.0,\"#0d0887\"],[0.1111111111111111,\"#46039f\"],[0.2222222222222222,\"#7201a8\"],[0.3333333333333333,\"#9c179e\"],[0.4444444444444444,\"#bd3786\"],[0.5555555555555556,\"#d8576b\"],[0.6666666666666666,\"#ed7953\"],[0.7777777777777778,\"#fb9f3a\"],[0.8888888888888888,\"#fdca26\"],[1.0,\"#f0f921\"]],\"type\":\"histogram2d\"}],\"histogram\":[{\"marker\":{\"pattern\":{\"fillmode\":\"overlay\",\"size\":10,\"solidity\":0.2}},\"type\":\"histogram\"}],\"mesh3d\":[{\"colorbar\":{\"outlinewidth\":0,\"ticks\":\"\"},\"type\":\"mesh3d\"}],\"parcoords\":[{\"line\":{\"colorbar\":{\"outlinewidth\":0,\"ticks\":\"\"}},\"type\":\"parcoords\"}],\"pie\":[{\"automargin\":true,\"type\":\"pie\"}],\"scatter3d\":[{\"line\":{\"colorbar\":{\"outlinewidth\":0,\"ticks\":\"\"}},\"marker\":{\"colorbar\":{\"outlinewidth\":0,\"ticks\":\"\"}},\"type\":\"scatter3d\"}],\"scattercarpet\":[{\"marker\":{\"colorbar\":{\"outlinewidth\":0,\"ticks\":\"\"}},\"type\":\"scattercarpet\"}],\"scattergeo\":[{\"marker\":{\"colorbar\":{\"outlinewidth\":0,\"ticks\":\"\"}},\"type\":\"scattergeo\"}],\"scattergl\":[{\"marker\":{\"colorbar\":{\"outlinewidth\":0,\"ticks\":\"\"}},\"type\":\"scattergl\"}],\"scattermapbox\":[{\"marker\":{\"colorbar\":{\"outlinewidth\":0,\"ticks\":\"\"}},\"type\":\"scattermapbox\"}],\"scatterpolargl\":[{\"marker\":{\"colorbar\":{\"outlinewidth\":0,\"ticks\":\"\"}},\"type\":\"scatterpolargl\"}],\"scatterpolar\":[{\"marker\":{\"colorbar\":{\"outlinewidth\":0,\"ticks\":\"\"}},\"type\":\"scatterpolar\"}],\"scatter\":[{\"fillpattern\":{\"fillmode\":\"overlay\",\"size\":10,\"solidity\":0.2},\"type\":\"scatter\"}],\"scatterternary\":[{\"marker\":{\"colorbar\":{\"outlinewidth\":0,\"ticks\":\"\"}},\"type\":\"scatterternary\"}],\"surface\":[{\"colorbar\":{\"outlinewidth\":0,\"ticks\":\"\"},\"colorscale\":[[0.0,\"#0d0887\"],[0.1111111111111111,\"#46039f\"],[0.2222222222222222,\"#7201a8\"],[0.3333333333333333,\"#9c179e\"],[0.4444444444444444,\"#bd3786\"],[0.5555555555555556,\"#d8576b\"],[0.6666666666666666,\"#ed7953\"],[0.7777777777777778,\"#fb9f3a\"],[0.8888888888888888,\"#fdca26\"],[1.0,\"#f0f921\"]],\"type\":\"surface\"}],\"table\":[{\"cells\":{\"fill\":{\"color\":\"#EBF0F8\"},\"line\":{\"color\":\"white\"}},\"header\":{\"fill\":{\"color\":\"#C8D4E3\"},\"line\":{\"color\":\"white\"}},\"type\":\"table\"}]},\"layout\":{\"annotationdefaults\":{\"arrowcolor\":\"#2a3f5f\",\"arrowhead\":0,\"arrowwidth\":1},\"autotypenumbers\":\"strict\",\"coloraxis\":{\"colorbar\":{\"outlinewidth\":0,\"ticks\":\"\"}},\"colorscale\":{\"diverging\":[[0,\"#8e0152\"],[0.1,\"#c51b7d\"],[0.2,\"#de77ae\"],[0.3,\"#f1b6da\"],[0.4,\"#fde0ef\"],[0.5,\"#f7f7f7\"],[0.6,\"#e6f5d0\"],[0.7,\"#b8e186\"],[0.8,\"#7fbc41\"],[0.9,\"#4d9221\"],[1,\"#276419\"]],\"sequential\":[[0.0,\"#0d0887\"],[0.1111111111111111,\"#46039f\"],[0.2222222222222222,\"#7201a8\"],[0.3333333333333333,\"#9c179e\"],[0.4444444444444444,\"#bd3786\"],[0.5555555555555556,\"#d8576b\"],[0.6666666666666666,\"#ed7953\"],[0.7777777777777778,\"#fb9f3a\"],[0.8888888888888888,\"#fdca26\"],[1.0,\"#f0f921\"]],\"sequentialminus\":[[0.0,\"#0d0887\"],[0.1111111111111111,\"#46039f\"],[0.2222222222222222,\"#7201a8\"],[0.3333333333333333,\"#9c179e\"],[0.4444444444444444,\"#bd3786\"],[0.5555555555555556,\"#d8576b\"],[0.6666666666666666,\"#ed7953\"],[0.7777777777777778,\"#fb9f3a\"],[0.8888888888888888,\"#fdca26\"],[1.0,\"#f0f921\"]]},\"colorway\":[\"#636efa\",\"#EF553B\",\"#00cc96\",\"#ab63fa\",\"#FFA15A\",\"#19d3f3\",\"#FF6692\",\"#B6E880\",\"#FF97FF\",\"#FECB52\"],\"font\":{\"color\":\"#2a3f5f\"},\"geo\":{\"bgcolor\":\"white\",\"lakecolor\":\"white\",\"landcolor\":\"#E5ECF6\",\"showlakes\":true,\"showland\":true,\"subunitcolor\":\"white\"},\"hoverlabel\":{\"align\":\"left\"},\"hovermode\":\"closest\",\"mapbox\":{\"style\":\"light\"},\"paper_bgcolor\":\"white\",\"plot_bgcolor\":\"#E5ECF6\",\"polar\":{\"angularaxis\":{\"gridcolor\":\"white\",\"linecolor\":\"white\",\"ticks\":\"\"},\"bgcolor\":\"#E5ECF6\",\"radialaxis\":{\"gridcolor\":\"white\",\"linecolor\":\"white\",\"ticks\":\"\"}},\"scene\":{\"xaxis\":{\"backgroundcolor\":\"#E5ECF6\",\"gridcolor\":\"white\",\"gridwidth\":2,\"linecolor\":\"white\",\"showbackground\":true,\"ticks\":\"\",\"zerolinecolor\":\"white\"},\"yaxis\":{\"backgroundcolor\":\"#E5ECF6\",\"gridcolor\":\"white\",\"gridwidth\":2,\"linecolor\":\"white\",\"showbackground\":true,\"ticks\":\"\",\"zerolinecolor\":\"white\"},\"zaxis\":{\"backgroundcolor\":\"#E5ECF6\",\"gridcolor\":\"white\",\"gridwidth\":2,\"linecolor\":\"white\",\"showbackground\":true,\"ticks\":\"\",\"zerolinecolor\":\"white\"}},\"shapedefaults\":{\"line\":{\"color\":\"#2a3f5f\"}},\"ternary\":{\"aaxis\":{\"gridcolor\":\"white\",\"linecolor\":\"white\",\"ticks\":\"\"},\"baxis\":{\"gridcolor\":\"white\",\"linecolor\":\"white\",\"ticks\":\"\"},\"bgcolor\":\"#E5ECF6\",\"caxis\":{\"gridcolor\":\"white\",\"linecolor\":\"white\",\"ticks\":\"\"}},\"title\":{\"x\":0.05},\"xaxis\":{\"automargin\":true,\"gridcolor\":\"white\",\"linecolor\":\"white\",\"ticks\":\"\",\"title\":{\"standoff\":15},\"zerolinecolor\":\"white\",\"zerolinewidth\":2},\"yaxis\":{\"automargin\":true,\"gridcolor\":\"white\",\"linecolor\":\"white\",\"ticks\":\"\",\"title\":{\"standoff\":15},\"zerolinecolor\":\"white\",\"zerolinewidth\":2}}},\"title\":{\"font\":{\"color\":\"#4D5663\"}},\"xaxis\":{\"gridcolor\":\"#E1E5ED\",\"showgrid\":true,\"tickfont\":{\"color\":\"#4D5663\"},\"title\":{\"font\":{\"color\":\"#4D5663\"},\"text\":\"\"},\"zerolinecolor\":\"#E1E5ED\"},\"yaxis\":{\"gridcolor\":\"#E1E5ED\",\"showgrid\":true,\"tickfont\":{\"color\":\"#4D5663\"},\"title\":{\"font\":{\"color\":\"#4D5663\"},\"text\":\"\"},\"zerolinecolor\":\"#E1E5ED\"}},                        {\"showLink\": true, \"linkText\": \"Export to plot.ly\", \"plotlyServerURL\": \"https://plot.ly\", \"responsive\": true}                    ).then(function(){\n",
       "                            \n",
       "var gd = document.getElementById('0b84868f-667a-44f3-b99c-5cc5500b4cdc');\n",
       "var x = new MutationObserver(function (mutations, observer) {{\n",
       "        var display = window.getComputedStyle(gd).display;\n",
       "        if (!display || display === 'none') {{\n",
       "            console.log([gd, 'removed!']);\n",
       "            Plotly.purge(gd);\n",
       "            observer.disconnect();\n",
       "        }}\n",
       "}});\n",
       "\n",
       "// Listen for the removal of the full notebook cells\n",
       "var notebookContainer = gd.closest('#notebook-container');\n",
       "if (notebookContainer) {{\n",
       "    x.observe(notebookContainer, {childList: true});\n",
       "}}\n",
       "\n",
       "// Listen for the clearing of the current output cell\n",
       "var outputEl = gd.closest('.output');\n",
       "if (outputEl) {{\n",
       "    x.observe(outputEl, {childList: true});\n",
       "}}\n",
       "\n",
       "                        })                };                });            </script>        </div>"
      ]
     },
     "metadata": {},
     "output_type": "display_data"
    }
   ],
   "source": [
    "cf.set_config_file(offline = True)\n",
    "BOLSA_df.iplot()"
   ]
  },
  {
   "cell_type": "code",
   "execution_count": 20,
   "metadata": {},
   "outputs": [
    {
     "data": {
      "application/vnd.plotly.v1+json": {
       "config": {
        "linkText": "Export to plot.ly",
        "plotlyServerURL": "https://plot.ly",
        "showLink": true
       },
       "data": [
        {
         "line": {
          "color": "rgba(255, 153, 51, 1.0)",
          "dash": "solid",
          "shape": "linear",
          "width": 1.3
         },
         "mode": "lines",
         "name": "BIMBOA.MX",
         "text": "",
         "type": "scatter",
         "x": [
          "2023-01-02",
          "2023-01-03",
          "2023-01-04",
          "2023-01-05",
          "2023-01-06",
          "2023-01-09",
          "2023-01-10",
          "2023-01-11",
          "2023-01-12",
          "2023-01-13",
          "2023-01-16",
          "2023-01-17",
          "2023-01-18",
          "2023-01-19",
          "2023-01-20",
          "2023-01-23",
          "2023-01-24",
          "2023-01-25",
          "2023-01-26",
          "2023-01-27",
          "2023-01-30",
          "2023-01-31",
          "2023-02-01",
          "2023-02-02",
          "2023-02-03",
          "2023-02-07",
          "2023-02-08",
          "2023-02-09",
          "2023-02-10",
          "2023-02-13",
          "2023-02-14",
          "2023-02-15",
          "2023-02-16",
          "2023-02-17",
          "2023-02-20",
          "2023-02-21",
          "2023-02-22",
          "2023-02-23",
          "2023-02-24",
          "2023-02-27",
          "2023-02-28",
          "2023-03-01",
          "2023-03-02",
          "2023-03-03",
          "2023-03-06",
          "2023-03-07",
          "2023-03-08",
          "2023-03-09",
          "2023-03-10",
          "2023-03-13",
          "2023-03-14",
          "2023-03-15",
          "2023-03-16",
          "2023-03-17",
          "2023-03-21",
          "2023-03-22",
          "2023-03-23",
          "2023-03-24",
          "2023-03-27",
          "2023-03-28",
          "2023-03-29",
          "2023-03-30",
          "2023-03-31",
          "2023-04-03",
          "2023-04-04",
          "2023-04-05",
          "2023-04-10",
          "2023-04-11",
          "2023-04-12",
          "2023-04-13",
          "2023-04-14",
          "2023-04-17",
          "2023-04-18",
          "2023-04-19",
          "2023-04-20",
          "2023-04-21",
          "2023-04-24",
          "2023-04-25",
          "2023-04-26",
          "2023-04-27",
          "2023-04-28",
          "2023-05-02",
          "2023-05-03",
          "2023-05-04",
          "2023-05-05",
          "2023-05-08",
          "2023-05-09",
          "2023-05-10",
          "2023-05-11",
          "2023-05-12",
          "2023-05-15",
          "2023-05-16",
          "2023-05-17",
          "2023-05-18",
          "2023-05-19",
          "2023-05-22",
          "2023-05-23",
          "2023-05-24",
          "2023-05-25",
          "2023-05-26",
          "2023-05-29",
          "2023-05-30",
          "2023-05-31",
          "2023-06-01",
          "2023-06-02",
          "2023-06-05",
          "2023-06-06",
          "2023-06-07",
          "2023-06-08",
          "2023-06-09",
          "2023-06-12",
          "2023-06-13",
          "2023-06-14",
          "2023-06-15",
          "2023-06-16",
          "2023-06-19",
          "2023-06-20",
          "2023-06-21",
          "2023-06-22",
          "2023-06-23",
          "2023-06-26",
          "2023-06-27",
          "2023-06-28",
          "2023-06-29",
          "2023-06-30",
          "2023-07-03",
          "2023-07-04",
          "2023-07-05",
          "2023-07-06",
          "2023-07-07",
          "2023-07-10",
          "2023-07-11",
          "2023-07-12",
          "2023-07-13",
          "2023-07-14",
          "2023-07-17",
          "2023-07-18",
          "2023-07-19",
          "2023-07-20",
          "2023-07-21",
          "2023-07-24",
          "2023-07-25",
          "2023-07-26",
          "2023-07-27",
          "2023-07-28",
          "2023-07-31",
          "2023-08-01",
          "2023-08-02",
          "2023-08-03",
          "2023-08-04",
          "2023-08-07",
          "2023-08-08",
          "2023-08-09",
          "2023-08-10",
          "2023-08-11",
          "2023-08-14",
          "2023-08-15",
          "2023-08-16",
          "2023-08-17",
          "2023-08-18",
          "2023-08-21",
          "2023-08-22",
          "2023-08-23",
          "2023-08-24",
          "2023-08-25",
          "2023-08-28",
          "2023-08-29",
          "2023-08-30",
          "2023-08-31",
          "2023-09-01",
          "2023-09-04",
          "2023-09-05",
          "2023-09-06",
          "2023-09-07",
          "2023-09-08",
          "2023-09-11",
          "2023-09-12",
          "2023-09-13",
          "2023-09-14",
          "2023-09-15",
          "2023-09-18",
          "2023-09-19",
          "2023-09-20",
          "2023-09-21",
          "2023-09-22",
          "2023-09-25",
          "2023-09-26",
          "2023-09-27",
          "2023-09-28",
          "2023-09-29",
          "2023-10-02",
          "2023-10-03",
          "2023-10-04",
          "2023-10-05",
          "2023-10-06",
          "2023-10-09",
          "2023-10-10",
          "2023-10-11",
          "2023-10-12",
          "2023-10-13",
          "2023-10-16",
          "2023-10-17",
          "2023-10-18",
          "2023-10-19",
          "2023-10-20",
          "2023-10-23",
          "2023-10-24",
          "2023-10-25",
          "2023-10-26",
          "2023-10-27",
          "2023-10-30",
          "2023-10-31",
          "2023-11-01",
          "2023-11-03",
          "2023-11-06",
          "2023-11-07",
          "2023-11-08"
         ],
         "y": [
          84.6500015258789,
          84.51000213623047,
          85.88999938964844,
          87.68000030517578,
          88.12000274658203,
          90.48999786376953,
          90.30000305175781,
          90.44999694824219,
          91.4000015258789,
          91.2300033569336,
          92.63999938964844,
          91.86000061035156,
          91.80000305175781,
          92.29000091552734,
          92,
          95.01000213623047,
          95.8499984741211,
          95.79000091552734,
          95.55999755859375,
          94.30999755859375,
          94.18000030517578,
          93.48999786376953,
          94.05999755859375,
          93,
          93.62999725341797,
          91.20999908447266,
          90.73999786376953,
          90.26000213623047,
          89.06999969482422,
          89.62999725341797,
          88.69000244140625,
          89.58000183105469,
          88.9000015258789,
          87.38999938964844,
          88.80000305175781,
          87.76000213623047,
          86.69000244140625,
          87.19000244140625,
          88.2300033569336,
          89.26000213623047,
          87.2300033569336,
          87.05999755859375,
          88.04000091552734,
          88.47000122070312,
          87.88999938964844,
          86.05999755859375,
          86.48999786376953,
          86.1500015258789,
          "",
          85.36000061035156,
          85.12000274658203,
          85.58999633789062,
          86,
          88.4800033569336,
          87.7699966430664,
          87.94000244140625,
          87.33000183105469,
          87.48999786376953,
          88.4000015258789,
          88.4000015258789,
          89.9800033569336,
          91.7300033569336,
          90.58000183105469,
          90,
          91.47000122070312,
          90.52999877929688,
          91.2699966430664,
          92.01000213623047,
          90.80999755859375,
          91.80000305175781,
          90.11000061035156,
          92.41999816894531,
          91.16000366210938,
          90.44000244140625,
          93.37000274658203,
          92.22000122070312,
          93.29000091552734,
          92.3499984741211,
          91.97000122070312,
          93.48999786376953,
          96.5,
          95.58000183105469,
          95.16999816894531,
          97.62000274658203,
          98.97000122070312,
          97.80000305175781,
          97.79000091552734,
          98.55000305175781,
          96.4800033569336,
          96.52999877929688,
          96.30000305175781,
          94.88999938964844,
          92.83999633789062,
          94,
          92.80999755859375,
          90.54000091552734,
          90.83000183105469,
          92.47000122070312,
          93.48999786376953,
          93.72000122070312,
          93.56999969482422,
          92.62000274658203,
          94.83999633789062,
          93.4800033569336,
          92.51000213623047,
          92.61000061035156,
          92.2699966430664,
          91.73999786376953,
          93.22000122070312,
          94.1500015258789,
          92.6500015258789,
          91.5,
          93.62000274658203,
          92.76000213623047,
          92.13999938964844,
          91.91000366210938,
          91.83999633789062,
          92.41999816894531,
          91.37000274658203,
          91.81999969482422,
          90.6500015258789,
          91.0199966430664,
          90.70999908447266,
          91.16999816894531,
          91.94000244140625,
          93,
          92.44999694824219,
          90.91999816894531,
          88.9000015258789,
          88.83999633789062,
          87.51000213623047,
          89.63999938964844,
          88.31999969482422,
          89.70999908447266,
          89.62999725341797,
          88.70999908447266,
          90.5,
          87.7699966430664,
          87.04000091552734,
          88.72000122070312,
          86.8499984741211,
          87.87000274658203,
          87.94999694824219,
          86.94000244140625,
          88.75,
          87.02999877929688,
          83.52999877929688,
          83.05999755859375,
          87.02999877929688,
          89.61000061035156,
          89.11000061035156,
          87.58999633789062,
          89.55999755859375,
          89.47000122070312,
          88.61000061035156,
          88.44999694824219,
          89.55999755859375,
          90.8499984741211,
          89.98999786376953,
          88.80999755859375,
          88.48999786376953,
          88.62999725341797,
          89.52999877929688,
          88.7300033569336,
          86.8499984741211,
          87.9000015258789,
          88.2300033569336,
          87.9800033569336,
          83.88999938964844,
          84.62000274658203,
          84,
          83.91000366210938,
          84.47000122070312,
          83.1500015258789,
          83.68000030517578,
          84.62000274658203,
          83.9000015258789,
          82.5999984741211,
          82.19000244140625,
          81.9000015258789,
          82.62999725341797,
          82.69999694824219,
          83.3499984741211,
          82.05000305175781,
          82.44000244140625,
          83.0199966430664,
          85.06999969482422,
          85.80000305175781,
          84.81999969482422,
          83.77999877929688,
          82.98999786376953,
          81.88999938964844,
          81.27999877929688,
          82.80999755859375,
          82.38999938964844,
          81.47000122070312,
          82.30000305175781,
          79.80999755859375,
          78.91999816894531,
          78.22000122070312,
          78.61000061035156,
          78.47000122070312,
          77.58999633789062,
          75.08999633789062,
          73.38999938964844,
          74.9000015258789,
          73.76000213623047,
          75.29000091552734,
          75.0999984741211,
          72.62000274658203,
          70.01000213623047,
          73.18000030517578,
          75.8499984741211,
          78.66999816894531,
          82.25,
          80.77999877929688,
          80.04000091552734
         ]
        },
        {
         "line": {
          "color": "rgba(55, 128, 191, 1.0)",
          "dash": "solid",
          "shape": "linear",
          "width": 1.3
         },
         "mode": "lines",
         "name": "BOLSAA.MX",
         "text": "",
         "type": "scatter",
         "x": [
          "2023-01-02",
          "2023-01-03",
          "2023-01-04",
          "2023-01-05",
          "2023-01-06",
          "2023-01-09",
          "2023-01-10",
          "2023-01-11",
          "2023-01-12",
          "2023-01-13",
          "2023-01-16",
          "2023-01-17",
          "2023-01-18",
          "2023-01-19",
          "2023-01-20",
          "2023-01-23",
          "2023-01-24",
          "2023-01-25",
          "2023-01-26",
          "2023-01-27",
          "2023-01-30",
          "2023-01-31",
          "2023-02-01",
          "2023-02-02",
          "2023-02-03",
          "2023-02-07",
          "2023-02-08",
          "2023-02-09",
          "2023-02-10",
          "2023-02-13",
          "2023-02-14",
          "2023-02-15",
          "2023-02-16",
          "2023-02-17",
          "2023-02-20",
          "2023-02-21",
          "2023-02-22",
          "2023-02-23",
          "2023-02-24",
          "2023-02-27",
          "2023-02-28",
          "2023-03-01",
          "2023-03-02",
          "2023-03-03",
          "2023-03-06",
          "2023-03-07",
          "2023-03-08",
          "2023-03-09",
          "2023-03-10",
          "2023-03-13",
          "2023-03-14",
          "2023-03-15",
          "2023-03-16",
          "2023-03-17",
          "2023-03-21",
          "2023-03-22",
          "2023-03-23",
          "2023-03-24",
          "2023-03-27",
          "2023-03-28",
          "2023-03-29",
          "2023-03-30",
          "2023-03-31",
          "2023-04-03",
          "2023-04-04",
          "2023-04-05",
          "2023-04-10",
          "2023-04-11",
          "2023-04-12",
          "2023-04-13",
          "2023-04-14",
          "2023-04-17",
          "2023-04-18",
          "2023-04-19",
          "2023-04-20",
          "2023-04-21",
          "2023-04-24",
          "2023-04-25",
          "2023-04-26",
          "2023-04-27",
          "2023-04-28",
          "2023-05-02",
          "2023-05-03",
          "2023-05-04",
          "2023-05-05",
          "2023-05-08",
          "2023-05-09",
          "2023-05-10",
          "2023-05-11",
          "2023-05-12",
          "2023-05-15",
          "2023-05-16",
          "2023-05-17",
          "2023-05-18",
          "2023-05-19",
          "2023-05-22",
          "2023-05-23",
          "2023-05-24",
          "2023-05-25",
          "2023-05-26",
          "2023-05-29",
          "2023-05-30",
          "2023-05-31",
          "2023-06-01",
          "2023-06-02",
          "2023-06-05",
          "2023-06-06",
          "2023-06-07",
          "2023-06-08",
          "2023-06-09",
          "2023-06-12",
          "2023-06-13",
          "2023-06-14",
          "2023-06-15",
          "2023-06-16",
          "2023-06-19",
          "2023-06-20",
          "2023-06-21",
          "2023-06-22",
          "2023-06-23",
          "2023-06-26",
          "2023-06-27",
          "2023-06-28",
          "2023-06-29",
          "2023-06-30",
          "2023-07-03",
          "2023-07-04",
          "2023-07-05",
          "2023-07-06",
          "2023-07-07",
          "2023-07-10",
          "2023-07-11",
          "2023-07-12",
          "2023-07-13",
          "2023-07-14",
          "2023-07-17",
          "2023-07-18",
          "2023-07-19",
          "2023-07-20",
          "2023-07-21",
          "2023-07-24",
          "2023-07-25",
          "2023-07-26",
          "2023-07-27",
          "2023-07-28",
          "2023-07-31",
          "2023-08-01",
          "2023-08-02",
          "2023-08-03",
          "2023-08-04",
          "2023-08-07",
          "2023-08-08",
          "2023-08-09",
          "2023-08-10",
          "2023-08-11",
          "2023-08-14",
          "2023-08-15",
          "2023-08-16",
          "2023-08-17",
          "2023-08-18",
          "2023-08-21",
          "2023-08-22",
          "2023-08-23",
          "2023-08-24",
          "2023-08-25",
          "2023-08-28",
          "2023-08-29",
          "2023-08-30",
          "2023-08-31",
          "2023-09-01",
          "2023-09-04",
          "2023-09-05",
          "2023-09-06",
          "2023-09-07",
          "2023-09-08",
          "2023-09-11",
          "2023-09-12",
          "2023-09-13",
          "2023-09-14",
          "2023-09-15",
          "2023-09-18",
          "2023-09-19",
          "2023-09-20",
          "2023-09-21",
          "2023-09-22",
          "2023-09-25",
          "2023-09-26",
          "2023-09-27",
          "2023-09-28",
          "2023-09-29",
          "2023-10-02",
          "2023-10-03",
          "2023-10-04",
          "2023-10-05",
          "2023-10-06",
          "2023-10-09",
          "2023-10-10",
          "2023-10-11",
          "2023-10-12",
          "2023-10-13",
          "2023-10-16",
          "2023-10-17",
          "2023-10-18",
          "2023-10-19",
          "2023-10-20",
          "2023-10-23",
          "2023-10-24",
          "2023-10-25",
          "2023-10-26",
          "2023-10-27",
          "2023-10-30",
          "2023-10-31",
          "2023-11-01",
          "2023-11-03",
          "2023-11-06",
          "2023-11-07",
          "2023-11-08"
         ],
         "y": [
          38.15999984741211,
          37.59000015258789,
          37.93000030517578,
          37.83000183105469,
          38.2599983215332,
          38.869998931884766,
          38.599998474121094,
          38.61000061035156,
          38.75,
          38.689998626708984,
          38.65999984741211,
          38.599998474121094,
          38.59000015258789,
          38.5099983215332,
          38.650001525878906,
          38.650001525878906,
          39.060001373291016,
          39.650001525878906,
          40.4900016784668,
          40.630001068115234,
          40.5099983215332,
          40.88999938964844,
          40.939998626708984,
          40.900001525878906,
          41.06999969482422,
          41.029998779296875,
          41.060001373291016,
          40.939998626708984,
          39.400001525878906,
          39.7599983215332,
          38.86000061035156,
          39.09000015258789,
          39,
          38.86000061035156,
          37.70000076293945,
          37.88999938964844,
          36.2599983215332,
          36.5,
          36.02000045776367,
          35.720001220703125,
          35.66999816894531,
          36.09000015258789,
          36.11000061035156,
          36.040000915527344,
          36.29999923706055,
          36.04999923706055,
          36.56999969482422,
          35.939998626708984,
          "",
          36.15999984741211,
          36.95000076293945,
          37.150001525878906,
          38,
          39.0099983215332,
          38.599998474121094,
          37.93000030517578,
          38.18000030517578,
          38.2400016784668,
          37.88999938964844,
          37.9900016784668,
          38.599998474121094,
          38.7599983215332,
          38.529998779296875,
          38.290000915527344,
          38.36000061035156,
          37.84000015258789,
          38.66999816894531,
          38.65999984741211,
          37.68000030517578,
          38.52000045776367,
          38.349998474121094,
          38.93000030517578,
          38.900001525878906,
          39.04999923706055,
          39.220001220703125,
          39.470001220703125,
          39.279998779296875,
          38.900001525878906,
          38.95000076293945,
          38.970001220703125,
          39.619998931884766,
          40.08000183105469,
          40.220001220703125,
          40.29999923706055,
          40.709999084472656,
          40.70000076293945,
          40.70000076293945,
          41.09000015258789,
          38.189998626708984,
          38.04999923706055,
          38.099998474121094,
          38.099998474121094,
          37.7400016784668,
          37.66999816894531,
          37.470001220703125,
          36.790000915527344,
          36.810001373291016,
          36.79999923706055,
          36.880001068115234,
          36.79999923706055,
          36.939998626708984,
          36.650001525878906,
          37.189998626708984,
          36.4900016784668,
          37.650001525878906,
          37.22999954223633,
          37.91999816894531,
          37.849998474121094,
          37.70000076293945,
          37.58000183105469,
          37.31999969482422,
          37.20000076293945,
          37.15999984741211,
          37.09000015258789,
          36.75,
          36.900001525878906,
          36.619998931884766,
          36.29999923706055,
          35.880001068115234,
          35.70000076293945,
          35.529998779296875,
          35.81999969482422,
          35.7599983215332,
          35.75,
          35.58000183105469,
          35.709999084472656,
          35.18000030517578,
          35.09000015258789,
          34.689998626708984,
          34.63999938964844,
          34.7599983215332,
          35.02000045776367,
          35.31999969482422,
          35.34000015258789,
          35.41999816894531,
          35.08000183105469,
          35.099998474121094,
          34.5,
          34,
          34.81999969482422,
          34.849998474121094,
          35.25,
          35.20000076293945,
          35.060001373291016,
          35.45000076293945,
          35.5,
          35.220001220703125,
          34.70000076293945,
          34.16999816894531,
          35.029998779296875,
          35.400001525878906,
          36.099998474121094,
          35.970001220703125,
          35.47999954223633,
          35.5,
          35.63999938964844,
          35.77000045776367,
          35.130001068115234,
          35.099998474121094,
          34.66999816894531,
          34.310001373291016,
          34.02000045776367,
          34.150001525878906,
          34.29999923706055,
          34.2400016784668,
          34.25,
          34.689998626708984,
          34.470001220703125,
          34.119998931884766,
          34.25,
          34.540000915527344,
          34.22999954223633,
          33.08000183105469,
          33.40999984741211,
          33.060001373291016,
          33.04999923706055,
          33,
          33.18000030517578,
          33.47999954223633,
          34,
          33.97999954223633,
          34.150001525878906,
          34.279998779296875,
          33.7400016784668,
          33.369998931884766,
          33.29999923706055,
          33.40999984741211,
          33.869998931884766,
          33.060001373291016,
          32.630001068115234,
          33.25,
          32.869998931884766,
          33.29999923706055,
          33,
          33.25,
          33.119998931884766,
          33.58000183105469,
          33.65999984741211,
          33.25,
          32.54999923706055,
          32.95000076293945,
          32.470001220703125,
          28.950000762939453,
          30.579999923706055,
          29.6299991607666,
          29.65999984741211,
          29.540000915527344,
          29.149999618530273,
          29.020000457763672,
          28.700000762939453,
          28,
          28.06999969482422,
          28.399999618530273,
          29.290000915527344,
          30.100000381469727,
          30.100000381469727,
          29.899999618530273
         ]
        },
        {
         "line": {
          "color": "rgba(50, 171, 96, 1.0)",
          "dash": "solid",
          "shape": "linear",
          "width": 1.3
         },
         "mode": "lines",
         "name": "GENIUS21.MX",
         "text": "",
         "type": "scatter",
         "x": [
          "2023-01-02",
          "2023-01-03",
          "2023-01-04",
          "2023-01-05",
          "2023-01-06",
          "2023-01-09",
          "2023-01-10",
          "2023-01-11",
          "2023-01-12",
          "2023-01-13",
          "2023-01-16",
          "2023-01-17",
          "2023-01-18",
          "2023-01-19",
          "2023-01-20",
          "2023-01-23",
          "2023-01-24",
          "2023-01-25",
          "2023-01-26",
          "2023-01-27",
          "2023-01-30",
          "2023-01-31",
          "2023-02-01",
          "2023-02-02",
          "2023-02-03",
          "2023-02-07",
          "2023-02-08",
          "2023-02-09",
          "2023-02-10",
          "2023-02-13",
          "2023-02-14",
          "2023-02-15",
          "2023-02-16",
          "2023-02-17",
          "2023-02-20",
          "2023-02-21",
          "2023-02-22",
          "2023-02-23",
          "2023-02-24",
          "2023-02-27",
          "2023-02-28",
          "2023-03-01",
          "2023-03-02",
          "2023-03-03",
          "2023-03-06",
          "2023-03-07",
          "2023-03-08",
          "2023-03-09",
          "2023-03-10",
          "2023-03-13",
          "2023-03-14",
          "2023-03-15",
          "2023-03-16",
          "2023-03-17",
          "2023-03-21",
          "2023-03-22",
          "2023-03-23",
          "2023-03-24",
          "2023-03-27",
          "2023-03-28",
          "2023-03-29",
          "2023-03-30",
          "2023-03-31",
          "2023-04-03",
          "2023-04-04",
          "2023-04-05",
          "2023-04-10",
          "2023-04-11",
          "2023-04-12",
          "2023-04-13",
          "2023-04-14",
          "2023-04-17",
          "2023-04-18",
          "2023-04-19",
          "2023-04-20",
          "2023-04-21",
          "2023-04-24",
          "2023-04-25",
          "2023-04-26",
          "2023-04-27",
          "2023-04-28",
          "2023-05-02",
          "2023-05-03",
          "2023-05-04",
          "2023-05-05",
          "2023-05-08",
          "2023-05-09",
          "2023-05-10",
          "2023-05-11",
          "2023-05-12",
          "2023-05-15",
          "2023-05-16",
          "2023-05-17",
          "2023-05-18",
          "2023-05-19",
          "2023-05-22",
          "2023-05-23",
          "2023-05-24",
          "2023-05-25",
          "2023-05-26",
          "2023-05-29",
          "2023-05-30",
          "2023-05-31",
          "2023-06-01",
          "2023-06-02",
          "2023-06-05",
          "2023-06-06",
          "2023-06-07",
          "2023-06-08",
          "2023-06-09",
          "2023-06-12",
          "2023-06-13",
          "2023-06-14",
          "2023-06-15",
          "2023-06-16",
          "2023-06-19",
          "2023-06-20",
          "2023-06-21",
          "2023-06-22",
          "2023-06-23",
          "2023-06-26",
          "2023-06-27",
          "2023-06-28",
          "2023-06-29",
          "2023-06-30",
          "2023-07-03",
          "2023-07-04",
          "2023-07-05",
          "2023-07-06",
          "2023-07-07",
          "2023-07-10",
          "2023-07-11",
          "2023-07-12",
          "2023-07-13",
          "2023-07-14",
          "2023-07-17",
          "2023-07-18",
          "2023-07-19",
          "2023-07-20",
          "2023-07-21",
          "2023-07-24",
          "2023-07-25",
          "2023-07-26",
          "2023-07-27",
          "2023-07-28",
          "2023-07-31",
          "2023-08-01",
          "2023-08-02",
          "2023-08-03",
          "2023-08-04",
          "2023-08-07",
          "2023-08-08",
          "2023-08-09",
          "2023-08-10",
          "2023-08-11",
          "2023-08-14",
          "2023-08-15",
          "2023-08-16",
          "2023-08-17",
          "2023-08-18",
          "2023-08-21",
          "2023-08-22",
          "2023-08-23",
          "2023-08-24",
          "2023-08-25",
          "2023-08-28",
          "2023-08-29",
          "2023-08-30",
          "2023-08-31",
          "2023-09-01",
          "2023-09-04",
          "2023-09-05",
          "2023-09-06",
          "2023-09-07",
          "2023-09-08",
          "2023-09-11",
          "2023-09-12",
          "2023-09-13",
          "2023-09-14",
          "2023-09-15",
          "2023-09-18",
          "2023-09-19",
          "2023-09-20",
          "2023-09-21",
          "2023-09-22",
          "2023-09-25",
          "2023-09-26",
          "2023-09-27",
          "2023-09-28",
          "2023-09-29",
          "2023-10-02",
          "2023-10-03",
          "2023-10-04",
          "2023-10-05",
          "2023-10-06",
          "2023-10-09",
          "2023-10-10",
          "2023-10-11",
          "2023-10-12",
          "2023-10-13",
          "2023-10-16",
          "2023-10-17",
          "2023-10-18",
          "2023-10-19",
          "2023-10-20",
          "2023-10-23",
          "2023-10-24",
          "2023-10-25",
          "2023-10-26",
          "2023-10-27",
          "2023-10-30",
          "2023-10-31",
          "2023-11-01",
          "2023-11-03",
          "2023-11-06",
          "2023-11-07",
          "2023-11-08"
         ],
         "y": [
          37.22999954223633,
          36.79999923706055,
          37.45000076293945,
          36.86000061035156,
          37.72999954223633,
          37.90999984741211,
          38.08000183105469,
          38.400001525878906,
          38.470001220703125,
          38.47999954223633,
          38.5099983215332,
          38.41999816894531,
          38.560001373291016,
          38.470001220703125,
          39.34000015258789,
          40.119998931884766,
          40.20000076293945,
          40.209999084472656,
          40.88999938964844,
          41.09000015258789,
          40.29999923706055,
          40.77000045776367,
          41.08000183105469,
          42,
          42.29999923706055,
          42.56999969482422,
          42.209999084472656,
          41.650001525878906,
          40.88999938964844,
          41.290000915527344,
          41.41999816894531,
          41.93000030517578,
          41.06999969482422,
          40.130001068115234,
          40.20000076293945,
          39.47999954223633,
          39.939998626708984,
          40.439998626708984,
          39.95000076293945,
          40.09000015258789,
          39.95000076293945,
          39.2599983215332,
          39.630001068115234,
          40.15999984741211,
          40.34000015258789,
          40.060001373291016,
          40,
          40,
          39.880001068115234,
          40.9900016784668,
          40.97999954223633,
          41.65999984741211,
          42.13999938964844,
          42.349998474121094,
          42.41999816894531,
          41.970001220703125,
          42.810001373291016,
          42.2599983215332,
          41.779998779296875,
          41.7599983215332,
          42.08000183105469,
          42.4900016784668,
          42.88999938964844,
          42.91999816894531,
          42.959999084472656,
          42.95000076293945,
          42.83000183105469,
          42.65999984741211,
          41.970001220703125,
          42.56999969482422,
          42.650001525878906,
          42.810001373291016,
          42.939998626708984,
          42.849998474121094,
          42.41999816894531,
          42.310001373291016,
          42.11000061035156,
          41.310001373291016,
          41.68000030517578,
          42.45000076293945,
          42.630001068115234,
          42.02000045776367,
          41.720001220703125,
          41.540000915527344,
          42.25,
          42.599998474121094,
          42.279998779296875,
          42.13999938964844,
          42.380001068115234,
          42.209999084472656,
          42.18000030517578,
          42.310001373291016,
          43.20000076293945,
          44.040000915527344,
          43.869998931884766,
          44.34000015258789,
          43.83000183105469,
          43.529998779296875,
          45.66999816894531,
          46.66999816894531,
          46.58000183105469,
          46.7599983215332,
          46.400001525878906,
          46.959999084472656,
          47.27000045776367,
          47.0099983215332,
          46.86000061035156,
          45.790000915527344,
          46.369998931884766,
          46.09000015258789,
          47.29999923706055,
          47.459999084472656,
          48.15999984741211,
          48.65999984741211,
          48.220001220703125,
          48.290000915527344,
          48.68000030517578,
          47.77000045776367,
          48.459999084472656,
          47.880001068115234,
          46.97999954223633,
          47.95000076293945,
          "",
          47.95000076293945,
          48.790000915527344,
          48.630001068115234,
          48.63999938964844,
          48.61000061035156,
          48.880001068115234,
          48.54999923706055,
          48.38999938964844,
          48.72999954223633,
          48.689998626708984,
          49.599998474121094,
          49.16999816894531,
          49.84000015258789,
          50.08000183105469,
          49.90999984741211,
          49.33000183105469,
          49.27000045776367,
          49.040000915527344,
          49.790000915527344,
          49.380001068115234,
          49.63999938964844,
          49.97999954223633,
          50.16999816894531,
          50.72999954223633,
          49.45000076293945,
          50.119998931884766,
          49.08000183105469,
          49.349998474121094,
          48.900001525878906,
          47.790000915527344,
          47.7599983215332,
          47.09000015258789,
          48.36000061035156,
          48.09000015258789,
          47.61000061035156,
          47.09000015258789,
          46.77000045776367,
          48.849998474121094,
          48.11000061035156,
          48.70000076293945,
          47.90999984741211,
          47.689998626708984,
          48.279998779296875,
          49.529998779296875,
          49.7400016784668,
          51.04999923706055,
          50.65999984741211,
          50.810001373291016,
          51.790000915527344,
          51.61000061035156,
          51.029998779296875,
          51.099998474121094,
          50.58000183105469,
          49.75,
          49.83000183105469,
          50.04999923706055,
          48.66999816894531,
          48.869998931884766,
          48.63999938964844,
          47.790000915527344,
          47.220001220703125,
          47.15999984741211,
          48.11000061035156,
          47.689998626708984,
          48.189998626708984,
          48.45000076293945,
          48.08000183105469,
          49.529998779296875,
          49.400001525878906,
          50.119998931884766,
          50.97999954223633,
          51.90999984741211,
          51.959999084472656,
          51.33000183105469,
          51.38999938964844,
          51.66999816894531,
          50.88999938964844,
          51.08000183105469,
          50.869998931884766,
          50.400001525878906,
          51.400001525878906,
          50.290000915527344,
          50.79999923706055,
          51.41999816894531,
          50.2599983215332,
          48.5099983215332,
          48.72999954223633,
          49.470001220703125,
          49.560001373291016,
          50.36000061035156,
          50.880001068115234,
          51.52000045776367,
          51.720001220703125,
          52.310001373291016
         ]
        },
        {
         "line": {
          "color": "rgba(128, 0, 128, 1.0)",
          "dash": "solid",
          "shape": "linear",
          "width": 1.3
         },
         "mode": "lines",
         "name": "HERDEZ.MX",
         "text": "",
         "type": "scatter",
         "x": [
          "2023-01-02",
          "2023-01-03",
          "2023-01-04",
          "2023-01-05",
          "2023-01-06",
          "2023-01-09",
          "2023-01-10",
          "2023-01-11",
          "2023-01-12",
          "2023-01-13",
          "2023-01-16",
          "2023-01-17",
          "2023-01-18",
          "2023-01-19",
          "2023-01-20",
          "2023-01-23",
          "2023-01-24",
          "2023-01-25",
          "2023-01-26",
          "2023-01-27",
          "2023-01-30",
          "2023-01-31",
          "2023-02-01",
          "2023-02-02",
          "2023-02-03",
          "2023-02-07",
          "2023-02-08",
          "2023-02-09",
          "2023-02-10",
          "2023-02-13",
          "2023-02-14",
          "2023-02-15",
          "2023-02-16",
          "2023-02-17",
          "2023-02-20",
          "2023-02-21",
          "2023-02-22",
          "2023-02-23",
          "2023-02-24",
          "2023-02-27",
          "2023-02-28",
          "2023-03-01",
          "2023-03-02",
          "2023-03-03",
          "2023-03-06",
          "2023-03-07",
          "2023-03-08",
          "2023-03-09",
          "2023-03-10",
          "2023-03-13",
          "2023-03-14",
          "2023-03-15",
          "2023-03-16",
          "2023-03-17",
          "2023-03-21",
          "2023-03-22",
          "2023-03-23",
          "2023-03-24",
          "2023-03-27",
          "2023-03-28",
          "2023-03-29",
          "2023-03-30",
          "2023-03-31",
          "2023-04-03",
          "2023-04-04",
          "2023-04-05",
          "2023-04-10",
          "2023-04-11",
          "2023-04-12",
          "2023-04-13",
          "2023-04-14",
          "2023-04-17",
          "2023-04-18",
          "2023-04-19",
          "2023-04-20",
          "2023-04-21",
          "2023-04-24",
          "2023-04-25",
          "2023-04-26",
          "2023-04-27",
          "2023-04-28",
          "2023-05-02",
          "2023-05-03",
          "2023-05-04",
          "2023-05-05",
          "2023-05-08",
          "2023-05-09",
          "2023-05-10",
          "2023-05-11",
          "2023-05-12",
          "2023-05-15",
          "2023-05-16",
          "2023-05-17",
          "2023-05-18",
          "2023-05-19",
          "2023-05-22",
          "2023-05-23",
          "2023-05-24",
          "2023-05-25",
          "2023-05-26",
          "2023-05-29",
          "2023-05-30",
          "2023-05-31",
          "2023-06-01",
          "2023-06-02",
          "2023-06-05",
          "2023-06-06",
          "2023-06-07",
          "2023-06-08",
          "2023-06-09",
          "2023-06-12",
          "2023-06-13",
          "2023-06-14",
          "2023-06-15",
          "2023-06-16",
          "2023-06-19",
          "2023-06-20",
          "2023-06-21",
          "2023-06-22",
          "2023-06-23",
          "2023-06-26",
          "2023-06-27",
          "2023-06-28",
          "2023-06-29",
          "2023-06-30",
          "2023-07-03",
          "2023-07-04",
          "2023-07-05",
          "2023-07-06",
          "2023-07-07",
          "2023-07-10",
          "2023-07-11",
          "2023-07-12",
          "2023-07-13",
          "2023-07-14",
          "2023-07-17",
          "2023-07-18",
          "2023-07-19",
          "2023-07-20",
          "2023-07-21",
          "2023-07-24",
          "2023-07-25",
          "2023-07-26",
          "2023-07-27",
          "2023-07-28",
          "2023-07-31",
          "2023-08-01",
          "2023-08-02",
          "2023-08-03",
          "2023-08-04",
          "2023-08-07",
          "2023-08-08",
          "2023-08-09",
          "2023-08-10",
          "2023-08-11",
          "2023-08-14",
          "2023-08-15",
          "2023-08-16",
          "2023-08-17",
          "2023-08-18",
          "2023-08-21",
          "2023-08-22",
          "2023-08-23",
          "2023-08-24",
          "2023-08-25",
          "2023-08-28",
          "2023-08-29",
          "2023-08-30",
          "2023-08-31",
          "2023-09-01",
          "2023-09-04",
          "2023-09-05",
          "2023-09-06",
          "2023-09-07",
          "2023-09-08",
          "2023-09-11",
          "2023-09-12",
          "2023-09-13",
          "2023-09-14",
          "2023-09-15",
          "2023-09-18",
          "2023-09-19",
          "2023-09-20",
          "2023-09-21",
          "2023-09-22",
          "2023-09-25",
          "2023-09-26",
          "2023-09-27",
          "2023-09-28",
          "2023-09-29",
          "2023-10-02",
          "2023-10-03",
          "2023-10-04",
          "2023-10-05",
          "2023-10-06",
          "2023-10-09",
          "2023-10-10",
          "2023-10-11",
          "2023-10-12",
          "2023-10-13",
          "2023-10-16",
          "2023-10-17",
          "2023-10-18",
          "2023-10-19",
          "2023-10-20",
          "2023-10-23",
          "2023-10-24",
          "2023-10-25",
          "2023-10-26",
          "2023-10-27",
          "2023-10-30",
          "2023-10-31",
          "2023-11-01",
          "2023-11-03",
          "2023-11-06",
          "2023-11-07",
          "2023-11-08"
         ],
         "y": [
          43.029998779296875,
          42.7400016784668,
          43.22999954223633,
          43.34000015258789,
          43.47999954223633,
          43.83000183105469,
          43.150001525878906,
          43.06999969482422,
          42.04999923706055,
          42.560001373291016,
          43.15999984741211,
          43.09000015258789,
          43.88999938964844,
          44.5,
          44.130001068115234,
          44.20000076293945,
          43.79999923706055,
          43.75,
          43.650001525878906,
          44.81999969482422,
          42.470001220703125,
          45.59000015258789,
          45.0099983215332,
          45,
          44.90999984741211,
          43.56999969482422,
          45,
          45.290000915527344,
          46.0099983215332,
          46.47999954223633,
          45.79999923706055,
          45.5,
          46,
          45.2599983215332,
          45.79999923706055,
          44.790000915527344,
          43.97999954223633,
          44.58000183105469,
          44.25,
          44.02000045776367,
          43.400001525878906,
          44.4900016784668,
          44.7400016784668,
          46.43000030517578,
          47,
          46.33000183105469,
          46,
          46.459999084472656,
          "",
          45.79999923706055,
          44.72999954223633,
          45.56999969482422,
          45.7400016784668,
          45,
          44.040000915527344,
          44.70000076293945,
          45.09000015258789,
          44.77000045776367,
          45.72999954223633,
          46.25,
          46.25,
          45.040000915527344,
          46,
          45.5,
          45.15999984741211,
          45,
          46.93000030517578,
          46.47999954223633,
          45.54999923706055,
          46.59000015258789,
          45.02000045776367,
          45.41999816894531,
          45.040000915527344,
          45.029998779296875,
          45.79999923706055,
          46.79999923706055,
          47.79999923706055,
          47.349998474121094,
          47.630001068115234,
          47.95000076293945,
          47.630001068115234,
          46.58000183105469,
          47.58000183105469,
          47.029998779296875,
          46.63999938964844,
          47.029998779296875,
          47.25,
          47.86000061035156,
          48.529998779296875,
          47.869998931884766,
          48.2400016784668,
          47.220001220703125,
          47.099998474121094,
          47.900001525878906,
          47.97999954223633,
          47.22999954223633,
          46,
          48,
          46.27000045776367,
          44.720001220703125,
          44.369998931884766,
          43.290000915527344,
          43.95000076293945,
          44.61000061035156,
          44.59000015258789,
          43.52000045776367,
          43.369998931884766,
          44.099998474121094,
          44.79999923706055,
          46.529998779296875,
          46,
          46.04999923706055,
          47,
          46.75,
          46.29999923706055,
          46.29999923706055,
          47.189998626708984,
          46.099998474121094,
          45.29999923706055,
          44.0099983215332,
          43.029998779296875,
          45.4900016784668,
          45.470001220703125,
          45.75,
          44.220001220703125,
          45.15999984741211,
          44.81999969482422,
          46.08000183105469,
          44.5,
          47.970001220703125,
          46.54999923706055,
          47.619998931884766,
          46.54999923706055,
          48.290000915527344,
          47.630001068115234,
          48.20000076293945,
          47.79999923706055,
          47.810001373291016,
          47.77000045776367,
          48.09000015258789,
          47.709999084472656,
          48.54999923706055,
          48.689998626708984,
          47.11000061035156,
          47.20000076293945,
          49.22999954223633,
          48.5,
          46,
          46.20000076293945,
          47.189998626708984,
          47.72999954223633,
          47.2400016784668,
          46.720001220703125,
          46.33000183105469,
          44.869998931884766,
          44.68000030517578,
          44.56999969482422,
          43.5,
          41.86000061035156,
          41.83000183105469,
          40.349998474121094,
          40.369998931884766,
          40.900001525878906,
          40.56999969482422,
          39.86000061035156,
          39.7400016784668,
          39.70000076293945,
          40.290000915527344,
          41.900001525878906,
          43.20000076293945,
          42.88999938964844,
          42.810001373291016,
          43.43000030517578,
          43,
          42.689998626708984,
          42.5,
          42.88999938964844,
          41,
          40.9900016784668,
          40.22999954223633,
          40.0099983215332,
          40.349998474121094,
          41.54999923706055,
          40.11000061035156,
          40.4900016784668,
          40.90999984741211,
          41.220001220703125,
          41.599998474121094,
          41.83000183105469,
          40.619998931884766,
          40.61000061035156,
          40.04999923706055,
          39.38999938964844,
          39.56999969482422,
          39.58000183105469,
          38.65999984741211,
          39,
          38.880001068115234,
          38.209999084472656,
          37.29999923706055,
          38,
          38.2599983215332,
          38.27000045776367,
          39,
          39.5099983215332,
          40.75,
          40.81999969482422,
          41.18000030517578,
          40.95000076293945,
          41.40999984741211,
          40.150001525878906,
          40.97999954223633,
          40.849998474121094,
          41,
          40.72999954223633,
          41.150001525878906,
          40.720001220703125
         ]
        },
        {
         "line": {
          "color": "rgba(219, 64, 82, 1.0)",
          "dash": "solid",
          "shape": "linear",
          "width": 1.3
         },
         "mode": "lines",
         "name": "IVVPESOISHRS.MX",
         "text": "",
         "type": "scatter",
         "x": [
          "2023-01-02",
          "2023-01-03",
          "2023-01-04",
          "2023-01-05",
          "2023-01-06",
          "2023-01-09",
          "2023-01-10",
          "2023-01-11",
          "2023-01-12",
          "2023-01-13",
          "2023-01-16",
          "2023-01-17",
          "2023-01-18",
          "2023-01-19",
          "2023-01-20",
          "2023-01-23",
          "2023-01-24",
          "2023-01-25",
          "2023-01-26",
          "2023-01-27",
          "2023-01-30",
          "2023-01-31",
          "2023-02-01",
          "2023-02-02",
          "2023-02-03",
          "2023-02-07",
          "2023-02-08",
          "2023-02-09",
          "2023-02-10",
          "2023-02-13",
          "2023-02-14",
          "2023-02-15",
          "2023-02-16",
          "2023-02-17",
          "2023-02-20",
          "2023-02-21",
          "2023-02-22",
          "2023-02-23",
          "2023-02-24",
          "2023-02-27",
          "2023-02-28",
          "2023-03-01",
          "2023-03-02",
          "2023-03-03",
          "2023-03-06",
          "2023-03-07",
          "2023-03-08",
          "2023-03-09",
          "2023-03-10",
          "2023-03-13",
          "2023-03-14",
          "2023-03-15",
          "2023-03-16",
          "2023-03-17",
          "2023-03-21",
          "2023-03-22",
          "2023-03-23",
          "2023-03-24",
          "2023-03-27",
          "2023-03-28",
          "2023-03-29",
          "2023-03-30",
          "2023-03-31",
          "2023-04-03",
          "2023-04-04",
          "2023-04-05",
          "2023-04-10",
          "2023-04-11",
          "2023-04-12",
          "2023-04-13",
          "2023-04-14",
          "2023-04-17",
          "2023-04-18",
          "2023-04-19",
          "2023-04-20",
          "2023-04-21",
          "2023-04-24",
          "2023-04-25",
          "2023-04-26",
          "2023-04-27",
          "2023-04-28",
          "2023-05-02",
          "2023-05-03",
          "2023-05-04",
          "2023-05-05",
          "2023-05-08",
          "2023-05-09",
          "2023-05-10",
          "2023-05-11",
          "2023-05-12",
          "2023-05-15",
          "2023-05-16",
          "2023-05-17",
          "2023-05-18",
          "2023-05-19",
          "2023-05-22",
          "2023-05-23",
          "2023-05-24",
          "2023-05-25",
          "2023-05-26",
          "2023-05-29",
          "2023-05-30",
          "2023-05-31",
          "2023-06-01",
          "2023-06-02",
          "2023-06-05",
          "2023-06-06",
          "2023-06-07",
          "2023-06-08",
          "2023-06-09",
          "2023-06-12",
          "2023-06-13",
          "2023-06-14",
          "2023-06-15",
          "2023-06-16",
          "2023-06-19",
          "2023-06-20",
          "2023-06-21",
          "2023-06-22",
          "2023-06-23",
          "2023-06-26",
          "2023-06-27",
          "2023-06-28",
          "2023-06-29",
          "2023-06-30",
          "2023-07-03",
          "2023-07-04",
          "2023-07-05",
          "2023-07-06",
          "2023-07-07",
          "2023-07-10",
          "2023-07-11",
          "2023-07-12",
          "2023-07-13",
          "2023-07-14",
          "2023-07-17",
          "2023-07-18",
          "2023-07-19",
          "2023-07-20",
          "2023-07-21",
          "2023-07-24",
          "2023-07-25",
          "2023-07-26",
          "2023-07-27",
          "2023-07-28",
          "2023-07-31",
          "2023-08-01",
          "2023-08-02",
          "2023-08-03",
          "2023-08-04",
          "2023-08-07",
          "2023-08-08",
          "2023-08-09",
          "2023-08-10",
          "2023-08-11",
          "2023-08-14",
          "2023-08-15",
          "2023-08-16",
          "2023-08-17",
          "2023-08-18",
          "2023-08-21",
          "2023-08-22",
          "2023-08-23",
          "2023-08-24",
          "2023-08-25",
          "2023-08-28",
          "2023-08-29",
          "2023-08-30",
          "2023-08-31",
          "2023-09-01",
          "2023-09-04",
          "2023-09-05",
          "2023-09-06",
          "2023-09-07",
          "2023-09-08",
          "2023-09-11",
          "2023-09-12",
          "2023-09-13",
          "2023-09-14",
          "2023-09-15",
          "2023-09-18",
          "2023-09-19",
          "2023-09-20",
          "2023-09-21",
          "2023-09-22",
          "2023-09-25",
          "2023-09-26",
          "2023-09-27",
          "2023-09-28",
          "2023-09-29",
          "2023-10-02",
          "2023-10-03",
          "2023-10-04",
          "2023-10-05",
          "2023-10-06",
          "2023-10-09",
          "2023-10-10",
          "2023-10-11",
          "2023-10-12",
          "2023-10-13",
          "2023-10-16",
          "2023-10-17",
          "2023-10-18",
          "2023-10-19",
          "2023-10-20",
          "2023-10-23",
          "2023-10-24",
          "2023-10-25",
          "2023-10-26",
          "2023-10-27",
          "2023-10-30",
          "2023-10-31",
          "2023-11-01",
          "2023-11-03",
          "2023-11-06",
          "2023-11-07",
          "2023-11-08"
         ],
         "y": [
          "",
          70.3499984741211,
          70.7699966430664,
          70.33999633789062,
          72,
          72.1500015258789,
          72.30000305175781,
          73.0999984741211,
          73.69000244140625,
          73.91999816894531,
          73.93000030517578,
          73.76000213623047,
          72.80000305175781,
          72.51000213623047,
          73.26000213623047,
          74.62999725341797,
          74.16999816894531,
          74.22000122070312,
          75,
          75.62000274658203,
          74.51000213623047,
          75.16999816894531,
          76.43000030517578,
          76.66999816894531,
          76.12000274658203,
          76.54000091552734,
          75.80999755859375,
          75.06999969482422,
          75.29000091552734,
          76.04000091552734,
          76.3499984741211,
          76.33999633789062,
          75.72000122070312,
          75.18000030517578,
          74.43000030517578,
          74.0199966430664,
          73.66000366210938,
          74.23999786376953,
          73.44999694824219,
          73.63999938964844,
          73.63999938964844,
          73.08000183105469,
          73.16000366210938,
          74.19999694824219,
          74.5,
          73.30000305175781,
          73.29000091552734,
          72.48999786376953,
          70.80999755859375,
          71.19000244140625,
          71.62000274658203,
          71.38999938964844,
          73,
          72.05000305175781,
          73.75,
          73.72000122070312,
          72.87999725341797,
          73.19000244140625,
          73.47000122070312,
          73.05000305175781,
          74.13999938964844,
          74.63999938964844,
          75.5199966430664,
          75.95999908447266,
          75.05000305175781,
          75.12999725341797,
          75.37999725341797,
          75.52999877929688,
          75.16000366210938,
          76.12999725341797,
          75.93000030517578,
          76.16999816894531,
          76.36000061035156,
          76.43000030517578,
          75.8499984741211,
          76.05000305175781,
          76.08999633789062,
          75.16999816894531,
          74.80000305175781,
          76.26000213623047,
          76.80999755859375,
          76.01000213623047,
          75.6500015258789,
          74.95999908447266,
          76.22000122070312,
          76.25,
          76.06999969482422,
          76.12000274658203,
          76.2300033569336,
          75.9800033569336,
          76.31999969482422,
          76.12000274658203,
          77,
          77.02999877929688,
          77.47000122070312,
          77.66000366210938,
          76.8499984741211,
          76.08999633789062,
          76.97000122070312,
          77.94000244140625,
          "",
          78.1500015258789,
          77.72000122070312,
          78.13999938964844,
          78.98999786376953,
          78.87000274658203,
          78.93000030517578,
          78.80999755859375,
          79.29000091552734,
          79.43000030517578,
          80,
          80.6500015258789,
          80.62999725341797,
          81.66999816894531,
          81.7300033569336,
          81.5999984741211,
          81.0999984741211,
          81,
          80.79000091552734,
          80.5,
          80.4000015258789,
          81.04000091552734,
          80.94000244140625,
          81.41999816894531,
          82.5,
          82.58999633789062,
          82.69999694824219,
          81.44999694824219,
          80.97000122070312,
          81.2699966430664,
          80.80000305175781,
          81.30000305175781,
          82,
          82.55000305175781,
          82.55000305175781,
          83,
          83.5199966430664,
          83.69999694824219,
          83.19999694824219,
          83.25,
          83.4800033569336,
          84.08999633789062,
          83.62999725341797,
          83.43000030517578,
          84.0999984741211,
          84.25,
          84.04000091552734,
          82.1500015258789,
          82.1500015258789,
          81.70999908447266,
          82.37000274658203,
          81.68000030517578,
          81.86000061035156,
          81.47000122070312,
          81.4000015258789,
          81.7699966430664,
          81.41000366210938,
          80.4000015258789,
          79.70999908447266,
          79.9000015258789,
          80.33999633789062,
          80.30000305175781,
          81.19000244140625,
          "",
          80.66000366210938,
          81.02999877929688,
          82.19000244140625,
          82.63999938964844,
          82.97000122070312,
          82.69999694824219,
          82.72000122070312,
          82.58000183105469,
          81.95999908447266,
          81.5999984741211,
          81.86000061035156,
          82.27999877929688,
          82.08000183105469,
          81.97000122070312,
          82.81999969482422,
          "",
          82.12000274658203,
          81.62999725341797,
          82,
          80,
          79.80000305175781,
          79.5999984741211,
          78.6500015258789,
          78.6500015258789,
          79.1500015258789,
          78.88999938964844,
          78.5999984741211,
          77.88999938964844,
          78.66999816894531,
          78.37000274658203,
          79.75,
          80.20999908447266,
          80.5999984741211,
          80.54000091552734,
          80.2699966430664,
          79.94000244140625,
          80.94999694824219,
          80.5999984741211,
          79.80000305175781,
          80.0999984741211,
          78.55999755859375,
          78.41000366210938,
          78.6500015258789,
          "",
          76.97000122070312,
          76.13999938964844,
          76.93000030517578,
          77.23999786376953,
          78.41999816894531,
          80.62999725341797,
          80.5999984741211,
          81.05000305175781,
          81
         ]
        },
        {
         "line": {
          "color": "rgba(0, 128, 128, 1.0)",
          "dash": "solid",
          "shape": "linear",
          "width": 1.3
         },
         "mode": "lines",
         "name": "WALMEX.MX",
         "text": "",
         "type": "scatter",
         "x": [
          "2023-01-02",
          "2023-01-03",
          "2023-01-04",
          "2023-01-05",
          "2023-01-06",
          "2023-01-09",
          "2023-01-10",
          "2023-01-11",
          "2023-01-12",
          "2023-01-13",
          "2023-01-16",
          "2023-01-17",
          "2023-01-18",
          "2023-01-19",
          "2023-01-20",
          "2023-01-23",
          "2023-01-24",
          "2023-01-25",
          "2023-01-26",
          "2023-01-27",
          "2023-01-30",
          "2023-01-31",
          "2023-02-01",
          "2023-02-02",
          "2023-02-03",
          "2023-02-07",
          "2023-02-08",
          "2023-02-09",
          "2023-02-10",
          "2023-02-13",
          "2023-02-14",
          "2023-02-15",
          "2023-02-16",
          "2023-02-17",
          "2023-02-20",
          "2023-02-21",
          "2023-02-22",
          "2023-02-23",
          "2023-02-24",
          "2023-02-27",
          "2023-02-28",
          "2023-03-01",
          "2023-03-02",
          "2023-03-03",
          "2023-03-06",
          "2023-03-07",
          "2023-03-08",
          "2023-03-09",
          "2023-03-10",
          "2023-03-13",
          "2023-03-14",
          "2023-03-15",
          "2023-03-16",
          "2023-03-17",
          "2023-03-21",
          "2023-03-22",
          "2023-03-23",
          "2023-03-24",
          "2023-03-27",
          "2023-03-28",
          "2023-03-29",
          "2023-03-30",
          "2023-03-31",
          "2023-04-03",
          "2023-04-04",
          "2023-04-05",
          "2023-04-10",
          "2023-04-11",
          "2023-04-12",
          "2023-04-13",
          "2023-04-14",
          "2023-04-17",
          "2023-04-18",
          "2023-04-19",
          "2023-04-20",
          "2023-04-21",
          "2023-04-24",
          "2023-04-25",
          "2023-04-26",
          "2023-04-27",
          "2023-04-28",
          "2023-05-02",
          "2023-05-03",
          "2023-05-04",
          "2023-05-05",
          "2023-05-08",
          "2023-05-09",
          "2023-05-10",
          "2023-05-11",
          "2023-05-12",
          "2023-05-15",
          "2023-05-16",
          "2023-05-17",
          "2023-05-18",
          "2023-05-19",
          "2023-05-22",
          "2023-05-23",
          "2023-05-24",
          "2023-05-25",
          "2023-05-26",
          "2023-05-29",
          "2023-05-30",
          "2023-05-31",
          "2023-06-01",
          "2023-06-02",
          "2023-06-05",
          "2023-06-06",
          "2023-06-07",
          "2023-06-08",
          "2023-06-09",
          "2023-06-12",
          "2023-06-13",
          "2023-06-14",
          "2023-06-15",
          "2023-06-16",
          "2023-06-19",
          "2023-06-20",
          "2023-06-21",
          "2023-06-22",
          "2023-06-23",
          "2023-06-26",
          "2023-06-27",
          "2023-06-28",
          "2023-06-29",
          "2023-06-30",
          "2023-07-03",
          "2023-07-04",
          "2023-07-05",
          "2023-07-06",
          "2023-07-07",
          "2023-07-10",
          "2023-07-11",
          "2023-07-12",
          "2023-07-13",
          "2023-07-14",
          "2023-07-17",
          "2023-07-18",
          "2023-07-19",
          "2023-07-20",
          "2023-07-21",
          "2023-07-24",
          "2023-07-25",
          "2023-07-26",
          "2023-07-27",
          "2023-07-28",
          "2023-07-31",
          "2023-08-01",
          "2023-08-02",
          "2023-08-03",
          "2023-08-04",
          "2023-08-07",
          "2023-08-08",
          "2023-08-09",
          "2023-08-10",
          "2023-08-11",
          "2023-08-14",
          "2023-08-15",
          "2023-08-16",
          "2023-08-17",
          "2023-08-18",
          "2023-08-21",
          "2023-08-22",
          "2023-08-23",
          "2023-08-24",
          "2023-08-25",
          "2023-08-28",
          "2023-08-29",
          "2023-08-30",
          "2023-08-31",
          "2023-09-01",
          "2023-09-04",
          "2023-09-05",
          "2023-09-06",
          "2023-09-07",
          "2023-09-08",
          "2023-09-11",
          "2023-09-12",
          "2023-09-13",
          "2023-09-14",
          "2023-09-15",
          "2023-09-18",
          "2023-09-19",
          "2023-09-20",
          "2023-09-21",
          "2023-09-22",
          "2023-09-25",
          "2023-09-26",
          "2023-09-27",
          "2023-09-28",
          "2023-09-29",
          "2023-10-02",
          "2023-10-03",
          "2023-10-04",
          "2023-10-05",
          "2023-10-06",
          "2023-10-09",
          "2023-10-10",
          "2023-10-11",
          "2023-10-12",
          "2023-10-13",
          "2023-10-16",
          "2023-10-17",
          "2023-10-18",
          "2023-10-19",
          "2023-10-20",
          "2023-10-23",
          "2023-10-24",
          "2023-10-25",
          "2023-10-26",
          "2023-10-27",
          "2023-10-30",
          "2023-10-31",
          "2023-11-01",
          "2023-11-03",
          "2023-11-06",
          "2023-11-07",
          "2023-11-08"
         ],
         "y": [
          69.1500015258789,
          69.25,
          70.48999786376953,
          70.41000366210938,
          72.44999694824219,
          72.37000274658203,
          72.43000030517578,
          72.72000122070312,
          73,
          73.30000305175781,
          71.91000366210938,
          71.7699966430664,
          71.76000213623047,
          72.80000305175781,
          73.91000366210938,
          74.54000091552734,
          75.30000305175781,
          76.1500015258789,
          75.94000244140625,
          75.4000015258789,
          75.58000183105469,
          73.55000305175781,
          74.87999725341797,
          72.9000015258789,
          72.83999633789062,
          72.38999938964844,
          71.98999786376953,
          71.19999694824219,
          71.12999725341797,
          71.4000015258789,
          70.70999908447266,
          71.44000244140625,
          71.23999786376953,
          70.70999908447266,
          70.4000015258789,
          70.0999984741211,
          72.1500015258789,
          70.8499984741211,
          70.9000015258789,
          71.88999938964844,
          72.0999984741211,
          71.12999725341797,
          71.25,
          72.38999938964844,
          73.0199966430664,
          72.51000213623047,
          72.5,
          72.04000091552734,
          "",
          74.0199966430664,
          73.69000244140625,
          74.2300033569336,
          73.5199966430664,
          71.19999694824219,
          72.33999633789062,
          72.52999877929688,
          72.4800033569336,
          73,
          73.33000183105469,
          73.9000015258789,
          73.20999908447266,
          73.4000015258789,
          72,
          72.30000305175781,
          71.56999969482422,
          70.43000030517578,
          70.62999725341797,
          71.20999908447266,
          71.20999908447266,
          70.6500015258789,
          70.63999938964844,
          70.31999969482422,
          70.16999816894531,
          70,
          70.54000091552734,
          71.13999938964844,
          71.80999755859375,
          72.5999984741211,
          72.06999969482422,
          71.91999816894531,
          72.47000122070312,
          72.25,
          71.91000366210938,
          71.80000305175781,
          72.44999694824219,
          72.66000366210938,
          73.58000183105469,
          74.87999725341797,
          74.16999816894531,
          74.06999969482422,
          72.6500015258789,
          72.77999877929688,
          72.27999877929688,
          72.01000213623047,
          72.16999816894531,
          70.41999816894531,
          71.29000091552734,
          70.51000213623047,
          70,
          68.69000244140625,
          68.83999633789062,
          68.27999877929688,
          67.29000091552734,
          66.66000366210938,
          67.2300033569336,
          69.22000122070312,
          69.51000213623047,
          69.5199966430664,
          68.22000122070312,
          67.43000030517578,
          66.98999786376953,
          66.72000122070312,
          68.4800033569336,
          69.98999786376953,
          68.18000030517578,
          69.05999755859375,
          67.56999969482422,
          68.5999984741211,
          67.73999786376953,
          67.63999938964844,
          68.37000274658203,
          69.79000091552734,
          68.5,
          68.12999725341797,
          67.88999938964844,
          68.80999755859375,
          68.94999694824219,
          68.55000305175781,
          68.25,
          68.87000274658203,
          68.95999908447266,
          69.5,
          68.55000305175781,
          68.19999694824219,
          67.75,
          67.9000015258789,
          68.73999786376953,
          68.43000030517578,
          68.20999908447266,
          68.70999908447266,
          68.2699966430664,
          68.63999938964844,
          69.52999877929688,
          69.87000274658203,
          70.08999633789062,
          69.75,
          70.47000122070312,
          69.19999694824219,
          67.41000366210938,
          69.06999969482422,
          68.30000305175781,
          67.80999755859375,
          68.25,
          68.44999694824219,
          67.93000030517578,
          68.83000183105469,
          69.7300033569336,
          69.18000030517578,
          67.16999816894531,
          67.33999633789062,
          68.16000366210938,
          68.12999725341797,
          68.58000183105469,
          67.77999877929688,
          67.9000015258789,
          68.48999786376953,
          69.16999816894531,
          68.88999938964844,
          67.22000122070312,
          67.18000030517578,
          67.27999877929688,
          67.58000183105469,
          67.30999755859375,
          66.93000030517578,
          66.88999938964844,
          66.52999877929688,
          65.80000305175781,
          64.8499984741211,
          64.11000061035156,
          63.439998626708984,
          64.91999816894531,
          65.73999786376953,
          65.76000213623047,
          66.5999984741211,
          66.8499984741211,
          66.48999786376953,
          66.0199966430664,
          66.01000213623047,
          66.11000061035156,
          65.77999877929688,
          65.83000183105469,
          64.9000015258789,
          65.58000183105469,
          65.0199966430664,
          63.79999923706055,
          60.619998931884766,
          62.560001373291016,
          61.7599983215332,
          61.38999938964844,
          59.93000030517578,
          60.869998931884766,
          60.06999969482422,
          60.310001373291016,
          60.25,
          59.58000183105469,
          60.29999923706055,
          60.0099983215332,
          60.470001220703125,
          64.0199966430664,
          66.58999633789062,
          64.81999969482422,
          64.5999984741211,
          65.22000122070312,
          66.81999969482422,
          66.94999694824219,
          65.98999786376953,
          65.61000061035156
         ]
        }
       ],
       "layout": {
        "legend": {
         "bgcolor": "#F5F6F9",
         "font": {
          "color": "#4D5663"
         }
        },
        "paper_bgcolor": "#F5F6F9",
        "plot_bgcolor": "#F5F6F9",
        "template": {
         "data": {
          "bar": [
           {
            "error_x": {
             "color": "#2a3f5f"
            },
            "error_y": {
             "color": "#2a3f5f"
            },
            "marker": {
             "line": {
              "color": "#E5ECF6",
              "width": 0.5
             },
             "pattern": {
              "fillmode": "overlay",
              "size": 10,
              "solidity": 0.2
             }
            },
            "type": "bar"
           }
          ],
          "barpolar": [
           {
            "marker": {
             "line": {
              "color": "#E5ECF6",
              "width": 0.5
             },
             "pattern": {
              "fillmode": "overlay",
              "size": 10,
              "solidity": 0.2
             }
            },
            "type": "barpolar"
           }
          ],
          "carpet": [
           {
            "aaxis": {
             "endlinecolor": "#2a3f5f",
             "gridcolor": "white",
             "linecolor": "white",
             "minorgridcolor": "white",
             "startlinecolor": "#2a3f5f"
            },
            "baxis": {
             "endlinecolor": "#2a3f5f",
             "gridcolor": "white",
             "linecolor": "white",
             "minorgridcolor": "white",
             "startlinecolor": "#2a3f5f"
            },
            "type": "carpet"
           }
          ],
          "choropleth": [
           {
            "colorbar": {
             "outlinewidth": 0,
             "ticks": ""
            },
            "type": "choropleth"
           }
          ],
          "contour": [
           {
            "colorbar": {
             "outlinewidth": 0,
             "ticks": ""
            },
            "colorscale": [
             [
              0,
              "#0d0887"
             ],
             [
              0.1111111111111111,
              "#46039f"
             ],
             [
              0.2222222222222222,
              "#7201a8"
             ],
             [
              0.3333333333333333,
              "#9c179e"
             ],
             [
              0.4444444444444444,
              "#bd3786"
             ],
             [
              0.5555555555555556,
              "#d8576b"
             ],
             [
              0.6666666666666666,
              "#ed7953"
             ],
             [
              0.7777777777777778,
              "#fb9f3a"
             ],
             [
              0.8888888888888888,
              "#fdca26"
             ],
             [
              1,
              "#f0f921"
             ]
            ],
            "type": "contour"
           }
          ],
          "contourcarpet": [
           {
            "colorbar": {
             "outlinewidth": 0,
             "ticks": ""
            },
            "type": "contourcarpet"
           }
          ],
          "heatmap": [
           {
            "colorbar": {
             "outlinewidth": 0,
             "ticks": ""
            },
            "colorscale": [
             [
              0,
              "#0d0887"
             ],
             [
              0.1111111111111111,
              "#46039f"
             ],
             [
              0.2222222222222222,
              "#7201a8"
             ],
             [
              0.3333333333333333,
              "#9c179e"
             ],
             [
              0.4444444444444444,
              "#bd3786"
             ],
             [
              0.5555555555555556,
              "#d8576b"
             ],
             [
              0.6666666666666666,
              "#ed7953"
             ],
             [
              0.7777777777777778,
              "#fb9f3a"
             ],
             [
              0.8888888888888888,
              "#fdca26"
             ],
             [
              1,
              "#f0f921"
             ]
            ],
            "type": "heatmap"
           }
          ],
          "heatmapgl": [
           {
            "colorbar": {
             "outlinewidth": 0,
             "ticks": ""
            },
            "colorscale": [
             [
              0,
              "#0d0887"
             ],
             [
              0.1111111111111111,
              "#46039f"
             ],
             [
              0.2222222222222222,
              "#7201a8"
             ],
             [
              0.3333333333333333,
              "#9c179e"
             ],
             [
              0.4444444444444444,
              "#bd3786"
             ],
             [
              0.5555555555555556,
              "#d8576b"
             ],
             [
              0.6666666666666666,
              "#ed7953"
             ],
             [
              0.7777777777777778,
              "#fb9f3a"
             ],
             [
              0.8888888888888888,
              "#fdca26"
             ],
             [
              1,
              "#f0f921"
             ]
            ],
            "type": "heatmapgl"
           }
          ],
          "histogram": [
           {
            "marker": {
             "pattern": {
              "fillmode": "overlay",
              "size": 10,
              "solidity": 0.2
             }
            },
            "type": "histogram"
           }
          ],
          "histogram2d": [
           {
            "colorbar": {
             "outlinewidth": 0,
             "ticks": ""
            },
            "colorscale": [
             [
              0,
              "#0d0887"
             ],
             [
              0.1111111111111111,
              "#46039f"
             ],
             [
              0.2222222222222222,
              "#7201a8"
             ],
             [
              0.3333333333333333,
              "#9c179e"
             ],
             [
              0.4444444444444444,
              "#bd3786"
             ],
             [
              0.5555555555555556,
              "#d8576b"
             ],
             [
              0.6666666666666666,
              "#ed7953"
             ],
             [
              0.7777777777777778,
              "#fb9f3a"
             ],
             [
              0.8888888888888888,
              "#fdca26"
             ],
             [
              1,
              "#f0f921"
             ]
            ],
            "type": "histogram2d"
           }
          ],
          "histogram2dcontour": [
           {
            "colorbar": {
             "outlinewidth": 0,
             "ticks": ""
            },
            "colorscale": [
             [
              0,
              "#0d0887"
             ],
             [
              0.1111111111111111,
              "#46039f"
             ],
             [
              0.2222222222222222,
              "#7201a8"
             ],
             [
              0.3333333333333333,
              "#9c179e"
             ],
             [
              0.4444444444444444,
              "#bd3786"
             ],
             [
              0.5555555555555556,
              "#d8576b"
             ],
             [
              0.6666666666666666,
              "#ed7953"
             ],
             [
              0.7777777777777778,
              "#fb9f3a"
             ],
             [
              0.8888888888888888,
              "#fdca26"
             ],
             [
              1,
              "#f0f921"
             ]
            ],
            "type": "histogram2dcontour"
           }
          ],
          "mesh3d": [
           {
            "colorbar": {
             "outlinewidth": 0,
             "ticks": ""
            },
            "type": "mesh3d"
           }
          ],
          "parcoords": [
           {
            "line": {
             "colorbar": {
              "outlinewidth": 0,
              "ticks": ""
             }
            },
            "type": "parcoords"
           }
          ],
          "pie": [
           {
            "automargin": true,
            "type": "pie"
           }
          ],
          "scatter": [
           {
            "fillpattern": {
             "fillmode": "overlay",
             "size": 10,
             "solidity": 0.2
            },
            "type": "scatter"
           }
          ],
          "scatter3d": [
           {
            "line": {
             "colorbar": {
              "outlinewidth": 0,
              "ticks": ""
             }
            },
            "marker": {
             "colorbar": {
              "outlinewidth": 0,
              "ticks": ""
             }
            },
            "type": "scatter3d"
           }
          ],
          "scattercarpet": [
           {
            "marker": {
             "colorbar": {
              "outlinewidth": 0,
              "ticks": ""
             }
            },
            "type": "scattercarpet"
           }
          ],
          "scattergeo": [
           {
            "marker": {
             "colorbar": {
              "outlinewidth": 0,
              "ticks": ""
             }
            },
            "type": "scattergeo"
           }
          ],
          "scattergl": [
           {
            "marker": {
             "colorbar": {
              "outlinewidth": 0,
              "ticks": ""
             }
            },
            "type": "scattergl"
           }
          ],
          "scattermapbox": [
           {
            "marker": {
             "colorbar": {
              "outlinewidth": 0,
              "ticks": ""
             }
            },
            "type": "scattermapbox"
           }
          ],
          "scatterpolar": [
           {
            "marker": {
             "colorbar": {
              "outlinewidth": 0,
              "ticks": ""
             }
            },
            "type": "scatterpolar"
           }
          ],
          "scatterpolargl": [
           {
            "marker": {
             "colorbar": {
              "outlinewidth": 0,
              "ticks": ""
             }
            },
            "type": "scatterpolargl"
           }
          ],
          "scatterternary": [
           {
            "marker": {
             "colorbar": {
              "outlinewidth": 0,
              "ticks": ""
             }
            },
            "type": "scatterternary"
           }
          ],
          "surface": [
           {
            "colorbar": {
             "outlinewidth": 0,
             "ticks": ""
            },
            "colorscale": [
             [
              0,
              "#0d0887"
             ],
             [
              0.1111111111111111,
              "#46039f"
             ],
             [
              0.2222222222222222,
              "#7201a8"
             ],
             [
              0.3333333333333333,
              "#9c179e"
             ],
             [
              0.4444444444444444,
              "#bd3786"
             ],
             [
              0.5555555555555556,
              "#d8576b"
             ],
             [
              0.6666666666666666,
              "#ed7953"
             ],
             [
              0.7777777777777778,
              "#fb9f3a"
             ],
             [
              0.8888888888888888,
              "#fdca26"
             ],
             [
              1,
              "#f0f921"
             ]
            ],
            "type": "surface"
           }
          ],
          "table": [
           {
            "cells": {
             "fill": {
              "color": "#EBF0F8"
             },
             "line": {
              "color": "white"
             }
            },
            "header": {
             "fill": {
              "color": "#C8D4E3"
             },
             "line": {
              "color": "white"
             }
            },
            "type": "table"
           }
          ]
         },
         "layout": {
          "annotationdefaults": {
           "arrowcolor": "#2a3f5f",
           "arrowhead": 0,
           "arrowwidth": 1
          },
          "autotypenumbers": "strict",
          "coloraxis": {
           "colorbar": {
            "outlinewidth": 0,
            "ticks": ""
           }
          },
          "colorscale": {
           "diverging": [
            [
             0,
             "#8e0152"
            ],
            [
             0.1,
             "#c51b7d"
            ],
            [
             0.2,
             "#de77ae"
            ],
            [
             0.3,
             "#f1b6da"
            ],
            [
             0.4,
             "#fde0ef"
            ],
            [
             0.5,
             "#f7f7f7"
            ],
            [
             0.6,
             "#e6f5d0"
            ],
            [
             0.7,
             "#b8e186"
            ],
            [
             0.8,
             "#7fbc41"
            ],
            [
             0.9,
             "#4d9221"
            ],
            [
             1,
             "#276419"
            ]
           ],
           "sequential": [
            [
             0,
             "#0d0887"
            ],
            [
             0.1111111111111111,
             "#46039f"
            ],
            [
             0.2222222222222222,
             "#7201a8"
            ],
            [
             0.3333333333333333,
             "#9c179e"
            ],
            [
             0.4444444444444444,
             "#bd3786"
            ],
            [
             0.5555555555555556,
             "#d8576b"
            ],
            [
             0.6666666666666666,
             "#ed7953"
            ],
            [
             0.7777777777777778,
             "#fb9f3a"
            ],
            [
             0.8888888888888888,
             "#fdca26"
            ],
            [
             1,
             "#f0f921"
            ]
           ],
           "sequentialminus": [
            [
             0,
             "#0d0887"
            ],
            [
             0.1111111111111111,
             "#46039f"
            ],
            [
             0.2222222222222222,
             "#7201a8"
            ],
            [
             0.3333333333333333,
             "#9c179e"
            ],
            [
             0.4444444444444444,
             "#bd3786"
            ],
            [
             0.5555555555555556,
             "#d8576b"
            ],
            [
             0.6666666666666666,
             "#ed7953"
            ],
            [
             0.7777777777777778,
             "#fb9f3a"
            ],
            [
             0.8888888888888888,
             "#fdca26"
            ],
            [
             1,
             "#f0f921"
            ]
           ]
          },
          "colorway": [
           "#636efa",
           "#EF553B",
           "#00cc96",
           "#ab63fa",
           "#FFA15A",
           "#19d3f3",
           "#FF6692",
           "#B6E880",
           "#FF97FF",
           "#FECB52"
          ],
          "font": {
           "color": "#2a3f5f"
          },
          "geo": {
           "bgcolor": "white",
           "lakecolor": "white",
           "landcolor": "#E5ECF6",
           "showlakes": true,
           "showland": true,
           "subunitcolor": "white"
          },
          "hoverlabel": {
           "align": "left"
          },
          "hovermode": "closest",
          "mapbox": {
           "style": "light"
          },
          "paper_bgcolor": "white",
          "plot_bgcolor": "#E5ECF6",
          "polar": {
           "angularaxis": {
            "gridcolor": "white",
            "linecolor": "white",
            "ticks": ""
           },
           "bgcolor": "#E5ECF6",
           "radialaxis": {
            "gridcolor": "white",
            "linecolor": "white",
            "ticks": ""
           }
          },
          "scene": {
           "xaxis": {
            "backgroundcolor": "#E5ECF6",
            "gridcolor": "white",
            "gridwidth": 2,
            "linecolor": "white",
            "showbackground": true,
            "ticks": "",
            "zerolinecolor": "white"
           },
           "yaxis": {
            "backgroundcolor": "#E5ECF6",
            "gridcolor": "white",
            "gridwidth": 2,
            "linecolor": "white",
            "showbackground": true,
            "ticks": "",
            "zerolinecolor": "white"
           },
           "zaxis": {
            "backgroundcolor": "#E5ECF6",
            "gridcolor": "white",
            "gridwidth": 2,
            "linecolor": "white",
            "showbackground": true,
            "ticks": "",
            "zerolinecolor": "white"
           }
          },
          "shapedefaults": {
           "line": {
            "color": "#2a3f5f"
           }
          },
          "ternary": {
           "aaxis": {
            "gridcolor": "white",
            "linecolor": "white",
            "ticks": ""
           },
           "baxis": {
            "gridcolor": "white",
            "linecolor": "white",
            "ticks": ""
           },
           "bgcolor": "#E5ECF6",
           "caxis": {
            "gridcolor": "white",
            "linecolor": "white",
            "ticks": ""
           }
          },
          "title": {
           "x": 0.05
          },
          "xaxis": {
           "automargin": true,
           "gridcolor": "white",
           "linecolor": "white",
           "ticks": "",
           "title": {
            "standoff": 15
           },
           "zerolinecolor": "white",
           "zerolinewidth": 2
          },
          "yaxis": {
           "automargin": true,
           "gridcolor": "white",
           "linecolor": "white",
           "ticks": "",
           "title": {
            "standoff": 15
           },
           "zerolinecolor": "white",
           "zerolinewidth": 2
          }
         }
        },
        "title": {
         "font": {
          "color": "#4D5663"
         }
        },
        "xaxis": {
         "gridcolor": "#E1E5ED",
         "showgrid": true,
         "tickfont": {
          "color": "#4D5663"
         },
         "title": {
          "font": {
           "color": "#4D5663"
          },
          "text": ""
         },
         "zerolinecolor": "#E1E5ED"
        },
        "yaxis": {
         "gridcolor": "#E1E5ED",
         "showgrid": true,
         "tickfont": {
          "color": "#4D5663"
         },
         "title": {
          "font": {
           "color": "#4D5663"
          },
          "text": ""
         },
         "zerolinecolor": "#E1E5ED"
        }
       }
      },
      "text/html": [
       "<div>                            <div id=\"c81fb724-4e6d-4e71-8579-ffed688728b8\" class=\"plotly-graph-div\" style=\"height:525px; width:100%;\"></div>            <script type=\"text/javascript\">                require([\"plotly\"], function(Plotly) {                    window.PLOTLYENV=window.PLOTLYENV || {};\n",
       "                    window.PLOTLYENV.BASE_URL='https://plot.ly';                                    if (document.getElementById(\"c81fb724-4e6d-4e71-8579-ffed688728b8\")) {                    Plotly.newPlot(                        \"c81fb724-4e6d-4e71-8579-ffed688728b8\",                        [{\"line\":{\"color\":\"rgba(255, 153, 51, 1.0)\",\"dash\":\"solid\",\"shape\":\"linear\",\"width\":1.3},\"mode\":\"lines\",\"name\":\"BIMBOA.MX\",\"text\":\"\",\"x\":[\"2023-01-02\",\"2023-01-03\",\"2023-01-04\",\"2023-01-05\",\"2023-01-06\",\"2023-01-09\",\"2023-01-10\",\"2023-01-11\",\"2023-01-12\",\"2023-01-13\",\"2023-01-16\",\"2023-01-17\",\"2023-01-18\",\"2023-01-19\",\"2023-01-20\",\"2023-01-23\",\"2023-01-24\",\"2023-01-25\",\"2023-01-26\",\"2023-01-27\",\"2023-01-30\",\"2023-01-31\",\"2023-02-01\",\"2023-02-02\",\"2023-02-03\",\"2023-02-07\",\"2023-02-08\",\"2023-02-09\",\"2023-02-10\",\"2023-02-13\",\"2023-02-14\",\"2023-02-15\",\"2023-02-16\",\"2023-02-17\",\"2023-02-20\",\"2023-02-21\",\"2023-02-22\",\"2023-02-23\",\"2023-02-24\",\"2023-02-27\",\"2023-02-28\",\"2023-03-01\",\"2023-03-02\",\"2023-03-03\",\"2023-03-06\",\"2023-03-07\",\"2023-03-08\",\"2023-03-09\",\"2023-03-10\",\"2023-03-13\",\"2023-03-14\",\"2023-03-15\",\"2023-03-16\",\"2023-03-17\",\"2023-03-21\",\"2023-03-22\",\"2023-03-23\",\"2023-03-24\",\"2023-03-27\",\"2023-03-28\",\"2023-03-29\",\"2023-03-30\",\"2023-03-31\",\"2023-04-03\",\"2023-04-04\",\"2023-04-05\",\"2023-04-10\",\"2023-04-11\",\"2023-04-12\",\"2023-04-13\",\"2023-04-14\",\"2023-04-17\",\"2023-04-18\",\"2023-04-19\",\"2023-04-20\",\"2023-04-21\",\"2023-04-24\",\"2023-04-25\",\"2023-04-26\",\"2023-04-27\",\"2023-04-28\",\"2023-05-02\",\"2023-05-03\",\"2023-05-04\",\"2023-05-05\",\"2023-05-08\",\"2023-05-09\",\"2023-05-10\",\"2023-05-11\",\"2023-05-12\",\"2023-05-15\",\"2023-05-16\",\"2023-05-17\",\"2023-05-18\",\"2023-05-19\",\"2023-05-22\",\"2023-05-23\",\"2023-05-24\",\"2023-05-25\",\"2023-05-26\",\"2023-05-29\",\"2023-05-30\",\"2023-05-31\",\"2023-06-01\",\"2023-06-02\",\"2023-06-05\",\"2023-06-06\",\"2023-06-07\",\"2023-06-08\",\"2023-06-09\",\"2023-06-12\",\"2023-06-13\",\"2023-06-14\",\"2023-06-15\",\"2023-06-16\",\"2023-06-19\",\"2023-06-20\",\"2023-06-21\",\"2023-06-22\",\"2023-06-23\",\"2023-06-26\",\"2023-06-27\",\"2023-06-28\",\"2023-06-29\",\"2023-06-30\",\"2023-07-03\",\"2023-07-04\",\"2023-07-05\",\"2023-07-06\",\"2023-07-07\",\"2023-07-10\",\"2023-07-11\",\"2023-07-12\",\"2023-07-13\",\"2023-07-14\",\"2023-07-17\",\"2023-07-18\",\"2023-07-19\",\"2023-07-20\",\"2023-07-21\",\"2023-07-24\",\"2023-07-25\",\"2023-07-26\",\"2023-07-27\",\"2023-07-28\",\"2023-07-31\",\"2023-08-01\",\"2023-08-02\",\"2023-08-03\",\"2023-08-04\",\"2023-08-07\",\"2023-08-08\",\"2023-08-09\",\"2023-08-10\",\"2023-08-11\",\"2023-08-14\",\"2023-08-15\",\"2023-08-16\",\"2023-08-17\",\"2023-08-18\",\"2023-08-21\",\"2023-08-22\",\"2023-08-23\",\"2023-08-24\",\"2023-08-25\",\"2023-08-28\",\"2023-08-29\",\"2023-08-30\",\"2023-08-31\",\"2023-09-01\",\"2023-09-04\",\"2023-09-05\",\"2023-09-06\",\"2023-09-07\",\"2023-09-08\",\"2023-09-11\",\"2023-09-12\",\"2023-09-13\",\"2023-09-14\",\"2023-09-15\",\"2023-09-18\",\"2023-09-19\",\"2023-09-20\",\"2023-09-21\",\"2023-09-22\",\"2023-09-25\",\"2023-09-26\",\"2023-09-27\",\"2023-09-28\",\"2023-09-29\",\"2023-10-02\",\"2023-10-03\",\"2023-10-04\",\"2023-10-05\",\"2023-10-06\",\"2023-10-09\",\"2023-10-10\",\"2023-10-11\",\"2023-10-12\",\"2023-10-13\",\"2023-10-16\",\"2023-10-17\",\"2023-10-18\",\"2023-10-19\",\"2023-10-20\",\"2023-10-23\",\"2023-10-24\",\"2023-10-25\",\"2023-10-26\",\"2023-10-27\",\"2023-10-30\",\"2023-10-31\",\"2023-11-01\",\"2023-11-03\",\"2023-11-06\",\"2023-11-07\",\"2023-11-08\"],\"y\":[84.6500015258789,84.51000213623047,85.88999938964844,87.68000030517578,88.12000274658203,90.48999786376953,90.30000305175781,90.44999694824219,91.4000015258789,91.2300033569336,92.63999938964844,91.86000061035156,91.80000305175781,92.29000091552734,92.0,95.01000213623047,95.8499984741211,95.79000091552734,95.55999755859375,94.30999755859375,94.18000030517578,93.48999786376953,94.05999755859375,93.0,93.62999725341797,91.20999908447266,90.73999786376953,90.26000213623047,89.06999969482422,89.62999725341797,88.69000244140625,89.58000183105469,88.9000015258789,87.38999938964844,88.80000305175781,87.76000213623047,86.69000244140625,87.19000244140625,88.2300033569336,89.26000213623047,87.2300033569336,87.05999755859375,88.04000091552734,88.47000122070312,87.88999938964844,86.05999755859375,86.48999786376953,86.1500015258789,\"\",85.36000061035156,85.12000274658203,85.58999633789062,86.0,88.4800033569336,87.7699966430664,87.94000244140625,87.33000183105469,87.48999786376953,88.4000015258789,88.4000015258789,89.9800033569336,91.7300033569336,90.58000183105469,90.0,91.47000122070312,90.52999877929688,91.2699966430664,92.01000213623047,90.80999755859375,91.80000305175781,90.11000061035156,92.41999816894531,91.16000366210938,90.44000244140625,93.37000274658203,92.22000122070312,93.29000091552734,92.3499984741211,91.97000122070312,93.48999786376953,96.5,95.58000183105469,95.16999816894531,97.62000274658203,98.97000122070312,97.80000305175781,97.79000091552734,98.55000305175781,96.4800033569336,96.52999877929688,96.30000305175781,94.88999938964844,92.83999633789062,94.0,92.80999755859375,90.54000091552734,90.83000183105469,92.47000122070312,93.48999786376953,93.72000122070312,93.56999969482422,92.62000274658203,94.83999633789062,93.4800033569336,92.51000213623047,92.61000061035156,92.2699966430664,91.73999786376953,93.22000122070312,94.1500015258789,92.6500015258789,91.5,93.62000274658203,92.76000213623047,92.13999938964844,91.91000366210938,91.83999633789062,92.41999816894531,91.37000274658203,91.81999969482422,90.6500015258789,91.0199966430664,90.70999908447266,91.16999816894531,91.94000244140625,93.0,92.44999694824219,90.91999816894531,88.9000015258789,88.83999633789062,87.51000213623047,89.63999938964844,88.31999969482422,89.70999908447266,89.62999725341797,88.70999908447266,90.5,87.7699966430664,87.04000091552734,88.72000122070312,86.8499984741211,87.87000274658203,87.94999694824219,86.94000244140625,88.75,87.02999877929688,83.52999877929688,83.05999755859375,87.02999877929688,89.61000061035156,89.11000061035156,87.58999633789062,89.55999755859375,89.47000122070312,88.61000061035156,88.44999694824219,89.55999755859375,90.8499984741211,89.98999786376953,88.80999755859375,88.48999786376953,88.62999725341797,89.52999877929688,88.7300033569336,86.8499984741211,87.9000015258789,88.2300033569336,87.9800033569336,83.88999938964844,84.62000274658203,84.0,83.91000366210938,84.47000122070312,83.1500015258789,83.68000030517578,84.62000274658203,83.9000015258789,82.5999984741211,82.19000244140625,81.9000015258789,82.62999725341797,82.69999694824219,83.3499984741211,82.05000305175781,82.44000244140625,83.0199966430664,85.06999969482422,85.80000305175781,84.81999969482422,83.77999877929688,82.98999786376953,81.88999938964844,81.27999877929688,82.80999755859375,82.38999938964844,81.47000122070312,82.30000305175781,79.80999755859375,78.91999816894531,78.22000122070312,78.61000061035156,78.47000122070312,77.58999633789062,75.08999633789062,73.38999938964844,74.9000015258789,73.76000213623047,75.29000091552734,75.0999984741211,72.62000274658203,70.01000213623047,73.18000030517578,75.8499984741211,78.66999816894531,82.25,80.77999877929688,80.04000091552734],\"type\":\"scatter\"},{\"line\":{\"color\":\"rgba(55, 128, 191, 1.0)\",\"dash\":\"solid\",\"shape\":\"linear\",\"width\":1.3},\"mode\":\"lines\",\"name\":\"BOLSAA.MX\",\"text\":\"\",\"x\":[\"2023-01-02\",\"2023-01-03\",\"2023-01-04\",\"2023-01-05\",\"2023-01-06\",\"2023-01-09\",\"2023-01-10\",\"2023-01-11\",\"2023-01-12\",\"2023-01-13\",\"2023-01-16\",\"2023-01-17\",\"2023-01-18\",\"2023-01-19\",\"2023-01-20\",\"2023-01-23\",\"2023-01-24\",\"2023-01-25\",\"2023-01-26\",\"2023-01-27\",\"2023-01-30\",\"2023-01-31\",\"2023-02-01\",\"2023-02-02\",\"2023-02-03\",\"2023-02-07\",\"2023-02-08\",\"2023-02-09\",\"2023-02-10\",\"2023-02-13\",\"2023-02-14\",\"2023-02-15\",\"2023-02-16\",\"2023-02-17\",\"2023-02-20\",\"2023-02-21\",\"2023-02-22\",\"2023-02-23\",\"2023-02-24\",\"2023-02-27\",\"2023-02-28\",\"2023-03-01\",\"2023-03-02\",\"2023-03-03\",\"2023-03-06\",\"2023-03-07\",\"2023-03-08\",\"2023-03-09\",\"2023-03-10\",\"2023-03-13\",\"2023-03-14\",\"2023-03-15\",\"2023-03-16\",\"2023-03-17\",\"2023-03-21\",\"2023-03-22\",\"2023-03-23\",\"2023-03-24\",\"2023-03-27\",\"2023-03-28\",\"2023-03-29\",\"2023-03-30\",\"2023-03-31\",\"2023-04-03\",\"2023-04-04\",\"2023-04-05\",\"2023-04-10\",\"2023-04-11\",\"2023-04-12\",\"2023-04-13\",\"2023-04-14\",\"2023-04-17\",\"2023-04-18\",\"2023-04-19\",\"2023-04-20\",\"2023-04-21\",\"2023-04-24\",\"2023-04-25\",\"2023-04-26\",\"2023-04-27\",\"2023-04-28\",\"2023-05-02\",\"2023-05-03\",\"2023-05-04\",\"2023-05-05\",\"2023-05-08\",\"2023-05-09\",\"2023-05-10\",\"2023-05-11\",\"2023-05-12\",\"2023-05-15\",\"2023-05-16\",\"2023-05-17\",\"2023-05-18\",\"2023-05-19\",\"2023-05-22\",\"2023-05-23\",\"2023-05-24\",\"2023-05-25\",\"2023-05-26\",\"2023-05-29\",\"2023-05-30\",\"2023-05-31\",\"2023-06-01\",\"2023-06-02\",\"2023-06-05\",\"2023-06-06\",\"2023-06-07\",\"2023-06-08\",\"2023-06-09\",\"2023-06-12\",\"2023-06-13\",\"2023-06-14\",\"2023-06-15\",\"2023-06-16\",\"2023-06-19\",\"2023-06-20\",\"2023-06-21\",\"2023-06-22\",\"2023-06-23\",\"2023-06-26\",\"2023-06-27\",\"2023-06-28\",\"2023-06-29\",\"2023-06-30\",\"2023-07-03\",\"2023-07-04\",\"2023-07-05\",\"2023-07-06\",\"2023-07-07\",\"2023-07-10\",\"2023-07-11\",\"2023-07-12\",\"2023-07-13\",\"2023-07-14\",\"2023-07-17\",\"2023-07-18\",\"2023-07-19\",\"2023-07-20\",\"2023-07-21\",\"2023-07-24\",\"2023-07-25\",\"2023-07-26\",\"2023-07-27\",\"2023-07-28\",\"2023-07-31\",\"2023-08-01\",\"2023-08-02\",\"2023-08-03\",\"2023-08-04\",\"2023-08-07\",\"2023-08-08\",\"2023-08-09\",\"2023-08-10\",\"2023-08-11\",\"2023-08-14\",\"2023-08-15\",\"2023-08-16\",\"2023-08-17\",\"2023-08-18\",\"2023-08-21\",\"2023-08-22\",\"2023-08-23\",\"2023-08-24\",\"2023-08-25\",\"2023-08-28\",\"2023-08-29\",\"2023-08-30\",\"2023-08-31\",\"2023-09-01\",\"2023-09-04\",\"2023-09-05\",\"2023-09-06\",\"2023-09-07\",\"2023-09-08\",\"2023-09-11\",\"2023-09-12\",\"2023-09-13\",\"2023-09-14\",\"2023-09-15\",\"2023-09-18\",\"2023-09-19\",\"2023-09-20\",\"2023-09-21\",\"2023-09-22\",\"2023-09-25\",\"2023-09-26\",\"2023-09-27\",\"2023-09-28\",\"2023-09-29\",\"2023-10-02\",\"2023-10-03\",\"2023-10-04\",\"2023-10-05\",\"2023-10-06\",\"2023-10-09\",\"2023-10-10\",\"2023-10-11\",\"2023-10-12\",\"2023-10-13\",\"2023-10-16\",\"2023-10-17\",\"2023-10-18\",\"2023-10-19\",\"2023-10-20\",\"2023-10-23\",\"2023-10-24\",\"2023-10-25\",\"2023-10-26\",\"2023-10-27\",\"2023-10-30\",\"2023-10-31\",\"2023-11-01\",\"2023-11-03\",\"2023-11-06\",\"2023-11-07\",\"2023-11-08\"],\"y\":[38.15999984741211,37.59000015258789,37.93000030517578,37.83000183105469,38.2599983215332,38.869998931884766,38.599998474121094,38.61000061035156,38.75,38.689998626708984,38.65999984741211,38.599998474121094,38.59000015258789,38.5099983215332,38.650001525878906,38.650001525878906,39.060001373291016,39.650001525878906,40.4900016784668,40.630001068115234,40.5099983215332,40.88999938964844,40.939998626708984,40.900001525878906,41.06999969482422,41.029998779296875,41.060001373291016,40.939998626708984,39.400001525878906,39.7599983215332,38.86000061035156,39.09000015258789,39.0,38.86000061035156,37.70000076293945,37.88999938964844,36.2599983215332,36.5,36.02000045776367,35.720001220703125,35.66999816894531,36.09000015258789,36.11000061035156,36.040000915527344,36.29999923706055,36.04999923706055,36.56999969482422,35.939998626708984,\"\",36.15999984741211,36.95000076293945,37.150001525878906,38.0,39.0099983215332,38.599998474121094,37.93000030517578,38.18000030517578,38.2400016784668,37.88999938964844,37.9900016784668,38.599998474121094,38.7599983215332,38.529998779296875,38.290000915527344,38.36000061035156,37.84000015258789,38.66999816894531,38.65999984741211,37.68000030517578,38.52000045776367,38.349998474121094,38.93000030517578,38.900001525878906,39.04999923706055,39.220001220703125,39.470001220703125,39.279998779296875,38.900001525878906,38.95000076293945,38.970001220703125,39.619998931884766,40.08000183105469,40.220001220703125,40.29999923706055,40.709999084472656,40.70000076293945,40.70000076293945,41.09000015258789,38.189998626708984,38.04999923706055,38.099998474121094,38.099998474121094,37.7400016784668,37.66999816894531,37.470001220703125,36.790000915527344,36.810001373291016,36.79999923706055,36.880001068115234,36.79999923706055,36.939998626708984,36.650001525878906,37.189998626708984,36.4900016784668,37.650001525878906,37.22999954223633,37.91999816894531,37.849998474121094,37.70000076293945,37.58000183105469,37.31999969482422,37.20000076293945,37.15999984741211,37.09000015258789,36.75,36.900001525878906,36.619998931884766,36.29999923706055,35.880001068115234,35.70000076293945,35.529998779296875,35.81999969482422,35.7599983215332,35.75,35.58000183105469,35.709999084472656,35.18000030517578,35.09000015258789,34.689998626708984,34.63999938964844,34.7599983215332,35.02000045776367,35.31999969482422,35.34000015258789,35.41999816894531,35.08000183105469,35.099998474121094,34.5,34.0,34.81999969482422,34.849998474121094,35.25,35.20000076293945,35.060001373291016,35.45000076293945,35.5,35.220001220703125,34.70000076293945,34.16999816894531,35.029998779296875,35.400001525878906,36.099998474121094,35.970001220703125,35.47999954223633,35.5,35.63999938964844,35.77000045776367,35.130001068115234,35.099998474121094,34.66999816894531,34.310001373291016,34.02000045776367,34.150001525878906,34.29999923706055,34.2400016784668,34.25,34.689998626708984,34.470001220703125,34.119998931884766,34.25,34.540000915527344,34.22999954223633,33.08000183105469,33.40999984741211,33.060001373291016,33.04999923706055,33.0,33.18000030517578,33.47999954223633,34.0,33.97999954223633,34.150001525878906,34.279998779296875,33.7400016784668,33.369998931884766,33.29999923706055,33.40999984741211,33.869998931884766,33.060001373291016,32.630001068115234,33.25,32.869998931884766,33.29999923706055,33.0,33.25,33.119998931884766,33.58000183105469,33.65999984741211,33.25,32.54999923706055,32.95000076293945,32.470001220703125,28.950000762939453,30.579999923706055,29.6299991607666,29.65999984741211,29.540000915527344,29.149999618530273,29.020000457763672,28.700000762939453,28.0,28.06999969482422,28.399999618530273,29.290000915527344,30.100000381469727,30.100000381469727,29.899999618530273],\"type\":\"scatter\"},{\"line\":{\"color\":\"rgba(50, 171, 96, 1.0)\",\"dash\":\"solid\",\"shape\":\"linear\",\"width\":1.3},\"mode\":\"lines\",\"name\":\"GENIUS21.MX\",\"text\":\"\",\"x\":[\"2023-01-02\",\"2023-01-03\",\"2023-01-04\",\"2023-01-05\",\"2023-01-06\",\"2023-01-09\",\"2023-01-10\",\"2023-01-11\",\"2023-01-12\",\"2023-01-13\",\"2023-01-16\",\"2023-01-17\",\"2023-01-18\",\"2023-01-19\",\"2023-01-20\",\"2023-01-23\",\"2023-01-24\",\"2023-01-25\",\"2023-01-26\",\"2023-01-27\",\"2023-01-30\",\"2023-01-31\",\"2023-02-01\",\"2023-02-02\",\"2023-02-03\",\"2023-02-07\",\"2023-02-08\",\"2023-02-09\",\"2023-02-10\",\"2023-02-13\",\"2023-02-14\",\"2023-02-15\",\"2023-02-16\",\"2023-02-17\",\"2023-02-20\",\"2023-02-21\",\"2023-02-22\",\"2023-02-23\",\"2023-02-24\",\"2023-02-27\",\"2023-02-28\",\"2023-03-01\",\"2023-03-02\",\"2023-03-03\",\"2023-03-06\",\"2023-03-07\",\"2023-03-08\",\"2023-03-09\",\"2023-03-10\",\"2023-03-13\",\"2023-03-14\",\"2023-03-15\",\"2023-03-16\",\"2023-03-17\",\"2023-03-21\",\"2023-03-22\",\"2023-03-23\",\"2023-03-24\",\"2023-03-27\",\"2023-03-28\",\"2023-03-29\",\"2023-03-30\",\"2023-03-31\",\"2023-04-03\",\"2023-04-04\",\"2023-04-05\",\"2023-04-10\",\"2023-04-11\",\"2023-04-12\",\"2023-04-13\",\"2023-04-14\",\"2023-04-17\",\"2023-04-18\",\"2023-04-19\",\"2023-04-20\",\"2023-04-21\",\"2023-04-24\",\"2023-04-25\",\"2023-04-26\",\"2023-04-27\",\"2023-04-28\",\"2023-05-02\",\"2023-05-03\",\"2023-05-04\",\"2023-05-05\",\"2023-05-08\",\"2023-05-09\",\"2023-05-10\",\"2023-05-11\",\"2023-05-12\",\"2023-05-15\",\"2023-05-16\",\"2023-05-17\",\"2023-05-18\",\"2023-05-19\",\"2023-05-22\",\"2023-05-23\",\"2023-05-24\",\"2023-05-25\",\"2023-05-26\",\"2023-05-29\",\"2023-05-30\",\"2023-05-31\",\"2023-06-01\",\"2023-06-02\",\"2023-06-05\",\"2023-06-06\",\"2023-06-07\",\"2023-06-08\",\"2023-06-09\",\"2023-06-12\",\"2023-06-13\",\"2023-06-14\",\"2023-06-15\",\"2023-06-16\",\"2023-06-19\",\"2023-06-20\",\"2023-06-21\",\"2023-06-22\",\"2023-06-23\",\"2023-06-26\",\"2023-06-27\",\"2023-06-28\",\"2023-06-29\",\"2023-06-30\",\"2023-07-03\",\"2023-07-04\",\"2023-07-05\",\"2023-07-06\",\"2023-07-07\",\"2023-07-10\",\"2023-07-11\",\"2023-07-12\",\"2023-07-13\",\"2023-07-14\",\"2023-07-17\",\"2023-07-18\",\"2023-07-19\",\"2023-07-20\",\"2023-07-21\",\"2023-07-24\",\"2023-07-25\",\"2023-07-26\",\"2023-07-27\",\"2023-07-28\",\"2023-07-31\",\"2023-08-01\",\"2023-08-02\",\"2023-08-03\",\"2023-08-04\",\"2023-08-07\",\"2023-08-08\",\"2023-08-09\",\"2023-08-10\",\"2023-08-11\",\"2023-08-14\",\"2023-08-15\",\"2023-08-16\",\"2023-08-17\",\"2023-08-18\",\"2023-08-21\",\"2023-08-22\",\"2023-08-23\",\"2023-08-24\",\"2023-08-25\",\"2023-08-28\",\"2023-08-29\",\"2023-08-30\",\"2023-08-31\",\"2023-09-01\",\"2023-09-04\",\"2023-09-05\",\"2023-09-06\",\"2023-09-07\",\"2023-09-08\",\"2023-09-11\",\"2023-09-12\",\"2023-09-13\",\"2023-09-14\",\"2023-09-15\",\"2023-09-18\",\"2023-09-19\",\"2023-09-20\",\"2023-09-21\",\"2023-09-22\",\"2023-09-25\",\"2023-09-26\",\"2023-09-27\",\"2023-09-28\",\"2023-09-29\",\"2023-10-02\",\"2023-10-03\",\"2023-10-04\",\"2023-10-05\",\"2023-10-06\",\"2023-10-09\",\"2023-10-10\",\"2023-10-11\",\"2023-10-12\",\"2023-10-13\",\"2023-10-16\",\"2023-10-17\",\"2023-10-18\",\"2023-10-19\",\"2023-10-20\",\"2023-10-23\",\"2023-10-24\",\"2023-10-25\",\"2023-10-26\",\"2023-10-27\",\"2023-10-30\",\"2023-10-31\",\"2023-11-01\",\"2023-11-03\",\"2023-11-06\",\"2023-11-07\",\"2023-11-08\"],\"y\":[37.22999954223633,36.79999923706055,37.45000076293945,36.86000061035156,37.72999954223633,37.90999984741211,38.08000183105469,38.400001525878906,38.470001220703125,38.47999954223633,38.5099983215332,38.41999816894531,38.560001373291016,38.470001220703125,39.34000015258789,40.119998931884766,40.20000076293945,40.209999084472656,40.88999938964844,41.09000015258789,40.29999923706055,40.77000045776367,41.08000183105469,42.0,42.29999923706055,42.56999969482422,42.209999084472656,41.650001525878906,40.88999938964844,41.290000915527344,41.41999816894531,41.93000030517578,41.06999969482422,40.130001068115234,40.20000076293945,39.47999954223633,39.939998626708984,40.439998626708984,39.95000076293945,40.09000015258789,39.95000076293945,39.2599983215332,39.630001068115234,40.15999984741211,40.34000015258789,40.060001373291016,40.0,40.0,39.880001068115234,40.9900016784668,40.97999954223633,41.65999984741211,42.13999938964844,42.349998474121094,42.41999816894531,41.970001220703125,42.810001373291016,42.2599983215332,41.779998779296875,41.7599983215332,42.08000183105469,42.4900016784668,42.88999938964844,42.91999816894531,42.959999084472656,42.95000076293945,42.83000183105469,42.65999984741211,41.970001220703125,42.56999969482422,42.650001525878906,42.810001373291016,42.939998626708984,42.849998474121094,42.41999816894531,42.310001373291016,42.11000061035156,41.310001373291016,41.68000030517578,42.45000076293945,42.630001068115234,42.02000045776367,41.720001220703125,41.540000915527344,42.25,42.599998474121094,42.279998779296875,42.13999938964844,42.380001068115234,42.209999084472656,42.18000030517578,42.310001373291016,43.20000076293945,44.040000915527344,43.869998931884766,44.34000015258789,43.83000183105469,43.529998779296875,45.66999816894531,46.66999816894531,46.58000183105469,46.7599983215332,46.400001525878906,46.959999084472656,47.27000045776367,47.0099983215332,46.86000061035156,45.790000915527344,46.369998931884766,46.09000015258789,47.29999923706055,47.459999084472656,48.15999984741211,48.65999984741211,48.220001220703125,48.290000915527344,48.68000030517578,47.77000045776367,48.459999084472656,47.880001068115234,46.97999954223633,47.95000076293945,\"\",47.95000076293945,48.790000915527344,48.630001068115234,48.63999938964844,48.61000061035156,48.880001068115234,48.54999923706055,48.38999938964844,48.72999954223633,48.689998626708984,49.599998474121094,49.16999816894531,49.84000015258789,50.08000183105469,49.90999984741211,49.33000183105469,49.27000045776367,49.040000915527344,49.790000915527344,49.380001068115234,49.63999938964844,49.97999954223633,50.16999816894531,50.72999954223633,49.45000076293945,50.119998931884766,49.08000183105469,49.349998474121094,48.900001525878906,47.790000915527344,47.7599983215332,47.09000015258789,48.36000061035156,48.09000015258789,47.61000061035156,47.09000015258789,46.77000045776367,48.849998474121094,48.11000061035156,48.70000076293945,47.90999984741211,47.689998626708984,48.279998779296875,49.529998779296875,49.7400016784668,51.04999923706055,50.65999984741211,50.810001373291016,51.790000915527344,51.61000061035156,51.029998779296875,51.099998474121094,50.58000183105469,49.75,49.83000183105469,50.04999923706055,48.66999816894531,48.869998931884766,48.63999938964844,47.790000915527344,47.220001220703125,47.15999984741211,48.11000061035156,47.689998626708984,48.189998626708984,48.45000076293945,48.08000183105469,49.529998779296875,49.400001525878906,50.119998931884766,50.97999954223633,51.90999984741211,51.959999084472656,51.33000183105469,51.38999938964844,51.66999816894531,50.88999938964844,51.08000183105469,50.869998931884766,50.400001525878906,51.400001525878906,50.290000915527344,50.79999923706055,51.41999816894531,50.2599983215332,48.5099983215332,48.72999954223633,49.470001220703125,49.560001373291016,50.36000061035156,50.880001068115234,51.52000045776367,51.720001220703125,52.310001373291016],\"type\":\"scatter\"},{\"line\":{\"color\":\"rgba(128, 0, 128, 1.0)\",\"dash\":\"solid\",\"shape\":\"linear\",\"width\":1.3},\"mode\":\"lines\",\"name\":\"HERDEZ.MX\",\"text\":\"\",\"x\":[\"2023-01-02\",\"2023-01-03\",\"2023-01-04\",\"2023-01-05\",\"2023-01-06\",\"2023-01-09\",\"2023-01-10\",\"2023-01-11\",\"2023-01-12\",\"2023-01-13\",\"2023-01-16\",\"2023-01-17\",\"2023-01-18\",\"2023-01-19\",\"2023-01-20\",\"2023-01-23\",\"2023-01-24\",\"2023-01-25\",\"2023-01-26\",\"2023-01-27\",\"2023-01-30\",\"2023-01-31\",\"2023-02-01\",\"2023-02-02\",\"2023-02-03\",\"2023-02-07\",\"2023-02-08\",\"2023-02-09\",\"2023-02-10\",\"2023-02-13\",\"2023-02-14\",\"2023-02-15\",\"2023-02-16\",\"2023-02-17\",\"2023-02-20\",\"2023-02-21\",\"2023-02-22\",\"2023-02-23\",\"2023-02-24\",\"2023-02-27\",\"2023-02-28\",\"2023-03-01\",\"2023-03-02\",\"2023-03-03\",\"2023-03-06\",\"2023-03-07\",\"2023-03-08\",\"2023-03-09\",\"2023-03-10\",\"2023-03-13\",\"2023-03-14\",\"2023-03-15\",\"2023-03-16\",\"2023-03-17\",\"2023-03-21\",\"2023-03-22\",\"2023-03-23\",\"2023-03-24\",\"2023-03-27\",\"2023-03-28\",\"2023-03-29\",\"2023-03-30\",\"2023-03-31\",\"2023-04-03\",\"2023-04-04\",\"2023-04-05\",\"2023-04-10\",\"2023-04-11\",\"2023-04-12\",\"2023-04-13\",\"2023-04-14\",\"2023-04-17\",\"2023-04-18\",\"2023-04-19\",\"2023-04-20\",\"2023-04-21\",\"2023-04-24\",\"2023-04-25\",\"2023-04-26\",\"2023-04-27\",\"2023-04-28\",\"2023-05-02\",\"2023-05-03\",\"2023-05-04\",\"2023-05-05\",\"2023-05-08\",\"2023-05-09\",\"2023-05-10\",\"2023-05-11\",\"2023-05-12\",\"2023-05-15\",\"2023-05-16\",\"2023-05-17\",\"2023-05-18\",\"2023-05-19\",\"2023-05-22\",\"2023-05-23\",\"2023-05-24\",\"2023-05-25\",\"2023-05-26\",\"2023-05-29\",\"2023-05-30\",\"2023-05-31\",\"2023-06-01\",\"2023-06-02\",\"2023-06-05\",\"2023-06-06\",\"2023-06-07\",\"2023-06-08\",\"2023-06-09\",\"2023-06-12\",\"2023-06-13\",\"2023-06-14\",\"2023-06-15\",\"2023-06-16\",\"2023-06-19\",\"2023-06-20\",\"2023-06-21\",\"2023-06-22\",\"2023-06-23\",\"2023-06-26\",\"2023-06-27\",\"2023-06-28\",\"2023-06-29\",\"2023-06-30\",\"2023-07-03\",\"2023-07-04\",\"2023-07-05\",\"2023-07-06\",\"2023-07-07\",\"2023-07-10\",\"2023-07-11\",\"2023-07-12\",\"2023-07-13\",\"2023-07-14\",\"2023-07-17\",\"2023-07-18\",\"2023-07-19\",\"2023-07-20\",\"2023-07-21\",\"2023-07-24\",\"2023-07-25\",\"2023-07-26\",\"2023-07-27\",\"2023-07-28\",\"2023-07-31\",\"2023-08-01\",\"2023-08-02\",\"2023-08-03\",\"2023-08-04\",\"2023-08-07\",\"2023-08-08\",\"2023-08-09\",\"2023-08-10\",\"2023-08-11\",\"2023-08-14\",\"2023-08-15\",\"2023-08-16\",\"2023-08-17\",\"2023-08-18\",\"2023-08-21\",\"2023-08-22\",\"2023-08-23\",\"2023-08-24\",\"2023-08-25\",\"2023-08-28\",\"2023-08-29\",\"2023-08-30\",\"2023-08-31\",\"2023-09-01\",\"2023-09-04\",\"2023-09-05\",\"2023-09-06\",\"2023-09-07\",\"2023-09-08\",\"2023-09-11\",\"2023-09-12\",\"2023-09-13\",\"2023-09-14\",\"2023-09-15\",\"2023-09-18\",\"2023-09-19\",\"2023-09-20\",\"2023-09-21\",\"2023-09-22\",\"2023-09-25\",\"2023-09-26\",\"2023-09-27\",\"2023-09-28\",\"2023-09-29\",\"2023-10-02\",\"2023-10-03\",\"2023-10-04\",\"2023-10-05\",\"2023-10-06\",\"2023-10-09\",\"2023-10-10\",\"2023-10-11\",\"2023-10-12\",\"2023-10-13\",\"2023-10-16\",\"2023-10-17\",\"2023-10-18\",\"2023-10-19\",\"2023-10-20\",\"2023-10-23\",\"2023-10-24\",\"2023-10-25\",\"2023-10-26\",\"2023-10-27\",\"2023-10-30\",\"2023-10-31\",\"2023-11-01\",\"2023-11-03\",\"2023-11-06\",\"2023-11-07\",\"2023-11-08\"],\"y\":[43.029998779296875,42.7400016784668,43.22999954223633,43.34000015258789,43.47999954223633,43.83000183105469,43.150001525878906,43.06999969482422,42.04999923706055,42.560001373291016,43.15999984741211,43.09000015258789,43.88999938964844,44.5,44.130001068115234,44.20000076293945,43.79999923706055,43.75,43.650001525878906,44.81999969482422,42.470001220703125,45.59000015258789,45.0099983215332,45.0,44.90999984741211,43.56999969482422,45.0,45.290000915527344,46.0099983215332,46.47999954223633,45.79999923706055,45.5,46.0,45.2599983215332,45.79999923706055,44.790000915527344,43.97999954223633,44.58000183105469,44.25,44.02000045776367,43.400001525878906,44.4900016784668,44.7400016784668,46.43000030517578,47.0,46.33000183105469,46.0,46.459999084472656,\"\",45.79999923706055,44.72999954223633,45.56999969482422,45.7400016784668,45.0,44.040000915527344,44.70000076293945,45.09000015258789,44.77000045776367,45.72999954223633,46.25,46.25,45.040000915527344,46.0,45.5,45.15999984741211,45.0,46.93000030517578,46.47999954223633,45.54999923706055,46.59000015258789,45.02000045776367,45.41999816894531,45.040000915527344,45.029998779296875,45.79999923706055,46.79999923706055,47.79999923706055,47.349998474121094,47.630001068115234,47.95000076293945,47.630001068115234,46.58000183105469,47.58000183105469,47.029998779296875,46.63999938964844,47.029998779296875,47.25,47.86000061035156,48.529998779296875,47.869998931884766,48.2400016784668,47.220001220703125,47.099998474121094,47.900001525878906,47.97999954223633,47.22999954223633,46.0,48.0,46.27000045776367,44.720001220703125,44.369998931884766,43.290000915527344,43.95000076293945,44.61000061035156,44.59000015258789,43.52000045776367,43.369998931884766,44.099998474121094,44.79999923706055,46.529998779296875,46.0,46.04999923706055,47.0,46.75,46.29999923706055,46.29999923706055,47.189998626708984,46.099998474121094,45.29999923706055,44.0099983215332,43.029998779296875,45.4900016784668,45.470001220703125,45.75,44.220001220703125,45.15999984741211,44.81999969482422,46.08000183105469,44.5,47.970001220703125,46.54999923706055,47.619998931884766,46.54999923706055,48.290000915527344,47.630001068115234,48.20000076293945,47.79999923706055,47.810001373291016,47.77000045776367,48.09000015258789,47.709999084472656,48.54999923706055,48.689998626708984,47.11000061035156,47.20000076293945,49.22999954223633,48.5,46.0,46.20000076293945,47.189998626708984,47.72999954223633,47.2400016784668,46.720001220703125,46.33000183105469,44.869998931884766,44.68000030517578,44.56999969482422,43.5,41.86000061035156,41.83000183105469,40.349998474121094,40.369998931884766,40.900001525878906,40.56999969482422,39.86000061035156,39.7400016784668,39.70000076293945,40.290000915527344,41.900001525878906,43.20000076293945,42.88999938964844,42.810001373291016,43.43000030517578,43.0,42.689998626708984,42.5,42.88999938964844,41.0,40.9900016784668,40.22999954223633,40.0099983215332,40.349998474121094,41.54999923706055,40.11000061035156,40.4900016784668,40.90999984741211,41.220001220703125,41.599998474121094,41.83000183105469,40.619998931884766,40.61000061035156,40.04999923706055,39.38999938964844,39.56999969482422,39.58000183105469,38.65999984741211,39.0,38.880001068115234,38.209999084472656,37.29999923706055,38.0,38.2599983215332,38.27000045776367,39.0,39.5099983215332,40.75,40.81999969482422,41.18000030517578,40.95000076293945,41.40999984741211,40.150001525878906,40.97999954223633,40.849998474121094,41.0,40.72999954223633,41.150001525878906,40.720001220703125],\"type\":\"scatter\"},{\"line\":{\"color\":\"rgba(219, 64, 82, 1.0)\",\"dash\":\"solid\",\"shape\":\"linear\",\"width\":1.3},\"mode\":\"lines\",\"name\":\"IVVPESOISHRS.MX\",\"text\":\"\",\"x\":[\"2023-01-02\",\"2023-01-03\",\"2023-01-04\",\"2023-01-05\",\"2023-01-06\",\"2023-01-09\",\"2023-01-10\",\"2023-01-11\",\"2023-01-12\",\"2023-01-13\",\"2023-01-16\",\"2023-01-17\",\"2023-01-18\",\"2023-01-19\",\"2023-01-20\",\"2023-01-23\",\"2023-01-24\",\"2023-01-25\",\"2023-01-26\",\"2023-01-27\",\"2023-01-30\",\"2023-01-31\",\"2023-02-01\",\"2023-02-02\",\"2023-02-03\",\"2023-02-07\",\"2023-02-08\",\"2023-02-09\",\"2023-02-10\",\"2023-02-13\",\"2023-02-14\",\"2023-02-15\",\"2023-02-16\",\"2023-02-17\",\"2023-02-20\",\"2023-02-21\",\"2023-02-22\",\"2023-02-23\",\"2023-02-24\",\"2023-02-27\",\"2023-02-28\",\"2023-03-01\",\"2023-03-02\",\"2023-03-03\",\"2023-03-06\",\"2023-03-07\",\"2023-03-08\",\"2023-03-09\",\"2023-03-10\",\"2023-03-13\",\"2023-03-14\",\"2023-03-15\",\"2023-03-16\",\"2023-03-17\",\"2023-03-21\",\"2023-03-22\",\"2023-03-23\",\"2023-03-24\",\"2023-03-27\",\"2023-03-28\",\"2023-03-29\",\"2023-03-30\",\"2023-03-31\",\"2023-04-03\",\"2023-04-04\",\"2023-04-05\",\"2023-04-10\",\"2023-04-11\",\"2023-04-12\",\"2023-04-13\",\"2023-04-14\",\"2023-04-17\",\"2023-04-18\",\"2023-04-19\",\"2023-04-20\",\"2023-04-21\",\"2023-04-24\",\"2023-04-25\",\"2023-04-26\",\"2023-04-27\",\"2023-04-28\",\"2023-05-02\",\"2023-05-03\",\"2023-05-04\",\"2023-05-05\",\"2023-05-08\",\"2023-05-09\",\"2023-05-10\",\"2023-05-11\",\"2023-05-12\",\"2023-05-15\",\"2023-05-16\",\"2023-05-17\",\"2023-05-18\",\"2023-05-19\",\"2023-05-22\",\"2023-05-23\",\"2023-05-24\",\"2023-05-25\",\"2023-05-26\",\"2023-05-29\",\"2023-05-30\",\"2023-05-31\",\"2023-06-01\",\"2023-06-02\",\"2023-06-05\",\"2023-06-06\",\"2023-06-07\",\"2023-06-08\",\"2023-06-09\",\"2023-06-12\",\"2023-06-13\",\"2023-06-14\",\"2023-06-15\",\"2023-06-16\",\"2023-06-19\",\"2023-06-20\",\"2023-06-21\",\"2023-06-22\",\"2023-06-23\",\"2023-06-26\",\"2023-06-27\",\"2023-06-28\",\"2023-06-29\",\"2023-06-30\",\"2023-07-03\",\"2023-07-04\",\"2023-07-05\",\"2023-07-06\",\"2023-07-07\",\"2023-07-10\",\"2023-07-11\",\"2023-07-12\",\"2023-07-13\",\"2023-07-14\",\"2023-07-17\",\"2023-07-18\",\"2023-07-19\",\"2023-07-20\",\"2023-07-21\",\"2023-07-24\",\"2023-07-25\",\"2023-07-26\",\"2023-07-27\",\"2023-07-28\",\"2023-07-31\",\"2023-08-01\",\"2023-08-02\",\"2023-08-03\",\"2023-08-04\",\"2023-08-07\",\"2023-08-08\",\"2023-08-09\",\"2023-08-10\",\"2023-08-11\",\"2023-08-14\",\"2023-08-15\",\"2023-08-16\",\"2023-08-17\",\"2023-08-18\",\"2023-08-21\",\"2023-08-22\",\"2023-08-23\",\"2023-08-24\",\"2023-08-25\",\"2023-08-28\",\"2023-08-29\",\"2023-08-30\",\"2023-08-31\",\"2023-09-01\",\"2023-09-04\",\"2023-09-05\",\"2023-09-06\",\"2023-09-07\",\"2023-09-08\",\"2023-09-11\",\"2023-09-12\",\"2023-09-13\",\"2023-09-14\",\"2023-09-15\",\"2023-09-18\",\"2023-09-19\",\"2023-09-20\",\"2023-09-21\",\"2023-09-22\",\"2023-09-25\",\"2023-09-26\",\"2023-09-27\",\"2023-09-28\",\"2023-09-29\",\"2023-10-02\",\"2023-10-03\",\"2023-10-04\",\"2023-10-05\",\"2023-10-06\",\"2023-10-09\",\"2023-10-10\",\"2023-10-11\",\"2023-10-12\",\"2023-10-13\",\"2023-10-16\",\"2023-10-17\",\"2023-10-18\",\"2023-10-19\",\"2023-10-20\",\"2023-10-23\",\"2023-10-24\",\"2023-10-25\",\"2023-10-26\",\"2023-10-27\",\"2023-10-30\",\"2023-10-31\",\"2023-11-01\",\"2023-11-03\",\"2023-11-06\",\"2023-11-07\",\"2023-11-08\"],\"y\":[\"\",70.3499984741211,70.7699966430664,70.33999633789062,72.0,72.1500015258789,72.30000305175781,73.0999984741211,73.69000244140625,73.91999816894531,73.93000030517578,73.76000213623047,72.80000305175781,72.51000213623047,73.26000213623047,74.62999725341797,74.16999816894531,74.22000122070312,75.0,75.62000274658203,74.51000213623047,75.16999816894531,76.43000030517578,76.66999816894531,76.12000274658203,76.54000091552734,75.80999755859375,75.06999969482422,75.29000091552734,76.04000091552734,76.3499984741211,76.33999633789062,75.72000122070312,75.18000030517578,74.43000030517578,74.0199966430664,73.66000366210938,74.23999786376953,73.44999694824219,73.63999938964844,73.63999938964844,73.08000183105469,73.16000366210938,74.19999694824219,74.5,73.30000305175781,73.29000091552734,72.48999786376953,70.80999755859375,71.19000244140625,71.62000274658203,71.38999938964844,73.0,72.05000305175781,73.75,73.72000122070312,72.87999725341797,73.19000244140625,73.47000122070312,73.05000305175781,74.13999938964844,74.63999938964844,75.5199966430664,75.95999908447266,75.05000305175781,75.12999725341797,75.37999725341797,75.52999877929688,75.16000366210938,76.12999725341797,75.93000030517578,76.16999816894531,76.36000061035156,76.43000030517578,75.8499984741211,76.05000305175781,76.08999633789062,75.16999816894531,74.80000305175781,76.26000213623047,76.80999755859375,76.01000213623047,75.6500015258789,74.95999908447266,76.22000122070312,76.25,76.06999969482422,76.12000274658203,76.2300033569336,75.9800033569336,76.31999969482422,76.12000274658203,77.0,77.02999877929688,77.47000122070312,77.66000366210938,76.8499984741211,76.08999633789062,76.97000122070312,77.94000244140625,\"\",78.1500015258789,77.72000122070312,78.13999938964844,78.98999786376953,78.87000274658203,78.93000030517578,78.80999755859375,79.29000091552734,79.43000030517578,80.0,80.6500015258789,80.62999725341797,81.66999816894531,81.7300033569336,81.5999984741211,81.0999984741211,81.0,80.79000091552734,80.5,80.4000015258789,81.04000091552734,80.94000244140625,81.41999816894531,82.5,82.58999633789062,82.69999694824219,81.44999694824219,80.97000122070312,81.2699966430664,80.80000305175781,81.30000305175781,82.0,82.55000305175781,82.55000305175781,83.0,83.5199966430664,83.69999694824219,83.19999694824219,83.25,83.4800033569336,84.08999633789062,83.62999725341797,83.43000030517578,84.0999984741211,84.25,84.04000091552734,82.1500015258789,82.1500015258789,81.70999908447266,82.37000274658203,81.68000030517578,81.86000061035156,81.47000122070312,81.4000015258789,81.7699966430664,81.41000366210938,80.4000015258789,79.70999908447266,79.9000015258789,80.33999633789062,80.30000305175781,81.19000244140625,\"\",80.66000366210938,81.02999877929688,82.19000244140625,82.63999938964844,82.97000122070312,82.69999694824219,82.72000122070312,82.58000183105469,81.95999908447266,81.5999984741211,81.86000061035156,82.27999877929688,82.08000183105469,81.97000122070312,82.81999969482422,\"\",82.12000274658203,81.62999725341797,82.0,80.0,79.80000305175781,79.5999984741211,78.6500015258789,78.6500015258789,79.1500015258789,78.88999938964844,78.5999984741211,77.88999938964844,78.66999816894531,78.37000274658203,79.75,80.20999908447266,80.5999984741211,80.54000091552734,80.2699966430664,79.94000244140625,80.94999694824219,80.5999984741211,79.80000305175781,80.0999984741211,78.55999755859375,78.41000366210938,78.6500015258789,\"\",76.97000122070312,76.13999938964844,76.93000030517578,77.23999786376953,78.41999816894531,80.62999725341797,80.5999984741211,81.05000305175781,81.0],\"type\":\"scatter\"},{\"line\":{\"color\":\"rgba(0, 128, 128, 1.0)\",\"dash\":\"solid\",\"shape\":\"linear\",\"width\":1.3},\"mode\":\"lines\",\"name\":\"WALMEX.MX\",\"text\":\"\",\"x\":[\"2023-01-02\",\"2023-01-03\",\"2023-01-04\",\"2023-01-05\",\"2023-01-06\",\"2023-01-09\",\"2023-01-10\",\"2023-01-11\",\"2023-01-12\",\"2023-01-13\",\"2023-01-16\",\"2023-01-17\",\"2023-01-18\",\"2023-01-19\",\"2023-01-20\",\"2023-01-23\",\"2023-01-24\",\"2023-01-25\",\"2023-01-26\",\"2023-01-27\",\"2023-01-30\",\"2023-01-31\",\"2023-02-01\",\"2023-02-02\",\"2023-02-03\",\"2023-02-07\",\"2023-02-08\",\"2023-02-09\",\"2023-02-10\",\"2023-02-13\",\"2023-02-14\",\"2023-02-15\",\"2023-02-16\",\"2023-02-17\",\"2023-02-20\",\"2023-02-21\",\"2023-02-22\",\"2023-02-23\",\"2023-02-24\",\"2023-02-27\",\"2023-02-28\",\"2023-03-01\",\"2023-03-02\",\"2023-03-03\",\"2023-03-06\",\"2023-03-07\",\"2023-03-08\",\"2023-03-09\",\"2023-03-10\",\"2023-03-13\",\"2023-03-14\",\"2023-03-15\",\"2023-03-16\",\"2023-03-17\",\"2023-03-21\",\"2023-03-22\",\"2023-03-23\",\"2023-03-24\",\"2023-03-27\",\"2023-03-28\",\"2023-03-29\",\"2023-03-30\",\"2023-03-31\",\"2023-04-03\",\"2023-04-04\",\"2023-04-05\",\"2023-04-10\",\"2023-04-11\",\"2023-04-12\",\"2023-04-13\",\"2023-04-14\",\"2023-04-17\",\"2023-04-18\",\"2023-04-19\",\"2023-04-20\",\"2023-04-21\",\"2023-04-24\",\"2023-04-25\",\"2023-04-26\",\"2023-04-27\",\"2023-04-28\",\"2023-05-02\",\"2023-05-03\",\"2023-05-04\",\"2023-05-05\",\"2023-05-08\",\"2023-05-09\",\"2023-05-10\",\"2023-05-11\",\"2023-05-12\",\"2023-05-15\",\"2023-05-16\",\"2023-05-17\",\"2023-05-18\",\"2023-05-19\",\"2023-05-22\",\"2023-05-23\",\"2023-05-24\",\"2023-05-25\",\"2023-05-26\",\"2023-05-29\",\"2023-05-30\",\"2023-05-31\",\"2023-06-01\",\"2023-06-02\",\"2023-06-05\",\"2023-06-06\",\"2023-06-07\",\"2023-06-08\",\"2023-06-09\",\"2023-06-12\",\"2023-06-13\",\"2023-06-14\",\"2023-06-15\",\"2023-06-16\",\"2023-06-19\",\"2023-06-20\",\"2023-06-21\",\"2023-06-22\",\"2023-06-23\",\"2023-06-26\",\"2023-06-27\",\"2023-06-28\",\"2023-06-29\",\"2023-06-30\",\"2023-07-03\",\"2023-07-04\",\"2023-07-05\",\"2023-07-06\",\"2023-07-07\",\"2023-07-10\",\"2023-07-11\",\"2023-07-12\",\"2023-07-13\",\"2023-07-14\",\"2023-07-17\",\"2023-07-18\",\"2023-07-19\",\"2023-07-20\",\"2023-07-21\",\"2023-07-24\",\"2023-07-25\",\"2023-07-26\",\"2023-07-27\",\"2023-07-28\",\"2023-07-31\",\"2023-08-01\",\"2023-08-02\",\"2023-08-03\",\"2023-08-04\",\"2023-08-07\",\"2023-08-08\",\"2023-08-09\",\"2023-08-10\",\"2023-08-11\",\"2023-08-14\",\"2023-08-15\",\"2023-08-16\",\"2023-08-17\",\"2023-08-18\",\"2023-08-21\",\"2023-08-22\",\"2023-08-23\",\"2023-08-24\",\"2023-08-25\",\"2023-08-28\",\"2023-08-29\",\"2023-08-30\",\"2023-08-31\",\"2023-09-01\",\"2023-09-04\",\"2023-09-05\",\"2023-09-06\",\"2023-09-07\",\"2023-09-08\",\"2023-09-11\",\"2023-09-12\",\"2023-09-13\",\"2023-09-14\",\"2023-09-15\",\"2023-09-18\",\"2023-09-19\",\"2023-09-20\",\"2023-09-21\",\"2023-09-22\",\"2023-09-25\",\"2023-09-26\",\"2023-09-27\",\"2023-09-28\",\"2023-09-29\",\"2023-10-02\",\"2023-10-03\",\"2023-10-04\",\"2023-10-05\",\"2023-10-06\",\"2023-10-09\",\"2023-10-10\",\"2023-10-11\",\"2023-10-12\",\"2023-10-13\",\"2023-10-16\",\"2023-10-17\",\"2023-10-18\",\"2023-10-19\",\"2023-10-20\",\"2023-10-23\",\"2023-10-24\",\"2023-10-25\",\"2023-10-26\",\"2023-10-27\",\"2023-10-30\",\"2023-10-31\",\"2023-11-01\",\"2023-11-03\",\"2023-11-06\",\"2023-11-07\",\"2023-11-08\"],\"y\":[69.1500015258789,69.25,70.48999786376953,70.41000366210938,72.44999694824219,72.37000274658203,72.43000030517578,72.72000122070312,73.0,73.30000305175781,71.91000366210938,71.7699966430664,71.76000213623047,72.80000305175781,73.91000366210938,74.54000091552734,75.30000305175781,76.1500015258789,75.94000244140625,75.4000015258789,75.58000183105469,73.55000305175781,74.87999725341797,72.9000015258789,72.83999633789062,72.38999938964844,71.98999786376953,71.19999694824219,71.12999725341797,71.4000015258789,70.70999908447266,71.44000244140625,71.23999786376953,70.70999908447266,70.4000015258789,70.0999984741211,72.1500015258789,70.8499984741211,70.9000015258789,71.88999938964844,72.0999984741211,71.12999725341797,71.25,72.38999938964844,73.0199966430664,72.51000213623047,72.5,72.04000091552734,\"\",74.0199966430664,73.69000244140625,74.2300033569336,73.5199966430664,71.19999694824219,72.33999633789062,72.52999877929688,72.4800033569336,73.0,73.33000183105469,73.9000015258789,73.20999908447266,73.4000015258789,72.0,72.30000305175781,71.56999969482422,70.43000030517578,70.62999725341797,71.20999908447266,71.20999908447266,70.6500015258789,70.63999938964844,70.31999969482422,70.16999816894531,70.0,70.54000091552734,71.13999938964844,71.80999755859375,72.5999984741211,72.06999969482422,71.91999816894531,72.47000122070312,72.25,71.91000366210938,71.80000305175781,72.44999694824219,72.66000366210938,73.58000183105469,74.87999725341797,74.16999816894531,74.06999969482422,72.6500015258789,72.77999877929688,72.27999877929688,72.01000213623047,72.16999816894531,70.41999816894531,71.29000091552734,70.51000213623047,70.0,68.69000244140625,68.83999633789062,68.27999877929688,67.29000091552734,66.66000366210938,67.2300033569336,69.22000122070312,69.51000213623047,69.5199966430664,68.22000122070312,67.43000030517578,66.98999786376953,66.72000122070312,68.4800033569336,69.98999786376953,68.18000030517578,69.05999755859375,67.56999969482422,68.5999984741211,67.73999786376953,67.63999938964844,68.37000274658203,69.79000091552734,68.5,68.12999725341797,67.88999938964844,68.80999755859375,68.94999694824219,68.55000305175781,68.25,68.87000274658203,68.95999908447266,69.5,68.55000305175781,68.19999694824219,67.75,67.9000015258789,68.73999786376953,68.43000030517578,68.20999908447266,68.70999908447266,68.2699966430664,68.63999938964844,69.52999877929688,69.87000274658203,70.08999633789062,69.75,70.47000122070312,69.19999694824219,67.41000366210938,69.06999969482422,68.30000305175781,67.80999755859375,68.25,68.44999694824219,67.93000030517578,68.83000183105469,69.7300033569336,69.18000030517578,67.16999816894531,67.33999633789062,68.16000366210938,68.12999725341797,68.58000183105469,67.77999877929688,67.9000015258789,68.48999786376953,69.16999816894531,68.88999938964844,67.22000122070312,67.18000030517578,67.27999877929688,67.58000183105469,67.30999755859375,66.93000030517578,66.88999938964844,66.52999877929688,65.80000305175781,64.8499984741211,64.11000061035156,63.439998626708984,64.91999816894531,65.73999786376953,65.76000213623047,66.5999984741211,66.8499984741211,66.48999786376953,66.0199966430664,66.01000213623047,66.11000061035156,65.77999877929688,65.83000183105469,64.9000015258789,65.58000183105469,65.0199966430664,63.79999923706055,60.619998931884766,62.560001373291016,61.7599983215332,61.38999938964844,59.93000030517578,60.869998931884766,60.06999969482422,60.310001373291016,60.25,59.58000183105469,60.29999923706055,60.0099983215332,60.470001220703125,64.0199966430664,66.58999633789062,64.81999969482422,64.5999984741211,65.22000122070312,66.81999969482422,66.94999694824219,65.98999786376953,65.61000061035156],\"type\":\"scatter\"}],                        {\"legend\":{\"bgcolor\":\"#F5F6F9\",\"font\":{\"color\":\"#4D5663\"}},\"paper_bgcolor\":\"#F5F6F9\",\"plot_bgcolor\":\"#F5F6F9\",\"template\":{\"data\":{\"barpolar\":[{\"marker\":{\"line\":{\"color\":\"#E5ECF6\",\"width\":0.5},\"pattern\":{\"fillmode\":\"overlay\",\"size\":10,\"solidity\":0.2}},\"type\":\"barpolar\"}],\"bar\":[{\"error_x\":{\"color\":\"#2a3f5f\"},\"error_y\":{\"color\":\"#2a3f5f\"},\"marker\":{\"line\":{\"color\":\"#E5ECF6\",\"width\":0.5},\"pattern\":{\"fillmode\":\"overlay\",\"size\":10,\"solidity\":0.2}},\"type\":\"bar\"}],\"carpet\":[{\"aaxis\":{\"endlinecolor\":\"#2a3f5f\",\"gridcolor\":\"white\",\"linecolor\":\"white\",\"minorgridcolor\":\"white\",\"startlinecolor\":\"#2a3f5f\"},\"baxis\":{\"endlinecolor\":\"#2a3f5f\",\"gridcolor\":\"white\",\"linecolor\":\"white\",\"minorgridcolor\":\"white\",\"startlinecolor\":\"#2a3f5f\"},\"type\":\"carpet\"}],\"choropleth\":[{\"colorbar\":{\"outlinewidth\":0,\"ticks\":\"\"},\"type\":\"choropleth\"}],\"contourcarpet\":[{\"colorbar\":{\"outlinewidth\":0,\"ticks\":\"\"},\"type\":\"contourcarpet\"}],\"contour\":[{\"colorbar\":{\"outlinewidth\":0,\"ticks\":\"\"},\"colorscale\":[[0.0,\"#0d0887\"],[0.1111111111111111,\"#46039f\"],[0.2222222222222222,\"#7201a8\"],[0.3333333333333333,\"#9c179e\"],[0.4444444444444444,\"#bd3786\"],[0.5555555555555556,\"#d8576b\"],[0.6666666666666666,\"#ed7953\"],[0.7777777777777778,\"#fb9f3a\"],[0.8888888888888888,\"#fdca26\"],[1.0,\"#f0f921\"]],\"type\":\"contour\"}],\"heatmapgl\":[{\"colorbar\":{\"outlinewidth\":0,\"ticks\":\"\"},\"colorscale\":[[0.0,\"#0d0887\"],[0.1111111111111111,\"#46039f\"],[0.2222222222222222,\"#7201a8\"],[0.3333333333333333,\"#9c179e\"],[0.4444444444444444,\"#bd3786\"],[0.5555555555555556,\"#d8576b\"],[0.6666666666666666,\"#ed7953\"],[0.7777777777777778,\"#fb9f3a\"],[0.8888888888888888,\"#fdca26\"],[1.0,\"#f0f921\"]],\"type\":\"heatmapgl\"}],\"heatmap\":[{\"colorbar\":{\"outlinewidth\":0,\"ticks\":\"\"},\"colorscale\":[[0.0,\"#0d0887\"],[0.1111111111111111,\"#46039f\"],[0.2222222222222222,\"#7201a8\"],[0.3333333333333333,\"#9c179e\"],[0.4444444444444444,\"#bd3786\"],[0.5555555555555556,\"#d8576b\"],[0.6666666666666666,\"#ed7953\"],[0.7777777777777778,\"#fb9f3a\"],[0.8888888888888888,\"#fdca26\"],[1.0,\"#f0f921\"]],\"type\":\"heatmap\"}],\"histogram2dcontour\":[{\"colorbar\":{\"outlinewidth\":0,\"ticks\":\"\"},\"colorscale\":[[0.0,\"#0d0887\"],[0.1111111111111111,\"#46039f\"],[0.2222222222222222,\"#7201a8\"],[0.3333333333333333,\"#9c179e\"],[0.4444444444444444,\"#bd3786\"],[0.5555555555555556,\"#d8576b\"],[0.6666666666666666,\"#ed7953\"],[0.7777777777777778,\"#fb9f3a\"],[0.8888888888888888,\"#fdca26\"],[1.0,\"#f0f921\"]],\"type\":\"histogram2dcontour\"}],\"histogram2d\":[{\"colorbar\":{\"outlinewidth\":0,\"ticks\":\"\"},\"colorscale\":[[0.0,\"#0d0887\"],[0.1111111111111111,\"#46039f\"],[0.2222222222222222,\"#7201a8\"],[0.3333333333333333,\"#9c179e\"],[0.4444444444444444,\"#bd3786\"],[0.5555555555555556,\"#d8576b\"],[0.6666666666666666,\"#ed7953\"],[0.7777777777777778,\"#fb9f3a\"],[0.8888888888888888,\"#fdca26\"],[1.0,\"#f0f921\"]],\"type\":\"histogram2d\"}],\"histogram\":[{\"marker\":{\"pattern\":{\"fillmode\":\"overlay\",\"size\":10,\"solidity\":0.2}},\"type\":\"histogram\"}],\"mesh3d\":[{\"colorbar\":{\"outlinewidth\":0,\"ticks\":\"\"},\"type\":\"mesh3d\"}],\"parcoords\":[{\"line\":{\"colorbar\":{\"outlinewidth\":0,\"ticks\":\"\"}},\"type\":\"parcoords\"}],\"pie\":[{\"automargin\":true,\"type\":\"pie\"}],\"scatter3d\":[{\"line\":{\"colorbar\":{\"outlinewidth\":0,\"ticks\":\"\"}},\"marker\":{\"colorbar\":{\"outlinewidth\":0,\"ticks\":\"\"}},\"type\":\"scatter3d\"}],\"scattercarpet\":[{\"marker\":{\"colorbar\":{\"outlinewidth\":0,\"ticks\":\"\"}},\"type\":\"scattercarpet\"}],\"scattergeo\":[{\"marker\":{\"colorbar\":{\"outlinewidth\":0,\"ticks\":\"\"}},\"type\":\"scattergeo\"}],\"scattergl\":[{\"marker\":{\"colorbar\":{\"outlinewidth\":0,\"ticks\":\"\"}},\"type\":\"scattergl\"}],\"scattermapbox\":[{\"marker\":{\"colorbar\":{\"outlinewidth\":0,\"ticks\":\"\"}},\"type\":\"scattermapbox\"}],\"scatterpolargl\":[{\"marker\":{\"colorbar\":{\"outlinewidth\":0,\"ticks\":\"\"}},\"type\":\"scatterpolargl\"}],\"scatterpolar\":[{\"marker\":{\"colorbar\":{\"outlinewidth\":0,\"ticks\":\"\"}},\"type\":\"scatterpolar\"}],\"scatter\":[{\"fillpattern\":{\"fillmode\":\"overlay\",\"size\":10,\"solidity\":0.2},\"type\":\"scatter\"}],\"scatterternary\":[{\"marker\":{\"colorbar\":{\"outlinewidth\":0,\"ticks\":\"\"}},\"type\":\"scatterternary\"}],\"surface\":[{\"colorbar\":{\"outlinewidth\":0,\"ticks\":\"\"},\"colorscale\":[[0.0,\"#0d0887\"],[0.1111111111111111,\"#46039f\"],[0.2222222222222222,\"#7201a8\"],[0.3333333333333333,\"#9c179e\"],[0.4444444444444444,\"#bd3786\"],[0.5555555555555556,\"#d8576b\"],[0.6666666666666666,\"#ed7953\"],[0.7777777777777778,\"#fb9f3a\"],[0.8888888888888888,\"#fdca26\"],[1.0,\"#f0f921\"]],\"type\":\"surface\"}],\"table\":[{\"cells\":{\"fill\":{\"color\":\"#EBF0F8\"},\"line\":{\"color\":\"white\"}},\"header\":{\"fill\":{\"color\":\"#C8D4E3\"},\"line\":{\"color\":\"white\"}},\"type\":\"table\"}]},\"layout\":{\"annotationdefaults\":{\"arrowcolor\":\"#2a3f5f\",\"arrowhead\":0,\"arrowwidth\":1},\"autotypenumbers\":\"strict\",\"coloraxis\":{\"colorbar\":{\"outlinewidth\":0,\"ticks\":\"\"}},\"colorscale\":{\"diverging\":[[0,\"#8e0152\"],[0.1,\"#c51b7d\"],[0.2,\"#de77ae\"],[0.3,\"#f1b6da\"],[0.4,\"#fde0ef\"],[0.5,\"#f7f7f7\"],[0.6,\"#e6f5d0\"],[0.7,\"#b8e186\"],[0.8,\"#7fbc41\"],[0.9,\"#4d9221\"],[1,\"#276419\"]],\"sequential\":[[0.0,\"#0d0887\"],[0.1111111111111111,\"#46039f\"],[0.2222222222222222,\"#7201a8\"],[0.3333333333333333,\"#9c179e\"],[0.4444444444444444,\"#bd3786\"],[0.5555555555555556,\"#d8576b\"],[0.6666666666666666,\"#ed7953\"],[0.7777777777777778,\"#fb9f3a\"],[0.8888888888888888,\"#fdca26\"],[1.0,\"#f0f921\"]],\"sequentialminus\":[[0.0,\"#0d0887\"],[0.1111111111111111,\"#46039f\"],[0.2222222222222222,\"#7201a8\"],[0.3333333333333333,\"#9c179e\"],[0.4444444444444444,\"#bd3786\"],[0.5555555555555556,\"#d8576b\"],[0.6666666666666666,\"#ed7953\"],[0.7777777777777778,\"#fb9f3a\"],[0.8888888888888888,\"#fdca26\"],[1.0,\"#f0f921\"]]},\"colorway\":[\"#636efa\",\"#EF553B\",\"#00cc96\",\"#ab63fa\",\"#FFA15A\",\"#19d3f3\",\"#FF6692\",\"#B6E880\",\"#FF97FF\",\"#FECB52\"],\"font\":{\"color\":\"#2a3f5f\"},\"geo\":{\"bgcolor\":\"white\",\"lakecolor\":\"white\",\"landcolor\":\"#E5ECF6\",\"showlakes\":true,\"showland\":true,\"subunitcolor\":\"white\"},\"hoverlabel\":{\"align\":\"left\"},\"hovermode\":\"closest\",\"mapbox\":{\"style\":\"light\"},\"paper_bgcolor\":\"white\",\"plot_bgcolor\":\"#E5ECF6\",\"polar\":{\"angularaxis\":{\"gridcolor\":\"white\",\"linecolor\":\"white\",\"ticks\":\"\"},\"bgcolor\":\"#E5ECF6\",\"radialaxis\":{\"gridcolor\":\"white\",\"linecolor\":\"white\",\"ticks\":\"\"}},\"scene\":{\"xaxis\":{\"backgroundcolor\":\"#E5ECF6\",\"gridcolor\":\"white\",\"gridwidth\":2,\"linecolor\":\"white\",\"showbackground\":true,\"ticks\":\"\",\"zerolinecolor\":\"white\"},\"yaxis\":{\"backgroundcolor\":\"#E5ECF6\",\"gridcolor\":\"white\",\"gridwidth\":2,\"linecolor\":\"white\",\"showbackground\":true,\"ticks\":\"\",\"zerolinecolor\":\"white\"},\"zaxis\":{\"backgroundcolor\":\"#E5ECF6\",\"gridcolor\":\"white\",\"gridwidth\":2,\"linecolor\":\"white\",\"showbackground\":true,\"ticks\":\"\",\"zerolinecolor\":\"white\"}},\"shapedefaults\":{\"line\":{\"color\":\"#2a3f5f\"}},\"ternary\":{\"aaxis\":{\"gridcolor\":\"white\",\"linecolor\":\"white\",\"ticks\":\"\"},\"baxis\":{\"gridcolor\":\"white\",\"linecolor\":\"white\",\"ticks\":\"\"},\"bgcolor\":\"#E5ECF6\",\"caxis\":{\"gridcolor\":\"white\",\"linecolor\":\"white\",\"ticks\":\"\"}},\"title\":{\"x\":0.05},\"xaxis\":{\"automargin\":true,\"gridcolor\":\"white\",\"linecolor\":\"white\",\"ticks\":\"\",\"title\":{\"standoff\":15},\"zerolinecolor\":\"white\",\"zerolinewidth\":2},\"yaxis\":{\"automargin\":true,\"gridcolor\":\"white\",\"linecolor\":\"white\",\"ticks\":\"\",\"title\":{\"standoff\":15},\"zerolinecolor\":\"white\",\"zerolinewidth\":2}}},\"title\":{\"font\":{\"color\":\"#4D5663\"}},\"xaxis\":{\"gridcolor\":\"#E1E5ED\",\"showgrid\":true,\"tickfont\":{\"color\":\"#4D5663\"},\"title\":{\"font\":{\"color\":\"#4D5663\"},\"text\":\"\"},\"zerolinecolor\":\"#E1E5ED\"},\"yaxis\":{\"gridcolor\":\"#E1E5ED\",\"showgrid\":true,\"tickfont\":{\"color\":\"#4D5663\"},\"title\":{\"font\":{\"color\":\"#4D5663\"},\"text\":\"\"},\"zerolinecolor\":\"#E1E5ED\"}},                        {\"showLink\": true, \"linkText\": \"Export to plot.ly\", \"plotlyServerURL\": \"https://plot.ly\", \"responsive\": true}                    ).then(function(){\n",
       "                            \n",
       "var gd = document.getElementById('c81fb724-4e6d-4e71-8579-ffed688728b8');\n",
       "var x = new MutationObserver(function (mutations, observer) {{\n",
       "        var display = window.getComputedStyle(gd).display;\n",
       "        if (!display || display === 'none') {{\n",
       "            console.log([gd, 'removed!']);\n",
       "            Plotly.purge(gd);\n",
       "            observer.disconnect();\n",
       "        }}\n",
       "}});\n",
       "\n",
       "// Listen for the removal of the full notebook cells\n",
       "var notebookContainer = gd.closest('#notebook-container');\n",
       "if (notebookContainer) {{\n",
       "    x.observe(notebookContainer, {childList: true});\n",
       "}}\n",
       "\n",
       "// Listen for the clearing of the current output cell\n",
       "var outputEl = gd.closest('.output');\n",
       "if (outputEl) {{\n",
       "    x.observe(outputEl, {childList: true});\n",
       "}}\n",
       "\n",
       "                        })                };                });            </script>        </div>"
      ]
     },
     "metadata": {},
     "output_type": "display_data"
    }
   ],
   "source": [
    "# now for all dataframe with Close price\n",
    "portfolio_df.Close.iplot()"
   ]
  },
  {
   "cell_type": "code",
   "execution_count": 21,
   "metadata": {},
   "outputs": [
    {
     "data": {
      "text/html": [
       "<div>\n",
       "<style scoped>\n",
       "    .dataframe tbody tr th:only-of-type {\n",
       "        vertical-align: middle;\n",
       "    }\n",
       "\n",
       "    .dataframe tbody tr th {\n",
       "        vertical-align: top;\n",
       "    }\n",
       "\n",
       "    .dataframe thead th {\n",
       "        text-align: right;\n",
       "    }\n",
       "</style>\n",
       "<table border=\"1\" class=\"dataframe\">\n",
       "  <thead>\n",
       "    <tr style=\"text-align: right;\">\n",
       "      <th></th>\n",
       "      <th>Adj Close</th>\n",
       "      <th>Close</th>\n",
       "      <th>High</th>\n",
       "      <th>Low</th>\n",
       "      <th>Open</th>\n",
       "      <th>Volume</th>\n",
       "    </tr>\n",
       "    <tr>\n",
       "      <th>Date</th>\n",
       "      <th></th>\n",
       "      <th></th>\n",
       "      <th></th>\n",
       "      <th></th>\n",
       "      <th></th>\n",
       "      <th></th>\n",
       "    </tr>\n",
       "  </thead>\n",
       "  <tbody>\n",
       "    <tr>\n",
       "      <th>2023-01-02</th>\n",
       "      <td>NaN</td>\n",
       "      <td>NaN</td>\n",
       "      <td>NaN</td>\n",
       "      <td>NaN</td>\n",
       "      <td>NaN</td>\n",
       "      <td>NaN</td>\n",
       "    </tr>\n",
       "    <tr>\n",
       "      <th>2023-01-03</th>\n",
       "      <td>70.349998</td>\n",
       "      <td>70.349998</td>\n",
       "      <td>71.400002</td>\n",
       "      <td>70.080002</td>\n",
       "      <td>70.800003</td>\n",
       "      <td>730395.0</td>\n",
       "    </tr>\n",
       "    <tr>\n",
       "      <th>2023-01-04</th>\n",
       "      <td>70.769997</td>\n",
       "      <td>70.769997</td>\n",
       "      <td>71.260002</td>\n",
       "      <td>70.589996</td>\n",
       "      <td>70.589996</td>\n",
       "      <td>931238.0</td>\n",
       "    </tr>\n",
       "    <tr>\n",
       "      <th>2023-01-05</th>\n",
       "      <td>70.339996</td>\n",
       "      <td>70.339996</td>\n",
       "      <td>71.500000</td>\n",
       "      <td>70.339996</td>\n",
       "      <td>71.000000</td>\n",
       "      <td>2578.0</td>\n",
       "    </tr>\n",
       "    <tr>\n",
       "      <th>2023-01-06</th>\n",
       "      <td>72.000000</td>\n",
       "      <td>72.000000</td>\n",
       "      <td>72.000000</td>\n",
       "      <td>70.589996</td>\n",
       "      <td>70.709999</td>\n",
       "      <td>411499.0</td>\n",
       "    </tr>\n",
       "  </tbody>\n",
       "</table>\n",
       "</div>"
      ],
      "text/plain": [
       "            Adj Close      Close       High        Low       Open    Volume\n",
       "Date                                                                       \n",
       "2023-01-02        NaN        NaN        NaN        NaN        NaN       NaN\n",
       "2023-01-03  70.349998  70.349998  71.400002  70.080002  70.800003  730395.0\n",
       "2023-01-04  70.769997  70.769997  71.260002  70.589996  70.589996  931238.0\n",
       "2023-01-05  70.339996  70.339996  71.500000  70.339996  71.000000    2578.0\n",
       "2023-01-06  72.000000  72.000000  72.000000  70.589996  70.709999  411499.0"
      ]
     },
     "execution_count": 21,
     "metadata": {},
     "output_type": "execute_result"
    }
   ],
   "source": [
    "ivvpesoishrs = portfolio_df.swaplevel(axis = 1)[\"IVVPESOISHRS.MX\"].copy()\n",
    "ivvpesoishrs.head()"
   ]
  },
  {
   "cell_type": "code",
   "execution_count": 22,
   "metadata": {},
   "outputs": [
    {
     "data": {
      "application/vnd.plotly.v1+json": {
       "config": {
        "linkText": "Export to plot.ly",
        "plotlyServerURL": "https://plot.ly",
        "showLink": true
       },
       "data": [
        {
         "close": [
          76.01000213623047,
          75.6500015258789,
          74.95999908447266,
          76.22000122070312,
          76.25,
          76.06999969482422,
          76.12000274658203,
          76.2300033569336,
          75.9800033569336,
          76.31999969482422,
          76.12000274658203,
          77,
          77.02999877929688,
          77.47000122070312,
          77.66000366210938,
          76.8499984741211,
          76.08999633789062,
          76.97000122070312,
          77.94000244140625,
          null,
          78.1500015258789,
          77.72000122070312
         ],
         "high": [
          76.27999877929688,
          76.20999908447266,
          75.13999938964844,
          76.22000122070312,
          76.33000183105469,
          76.19999694824219,
          76.44000244140625,
          76.37000274658203,
          76.04000091552734,
          76.36000061035156,
          76.33000183105469,
          77,
          77.30999755859375,
          77.55000305175781,
          77.80000305175781,
          77.69999694824219,
          76.16999816894531,
          76.97000122070312,
          77.94000244140625,
          null,
          78.5199966430664,
          77.72000122070312
         ],
         "low": [
          75.58999633789062,
          75.6500015258789,
          74.76000213623047,
          75.70999908447266,
          76.13999938964844,
          76,
          76.12000274658203,
          76,
          75.83000183105469,
          76.1500015258789,
          76.12000274658203,
          76.4800033569336,
          77.02999877929688,
          77.33999633789062,
          77.5999984741211,
          76.75,
          76.05000305175781,
          76.97000122070312,
          77.13999938964844,
          null,
          77.94000244140625,
          77.23999786376953
         ],
         "open": [
          76.27999877929688,
          76,
          74.91000366210938,
          75.70999908447266,
          76.13999938964844,
          76,
          76.4000015258789,
          76.37000274658203,
          76.04000091552734,
          76.20999908447266,
          76.30000305175781,
          76.4800033569336,
          77.29000091552734,
          77.51000213623047,
          77.63999938964844,
          77.69999694824219,
          76.16999816894531,
          76.97000122070312,
          77.13999938964844,
          null,
          77.94000244140625,
          77.2699966430664
         ],
         "showlegend": false,
         "type": "candlestick",
         "x": [
          "2023-05-02",
          "2023-05-03",
          "2023-05-04",
          "2023-05-05",
          "2023-05-08",
          "2023-05-09",
          "2023-05-10",
          "2023-05-11",
          "2023-05-12",
          "2023-05-15",
          "2023-05-16",
          "2023-05-17",
          "2023-05-18",
          "2023-05-19",
          "2023-05-22",
          "2023-05-23",
          "2023-05-24",
          "2023-05-25",
          "2023-05-26",
          "2023-05-29",
          "2023-05-30",
          "2023-05-31"
         ],
         "yaxis": "y2"
        }
       ],
       "layout": {
        "legend": {
         "bgcolor": "#F5F6F9",
         "font": {
          "color": "#4D5663"
         }
        },
        "paper_bgcolor": "#F5F6F9",
        "plot_bgcolor": "#F5F6F9",
        "template": {
         "data": {
          "bar": [
           {
            "error_x": {
             "color": "#2a3f5f"
            },
            "error_y": {
             "color": "#2a3f5f"
            },
            "marker": {
             "line": {
              "color": "#E5ECF6",
              "width": 0.5
             },
             "pattern": {
              "fillmode": "overlay",
              "size": 10,
              "solidity": 0.2
             }
            },
            "type": "bar"
           }
          ],
          "barpolar": [
           {
            "marker": {
             "line": {
              "color": "#E5ECF6",
              "width": 0.5
             },
             "pattern": {
              "fillmode": "overlay",
              "size": 10,
              "solidity": 0.2
             }
            },
            "type": "barpolar"
           }
          ],
          "carpet": [
           {
            "aaxis": {
             "endlinecolor": "#2a3f5f",
             "gridcolor": "white",
             "linecolor": "white",
             "minorgridcolor": "white",
             "startlinecolor": "#2a3f5f"
            },
            "baxis": {
             "endlinecolor": "#2a3f5f",
             "gridcolor": "white",
             "linecolor": "white",
             "minorgridcolor": "white",
             "startlinecolor": "#2a3f5f"
            },
            "type": "carpet"
           }
          ],
          "choropleth": [
           {
            "colorbar": {
             "outlinewidth": 0,
             "ticks": ""
            },
            "type": "choropleth"
           }
          ],
          "contour": [
           {
            "colorbar": {
             "outlinewidth": 0,
             "ticks": ""
            },
            "colorscale": [
             [
              0,
              "#0d0887"
             ],
             [
              0.1111111111111111,
              "#46039f"
             ],
             [
              0.2222222222222222,
              "#7201a8"
             ],
             [
              0.3333333333333333,
              "#9c179e"
             ],
             [
              0.4444444444444444,
              "#bd3786"
             ],
             [
              0.5555555555555556,
              "#d8576b"
             ],
             [
              0.6666666666666666,
              "#ed7953"
             ],
             [
              0.7777777777777778,
              "#fb9f3a"
             ],
             [
              0.8888888888888888,
              "#fdca26"
             ],
             [
              1,
              "#f0f921"
             ]
            ],
            "type": "contour"
           }
          ],
          "contourcarpet": [
           {
            "colorbar": {
             "outlinewidth": 0,
             "ticks": ""
            },
            "type": "contourcarpet"
           }
          ],
          "heatmap": [
           {
            "colorbar": {
             "outlinewidth": 0,
             "ticks": ""
            },
            "colorscale": [
             [
              0,
              "#0d0887"
             ],
             [
              0.1111111111111111,
              "#46039f"
             ],
             [
              0.2222222222222222,
              "#7201a8"
             ],
             [
              0.3333333333333333,
              "#9c179e"
             ],
             [
              0.4444444444444444,
              "#bd3786"
             ],
             [
              0.5555555555555556,
              "#d8576b"
             ],
             [
              0.6666666666666666,
              "#ed7953"
             ],
             [
              0.7777777777777778,
              "#fb9f3a"
             ],
             [
              0.8888888888888888,
              "#fdca26"
             ],
             [
              1,
              "#f0f921"
             ]
            ],
            "type": "heatmap"
           }
          ],
          "heatmapgl": [
           {
            "colorbar": {
             "outlinewidth": 0,
             "ticks": ""
            },
            "colorscale": [
             [
              0,
              "#0d0887"
             ],
             [
              0.1111111111111111,
              "#46039f"
             ],
             [
              0.2222222222222222,
              "#7201a8"
             ],
             [
              0.3333333333333333,
              "#9c179e"
             ],
             [
              0.4444444444444444,
              "#bd3786"
             ],
             [
              0.5555555555555556,
              "#d8576b"
             ],
             [
              0.6666666666666666,
              "#ed7953"
             ],
             [
              0.7777777777777778,
              "#fb9f3a"
             ],
             [
              0.8888888888888888,
              "#fdca26"
             ],
             [
              1,
              "#f0f921"
             ]
            ],
            "type": "heatmapgl"
           }
          ],
          "histogram": [
           {
            "marker": {
             "pattern": {
              "fillmode": "overlay",
              "size": 10,
              "solidity": 0.2
             }
            },
            "type": "histogram"
           }
          ],
          "histogram2d": [
           {
            "colorbar": {
             "outlinewidth": 0,
             "ticks": ""
            },
            "colorscale": [
             [
              0,
              "#0d0887"
             ],
             [
              0.1111111111111111,
              "#46039f"
             ],
             [
              0.2222222222222222,
              "#7201a8"
             ],
             [
              0.3333333333333333,
              "#9c179e"
             ],
             [
              0.4444444444444444,
              "#bd3786"
             ],
             [
              0.5555555555555556,
              "#d8576b"
             ],
             [
              0.6666666666666666,
              "#ed7953"
             ],
             [
              0.7777777777777778,
              "#fb9f3a"
             ],
             [
              0.8888888888888888,
              "#fdca26"
             ],
             [
              1,
              "#f0f921"
             ]
            ],
            "type": "histogram2d"
           }
          ],
          "histogram2dcontour": [
           {
            "colorbar": {
             "outlinewidth": 0,
             "ticks": ""
            },
            "colorscale": [
             [
              0,
              "#0d0887"
             ],
             [
              0.1111111111111111,
              "#46039f"
             ],
             [
              0.2222222222222222,
              "#7201a8"
             ],
             [
              0.3333333333333333,
              "#9c179e"
             ],
             [
              0.4444444444444444,
              "#bd3786"
             ],
             [
              0.5555555555555556,
              "#d8576b"
             ],
             [
              0.6666666666666666,
              "#ed7953"
             ],
             [
              0.7777777777777778,
              "#fb9f3a"
             ],
             [
              0.8888888888888888,
              "#fdca26"
             ],
             [
              1,
              "#f0f921"
             ]
            ],
            "type": "histogram2dcontour"
           }
          ],
          "mesh3d": [
           {
            "colorbar": {
             "outlinewidth": 0,
             "ticks": ""
            },
            "type": "mesh3d"
           }
          ],
          "parcoords": [
           {
            "line": {
             "colorbar": {
              "outlinewidth": 0,
              "ticks": ""
             }
            },
            "type": "parcoords"
           }
          ],
          "pie": [
           {
            "automargin": true,
            "type": "pie"
           }
          ],
          "scatter": [
           {
            "fillpattern": {
             "fillmode": "overlay",
             "size": 10,
             "solidity": 0.2
            },
            "type": "scatter"
           }
          ],
          "scatter3d": [
           {
            "line": {
             "colorbar": {
              "outlinewidth": 0,
              "ticks": ""
             }
            },
            "marker": {
             "colorbar": {
              "outlinewidth": 0,
              "ticks": ""
             }
            },
            "type": "scatter3d"
           }
          ],
          "scattercarpet": [
           {
            "marker": {
             "colorbar": {
              "outlinewidth": 0,
              "ticks": ""
             }
            },
            "type": "scattercarpet"
           }
          ],
          "scattergeo": [
           {
            "marker": {
             "colorbar": {
              "outlinewidth": 0,
              "ticks": ""
             }
            },
            "type": "scattergeo"
           }
          ],
          "scattergl": [
           {
            "marker": {
             "colorbar": {
              "outlinewidth": 0,
              "ticks": ""
             }
            },
            "type": "scattergl"
           }
          ],
          "scattermapbox": [
           {
            "marker": {
             "colorbar": {
              "outlinewidth": 0,
              "ticks": ""
             }
            },
            "type": "scattermapbox"
           }
          ],
          "scatterpolar": [
           {
            "marker": {
             "colorbar": {
              "outlinewidth": 0,
              "ticks": ""
             }
            },
            "type": "scatterpolar"
           }
          ],
          "scatterpolargl": [
           {
            "marker": {
             "colorbar": {
              "outlinewidth": 0,
              "ticks": ""
             }
            },
            "type": "scatterpolargl"
           }
          ],
          "scatterternary": [
           {
            "marker": {
             "colorbar": {
              "outlinewidth": 0,
              "ticks": ""
             }
            },
            "type": "scatterternary"
           }
          ],
          "surface": [
           {
            "colorbar": {
             "outlinewidth": 0,
             "ticks": ""
            },
            "colorscale": [
             [
              0,
              "#0d0887"
             ],
             [
              0.1111111111111111,
              "#46039f"
             ],
             [
              0.2222222222222222,
              "#7201a8"
             ],
             [
              0.3333333333333333,
              "#9c179e"
             ],
             [
              0.4444444444444444,
              "#bd3786"
             ],
             [
              0.5555555555555556,
              "#d8576b"
             ],
             [
              0.6666666666666666,
              "#ed7953"
             ],
             [
              0.7777777777777778,
              "#fb9f3a"
             ],
             [
              0.8888888888888888,
              "#fdca26"
             ],
             [
              1,
              "#f0f921"
             ]
            ],
            "type": "surface"
           }
          ],
          "table": [
           {
            "cells": {
             "fill": {
              "color": "#EBF0F8"
             },
             "line": {
              "color": "white"
             }
            },
            "header": {
             "fill": {
              "color": "#C8D4E3"
             },
             "line": {
              "color": "white"
             }
            },
            "type": "table"
           }
          ]
         },
         "layout": {
          "annotationdefaults": {
           "arrowcolor": "#2a3f5f",
           "arrowhead": 0,
           "arrowwidth": 1
          },
          "autotypenumbers": "strict",
          "coloraxis": {
           "colorbar": {
            "outlinewidth": 0,
            "ticks": ""
           }
          },
          "colorscale": {
           "diverging": [
            [
             0,
             "#8e0152"
            ],
            [
             0.1,
             "#c51b7d"
            ],
            [
             0.2,
             "#de77ae"
            ],
            [
             0.3,
             "#f1b6da"
            ],
            [
             0.4,
             "#fde0ef"
            ],
            [
             0.5,
             "#f7f7f7"
            ],
            [
             0.6,
             "#e6f5d0"
            ],
            [
             0.7,
             "#b8e186"
            ],
            [
             0.8,
             "#7fbc41"
            ],
            [
             0.9,
             "#4d9221"
            ],
            [
             1,
             "#276419"
            ]
           ],
           "sequential": [
            [
             0,
             "#0d0887"
            ],
            [
             0.1111111111111111,
             "#46039f"
            ],
            [
             0.2222222222222222,
             "#7201a8"
            ],
            [
             0.3333333333333333,
             "#9c179e"
            ],
            [
             0.4444444444444444,
             "#bd3786"
            ],
            [
             0.5555555555555556,
             "#d8576b"
            ],
            [
             0.6666666666666666,
             "#ed7953"
            ],
            [
             0.7777777777777778,
             "#fb9f3a"
            ],
            [
             0.8888888888888888,
             "#fdca26"
            ],
            [
             1,
             "#f0f921"
            ]
           ],
           "sequentialminus": [
            [
             0,
             "#0d0887"
            ],
            [
             0.1111111111111111,
             "#46039f"
            ],
            [
             0.2222222222222222,
             "#7201a8"
            ],
            [
             0.3333333333333333,
             "#9c179e"
            ],
            [
             0.4444444444444444,
             "#bd3786"
            ],
            [
             0.5555555555555556,
             "#d8576b"
            ],
            [
             0.6666666666666666,
             "#ed7953"
            ],
            [
             0.7777777777777778,
             "#fb9f3a"
            ],
            [
             0.8888888888888888,
             "#fdca26"
            ],
            [
             1,
             "#f0f921"
            ]
           ]
          },
          "colorway": [
           "#636efa",
           "#EF553B",
           "#00cc96",
           "#ab63fa",
           "#FFA15A",
           "#19d3f3",
           "#FF6692",
           "#B6E880",
           "#FF97FF",
           "#FECB52"
          ],
          "font": {
           "color": "#2a3f5f"
          },
          "geo": {
           "bgcolor": "white",
           "lakecolor": "white",
           "landcolor": "#E5ECF6",
           "showlakes": true,
           "showland": true,
           "subunitcolor": "white"
          },
          "hoverlabel": {
           "align": "left"
          },
          "hovermode": "closest",
          "mapbox": {
           "style": "light"
          },
          "paper_bgcolor": "white",
          "plot_bgcolor": "#E5ECF6",
          "polar": {
           "angularaxis": {
            "gridcolor": "white",
            "linecolor": "white",
            "ticks": ""
           },
           "bgcolor": "#E5ECF6",
           "radialaxis": {
            "gridcolor": "white",
            "linecolor": "white",
            "ticks": ""
           }
          },
          "scene": {
           "xaxis": {
            "backgroundcolor": "#E5ECF6",
            "gridcolor": "white",
            "gridwidth": 2,
            "linecolor": "white",
            "showbackground": true,
            "ticks": "",
            "zerolinecolor": "white"
           },
           "yaxis": {
            "backgroundcolor": "#E5ECF6",
            "gridcolor": "white",
            "gridwidth": 2,
            "linecolor": "white",
            "showbackground": true,
            "ticks": "",
            "zerolinecolor": "white"
           },
           "zaxis": {
            "backgroundcolor": "#E5ECF6",
            "gridcolor": "white",
            "gridwidth": 2,
            "linecolor": "white",
            "showbackground": true,
            "ticks": "",
            "zerolinecolor": "white"
           }
          },
          "shapedefaults": {
           "line": {
            "color": "#2a3f5f"
           }
          },
          "ternary": {
           "aaxis": {
            "gridcolor": "white",
            "linecolor": "white",
            "ticks": ""
           },
           "baxis": {
            "gridcolor": "white",
            "linecolor": "white",
            "ticks": ""
           },
           "bgcolor": "#E5ECF6",
           "caxis": {
            "gridcolor": "white",
            "linecolor": "white",
            "ticks": ""
           }
          },
          "title": {
           "x": 0.05
          },
          "xaxis": {
           "automargin": true,
           "gridcolor": "white",
           "linecolor": "white",
           "ticks": "",
           "title": {
            "standoff": 15
           },
           "zerolinecolor": "white",
           "zerolinewidth": 2
          },
          "yaxis": {
           "automargin": true,
           "gridcolor": "white",
           "linecolor": "white",
           "ticks": "",
           "title": {
            "standoff": 15
           },
           "zerolinecolor": "white",
           "zerolinewidth": 2
          }
         }
        },
        "title": {
         "font": {
          "color": "#4D5663"
         },
         "text": "IVVPESOISHRS.MX"
        },
        "xaxis": {
         "gridcolor": "#E1E5ED",
         "rangeslider": {
          "visible": false
         },
         "showgrid": true,
         "tickfont": {
          "color": "#4D5663"
         },
         "title": {
          "font": {
           "color": "#4D5663"
          },
          "text": "Time"
         },
         "zerolinecolor": "#E1E5ED"
        },
        "yaxis": {
         "gridcolor": "#E1E5ED",
         "showgrid": true,
         "showticklabels": false,
         "tickfont": {
          "color": "#4D5663"
         },
         "title": {
          "font": {
           "color": "#4D5663"
          },
          "text": "Stock Price"
         },
         "zerolinecolor": "#E1E5ED"
        },
        "yaxis2": {
         "gridcolor": "#E1E5ED",
         "showgrid": true,
         "tickfont": {
          "color": "#4D5663"
         },
         "title": {
          "font": {
           "color": "#4D5663"
          },
          "text": "Stock Price"
         },
         "zerolinecolor": "#E1E5ED"
        }
       }
      },
      "text/html": [
       "<div>                            <div id=\"47c38398-72a9-405b-aadc-4b5ec586c6bd\" class=\"plotly-graph-div\" style=\"height:525px; width:100%;\"></div>            <script type=\"text/javascript\">                require([\"plotly\"], function(Plotly) {                    window.PLOTLYENV=window.PLOTLYENV || {};\n",
       "                    window.PLOTLYENV.BASE_URL='https://plot.ly';                                    if (document.getElementById(\"47c38398-72a9-405b-aadc-4b5ec586c6bd\")) {                    Plotly.newPlot(                        \"47c38398-72a9-405b-aadc-4b5ec586c6bd\",                        [{\"close\":[76.01000213623047,75.6500015258789,74.95999908447266,76.22000122070312,76.25,76.06999969482422,76.12000274658203,76.2300033569336,75.9800033569336,76.31999969482422,76.12000274658203,77.0,77.02999877929688,77.47000122070312,77.66000366210938,76.8499984741211,76.08999633789062,76.97000122070312,77.94000244140625,null,78.1500015258789,77.72000122070312],\"high\":[76.27999877929688,76.20999908447266,75.13999938964844,76.22000122070312,76.33000183105469,76.19999694824219,76.44000244140625,76.37000274658203,76.04000091552734,76.36000061035156,76.33000183105469,77.0,77.30999755859375,77.55000305175781,77.80000305175781,77.69999694824219,76.16999816894531,76.97000122070312,77.94000244140625,null,78.5199966430664,77.72000122070312],\"low\":[75.58999633789062,75.6500015258789,74.76000213623047,75.70999908447266,76.13999938964844,76.0,76.12000274658203,76.0,75.83000183105469,76.1500015258789,76.12000274658203,76.4800033569336,77.02999877929688,77.33999633789062,77.5999984741211,76.75,76.05000305175781,76.97000122070312,77.13999938964844,null,77.94000244140625,77.23999786376953],\"open\":[76.27999877929688,76.0,74.91000366210938,75.70999908447266,76.13999938964844,76.0,76.4000015258789,76.37000274658203,76.04000091552734,76.20999908447266,76.30000305175781,76.4800033569336,77.29000091552734,77.51000213623047,77.63999938964844,77.69999694824219,76.16999816894531,76.97000122070312,77.13999938964844,null,77.94000244140625,77.2699966430664],\"showlegend\":false,\"x\":[\"2023-05-02\",\"2023-05-03\",\"2023-05-04\",\"2023-05-05\",\"2023-05-08\",\"2023-05-09\",\"2023-05-10\",\"2023-05-11\",\"2023-05-12\",\"2023-05-15\",\"2023-05-16\",\"2023-05-17\",\"2023-05-18\",\"2023-05-19\",\"2023-05-22\",\"2023-05-23\",\"2023-05-24\",\"2023-05-25\",\"2023-05-26\",\"2023-05-29\",\"2023-05-30\",\"2023-05-31\"],\"yaxis\":\"y2\",\"type\":\"candlestick\"}],                        {\"legend\":{\"bgcolor\":\"#F5F6F9\",\"font\":{\"color\":\"#4D5663\"}},\"paper_bgcolor\":\"#F5F6F9\",\"plot_bgcolor\":\"#F5F6F9\",\"template\":{\"data\":{\"barpolar\":[{\"marker\":{\"line\":{\"color\":\"#E5ECF6\",\"width\":0.5},\"pattern\":{\"fillmode\":\"overlay\",\"size\":10,\"solidity\":0.2}},\"type\":\"barpolar\"}],\"bar\":[{\"error_x\":{\"color\":\"#2a3f5f\"},\"error_y\":{\"color\":\"#2a3f5f\"},\"marker\":{\"line\":{\"color\":\"#E5ECF6\",\"width\":0.5},\"pattern\":{\"fillmode\":\"overlay\",\"size\":10,\"solidity\":0.2}},\"type\":\"bar\"}],\"carpet\":[{\"aaxis\":{\"endlinecolor\":\"#2a3f5f\",\"gridcolor\":\"white\",\"linecolor\":\"white\",\"minorgridcolor\":\"white\",\"startlinecolor\":\"#2a3f5f\"},\"baxis\":{\"endlinecolor\":\"#2a3f5f\",\"gridcolor\":\"white\",\"linecolor\":\"white\",\"minorgridcolor\":\"white\",\"startlinecolor\":\"#2a3f5f\"},\"type\":\"carpet\"}],\"choropleth\":[{\"colorbar\":{\"outlinewidth\":0,\"ticks\":\"\"},\"type\":\"choropleth\"}],\"contourcarpet\":[{\"colorbar\":{\"outlinewidth\":0,\"ticks\":\"\"},\"type\":\"contourcarpet\"}],\"contour\":[{\"colorbar\":{\"outlinewidth\":0,\"ticks\":\"\"},\"colorscale\":[[0.0,\"#0d0887\"],[0.1111111111111111,\"#46039f\"],[0.2222222222222222,\"#7201a8\"],[0.3333333333333333,\"#9c179e\"],[0.4444444444444444,\"#bd3786\"],[0.5555555555555556,\"#d8576b\"],[0.6666666666666666,\"#ed7953\"],[0.7777777777777778,\"#fb9f3a\"],[0.8888888888888888,\"#fdca26\"],[1.0,\"#f0f921\"]],\"type\":\"contour\"}],\"heatmapgl\":[{\"colorbar\":{\"outlinewidth\":0,\"ticks\":\"\"},\"colorscale\":[[0.0,\"#0d0887\"],[0.1111111111111111,\"#46039f\"],[0.2222222222222222,\"#7201a8\"],[0.3333333333333333,\"#9c179e\"],[0.4444444444444444,\"#bd3786\"],[0.5555555555555556,\"#d8576b\"],[0.6666666666666666,\"#ed7953\"],[0.7777777777777778,\"#fb9f3a\"],[0.8888888888888888,\"#fdca26\"],[1.0,\"#f0f921\"]],\"type\":\"heatmapgl\"}],\"heatmap\":[{\"colorbar\":{\"outlinewidth\":0,\"ticks\":\"\"},\"colorscale\":[[0.0,\"#0d0887\"],[0.1111111111111111,\"#46039f\"],[0.2222222222222222,\"#7201a8\"],[0.3333333333333333,\"#9c179e\"],[0.4444444444444444,\"#bd3786\"],[0.5555555555555556,\"#d8576b\"],[0.6666666666666666,\"#ed7953\"],[0.7777777777777778,\"#fb9f3a\"],[0.8888888888888888,\"#fdca26\"],[1.0,\"#f0f921\"]],\"type\":\"heatmap\"}],\"histogram2dcontour\":[{\"colorbar\":{\"outlinewidth\":0,\"ticks\":\"\"},\"colorscale\":[[0.0,\"#0d0887\"],[0.1111111111111111,\"#46039f\"],[0.2222222222222222,\"#7201a8\"],[0.3333333333333333,\"#9c179e\"],[0.4444444444444444,\"#bd3786\"],[0.5555555555555556,\"#d8576b\"],[0.6666666666666666,\"#ed7953\"],[0.7777777777777778,\"#fb9f3a\"],[0.8888888888888888,\"#fdca26\"],[1.0,\"#f0f921\"]],\"type\":\"histogram2dcontour\"}],\"histogram2d\":[{\"colorbar\":{\"outlinewidth\":0,\"ticks\":\"\"},\"colorscale\":[[0.0,\"#0d0887\"],[0.1111111111111111,\"#46039f\"],[0.2222222222222222,\"#7201a8\"],[0.3333333333333333,\"#9c179e\"],[0.4444444444444444,\"#bd3786\"],[0.5555555555555556,\"#d8576b\"],[0.6666666666666666,\"#ed7953\"],[0.7777777777777778,\"#fb9f3a\"],[0.8888888888888888,\"#fdca26\"],[1.0,\"#f0f921\"]],\"type\":\"histogram2d\"}],\"histogram\":[{\"marker\":{\"pattern\":{\"fillmode\":\"overlay\",\"size\":10,\"solidity\":0.2}},\"type\":\"histogram\"}],\"mesh3d\":[{\"colorbar\":{\"outlinewidth\":0,\"ticks\":\"\"},\"type\":\"mesh3d\"}],\"parcoords\":[{\"line\":{\"colorbar\":{\"outlinewidth\":0,\"ticks\":\"\"}},\"type\":\"parcoords\"}],\"pie\":[{\"automargin\":true,\"type\":\"pie\"}],\"scatter3d\":[{\"line\":{\"colorbar\":{\"outlinewidth\":0,\"ticks\":\"\"}},\"marker\":{\"colorbar\":{\"outlinewidth\":0,\"ticks\":\"\"}},\"type\":\"scatter3d\"}],\"scattercarpet\":[{\"marker\":{\"colorbar\":{\"outlinewidth\":0,\"ticks\":\"\"}},\"type\":\"scattercarpet\"}],\"scattergeo\":[{\"marker\":{\"colorbar\":{\"outlinewidth\":0,\"ticks\":\"\"}},\"type\":\"scattergeo\"}],\"scattergl\":[{\"marker\":{\"colorbar\":{\"outlinewidth\":0,\"ticks\":\"\"}},\"type\":\"scattergl\"}],\"scattermapbox\":[{\"marker\":{\"colorbar\":{\"outlinewidth\":0,\"ticks\":\"\"}},\"type\":\"scattermapbox\"}],\"scatterpolargl\":[{\"marker\":{\"colorbar\":{\"outlinewidth\":0,\"ticks\":\"\"}},\"type\":\"scatterpolargl\"}],\"scatterpolar\":[{\"marker\":{\"colorbar\":{\"outlinewidth\":0,\"ticks\":\"\"}},\"type\":\"scatterpolar\"}],\"scatter\":[{\"fillpattern\":{\"fillmode\":\"overlay\",\"size\":10,\"solidity\":0.2},\"type\":\"scatter\"}],\"scatterternary\":[{\"marker\":{\"colorbar\":{\"outlinewidth\":0,\"ticks\":\"\"}},\"type\":\"scatterternary\"}],\"surface\":[{\"colorbar\":{\"outlinewidth\":0,\"ticks\":\"\"},\"colorscale\":[[0.0,\"#0d0887\"],[0.1111111111111111,\"#46039f\"],[0.2222222222222222,\"#7201a8\"],[0.3333333333333333,\"#9c179e\"],[0.4444444444444444,\"#bd3786\"],[0.5555555555555556,\"#d8576b\"],[0.6666666666666666,\"#ed7953\"],[0.7777777777777778,\"#fb9f3a\"],[0.8888888888888888,\"#fdca26\"],[1.0,\"#f0f921\"]],\"type\":\"surface\"}],\"table\":[{\"cells\":{\"fill\":{\"color\":\"#EBF0F8\"},\"line\":{\"color\":\"white\"}},\"header\":{\"fill\":{\"color\":\"#C8D4E3\"},\"line\":{\"color\":\"white\"}},\"type\":\"table\"}]},\"layout\":{\"annotationdefaults\":{\"arrowcolor\":\"#2a3f5f\",\"arrowhead\":0,\"arrowwidth\":1},\"autotypenumbers\":\"strict\",\"coloraxis\":{\"colorbar\":{\"outlinewidth\":0,\"ticks\":\"\"}},\"colorscale\":{\"diverging\":[[0,\"#8e0152\"],[0.1,\"#c51b7d\"],[0.2,\"#de77ae\"],[0.3,\"#f1b6da\"],[0.4,\"#fde0ef\"],[0.5,\"#f7f7f7\"],[0.6,\"#e6f5d0\"],[0.7,\"#b8e186\"],[0.8,\"#7fbc41\"],[0.9,\"#4d9221\"],[1,\"#276419\"]],\"sequential\":[[0.0,\"#0d0887\"],[0.1111111111111111,\"#46039f\"],[0.2222222222222222,\"#7201a8\"],[0.3333333333333333,\"#9c179e\"],[0.4444444444444444,\"#bd3786\"],[0.5555555555555556,\"#d8576b\"],[0.6666666666666666,\"#ed7953\"],[0.7777777777777778,\"#fb9f3a\"],[0.8888888888888888,\"#fdca26\"],[1.0,\"#f0f921\"]],\"sequentialminus\":[[0.0,\"#0d0887\"],[0.1111111111111111,\"#46039f\"],[0.2222222222222222,\"#7201a8\"],[0.3333333333333333,\"#9c179e\"],[0.4444444444444444,\"#bd3786\"],[0.5555555555555556,\"#d8576b\"],[0.6666666666666666,\"#ed7953\"],[0.7777777777777778,\"#fb9f3a\"],[0.8888888888888888,\"#fdca26\"],[1.0,\"#f0f921\"]]},\"colorway\":[\"#636efa\",\"#EF553B\",\"#00cc96\",\"#ab63fa\",\"#FFA15A\",\"#19d3f3\",\"#FF6692\",\"#B6E880\",\"#FF97FF\",\"#FECB52\"],\"font\":{\"color\":\"#2a3f5f\"},\"geo\":{\"bgcolor\":\"white\",\"lakecolor\":\"white\",\"landcolor\":\"#E5ECF6\",\"showlakes\":true,\"showland\":true,\"subunitcolor\":\"white\"},\"hoverlabel\":{\"align\":\"left\"},\"hovermode\":\"closest\",\"mapbox\":{\"style\":\"light\"},\"paper_bgcolor\":\"white\",\"plot_bgcolor\":\"#E5ECF6\",\"polar\":{\"angularaxis\":{\"gridcolor\":\"white\",\"linecolor\":\"white\",\"ticks\":\"\"},\"bgcolor\":\"#E5ECF6\",\"radialaxis\":{\"gridcolor\":\"white\",\"linecolor\":\"white\",\"ticks\":\"\"}},\"scene\":{\"xaxis\":{\"backgroundcolor\":\"#E5ECF6\",\"gridcolor\":\"white\",\"gridwidth\":2,\"linecolor\":\"white\",\"showbackground\":true,\"ticks\":\"\",\"zerolinecolor\":\"white\"},\"yaxis\":{\"backgroundcolor\":\"#E5ECF6\",\"gridcolor\":\"white\",\"gridwidth\":2,\"linecolor\":\"white\",\"showbackground\":true,\"ticks\":\"\",\"zerolinecolor\":\"white\"},\"zaxis\":{\"backgroundcolor\":\"#E5ECF6\",\"gridcolor\":\"white\",\"gridwidth\":2,\"linecolor\":\"white\",\"showbackground\":true,\"ticks\":\"\",\"zerolinecolor\":\"white\"}},\"shapedefaults\":{\"line\":{\"color\":\"#2a3f5f\"}},\"ternary\":{\"aaxis\":{\"gridcolor\":\"white\",\"linecolor\":\"white\",\"ticks\":\"\"},\"baxis\":{\"gridcolor\":\"white\",\"linecolor\":\"white\",\"ticks\":\"\"},\"bgcolor\":\"#E5ECF6\",\"caxis\":{\"gridcolor\":\"white\",\"linecolor\":\"white\",\"ticks\":\"\"}},\"title\":{\"x\":0.05},\"xaxis\":{\"automargin\":true,\"gridcolor\":\"white\",\"linecolor\":\"white\",\"ticks\":\"\",\"title\":{\"standoff\":15},\"zerolinecolor\":\"white\",\"zerolinewidth\":2},\"yaxis\":{\"automargin\":true,\"gridcolor\":\"white\",\"linecolor\":\"white\",\"ticks\":\"\",\"title\":{\"standoff\":15},\"zerolinecolor\":\"white\",\"zerolinewidth\":2}}},\"title\":{\"font\":{\"color\":\"#4D5663\"},\"text\":\"IVVPESOISHRS.MX\"},\"xaxis\":{\"gridcolor\":\"#E1E5ED\",\"rangeslider\":{\"visible\":false},\"showgrid\":true,\"tickfont\":{\"color\":\"#4D5663\"},\"title\":{\"font\":{\"color\":\"#4D5663\"},\"text\":\"Time\"},\"zerolinecolor\":\"#E1E5ED\"},\"yaxis\":{\"gridcolor\":\"#E1E5ED\",\"showgrid\":true,\"showticklabels\":false,\"tickfont\":{\"color\":\"#4D5663\"},\"title\":{\"font\":{\"color\":\"#4D5663\"},\"text\":\"Stock Price\"},\"zerolinecolor\":\"#E1E5ED\"},\"yaxis2\":{\"gridcolor\":\"#E1E5ED\",\"showgrid\":true,\"tickfont\":{\"color\":\"#4D5663\"},\"title\":{\"font\":{\"color\":\"#4D5663\"},\"text\":\"Stock Price\"},\"zerolinecolor\":\"#E1E5ED\"}},                        {\"showLink\": true, \"linkText\": \"Export to plot.ly\", \"plotlyServerURL\": \"https://plot.ly\", \"responsive\": true}                    ).then(function(){\n",
       "                            \n",
       "var gd = document.getElementById('47c38398-72a9-405b-aadc-4b5ec586c6bd');\n",
       "var x = new MutationObserver(function (mutations, observer) {{\n",
       "        var display = window.getComputedStyle(gd).display;\n",
       "        if (!display || display === 'none') {{\n",
       "            console.log([gd, 'removed!']);\n",
       "            Plotly.purge(gd);\n",
       "            observer.disconnect();\n",
       "        }}\n",
       "}});\n",
       "\n",
       "// Listen for the removal of the full notebook cells\n",
       "var notebookContainer = gd.closest('#notebook-container');\n",
       "if (notebookContainer) {{\n",
       "    x.observe(notebookContainer, {childList: true});\n",
       "}}\n",
       "\n",
       "// Listen for the clearing of the current output cell\n",
       "var outputEl = gd.closest('.output');\n",
       "if (outputEl) {{\n",
       "    x.observe(outputEl, {childList: true});\n",
       "}}\n",
       "\n",
       "                        })                };                });            </script>        </div>"
      ]
     },
     "metadata": {},
     "output_type": "display_data"
    }
   ],
   "source": [
    "# ivvpesoishrs.loc[\"2017-05\"].iplot(kind= \"candle\")\n",
    "ivvpesoishrs.loc[\"05-2023\"].iplot(kind= \"candle\", \n",
    "                                  colorscale= \"pubugn\", \n",
    "                                  title= \"IVVPESOISHRS.MX\", \n",
    "                                  xTitle= \"Time\", \n",
    "                                  yTitle= \"Stock Price\")\n"
   ]
  },
  {
   "cell_type": "code",
   "execution_count": 23,
   "metadata": {},
   "outputs": [
    {
     "data": {
      "text/html": [
       "<div>\n",
       "<style scoped>\n",
       "    .dataframe tbody tr th:only-of-type {\n",
       "        vertical-align: middle;\n",
       "    }\n",
       "\n",
       "    .dataframe tbody tr th {\n",
       "        vertical-align: top;\n",
       "    }\n",
       "\n",
       "    .dataframe thead th {\n",
       "        text-align: right;\n",
       "    }\n",
       "</style>\n",
       "<table border=\"1\" class=\"dataframe\">\n",
       "  <thead>\n",
       "    <tr style=\"text-align: right;\">\n",
       "      <th></th>\n",
       "      <th>Open</th>\n",
       "      <th>High</th>\n",
       "      <th>Low</th>\n",
       "      <th>Close</th>\n",
       "    </tr>\n",
       "    <tr>\n",
       "      <th>Date</th>\n",
       "      <th></th>\n",
       "      <th></th>\n",
       "      <th></th>\n",
       "      <th></th>\n",
       "    </tr>\n",
       "  </thead>\n",
       "  <tbody>\n",
       "    <tr>\n",
       "      <th>2023-01-06</th>\n",
       "      <td>70.800003</td>\n",
       "      <td>72.000000</td>\n",
       "      <td>70.080002</td>\n",
       "      <td>72.000000</td>\n",
       "    </tr>\n",
       "    <tr>\n",
       "      <th>2023-01-13</th>\n",
       "      <td>72.199997</td>\n",
       "      <td>73.919998</td>\n",
       "      <td>71.949997</td>\n",
       "      <td>73.919998</td>\n",
       "    </tr>\n",
       "    <tr>\n",
       "      <th>2023-01-20</th>\n",
       "      <td>73.919998</td>\n",
       "      <td>74.099998</td>\n",
       "      <td>72.099998</td>\n",
       "      <td>73.260002</td>\n",
       "    </tr>\n",
       "    <tr>\n",
       "      <th>2023-01-27</th>\n",
       "      <td>74.160004</td>\n",
       "      <td>75.650002</td>\n",
       "      <td>73.620003</td>\n",
       "      <td>75.620003</td>\n",
       "    </tr>\n",
       "    <tr>\n",
       "      <th>2023-02-03</th>\n",
       "      <td>75.320000</td>\n",
       "      <td>78.970001</td>\n",
       "      <td>74.510002</td>\n",
       "      <td>76.120003</td>\n",
       "    </tr>\n",
       "  </tbody>\n",
       "</table>\n",
       "</div>"
      ],
      "text/plain": [
       "                 Open       High        Low      Close\n",
       "Date                                                  \n",
       "2023-01-06  70.800003  72.000000  70.080002  72.000000\n",
       "2023-01-13  72.199997  73.919998  71.949997  73.919998\n",
       "2023-01-20  73.919998  74.099998  72.099998  73.260002\n",
       "2023-01-27  74.160004  75.650002  73.620003  75.620003\n",
       "2023-02-03  75.320000  78.970001  74.510002  76.120003"
      ]
     },
     "execution_count": 23,
     "metadata": {},
     "output_type": "execute_result"
    }
   ],
   "source": [
    "# same data but with another granullarity (weekly)\n",
    "ivvpesoishrs = portfolio_df.swaplevel(axis = 1)[\"IVVPESOISHRS.MX\"].copy()\n",
    "weekly = ivvpesoishrs.resample(\"W-Fri\").agg({\"Open\":\"first\",\n",
    "                                   \"High\":\"max\",\n",
    "                                   \"Low\":\"min\",\n",
    "                                   \"Close\":\"last\"\n",
    "                                  })\n",
    "weekly.head()"
   ]
  },
  {
   "cell_type": "code",
   "execution_count": 24,
   "metadata": {},
   "outputs": [
    {
     "data": {
      "application/vnd.plotly.v1+json": {
       "config": {
        "linkText": "Export to plot.ly",
        "plotlyServerURL": "https://plot.ly",
        "showLink": true
       },
       "data": [
        {
         "close": [
          76.22000122070312,
          75.9800033569336,
          77.47000122070312,
          77.94000244140625,
          78.98999786376953,
          79.43000030517578,
          81.7300033569336,
          80.5,
          82.5,
          81.2699966430664,
          82.55000305175781,
          83.25,
          84.0999984741211,
          81.70999908447266,
          81.4000015258789,
          79.9000015258789,
          80.66000366210938,
          82.69999694824219,
          81.86000061035156,
          82.81999969482422,
          79.80000305175781,
          78.88999938964844,
          79.75,
          79.94000244140625,
          78.55999755859375,
          76.13999938964844,
          80.62999725341797,
          81
         ],
         "high": [
          76.27999877929688,
          76.44000244140625,
          77.55000305175781,
          77.94000244140625,
          79.01000213623047,
          79.43000030517578,
          81.9800033569336,
          81.5999984741211,
          82.5,
          82.70999908447266,
          82.91000366210938,
          84,
          84.48999786376953,
          84.31999969482422,
          82.5999984741211,
          81.80000305175781,
          81.31999969482422,
          83.02999877929688,
          82.83000183105469,
          82.81999969482422,
          82.19999694824219,
          79.80000305175781,
          79.75,
          80.8499984741211,
          81.23999786376953,
          78.66000366210938,
          80.8499984741211,
          81.06999969482422
         ],
         "low": [
          74.76000213623047,
          75.83000183105469,
          76.12000274658203,
          76.05000305175781,
          76.62000274658203,
          78.80000305175781,
          79.61000061035156,
          80.5,
          80.4000015258789,
          80.44000244140625,
          80.75,
          82.73999786376953,
          83.41000366210938,
          81.58000183105469,
          81.20999908447266,
          79.4000015258789,
          79.77999877929688,
          80.9800033569336,
          81.41999816894531,
          81.97000122070312,
          79.79000091552734,
          77.94000244140625,
          77.75,
          79.05000305175781,
          78.43000030517578,
          76.13999938964844,
          76.5999984741211,
          80.5
         ],
         "open": [
          76.27999877929688,
          76.13999938964844,
          76.20999908447266,
          77.63999938964844,
          77.94000244140625,
          79.0199966430664,
          79.61000061035156,
          81.5999984741211,
          80.58999633789062,
          82.58000183105469,
          80.83000183105469,
          82.73999786376953,
          83.41000366210938,
          84.31999969482422,
          81.73999786376953,
          81.4000015258789,
          79.87999725341797,
          81,
          82.72000122070312,
          82.12999725341797,
          81.87999725341797,
          79.33000183105469,
          78.88999938964844,
          79.05999755859375,
          80.52999877929688,
          77.88999938964844,
          76.76000213623047,
          80.63999938964844
         ],
         "showlegend": false,
         "type": "candlestick",
         "x": [
          "2023-05-05",
          "2023-05-12",
          "2023-05-19",
          "2023-05-26",
          "2023-06-02",
          "2023-06-09",
          "2023-06-16",
          "2023-06-23",
          "2023-06-30",
          "2023-07-07",
          "2023-07-14",
          "2023-07-21",
          "2023-07-28",
          "2023-08-04",
          "2023-08-11",
          "2023-08-18",
          "2023-08-25",
          "2023-09-01",
          "2023-09-08",
          "2023-09-15",
          "2023-09-22",
          "2023-09-29",
          "2023-10-06",
          "2023-10-13",
          "2023-10-20",
          "2023-10-27",
          "2023-11-03",
          "2023-11-10"
         ],
         "yaxis": "y2"
        }
       ],
       "layout": {
        "legend": {
         "bgcolor": "#F5F6F9",
         "font": {
          "color": "#4D5663"
         }
        },
        "paper_bgcolor": "#F5F6F9",
        "plot_bgcolor": "#F5F6F9",
        "template": {
         "data": {
          "bar": [
           {
            "error_x": {
             "color": "#2a3f5f"
            },
            "error_y": {
             "color": "#2a3f5f"
            },
            "marker": {
             "line": {
              "color": "#E5ECF6",
              "width": 0.5
             },
             "pattern": {
              "fillmode": "overlay",
              "size": 10,
              "solidity": 0.2
             }
            },
            "type": "bar"
           }
          ],
          "barpolar": [
           {
            "marker": {
             "line": {
              "color": "#E5ECF6",
              "width": 0.5
             },
             "pattern": {
              "fillmode": "overlay",
              "size": 10,
              "solidity": 0.2
             }
            },
            "type": "barpolar"
           }
          ],
          "carpet": [
           {
            "aaxis": {
             "endlinecolor": "#2a3f5f",
             "gridcolor": "white",
             "linecolor": "white",
             "minorgridcolor": "white",
             "startlinecolor": "#2a3f5f"
            },
            "baxis": {
             "endlinecolor": "#2a3f5f",
             "gridcolor": "white",
             "linecolor": "white",
             "minorgridcolor": "white",
             "startlinecolor": "#2a3f5f"
            },
            "type": "carpet"
           }
          ],
          "choropleth": [
           {
            "colorbar": {
             "outlinewidth": 0,
             "ticks": ""
            },
            "type": "choropleth"
           }
          ],
          "contour": [
           {
            "colorbar": {
             "outlinewidth": 0,
             "ticks": ""
            },
            "colorscale": [
             [
              0,
              "#0d0887"
             ],
             [
              0.1111111111111111,
              "#46039f"
             ],
             [
              0.2222222222222222,
              "#7201a8"
             ],
             [
              0.3333333333333333,
              "#9c179e"
             ],
             [
              0.4444444444444444,
              "#bd3786"
             ],
             [
              0.5555555555555556,
              "#d8576b"
             ],
             [
              0.6666666666666666,
              "#ed7953"
             ],
             [
              0.7777777777777778,
              "#fb9f3a"
             ],
             [
              0.8888888888888888,
              "#fdca26"
             ],
             [
              1,
              "#f0f921"
             ]
            ],
            "type": "contour"
           }
          ],
          "contourcarpet": [
           {
            "colorbar": {
             "outlinewidth": 0,
             "ticks": ""
            },
            "type": "contourcarpet"
           }
          ],
          "heatmap": [
           {
            "colorbar": {
             "outlinewidth": 0,
             "ticks": ""
            },
            "colorscale": [
             [
              0,
              "#0d0887"
             ],
             [
              0.1111111111111111,
              "#46039f"
             ],
             [
              0.2222222222222222,
              "#7201a8"
             ],
             [
              0.3333333333333333,
              "#9c179e"
             ],
             [
              0.4444444444444444,
              "#bd3786"
             ],
             [
              0.5555555555555556,
              "#d8576b"
             ],
             [
              0.6666666666666666,
              "#ed7953"
             ],
             [
              0.7777777777777778,
              "#fb9f3a"
             ],
             [
              0.8888888888888888,
              "#fdca26"
             ],
             [
              1,
              "#f0f921"
             ]
            ],
            "type": "heatmap"
           }
          ],
          "heatmapgl": [
           {
            "colorbar": {
             "outlinewidth": 0,
             "ticks": ""
            },
            "colorscale": [
             [
              0,
              "#0d0887"
             ],
             [
              0.1111111111111111,
              "#46039f"
             ],
             [
              0.2222222222222222,
              "#7201a8"
             ],
             [
              0.3333333333333333,
              "#9c179e"
             ],
             [
              0.4444444444444444,
              "#bd3786"
             ],
             [
              0.5555555555555556,
              "#d8576b"
             ],
             [
              0.6666666666666666,
              "#ed7953"
             ],
             [
              0.7777777777777778,
              "#fb9f3a"
             ],
             [
              0.8888888888888888,
              "#fdca26"
             ],
             [
              1,
              "#f0f921"
             ]
            ],
            "type": "heatmapgl"
           }
          ],
          "histogram": [
           {
            "marker": {
             "pattern": {
              "fillmode": "overlay",
              "size": 10,
              "solidity": 0.2
             }
            },
            "type": "histogram"
           }
          ],
          "histogram2d": [
           {
            "colorbar": {
             "outlinewidth": 0,
             "ticks": ""
            },
            "colorscale": [
             [
              0,
              "#0d0887"
             ],
             [
              0.1111111111111111,
              "#46039f"
             ],
             [
              0.2222222222222222,
              "#7201a8"
             ],
             [
              0.3333333333333333,
              "#9c179e"
             ],
             [
              0.4444444444444444,
              "#bd3786"
             ],
             [
              0.5555555555555556,
              "#d8576b"
             ],
             [
              0.6666666666666666,
              "#ed7953"
             ],
             [
              0.7777777777777778,
              "#fb9f3a"
             ],
             [
              0.8888888888888888,
              "#fdca26"
             ],
             [
              1,
              "#f0f921"
             ]
            ],
            "type": "histogram2d"
           }
          ],
          "histogram2dcontour": [
           {
            "colorbar": {
             "outlinewidth": 0,
             "ticks": ""
            },
            "colorscale": [
             [
              0,
              "#0d0887"
             ],
             [
              0.1111111111111111,
              "#46039f"
             ],
             [
              0.2222222222222222,
              "#7201a8"
             ],
             [
              0.3333333333333333,
              "#9c179e"
             ],
             [
              0.4444444444444444,
              "#bd3786"
             ],
             [
              0.5555555555555556,
              "#d8576b"
             ],
             [
              0.6666666666666666,
              "#ed7953"
             ],
             [
              0.7777777777777778,
              "#fb9f3a"
             ],
             [
              0.8888888888888888,
              "#fdca26"
             ],
             [
              1,
              "#f0f921"
             ]
            ],
            "type": "histogram2dcontour"
           }
          ],
          "mesh3d": [
           {
            "colorbar": {
             "outlinewidth": 0,
             "ticks": ""
            },
            "type": "mesh3d"
           }
          ],
          "parcoords": [
           {
            "line": {
             "colorbar": {
              "outlinewidth": 0,
              "ticks": ""
             }
            },
            "type": "parcoords"
           }
          ],
          "pie": [
           {
            "automargin": true,
            "type": "pie"
           }
          ],
          "scatter": [
           {
            "fillpattern": {
             "fillmode": "overlay",
             "size": 10,
             "solidity": 0.2
            },
            "type": "scatter"
           }
          ],
          "scatter3d": [
           {
            "line": {
             "colorbar": {
              "outlinewidth": 0,
              "ticks": ""
             }
            },
            "marker": {
             "colorbar": {
              "outlinewidth": 0,
              "ticks": ""
             }
            },
            "type": "scatter3d"
           }
          ],
          "scattercarpet": [
           {
            "marker": {
             "colorbar": {
              "outlinewidth": 0,
              "ticks": ""
             }
            },
            "type": "scattercarpet"
           }
          ],
          "scattergeo": [
           {
            "marker": {
             "colorbar": {
              "outlinewidth": 0,
              "ticks": ""
             }
            },
            "type": "scattergeo"
           }
          ],
          "scattergl": [
           {
            "marker": {
             "colorbar": {
              "outlinewidth": 0,
              "ticks": ""
             }
            },
            "type": "scattergl"
           }
          ],
          "scattermapbox": [
           {
            "marker": {
             "colorbar": {
              "outlinewidth": 0,
              "ticks": ""
             }
            },
            "type": "scattermapbox"
           }
          ],
          "scatterpolar": [
           {
            "marker": {
             "colorbar": {
              "outlinewidth": 0,
              "ticks": ""
             }
            },
            "type": "scatterpolar"
           }
          ],
          "scatterpolargl": [
           {
            "marker": {
             "colorbar": {
              "outlinewidth": 0,
              "ticks": ""
             }
            },
            "type": "scatterpolargl"
           }
          ],
          "scatterternary": [
           {
            "marker": {
             "colorbar": {
              "outlinewidth": 0,
              "ticks": ""
             }
            },
            "type": "scatterternary"
           }
          ],
          "surface": [
           {
            "colorbar": {
             "outlinewidth": 0,
             "ticks": ""
            },
            "colorscale": [
             [
              0,
              "#0d0887"
             ],
             [
              0.1111111111111111,
              "#46039f"
             ],
             [
              0.2222222222222222,
              "#7201a8"
             ],
             [
              0.3333333333333333,
              "#9c179e"
             ],
             [
              0.4444444444444444,
              "#bd3786"
             ],
             [
              0.5555555555555556,
              "#d8576b"
             ],
             [
              0.6666666666666666,
              "#ed7953"
             ],
             [
              0.7777777777777778,
              "#fb9f3a"
             ],
             [
              0.8888888888888888,
              "#fdca26"
             ],
             [
              1,
              "#f0f921"
             ]
            ],
            "type": "surface"
           }
          ],
          "table": [
           {
            "cells": {
             "fill": {
              "color": "#EBF0F8"
             },
             "line": {
              "color": "white"
             }
            },
            "header": {
             "fill": {
              "color": "#C8D4E3"
             },
             "line": {
              "color": "white"
             }
            },
            "type": "table"
           }
          ]
         },
         "layout": {
          "annotationdefaults": {
           "arrowcolor": "#2a3f5f",
           "arrowhead": 0,
           "arrowwidth": 1
          },
          "autotypenumbers": "strict",
          "coloraxis": {
           "colorbar": {
            "outlinewidth": 0,
            "ticks": ""
           }
          },
          "colorscale": {
           "diverging": [
            [
             0,
             "#8e0152"
            ],
            [
             0.1,
             "#c51b7d"
            ],
            [
             0.2,
             "#de77ae"
            ],
            [
             0.3,
             "#f1b6da"
            ],
            [
             0.4,
             "#fde0ef"
            ],
            [
             0.5,
             "#f7f7f7"
            ],
            [
             0.6,
             "#e6f5d0"
            ],
            [
             0.7,
             "#b8e186"
            ],
            [
             0.8,
             "#7fbc41"
            ],
            [
             0.9,
             "#4d9221"
            ],
            [
             1,
             "#276419"
            ]
           ],
           "sequential": [
            [
             0,
             "#0d0887"
            ],
            [
             0.1111111111111111,
             "#46039f"
            ],
            [
             0.2222222222222222,
             "#7201a8"
            ],
            [
             0.3333333333333333,
             "#9c179e"
            ],
            [
             0.4444444444444444,
             "#bd3786"
            ],
            [
             0.5555555555555556,
             "#d8576b"
            ],
            [
             0.6666666666666666,
             "#ed7953"
            ],
            [
             0.7777777777777778,
             "#fb9f3a"
            ],
            [
             0.8888888888888888,
             "#fdca26"
            ],
            [
             1,
             "#f0f921"
            ]
           ],
           "sequentialminus": [
            [
             0,
             "#0d0887"
            ],
            [
             0.1111111111111111,
             "#46039f"
            ],
            [
             0.2222222222222222,
             "#7201a8"
            ],
            [
             0.3333333333333333,
             "#9c179e"
            ],
            [
             0.4444444444444444,
             "#bd3786"
            ],
            [
             0.5555555555555556,
             "#d8576b"
            ],
            [
             0.6666666666666666,
             "#ed7953"
            ],
            [
             0.7777777777777778,
             "#fb9f3a"
            ],
            [
             0.8888888888888888,
             "#fdca26"
            ],
            [
             1,
             "#f0f921"
            ]
           ]
          },
          "colorway": [
           "#636efa",
           "#EF553B",
           "#00cc96",
           "#ab63fa",
           "#FFA15A",
           "#19d3f3",
           "#FF6692",
           "#B6E880",
           "#FF97FF",
           "#FECB52"
          ],
          "font": {
           "color": "#2a3f5f"
          },
          "geo": {
           "bgcolor": "white",
           "lakecolor": "white",
           "landcolor": "#E5ECF6",
           "showlakes": true,
           "showland": true,
           "subunitcolor": "white"
          },
          "hoverlabel": {
           "align": "left"
          },
          "hovermode": "closest",
          "mapbox": {
           "style": "light"
          },
          "paper_bgcolor": "white",
          "plot_bgcolor": "#E5ECF6",
          "polar": {
           "angularaxis": {
            "gridcolor": "white",
            "linecolor": "white",
            "ticks": ""
           },
           "bgcolor": "#E5ECF6",
           "radialaxis": {
            "gridcolor": "white",
            "linecolor": "white",
            "ticks": ""
           }
          },
          "scene": {
           "xaxis": {
            "backgroundcolor": "#E5ECF6",
            "gridcolor": "white",
            "gridwidth": 2,
            "linecolor": "white",
            "showbackground": true,
            "ticks": "",
            "zerolinecolor": "white"
           },
           "yaxis": {
            "backgroundcolor": "#E5ECF6",
            "gridcolor": "white",
            "gridwidth": 2,
            "linecolor": "white",
            "showbackground": true,
            "ticks": "",
            "zerolinecolor": "white"
           },
           "zaxis": {
            "backgroundcolor": "#E5ECF6",
            "gridcolor": "white",
            "gridwidth": 2,
            "linecolor": "white",
            "showbackground": true,
            "ticks": "",
            "zerolinecolor": "white"
           }
          },
          "shapedefaults": {
           "line": {
            "color": "#2a3f5f"
           }
          },
          "ternary": {
           "aaxis": {
            "gridcolor": "white",
            "linecolor": "white",
            "ticks": ""
           },
           "baxis": {
            "gridcolor": "white",
            "linecolor": "white",
            "ticks": ""
           },
           "bgcolor": "#E5ECF6",
           "caxis": {
            "gridcolor": "white",
            "linecolor": "white",
            "ticks": ""
           }
          },
          "title": {
           "x": 0.05
          },
          "xaxis": {
           "automargin": true,
           "gridcolor": "white",
           "linecolor": "white",
           "ticks": "",
           "title": {
            "standoff": 15
           },
           "zerolinecolor": "white",
           "zerolinewidth": 2
          },
          "yaxis": {
           "automargin": true,
           "gridcolor": "white",
           "linecolor": "white",
           "ticks": "",
           "title": {
            "standoff": 15
           },
           "zerolinecolor": "white",
           "zerolinewidth": 2
          }
         }
        },
        "title": {
         "font": {
          "color": "#4D5663"
         }
        },
        "xaxis": {
         "gridcolor": "#E1E5ED",
         "rangeslider": {
          "visible": false
         },
         "showgrid": true,
         "tickfont": {
          "color": "#4D5663"
         },
         "title": {
          "font": {
           "color": "#4D5663"
          },
          "text": ""
         },
         "zerolinecolor": "#E1E5ED"
        },
        "yaxis": {
         "gridcolor": "#E1E5ED",
         "showgrid": true,
         "showticklabels": false,
         "tickfont": {
          "color": "#4D5663"
         },
         "title": {
          "font": {
           "color": "#4D5663"
          },
          "text": ""
         },
         "zerolinecolor": "#E1E5ED"
        },
        "yaxis2": {
         "gridcolor": "#E1E5ED",
         "showgrid": true,
         "tickfont": {
          "color": "#4D5663"
         },
         "title": {
          "font": {
           "color": "#4D5663"
          },
          "text": ""
         },
         "zerolinecolor": "#E1E5ED"
        }
       }
      },
      "text/html": [
       "<div>                            <div id=\"05ae8c46-b366-4277-8643-494308cfee16\" class=\"plotly-graph-div\" style=\"height:525px; width:100%;\"></div>            <script type=\"text/javascript\">                require([\"plotly\"], function(Plotly) {                    window.PLOTLYENV=window.PLOTLYENV || {};\n",
       "                    window.PLOTLYENV.BASE_URL='https://plot.ly';                                    if (document.getElementById(\"05ae8c46-b366-4277-8643-494308cfee16\")) {                    Plotly.newPlot(                        \"05ae8c46-b366-4277-8643-494308cfee16\",                        [{\"close\":[76.22000122070312,75.9800033569336,77.47000122070312,77.94000244140625,78.98999786376953,79.43000030517578,81.7300033569336,80.5,82.5,81.2699966430664,82.55000305175781,83.25,84.0999984741211,81.70999908447266,81.4000015258789,79.9000015258789,80.66000366210938,82.69999694824219,81.86000061035156,82.81999969482422,79.80000305175781,78.88999938964844,79.75,79.94000244140625,78.55999755859375,76.13999938964844,80.62999725341797,81.0],\"high\":[76.27999877929688,76.44000244140625,77.55000305175781,77.94000244140625,79.01000213623047,79.43000030517578,81.9800033569336,81.5999984741211,82.5,82.70999908447266,82.91000366210938,84.0,84.48999786376953,84.31999969482422,82.5999984741211,81.80000305175781,81.31999969482422,83.02999877929688,82.83000183105469,82.81999969482422,82.19999694824219,79.80000305175781,79.75,80.8499984741211,81.23999786376953,78.66000366210938,80.8499984741211,81.06999969482422],\"low\":[74.76000213623047,75.83000183105469,76.12000274658203,76.05000305175781,76.62000274658203,78.80000305175781,79.61000061035156,80.5,80.4000015258789,80.44000244140625,80.75,82.73999786376953,83.41000366210938,81.58000183105469,81.20999908447266,79.4000015258789,79.77999877929688,80.9800033569336,81.41999816894531,81.97000122070312,79.79000091552734,77.94000244140625,77.75,79.05000305175781,78.43000030517578,76.13999938964844,76.5999984741211,80.5],\"open\":[76.27999877929688,76.13999938964844,76.20999908447266,77.63999938964844,77.94000244140625,79.0199966430664,79.61000061035156,81.5999984741211,80.58999633789062,82.58000183105469,80.83000183105469,82.73999786376953,83.41000366210938,84.31999969482422,81.73999786376953,81.4000015258789,79.87999725341797,81.0,82.72000122070312,82.12999725341797,81.87999725341797,79.33000183105469,78.88999938964844,79.05999755859375,80.52999877929688,77.88999938964844,76.76000213623047,80.63999938964844],\"showlegend\":false,\"x\":[\"2023-05-05\",\"2023-05-12\",\"2023-05-19\",\"2023-05-26\",\"2023-06-02\",\"2023-06-09\",\"2023-06-16\",\"2023-06-23\",\"2023-06-30\",\"2023-07-07\",\"2023-07-14\",\"2023-07-21\",\"2023-07-28\",\"2023-08-04\",\"2023-08-11\",\"2023-08-18\",\"2023-08-25\",\"2023-09-01\",\"2023-09-08\",\"2023-09-15\",\"2023-09-22\",\"2023-09-29\",\"2023-10-06\",\"2023-10-13\",\"2023-10-20\",\"2023-10-27\",\"2023-11-03\",\"2023-11-10\"],\"yaxis\":\"y2\",\"type\":\"candlestick\"}],                        {\"legend\":{\"bgcolor\":\"#F5F6F9\",\"font\":{\"color\":\"#4D5663\"}},\"paper_bgcolor\":\"#F5F6F9\",\"plot_bgcolor\":\"#F5F6F9\",\"template\":{\"data\":{\"barpolar\":[{\"marker\":{\"line\":{\"color\":\"#E5ECF6\",\"width\":0.5},\"pattern\":{\"fillmode\":\"overlay\",\"size\":10,\"solidity\":0.2}},\"type\":\"barpolar\"}],\"bar\":[{\"error_x\":{\"color\":\"#2a3f5f\"},\"error_y\":{\"color\":\"#2a3f5f\"},\"marker\":{\"line\":{\"color\":\"#E5ECF6\",\"width\":0.5},\"pattern\":{\"fillmode\":\"overlay\",\"size\":10,\"solidity\":0.2}},\"type\":\"bar\"}],\"carpet\":[{\"aaxis\":{\"endlinecolor\":\"#2a3f5f\",\"gridcolor\":\"white\",\"linecolor\":\"white\",\"minorgridcolor\":\"white\",\"startlinecolor\":\"#2a3f5f\"},\"baxis\":{\"endlinecolor\":\"#2a3f5f\",\"gridcolor\":\"white\",\"linecolor\":\"white\",\"minorgridcolor\":\"white\",\"startlinecolor\":\"#2a3f5f\"},\"type\":\"carpet\"}],\"choropleth\":[{\"colorbar\":{\"outlinewidth\":0,\"ticks\":\"\"},\"type\":\"choropleth\"}],\"contourcarpet\":[{\"colorbar\":{\"outlinewidth\":0,\"ticks\":\"\"},\"type\":\"contourcarpet\"}],\"contour\":[{\"colorbar\":{\"outlinewidth\":0,\"ticks\":\"\"},\"colorscale\":[[0.0,\"#0d0887\"],[0.1111111111111111,\"#46039f\"],[0.2222222222222222,\"#7201a8\"],[0.3333333333333333,\"#9c179e\"],[0.4444444444444444,\"#bd3786\"],[0.5555555555555556,\"#d8576b\"],[0.6666666666666666,\"#ed7953\"],[0.7777777777777778,\"#fb9f3a\"],[0.8888888888888888,\"#fdca26\"],[1.0,\"#f0f921\"]],\"type\":\"contour\"}],\"heatmapgl\":[{\"colorbar\":{\"outlinewidth\":0,\"ticks\":\"\"},\"colorscale\":[[0.0,\"#0d0887\"],[0.1111111111111111,\"#46039f\"],[0.2222222222222222,\"#7201a8\"],[0.3333333333333333,\"#9c179e\"],[0.4444444444444444,\"#bd3786\"],[0.5555555555555556,\"#d8576b\"],[0.6666666666666666,\"#ed7953\"],[0.7777777777777778,\"#fb9f3a\"],[0.8888888888888888,\"#fdca26\"],[1.0,\"#f0f921\"]],\"type\":\"heatmapgl\"}],\"heatmap\":[{\"colorbar\":{\"outlinewidth\":0,\"ticks\":\"\"},\"colorscale\":[[0.0,\"#0d0887\"],[0.1111111111111111,\"#46039f\"],[0.2222222222222222,\"#7201a8\"],[0.3333333333333333,\"#9c179e\"],[0.4444444444444444,\"#bd3786\"],[0.5555555555555556,\"#d8576b\"],[0.6666666666666666,\"#ed7953\"],[0.7777777777777778,\"#fb9f3a\"],[0.8888888888888888,\"#fdca26\"],[1.0,\"#f0f921\"]],\"type\":\"heatmap\"}],\"histogram2dcontour\":[{\"colorbar\":{\"outlinewidth\":0,\"ticks\":\"\"},\"colorscale\":[[0.0,\"#0d0887\"],[0.1111111111111111,\"#46039f\"],[0.2222222222222222,\"#7201a8\"],[0.3333333333333333,\"#9c179e\"],[0.4444444444444444,\"#bd3786\"],[0.5555555555555556,\"#d8576b\"],[0.6666666666666666,\"#ed7953\"],[0.7777777777777778,\"#fb9f3a\"],[0.8888888888888888,\"#fdca26\"],[1.0,\"#f0f921\"]],\"type\":\"histogram2dcontour\"}],\"histogram2d\":[{\"colorbar\":{\"outlinewidth\":0,\"ticks\":\"\"},\"colorscale\":[[0.0,\"#0d0887\"],[0.1111111111111111,\"#46039f\"],[0.2222222222222222,\"#7201a8\"],[0.3333333333333333,\"#9c179e\"],[0.4444444444444444,\"#bd3786\"],[0.5555555555555556,\"#d8576b\"],[0.6666666666666666,\"#ed7953\"],[0.7777777777777778,\"#fb9f3a\"],[0.8888888888888888,\"#fdca26\"],[1.0,\"#f0f921\"]],\"type\":\"histogram2d\"}],\"histogram\":[{\"marker\":{\"pattern\":{\"fillmode\":\"overlay\",\"size\":10,\"solidity\":0.2}},\"type\":\"histogram\"}],\"mesh3d\":[{\"colorbar\":{\"outlinewidth\":0,\"ticks\":\"\"},\"type\":\"mesh3d\"}],\"parcoords\":[{\"line\":{\"colorbar\":{\"outlinewidth\":0,\"ticks\":\"\"}},\"type\":\"parcoords\"}],\"pie\":[{\"automargin\":true,\"type\":\"pie\"}],\"scatter3d\":[{\"line\":{\"colorbar\":{\"outlinewidth\":0,\"ticks\":\"\"}},\"marker\":{\"colorbar\":{\"outlinewidth\":0,\"ticks\":\"\"}},\"type\":\"scatter3d\"}],\"scattercarpet\":[{\"marker\":{\"colorbar\":{\"outlinewidth\":0,\"ticks\":\"\"}},\"type\":\"scattercarpet\"}],\"scattergeo\":[{\"marker\":{\"colorbar\":{\"outlinewidth\":0,\"ticks\":\"\"}},\"type\":\"scattergeo\"}],\"scattergl\":[{\"marker\":{\"colorbar\":{\"outlinewidth\":0,\"ticks\":\"\"}},\"type\":\"scattergl\"}],\"scattermapbox\":[{\"marker\":{\"colorbar\":{\"outlinewidth\":0,\"ticks\":\"\"}},\"type\":\"scattermapbox\"}],\"scatterpolargl\":[{\"marker\":{\"colorbar\":{\"outlinewidth\":0,\"ticks\":\"\"}},\"type\":\"scatterpolargl\"}],\"scatterpolar\":[{\"marker\":{\"colorbar\":{\"outlinewidth\":0,\"ticks\":\"\"}},\"type\":\"scatterpolar\"}],\"scatter\":[{\"fillpattern\":{\"fillmode\":\"overlay\",\"size\":10,\"solidity\":0.2},\"type\":\"scatter\"}],\"scatterternary\":[{\"marker\":{\"colorbar\":{\"outlinewidth\":0,\"ticks\":\"\"}},\"type\":\"scatterternary\"}],\"surface\":[{\"colorbar\":{\"outlinewidth\":0,\"ticks\":\"\"},\"colorscale\":[[0.0,\"#0d0887\"],[0.1111111111111111,\"#46039f\"],[0.2222222222222222,\"#7201a8\"],[0.3333333333333333,\"#9c179e\"],[0.4444444444444444,\"#bd3786\"],[0.5555555555555556,\"#d8576b\"],[0.6666666666666666,\"#ed7953\"],[0.7777777777777778,\"#fb9f3a\"],[0.8888888888888888,\"#fdca26\"],[1.0,\"#f0f921\"]],\"type\":\"surface\"}],\"table\":[{\"cells\":{\"fill\":{\"color\":\"#EBF0F8\"},\"line\":{\"color\":\"white\"}},\"header\":{\"fill\":{\"color\":\"#C8D4E3\"},\"line\":{\"color\":\"white\"}},\"type\":\"table\"}]},\"layout\":{\"annotationdefaults\":{\"arrowcolor\":\"#2a3f5f\",\"arrowhead\":0,\"arrowwidth\":1},\"autotypenumbers\":\"strict\",\"coloraxis\":{\"colorbar\":{\"outlinewidth\":0,\"ticks\":\"\"}},\"colorscale\":{\"diverging\":[[0,\"#8e0152\"],[0.1,\"#c51b7d\"],[0.2,\"#de77ae\"],[0.3,\"#f1b6da\"],[0.4,\"#fde0ef\"],[0.5,\"#f7f7f7\"],[0.6,\"#e6f5d0\"],[0.7,\"#b8e186\"],[0.8,\"#7fbc41\"],[0.9,\"#4d9221\"],[1,\"#276419\"]],\"sequential\":[[0.0,\"#0d0887\"],[0.1111111111111111,\"#46039f\"],[0.2222222222222222,\"#7201a8\"],[0.3333333333333333,\"#9c179e\"],[0.4444444444444444,\"#bd3786\"],[0.5555555555555556,\"#d8576b\"],[0.6666666666666666,\"#ed7953\"],[0.7777777777777778,\"#fb9f3a\"],[0.8888888888888888,\"#fdca26\"],[1.0,\"#f0f921\"]],\"sequentialminus\":[[0.0,\"#0d0887\"],[0.1111111111111111,\"#46039f\"],[0.2222222222222222,\"#7201a8\"],[0.3333333333333333,\"#9c179e\"],[0.4444444444444444,\"#bd3786\"],[0.5555555555555556,\"#d8576b\"],[0.6666666666666666,\"#ed7953\"],[0.7777777777777778,\"#fb9f3a\"],[0.8888888888888888,\"#fdca26\"],[1.0,\"#f0f921\"]]},\"colorway\":[\"#636efa\",\"#EF553B\",\"#00cc96\",\"#ab63fa\",\"#FFA15A\",\"#19d3f3\",\"#FF6692\",\"#B6E880\",\"#FF97FF\",\"#FECB52\"],\"font\":{\"color\":\"#2a3f5f\"},\"geo\":{\"bgcolor\":\"white\",\"lakecolor\":\"white\",\"landcolor\":\"#E5ECF6\",\"showlakes\":true,\"showland\":true,\"subunitcolor\":\"white\"},\"hoverlabel\":{\"align\":\"left\"},\"hovermode\":\"closest\",\"mapbox\":{\"style\":\"light\"},\"paper_bgcolor\":\"white\",\"plot_bgcolor\":\"#E5ECF6\",\"polar\":{\"angularaxis\":{\"gridcolor\":\"white\",\"linecolor\":\"white\",\"ticks\":\"\"},\"bgcolor\":\"#E5ECF6\",\"radialaxis\":{\"gridcolor\":\"white\",\"linecolor\":\"white\",\"ticks\":\"\"}},\"scene\":{\"xaxis\":{\"backgroundcolor\":\"#E5ECF6\",\"gridcolor\":\"white\",\"gridwidth\":2,\"linecolor\":\"white\",\"showbackground\":true,\"ticks\":\"\",\"zerolinecolor\":\"white\"},\"yaxis\":{\"backgroundcolor\":\"#E5ECF6\",\"gridcolor\":\"white\",\"gridwidth\":2,\"linecolor\":\"white\",\"showbackground\":true,\"ticks\":\"\",\"zerolinecolor\":\"white\"},\"zaxis\":{\"backgroundcolor\":\"#E5ECF6\",\"gridcolor\":\"white\",\"gridwidth\":2,\"linecolor\":\"white\",\"showbackground\":true,\"ticks\":\"\",\"zerolinecolor\":\"white\"}},\"shapedefaults\":{\"line\":{\"color\":\"#2a3f5f\"}},\"ternary\":{\"aaxis\":{\"gridcolor\":\"white\",\"linecolor\":\"white\",\"ticks\":\"\"},\"baxis\":{\"gridcolor\":\"white\",\"linecolor\":\"white\",\"ticks\":\"\"},\"bgcolor\":\"#E5ECF6\",\"caxis\":{\"gridcolor\":\"white\",\"linecolor\":\"white\",\"ticks\":\"\"}},\"title\":{\"x\":0.05},\"xaxis\":{\"automargin\":true,\"gridcolor\":\"white\",\"linecolor\":\"white\",\"ticks\":\"\",\"title\":{\"standoff\":15},\"zerolinecolor\":\"white\",\"zerolinewidth\":2},\"yaxis\":{\"automargin\":true,\"gridcolor\":\"white\",\"linecolor\":\"white\",\"ticks\":\"\",\"title\":{\"standoff\":15},\"zerolinecolor\":\"white\",\"zerolinewidth\":2}}},\"title\":{\"font\":{\"color\":\"#4D5663\"}},\"xaxis\":{\"gridcolor\":\"#E1E5ED\",\"rangeslider\":{\"visible\":false},\"showgrid\":true,\"tickfont\":{\"color\":\"#4D5663\"},\"title\":{\"font\":{\"color\":\"#4D5663\"},\"text\":\"\"},\"zerolinecolor\":\"#E1E5ED\"},\"yaxis\":{\"gridcolor\":\"#E1E5ED\",\"showgrid\":true,\"showticklabels\":false,\"tickfont\":{\"color\":\"#4D5663\"},\"title\":{\"font\":{\"color\":\"#4D5663\"},\"text\":\"\"},\"zerolinecolor\":\"#E1E5ED\"},\"yaxis2\":{\"gridcolor\":\"#E1E5ED\",\"showgrid\":true,\"tickfont\":{\"color\":\"#4D5663\"},\"title\":{\"font\":{\"color\":\"#4D5663\"},\"text\":\"\"},\"zerolinecolor\":\"#E1E5ED\"}},                        {\"showLink\": true, \"linkText\": \"Export to plot.ly\", \"plotlyServerURL\": \"https://plot.ly\", \"responsive\": true}                    ).then(function(){\n",
       "                            \n",
       "var gd = document.getElementById('05ae8c46-b366-4277-8643-494308cfee16');\n",
       "var x = new MutationObserver(function (mutations, observer) {{\n",
       "        var display = window.getComputedStyle(gd).display;\n",
       "        if (!display || display === 'none') {{\n",
       "            console.log([gd, 'removed!']);\n",
       "            Plotly.purge(gd);\n",
       "            observer.disconnect();\n",
       "        }}\n",
       "}});\n",
       "\n",
       "// Listen for the removal of the full notebook cells\n",
       "var notebookContainer = gd.closest('#notebook-container');\n",
       "if (notebookContainer) {{\n",
       "    x.observe(notebookContainer, {childList: true});\n",
       "}}\n",
       "\n",
       "// Listen for the clearing of the current output cell\n",
       "var outputEl = gd.closest('.output');\n",
       "if (outputEl) {{\n",
       "    x.observe(outputEl, {childList: true});\n",
       "}}\n",
       "\n",
       "                        })                };                });            </script>        </div>"
      ]
     },
     "metadata": {},
     "output_type": "display_data"
    }
   ],
   "source": [
    "weekly.loc[\"5-2023\":].iplot(kind= \"candle\")"
   ]
  },
  {
   "cell_type": "code",
   "execution_count": 26,
   "metadata": {},
   "outputs": [
    {
     "data": {
      "application/vnd.plotly.v1+json": {
       "config": {
        "linkText": "Export to plot.ly",
        "plotlyServerURL": "https://plot.ly",
        "showLink": true
       },
       "data": [
        {
         "close": [
          82.69999694824219,
          82.72000122070312,
          82.58000183105469,
          81.95999908447266,
          81.5999984741211,
          81.86000061035156,
          82.27999877929688,
          82.08000183105469,
          81.97000122070312,
          82.81999969482422,
          null,
          82.12000274658203,
          81.62999725341797,
          82,
          80,
          79.80000305175781,
          79.5999984741211,
          78.6500015258789,
          78.6500015258789,
          79.1500015258789,
          78.88999938964844,
          78.5999984741211,
          77.88999938964844,
          78.66999816894531,
          78.37000274658203,
          79.75,
          80.20999908447266,
          80.5999984741211,
          80.54000091552734,
          80.2699966430664,
          79.94000244140625,
          80.94999694824219,
          80.5999984741211,
          79.80000305175781,
          80.0999984741211,
          78.55999755859375,
          78.41000366210938,
          78.6500015258789,
          null,
          76.97000122070312,
          76.13999938964844,
          76.93000030517578,
          77.23999786376953,
          78.41999816894531,
          80.62999725341797,
          80.5999984741211,
          81.05000305175781,
          81
         ],
         "high": [
          83.02999877929688,
          82.72000122070312,
          82.83000183105469,
          82.36000061035156,
          81.62999725341797,
          82.16000366210938,
          82.51000213623047,
          82.08000183105469,
          82.30000305175781,
          82.81999969482422,
          null,
          82.19999694824219,
          82.19000244140625,
          82.08000183105469,
          80.48999786376953,
          80.19000244140625,
          79.69999694824219,
          79.33000183105469,
          78.66999816894531,
          79.30000305175781,
          79.80000305175781,
          78.97000122070312,
          78.12999725341797,
          78.68000030517578,
          78.51000213623047,
          79.75,
          80.20999908447266,
          80.8499984741211,
          80.54000091552734,
          80.80999755859375,
          80.5199966430664,
          81.23999786376953,
          81.04000091552734,
          80.55000305175781,
          80.0999984741211,
          79.16999816894531,
          78.41000366210938,
          78.66000366210938,
          null,
          77.13999938964844,
          76.77999877929688,
          76.97000122070312,
          77.23999786376953,
          78.41999816894531,
          80.8499984741211,
          80.7300033569336,
          81.05000305175781,
          81.06999969482422
         ],
         "low": [
          82.68000030517578,
          82.72000122070312,
          82.55000305175781,
          81.66999816894531,
          81.41999816894531,
          81.86000061035156,
          82.12999725341797,
          82.08000183105469,
          81.97000122070312,
          82.3499984741211,
          null,
          81.87999725341797,
          81.31999969482422,
          81.80000305175781,
          80,
          79.79000091552734,
          79.33000183105469,
          78.6500015258789,
          77.94000244140625,
          79.12999725341797,
          78.88999938964844,
          78.56999969482422,
          77.75,
          78.5199966430664,
          78.1500015258789,
          78.27999877929688,
          79.05000305175781,
          80.3499984741211,
          80.4000015258789,
          80.20999908447266,
          79.87000274658203,
          80.52999877929688,
          80.44999694824219,
          79.69000244140625,
          79.55000305175781,
          78.43000030517578,
          77.88999938964844,
          78.18000030517578,
          null,
          76.3499984741211,
          76.13999938964844,
          76.5999984741211,
          77.23999786376953,
          77.87000274658203,
          79,
          80.5,
          80.83999633789062,
          80.68000030517578
         ],
         "open": [
          83.01000213623047,
          82.72000122070312,
          82.70999908447266,
          82.36000061035156,
          81.41999816894531,
          82.16000366210938,
          82.12999725341797,
          82.08000183105469,
          82.05000305175781,
          82.3499984741211,
          null,
          81.87999725341797,
          82.19000244140625,
          81.94999694824219,
          80.48999786376953,
          80,
          79.33000183105469,
          79.33000183105469,
          78.66999816894531,
          79.20999908447266,
          79.61000061035156,
          78.88999938964844,
          78,
          78.63999938964844,
          78.5,
          78.27999877929688,
          79.05999755859375,
          80.3499984741211,
          80.4000015258789,
          80.7699966430664,
          80.5199966430664,
          80.52999877929688,
          81.04000091552734,
          80.55000305175781,
          79.8499984741211,
          79.16999816894531,
          77.88999938964844,
          78.41000366210938,
          null,
          76.3499984741211,
          76.58000183105469,
          76.76000213623047,
          77.23999786376953,
          78.1500015258789,
          79,
          80.63999938964844,
          81,
          81.05000305175781
         ],
         "showlegend": false,
         "type": "candlestick",
         "x": [
          "2023-09-01",
          "2023-09-04",
          "2023-09-05",
          "2023-09-06",
          "2023-09-07",
          "2023-09-08",
          "2023-09-11",
          "2023-09-12",
          "2023-09-13",
          "2023-09-14",
          "2023-09-15",
          "2023-09-18",
          "2023-09-19",
          "2023-09-20",
          "2023-09-21",
          "2023-09-22",
          "2023-09-25",
          "2023-09-26",
          "2023-09-27",
          "2023-09-28",
          "2023-09-29",
          "2023-10-02",
          "2023-10-03",
          "2023-10-04",
          "2023-10-05",
          "2023-10-06",
          "2023-10-09",
          "2023-10-10",
          "2023-10-11",
          "2023-10-12",
          "2023-10-13",
          "2023-10-16",
          "2023-10-17",
          "2023-10-18",
          "2023-10-19",
          "2023-10-20",
          "2023-10-23",
          "2023-10-24",
          "2023-10-25",
          "2023-10-26",
          "2023-10-27",
          "2023-10-30",
          "2023-10-31",
          "2023-11-01",
          "2023-11-03",
          "2023-11-06",
          "2023-11-07",
          "2023-11-08"
         ],
         "yaxis": "y2"
        }
       ],
       "layout": {
        "legend": {
         "bgcolor": "#F5F6F9",
         "font": {
          "color": "#4D5663"
         }
        },
        "paper_bgcolor": "#F5F6F9",
        "plot_bgcolor": "#F5F6F9",
        "template": {
         "data": {
          "bar": [
           {
            "error_x": {
             "color": "#2a3f5f"
            },
            "error_y": {
             "color": "#2a3f5f"
            },
            "marker": {
             "line": {
              "color": "#E5ECF6",
              "width": 0.5
             },
             "pattern": {
              "fillmode": "overlay",
              "size": 10,
              "solidity": 0.2
             }
            },
            "type": "bar"
           }
          ],
          "barpolar": [
           {
            "marker": {
             "line": {
              "color": "#E5ECF6",
              "width": 0.5
             },
             "pattern": {
              "fillmode": "overlay",
              "size": 10,
              "solidity": 0.2
             }
            },
            "type": "barpolar"
           }
          ],
          "carpet": [
           {
            "aaxis": {
             "endlinecolor": "#2a3f5f",
             "gridcolor": "white",
             "linecolor": "white",
             "minorgridcolor": "white",
             "startlinecolor": "#2a3f5f"
            },
            "baxis": {
             "endlinecolor": "#2a3f5f",
             "gridcolor": "white",
             "linecolor": "white",
             "minorgridcolor": "white",
             "startlinecolor": "#2a3f5f"
            },
            "type": "carpet"
           }
          ],
          "choropleth": [
           {
            "colorbar": {
             "outlinewidth": 0,
             "ticks": ""
            },
            "type": "choropleth"
           }
          ],
          "contour": [
           {
            "colorbar": {
             "outlinewidth": 0,
             "ticks": ""
            },
            "colorscale": [
             [
              0,
              "#0d0887"
             ],
             [
              0.1111111111111111,
              "#46039f"
             ],
             [
              0.2222222222222222,
              "#7201a8"
             ],
             [
              0.3333333333333333,
              "#9c179e"
             ],
             [
              0.4444444444444444,
              "#bd3786"
             ],
             [
              0.5555555555555556,
              "#d8576b"
             ],
             [
              0.6666666666666666,
              "#ed7953"
             ],
             [
              0.7777777777777778,
              "#fb9f3a"
             ],
             [
              0.8888888888888888,
              "#fdca26"
             ],
             [
              1,
              "#f0f921"
             ]
            ],
            "type": "contour"
           }
          ],
          "contourcarpet": [
           {
            "colorbar": {
             "outlinewidth": 0,
             "ticks": ""
            },
            "type": "contourcarpet"
           }
          ],
          "heatmap": [
           {
            "colorbar": {
             "outlinewidth": 0,
             "ticks": ""
            },
            "colorscale": [
             [
              0,
              "#0d0887"
             ],
             [
              0.1111111111111111,
              "#46039f"
             ],
             [
              0.2222222222222222,
              "#7201a8"
             ],
             [
              0.3333333333333333,
              "#9c179e"
             ],
             [
              0.4444444444444444,
              "#bd3786"
             ],
             [
              0.5555555555555556,
              "#d8576b"
             ],
             [
              0.6666666666666666,
              "#ed7953"
             ],
             [
              0.7777777777777778,
              "#fb9f3a"
             ],
             [
              0.8888888888888888,
              "#fdca26"
             ],
             [
              1,
              "#f0f921"
             ]
            ],
            "type": "heatmap"
           }
          ],
          "heatmapgl": [
           {
            "colorbar": {
             "outlinewidth": 0,
             "ticks": ""
            },
            "colorscale": [
             [
              0,
              "#0d0887"
             ],
             [
              0.1111111111111111,
              "#46039f"
             ],
             [
              0.2222222222222222,
              "#7201a8"
             ],
             [
              0.3333333333333333,
              "#9c179e"
             ],
             [
              0.4444444444444444,
              "#bd3786"
             ],
             [
              0.5555555555555556,
              "#d8576b"
             ],
             [
              0.6666666666666666,
              "#ed7953"
             ],
             [
              0.7777777777777778,
              "#fb9f3a"
             ],
             [
              0.8888888888888888,
              "#fdca26"
             ],
             [
              1,
              "#f0f921"
             ]
            ],
            "type": "heatmapgl"
           }
          ],
          "histogram": [
           {
            "marker": {
             "pattern": {
              "fillmode": "overlay",
              "size": 10,
              "solidity": 0.2
             }
            },
            "type": "histogram"
           }
          ],
          "histogram2d": [
           {
            "colorbar": {
             "outlinewidth": 0,
             "ticks": ""
            },
            "colorscale": [
             [
              0,
              "#0d0887"
             ],
             [
              0.1111111111111111,
              "#46039f"
             ],
             [
              0.2222222222222222,
              "#7201a8"
             ],
             [
              0.3333333333333333,
              "#9c179e"
             ],
             [
              0.4444444444444444,
              "#bd3786"
             ],
             [
              0.5555555555555556,
              "#d8576b"
             ],
             [
              0.6666666666666666,
              "#ed7953"
             ],
             [
              0.7777777777777778,
              "#fb9f3a"
             ],
             [
              0.8888888888888888,
              "#fdca26"
             ],
             [
              1,
              "#f0f921"
             ]
            ],
            "type": "histogram2d"
           }
          ],
          "histogram2dcontour": [
           {
            "colorbar": {
             "outlinewidth": 0,
             "ticks": ""
            },
            "colorscale": [
             [
              0,
              "#0d0887"
             ],
             [
              0.1111111111111111,
              "#46039f"
             ],
             [
              0.2222222222222222,
              "#7201a8"
             ],
             [
              0.3333333333333333,
              "#9c179e"
             ],
             [
              0.4444444444444444,
              "#bd3786"
             ],
             [
              0.5555555555555556,
              "#d8576b"
             ],
             [
              0.6666666666666666,
              "#ed7953"
             ],
             [
              0.7777777777777778,
              "#fb9f3a"
             ],
             [
              0.8888888888888888,
              "#fdca26"
             ],
             [
              1,
              "#f0f921"
             ]
            ],
            "type": "histogram2dcontour"
           }
          ],
          "mesh3d": [
           {
            "colorbar": {
             "outlinewidth": 0,
             "ticks": ""
            },
            "type": "mesh3d"
           }
          ],
          "parcoords": [
           {
            "line": {
             "colorbar": {
              "outlinewidth": 0,
              "ticks": ""
             }
            },
            "type": "parcoords"
           }
          ],
          "pie": [
           {
            "automargin": true,
            "type": "pie"
           }
          ],
          "scatter": [
           {
            "fillpattern": {
             "fillmode": "overlay",
             "size": 10,
             "solidity": 0.2
            },
            "type": "scatter"
           }
          ],
          "scatter3d": [
           {
            "line": {
             "colorbar": {
              "outlinewidth": 0,
              "ticks": ""
             }
            },
            "marker": {
             "colorbar": {
              "outlinewidth": 0,
              "ticks": ""
             }
            },
            "type": "scatter3d"
           }
          ],
          "scattercarpet": [
           {
            "marker": {
             "colorbar": {
              "outlinewidth": 0,
              "ticks": ""
             }
            },
            "type": "scattercarpet"
           }
          ],
          "scattergeo": [
           {
            "marker": {
             "colorbar": {
              "outlinewidth": 0,
              "ticks": ""
             }
            },
            "type": "scattergeo"
           }
          ],
          "scattergl": [
           {
            "marker": {
             "colorbar": {
              "outlinewidth": 0,
              "ticks": ""
             }
            },
            "type": "scattergl"
           }
          ],
          "scattermapbox": [
           {
            "marker": {
             "colorbar": {
              "outlinewidth": 0,
              "ticks": ""
             }
            },
            "type": "scattermapbox"
           }
          ],
          "scatterpolar": [
           {
            "marker": {
             "colorbar": {
              "outlinewidth": 0,
              "ticks": ""
             }
            },
            "type": "scatterpolar"
           }
          ],
          "scatterpolargl": [
           {
            "marker": {
             "colorbar": {
              "outlinewidth": 0,
              "ticks": ""
             }
            },
            "type": "scatterpolargl"
           }
          ],
          "scatterternary": [
           {
            "marker": {
             "colorbar": {
              "outlinewidth": 0,
              "ticks": ""
             }
            },
            "type": "scatterternary"
           }
          ],
          "surface": [
           {
            "colorbar": {
             "outlinewidth": 0,
             "ticks": ""
            },
            "colorscale": [
             [
              0,
              "#0d0887"
             ],
             [
              0.1111111111111111,
              "#46039f"
             ],
             [
              0.2222222222222222,
              "#7201a8"
             ],
             [
              0.3333333333333333,
              "#9c179e"
             ],
             [
              0.4444444444444444,
              "#bd3786"
             ],
             [
              0.5555555555555556,
              "#d8576b"
             ],
             [
              0.6666666666666666,
              "#ed7953"
             ],
             [
              0.7777777777777778,
              "#fb9f3a"
             ],
             [
              0.8888888888888888,
              "#fdca26"
             ],
             [
              1,
              "#f0f921"
             ]
            ],
            "type": "surface"
           }
          ],
          "table": [
           {
            "cells": {
             "fill": {
              "color": "#EBF0F8"
             },
             "line": {
              "color": "white"
             }
            },
            "header": {
             "fill": {
              "color": "#C8D4E3"
             },
             "line": {
              "color": "white"
             }
            },
            "type": "table"
           }
          ]
         },
         "layout": {
          "annotationdefaults": {
           "arrowcolor": "#2a3f5f",
           "arrowhead": 0,
           "arrowwidth": 1
          },
          "autotypenumbers": "strict",
          "coloraxis": {
           "colorbar": {
            "outlinewidth": 0,
            "ticks": ""
           }
          },
          "colorscale": {
           "diverging": [
            [
             0,
             "#8e0152"
            ],
            [
             0.1,
             "#c51b7d"
            ],
            [
             0.2,
             "#de77ae"
            ],
            [
             0.3,
             "#f1b6da"
            ],
            [
             0.4,
             "#fde0ef"
            ],
            [
             0.5,
             "#f7f7f7"
            ],
            [
             0.6,
             "#e6f5d0"
            ],
            [
             0.7,
             "#b8e186"
            ],
            [
             0.8,
             "#7fbc41"
            ],
            [
             0.9,
             "#4d9221"
            ],
            [
             1,
             "#276419"
            ]
           ],
           "sequential": [
            [
             0,
             "#0d0887"
            ],
            [
             0.1111111111111111,
             "#46039f"
            ],
            [
             0.2222222222222222,
             "#7201a8"
            ],
            [
             0.3333333333333333,
             "#9c179e"
            ],
            [
             0.4444444444444444,
             "#bd3786"
            ],
            [
             0.5555555555555556,
             "#d8576b"
            ],
            [
             0.6666666666666666,
             "#ed7953"
            ],
            [
             0.7777777777777778,
             "#fb9f3a"
            ],
            [
             0.8888888888888888,
             "#fdca26"
            ],
            [
             1,
             "#f0f921"
            ]
           ],
           "sequentialminus": [
            [
             0,
             "#0d0887"
            ],
            [
             0.1111111111111111,
             "#46039f"
            ],
            [
             0.2222222222222222,
             "#7201a8"
            ],
            [
             0.3333333333333333,
             "#9c179e"
            ],
            [
             0.4444444444444444,
             "#bd3786"
            ],
            [
             0.5555555555555556,
             "#d8576b"
            ],
            [
             0.6666666666666666,
             "#ed7953"
            ],
            [
             0.7777777777777778,
             "#fb9f3a"
            ],
            [
             0.8888888888888888,
             "#fdca26"
            ],
            [
             1,
             "#f0f921"
            ]
           ]
          },
          "colorway": [
           "#636efa",
           "#EF553B",
           "#00cc96",
           "#ab63fa",
           "#FFA15A",
           "#19d3f3",
           "#FF6692",
           "#B6E880",
           "#FF97FF",
           "#FECB52"
          ],
          "font": {
           "color": "#2a3f5f"
          },
          "geo": {
           "bgcolor": "white",
           "lakecolor": "white",
           "landcolor": "#E5ECF6",
           "showlakes": true,
           "showland": true,
           "subunitcolor": "white"
          },
          "hoverlabel": {
           "align": "left"
          },
          "hovermode": "closest",
          "mapbox": {
           "style": "light"
          },
          "paper_bgcolor": "white",
          "plot_bgcolor": "#E5ECF6",
          "polar": {
           "angularaxis": {
            "gridcolor": "white",
            "linecolor": "white",
            "ticks": ""
           },
           "bgcolor": "#E5ECF6",
           "radialaxis": {
            "gridcolor": "white",
            "linecolor": "white",
            "ticks": ""
           }
          },
          "scene": {
           "xaxis": {
            "backgroundcolor": "#E5ECF6",
            "gridcolor": "white",
            "gridwidth": 2,
            "linecolor": "white",
            "showbackground": true,
            "ticks": "",
            "zerolinecolor": "white"
           },
           "yaxis": {
            "backgroundcolor": "#E5ECF6",
            "gridcolor": "white",
            "gridwidth": 2,
            "linecolor": "white",
            "showbackground": true,
            "ticks": "",
            "zerolinecolor": "white"
           },
           "zaxis": {
            "backgroundcolor": "#E5ECF6",
            "gridcolor": "white",
            "gridwidth": 2,
            "linecolor": "white",
            "showbackground": true,
            "ticks": "",
            "zerolinecolor": "white"
           }
          },
          "shapedefaults": {
           "line": {
            "color": "#2a3f5f"
           }
          },
          "ternary": {
           "aaxis": {
            "gridcolor": "white",
            "linecolor": "white",
            "ticks": ""
           },
           "baxis": {
            "gridcolor": "white",
            "linecolor": "white",
            "ticks": ""
           },
           "bgcolor": "#E5ECF6",
           "caxis": {
            "gridcolor": "white",
            "linecolor": "white",
            "ticks": ""
           }
          },
          "title": {
           "x": 0.05
          },
          "xaxis": {
           "automargin": true,
           "gridcolor": "white",
           "linecolor": "white",
           "ticks": "",
           "title": {
            "standoff": 15
           },
           "zerolinecolor": "white",
           "zerolinewidth": 2
          },
          "yaxis": {
           "automargin": true,
           "gridcolor": "white",
           "linecolor": "white",
           "ticks": "",
           "title": {
            "standoff": 15
           },
           "zerolinecolor": "white",
           "zerolinewidth": 2
          }
         }
        },
        "title": {
         "font": {
          "color": "#4D5663"
         },
         "text": "IVVPESOISHRS.MX"
        },
        "xaxis": {
         "gridcolor": "#E1E5ED",
         "rangeslider": {
          "visible": false
         },
         "showgrid": true,
         "tickfont": {
          "color": "#4D5663"
         },
         "title": {
          "font": {
           "color": "#4D5663"
          },
          "text": "Time"
         },
         "zerolinecolor": "#E1E5ED"
        },
        "yaxis": {
         "gridcolor": "#E1E5ED",
         "showgrid": true,
         "showticklabels": false,
         "tickfont": {
          "color": "#4D5663"
         },
         "title": {
          "font": {
           "color": "#4D5663"
          },
          "text": "Stock Price"
         },
         "zerolinecolor": "#E1E5ED"
        },
        "yaxis2": {
         "gridcolor": "#E1E5ED",
         "showgrid": true,
         "tickfont": {
          "color": "#4D5663"
         },
         "title": {
          "font": {
           "color": "#4D5663"
          },
          "text": "Stock Price"
         },
         "zerolinecolor": "#E1E5ED"
        }
       }
      },
      "text/html": [
       "<div>                            <div id=\"f0a8c838-b4d3-48c5-b52b-28bb9eb19769\" class=\"plotly-graph-div\" style=\"height:525px; width:100%;\"></div>            <script type=\"text/javascript\">                require([\"plotly\"], function(Plotly) {                    window.PLOTLYENV=window.PLOTLYENV || {};\n",
       "                    window.PLOTLYENV.BASE_URL='https://plot.ly';                                    if (document.getElementById(\"f0a8c838-b4d3-48c5-b52b-28bb9eb19769\")) {                    Plotly.newPlot(                        \"f0a8c838-b4d3-48c5-b52b-28bb9eb19769\",                        [{\"close\":[82.69999694824219,82.72000122070312,82.58000183105469,81.95999908447266,81.5999984741211,81.86000061035156,82.27999877929688,82.08000183105469,81.97000122070312,82.81999969482422,null,82.12000274658203,81.62999725341797,82.0,80.0,79.80000305175781,79.5999984741211,78.6500015258789,78.6500015258789,79.1500015258789,78.88999938964844,78.5999984741211,77.88999938964844,78.66999816894531,78.37000274658203,79.75,80.20999908447266,80.5999984741211,80.54000091552734,80.2699966430664,79.94000244140625,80.94999694824219,80.5999984741211,79.80000305175781,80.0999984741211,78.55999755859375,78.41000366210938,78.6500015258789,null,76.97000122070312,76.13999938964844,76.93000030517578,77.23999786376953,78.41999816894531,80.62999725341797,80.5999984741211,81.05000305175781,81.0],\"high\":[83.02999877929688,82.72000122070312,82.83000183105469,82.36000061035156,81.62999725341797,82.16000366210938,82.51000213623047,82.08000183105469,82.30000305175781,82.81999969482422,null,82.19999694824219,82.19000244140625,82.08000183105469,80.48999786376953,80.19000244140625,79.69999694824219,79.33000183105469,78.66999816894531,79.30000305175781,79.80000305175781,78.97000122070312,78.12999725341797,78.68000030517578,78.51000213623047,79.75,80.20999908447266,80.8499984741211,80.54000091552734,80.80999755859375,80.5199966430664,81.23999786376953,81.04000091552734,80.55000305175781,80.0999984741211,79.16999816894531,78.41000366210938,78.66000366210938,null,77.13999938964844,76.77999877929688,76.97000122070312,77.23999786376953,78.41999816894531,80.8499984741211,80.7300033569336,81.05000305175781,81.06999969482422],\"low\":[82.68000030517578,82.72000122070312,82.55000305175781,81.66999816894531,81.41999816894531,81.86000061035156,82.12999725341797,82.08000183105469,81.97000122070312,82.3499984741211,null,81.87999725341797,81.31999969482422,81.80000305175781,80.0,79.79000091552734,79.33000183105469,78.6500015258789,77.94000244140625,79.12999725341797,78.88999938964844,78.56999969482422,77.75,78.5199966430664,78.1500015258789,78.27999877929688,79.05000305175781,80.3499984741211,80.4000015258789,80.20999908447266,79.87000274658203,80.52999877929688,80.44999694824219,79.69000244140625,79.55000305175781,78.43000030517578,77.88999938964844,78.18000030517578,null,76.3499984741211,76.13999938964844,76.5999984741211,77.23999786376953,77.87000274658203,79.0,80.5,80.83999633789062,80.68000030517578],\"open\":[83.01000213623047,82.72000122070312,82.70999908447266,82.36000061035156,81.41999816894531,82.16000366210938,82.12999725341797,82.08000183105469,82.05000305175781,82.3499984741211,null,81.87999725341797,82.19000244140625,81.94999694824219,80.48999786376953,80.0,79.33000183105469,79.33000183105469,78.66999816894531,79.20999908447266,79.61000061035156,78.88999938964844,78.0,78.63999938964844,78.5,78.27999877929688,79.05999755859375,80.3499984741211,80.4000015258789,80.7699966430664,80.5199966430664,80.52999877929688,81.04000091552734,80.55000305175781,79.8499984741211,79.16999816894531,77.88999938964844,78.41000366210938,null,76.3499984741211,76.58000183105469,76.76000213623047,77.23999786376953,78.1500015258789,79.0,80.63999938964844,81.0,81.05000305175781],\"showlegend\":false,\"x\":[\"2023-09-01\",\"2023-09-04\",\"2023-09-05\",\"2023-09-06\",\"2023-09-07\",\"2023-09-08\",\"2023-09-11\",\"2023-09-12\",\"2023-09-13\",\"2023-09-14\",\"2023-09-15\",\"2023-09-18\",\"2023-09-19\",\"2023-09-20\",\"2023-09-21\",\"2023-09-22\",\"2023-09-25\",\"2023-09-26\",\"2023-09-27\",\"2023-09-28\",\"2023-09-29\",\"2023-10-02\",\"2023-10-03\",\"2023-10-04\",\"2023-10-05\",\"2023-10-06\",\"2023-10-09\",\"2023-10-10\",\"2023-10-11\",\"2023-10-12\",\"2023-10-13\",\"2023-10-16\",\"2023-10-17\",\"2023-10-18\",\"2023-10-19\",\"2023-10-20\",\"2023-10-23\",\"2023-10-24\",\"2023-10-25\",\"2023-10-26\",\"2023-10-27\",\"2023-10-30\",\"2023-10-31\",\"2023-11-01\",\"2023-11-03\",\"2023-11-06\",\"2023-11-07\",\"2023-11-08\"],\"yaxis\":\"y2\",\"type\":\"candlestick\"}],                        {\"legend\":{\"bgcolor\":\"#F5F6F9\",\"font\":{\"color\":\"#4D5663\"}},\"paper_bgcolor\":\"#F5F6F9\",\"plot_bgcolor\":\"#F5F6F9\",\"template\":{\"data\":{\"barpolar\":[{\"marker\":{\"line\":{\"color\":\"#E5ECF6\",\"width\":0.5},\"pattern\":{\"fillmode\":\"overlay\",\"size\":10,\"solidity\":0.2}},\"type\":\"barpolar\"}],\"bar\":[{\"error_x\":{\"color\":\"#2a3f5f\"},\"error_y\":{\"color\":\"#2a3f5f\"},\"marker\":{\"line\":{\"color\":\"#E5ECF6\",\"width\":0.5},\"pattern\":{\"fillmode\":\"overlay\",\"size\":10,\"solidity\":0.2}},\"type\":\"bar\"}],\"carpet\":[{\"aaxis\":{\"endlinecolor\":\"#2a3f5f\",\"gridcolor\":\"white\",\"linecolor\":\"white\",\"minorgridcolor\":\"white\",\"startlinecolor\":\"#2a3f5f\"},\"baxis\":{\"endlinecolor\":\"#2a3f5f\",\"gridcolor\":\"white\",\"linecolor\":\"white\",\"minorgridcolor\":\"white\",\"startlinecolor\":\"#2a3f5f\"},\"type\":\"carpet\"}],\"choropleth\":[{\"colorbar\":{\"outlinewidth\":0,\"ticks\":\"\"},\"type\":\"choropleth\"}],\"contourcarpet\":[{\"colorbar\":{\"outlinewidth\":0,\"ticks\":\"\"},\"type\":\"contourcarpet\"}],\"contour\":[{\"colorbar\":{\"outlinewidth\":0,\"ticks\":\"\"},\"colorscale\":[[0.0,\"#0d0887\"],[0.1111111111111111,\"#46039f\"],[0.2222222222222222,\"#7201a8\"],[0.3333333333333333,\"#9c179e\"],[0.4444444444444444,\"#bd3786\"],[0.5555555555555556,\"#d8576b\"],[0.6666666666666666,\"#ed7953\"],[0.7777777777777778,\"#fb9f3a\"],[0.8888888888888888,\"#fdca26\"],[1.0,\"#f0f921\"]],\"type\":\"contour\"}],\"heatmapgl\":[{\"colorbar\":{\"outlinewidth\":0,\"ticks\":\"\"},\"colorscale\":[[0.0,\"#0d0887\"],[0.1111111111111111,\"#46039f\"],[0.2222222222222222,\"#7201a8\"],[0.3333333333333333,\"#9c179e\"],[0.4444444444444444,\"#bd3786\"],[0.5555555555555556,\"#d8576b\"],[0.6666666666666666,\"#ed7953\"],[0.7777777777777778,\"#fb9f3a\"],[0.8888888888888888,\"#fdca26\"],[1.0,\"#f0f921\"]],\"type\":\"heatmapgl\"}],\"heatmap\":[{\"colorbar\":{\"outlinewidth\":0,\"ticks\":\"\"},\"colorscale\":[[0.0,\"#0d0887\"],[0.1111111111111111,\"#46039f\"],[0.2222222222222222,\"#7201a8\"],[0.3333333333333333,\"#9c179e\"],[0.4444444444444444,\"#bd3786\"],[0.5555555555555556,\"#d8576b\"],[0.6666666666666666,\"#ed7953\"],[0.7777777777777778,\"#fb9f3a\"],[0.8888888888888888,\"#fdca26\"],[1.0,\"#f0f921\"]],\"type\":\"heatmap\"}],\"histogram2dcontour\":[{\"colorbar\":{\"outlinewidth\":0,\"ticks\":\"\"},\"colorscale\":[[0.0,\"#0d0887\"],[0.1111111111111111,\"#46039f\"],[0.2222222222222222,\"#7201a8\"],[0.3333333333333333,\"#9c179e\"],[0.4444444444444444,\"#bd3786\"],[0.5555555555555556,\"#d8576b\"],[0.6666666666666666,\"#ed7953\"],[0.7777777777777778,\"#fb9f3a\"],[0.8888888888888888,\"#fdca26\"],[1.0,\"#f0f921\"]],\"type\":\"histogram2dcontour\"}],\"histogram2d\":[{\"colorbar\":{\"outlinewidth\":0,\"ticks\":\"\"},\"colorscale\":[[0.0,\"#0d0887\"],[0.1111111111111111,\"#46039f\"],[0.2222222222222222,\"#7201a8\"],[0.3333333333333333,\"#9c179e\"],[0.4444444444444444,\"#bd3786\"],[0.5555555555555556,\"#d8576b\"],[0.6666666666666666,\"#ed7953\"],[0.7777777777777778,\"#fb9f3a\"],[0.8888888888888888,\"#fdca26\"],[1.0,\"#f0f921\"]],\"type\":\"histogram2d\"}],\"histogram\":[{\"marker\":{\"pattern\":{\"fillmode\":\"overlay\",\"size\":10,\"solidity\":0.2}},\"type\":\"histogram\"}],\"mesh3d\":[{\"colorbar\":{\"outlinewidth\":0,\"ticks\":\"\"},\"type\":\"mesh3d\"}],\"parcoords\":[{\"line\":{\"colorbar\":{\"outlinewidth\":0,\"ticks\":\"\"}},\"type\":\"parcoords\"}],\"pie\":[{\"automargin\":true,\"type\":\"pie\"}],\"scatter3d\":[{\"line\":{\"colorbar\":{\"outlinewidth\":0,\"ticks\":\"\"}},\"marker\":{\"colorbar\":{\"outlinewidth\":0,\"ticks\":\"\"}},\"type\":\"scatter3d\"}],\"scattercarpet\":[{\"marker\":{\"colorbar\":{\"outlinewidth\":0,\"ticks\":\"\"}},\"type\":\"scattercarpet\"}],\"scattergeo\":[{\"marker\":{\"colorbar\":{\"outlinewidth\":0,\"ticks\":\"\"}},\"type\":\"scattergeo\"}],\"scattergl\":[{\"marker\":{\"colorbar\":{\"outlinewidth\":0,\"ticks\":\"\"}},\"type\":\"scattergl\"}],\"scattermapbox\":[{\"marker\":{\"colorbar\":{\"outlinewidth\":0,\"ticks\":\"\"}},\"type\":\"scattermapbox\"}],\"scatterpolargl\":[{\"marker\":{\"colorbar\":{\"outlinewidth\":0,\"ticks\":\"\"}},\"type\":\"scatterpolargl\"}],\"scatterpolar\":[{\"marker\":{\"colorbar\":{\"outlinewidth\":0,\"ticks\":\"\"}},\"type\":\"scatterpolar\"}],\"scatter\":[{\"fillpattern\":{\"fillmode\":\"overlay\",\"size\":10,\"solidity\":0.2},\"type\":\"scatter\"}],\"scatterternary\":[{\"marker\":{\"colorbar\":{\"outlinewidth\":0,\"ticks\":\"\"}},\"type\":\"scatterternary\"}],\"surface\":[{\"colorbar\":{\"outlinewidth\":0,\"ticks\":\"\"},\"colorscale\":[[0.0,\"#0d0887\"],[0.1111111111111111,\"#46039f\"],[0.2222222222222222,\"#7201a8\"],[0.3333333333333333,\"#9c179e\"],[0.4444444444444444,\"#bd3786\"],[0.5555555555555556,\"#d8576b\"],[0.6666666666666666,\"#ed7953\"],[0.7777777777777778,\"#fb9f3a\"],[0.8888888888888888,\"#fdca26\"],[1.0,\"#f0f921\"]],\"type\":\"surface\"}],\"table\":[{\"cells\":{\"fill\":{\"color\":\"#EBF0F8\"},\"line\":{\"color\":\"white\"}},\"header\":{\"fill\":{\"color\":\"#C8D4E3\"},\"line\":{\"color\":\"white\"}},\"type\":\"table\"}]},\"layout\":{\"annotationdefaults\":{\"arrowcolor\":\"#2a3f5f\",\"arrowhead\":0,\"arrowwidth\":1},\"autotypenumbers\":\"strict\",\"coloraxis\":{\"colorbar\":{\"outlinewidth\":0,\"ticks\":\"\"}},\"colorscale\":{\"diverging\":[[0,\"#8e0152\"],[0.1,\"#c51b7d\"],[0.2,\"#de77ae\"],[0.3,\"#f1b6da\"],[0.4,\"#fde0ef\"],[0.5,\"#f7f7f7\"],[0.6,\"#e6f5d0\"],[0.7,\"#b8e186\"],[0.8,\"#7fbc41\"],[0.9,\"#4d9221\"],[1,\"#276419\"]],\"sequential\":[[0.0,\"#0d0887\"],[0.1111111111111111,\"#46039f\"],[0.2222222222222222,\"#7201a8\"],[0.3333333333333333,\"#9c179e\"],[0.4444444444444444,\"#bd3786\"],[0.5555555555555556,\"#d8576b\"],[0.6666666666666666,\"#ed7953\"],[0.7777777777777778,\"#fb9f3a\"],[0.8888888888888888,\"#fdca26\"],[1.0,\"#f0f921\"]],\"sequentialminus\":[[0.0,\"#0d0887\"],[0.1111111111111111,\"#46039f\"],[0.2222222222222222,\"#7201a8\"],[0.3333333333333333,\"#9c179e\"],[0.4444444444444444,\"#bd3786\"],[0.5555555555555556,\"#d8576b\"],[0.6666666666666666,\"#ed7953\"],[0.7777777777777778,\"#fb9f3a\"],[0.8888888888888888,\"#fdca26\"],[1.0,\"#f0f921\"]]},\"colorway\":[\"#636efa\",\"#EF553B\",\"#00cc96\",\"#ab63fa\",\"#FFA15A\",\"#19d3f3\",\"#FF6692\",\"#B6E880\",\"#FF97FF\",\"#FECB52\"],\"font\":{\"color\":\"#2a3f5f\"},\"geo\":{\"bgcolor\":\"white\",\"lakecolor\":\"white\",\"landcolor\":\"#E5ECF6\",\"showlakes\":true,\"showland\":true,\"subunitcolor\":\"white\"},\"hoverlabel\":{\"align\":\"left\"},\"hovermode\":\"closest\",\"mapbox\":{\"style\":\"light\"},\"paper_bgcolor\":\"white\",\"plot_bgcolor\":\"#E5ECF6\",\"polar\":{\"angularaxis\":{\"gridcolor\":\"white\",\"linecolor\":\"white\",\"ticks\":\"\"},\"bgcolor\":\"#E5ECF6\",\"radialaxis\":{\"gridcolor\":\"white\",\"linecolor\":\"white\",\"ticks\":\"\"}},\"scene\":{\"xaxis\":{\"backgroundcolor\":\"#E5ECF6\",\"gridcolor\":\"white\",\"gridwidth\":2,\"linecolor\":\"white\",\"showbackground\":true,\"ticks\":\"\",\"zerolinecolor\":\"white\"},\"yaxis\":{\"backgroundcolor\":\"#E5ECF6\",\"gridcolor\":\"white\",\"gridwidth\":2,\"linecolor\":\"white\",\"showbackground\":true,\"ticks\":\"\",\"zerolinecolor\":\"white\"},\"zaxis\":{\"backgroundcolor\":\"#E5ECF6\",\"gridcolor\":\"white\",\"gridwidth\":2,\"linecolor\":\"white\",\"showbackground\":true,\"ticks\":\"\",\"zerolinecolor\":\"white\"}},\"shapedefaults\":{\"line\":{\"color\":\"#2a3f5f\"}},\"ternary\":{\"aaxis\":{\"gridcolor\":\"white\",\"linecolor\":\"white\",\"ticks\":\"\"},\"baxis\":{\"gridcolor\":\"white\",\"linecolor\":\"white\",\"ticks\":\"\"},\"bgcolor\":\"#E5ECF6\",\"caxis\":{\"gridcolor\":\"white\",\"linecolor\":\"white\",\"ticks\":\"\"}},\"title\":{\"x\":0.05},\"xaxis\":{\"automargin\":true,\"gridcolor\":\"white\",\"linecolor\":\"white\",\"ticks\":\"\",\"title\":{\"standoff\":15},\"zerolinecolor\":\"white\",\"zerolinewidth\":2},\"yaxis\":{\"automargin\":true,\"gridcolor\":\"white\",\"linecolor\":\"white\",\"ticks\":\"\",\"title\":{\"standoff\":15},\"zerolinecolor\":\"white\",\"zerolinewidth\":2}}},\"title\":{\"font\":{\"color\":\"#4D5663\"},\"text\":\"IVVPESOISHRS.MX\"},\"xaxis\":{\"gridcolor\":\"#E1E5ED\",\"rangeslider\":{\"visible\":false},\"showgrid\":true,\"tickfont\":{\"color\":\"#4D5663\"},\"title\":{\"font\":{\"color\":\"#4D5663\"},\"text\":\"Time\"},\"zerolinecolor\":\"#E1E5ED\"},\"yaxis\":{\"gridcolor\":\"#E1E5ED\",\"showgrid\":true,\"showticklabels\":false,\"tickfont\":{\"color\":\"#4D5663\"},\"title\":{\"font\":{\"color\":\"#4D5663\"},\"text\":\"Stock Price\"},\"zerolinecolor\":\"#E1E5ED\"},\"yaxis2\":{\"gridcolor\":\"#E1E5ED\",\"showgrid\":true,\"tickfont\":{\"color\":\"#4D5663\"},\"title\":{\"font\":{\"color\":\"#4D5663\"},\"text\":\"Stock Price\"},\"zerolinecolor\":\"#E1E5ED\"}},                        {\"showLink\": true, \"linkText\": \"Export to plot.ly\", \"plotlyServerURL\": \"https://plot.ly\", \"responsive\": true}                    ).then(function(){\n",
       "                            \n",
       "var gd = document.getElementById('f0a8c838-b4d3-48c5-b52b-28bb9eb19769');\n",
       "var x = new MutationObserver(function (mutations, observer) {{\n",
       "        var display = window.getComputedStyle(gd).display;\n",
       "        if (!display || display === 'none') {{\n",
       "            console.log([gd, 'removed!']);\n",
       "            Plotly.purge(gd);\n",
       "            observer.disconnect();\n",
       "        }}\n",
       "}});\n",
       "\n",
       "// Listen for the removal of the full notebook cells\n",
       "var notebookContainer = gd.closest('#notebook-container');\n",
       "if (notebookContainer) {{\n",
       "    x.observe(notebookContainer, {childList: true});\n",
       "}}\n",
       "\n",
       "// Listen for the clearing of the current output cell\n",
       "var outputEl = gd.closest('.output');\n",
       "if (outputEl) {{\n",
       "    x.observe(outputEl, {childList: true});\n",
       "}}\n",
       "\n",
       "                        })                };                });            </script>        </div>"
      ]
     },
     "metadata": {},
     "output_type": "display_data"
    }
   ],
   "source": [
    "# adding more technical stuff\n",
    "ivvpesoishrs.loc[\"09-2023\":].iplot(kind= \"candle\", \n",
    "                                  colorscale= \"pubugn\", \n",
    "                                  title= \"IVVPESOISHRS.MX\", \n",
    "                                  xTitle= \"Time\", \n",
    "                                  yTitle= \"Stock Price\")"
   ]
  },
  {
   "cell_type": "code",
   "execution_count": 27,
   "metadata": {},
   "outputs": [
    {
     "data": {
      "application/vnd.plotly.v1+json": {
       "config": {
        "linkText": "Export to plot.ly",
        "plotlyServerURL": "https://plot.ly",
        "showLink": true
       },
       "data": [
        {
         "close": [
          82.69999694824219,
          82.72000122070312,
          82.58000183105469,
          81.95999908447266,
          81.5999984741211,
          81.86000061035156,
          82.27999877929688,
          82.08000183105469,
          81.97000122070312,
          82.81999969482422,
          null,
          82.12000274658203,
          81.62999725341797,
          82,
          80,
          79.80000305175781,
          79.5999984741211,
          78.6500015258789,
          78.6500015258789,
          79.1500015258789,
          78.88999938964844,
          78.5999984741211,
          77.88999938964844,
          78.66999816894531,
          78.37000274658203,
          79.75,
          80.20999908447266,
          80.5999984741211,
          80.54000091552734,
          80.2699966430664,
          79.94000244140625,
          80.94999694824219,
          80.5999984741211,
          79.80000305175781,
          80.0999984741211,
          78.55999755859375,
          78.41000366210938,
          78.6500015258789,
          null,
          76.97000122070312,
          76.13999938964844,
          76.93000030517578,
          77.23999786376953,
          78.41999816894531,
          80.62999725341797,
          80.5999984741211,
          81.05000305175781,
          81
         ],
         "decreasing": {
          "line": {
           "color": "#808080"
          }
         },
         "high": [
          83.02999877929688,
          82.72000122070312,
          82.83000183105469,
          82.36000061035156,
          81.62999725341797,
          82.16000366210938,
          82.51000213623047,
          82.08000183105469,
          82.30000305175781,
          82.81999969482422,
          null,
          82.19999694824219,
          82.19000244140625,
          82.08000183105469,
          80.48999786376953,
          80.19000244140625,
          79.69999694824219,
          79.33000183105469,
          78.66999816894531,
          79.30000305175781,
          79.80000305175781,
          78.97000122070312,
          78.12999725341797,
          78.68000030517578,
          78.51000213623047,
          79.75,
          80.20999908447266,
          80.8499984741211,
          80.54000091552734,
          80.80999755859375,
          80.5199966430664,
          81.23999786376953,
          81.04000091552734,
          80.55000305175781,
          80.0999984741211,
          79.16999816894531,
          78.41000366210938,
          78.66000366210938,
          null,
          77.13999938964844,
          76.77999877929688,
          76.97000122070312,
          77.23999786376953,
          78.41999816894531,
          80.8499984741211,
          80.7300033569336,
          81.05000305175781,
          81.06999969482422
         ],
         "increasing": {
          "line": {
           "color": "#17BECF"
          }
         },
         "low": [
          82.68000030517578,
          82.72000122070312,
          82.55000305175781,
          81.66999816894531,
          81.41999816894531,
          81.86000061035156,
          82.12999725341797,
          82.08000183105469,
          81.97000122070312,
          82.3499984741211,
          null,
          81.87999725341797,
          81.31999969482422,
          81.80000305175781,
          80,
          79.79000091552734,
          79.33000183105469,
          78.6500015258789,
          77.94000244140625,
          79.12999725341797,
          78.88999938964844,
          78.56999969482422,
          77.75,
          78.5199966430664,
          78.1500015258789,
          78.27999877929688,
          79.05000305175781,
          80.3499984741211,
          80.4000015258789,
          80.20999908447266,
          79.87000274658203,
          80.52999877929688,
          80.44999694824219,
          79.69000244140625,
          79.55000305175781,
          78.43000030517578,
          77.88999938964844,
          78.18000030517578,
          null,
          76.3499984741211,
          76.13999938964844,
          76.5999984741211,
          77.23999786376953,
          77.87000274658203,
          79,
          80.5,
          80.83999633789062,
          80.68000030517578
         ],
         "name": "MX ETFs",
         "open": [
          83.01000213623047,
          82.72000122070312,
          82.70999908447266,
          82.36000061035156,
          81.41999816894531,
          82.16000366210938,
          82.12999725341797,
          82.08000183105469,
          82.05000305175781,
          82.3499984741211,
          null,
          81.87999725341797,
          82.19000244140625,
          81.94999694824219,
          80.48999786376953,
          80,
          79.33000183105469,
          79.33000183105469,
          78.66999816894531,
          79.20999908447266,
          79.61000061035156,
          78.88999938964844,
          78,
          78.63999938964844,
          78.5,
          78.27999877929688,
          79.05999755859375,
          80.3499984741211,
          80.4000015258789,
          80.7699966430664,
          80.5199966430664,
          80.52999877929688,
          81.04000091552734,
          80.55000305175781,
          79.8499984741211,
          79.16999816894531,
          77.88999938964844,
          78.41000366210938,
          null,
          76.3499984741211,
          76.58000183105469,
          76.76000213623047,
          77.23999786376953,
          78.1500015258789,
          79,
          80.63999938964844,
          81,
          81.05000305175781
         ],
         "showlegend": true,
         "type": "candlestick",
         "x": [
          "2023-09-01",
          "2023-09-04",
          "2023-09-05",
          "2023-09-06",
          "2023-09-07",
          "2023-09-08",
          "2023-09-11",
          "2023-09-12",
          "2023-09-13",
          "2023-09-14",
          "2023-09-15",
          "2023-09-18",
          "2023-09-19",
          "2023-09-20",
          "2023-09-21",
          "2023-09-22",
          "2023-09-25",
          "2023-09-26",
          "2023-09-27",
          "2023-09-28",
          "2023-09-29",
          "2023-10-02",
          "2023-10-03",
          "2023-10-04",
          "2023-10-05",
          "2023-10-06",
          "2023-10-09",
          "2023-10-10",
          "2023-10-11",
          "2023-10-12",
          "2023-10-13",
          "2023-10-16",
          "2023-10-17",
          "2023-10-18",
          "2023-10-19",
          "2023-10-20",
          "2023-10-23",
          "2023-10-24",
          "2023-10-25",
          "2023-10-26",
          "2023-10-27",
          "2023-10-30",
          "2023-10-31",
          "2023-11-01",
          "2023-11-03",
          "2023-11-06",
          "2023-11-07",
          "2023-11-08"
         ],
         "yaxis": "y2"
        }
       ],
       "layout": {
        "legend": {
         "bgcolor": "#F5F6F9",
         "font": {
          "color": "#4D5663"
         }
        },
        "margin": {
         "b": 30,
         "l": 30,
         "r": 30,
         "t": 30
        },
        "paper_bgcolor": "#F5F6F9",
        "plot_bgcolor": "#F5F6F9",
        "showlegend": true,
        "template": {
         "data": {
          "bar": [
           {
            "error_x": {
             "color": "#2a3f5f"
            },
            "error_y": {
             "color": "#2a3f5f"
            },
            "marker": {
             "line": {
              "color": "#E5ECF6",
              "width": 0.5
             },
             "pattern": {
              "fillmode": "overlay",
              "size": 10,
              "solidity": 0.2
             }
            },
            "type": "bar"
           }
          ],
          "barpolar": [
           {
            "marker": {
             "line": {
              "color": "#E5ECF6",
              "width": 0.5
             },
             "pattern": {
              "fillmode": "overlay",
              "size": 10,
              "solidity": 0.2
             }
            },
            "type": "barpolar"
           }
          ],
          "carpet": [
           {
            "aaxis": {
             "endlinecolor": "#2a3f5f",
             "gridcolor": "white",
             "linecolor": "white",
             "minorgridcolor": "white",
             "startlinecolor": "#2a3f5f"
            },
            "baxis": {
             "endlinecolor": "#2a3f5f",
             "gridcolor": "white",
             "linecolor": "white",
             "minorgridcolor": "white",
             "startlinecolor": "#2a3f5f"
            },
            "type": "carpet"
           }
          ],
          "choropleth": [
           {
            "colorbar": {
             "outlinewidth": 0,
             "ticks": ""
            },
            "type": "choropleth"
           }
          ],
          "contour": [
           {
            "colorbar": {
             "outlinewidth": 0,
             "ticks": ""
            },
            "colorscale": [
             [
              0,
              "#0d0887"
             ],
             [
              0.1111111111111111,
              "#46039f"
             ],
             [
              0.2222222222222222,
              "#7201a8"
             ],
             [
              0.3333333333333333,
              "#9c179e"
             ],
             [
              0.4444444444444444,
              "#bd3786"
             ],
             [
              0.5555555555555556,
              "#d8576b"
             ],
             [
              0.6666666666666666,
              "#ed7953"
             ],
             [
              0.7777777777777778,
              "#fb9f3a"
             ],
             [
              0.8888888888888888,
              "#fdca26"
             ],
             [
              1,
              "#f0f921"
             ]
            ],
            "type": "contour"
           }
          ],
          "contourcarpet": [
           {
            "colorbar": {
             "outlinewidth": 0,
             "ticks": ""
            },
            "type": "contourcarpet"
           }
          ],
          "heatmap": [
           {
            "colorbar": {
             "outlinewidth": 0,
             "ticks": ""
            },
            "colorscale": [
             [
              0,
              "#0d0887"
             ],
             [
              0.1111111111111111,
              "#46039f"
             ],
             [
              0.2222222222222222,
              "#7201a8"
             ],
             [
              0.3333333333333333,
              "#9c179e"
             ],
             [
              0.4444444444444444,
              "#bd3786"
             ],
             [
              0.5555555555555556,
              "#d8576b"
             ],
             [
              0.6666666666666666,
              "#ed7953"
             ],
             [
              0.7777777777777778,
              "#fb9f3a"
             ],
             [
              0.8888888888888888,
              "#fdca26"
             ],
             [
              1,
              "#f0f921"
             ]
            ],
            "type": "heatmap"
           }
          ],
          "heatmapgl": [
           {
            "colorbar": {
             "outlinewidth": 0,
             "ticks": ""
            },
            "colorscale": [
             [
              0,
              "#0d0887"
             ],
             [
              0.1111111111111111,
              "#46039f"
             ],
             [
              0.2222222222222222,
              "#7201a8"
             ],
             [
              0.3333333333333333,
              "#9c179e"
             ],
             [
              0.4444444444444444,
              "#bd3786"
             ],
             [
              0.5555555555555556,
              "#d8576b"
             ],
             [
              0.6666666666666666,
              "#ed7953"
             ],
             [
              0.7777777777777778,
              "#fb9f3a"
             ],
             [
              0.8888888888888888,
              "#fdca26"
             ],
             [
              1,
              "#f0f921"
             ]
            ],
            "type": "heatmapgl"
           }
          ],
          "histogram": [
           {
            "marker": {
             "pattern": {
              "fillmode": "overlay",
              "size": 10,
              "solidity": 0.2
             }
            },
            "type": "histogram"
           }
          ],
          "histogram2d": [
           {
            "colorbar": {
             "outlinewidth": 0,
             "ticks": ""
            },
            "colorscale": [
             [
              0,
              "#0d0887"
             ],
             [
              0.1111111111111111,
              "#46039f"
             ],
             [
              0.2222222222222222,
              "#7201a8"
             ],
             [
              0.3333333333333333,
              "#9c179e"
             ],
             [
              0.4444444444444444,
              "#bd3786"
             ],
             [
              0.5555555555555556,
              "#d8576b"
             ],
             [
              0.6666666666666666,
              "#ed7953"
             ],
             [
              0.7777777777777778,
              "#fb9f3a"
             ],
             [
              0.8888888888888888,
              "#fdca26"
             ],
             [
              1,
              "#f0f921"
             ]
            ],
            "type": "histogram2d"
           }
          ],
          "histogram2dcontour": [
           {
            "colorbar": {
             "outlinewidth": 0,
             "ticks": ""
            },
            "colorscale": [
             [
              0,
              "#0d0887"
             ],
             [
              0.1111111111111111,
              "#46039f"
             ],
             [
              0.2222222222222222,
              "#7201a8"
             ],
             [
              0.3333333333333333,
              "#9c179e"
             ],
             [
              0.4444444444444444,
              "#bd3786"
             ],
             [
              0.5555555555555556,
              "#d8576b"
             ],
             [
              0.6666666666666666,
              "#ed7953"
             ],
             [
              0.7777777777777778,
              "#fb9f3a"
             ],
             [
              0.8888888888888888,
              "#fdca26"
             ],
             [
              1,
              "#f0f921"
             ]
            ],
            "type": "histogram2dcontour"
           }
          ],
          "mesh3d": [
           {
            "colorbar": {
             "outlinewidth": 0,
             "ticks": ""
            },
            "type": "mesh3d"
           }
          ],
          "parcoords": [
           {
            "line": {
             "colorbar": {
              "outlinewidth": 0,
              "ticks": ""
             }
            },
            "type": "parcoords"
           }
          ],
          "pie": [
           {
            "automargin": true,
            "type": "pie"
           }
          ],
          "scatter": [
           {
            "fillpattern": {
             "fillmode": "overlay",
             "size": 10,
             "solidity": 0.2
            },
            "type": "scatter"
           }
          ],
          "scatter3d": [
           {
            "line": {
             "colorbar": {
              "outlinewidth": 0,
              "ticks": ""
             }
            },
            "marker": {
             "colorbar": {
              "outlinewidth": 0,
              "ticks": ""
             }
            },
            "type": "scatter3d"
           }
          ],
          "scattercarpet": [
           {
            "marker": {
             "colorbar": {
              "outlinewidth": 0,
              "ticks": ""
             }
            },
            "type": "scattercarpet"
           }
          ],
          "scattergeo": [
           {
            "marker": {
             "colorbar": {
              "outlinewidth": 0,
              "ticks": ""
             }
            },
            "type": "scattergeo"
           }
          ],
          "scattergl": [
           {
            "marker": {
             "colorbar": {
              "outlinewidth": 0,
              "ticks": ""
             }
            },
            "type": "scattergl"
           }
          ],
          "scattermapbox": [
           {
            "marker": {
             "colorbar": {
              "outlinewidth": 0,
              "ticks": ""
             }
            },
            "type": "scattermapbox"
           }
          ],
          "scatterpolar": [
           {
            "marker": {
             "colorbar": {
              "outlinewidth": 0,
              "ticks": ""
             }
            },
            "type": "scatterpolar"
           }
          ],
          "scatterpolargl": [
           {
            "marker": {
             "colorbar": {
              "outlinewidth": 0,
              "ticks": ""
             }
            },
            "type": "scatterpolargl"
           }
          ],
          "scatterternary": [
           {
            "marker": {
             "colorbar": {
              "outlinewidth": 0,
              "ticks": ""
             }
            },
            "type": "scatterternary"
           }
          ],
          "surface": [
           {
            "colorbar": {
             "outlinewidth": 0,
             "ticks": ""
            },
            "colorscale": [
             [
              0,
              "#0d0887"
             ],
             [
              0.1111111111111111,
              "#46039f"
             ],
             [
              0.2222222222222222,
              "#7201a8"
             ],
             [
              0.3333333333333333,
              "#9c179e"
             ],
             [
              0.4444444444444444,
              "#bd3786"
             ],
             [
              0.5555555555555556,
              "#d8576b"
             ],
             [
              0.6666666666666666,
              "#ed7953"
             ],
             [
              0.7777777777777778,
              "#fb9f3a"
             ],
             [
              0.8888888888888888,
              "#fdca26"
             ],
             [
              1,
              "#f0f921"
             ]
            ],
            "type": "surface"
           }
          ],
          "table": [
           {
            "cells": {
             "fill": {
              "color": "#EBF0F8"
             },
             "line": {
              "color": "white"
             }
            },
            "header": {
             "fill": {
              "color": "#C8D4E3"
             },
             "line": {
              "color": "white"
             }
            },
            "type": "table"
           }
          ]
         },
         "layout": {
          "annotationdefaults": {
           "arrowcolor": "#2a3f5f",
           "arrowhead": 0,
           "arrowwidth": 1
          },
          "autotypenumbers": "strict",
          "coloraxis": {
           "colorbar": {
            "outlinewidth": 0,
            "ticks": ""
           }
          },
          "colorscale": {
           "diverging": [
            [
             0,
             "#8e0152"
            ],
            [
             0.1,
             "#c51b7d"
            ],
            [
             0.2,
             "#de77ae"
            ],
            [
             0.3,
             "#f1b6da"
            ],
            [
             0.4,
             "#fde0ef"
            ],
            [
             0.5,
             "#f7f7f7"
            ],
            [
             0.6,
             "#e6f5d0"
            ],
            [
             0.7,
             "#b8e186"
            ],
            [
             0.8,
             "#7fbc41"
            ],
            [
             0.9,
             "#4d9221"
            ],
            [
             1,
             "#276419"
            ]
           ],
           "sequential": [
            [
             0,
             "#0d0887"
            ],
            [
             0.1111111111111111,
             "#46039f"
            ],
            [
             0.2222222222222222,
             "#7201a8"
            ],
            [
             0.3333333333333333,
             "#9c179e"
            ],
            [
             0.4444444444444444,
             "#bd3786"
            ],
            [
             0.5555555555555556,
             "#d8576b"
            ],
            [
             0.6666666666666666,
             "#ed7953"
            ],
            [
             0.7777777777777778,
             "#fb9f3a"
            ],
            [
             0.8888888888888888,
             "#fdca26"
            ],
            [
             1,
             "#f0f921"
            ]
           ],
           "sequentialminus": [
            [
             0,
             "#0d0887"
            ],
            [
             0.1111111111111111,
             "#46039f"
            ],
            [
             0.2222222222222222,
             "#7201a8"
            ],
            [
             0.3333333333333333,
             "#9c179e"
            ],
            [
             0.4444444444444444,
             "#bd3786"
            ],
            [
             0.5555555555555556,
             "#d8576b"
            ],
            [
             0.6666666666666666,
             "#ed7953"
            ],
            [
             0.7777777777777778,
             "#fb9f3a"
            ],
            [
             0.8888888888888888,
             "#fdca26"
            ],
            [
             1,
             "#f0f921"
            ]
           ]
          },
          "colorway": [
           "#636efa",
           "#EF553B",
           "#00cc96",
           "#ab63fa",
           "#FFA15A",
           "#19d3f3",
           "#FF6692",
           "#B6E880",
           "#FF97FF",
           "#FECB52"
          ],
          "font": {
           "color": "#2a3f5f"
          },
          "geo": {
           "bgcolor": "white",
           "lakecolor": "white",
           "landcolor": "#E5ECF6",
           "showlakes": true,
           "showland": true,
           "subunitcolor": "white"
          },
          "hoverlabel": {
           "align": "left"
          },
          "hovermode": "closest",
          "mapbox": {
           "style": "light"
          },
          "paper_bgcolor": "white",
          "plot_bgcolor": "#E5ECF6",
          "polar": {
           "angularaxis": {
            "gridcolor": "white",
            "linecolor": "white",
            "ticks": ""
           },
           "bgcolor": "#E5ECF6",
           "radialaxis": {
            "gridcolor": "white",
            "linecolor": "white",
            "ticks": ""
           }
          },
          "scene": {
           "xaxis": {
            "backgroundcolor": "#E5ECF6",
            "gridcolor": "white",
            "gridwidth": 2,
            "linecolor": "white",
            "showbackground": true,
            "ticks": "",
            "zerolinecolor": "white"
           },
           "yaxis": {
            "backgroundcolor": "#E5ECF6",
            "gridcolor": "white",
            "gridwidth": 2,
            "linecolor": "white",
            "showbackground": true,
            "ticks": "",
            "zerolinecolor": "white"
           },
           "zaxis": {
            "backgroundcolor": "#E5ECF6",
            "gridcolor": "white",
            "gridwidth": 2,
            "linecolor": "white",
            "showbackground": true,
            "ticks": "",
            "zerolinecolor": "white"
           }
          },
          "shapedefaults": {
           "line": {
            "color": "#2a3f5f"
           }
          },
          "ternary": {
           "aaxis": {
            "gridcolor": "white",
            "linecolor": "white",
            "ticks": ""
           },
           "baxis": {
            "gridcolor": "white",
            "linecolor": "white",
            "ticks": ""
           },
           "bgcolor": "#E5ECF6",
           "caxis": {
            "gridcolor": "white",
            "linecolor": "white",
            "ticks": ""
           }
          },
          "title": {
           "x": 0.05
          },
          "xaxis": {
           "automargin": true,
           "gridcolor": "white",
           "linecolor": "white",
           "ticks": "",
           "title": {
            "standoff": 15
           },
           "zerolinecolor": "white",
           "zerolinewidth": 2
          },
          "yaxis": {
           "automargin": true,
           "gridcolor": "white",
           "linecolor": "white",
           "ticks": "",
           "title": {
            "standoff": 15
           },
           "zerolinecolor": "white",
           "zerolinewidth": 2
          }
         }
        },
        "title": {
         "font": {
          "color": "#4D5663"
         },
         "text": "IVVPESOISHRS.MX"
        },
        "xaxis": {
         "anchor": "y2",
         "gridcolor": "#E1E5ED",
         "rangeselector": {
          "bgcolor": "rgba(150, 200, 250, 1)",
          "buttons": [
           {
            "count": 1,
            "label": "1m",
            "step": "month",
            "stepmode": "backward"
           },
           {
            "count": 1,
            "label": "1y",
            "step": "year",
            "stepmode": "backward"
           }
          ],
          "font": {
           "size": 13
          },
          "visible": false,
          "x": 0,
          "y": 0.9
         },
         "rangeslider": {
          "visible": false
         },
         "showgrid": true,
         "tickfont": {
          "color": "#4D5663"
         },
         "title": {
          "font": {
           "color": "#4D5663"
          },
          "text": ""
         },
         "zerolinecolor": "#E1E5ED"
        },
        "yaxis": {
         "gridcolor": "#E1E5ED",
         "showgrid": true,
         "showticklabels": false,
         "tickfont": {
          "color": "#4D5663"
         },
         "title": {
          "font": {
           "color": "#4D5663"
          },
          "text": ""
         },
         "zerolinecolor": "#E1E5ED"
        },
        "yaxis2": {
         "domain": [
          0,
          0.9
         ],
         "gridcolor": "#E1E5ED",
         "showgrid": true,
         "tickfont": {
          "color": "#4D5663"
         },
         "title": {
          "font": {
           "color": "#4D5663"
          },
          "text": ""
         },
         "zerolinecolor": "#E1E5ED"
        }
       }
      },
      "text/html": [
       "<div>                            <div id=\"67b15135-4565-45cc-b07a-8ec350e2b09d\" class=\"plotly-graph-div\" style=\"height:525px; width:100%;\"></div>            <script type=\"text/javascript\">                require([\"plotly\"], function(Plotly) {                    window.PLOTLYENV=window.PLOTLYENV || {};\n",
       "                    window.PLOTLYENV.BASE_URL='https://plot.ly';                                    if (document.getElementById(\"67b15135-4565-45cc-b07a-8ec350e2b09d\")) {                    Plotly.newPlot(                        \"67b15135-4565-45cc-b07a-8ec350e2b09d\",                        [{\"close\":[82.69999694824219,82.72000122070312,82.58000183105469,81.95999908447266,81.5999984741211,81.86000061035156,82.27999877929688,82.08000183105469,81.97000122070312,82.81999969482422,null,82.12000274658203,81.62999725341797,82.0,80.0,79.80000305175781,79.5999984741211,78.6500015258789,78.6500015258789,79.1500015258789,78.88999938964844,78.5999984741211,77.88999938964844,78.66999816894531,78.37000274658203,79.75,80.20999908447266,80.5999984741211,80.54000091552734,80.2699966430664,79.94000244140625,80.94999694824219,80.5999984741211,79.80000305175781,80.0999984741211,78.55999755859375,78.41000366210938,78.6500015258789,null,76.97000122070312,76.13999938964844,76.93000030517578,77.23999786376953,78.41999816894531,80.62999725341797,80.5999984741211,81.05000305175781,81.0],\"decreasing\":{\"line\":{\"color\":\"#808080\"}},\"high\":[83.02999877929688,82.72000122070312,82.83000183105469,82.36000061035156,81.62999725341797,82.16000366210938,82.51000213623047,82.08000183105469,82.30000305175781,82.81999969482422,null,82.19999694824219,82.19000244140625,82.08000183105469,80.48999786376953,80.19000244140625,79.69999694824219,79.33000183105469,78.66999816894531,79.30000305175781,79.80000305175781,78.97000122070312,78.12999725341797,78.68000030517578,78.51000213623047,79.75,80.20999908447266,80.8499984741211,80.54000091552734,80.80999755859375,80.5199966430664,81.23999786376953,81.04000091552734,80.55000305175781,80.0999984741211,79.16999816894531,78.41000366210938,78.66000366210938,null,77.13999938964844,76.77999877929688,76.97000122070312,77.23999786376953,78.41999816894531,80.8499984741211,80.7300033569336,81.05000305175781,81.06999969482422],\"increasing\":{\"line\":{\"color\":\"#17BECF\"}},\"low\":[82.68000030517578,82.72000122070312,82.55000305175781,81.66999816894531,81.41999816894531,81.86000061035156,82.12999725341797,82.08000183105469,81.97000122070312,82.3499984741211,null,81.87999725341797,81.31999969482422,81.80000305175781,80.0,79.79000091552734,79.33000183105469,78.6500015258789,77.94000244140625,79.12999725341797,78.88999938964844,78.56999969482422,77.75,78.5199966430664,78.1500015258789,78.27999877929688,79.05000305175781,80.3499984741211,80.4000015258789,80.20999908447266,79.87000274658203,80.52999877929688,80.44999694824219,79.69000244140625,79.55000305175781,78.43000030517578,77.88999938964844,78.18000030517578,null,76.3499984741211,76.13999938964844,76.5999984741211,77.23999786376953,77.87000274658203,79.0,80.5,80.83999633789062,80.68000030517578],\"name\":\"MX ETFs\",\"open\":[83.01000213623047,82.72000122070312,82.70999908447266,82.36000061035156,81.41999816894531,82.16000366210938,82.12999725341797,82.08000183105469,82.05000305175781,82.3499984741211,null,81.87999725341797,82.19000244140625,81.94999694824219,80.48999786376953,80.0,79.33000183105469,79.33000183105469,78.66999816894531,79.20999908447266,79.61000061035156,78.88999938964844,78.0,78.63999938964844,78.5,78.27999877929688,79.05999755859375,80.3499984741211,80.4000015258789,80.7699966430664,80.5199966430664,80.52999877929688,81.04000091552734,80.55000305175781,79.8499984741211,79.16999816894531,77.88999938964844,78.41000366210938,null,76.3499984741211,76.58000183105469,76.76000213623047,77.23999786376953,78.1500015258789,79.0,80.63999938964844,81.0,81.05000305175781],\"showlegend\":true,\"x\":[\"2023-09-01\",\"2023-09-04\",\"2023-09-05\",\"2023-09-06\",\"2023-09-07\",\"2023-09-08\",\"2023-09-11\",\"2023-09-12\",\"2023-09-13\",\"2023-09-14\",\"2023-09-15\",\"2023-09-18\",\"2023-09-19\",\"2023-09-20\",\"2023-09-21\",\"2023-09-22\",\"2023-09-25\",\"2023-09-26\",\"2023-09-27\",\"2023-09-28\",\"2023-09-29\",\"2023-10-02\",\"2023-10-03\",\"2023-10-04\",\"2023-10-05\",\"2023-10-06\",\"2023-10-09\",\"2023-10-10\",\"2023-10-11\",\"2023-10-12\",\"2023-10-13\",\"2023-10-16\",\"2023-10-17\",\"2023-10-18\",\"2023-10-19\",\"2023-10-20\",\"2023-10-23\",\"2023-10-24\",\"2023-10-25\",\"2023-10-26\",\"2023-10-27\",\"2023-10-30\",\"2023-10-31\",\"2023-11-01\",\"2023-11-03\",\"2023-11-06\",\"2023-11-07\",\"2023-11-08\"],\"yaxis\":\"y2\",\"type\":\"candlestick\"}],                        {\"legend\":{\"bgcolor\":\"#F5F6F9\",\"font\":{\"color\":\"#4D5663\"}},\"margin\":{\"b\":30,\"l\":30,\"r\":30,\"t\":30},\"paper_bgcolor\":\"#F5F6F9\",\"plot_bgcolor\":\"#F5F6F9\",\"showlegend\":true,\"template\":{\"data\":{\"barpolar\":[{\"marker\":{\"line\":{\"color\":\"#E5ECF6\",\"width\":0.5},\"pattern\":{\"fillmode\":\"overlay\",\"size\":10,\"solidity\":0.2}},\"type\":\"barpolar\"}],\"bar\":[{\"error_x\":{\"color\":\"#2a3f5f\"},\"error_y\":{\"color\":\"#2a3f5f\"},\"marker\":{\"line\":{\"color\":\"#E5ECF6\",\"width\":0.5},\"pattern\":{\"fillmode\":\"overlay\",\"size\":10,\"solidity\":0.2}},\"type\":\"bar\"}],\"carpet\":[{\"aaxis\":{\"endlinecolor\":\"#2a3f5f\",\"gridcolor\":\"white\",\"linecolor\":\"white\",\"minorgridcolor\":\"white\",\"startlinecolor\":\"#2a3f5f\"},\"baxis\":{\"endlinecolor\":\"#2a3f5f\",\"gridcolor\":\"white\",\"linecolor\":\"white\",\"minorgridcolor\":\"white\",\"startlinecolor\":\"#2a3f5f\"},\"type\":\"carpet\"}],\"choropleth\":[{\"colorbar\":{\"outlinewidth\":0,\"ticks\":\"\"},\"type\":\"choropleth\"}],\"contourcarpet\":[{\"colorbar\":{\"outlinewidth\":0,\"ticks\":\"\"},\"type\":\"contourcarpet\"}],\"contour\":[{\"colorbar\":{\"outlinewidth\":0,\"ticks\":\"\"},\"colorscale\":[[0.0,\"#0d0887\"],[0.1111111111111111,\"#46039f\"],[0.2222222222222222,\"#7201a8\"],[0.3333333333333333,\"#9c179e\"],[0.4444444444444444,\"#bd3786\"],[0.5555555555555556,\"#d8576b\"],[0.6666666666666666,\"#ed7953\"],[0.7777777777777778,\"#fb9f3a\"],[0.8888888888888888,\"#fdca26\"],[1.0,\"#f0f921\"]],\"type\":\"contour\"}],\"heatmapgl\":[{\"colorbar\":{\"outlinewidth\":0,\"ticks\":\"\"},\"colorscale\":[[0.0,\"#0d0887\"],[0.1111111111111111,\"#46039f\"],[0.2222222222222222,\"#7201a8\"],[0.3333333333333333,\"#9c179e\"],[0.4444444444444444,\"#bd3786\"],[0.5555555555555556,\"#d8576b\"],[0.6666666666666666,\"#ed7953\"],[0.7777777777777778,\"#fb9f3a\"],[0.8888888888888888,\"#fdca26\"],[1.0,\"#f0f921\"]],\"type\":\"heatmapgl\"}],\"heatmap\":[{\"colorbar\":{\"outlinewidth\":0,\"ticks\":\"\"},\"colorscale\":[[0.0,\"#0d0887\"],[0.1111111111111111,\"#46039f\"],[0.2222222222222222,\"#7201a8\"],[0.3333333333333333,\"#9c179e\"],[0.4444444444444444,\"#bd3786\"],[0.5555555555555556,\"#d8576b\"],[0.6666666666666666,\"#ed7953\"],[0.7777777777777778,\"#fb9f3a\"],[0.8888888888888888,\"#fdca26\"],[1.0,\"#f0f921\"]],\"type\":\"heatmap\"}],\"histogram2dcontour\":[{\"colorbar\":{\"outlinewidth\":0,\"ticks\":\"\"},\"colorscale\":[[0.0,\"#0d0887\"],[0.1111111111111111,\"#46039f\"],[0.2222222222222222,\"#7201a8\"],[0.3333333333333333,\"#9c179e\"],[0.4444444444444444,\"#bd3786\"],[0.5555555555555556,\"#d8576b\"],[0.6666666666666666,\"#ed7953\"],[0.7777777777777778,\"#fb9f3a\"],[0.8888888888888888,\"#fdca26\"],[1.0,\"#f0f921\"]],\"type\":\"histogram2dcontour\"}],\"histogram2d\":[{\"colorbar\":{\"outlinewidth\":0,\"ticks\":\"\"},\"colorscale\":[[0.0,\"#0d0887\"],[0.1111111111111111,\"#46039f\"],[0.2222222222222222,\"#7201a8\"],[0.3333333333333333,\"#9c179e\"],[0.4444444444444444,\"#bd3786\"],[0.5555555555555556,\"#d8576b\"],[0.6666666666666666,\"#ed7953\"],[0.7777777777777778,\"#fb9f3a\"],[0.8888888888888888,\"#fdca26\"],[1.0,\"#f0f921\"]],\"type\":\"histogram2d\"}],\"histogram\":[{\"marker\":{\"pattern\":{\"fillmode\":\"overlay\",\"size\":10,\"solidity\":0.2}},\"type\":\"histogram\"}],\"mesh3d\":[{\"colorbar\":{\"outlinewidth\":0,\"ticks\":\"\"},\"type\":\"mesh3d\"}],\"parcoords\":[{\"line\":{\"colorbar\":{\"outlinewidth\":0,\"ticks\":\"\"}},\"type\":\"parcoords\"}],\"pie\":[{\"automargin\":true,\"type\":\"pie\"}],\"scatter3d\":[{\"line\":{\"colorbar\":{\"outlinewidth\":0,\"ticks\":\"\"}},\"marker\":{\"colorbar\":{\"outlinewidth\":0,\"ticks\":\"\"}},\"type\":\"scatter3d\"}],\"scattercarpet\":[{\"marker\":{\"colorbar\":{\"outlinewidth\":0,\"ticks\":\"\"}},\"type\":\"scattercarpet\"}],\"scattergeo\":[{\"marker\":{\"colorbar\":{\"outlinewidth\":0,\"ticks\":\"\"}},\"type\":\"scattergeo\"}],\"scattergl\":[{\"marker\":{\"colorbar\":{\"outlinewidth\":0,\"ticks\":\"\"}},\"type\":\"scattergl\"}],\"scattermapbox\":[{\"marker\":{\"colorbar\":{\"outlinewidth\":0,\"ticks\":\"\"}},\"type\":\"scattermapbox\"}],\"scatterpolargl\":[{\"marker\":{\"colorbar\":{\"outlinewidth\":0,\"ticks\":\"\"}},\"type\":\"scatterpolargl\"}],\"scatterpolar\":[{\"marker\":{\"colorbar\":{\"outlinewidth\":0,\"ticks\":\"\"}},\"type\":\"scatterpolar\"}],\"scatter\":[{\"fillpattern\":{\"fillmode\":\"overlay\",\"size\":10,\"solidity\":0.2},\"type\":\"scatter\"}],\"scatterternary\":[{\"marker\":{\"colorbar\":{\"outlinewidth\":0,\"ticks\":\"\"}},\"type\":\"scatterternary\"}],\"surface\":[{\"colorbar\":{\"outlinewidth\":0,\"ticks\":\"\"},\"colorscale\":[[0.0,\"#0d0887\"],[0.1111111111111111,\"#46039f\"],[0.2222222222222222,\"#7201a8\"],[0.3333333333333333,\"#9c179e\"],[0.4444444444444444,\"#bd3786\"],[0.5555555555555556,\"#d8576b\"],[0.6666666666666666,\"#ed7953\"],[0.7777777777777778,\"#fb9f3a\"],[0.8888888888888888,\"#fdca26\"],[1.0,\"#f0f921\"]],\"type\":\"surface\"}],\"table\":[{\"cells\":{\"fill\":{\"color\":\"#EBF0F8\"},\"line\":{\"color\":\"white\"}},\"header\":{\"fill\":{\"color\":\"#C8D4E3\"},\"line\":{\"color\":\"white\"}},\"type\":\"table\"}]},\"layout\":{\"annotationdefaults\":{\"arrowcolor\":\"#2a3f5f\",\"arrowhead\":0,\"arrowwidth\":1},\"autotypenumbers\":\"strict\",\"coloraxis\":{\"colorbar\":{\"outlinewidth\":0,\"ticks\":\"\"}},\"colorscale\":{\"diverging\":[[0,\"#8e0152\"],[0.1,\"#c51b7d\"],[0.2,\"#de77ae\"],[0.3,\"#f1b6da\"],[0.4,\"#fde0ef\"],[0.5,\"#f7f7f7\"],[0.6,\"#e6f5d0\"],[0.7,\"#b8e186\"],[0.8,\"#7fbc41\"],[0.9,\"#4d9221\"],[1,\"#276419\"]],\"sequential\":[[0.0,\"#0d0887\"],[0.1111111111111111,\"#46039f\"],[0.2222222222222222,\"#7201a8\"],[0.3333333333333333,\"#9c179e\"],[0.4444444444444444,\"#bd3786\"],[0.5555555555555556,\"#d8576b\"],[0.6666666666666666,\"#ed7953\"],[0.7777777777777778,\"#fb9f3a\"],[0.8888888888888888,\"#fdca26\"],[1.0,\"#f0f921\"]],\"sequentialminus\":[[0.0,\"#0d0887\"],[0.1111111111111111,\"#46039f\"],[0.2222222222222222,\"#7201a8\"],[0.3333333333333333,\"#9c179e\"],[0.4444444444444444,\"#bd3786\"],[0.5555555555555556,\"#d8576b\"],[0.6666666666666666,\"#ed7953\"],[0.7777777777777778,\"#fb9f3a\"],[0.8888888888888888,\"#fdca26\"],[1.0,\"#f0f921\"]]},\"colorway\":[\"#636efa\",\"#EF553B\",\"#00cc96\",\"#ab63fa\",\"#FFA15A\",\"#19d3f3\",\"#FF6692\",\"#B6E880\",\"#FF97FF\",\"#FECB52\"],\"font\":{\"color\":\"#2a3f5f\"},\"geo\":{\"bgcolor\":\"white\",\"lakecolor\":\"white\",\"landcolor\":\"#E5ECF6\",\"showlakes\":true,\"showland\":true,\"subunitcolor\":\"white\"},\"hoverlabel\":{\"align\":\"left\"},\"hovermode\":\"closest\",\"mapbox\":{\"style\":\"light\"},\"paper_bgcolor\":\"white\",\"plot_bgcolor\":\"#E5ECF6\",\"polar\":{\"angularaxis\":{\"gridcolor\":\"white\",\"linecolor\":\"white\",\"ticks\":\"\"},\"bgcolor\":\"#E5ECF6\",\"radialaxis\":{\"gridcolor\":\"white\",\"linecolor\":\"white\",\"ticks\":\"\"}},\"scene\":{\"xaxis\":{\"backgroundcolor\":\"#E5ECF6\",\"gridcolor\":\"white\",\"gridwidth\":2,\"linecolor\":\"white\",\"showbackground\":true,\"ticks\":\"\",\"zerolinecolor\":\"white\"},\"yaxis\":{\"backgroundcolor\":\"#E5ECF6\",\"gridcolor\":\"white\",\"gridwidth\":2,\"linecolor\":\"white\",\"showbackground\":true,\"ticks\":\"\",\"zerolinecolor\":\"white\"},\"zaxis\":{\"backgroundcolor\":\"#E5ECF6\",\"gridcolor\":\"white\",\"gridwidth\":2,\"linecolor\":\"white\",\"showbackground\":true,\"ticks\":\"\",\"zerolinecolor\":\"white\"}},\"shapedefaults\":{\"line\":{\"color\":\"#2a3f5f\"}},\"ternary\":{\"aaxis\":{\"gridcolor\":\"white\",\"linecolor\":\"white\",\"ticks\":\"\"},\"baxis\":{\"gridcolor\":\"white\",\"linecolor\":\"white\",\"ticks\":\"\"},\"bgcolor\":\"#E5ECF6\",\"caxis\":{\"gridcolor\":\"white\",\"linecolor\":\"white\",\"ticks\":\"\"}},\"title\":{\"x\":0.05},\"xaxis\":{\"automargin\":true,\"gridcolor\":\"white\",\"linecolor\":\"white\",\"ticks\":\"\",\"title\":{\"standoff\":15},\"zerolinecolor\":\"white\",\"zerolinewidth\":2},\"yaxis\":{\"automargin\":true,\"gridcolor\":\"white\",\"linecolor\":\"white\",\"ticks\":\"\",\"title\":{\"standoff\":15},\"zerolinecolor\":\"white\",\"zerolinewidth\":2}}},\"title\":{\"font\":{\"color\":\"#4D5663\"},\"text\":\"IVVPESOISHRS.MX\"},\"xaxis\":{\"anchor\":\"y2\",\"gridcolor\":\"#E1E5ED\",\"rangeselector\":{\"bgcolor\":\"rgba(150, 200, 250, 1)\",\"buttons\":[{\"count\":1,\"label\":\"1m\",\"step\":\"month\",\"stepmode\":\"backward\"},{\"count\":1,\"label\":\"1y\",\"step\":\"year\",\"stepmode\":\"backward\"}],\"font\":{\"size\":13},\"visible\":false,\"x\":0,\"y\":0.9},\"rangeslider\":{\"visible\":false},\"showgrid\":true,\"tickfont\":{\"color\":\"#4D5663\"},\"title\":{\"font\":{\"color\":\"#4D5663\"},\"text\":\"\"},\"zerolinecolor\":\"#E1E5ED\"},\"yaxis\":{\"gridcolor\":\"#E1E5ED\",\"showgrid\":true,\"showticklabels\":false,\"tickfont\":{\"color\":\"#4D5663\"},\"title\":{\"font\":{\"color\":\"#4D5663\"},\"text\":\"\"},\"zerolinecolor\":\"#E1E5ED\"},\"yaxis2\":{\"domain\":[0.0,0.9],\"gridcolor\":\"#E1E5ED\",\"showgrid\":true,\"tickfont\":{\"color\":\"#4D5663\"},\"title\":{\"font\":{\"color\":\"#4D5663\"},\"text\":\"\"},\"zerolinecolor\":\"#E1E5ED\"}},                        {\"showLink\": true, \"linkText\": \"Export to plot.ly\", \"plotlyServerURL\": \"https://plot.ly\", \"responsive\": true}                    ).then(function(){\n",
       "                            \n",
       "var gd = document.getElementById('67b15135-4565-45cc-b07a-8ec350e2b09d');\n",
       "var x = new MutationObserver(function (mutations, observer) {{\n",
       "        var display = window.getComputedStyle(gd).display;\n",
       "        if (!display || display === 'none') {{\n",
       "            console.log([gd, 'removed!']);\n",
       "            Plotly.purge(gd);\n",
       "            observer.disconnect();\n",
       "        }}\n",
       "}});\n",
       "\n",
       "// Listen for the removal of the full notebook cells\n",
       "var notebookContainer = gd.closest('#notebook-container');\n",
       "if (notebookContainer) {{\n",
       "    x.observe(notebookContainer, {childList: true});\n",
       "}}\n",
       "\n",
       "// Listen for the clearing of the current output cell\n",
       "var outputEl = gd.closest('.output');\n",
       "if (outputEl) {{\n",
       "    x.observe(outputEl, {childList: true});\n",
       "}}\n",
       "\n",
       "                        })                };                });            </script>        </div>"
      ]
     },
     "metadata": {},
     "output_type": "display_data"
    }
   ],
   "source": [
    "# adding more technical stuff\n",
    "qf = cf.QuantFig(df = ivvpesoishrs.loc[\"09-2023\":])\n",
    "type(qf)\n",
    "\n",
    "qf.iplot(title= \"IVVPESOISHRS.MX\", name = \"MX ETFs\")"
   ]
  },
  {
   "cell_type": "code",
   "execution_count": 33,
   "metadata": {},
   "outputs": [
    {
     "data": {
      "application/vnd.plotly.v1+json": {
       "config": {
        "linkText": "Export to plot.ly",
        "plotlyServerURL": "https://plot.ly",
        "showLink": true
       },
       "data": [
        {
         "marker": {
          "color": [
           "#808080",
           "#808080",
           "#17BECF",
           "#17BECF",
           "#808080",
           "#808080",
           "#17BECF",
           "#808080",
           "#17BECF",
           "#808080",
           "#808080",
           "#808080",
           "#17BECF",
           "#808080",
           "#17BECF",
           "#808080",
           "#17BECF",
           "#17BECF",
           "#17BECF",
           "#808080",
           "#808080",
           "#17BECF",
           "#17BECF",
           "#808080",
           "#808080",
           "#808080",
           "#17BECF",
           "#808080",
           "#808080",
           "#17BECF",
           "#17BECF",
           "#808080",
           "#17BECF",
           "#808080",
           "#17BECF",
           "#808080",
           "#808080",
           "#808080",
           "#808080",
           "#808080",
           "#808080",
           "#17BECF",
           "#808080",
           "#17BECF",
           "#808080",
           "#808080",
           "#808080",
           "#808080"
          ],
          "line": {
           "color": [
            "#808080",
            "#808080",
            "#17BECF",
            "#17BECF",
            "#808080",
            "#808080",
            "#17BECF",
            "#808080",
            "#17BECF",
            "#808080",
            "#808080",
            "#808080",
            "#17BECF",
            "#808080",
            "#17BECF",
            "#808080",
            "#17BECF",
            "#17BECF",
            "#17BECF",
            "#808080",
            "#808080",
            "#17BECF",
            "#17BECF",
            "#808080",
            "#808080",
            "#808080",
            "#17BECF",
            "#808080",
            "#808080",
            "#17BECF",
            "#17BECF",
            "#808080",
            "#17BECF",
            "#808080",
            "#17BECF",
            "#808080",
            "#808080",
            "#808080",
            "#808080",
            "#808080",
            "#808080",
            "#17BECF",
            "#808080",
            "#17BECF",
            "#808080",
            "#808080",
            "#808080",
            "#808080"
           ],
           "width": 1
          }
         },
         "name": "Volume",
         "opacity": 0.8,
         "orientation": "v",
         "text": "",
         "type": "bar",
         "x": [
          "2023-09-01",
          "2023-09-04",
          "2023-09-05",
          "2023-09-06",
          "2023-09-07",
          "2023-09-08",
          "2023-09-11",
          "2023-09-12",
          "2023-09-13",
          "2023-09-14",
          "2023-09-15",
          "2023-09-18",
          "2023-09-19",
          "2023-09-20",
          "2023-09-21",
          "2023-09-22",
          "2023-09-25",
          "2023-09-26",
          "2023-09-27",
          "2023-09-28",
          "2023-09-29",
          "2023-10-02",
          "2023-10-03",
          "2023-10-04",
          "2023-10-05",
          "2023-10-06",
          "2023-10-09",
          "2023-10-10",
          "2023-10-11",
          "2023-10-12",
          "2023-10-13",
          "2023-10-16",
          "2023-10-17",
          "2023-10-18",
          "2023-10-19",
          "2023-10-20",
          "2023-10-23",
          "2023-10-24",
          "2023-10-25",
          "2023-10-26",
          "2023-10-27",
          "2023-10-30",
          "2023-10-31",
          "2023-11-01",
          "2023-11-03",
          "2023-11-06",
          "2023-11-07",
          "2023-11-08"
         ],
         "y": [
          158497,
          1454,
          258915,
          476883,
          52864,
          1345,
          603288,
          1229,
          1617018,
          146599,
          "",
          88923,
          211804,
          51715,
          801074,
          2922,
          60088,
          243110,
          473515,
          58874,
          9057,
          528208,
          1927912,
          553143,
          198146,
          128736,
          1079316,
          273532,
          9655,
          135645,
          507192,
          311611,
          500826,
          53946,
          160214,
          43315,
          4917,
          3635,
          "",
          56570,
          1360,
          155767,
          926,
          1352023,
          1280646,
          281676,
          120820,
          20384
         ],
         "yaxis": "y3"
        },
        {
         "close": [
          82.69999694824219,
          82.72000122070312,
          82.58000183105469,
          81.95999908447266,
          81.5999984741211,
          81.86000061035156,
          82.27999877929688,
          82.08000183105469,
          81.97000122070312,
          82.81999969482422,
          null,
          82.12000274658203,
          81.62999725341797,
          82,
          80,
          79.80000305175781,
          79.5999984741211,
          78.6500015258789,
          78.6500015258789,
          79.1500015258789,
          78.88999938964844,
          78.5999984741211,
          77.88999938964844,
          78.66999816894531,
          78.37000274658203,
          79.75,
          80.20999908447266,
          80.5999984741211,
          80.54000091552734,
          80.2699966430664,
          79.94000244140625,
          80.94999694824219,
          80.5999984741211,
          79.80000305175781,
          80.0999984741211,
          78.55999755859375,
          78.41000366210938,
          78.6500015258789,
          null,
          76.97000122070312,
          76.13999938964844,
          76.93000030517578,
          77.23999786376953,
          78.41999816894531,
          80.62999725341797,
          80.5999984741211,
          81.05000305175781,
          81
         ],
         "decreasing": {
          "line": {
           "color": "#808080"
          }
         },
         "high": [
          83.02999877929688,
          82.72000122070312,
          82.83000183105469,
          82.36000061035156,
          81.62999725341797,
          82.16000366210938,
          82.51000213623047,
          82.08000183105469,
          82.30000305175781,
          82.81999969482422,
          null,
          82.19999694824219,
          82.19000244140625,
          82.08000183105469,
          80.48999786376953,
          80.19000244140625,
          79.69999694824219,
          79.33000183105469,
          78.66999816894531,
          79.30000305175781,
          79.80000305175781,
          78.97000122070312,
          78.12999725341797,
          78.68000030517578,
          78.51000213623047,
          79.75,
          80.20999908447266,
          80.8499984741211,
          80.54000091552734,
          80.80999755859375,
          80.5199966430664,
          81.23999786376953,
          81.04000091552734,
          80.55000305175781,
          80.0999984741211,
          79.16999816894531,
          78.41000366210938,
          78.66000366210938,
          null,
          77.13999938964844,
          76.77999877929688,
          76.97000122070312,
          77.23999786376953,
          78.41999816894531,
          80.8499984741211,
          80.7300033569336,
          81.05000305175781,
          81.06999969482422
         ],
         "increasing": {
          "line": {
           "color": "#17BECF"
          }
         },
         "low": [
          82.68000030517578,
          82.72000122070312,
          82.55000305175781,
          81.66999816894531,
          81.41999816894531,
          81.86000061035156,
          82.12999725341797,
          82.08000183105469,
          81.97000122070312,
          82.3499984741211,
          null,
          81.87999725341797,
          81.31999969482422,
          81.80000305175781,
          80,
          79.79000091552734,
          79.33000183105469,
          78.6500015258789,
          77.94000244140625,
          79.12999725341797,
          78.88999938964844,
          78.56999969482422,
          77.75,
          78.5199966430664,
          78.1500015258789,
          78.27999877929688,
          79.05000305175781,
          80.3499984741211,
          80.4000015258789,
          80.20999908447266,
          79.87000274658203,
          80.52999877929688,
          80.44999694824219,
          79.69000244140625,
          79.55000305175781,
          78.43000030517578,
          77.88999938964844,
          78.18000030517578,
          null,
          76.3499984741211,
          76.13999938964844,
          76.5999984741211,
          77.23999786376953,
          77.87000274658203,
          79,
          80.5,
          80.83999633789062,
          80.68000030517578
         ],
         "name": "MX ETFs",
         "open": [
          83.01000213623047,
          82.72000122070312,
          82.70999908447266,
          82.36000061035156,
          81.41999816894531,
          82.16000366210938,
          82.12999725341797,
          82.08000183105469,
          82.05000305175781,
          82.3499984741211,
          null,
          81.87999725341797,
          82.19000244140625,
          81.94999694824219,
          80.48999786376953,
          80,
          79.33000183105469,
          79.33000183105469,
          78.66999816894531,
          79.20999908447266,
          79.61000061035156,
          78.88999938964844,
          78,
          78.63999938964844,
          78.5,
          78.27999877929688,
          79.05999755859375,
          80.3499984741211,
          80.4000015258789,
          80.7699966430664,
          80.5199966430664,
          80.52999877929688,
          81.04000091552734,
          80.55000305175781,
          79.8499984741211,
          79.16999816894531,
          77.88999938964844,
          78.41000366210938,
          null,
          76.3499984741211,
          76.58000183105469,
          76.76000213623047,
          77.23999786376953,
          78.1500015258789,
          79,
          80.63999938964844,
          81,
          81.05000305175781
         ],
         "showlegend": true,
         "type": "candlestick",
         "x": [
          "2023-09-01",
          "2023-09-04",
          "2023-09-05",
          "2023-09-06",
          "2023-09-07",
          "2023-09-08",
          "2023-09-11",
          "2023-09-12",
          "2023-09-13",
          "2023-09-14",
          "2023-09-15",
          "2023-09-18",
          "2023-09-19",
          "2023-09-20",
          "2023-09-21",
          "2023-09-22",
          "2023-09-25",
          "2023-09-26",
          "2023-09-27",
          "2023-09-28",
          "2023-09-29",
          "2023-10-02",
          "2023-10-03",
          "2023-10-04",
          "2023-10-05",
          "2023-10-06",
          "2023-10-09",
          "2023-10-10",
          "2023-10-11",
          "2023-10-12",
          "2023-10-13",
          "2023-10-16",
          "2023-10-17",
          "2023-10-18",
          "2023-10-19",
          "2023-10-20",
          "2023-10-23",
          "2023-10-24",
          "2023-10-25",
          "2023-10-26",
          "2023-10-27",
          "2023-10-30",
          "2023-10-31",
          "2023-11-01",
          "2023-11-03",
          "2023-11-06",
          "2023-11-07",
          "2023-11-08"
         ],
         "yaxis": "y2"
        }
       ],
       "layout": {
        "legend": {
         "bgcolor": "#F5F6F9",
         "font": {
          "color": "#4D5663"
         }
        },
        "margin": {
         "b": 30,
         "l": 30,
         "r": 30,
         "t": 30
        },
        "paper_bgcolor": "#F5F6F9",
        "plot_bgcolor": "#F5F6F9",
        "showlegend": true,
        "template": {
         "data": {
          "bar": [
           {
            "error_x": {
             "color": "#2a3f5f"
            },
            "error_y": {
             "color": "#2a3f5f"
            },
            "marker": {
             "line": {
              "color": "#E5ECF6",
              "width": 0.5
             },
             "pattern": {
              "fillmode": "overlay",
              "size": 10,
              "solidity": 0.2
             }
            },
            "type": "bar"
           }
          ],
          "barpolar": [
           {
            "marker": {
             "line": {
              "color": "#E5ECF6",
              "width": 0.5
             },
             "pattern": {
              "fillmode": "overlay",
              "size": 10,
              "solidity": 0.2
             }
            },
            "type": "barpolar"
           }
          ],
          "carpet": [
           {
            "aaxis": {
             "endlinecolor": "#2a3f5f",
             "gridcolor": "white",
             "linecolor": "white",
             "minorgridcolor": "white",
             "startlinecolor": "#2a3f5f"
            },
            "baxis": {
             "endlinecolor": "#2a3f5f",
             "gridcolor": "white",
             "linecolor": "white",
             "minorgridcolor": "white",
             "startlinecolor": "#2a3f5f"
            },
            "type": "carpet"
           }
          ],
          "choropleth": [
           {
            "colorbar": {
             "outlinewidth": 0,
             "ticks": ""
            },
            "type": "choropleth"
           }
          ],
          "contour": [
           {
            "colorbar": {
             "outlinewidth": 0,
             "ticks": ""
            },
            "colorscale": [
             [
              0,
              "#0d0887"
             ],
             [
              0.1111111111111111,
              "#46039f"
             ],
             [
              0.2222222222222222,
              "#7201a8"
             ],
             [
              0.3333333333333333,
              "#9c179e"
             ],
             [
              0.4444444444444444,
              "#bd3786"
             ],
             [
              0.5555555555555556,
              "#d8576b"
             ],
             [
              0.6666666666666666,
              "#ed7953"
             ],
             [
              0.7777777777777778,
              "#fb9f3a"
             ],
             [
              0.8888888888888888,
              "#fdca26"
             ],
             [
              1,
              "#f0f921"
             ]
            ],
            "type": "contour"
           }
          ],
          "contourcarpet": [
           {
            "colorbar": {
             "outlinewidth": 0,
             "ticks": ""
            },
            "type": "contourcarpet"
           }
          ],
          "heatmap": [
           {
            "colorbar": {
             "outlinewidth": 0,
             "ticks": ""
            },
            "colorscale": [
             [
              0,
              "#0d0887"
             ],
             [
              0.1111111111111111,
              "#46039f"
             ],
             [
              0.2222222222222222,
              "#7201a8"
             ],
             [
              0.3333333333333333,
              "#9c179e"
             ],
             [
              0.4444444444444444,
              "#bd3786"
             ],
             [
              0.5555555555555556,
              "#d8576b"
             ],
             [
              0.6666666666666666,
              "#ed7953"
             ],
             [
              0.7777777777777778,
              "#fb9f3a"
             ],
             [
              0.8888888888888888,
              "#fdca26"
             ],
             [
              1,
              "#f0f921"
             ]
            ],
            "type": "heatmap"
           }
          ],
          "heatmapgl": [
           {
            "colorbar": {
             "outlinewidth": 0,
             "ticks": ""
            },
            "colorscale": [
             [
              0,
              "#0d0887"
             ],
             [
              0.1111111111111111,
              "#46039f"
             ],
             [
              0.2222222222222222,
              "#7201a8"
             ],
             [
              0.3333333333333333,
              "#9c179e"
             ],
             [
              0.4444444444444444,
              "#bd3786"
             ],
             [
              0.5555555555555556,
              "#d8576b"
             ],
             [
              0.6666666666666666,
              "#ed7953"
             ],
             [
              0.7777777777777778,
              "#fb9f3a"
             ],
             [
              0.8888888888888888,
              "#fdca26"
             ],
             [
              1,
              "#f0f921"
             ]
            ],
            "type": "heatmapgl"
           }
          ],
          "histogram": [
           {
            "marker": {
             "pattern": {
              "fillmode": "overlay",
              "size": 10,
              "solidity": 0.2
             }
            },
            "type": "histogram"
           }
          ],
          "histogram2d": [
           {
            "colorbar": {
             "outlinewidth": 0,
             "ticks": ""
            },
            "colorscale": [
             [
              0,
              "#0d0887"
             ],
             [
              0.1111111111111111,
              "#46039f"
             ],
             [
              0.2222222222222222,
              "#7201a8"
             ],
             [
              0.3333333333333333,
              "#9c179e"
             ],
             [
              0.4444444444444444,
              "#bd3786"
             ],
             [
              0.5555555555555556,
              "#d8576b"
             ],
             [
              0.6666666666666666,
              "#ed7953"
             ],
             [
              0.7777777777777778,
              "#fb9f3a"
             ],
             [
              0.8888888888888888,
              "#fdca26"
             ],
             [
              1,
              "#f0f921"
             ]
            ],
            "type": "histogram2d"
           }
          ],
          "histogram2dcontour": [
           {
            "colorbar": {
             "outlinewidth": 0,
             "ticks": ""
            },
            "colorscale": [
             [
              0,
              "#0d0887"
             ],
             [
              0.1111111111111111,
              "#46039f"
             ],
             [
              0.2222222222222222,
              "#7201a8"
             ],
             [
              0.3333333333333333,
              "#9c179e"
             ],
             [
              0.4444444444444444,
              "#bd3786"
             ],
             [
              0.5555555555555556,
              "#d8576b"
             ],
             [
              0.6666666666666666,
              "#ed7953"
             ],
             [
              0.7777777777777778,
              "#fb9f3a"
             ],
             [
              0.8888888888888888,
              "#fdca26"
             ],
             [
              1,
              "#f0f921"
             ]
            ],
            "type": "histogram2dcontour"
           }
          ],
          "mesh3d": [
           {
            "colorbar": {
             "outlinewidth": 0,
             "ticks": ""
            },
            "type": "mesh3d"
           }
          ],
          "parcoords": [
           {
            "line": {
             "colorbar": {
              "outlinewidth": 0,
              "ticks": ""
             }
            },
            "type": "parcoords"
           }
          ],
          "pie": [
           {
            "automargin": true,
            "type": "pie"
           }
          ],
          "scatter": [
           {
            "fillpattern": {
             "fillmode": "overlay",
             "size": 10,
             "solidity": 0.2
            },
            "type": "scatter"
           }
          ],
          "scatter3d": [
           {
            "line": {
             "colorbar": {
              "outlinewidth": 0,
              "ticks": ""
             }
            },
            "marker": {
             "colorbar": {
              "outlinewidth": 0,
              "ticks": ""
             }
            },
            "type": "scatter3d"
           }
          ],
          "scattercarpet": [
           {
            "marker": {
             "colorbar": {
              "outlinewidth": 0,
              "ticks": ""
             }
            },
            "type": "scattercarpet"
           }
          ],
          "scattergeo": [
           {
            "marker": {
             "colorbar": {
              "outlinewidth": 0,
              "ticks": ""
             }
            },
            "type": "scattergeo"
           }
          ],
          "scattergl": [
           {
            "marker": {
             "colorbar": {
              "outlinewidth": 0,
              "ticks": ""
             }
            },
            "type": "scattergl"
           }
          ],
          "scattermapbox": [
           {
            "marker": {
             "colorbar": {
              "outlinewidth": 0,
              "ticks": ""
             }
            },
            "type": "scattermapbox"
           }
          ],
          "scatterpolar": [
           {
            "marker": {
             "colorbar": {
              "outlinewidth": 0,
              "ticks": ""
             }
            },
            "type": "scatterpolar"
           }
          ],
          "scatterpolargl": [
           {
            "marker": {
             "colorbar": {
              "outlinewidth": 0,
              "ticks": ""
             }
            },
            "type": "scatterpolargl"
           }
          ],
          "scatterternary": [
           {
            "marker": {
             "colorbar": {
              "outlinewidth": 0,
              "ticks": ""
             }
            },
            "type": "scatterternary"
           }
          ],
          "surface": [
           {
            "colorbar": {
             "outlinewidth": 0,
             "ticks": ""
            },
            "colorscale": [
             [
              0,
              "#0d0887"
             ],
             [
              0.1111111111111111,
              "#46039f"
             ],
             [
              0.2222222222222222,
              "#7201a8"
             ],
             [
              0.3333333333333333,
              "#9c179e"
             ],
             [
              0.4444444444444444,
              "#bd3786"
             ],
             [
              0.5555555555555556,
              "#d8576b"
             ],
             [
              0.6666666666666666,
              "#ed7953"
             ],
             [
              0.7777777777777778,
              "#fb9f3a"
             ],
             [
              0.8888888888888888,
              "#fdca26"
             ],
             [
              1,
              "#f0f921"
             ]
            ],
            "type": "surface"
           }
          ],
          "table": [
           {
            "cells": {
             "fill": {
              "color": "#EBF0F8"
             },
             "line": {
              "color": "white"
             }
            },
            "header": {
             "fill": {
              "color": "#C8D4E3"
             },
             "line": {
              "color": "white"
             }
            },
            "type": "table"
           }
          ]
         },
         "layout": {
          "annotationdefaults": {
           "arrowcolor": "#2a3f5f",
           "arrowhead": 0,
           "arrowwidth": 1
          },
          "autotypenumbers": "strict",
          "coloraxis": {
           "colorbar": {
            "outlinewidth": 0,
            "ticks": ""
           }
          },
          "colorscale": {
           "diverging": [
            [
             0,
             "#8e0152"
            ],
            [
             0.1,
             "#c51b7d"
            ],
            [
             0.2,
             "#de77ae"
            ],
            [
             0.3,
             "#f1b6da"
            ],
            [
             0.4,
             "#fde0ef"
            ],
            [
             0.5,
             "#f7f7f7"
            ],
            [
             0.6,
             "#e6f5d0"
            ],
            [
             0.7,
             "#b8e186"
            ],
            [
             0.8,
             "#7fbc41"
            ],
            [
             0.9,
             "#4d9221"
            ],
            [
             1,
             "#276419"
            ]
           ],
           "sequential": [
            [
             0,
             "#0d0887"
            ],
            [
             0.1111111111111111,
             "#46039f"
            ],
            [
             0.2222222222222222,
             "#7201a8"
            ],
            [
             0.3333333333333333,
             "#9c179e"
            ],
            [
             0.4444444444444444,
             "#bd3786"
            ],
            [
             0.5555555555555556,
             "#d8576b"
            ],
            [
             0.6666666666666666,
             "#ed7953"
            ],
            [
             0.7777777777777778,
             "#fb9f3a"
            ],
            [
             0.8888888888888888,
             "#fdca26"
            ],
            [
             1,
             "#f0f921"
            ]
           ],
           "sequentialminus": [
            [
             0,
             "#0d0887"
            ],
            [
             0.1111111111111111,
             "#46039f"
            ],
            [
             0.2222222222222222,
             "#7201a8"
            ],
            [
             0.3333333333333333,
             "#9c179e"
            ],
            [
             0.4444444444444444,
             "#bd3786"
            ],
            [
             0.5555555555555556,
             "#d8576b"
            ],
            [
             0.6666666666666666,
             "#ed7953"
            ],
            [
             0.7777777777777778,
             "#fb9f3a"
            ],
            [
             0.8888888888888888,
             "#fdca26"
            ],
            [
             1,
             "#f0f921"
            ]
           ]
          },
          "colorway": [
           "#636efa",
           "#EF553B",
           "#00cc96",
           "#ab63fa",
           "#FFA15A",
           "#19d3f3",
           "#FF6692",
           "#B6E880",
           "#FF97FF",
           "#FECB52"
          ],
          "font": {
           "color": "#2a3f5f"
          },
          "geo": {
           "bgcolor": "white",
           "lakecolor": "white",
           "landcolor": "#E5ECF6",
           "showlakes": true,
           "showland": true,
           "subunitcolor": "white"
          },
          "hoverlabel": {
           "align": "left"
          },
          "hovermode": "closest",
          "mapbox": {
           "style": "light"
          },
          "paper_bgcolor": "white",
          "plot_bgcolor": "#E5ECF6",
          "polar": {
           "angularaxis": {
            "gridcolor": "white",
            "linecolor": "white",
            "ticks": ""
           },
           "bgcolor": "#E5ECF6",
           "radialaxis": {
            "gridcolor": "white",
            "linecolor": "white",
            "ticks": ""
           }
          },
          "scene": {
           "xaxis": {
            "backgroundcolor": "#E5ECF6",
            "gridcolor": "white",
            "gridwidth": 2,
            "linecolor": "white",
            "showbackground": true,
            "ticks": "",
            "zerolinecolor": "white"
           },
           "yaxis": {
            "backgroundcolor": "#E5ECF6",
            "gridcolor": "white",
            "gridwidth": 2,
            "linecolor": "white",
            "showbackground": true,
            "ticks": "",
            "zerolinecolor": "white"
           },
           "zaxis": {
            "backgroundcolor": "#E5ECF6",
            "gridcolor": "white",
            "gridwidth": 2,
            "linecolor": "white",
            "showbackground": true,
            "ticks": "",
            "zerolinecolor": "white"
           }
          },
          "shapedefaults": {
           "line": {
            "color": "#2a3f5f"
           }
          },
          "ternary": {
           "aaxis": {
            "gridcolor": "white",
            "linecolor": "white",
            "ticks": ""
           },
           "baxis": {
            "gridcolor": "white",
            "linecolor": "white",
            "ticks": ""
           },
           "bgcolor": "#E5ECF6",
           "caxis": {
            "gridcolor": "white",
            "linecolor": "white",
            "ticks": ""
           }
          },
          "title": {
           "x": 0.05
          },
          "xaxis": {
           "automargin": true,
           "gridcolor": "white",
           "linecolor": "white",
           "ticks": "",
           "title": {
            "standoff": 15
           },
           "zerolinecolor": "white",
           "zerolinewidth": 2
          },
          "yaxis": {
           "automargin": true,
           "gridcolor": "white",
           "linecolor": "white",
           "ticks": "",
           "title": {
            "standoff": 15
           },
           "zerolinecolor": "white",
           "zerolinewidth": 2
          }
         }
        },
        "title": {
         "font": {
          "color": "#4D5663"
         },
         "text": "IVVPESOISHRS.MX"
        },
        "xaxis": {
         "anchor": "y2",
         "gridcolor": "#E1E5ED",
         "rangeselector": {
          "bgcolor": "rgba(150, 200, 250, 1)",
          "buttons": [
           {
            "count": 1,
            "label": "1m",
            "step": "month",
            "stepmode": "backward"
           },
           {
            "count": 1,
            "label": "1y",
            "step": "year",
            "stepmode": "backward"
           }
          ],
          "font": {
           "size": 13
          },
          "visible": false,
          "x": 0,
          "y": 0.9
         },
         "rangeslider": {
          "visible": false
         },
         "showgrid": true,
         "tickfont": {
          "color": "#4D5663"
         },
         "title": {
          "font": {
           "color": "#4D5663"
          },
          "text": ""
         },
         "zerolinecolor": "#E1E5ED"
        },
        "yaxis": {
         "gridcolor": "#E1E5ED",
         "showgrid": true,
         "showticklabels": false,
         "tickfont": {
          "color": "#4D5663"
         },
         "title": {
          "font": {
           "color": "#4D5663"
          },
          "text": ""
         },
         "zerolinecolor": "#E1E5ED"
        },
        "yaxis2": {
         "domain": [
          0.23,
          0.9
         ],
         "gridcolor": "#E1E5ED",
         "showgrid": true,
         "tickfont": {
          "color": "#4D5663"
         },
         "title": {
          "font": {
           "color": "#4D5663"
          },
          "text": ""
         },
         "zerolinecolor": "#E1E5ED"
        },
        "yaxis3": {
         "domain": [
          0,
          0.15
         ],
         "gridcolor": "#E1E5ED",
         "showgrid": true,
         "tickfont": {
          "color": "#4D5663"
         },
         "title": {
          "font": {
           "color": "#4D5663"
          },
          "text": ""
         },
         "zerolinecolor": "#E1E5ED"
        }
       }
      },
      "text/html": [
       "<div>                            <div id=\"4102ef96-2f21-4a15-8fb4-39e6883bdb26\" class=\"plotly-graph-div\" style=\"height:525px; width:100%;\"></div>            <script type=\"text/javascript\">                require([\"plotly\"], function(Plotly) {                    window.PLOTLYENV=window.PLOTLYENV || {};\n",
       "                    window.PLOTLYENV.BASE_URL='https://plot.ly';                                    if (document.getElementById(\"4102ef96-2f21-4a15-8fb4-39e6883bdb26\")) {                    Plotly.newPlot(                        \"4102ef96-2f21-4a15-8fb4-39e6883bdb26\",                        [{\"marker\":{\"color\":[\"#808080\",\"#808080\",\"#17BECF\",\"#17BECF\",\"#808080\",\"#808080\",\"#17BECF\",\"#808080\",\"#17BECF\",\"#808080\",\"#808080\",\"#808080\",\"#17BECF\",\"#808080\",\"#17BECF\",\"#808080\",\"#17BECF\",\"#17BECF\",\"#17BECF\",\"#808080\",\"#808080\",\"#17BECF\",\"#17BECF\",\"#808080\",\"#808080\",\"#808080\",\"#17BECF\",\"#808080\",\"#808080\",\"#17BECF\",\"#17BECF\",\"#808080\",\"#17BECF\",\"#808080\",\"#17BECF\",\"#808080\",\"#808080\",\"#808080\",\"#808080\",\"#808080\",\"#808080\",\"#17BECF\",\"#808080\",\"#17BECF\",\"#808080\",\"#808080\",\"#808080\",\"#808080\"],\"line\":{\"color\":[\"#808080\",\"#808080\",\"#17BECF\",\"#17BECF\",\"#808080\",\"#808080\",\"#17BECF\",\"#808080\",\"#17BECF\",\"#808080\",\"#808080\",\"#808080\",\"#17BECF\",\"#808080\",\"#17BECF\",\"#808080\",\"#17BECF\",\"#17BECF\",\"#17BECF\",\"#808080\",\"#808080\",\"#17BECF\",\"#17BECF\",\"#808080\",\"#808080\",\"#808080\",\"#17BECF\",\"#808080\",\"#808080\",\"#17BECF\",\"#17BECF\",\"#808080\",\"#17BECF\",\"#808080\",\"#17BECF\",\"#808080\",\"#808080\",\"#808080\",\"#808080\",\"#808080\",\"#808080\",\"#17BECF\",\"#808080\",\"#17BECF\",\"#808080\",\"#808080\",\"#808080\",\"#808080\"],\"width\":1}},\"name\":\"Volume\",\"opacity\":0.8,\"orientation\":\"v\",\"text\":\"\",\"x\":[\"2023-09-01\",\"2023-09-04\",\"2023-09-05\",\"2023-09-06\",\"2023-09-07\",\"2023-09-08\",\"2023-09-11\",\"2023-09-12\",\"2023-09-13\",\"2023-09-14\",\"2023-09-15\",\"2023-09-18\",\"2023-09-19\",\"2023-09-20\",\"2023-09-21\",\"2023-09-22\",\"2023-09-25\",\"2023-09-26\",\"2023-09-27\",\"2023-09-28\",\"2023-09-29\",\"2023-10-02\",\"2023-10-03\",\"2023-10-04\",\"2023-10-05\",\"2023-10-06\",\"2023-10-09\",\"2023-10-10\",\"2023-10-11\",\"2023-10-12\",\"2023-10-13\",\"2023-10-16\",\"2023-10-17\",\"2023-10-18\",\"2023-10-19\",\"2023-10-20\",\"2023-10-23\",\"2023-10-24\",\"2023-10-25\",\"2023-10-26\",\"2023-10-27\",\"2023-10-30\",\"2023-10-31\",\"2023-11-01\",\"2023-11-03\",\"2023-11-06\",\"2023-11-07\",\"2023-11-08\"],\"y\":[158497.0,1454.0,258915.0,476883.0,52864.0,1345.0,603288.0,1229.0,1617018.0,146599.0,\"\",88923.0,211804.0,51715.0,801074.0,2922.0,60088.0,243110.0,473515.0,58874.0,9057.0,528208.0,1927912.0,553143.0,198146.0,128736.0,1079316.0,273532.0,9655.0,135645.0,507192.0,311611.0,500826.0,53946.0,160214.0,43315.0,4917.0,3635.0,\"\",56570.0,1360.0,155767.0,926.0,1352023.0,1280646.0,281676.0,120820.0,20384.0],\"yaxis\":\"y3\",\"type\":\"bar\"},{\"close\":[82.69999694824219,82.72000122070312,82.58000183105469,81.95999908447266,81.5999984741211,81.86000061035156,82.27999877929688,82.08000183105469,81.97000122070312,82.81999969482422,null,82.12000274658203,81.62999725341797,82.0,80.0,79.80000305175781,79.5999984741211,78.6500015258789,78.6500015258789,79.1500015258789,78.88999938964844,78.5999984741211,77.88999938964844,78.66999816894531,78.37000274658203,79.75,80.20999908447266,80.5999984741211,80.54000091552734,80.2699966430664,79.94000244140625,80.94999694824219,80.5999984741211,79.80000305175781,80.0999984741211,78.55999755859375,78.41000366210938,78.6500015258789,null,76.97000122070312,76.13999938964844,76.93000030517578,77.23999786376953,78.41999816894531,80.62999725341797,80.5999984741211,81.05000305175781,81.0],\"decreasing\":{\"line\":{\"color\":\"#808080\"}},\"high\":[83.02999877929688,82.72000122070312,82.83000183105469,82.36000061035156,81.62999725341797,82.16000366210938,82.51000213623047,82.08000183105469,82.30000305175781,82.81999969482422,null,82.19999694824219,82.19000244140625,82.08000183105469,80.48999786376953,80.19000244140625,79.69999694824219,79.33000183105469,78.66999816894531,79.30000305175781,79.80000305175781,78.97000122070312,78.12999725341797,78.68000030517578,78.51000213623047,79.75,80.20999908447266,80.8499984741211,80.54000091552734,80.80999755859375,80.5199966430664,81.23999786376953,81.04000091552734,80.55000305175781,80.0999984741211,79.16999816894531,78.41000366210938,78.66000366210938,null,77.13999938964844,76.77999877929688,76.97000122070312,77.23999786376953,78.41999816894531,80.8499984741211,80.7300033569336,81.05000305175781,81.06999969482422],\"increasing\":{\"line\":{\"color\":\"#17BECF\"}},\"low\":[82.68000030517578,82.72000122070312,82.55000305175781,81.66999816894531,81.41999816894531,81.86000061035156,82.12999725341797,82.08000183105469,81.97000122070312,82.3499984741211,null,81.87999725341797,81.31999969482422,81.80000305175781,80.0,79.79000091552734,79.33000183105469,78.6500015258789,77.94000244140625,79.12999725341797,78.88999938964844,78.56999969482422,77.75,78.5199966430664,78.1500015258789,78.27999877929688,79.05000305175781,80.3499984741211,80.4000015258789,80.20999908447266,79.87000274658203,80.52999877929688,80.44999694824219,79.69000244140625,79.55000305175781,78.43000030517578,77.88999938964844,78.18000030517578,null,76.3499984741211,76.13999938964844,76.5999984741211,77.23999786376953,77.87000274658203,79.0,80.5,80.83999633789062,80.68000030517578],\"name\":\"MX ETFs\",\"open\":[83.01000213623047,82.72000122070312,82.70999908447266,82.36000061035156,81.41999816894531,82.16000366210938,82.12999725341797,82.08000183105469,82.05000305175781,82.3499984741211,null,81.87999725341797,82.19000244140625,81.94999694824219,80.48999786376953,80.0,79.33000183105469,79.33000183105469,78.66999816894531,79.20999908447266,79.61000061035156,78.88999938964844,78.0,78.63999938964844,78.5,78.27999877929688,79.05999755859375,80.3499984741211,80.4000015258789,80.7699966430664,80.5199966430664,80.52999877929688,81.04000091552734,80.55000305175781,79.8499984741211,79.16999816894531,77.88999938964844,78.41000366210938,null,76.3499984741211,76.58000183105469,76.76000213623047,77.23999786376953,78.1500015258789,79.0,80.63999938964844,81.0,81.05000305175781],\"showlegend\":true,\"x\":[\"2023-09-01\",\"2023-09-04\",\"2023-09-05\",\"2023-09-06\",\"2023-09-07\",\"2023-09-08\",\"2023-09-11\",\"2023-09-12\",\"2023-09-13\",\"2023-09-14\",\"2023-09-15\",\"2023-09-18\",\"2023-09-19\",\"2023-09-20\",\"2023-09-21\",\"2023-09-22\",\"2023-09-25\",\"2023-09-26\",\"2023-09-27\",\"2023-09-28\",\"2023-09-29\",\"2023-10-02\",\"2023-10-03\",\"2023-10-04\",\"2023-10-05\",\"2023-10-06\",\"2023-10-09\",\"2023-10-10\",\"2023-10-11\",\"2023-10-12\",\"2023-10-13\",\"2023-10-16\",\"2023-10-17\",\"2023-10-18\",\"2023-10-19\",\"2023-10-20\",\"2023-10-23\",\"2023-10-24\",\"2023-10-25\",\"2023-10-26\",\"2023-10-27\",\"2023-10-30\",\"2023-10-31\",\"2023-11-01\",\"2023-11-03\",\"2023-11-06\",\"2023-11-07\",\"2023-11-08\"],\"yaxis\":\"y2\",\"type\":\"candlestick\"}],                        {\"legend\":{\"bgcolor\":\"#F5F6F9\",\"font\":{\"color\":\"#4D5663\"}},\"margin\":{\"b\":30,\"l\":30,\"r\":30,\"t\":30},\"paper_bgcolor\":\"#F5F6F9\",\"plot_bgcolor\":\"#F5F6F9\",\"showlegend\":true,\"template\":{\"data\":{\"barpolar\":[{\"marker\":{\"line\":{\"color\":\"#E5ECF6\",\"width\":0.5},\"pattern\":{\"fillmode\":\"overlay\",\"size\":10,\"solidity\":0.2}},\"type\":\"barpolar\"}],\"bar\":[{\"error_x\":{\"color\":\"#2a3f5f\"},\"error_y\":{\"color\":\"#2a3f5f\"},\"marker\":{\"line\":{\"color\":\"#E5ECF6\",\"width\":0.5},\"pattern\":{\"fillmode\":\"overlay\",\"size\":10,\"solidity\":0.2}},\"type\":\"bar\"}],\"carpet\":[{\"aaxis\":{\"endlinecolor\":\"#2a3f5f\",\"gridcolor\":\"white\",\"linecolor\":\"white\",\"minorgridcolor\":\"white\",\"startlinecolor\":\"#2a3f5f\"},\"baxis\":{\"endlinecolor\":\"#2a3f5f\",\"gridcolor\":\"white\",\"linecolor\":\"white\",\"minorgridcolor\":\"white\",\"startlinecolor\":\"#2a3f5f\"},\"type\":\"carpet\"}],\"choropleth\":[{\"colorbar\":{\"outlinewidth\":0,\"ticks\":\"\"},\"type\":\"choropleth\"}],\"contourcarpet\":[{\"colorbar\":{\"outlinewidth\":0,\"ticks\":\"\"},\"type\":\"contourcarpet\"}],\"contour\":[{\"colorbar\":{\"outlinewidth\":0,\"ticks\":\"\"},\"colorscale\":[[0.0,\"#0d0887\"],[0.1111111111111111,\"#46039f\"],[0.2222222222222222,\"#7201a8\"],[0.3333333333333333,\"#9c179e\"],[0.4444444444444444,\"#bd3786\"],[0.5555555555555556,\"#d8576b\"],[0.6666666666666666,\"#ed7953\"],[0.7777777777777778,\"#fb9f3a\"],[0.8888888888888888,\"#fdca26\"],[1.0,\"#f0f921\"]],\"type\":\"contour\"}],\"heatmapgl\":[{\"colorbar\":{\"outlinewidth\":0,\"ticks\":\"\"},\"colorscale\":[[0.0,\"#0d0887\"],[0.1111111111111111,\"#46039f\"],[0.2222222222222222,\"#7201a8\"],[0.3333333333333333,\"#9c179e\"],[0.4444444444444444,\"#bd3786\"],[0.5555555555555556,\"#d8576b\"],[0.6666666666666666,\"#ed7953\"],[0.7777777777777778,\"#fb9f3a\"],[0.8888888888888888,\"#fdca26\"],[1.0,\"#f0f921\"]],\"type\":\"heatmapgl\"}],\"heatmap\":[{\"colorbar\":{\"outlinewidth\":0,\"ticks\":\"\"},\"colorscale\":[[0.0,\"#0d0887\"],[0.1111111111111111,\"#46039f\"],[0.2222222222222222,\"#7201a8\"],[0.3333333333333333,\"#9c179e\"],[0.4444444444444444,\"#bd3786\"],[0.5555555555555556,\"#d8576b\"],[0.6666666666666666,\"#ed7953\"],[0.7777777777777778,\"#fb9f3a\"],[0.8888888888888888,\"#fdca26\"],[1.0,\"#f0f921\"]],\"type\":\"heatmap\"}],\"histogram2dcontour\":[{\"colorbar\":{\"outlinewidth\":0,\"ticks\":\"\"},\"colorscale\":[[0.0,\"#0d0887\"],[0.1111111111111111,\"#46039f\"],[0.2222222222222222,\"#7201a8\"],[0.3333333333333333,\"#9c179e\"],[0.4444444444444444,\"#bd3786\"],[0.5555555555555556,\"#d8576b\"],[0.6666666666666666,\"#ed7953\"],[0.7777777777777778,\"#fb9f3a\"],[0.8888888888888888,\"#fdca26\"],[1.0,\"#f0f921\"]],\"type\":\"histogram2dcontour\"}],\"histogram2d\":[{\"colorbar\":{\"outlinewidth\":0,\"ticks\":\"\"},\"colorscale\":[[0.0,\"#0d0887\"],[0.1111111111111111,\"#46039f\"],[0.2222222222222222,\"#7201a8\"],[0.3333333333333333,\"#9c179e\"],[0.4444444444444444,\"#bd3786\"],[0.5555555555555556,\"#d8576b\"],[0.6666666666666666,\"#ed7953\"],[0.7777777777777778,\"#fb9f3a\"],[0.8888888888888888,\"#fdca26\"],[1.0,\"#f0f921\"]],\"type\":\"histogram2d\"}],\"histogram\":[{\"marker\":{\"pattern\":{\"fillmode\":\"overlay\",\"size\":10,\"solidity\":0.2}},\"type\":\"histogram\"}],\"mesh3d\":[{\"colorbar\":{\"outlinewidth\":0,\"ticks\":\"\"},\"type\":\"mesh3d\"}],\"parcoords\":[{\"line\":{\"colorbar\":{\"outlinewidth\":0,\"ticks\":\"\"}},\"type\":\"parcoords\"}],\"pie\":[{\"automargin\":true,\"type\":\"pie\"}],\"scatter3d\":[{\"line\":{\"colorbar\":{\"outlinewidth\":0,\"ticks\":\"\"}},\"marker\":{\"colorbar\":{\"outlinewidth\":0,\"ticks\":\"\"}},\"type\":\"scatter3d\"}],\"scattercarpet\":[{\"marker\":{\"colorbar\":{\"outlinewidth\":0,\"ticks\":\"\"}},\"type\":\"scattercarpet\"}],\"scattergeo\":[{\"marker\":{\"colorbar\":{\"outlinewidth\":0,\"ticks\":\"\"}},\"type\":\"scattergeo\"}],\"scattergl\":[{\"marker\":{\"colorbar\":{\"outlinewidth\":0,\"ticks\":\"\"}},\"type\":\"scattergl\"}],\"scattermapbox\":[{\"marker\":{\"colorbar\":{\"outlinewidth\":0,\"ticks\":\"\"}},\"type\":\"scattermapbox\"}],\"scatterpolargl\":[{\"marker\":{\"colorbar\":{\"outlinewidth\":0,\"ticks\":\"\"}},\"type\":\"scatterpolargl\"}],\"scatterpolar\":[{\"marker\":{\"colorbar\":{\"outlinewidth\":0,\"ticks\":\"\"}},\"type\":\"scatterpolar\"}],\"scatter\":[{\"fillpattern\":{\"fillmode\":\"overlay\",\"size\":10,\"solidity\":0.2},\"type\":\"scatter\"}],\"scatterternary\":[{\"marker\":{\"colorbar\":{\"outlinewidth\":0,\"ticks\":\"\"}},\"type\":\"scatterternary\"}],\"surface\":[{\"colorbar\":{\"outlinewidth\":0,\"ticks\":\"\"},\"colorscale\":[[0.0,\"#0d0887\"],[0.1111111111111111,\"#46039f\"],[0.2222222222222222,\"#7201a8\"],[0.3333333333333333,\"#9c179e\"],[0.4444444444444444,\"#bd3786\"],[0.5555555555555556,\"#d8576b\"],[0.6666666666666666,\"#ed7953\"],[0.7777777777777778,\"#fb9f3a\"],[0.8888888888888888,\"#fdca26\"],[1.0,\"#f0f921\"]],\"type\":\"surface\"}],\"table\":[{\"cells\":{\"fill\":{\"color\":\"#EBF0F8\"},\"line\":{\"color\":\"white\"}},\"header\":{\"fill\":{\"color\":\"#C8D4E3\"},\"line\":{\"color\":\"white\"}},\"type\":\"table\"}]},\"layout\":{\"annotationdefaults\":{\"arrowcolor\":\"#2a3f5f\",\"arrowhead\":0,\"arrowwidth\":1},\"autotypenumbers\":\"strict\",\"coloraxis\":{\"colorbar\":{\"outlinewidth\":0,\"ticks\":\"\"}},\"colorscale\":{\"diverging\":[[0,\"#8e0152\"],[0.1,\"#c51b7d\"],[0.2,\"#de77ae\"],[0.3,\"#f1b6da\"],[0.4,\"#fde0ef\"],[0.5,\"#f7f7f7\"],[0.6,\"#e6f5d0\"],[0.7,\"#b8e186\"],[0.8,\"#7fbc41\"],[0.9,\"#4d9221\"],[1,\"#276419\"]],\"sequential\":[[0.0,\"#0d0887\"],[0.1111111111111111,\"#46039f\"],[0.2222222222222222,\"#7201a8\"],[0.3333333333333333,\"#9c179e\"],[0.4444444444444444,\"#bd3786\"],[0.5555555555555556,\"#d8576b\"],[0.6666666666666666,\"#ed7953\"],[0.7777777777777778,\"#fb9f3a\"],[0.8888888888888888,\"#fdca26\"],[1.0,\"#f0f921\"]],\"sequentialminus\":[[0.0,\"#0d0887\"],[0.1111111111111111,\"#46039f\"],[0.2222222222222222,\"#7201a8\"],[0.3333333333333333,\"#9c179e\"],[0.4444444444444444,\"#bd3786\"],[0.5555555555555556,\"#d8576b\"],[0.6666666666666666,\"#ed7953\"],[0.7777777777777778,\"#fb9f3a\"],[0.8888888888888888,\"#fdca26\"],[1.0,\"#f0f921\"]]},\"colorway\":[\"#636efa\",\"#EF553B\",\"#00cc96\",\"#ab63fa\",\"#FFA15A\",\"#19d3f3\",\"#FF6692\",\"#B6E880\",\"#FF97FF\",\"#FECB52\"],\"font\":{\"color\":\"#2a3f5f\"},\"geo\":{\"bgcolor\":\"white\",\"lakecolor\":\"white\",\"landcolor\":\"#E5ECF6\",\"showlakes\":true,\"showland\":true,\"subunitcolor\":\"white\"},\"hoverlabel\":{\"align\":\"left\"},\"hovermode\":\"closest\",\"mapbox\":{\"style\":\"light\"},\"paper_bgcolor\":\"white\",\"plot_bgcolor\":\"#E5ECF6\",\"polar\":{\"angularaxis\":{\"gridcolor\":\"white\",\"linecolor\":\"white\",\"ticks\":\"\"},\"bgcolor\":\"#E5ECF6\",\"radialaxis\":{\"gridcolor\":\"white\",\"linecolor\":\"white\",\"ticks\":\"\"}},\"scene\":{\"xaxis\":{\"backgroundcolor\":\"#E5ECF6\",\"gridcolor\":\"white\",\"gridwidth\":2,\"linecolor\":\"white\",\"showbackground\":true,\"ticks\":\"\",\"zerolinecolor\":\"white\"},\"yaxis\":{\"backgroundcolor\":\"#E5ECF6\",\"gridcolor\":\"white\",\"gridwidth\":2,\"linecolor\":\"white\",\"showbackground\":true,\"ticks\":\"\",\"zerolinecolor\":\"white\"},\"zaxis\":{\"backgroundcolor\":\"#E5ECF6\",\"gridcolor\":\"white\",\"gridwidth\":2,\"linecolor\":\"white\",\"showbackground\":true,\"ticks\":\"\",\"zerolinecolor\":\"white\"}},\"shapedefaults\":{\"line\":{\"color\":\"#2a3f5f\"}},\"ternary\":{\"aaxis\":{\"gridcolor\":\"white\",\"linecolor\":\"white\",\"ticks\":\"\"},\"baxis\":{\"gridcolor\":\"white\",\"linecolor\":\"white\",\"ticks\":\"\"},\"bgcolor\":\"#E5ECF6\",\"caxis\":{\"gridcolor\":\"white\",\"linecolor\":\"white\",\"ticks\":\"\"}},\"title\":{\"x\":0.05},\"xaxis\":{\"automargin\":true,\"gridcolor\":\"white\",\"linecolor\":\"white\",\"ticks\":\"\",\"title\":{\"standoff\":15},\"zerolinecolor\":\"white\",\"zerolinewidth\":2},\"yaxis\":{\"automargin\":true,\"gridcolor\":\"white\",\"linecolor\":\"white\",\"ticks\":\"\",\"title\":{\"standoff\":15},\"zerolinecolor\":\"white\",\"zerolinewidth\":2}}},\"title\":{\"font\":{\"color\":\"#4D5663\"},\"text\":\"IVVPESOISHRS.MX\"},\"xaxis\":{\"anchor\":\"y2\",\"gridcolor\":\"#E1E5ED\",\"rangeselector\":{\"bgcolor\":\"rgba(150, 200, 250, 1)\",\"buttons\":[{\"count\":1,\"label\":\"1m\",\"step\":\"month\",\"stepmode\":\"backward\"},{\"count\":1,\"label\":\"1y\",\"step\":\"year\",\"stepmode\":\"backward\"}],\"font\":{\"size\":13},\"visible\":false,\"x\":0,\"y\":0.9},\"rangeslider\":{\"visible\":false},\"showgrid\":true,\"tickfont\":{\"color\":\"#4D5663\"},\"title\":{\"font\":{\"color\":\"#4D5663\"},\"text\":\"\"},\"zerolinecolor\":\"#E1E5ED\"},\"yaxis\":{\"gridcolor\":\"#E1E5ED\",\"showgrid\":true,\"showticklabels\":false,\"tickfont\":{\"color\":\"#4D5663\"},\"title\":{\"font\":{\"color\":\"#4D5663\"},\"text\":\"\"},\"zerolinecolor\":\"#E1E5ED\"},\"yaxis3\":{\"domain\":[0.0,0.15],\"gridcolor\":\"#E1E5ED\",\"showgrid\":true,\"tickfont\":{\"color\":\"#4D5663\"},\"title\":{\"font\":{\"color\":\"#4D5663\"},\"text\":\"\"},\"zerolinecolor\":\"#E1E5ED\"},\"yaxis2\":{\"domain\":[0.23,0.9],\"gridcolor\":\"#E1E5ED\",\"showgrid\":true,\"tickfont\":{\"color\":\"#4D5663\"},\"title\":{\"font\":{\"color\":\"#4D5663\"},\"text\":\"\"},\"zerolinecolor\":\"#E1E5ED\"}},                        {\"showLink\": true, \"linkText\": \"Export to plot.ly\", \"plotlyServerURL\": \"https://plot.ly\", \"responsive\": true}                    ).then(function(){\n",
       "                            \n",
       "var gd = document.getElementById('4102ef96-2f21-4a15-8fb4-39e6883bdb26');\n",
       "var x = new MutationObserver(function (mutations, observer) {{\n",
       "        var display = window.getComputedStyle(gd).display;\n",
       "        if (!display || display === 'none') {{\n",
       "            console.log([gd, 'removed!']);\n",
       "            Plotly.purge(gd);\n",
       "            observer.disconnect();\n",
       "        }}\n",
       "}});\n",
       "\n",
       "// Listen for the removal of the full notebook cells\n",
       "var notebookContainer = gd.closest('#notebook-container');\n",
       "if (notebookContainer) {{\n",
       "    x.observe(notebookContainer, {childList: true});\n",
       "}}\n",
       "\n",
       "// Listen for the clearing of the current output cell\n",
       "var outputEl = gd.closest('.output');\n",
       "if (outputEl) {{\n",
       "    x.observe(outputEl, {childList: true});\n",
       "}}\n",
       "\n",
       "                        })                };                });            </script>        </div>"
      ]
     },
     "metadata": {},
     "output_type": "display_data"
    }
   ],
   "source": [
    "qf = cf.QuantFig(df = ivvpesoishrs.loc[\"09-2023\":])\n",
    "qf.add_volume(colorchange=False)\n",
    "qf.iplot(title= \"IVVPESOISHRS.MX\", name = \"MX ETFs\")"
   ]
  },
  {
   "cell_type": "code",
   "execution_count": 34,
   "metadata": {},
   "outputs": [
    {
     "data": {
      "application/vnd.plotly.v1+json": {
       "config": {
        "linkText": "Export to plot.ly",
        "plotlyServerURL": "https://plot.ly",
        "showLink": true
       },
       "data": [
        {
         "line": {
          "color": "rgba(55, 128, 191, 1.0)",
          "dash": "solid",
          "shape": "linear",
          "width": 1.3
         },
         "mode": "lines",
         "name": " SMA(20)",
         "text": "",
         "type": "scatter",
         "x": [
          "2023-09-01",
          "2023-09-04",
          "2023-09-05",
          "2023-09-06",
          "2023-09-07",
          "2023-09-08",
          "2023-09-11",
          "2023-09-12",
          "2023-09-13",
          "2023-09-14",
          "2023-09-15",
          "2023-09-18",
          "2023-09-19",
          "2023-09-20",
          "2023-09-21",
          "2023-09-22",
          "2023-09-25",
          "2023-09-26",
          "2023-09-27",
          "2023-09-28",
          "2023-09-29",
          "2023-10-02",
          "2023-10-03",
          "2023-10-04",
          "2023-10-05",
          "2023-10-06",
          "2023-10-09",
          "2023-10-10",
          "2023-10-11",
          "2023-10-12",
          "2023-10-13",
          "2023-10-16",
          "2023-10-17",
          "2023-10-18",
          "2023-10-19",
          "2023-10-20",
          "2023-10-23",
          "2023-10-24",
          "2023-10-25",
          "2023-10-26",
          "2023-10-27",
          "2023-10-30",
          "2023-10-31",
          "2023-11-01",
          "2023-11-03",
          "2023-11-06",
          "2023-11-07",
          "2023-11-08"
         ],
         "y": [
          "",
          "",
          "",
          "",
          "",
          "",
          "",
          "",
          "",
          "",
          "",
          "",
          "",
          "",
          "",
          "",
          "",
          "",
          "",
          "",
          "",
          "",
          "",
          "",
          "",
          "",
          "",
          "",
          "",
          "",
          79.76650009155273,
          79.70799980163574,
          79.6564998626709,
          79.54650001525879,
          79.55149993896484,
          79.48949966430663,
          79.42999992370605,
          79.42999992370605,
          "",
          "",
          "",
          "",
          "",
          "",
          "",
          "",
          "",
          ""
         ],
         "yaxis": "y2"
        },
        {
         "line": {
          "color": "rgba(55, 128, 191, 1.0)",
          "dash": "solid",
          "shape": "linear",
          "width": 1.3
         },
         "mode": "lines",
         "name": " SMA(100)",
         "text": "",
         "type": "scatter",
         "x": [
          "2023-09-01",
          "2023-09-04",
          "2023-09-05",
          "2023-09-06",
          "2023-09-07",
          "2023-09-08",
          "2023-09-11",
          "2023-09-12",
          "2023-09-13",
          "2023-09-14",
          "2023-09-15",
          "2023-09-18",
          "2023-09-19",
          "2023-09-20",
          "2023-09-21",
          "2023-09-22",
          "2023-09-25",
          "2023-09-26",
          "2023-09-27",
          "2023-09-28",
          "2023-09-29",
          "2023-10-02",
          "2023-10-03",
          "2023-10-04",
          "2023-10-05",
          "2023-10-06",
          "2023-10-09",
          "2023-10-10",
          "2023-10-11",
          "2023-10-12",
          "2023-10-13",
          "2023-10-16",
          "2023-10-17",
          "2023-10-18",
          "2023-10-19",
          "2023-10-20",
          "2023-10-23",
          "2023-10-24",
          "2023-10-25",
          "2023-10-26",
          "2023-10-27",
          "2023-10-30",
          "2023-10-31",
          "2023-11-01",
          "2023-11-03",
          "2023-11-06",
          "2023-11-07",
          "2023-11-08"
         ],
         "y": [
          "",
          "",
          "",
          "",
          "",
          "",
          "",
          "",
          "",
          "",
          "",
          "",
          "",
          "",
          "",
          "",
          "",
          "",
          "",
          "",
          "",
          "",
          "",
          "",
          "",
          "",
          "",
          "",
          "",
          "",
          "",
          "",
          "",
          "",
          "",
          "",
          "",
          "",
          "",
          "",
          "",
          "",
          "",
          "",
          "",
          "",
          "",
          ""
         ],
         "yaxis": "y2"
        },
        {
         "close": [
          82.69999694824219,
          82.72000122070312,
          82.58000183105469,
          81.95999908447266,
          81.5999984741211,
          81.86000061035156,
          82.27999877929688,
          82.08000183105469,
          81.97000122070312,
          82.81999969482422,
          null,
          82.12000274658203,
          81.62999725341797,
          82,
          80,
          79.80000305175781,
          79.5999984741211,
          78.6500015258789,
          78.6500015258789,
          79.1500015258789,
          78.88999938964844,
          78.5999984741211,
          77.88999938964844,
          78.66999816894531,
          78.37000274658203,
          79.75,
          80.20999908447266,
          80.5999984741211,
          80.54000091552734,
          80.2699966430664,
          79.94000244140625,
          80.94999694824219,
          80.5999984741211,
          79.80000305175781,
          80.0999984741211,
          78.55999755859375,
          78.41000366210938,
          78.6500015258789,
          null,
          76.97000122070312,
          76.13999938964844,
          76.93000030517578,
          77.23999786376953,
          78.41999816894531,
          80.62999725341797,
          80.5999984741211,
          81.05000305175781,
          81
         ],
         "decreasing": {
          "line": {
           "color": "#808080"
          }
         },
         "high": [
          83.02999877929688,
          82.72000122070312,
          82.83000183105469,
          82.36000061035156,
          81.62999725341797,
          82.16000366210938,
          82.51000213623047,
          82.08000183105469,
          82.30000305175781,
          82.81999969482422,
          null,
          82.19999694824219,
          82.19000244140625,
          82.08000183105469,
          80.48999786376953,
          80.19000244140625,
          79.69999694824219,
          79.33000183105469,
          78.66999816894531,
          79.30000305175781,
          79.80000305175781,
          78.97000122070312,
          78.12999725341797,
          78.68000030517578,
          78.51000213623047,
          79.75,
          80.20999908447266,
          80.8499984741211,
          80.54000091552734,
          80.80999755859375,
          80.5199966430664,
          81.23999786376953,
          81.04000091552734,
          80.55000305175781,
          80.0999984741211,
          79.16999816894531,
          78.41000366210938,
          78.66000366210938,
          null,
          77.13999938964844,
          76.77999877929688,
          76.97000122070312,
          77.23999786376953,
          78.41999816894531,
          80.8499984741211,
          80.7300033569336,
          81.05000305175781,
          81.06999969482422
         ],
         "increasing": {
          "line": {
           "color": "#17BECF"
          }
         },
         "low": [
          82.68000030517578,
          82.72000122070312,
          82.55000305175781,
          81.66999816894531,
          81.41999816894531,
          81.86000061035156,
          82.12999725341797,
          82.08000183105469,
          81.97000122070312,
          82.3499984741211,
          null,
          81.87999725341797,
          81.31999969482422,
          81.80000305175781,
          80,
          79.79000091552734,
          79.33000183105469,
          78.6500015258789,
          77.94000244140625,
          79.12999725341797,
          78.88999938964844,
          78.56999969482422,
          77.75,
          78.5199966430664,
          78.1500015258789,
          78.27999877929688,
          79.05000305175781,
          80.3499984741211,
          80.4000015258789,
          80.20999908447266,
          79.87000274658203,
          80.52999877929688,
          80.44999694824219,
          79.69000244140625,
          79.55000305175781,
          78.43000030517578,
          77.88999938964844,
          78.18000030517578,
          null,
          76.3499984741211,
          76.13999938964844,
          76.5999984741211,
          77.23999786376953,
          77.87000274658203,
          79,
          80.5,
          80.83999633789062,
          80.68000030517578
         ],
         "name": "MX ETFs",
         "open": [
          83.01000213623047,
          82.72000122070312,
          82.70999908447266,
          82.36000061035156,
          81.41999816894531,
          82.16000366210938,
          82.12999725341797,
          82.08000183105469,
          82.05000305175781,
          82.3499984741211,
          null,
          81.87999725341797,
          82.19000244140625,
          81.94999694824219,
          80.48999786376953,
          80,
          79.33000183105469,
          79.33000183105469,
          78.66999816894531,
          79.20999908447266,
          79.61000061035156,
          78.88999938964844,
          78,
          78.63999938964844,
          78.5,
          78.27999877929688,
          79.05999755859375,
          80.3499984741211,
          80.4000015258789,
          80.7699966430664,
          80.5199966430664,
          80.52999877929688,
          81.04000091552734,
          80.55000305175781,
          79.8499984741211,
          79.16999816894531,
          77.88999938964844,
          78.41000366210938,
          null,
          76.3499984741211,
          76.58000183105469,
          76.76000213623047,
          77.23999786376953,
          78.1500015258789,
          79,
          80.63999938964844,
          81,
          81.05000305175781
         ],
         "showlegend": true,
         "type": "candlestick",
         "x": [
          "2023-09-01",
          "2023-09-04",
          "2023-09-05",
          "2023-09-06",
          "2023-09-07",
          "2023-09-08",
          "2023-09-11",
          "2023-09-12",
          "2023-09-13",
          "2023-09-14",
          "2023-09-15",
          "2023-09-18",
          "2023-09-19",
          "2023-09-20",
          "2023-09-21",
          "2023-09-22",
          "2023-09-25",
          "2023-09-26",
          "2023-09-27",
          "2023-09-28",
          "2023-09-29",
          "2023-10-02",
          "2023-10-03",
          "2023-10-04",
          "2023-10-05",
          "2023-10-06",
          "2023-10-09",
          "2023-10-10",
          "2023-10-11",
          "2023-10-12",
          "2023-10-13",
          "2023-10-16",
          "2023-10-17",
          "2023-10-18",
          "2023-10-19",
          "2023-10-20",
          "2023-10-23",
          "2023-10-24",
          "2023-10-25",
          "2023-10-26",
          "2023-10-27",
          "2023-10-30",
          "2023-10-31",
          "2023-11-01",
          "2023-11-03",
          "2023-11-06",
          "2023-11-07",
          "2023-11-08"
         ],
         "yaxis": "y2"
        }
       ],
       "layout": {
        "legend": {
         "bgcolor": "#F5F6F9",
         "font": {
          "color": "#4D5663"
         }
        },
        "margin": {
         "b": 30,
         "l": 30,
         "r": 30,
         "t": 30
        },
        "paper_bgcolor": "#F5F6F9",
        "plot_bgcolor": "#F5F6F9",
        "showlegend": true,
        "template": {
         "data": {
          "bar": [
           {
            "error_x": {
             "color": "#2a3f5f"
            },
            "error_y": {
             "color": "#2a3f5f"
            },
            "marker": {
             "line": {
              "color": "#E5ECF6",
              "width": 0.5
             },
             "pattern": {
              "fillmode": "overlay",
              "size": 10,
              "solidity": 0.2
             }
            },
            "type": "bar"
           }
          ],
          "barpolar": [
           {
            "marker": {
             "line": {
              "color": "#E5ECF6",
              "width": 0.5
             },
             "pattern": {
              "fillmode": "overlay",
              "size": 10,
              "solidity": 0.2
             }
            },
            "type": "barpolar"
           }
          ],
          "carpet": [
           {
            "aaxis": {
             "endlinecolor": "#2a3f5f",
             "gridcolor": "white",
             "linecolor": "white",
             "minorgridcolor": "white",
             "startlinecolor": "#2a3f5f"
            },
            "baxis": {
             "endlinecolor": "#2a3f5f",
             "gridcolor": "white",
             "linecolor": "white",
             "minorgridcolor": "white",
             "startlinecolor": "#2a3f5f"
            },
            "type": "carpet"
           }
          ],
          "choropleth": [
           {
            "colorbar": {
             "outlinewidth": 0,
             "ticks": ""
            },
            "type": "choropleth"
           }
          ],
          "contour": [
           {
            "colorbar": {
             "outlinewidth": 0,
             "ticks": ""
            },
            "colorscale": [
             [
              0,
              "#0d0887"
             ],
             [
              0.1111111111111111,
              "#46039f"
             ],
             [
              0.2222222222222222,
              "#7201a8"
             ],
             [
              0.3333333333333333,
              "#9c179e"
             ],
             [
              0.4444444444444444,
              "#bd3786"
             ],
             [
              0.5555555555555556,
              "#d8576b"
             ],
             [
              0.6666666666666666,
              "#ed7953"
             ],
             [
              0.7777777777777778,
              "#fb9f3a"
             ],
             [
              0.8888888888888888,
              "#fdca26"
             ],
             [
              1,
              "#f0f921"
             ]
            ],
            "type": "contour"
           }
          ],
          "contourcarpet": [
           {
            "colorbar": {
             "outlinewidth": 0,
             "ticks": ""
            },
            "type": "contourcarpet"
           }
          ],
          "heatmap": [
           {
            "colorbar": {
             "outlinewidth": 0,
             "ticks": ""
            },
            "colorscale": [
             [
              0,
              "#0d0887"
             ],
             [
              0.1111111111111111,
              "#46039f"
             ],
             [
              0.2222222222222222,
              "#7201a8"
             ],
             [
              0.3333333333333333,
              "#9c179e"
             ],
             [
              0.4444444444444444,
              "#bd3786"
             ],
             [
              0.5555555555555556,
              "#d8576b"
             ],
             [
              0.6666666666666666,
              "#ed7953"
             ],
             [
              0.7777777777777778,
              "#fb9f3a"
             ],
             [
              0.8888888888888888,
              "#fdca26"
             ],
             [
              1,
              "#f0f921"
             ]
            ],
            "type": "heatmap"
           }
          ],
          "heatmapgl": [
           {
            "colorbar": {
             "outlinewidth": 0,
             "ticks": ""
            },
            "colorscale": [
             [
              0,
              "#0d0887"
             ],
             [
              0.1111111111111111,
              "#46039f"
             ],
             [
              0.2222222222222222,
              "#7201a8"
             ],
             [
              0.3333333333333333,
              "#9c179e"
             ],
             [
              0.4444444444444444,
              "#bd3786"
             ],
             [
              0.5555555555555556,
              "#d8576b"
             ],
             [
              0.6666666666666666,
              "#ed7953"
             ],
             [
              0.7777777777777778,
              "#fb9f3a"
             ],
             [
              0.8888888888888888,
              "#fdca26"
             ],
             [
              1,
              "#f0f921"
             ]
            ],
            "type": "heatmapgl"
           }
          ],
          "histogram": [
           {
            "marker": {
             "pattern": {
              "fillmode": "overlay",
              "size": 10,
              "solidity": 0.2
             }
            },
            "type": "histogram"
           }
          ],
          "histogram2d": [
           {
            "colorbar": {
             "outlinewidth": 0,
             "ticks": ""
            },
            "colorscale": [
             [
              0,
              "#0d0887"
             ],
             [
              0.1111111111111111,
              "#46039f"
             ],
             [
              0.2222222222222222,
              "#7201a8"
             ],
             [
              0.3333333333333333,
              "#9c179e"
             ],
             [
              0.4444444444444444,
              "#bd3786"
             ],
             [
              0.5555555555555556,
              "#d8576b"
             ],
             [
              0.6666666666666666,
              "#ed7953"
             ],
             [
              0.7777777777777778,
              "#fb9f3a"
             ],
             [
              0.8888888888888888,
              "#fdca26"
             ],
             [
              1,
              "#f0f921"
             ]
            ],
            "type": "histogram2d"
           }
          ],
          "histogram2dcontour": [
           {
            "colorbar": {
             "outlinewidth": 0,
             "ticks": ""
            },
            "colorscale": [
             [
              0,
              "#0d0887"
             ],
             [
              0.1111111111111111,
              "#46039f"
             ],
             [
              0.2222222222222222,
              "#7201a8"
             ],
             [
              0.3333333333333333,
              "#9c179e"
             ],
             [
              0.4444444444444444,
              "#bd3786"
             ],
             [
              0.5555555555555556,
              "#d8576b"
             ],
             [
              0.6666666666666666,
              "#ed7953"
             ],
             [
              0.7777777777777778,
              "#fb9f3a"
             ],
             [
              0.8888888888888888,
              "#fdca26"
             ],
             [
              1,
              "#f0f921"
             ]
            ],
            "type": "histogram2dcontour"
           }
          ],
          "mesh3d": [
           {
            "colorbar": {
             "outlinewidth": 0,
             "ticks": ""
            },
            "type": "mesh3d"
           }
          ],
          "parcoords": [
           {
            "line": {
             "colorbar": {
              "outlinewidth": 0,
              "ticks": ""
             }
            },
            "type": "parcoords"
           }
          ],
          "pie": [
           {
            "automargin": true,
            "type": "pie"
           }
          ],
          "scatter": [
           {
            "fillpattern": {
             "fillmode": "overlay",
             "size": 10,
             "solidity": 0.2
            },
            "type": "scatter"
           }
          ],
          "scatter3d": [
           {
            "line": {
             "colorbar": {
              "outlinewidth": 0,
              "ticks": ""
             }
            },
            "marker": {
             "colorbar": {
              "outlinewidth": 0,
              "ticks": ""
             }
            },
            "type": "scatter3d"
           }
          ],
          "scattercarpet": [
           {
            "marker": {
             "colorbar": {
              "outlinewidth": 0,
              "ticks": ""
             }
            },
            "type": "scattercarpet"
           }
          ],
          "scattergeo": [
           {
            "marker": {
             "colorbar": {
              "outlinewidth": 0,
              "ticks": ""
             }
            },
            "type": "scattergeo"
           }
          ],
          "scattergl": [
           {
            "marker": {
             "colorbar": {
              "outlinewidth": 0,
              "ticks": ""
             }
            },
            "type": "scattergl"
           }
          ],
          "scattermapbox": [
           {
            "marker": {
             "colorbar": {
              "outlinewidth": 0,
              "ticks": ""
             }
            },
            "type": "scattermapbox"
           }
          ],
          "scatterpolar": [
           {
            "marker": {
             "colorbar": {
              "outlinewidth": 0,
              "ticks": ""
             }
            },
            "type": "scatterpolar"
           }
          ],
          "scatterpolargl": [
           {
            "marker": {
             "colorbar": {
              "outlinewidth": 0,
              "ticks": ""
             }
            },
            "type": "scatterpolargl"
           }
          ],
          "scatterternary": [
           {
            "marker": {
             "colorbar": {
              "outlinewidth": 0,
              "ticks": ""
             }
            },
            "type": "scatterternary"
           }
          ],
          "surface": [
           {
            "colorbar": {
             "outlinewidth": 0,
             "ticks": ""
            },
            "colorscale": [
             [
              0,
              "#0d0887"
             ],
             [
              0.1111111111111111,
              "#46039f"
             ],
             [
              0.2222222222222222,
              "#7201a8"
             ],
             [
              0.3333333333333333,
              "#9c179e"
             ],
             [
              0.4444444444444444,
              "#bd3786"
             ],
             [
              0.5555555555555556,
              "#d8576b"
             ],
             [
              0.6666666666666666,
              "#ed7953"
             ],
             [
              0.7777777777777778,
              "#fb9f3a"
             ],
             [
              0.8888888888888888,
              "#fdca26"
             ],
             [
              1,
              "#f0f921"
             ]
            ],
            "type": "surface"
           }
          ],
          "table": [
           {
            "cells": {
             "fill": {
              "color": "#EBF0F8"
             },
             "line": {
              "color": "white"
             }
            },
            "header": {
             "fill": {
              "color": "#C8D4E3"
             },
             "line": {
              "color": "white"
             }
            },
            "type": "table"
           }
          ]
         },
         "layout": {
          "annotationdefaults": {
           "arrowcolor": "#2a3f5f",
           "arrowhead": 0,
           "arrowwidth": 1
          },
          "autotypenumbers": "strict",
          "coloraxis": {
           "colorbar": {
            "outlinewidth": 0,
            "ticks": ""
           }
          },
          "colorscale": {
           "diverging": [
            [
             0,
             "#8e0152"
            ],
            [
             0.1,
             "#c51b7d"
            ],
            [
             0.2,
             "#de77ae"
            ],
            [
             0.3,
             "#f1b6da"
            ],
            [
             0.4,
             "#fde0ef"
            ],
            [
             0.5,
             "#f7f7f7"
            ],
            [
             0.6,
             "#e6f5d0"
            ],
            [
             0.7,
             "#b8e186"
            ],
            [
             0.8,
             "#7fbc41"
            ],
            [
             0.9,
             "#4d9221"
            ],
            [
             1,
             "#276419"
            ]
           ],
           "sequential": [
            [
             0,
             "#0d0887"
            ],
            [
             0.1111111111111111,
             "#46039f"
            ],
            [
             0.2222222222222222,
             "#7201a8"
            ],
            [
             0.3333333333333333,
             "#9c179e"
            ],
            [
             0.4444444444444444,
             "#bd3786"
            ],
            [
             0.5555555555555556,
             "#d8576b"
            ],
            [
             0.6666666666666666,
             "#ed7953"
            ],
            [
             0.7777777777777778,
             "#fb9f3a"
            ],
            [
             0.8888888888888888,
             "#fdca26"
            ],
            [
             1,
             "#f0f921"
            ]
           ],
           "sequentialminus": [
            [
             0,
             "#0d0887"
            ],
            [
             0.1111111111111111,
             "#46039f"
            ],
            [
             0.2222222222222222,
             "#7201a8"
            ],
            [
             0.3333333333333333,
             "#9c179e"
            ],
            [
             0.4444444444444444,
             "#bd3786"
            ],
            [
             0.5555555555555556,
             "#d8576b"
            ],
            [
             0.6666666666666666,
             "#ed7953"
            ],
            [
             0.7777777777777778,
             "#fb9f3a"
            ],
            [
             0.8888888888888888,
             "#fdca26"
            ],
            [
             1,
             "#f0f921"
            ]
           ]
          },
          "colorway": [
           "#636efa",
           "#EF553B",
           "#00cc96",
           "#ab63fa",
           "#FFA15A",
           "#19d3f3",
           "#FF6692",
           "#B6E880",
           "#FF97FF",
           "#FECB52"
          ],
          "font": {
           "color": "#2a3f5f"
          },
          "geo": {
           "bgcolor": "white",
           "lakecolor": "white",
           "landcolor": "#E5ECF6",
           "showlakes": true,
           "showland": true,
           "subunitcolor": "white"
          },
          "hoverlabel": {
           "align": "left"
          },
          "hovermode": "closest",
          "mapbox": {
           "style": "light"
          },
          "paper_bgcolor": "white",
          "plot_bgcolor": "#E5ECF6",
          "polar": {
           "angularaxis": {
            "gridcolor": "white",
            "linecolor": "white",
            "ticks": ""
           },
           "bgcolor": "#E5ECF6",
           "radialaxis": {
            "gridcolor": "white",
            "linecolor": "white",
            "ticks": ""
           }
          },
          "scene": {
           "xaxis": {
            "backgroundcolor": "#E5ECF6",
            "gridcolor": "white",
            "gridwidth": 2,
            "linecolor": "white",
            "showbackground": true,
            "ticks": "",
            "zerolinecolor": "white"
           },
           "yaxis": {
            "backgroundcolor": "#E5ECF6",
            "gridcolor": "white",
            "gridwidth": 2,
            "linecolor": "white",
            "showbackground": true,
            "ticks": "",
            "zerolinecolor": "white"
           },
           "zaxis": {
            "backgroundcolor": "#E5ECF6",
            "gridcolor": "white",
            "gridwidth": 2,
            "linecolor": "white",
            "showbackground": true,
            "ticks": "",
            "zerolinecolor": "white"
           }
          },
          "shapedefaults": {
           "line": {
            "color": "#2a3f5f"
           }
          },
          "ternary": {
           "aaxis": {
            "gridcolor": "white",
            "linecolor": "white",
            "ticks": ""
           },
           "baxis": {
            "gridcolor": "white",
            "linecolor": "white",
            "ticks": ""
           },
           "bgcolor": "#E5ECF6",
           "caxis": {
            "gridcolor": "white",
            "linecolor": "white",
            "ticks": ""
           }
          },
          "title": {
           "x": 0.05
          },
          "xaxis": {
           "automargin": true,
           "gridcolor": "white",
           "linecolor": "white",
           "ticks": "",
           "title": {
            "standoff": 15
           },
           "zerolinecolor": "white",
           "zerolinewidth": 2
          },
          "yaxis": {
           "automargin": true,
           "gridcolor": "white",
           "linecolor": "white",
           "ticks": "",
           "title": {
            "standoff": 15
           },
           "zerolinecolor": "white",
           "zerolinewidth": 2
          }
         }
        },
        "title": {
         "font": {
          "color": "#4D5663"
         },
         "text": "IVVPESOISHRS.MX"
        },
        "xaxis": {
         "anchor": "y2",
         "gridcolor": "#E1E5ED",
         "rangeselector": {
          "bgcolor": "rgba(150, 200, 250, 1)",
          "buttons": [
           {
            "count": 1,
            "label": "1m",
            "step": "month",
            "stepmode": "backward"
           },
           {
            "count": 1,
            "label": "1y",
            "step": "year",
            "stepmode": "backward"
           }
          ],
          "font": {
           "size": 13
          },
          "visible": false,
          "x": 0,
          "y": 0.9
         },
         "rangeslider": {
          "visible": false
         },
         "showgrid": true,
         "tickfont": {
          "color": "#4D5663"
         },
         "title": {
          "font": {
           "color": "#4D5663"
          },
          "text": ""
         },
         "zerolinecolor": "#E1E5ED"
        },
        "yaxis": {
         "gridcolor": "#E1E5ED",
         "showgrid": true,
         "showticklabels": false,
         "tickfont": {
          "color": "#4D5663"
         },
         "title": {
          "font": {
           "color": "#4D5663"
          },
          "text": ""
         },
         "zerolinecolor": "#E1E5ED"
        },
        "yaxis2": {
         "domain": [
          0,
          0.9
         ],
         "gridcolor": "#E1E5ED",
         "showgrid": true,
         "tickfont": {
          "color": "#4D5663"
         },
         "title": {
          "font": {
           "color": "#4D5663"
          },
          "text": ""
         },
         "zerolinecolor": "#E1E5ED"
        }
       }
      },
      "text/html": [
       "<div>                            <div id=\"3510078a-f4a7-4ee1-b5ce-01b812b558f7\" class=\"plotly-graph-div\" style=\"height:525px; width:100%;\"></div>            <script type=\"text/javascript\">                require([\"plotly\"], function(Plotly) {                    window.PLOTLYENV=window.PLOTLYENV || {};\n",
       "                    window.PLOTLYENV.BASE_URL='https://plot.ly';                                    if (document.getElementById(\"3510078a-f4a7-4ee1-b5ce-01b812b558f7\")) {                    Plotly.newPlot(                        \"3510078a-f4a7-4ee1-b5ce-01b812b558f7\",                        [{\"line\":{\"color\":\"rgba(55, 128, 191, 1.0)\",\"dash\":\"solid\",\"shape\":\"linear\",\"width\":1.3},\"mode\":\"lines\",\"name\":\" SMA(20)\",\"text\":\"\",\"x\":[\"2023-09-01\",\"2023-09-04\",\"2023-09-05\",\"2023-09-06\",\"2023-09-07\",\"2023-09-08\",\"2023-09-11\",\"2023-09-12\",\"2023-09-13\",\"2023-09-14\",\"2023-09-15\",\"2023-09-18\",\"2023-09-19\",\"2023-09-20\",\"2023-09-21\",\"2023-09-22\",\"2023-09-25\",\"2023-09-26\",\"2023-09-27\",\"2023-09-28\",\"2023-09-29\",\"2023-10-02\",\"2023-10-03\",\"2023-10-04\",\"2023-10-05\",\"2023-10-06\",\"2023-10-09\",\"2023-10-10\",\"2023-10-11\",\"2023-10-12\",\"2023-10-13\",\"2023-10-16\",\"2023-10-17\",\"2023-10-18\",\"2023-10-19\",\"2023-10-20\",\"2023-10-23\",\"2023-10-24\",\"2023-10-25\",\"2023-10-26\",\"2023-10-27\",\"2023-10-30\",\"2023-10-31\",\"2023-11-01\",\"2023-11-03\",\"2023-11-06\",\"2023-11-07\",\"2023-11-08\"],\"y\":[\"\",\"\",\"\",\"\",\"\",\"\",\"\",\"\",\"\",\"\",\"\",\"\",\"\",\"\",\"\",\"\",\"\",\"\",\"\",\"\",\"\",\"\",\"\",\"\",\"\",\"\",\"\",\"\",\"\",\"\",79.76650009155273,79.70799980163574,79.6564998626709,79.54650001525879,79.55149993896484,79.48949966430663,79.42999992370605,79.42999992370605,\"\",\"\",\"\",\"\",\"\",\"\",\"\",\"\",\"\",\"\"],\"yaxis\":\"y2\",\"type\":\"scatter\"},{\"line\":{\"color\":\"rgba(55, 128, 191, 1.0)\",\"dash\":\"solid\",\"shape\":\"linear\",\"width\":1.3},\"mode\":\"lines\",\"name\":\" SMA(100)\",\"text\":\"\",\"x\":[\"2023-09-01\",\"2023-09-04\",\"2023-09-05\",\"2023-09-06\",\"2023-09-07\",\"2023-09-08\",\"2023-09-11\",\"2023-09-12\",\"2023-09-13\",\"2023-09-14\",\"2023-09-15\",\"2023-09-18\",\"2023-09-19\",\"2023-09-20\",\"2023-09-21\",\"2023-09-22\",\"2023-09-25\",\"2023-09-26\",\"2023-09-27\",\"2023-09-28\",\"2023-09-29\",\"2023-10-02\",\"2023-10-03\",\"2023-10-04\",\"2023-10-05\",\"2023-10-06\",\"2023-10-09\",\"2023-10-10\",\"2023-10-11\",\"2023-10-12\",\"2023-10-13\",\"2023-10-16\",\"2023-10-17\",\"2023-10-18\",\"2023-10-19\",\"2023-10-20\",\"2023-10-23\",\"2023-10-24\",\"2023-10-25\",\"2023-10-26\",\"2023-10-27\",\"2023-10-30\",\"2023-10-31\",\"2023-11-01\",\"2023-11-03\",\"2023-11-06\",\"2023-11-07\",\"2023-11-08\"],\"y\":[\"\",\"\",\"\",\"\",\"\",\"\",\"\",\"\",\"\",\"\",\"\",\"\",\"\",\"\",\"\",\"\",\"\",\"\",\"\",\"\",\"\",\"\",\"\",\"\",\"\",\"\",\"\",\"\",\"\",\"\",\"\",\"\",\"\",\"\",\"\",\"\",\"\",\"\",\"\",\"\",\"\",\"\",\"\",\"\",\"\",\"\",\"\",\"\"],\"yaxis\":\"y2\",\"type\":\"scatter\"},{\"close\":[82.69999694824219,82.72000122070312,82.58000183105469,81.95999908447266,81.5999984741211,81.86000061035156,82.27999877929688,82.08000183105469,81.97000122070312,82.81999969482422,null,82.12000274658203,81.62999725341797,82.0,80.0,79.80000305175781,79.5999984741211,78.6500015258789,78.6500015258789,79.1500015258789,78.88999938964844,78.5999984741211,77.88999938964844,78.66999816894531,78.37000274658203,79.75,80.20999908447266,80.5999984741211,80.54000091552734,80.2699966430664,79.94000244140625,80.94999694824219,80.5999984741211,79.80000305175781,80.0999984741211,78.55999755859375,78.41000366210938,78.6500015258789,null,76.97000122070312,76.13999938964844,76.93000030517578,77.23999786376953,78.41999816894531,80.62999725341797,80.5999984741211,81.05000305175781,81.0],\"decreasing\":{\"line\":{\"color\":\"#808080\"}},\"high\":[83.02999877929688,82.72000122070312,82.83000183105469,82.36000061035156,81.62999725341797,82.16000366210938,82.51000213623047,82.08000183105469,82.30000305175781,82.81999969482422,null,82.19999694824219,82.19000244140625,82.08000183105469,80.48999786376953,80.19000244140625,79.69999694824219,79.33000183105469,78.66999816894531,79.30000305175781,79.80000305175781,78.97000122070312,78.12999725341797,78.68000030517578,78.51000213623047,79.75,80.20999908447266,80.8499984741211,80.54000091552734,80.80999755859375,80.5199966430664,81.23999786376953,81.04000091552734,80.55000305175781,80.0999984741211,79.16999816894531,78.41000366210938,78.66000366210938,null,77.13999938964844,76.77999877929688,76.97000122070312,77.23999786376953,78.41999816894531,80.8499984741211,80.7300033569336,81.05000305175781,81.06999969482422],\"increasing\":{\"line\":{\"color\":\"#17BECF\"}},\"low\":[82.68000030517578,82.72000122070312,82.55000305175781,81.66999816894531,81.41999816894531,81.86000061035156,82.12999725341797,82.08000183105469,81.97000122070312,82.3499984741211,null,81.87999725341797,81.31999969482422,81.80000305175781,80.0,79.79000091552734,79.33000183105469,78.6500015258789,77.94000244140625,79.12999725341797,78.88999938964844,78.56999969482422,77.75,78.5199966430664,78.1500015258789,78.27999877929688,79.05000305175781,80.3499984741211,80.4000015258789,80.20999908447266,79.87000274658203,80.52999877929688,80.44999694824219,79.69000244140625,79.55000305175781,78.43000030517578,77.88999938964844,78.18000030517578,null,76.3499984741211,76.13999938964844,76.5999984741211,77.23999786376953,77.87000274658203,79.0,80.5,80.83999633789062,80.68000030517578],\"name\":\"MX ETFs\",\"open\":[83.01000213623047,82.72000122070312,82.70999908447266,82.36000061035156,81.41999816894531,82.16000366210938,82.12999725341797,82.08000183105469,82.05000305175781,82.3499984741211,null,81.87999725341797,82.19000244140625,81.94999694824219,80.48999786376953,80.0,79.33000183105469,79.33000183105469,78.66999816894531,79.20999908447266,79.61000061035156,78.88999938964844,78.0,78.63999938964844,78.5,78.27999877929688,79.05999755859375,80.3499984741211,80.4000015258789,80.7699966430664,80.5199966430664,80.52999877929688,81.04000091552734,80.55000305175781,79.8499984741211,79.16999816894531,77.88999938964844,78.41000366210938,null,76.3499984741211,76.58000183105469,76.76000213623047,77.23999786376953,78.1500015258789,79.0,80.63999938964844,81.0,81.05000305175781],\"showlegend\":true,\"x\":[\"2023-09-01\",\"2023-09-04\",\"2023-09-05\",\"2023-09-06\",\"2023-09-07\",\"2023-09-08\",\"2023-09-11\",\"2023-09-12\",\"2023-09-13\",\"2023-09-14\",\"2023-09-15\",\"2023-09-18\",\"2023-09-19\",\"2023-09-20\",\"2023-09-21\",\"2023-09-22\",\"2023-09-25\",\"2023-09-26\",\"2023-09-27\",\"2023-09-28\",\"2023-09-29\",\"2023-10-02\",\"2023-10-03\",\"2023-10-04\",\"2023-10-05\",\"2023-10-06\",\"2023-10-09\",\"2023-10-10\",\"2023-10-11\",\"2023-10-12\",\"2023-10-13\",\"2023-10-16\",\"2023-10-17\",\"2023-10-18\",\"2023-10-19\",\"2023-10-20\",\"2023-10-23\",\"2023-10-24\",\"2023-10-25\",\"2023-10-26\",\"2023-10-27\",\"2023-10-30\",\"2023-10-31\",\"2023-11-01\",\"2023-11-03\",\"2023-11-06\",\"2023-11-07\",\"2023-11-08\"],\"yaxis\":\"y2\",\"type\":\"candlestick\"}],                        {\"legend\":{\"bgcolor\":\"#F5F6F9\",\"font\":{\"color\":\"#4D5663\"}},\"margin\":{\"b\":30,\"l\":30,\"r\":30,\"t\":30},\"paper_bgcolor\":\"#F5F6F9\",\"plot_bgcolor\":\"#F5F6F9\",\"showlegend\":true,\"template\":{\"data\":{\"barpolar\":[{\"marker\":{\"line\":{\"color\":\"#E5ECF6\",\"width\":0.5},\"pattern\":{\"fillmode\":\"overlay\",\"size\":10,\"solidity\":0.2}},\"type\":\"barpolar\"}],\"bar\":[{\"error_x\":{\"color\":\"#2a3f5f\"},\"error_y\":{\"color\":\"#2a3f5f\"},\"marker\":{\"line\":{\"color\":\"#E5ECF6\",\"width\":0.5},\"pattern\":{\"fillmode\":\"overlay\",\"size\":10,\"solidity\":0.2}},\"type\":\"bar\"}],\"carpet\":[{\"aaxis\":{\"endlinecolor\":\"#2a3f5f\",\"gridcolor\":\"white\",\"linecolor\":\"white\",\"minorgridcolor\":\"white\",\"startlinecolor\":\"#2a3f5f\"},\"baxis\":{\"endlinecolor\":\"#2a3f5f\",\"gridcolor\":\"white\",\"linecolor\":\"white\",\"minorgridcolor\":\"white\",\"startlinecolor\":\"#2a3f5f\"},\"type\":\"carpet\"}],\"choropleth\":[{\"colorbar\":{\"outlinewidth\":0,\"ticks\":\"\"},\"type\":\"choropleth\"}],\"contourcarpet\":[{\"colorbar\":{\"outlinewidth\":0,\"ticks\":\"\"},\"type\":\"contourcarpet\"}],\"contour\":[{\"colorbar\":{\"outlinewidth\":0,\"ticks\":\"\"},\"colorscale\":[[0.0,\"#0d0887\"],[0.1111111111111111,\"#46039f\"],[0.2222222222222222,\"#7201a8\"],[0.3333333333333333,\"#9c179e\"],[0.4444444444444444,\"#bd3786\"],[0.5555555555555556,\"#d8576b\"],[0.6666666666666666,\"#ed7953\"],[0.7777777777777778,\"#fb9f3a\"],[0.8888888888888888,\"#fdca26\"],[1.0,\"#f0f921\"]],\"type\":\"contour\"}],\"heatmapgl\":[{\"colorbar\":{\"outlinewidth\":0,\"ticks\":\"\"},\"colorscale\":[[0.0,\"#0d0887\"],[0.1111111111111111,\"#46039f\"],[0.2222222222222222,\"#7201a8\"],[0.3333333333333333,\"#9c179e\"],[0.4444444444444444,\"#bd3786\"],[0.5555555555555556,\"#d8576b\"],[0.6666666666666666,\"#ed7953\"],[0.7777777777777778,\"#fb9f3a\"],[0.8888888888888888,\"#fdca26\"],[1.0,\"#f0f921\"]],\"type\":\"heatmapgl\"}],\"heatmap\":[{\"colorbar\":{\"outlinewidth\":0,\"ticks\":\"\"},\"colorscale\":[[0.0,\"#0d0887\"],[0.1111111111111111,\"#46039f\"],[0.2222222222222222,\"#7201a8\"],[0.3333333333333333,\"#9c179e\"],[0.4444444444444444,\"#bd3786\"],[0.5555555555555556,\"#d8576b\"],[0.6666666666666666,\"#ed7953\"],[0.7777777777777778,\"#fb9f3a\"],[0.8888888888888888,\"#fdca26\"],[1.0,\"#f0f921\"]],\"type\":\"heatmap\"}],\"histogram2dcontour\":[{\"colorbar\":{\"outlinewidth\":0,\"ticks\":\"\"},\"colorscale\":[[0.0,\"#0d0887\"],[0.1111111111111111,\"#46039f\"],[0.2222222222222222,\"#7201a8\"],[0.3333333333333333,\"#9c179e\"],[0.4444444444444444,\"#bd3786\"],[0.5555555555555556,\"#d8576b\"],[0.6666666666666666,\"#ed7953\"],[0.7777777777777778,\"#fb9f3a\"],[0.8888888888888888,\"#fdca26\"],[1.0,\"#f0f921\"]],\"type\":\"histogram2dcontour\"}],\"histogram2d\":[{\"colorbar\":{\"outlinewidth\":0,\"ticks\":\"\"},\"colorscale\":[[0.0,\"#0d0887\"],[0.1111111111111111,\"#46039f\"],[0.2222222222222222,\"#7201a8\"],[0.3333333333333333,\"#9c179e\"],[0.4444444444444444,\"#bd3786\"],[0.5555555555555556,\"#d8576b\"],[0.6666666666666666,\"#ed7953\"],[0.7777777777777778,\"#fb9f3a\"],[0.8888888888888888,\"#fdca26\"],[1.0,\"#f0f921\"]],\"type\":\"histogram2d\"}],\"histogram\":[{\"marker\":{\"pattern\":{\"fillmode\":\"overlay\",\"size\":10,\"solidity\":0.2}},\"type\":\"histogram\"}],\"mesh3d\":[{\"colorbar\":{\"outlinewidth\":0,\"ticks\":\"\"},\"type\":\"mesh3d\"}],\"parcoords\":[{\"line\":{\"colorbar\":{\"outlinewidth\":0,\"ticks\":\"\"}},\"type\":\"parcoords\"}],\"pie\":[{\"automargin\":true,\"type\":\"pie\"}],\"scatter3d\":[{\"line\":{\"colorbar\":{\"outlinewidth\":0,\"ticks\":\"\"}},\"marker\":{\"colorbar\":{\"outlinewidth\":0,\"ticks\":\"\"}},\"type\":\"scatter3d\"}],\"scattercarpet\":[{\"marker\":{\"colorbar\":{\"outlinewidth\":0,\"ticks\":\"\"}},\"type\":\"scattercarpet\"}],\"scattergeo\":[{\"marker\":{\"colorbar\":{\"outlinewidth\":0,\"ticks\":\"\"}},\"type\":\"scattergeo\"}],\"scattergl\":[{\"marker\":{\"colorbar\":{\"outlinewidth\":0,\"ticks\":\"\"}},\"type\":\"scattergl\"}],\"scattermapbox\":[{\"marker\":{\"colorbar\":{\"outlinewidth\":0,\"ticks\":\"\"}},\"type\":\"scattermapbox\"}],\"scatterpolargl\":[{\"marker\":{\"colorbar\":{\"outlinewidth\":0,\"ticks\":\"\"}},\"type\":\"scatterpolargl\"}],\"scatterpolar\":[{\"marker\":{\"colorbar\":{\"outlinewidth\":0,\"ticks\":\"\"}},\"type\":\"scatterpolar\"}],\"scatter\":[{\"fillpattern\":{\"fillmode\":\"overlay\",\"size\":10,\"solidity\":0.2},\"type\":\"scatter\"}],\"scatterternary\":[{\"marker\":{\"colorbar\":{\"outlinewidth\":0,\"ticks\":\"\"}},\"type\":\"scatterternary\"}],\"surface\":[{\"colorbar\":{\"outlinewidth\":0,\"ticks\":\"\"},\"colorscale\":[[0.0,\"#0d0887\"],[0.1111111111111111,\"#46039f\"],[0.2222222222222222,\"#7201a8\"],[0.3333333333333333,\"#9c179e\"],[0.4444444444444444,\"#bd3786\"],[0.5555555555555556,\"#d8576b\"],[0.6666666666666666,\"#ed7953\"],[0.7777777777777778,\"#fb9f3a\"],[0.8888888888888888,\"#fdca26\"],[1.0,\"#f0f921\"]],\"type\":\"surface\"}],\"table\":[{\"cells\":{\"fill\":{\"color\":\"#EBF0F8\"},\"line\":{\"color\":\"white\"}},\"header\":{\"fill\":{\"color\":\"#C8D4E3\"},\"line\":{\"color\":\"white\"}},\"type\":\"table\"}]},\"layout\":{\"annotationdefaults\":{\"arrowcolor\":\"#2a3f5f\",\"arrowhead\":0,\"arrowwidth\":1},\"autotypenumbers\":\"strict\",\"coloraxis\":{\"colorbar\":{\"outlinewidth\":0,\"ticks\":\"\"}},\"colorscale\":{\"diverging\":[[0,\"#8e0152\"],[0.1,\"#c51b7d\"],[0.2,\"#de77ae\"],[0.3,\"#f1b6da\"],[0.4,\"#fde0ef\"],[0.5,\"#f7f7f7\"],[0.6,\"#e6f5d0\"],[0.7,\"#b8e186\"],[0.8,\"#7fbc41\"],[0.9,\"#4d9221\"],[1,\"#276419\"]],\"sequential\":[[0.0,\"#0d0887\"],[0.1111111111111111,\"#46039f\"],[0.2222222222222222,\"#7201a8\"],[0.3333333333333333,\"#9c179e\"],[0.4444444444444444,\"#bd3786\"],[0.5555555555555556,\"#d8576b\"],[0.6666666666666666,\"#ed7953\"],[0.7777777777777778,\"#fb9f3a\"],[0.8888888888888888,\"#fdca26\"],[1.0,\"#f0f921\"]],\"sequentialminus\":[[0.0,\"#0d0887\"],[0.1111111111111111,\"#46039f\"],[0.2222222222222222,\"#7201a8\"],[0.3333333333333333,\"#9c179e\"],[0.4444444444444444,\"#bd3786\"],[0.5555555555555556,\"#d8576b\"],[0.6666666666666666,\"#ed7953\"],[0.7777777777777778,\"#fb9f3a\"],[0.8888888888888888,\"#fdca26\"],[1.0,\"#f0f921\"]]},\"colorway\":[\"#636efa\",\"#EF553B\",\"#00cc96\",\"#ab63fa\",\"#FFA15A\",\"#19d3f3\",\"#FF6692\",\"#B6E880\",\"#FF97FF\",\"#FECB52\"],\"font\":{\"color\":\"#2a3f5f\"},\"geo\":{\"bgcolor\":\"white\",\"lakecolor\":\"white\",\"landcolor\":\"#E5ECF6\",\"showlakes\":true,\"showland\":true,\"subunitcolor\":\"white\"},\"hoverlabel\":{\"align\":\"left\"},\"hovermode\":\"closest\",\"mapbox\":{\"style\":\"light\"},\"paper_bgcolor\":\"white\",\"plot_bgcolor\":\"#E5ECF6\",\"polar\":{\"angularaxis\":{\"gridcolor\":\"white\",\"linecolor\":\"white\",\"ticks\":\"\"},\"bgcolor\":\"#E5ECF6\",\"radialaxis\":{\"gridcolor\":\"white\",\"linecolor\":\"white\",\"ticks\":\"\"}},\"scene\":{\"xaxis\":{\"backgroundcolor\":\"#E5ECF6\",\"gridcolor\":\"white\",\"gridwidth\":2,\"linecolor\":\"white\",\"showbackground\":true,\"ticks\":\"\",\"zerolinecolor\":\"white\"},\"yaxis\":{\"backgroundcolor\":\"#E5ECF6\",\"gridcolor\":\"white\",\"gridwidth\":2,\"linecolor\":\"white\",\"showbackground\":true,\"ticks\":\"\",\"zerolinecolor\":\"white\"},\"zaxis\":{\"backgroundcolor\":\"#E5ECF6\",\"gridcolor\":\"white\",\"gridwidth\":2,\"linecolor\":\"white\",\"showbackground\":true,\"ticks\":\"\",\"zerolinecolor\":\"white\"}},\"shapedefaults\":{\"line\":{\"color\":\"#2a3f5f\"}},\"ternary\":{\"aaxis\":{\"gridcolor\":\"white\",\"linecolor\":\"white\",\"ticks\":\"\"},\"baxis\":{\"gridcolor\":\"white\",\"linecolor\":\"white\",\"ticks\":\"\"},\"bgcolor\":\"#E5ECF6\",\"caxis\":{\"gridcolor\":\"white\",\"linecolor\":\"white\",\"ticks\":\"\"}},\"title\":{\"x\":0.05},\"xaxis\":{\"automargin\":true,\"gridcolor\":\"white\",\"linecolor\":\"white\",\"ticks\":\"\",\"title\":{\"standoff\":15},\"zerolinecolor\":\"white\",\"zerolinewidth\":2},\"yaxis\":{\"automargin\":true,\"gridcolor\":\"white\",\"linecolor\":\"white\",\"ticks\":\"\",\"title\":{\"standoff\":15},\"zerolinecolor\":\"white\",\"zerolinewidth\":2}}},\"title\":{\"font\":{\"color\":\"#4D5663\"},\"text\":\"IVVPESOISHRS.MX\"},\"xaxis\":{\"anchor\":\"y2\",\"gridcolor\":\"#E1E5ED\",\"rangeselector\":{\"bgcolor\":\"rgba(150, 200, 250, 1)\",\"buttons\":[{\"count\":1,\"label\":\"1m\",\"step\":\"month\",\"stepmode\":\"backward\"},{\"count\":1,\"label\":\"1y\",\"step\":\"year\",\"stepmode\":\"backward\"}],\"font\":{\"size\":13},\"visible\":false,\"x\":0,\"y\":0.9},\"rangeslider\":{\"visible\":false},\"showgrid\":true,\"tickfont\":{\"color\":\"#4D5663\"},\"title\":{\"font\":{\"color\":\"#4D5663\"},\"text\":\"\"},\"zerolinecolor\":\"#E1E5ED\"},\"yaxis\":{\"gridcolor\":\"#E1E5ED\",\"showgrid\":true,\"showticklabels\":false,\"tickfont\":{\"color\":\"#4D5663\"},\"title\":{\"font\":{\"color\":\"#4D5663\"},\"text\":\"\"},\"zerolinecolor\":\"#E1E5ED\"},\"yaxis2\":{\"domain\":[0.0,0.9],\"gridcolor\":\"#E1E5ED\",\"showgrid\":true,\"tickfont\":{\"color\":\"#4D5663\"},\"title\":{\"font\":{\"color\":\"#4D5663\"},\"text\":\"\"},\"zerolinecolor\":\"#E1E5ED\"}},                        {\"showLink\": true, \"linkText\": \"Export to plot.ly\", \"plotlyServerURL\": \"https://plot.ly\", \"responsive\": true}                    ).then(function(){\n",
       "                            \n",
       "var gd = document.getElementById('3510078a-f4a7-4ee1-b5ce-01b812b558f7');\n",
       "var x = new MutationObserver(function (mutations, observer) {{\n",
       "        var display = window.getComputedStyle(gd).display;\n",
       "        if (!display || display === 'none') {{\n",
       "            console.log([gd, 'removed!']);\n",
       "            Plotly.purge(gd);\n",
       "            observer.disconnect();\n",
       "        }}\n",
       "}});\n",
       "\n",
       "// Listen for the removal of the full notebook cells\n",
       "var notebookContainer = gd.closest('#notebook-container');\n",
       "if (notebookContainer) {{\n",
       "    x.observe(notebookContainer, {childList: true});\n",
       "}}\n",
       "\n",
       "// Listen for the clearing of the current output cell\n",
       "var outputEl = gd.closest('.output');\n",
       "if (outputEl) {{\n",
       "    x.observe(outputEl, {childList: true});\n",
       "}}\n",
       "\n",
       "                        })                };                });            </script>        </div>"
      ]
     },
     "metadata": {},
     "output_type": "display_data"
    }
   ],
   "source": [
    "qf = cf.QuantFig(df = ivvpesoishrs.loc[\"09-2023\":])\n",
    "qf.add_sma(periods=20)\n",
    "qf.add_sma(periods=100)\n",
    "qf.iplot(title= \"IVVPESOISHRS.MX\", name = \"MX ETFs\")"
   ]
  },
  {
   "cell_type": "code",
   "execution_count": 35,
   "metadata": {},
   "outputs": [
    {
     "data": {
      "application/vnd.plotly.v1+json": {
       "config": {
        "linkText": "Export to plot.ly",
        "plotlyServerURL": "https://plot.ly",
        "showLink": true
       },
       "data": [
        {
         "line": {
          "color": "rgba(55, 128, 191, 1.0)",
          "dash": "solid",
          "shape": "linear",
          "width": 1.3
         },
         "mode": "lines",
         "name": " EMA(20)",
         "text": "",
         "type": "scatter",
         "x": [
          "2023-09-01",
          "2023-09-04",
          "2023-09-05",
          "2023-09-06",
          "2023-09-07",
          "2023-09-08",
          "2023-09-11",
          "2023-09-12",
          "2023-09-13",
          "2023-09-14",
          "2023-09-15",
          "2023-09-18",
          "2023-09-19",
          "2023-09-20",
          "2023-09-21",
          "2023-09-22",
          "2023-09-25",
          "2023-09-26",
          "2023-09-27",
          "2023-09-28",
          "2023-09-29",
          "2023-10-02",
          "2023-10-03",
          "2023-10-04",
          "2023-10-05",
          "2023-10-06",
          "2023-10-09",
          "2023-10-10",
          "2023-10-11",
          "2023-10-12",
          "2023-10-13",
          "2023-10-16",
          "2023-10-17",
          "2023-10-18",
          "2023-10-19",
          "2023-10-20",
          "2023-10-23",
          "2023-10-24",
          "2023-10-25",
          "2023-10-26",
          "2023-10-27",
          "2023-10-30",
          "2023-10-31",
          "2023-11-01",
          "2023-11-03",
          "2023-11-06",
          "2023-11-07",
          "2023-11-08"
         ],
         "y": [
          "",
          "",
          "",
          "",
          "",
          "",
          "",
          "",
          "",
          "",
          "",
          "",
          "",
          "",
          "",
          "",
          "",
          "",
          "",
          "",
          80.71454070554849,
          80.51315573112683,
          80.2633313176527,
          80.1115853034901,
          79.94572029807028,
          79.92708026968265,
          79.95402491871027,
          80.01554620970178,
          80.06549427692326,
          80.08497069274641,
          80.07116419261877,
          80.15486255029718,
          80.19725644780422,
          80.1594227910379,
          80.15376333228392,
          80.001976115742,
          79.8503596915865,
          79.73603986628102,
          79.73603986628102,
          79.44776784862773,
          79.1327422811059,
          78.92295733101732,
          78.7626754769937,
          78.73003954289386,
          78.9109878962771,
          79.07184604654796,
          79.26024195180605,
          79.42593319449118
         ],
         "yaxis": "y2"
        },
        {
         "line": {
          "color": "rgba(55, 128, 191, 1.0)",
          "dash": "solid",
          "shape": "linear",
          "width": 1.3
         },
         "mode": "lines",
         "name": " EMA(100)",
         "text": "",
         "type": "scatter",
         "x": [
          "2023-09-01",
          "2023-09-04",
          "2023-09-05",
          "2023-09-06",
          "2023-09-07",
          "2023-09-08",
          "2023-09-11",
          "2023-09-12",
          "2023-09-13",
          "2023-09-14",
          "2023-09-15",
          "2023-09-18",
          "2023-09-19",
          "2023-09-20",
          "2023-09-21",
          "2023-09-22",
          "2023-09-25",
          "2023-09-26",
          "2023-09-27",
          "2023-09-28",
          "2023-09-29",
          "2023-10-02",
          "2023-10-03",
          "2023-10-04",
          "2023-10-05",
          "2023-10-06",
          "2023-10-09",
          "2023-10-10",
          "2023-10-11",
          "2023-10-12",
          "2023-10-13",
          "2023-10-16",
          "2023-10-17",
          "2023-10-18",
          "2023-10-19",
          "2023-10-20",
          "2023-10-23",
          "2023-10-24",
          "2023-10-25",
          "2023-10-26",
          "2023-10-27",
          "2023-10-30",
          "2023-10-31",
          "2023-11-01",
          "2023-11-03",
          "2023-11-06",
          "2023-11-07",
          "2023-11-08"
         ],
         "y": [
          "",
          "",
          "",
          "",
          "",
          "",
          "",
          "",
          "",
          "",
          "",
          "",
          "",
          "",
          "",
          "",
          "",
          "",
          "",
          "",
          "",
          "",
          "",
          "",
          "",
          "",
          "",
          "",
          "",
          "",
          "",
          "",
          "",
          "",
          "",
          "",
          "",
          "",
          "",
          "",
          "",
          "",
          "",
          "",
          "",
          "",
          "",
          ""
         ],
         "yaxis": "y2"
        },
        {
         "close": [
          82.69999694824219,
          82.72000122070312,
          82.58000183105469,
          81.95999908447266,
          81.5999984741211,
          81.86000061035156,
          82.27999877929688,
          82.08000183105469,
          81.97000122070312,
          82.81999969482422,
          null,
          82.12000274658203,
          81.62999725341797,
          82,
          80,
          79.80000305175781,
          79.5999984741211,
          78.6500015258789,
          78.6500015258789,
          79.1500015258789,
          78.88999938964844,
          78.5999984741211,
          77.88999938964844,
          78.66999816894531,
          78.37000274658203,
          79.75,
          80.20999908447266,
          80.5999984741211,
          80.54000091552734,
          80.2699966430664,
          79.94000244140625,
          80.94999694824219,
          80.5999984741211,
          79.80000305175781,
          80.0999984741211,
          78.55999755859375,
          78.41000366210938,
          78.6500015258789,
          null,
          76.97000122070312,
          76.13999938964844,
          76.93000030517578,
          77.23999786376953,
          78.41999816894531,
          80.62999725341797,
          80.5999984741211,
          81.05000305175781,
          81
         ],
         "decreasing": {
          "line": {
           "color": "#808080"
          }
         },
         "high": [
          83.02999877929688,
          82.72000122070312,
          82.83000183105469,
          82.36000061035156,
          81.62999725341797,
          82.16000366210938,
          82.51000213623047,
          82.08000183105469,
          82.30000305175781,
          82.81999969482422,
          null,
          82.19999694824219,
          82.19000244140625,
          82.08000183105469,
          80.48999786376953,
          80.19000244140625,
          79.69999694824219,
          79.33000183105469,
          78.66999816894531,
          79.30000305175781,
          79.80000305175781,
          78.97000122070312,
          78.12999725341797,
          78.68000030517578,
          78.51000213623047,
          79.75,
          80.20999908447266,
          80.8499984741211,
          80.54000091552734,
          80.80999755859375,
          80.5199966430664,
          81.23999786376953,
          81.04000091552734,
          80.55000305175781,
          80.0999984741211,
          79.16999816894531,
          78.41000366210938,
          78.66000366210938,
          null,
          77.13999938964844,
          76.77999877929688,
          76.97000122070312,
          77.23999786376953,
          78.41999816894531,
          80.8499984741211,
          80.7300033569336,
          81.05000305175781,
          81.06999969482422
         ],
         "increasing": {
          "line": {
           "color": "#17BECF"
          }
         },
         "low": [
          82.68000030517578,
          82.72000122070312,
          82.55000305175781,
          81.66999816894531,
          81.41999816894531,
          81.86000061035156,
          82.12999725341797,
          82.08000183105469,
          81.97000122070312,
          82.3499984741211,
          null,
          81.87999725341797,
          81.31999969482422,
          81.80000305175781,
          80,
          79.79000091552734,
          79.33000183105469,
          78.6500015258789,
          77.94000244140625,
          79.12999725341797,
          78.88999938964844,
          78.56999969482422,
          77.75,
          78.5199966430664,
          78.1500015258789,
          78.27999877929688,
          79.05000305175781,
          80.3499984741211,
          80.4000015258789,
          80.20999908447266,
          79.87000274658203,
          80.52999877929688,
          80.44999694824219,
          79.69000244140625,
          79.55000305175781,
          78.43000030517578,
          77.88999938964844,
          78.18000030517578,
          null,
          76.3499984741211,
          76.13999938964844,
          76.5999984741211,
          77.23999786376953,
          77.87000274658203,
          79,
          80.5,
          80.83999633789062,
          80.68000030517578
         ],
         "name": "MX ETFs",
         "open": [
          83.01000213623047,
          82.72000122070312,
          82.70999908447266,
          82.36000061035156,
          81.41999816894531,
          82.16000366210938,
          82.12999725341797,
          82.08000183105469,
          82.05000305175781,
          82.3499984741211,
          null,
          81.87999725341797,
          82.19000244140625,
          81.94999694824219,
          80.48999786376953,
          80,
          79.33000183105469,
          79.33000183105469,
          78.66999816894531,
          79.20999908447266,
          79.61000061035156,
          78.88999938964844,
          78,
          78.63999938964844,
          78.5,
          78.27999877929688,
          79.05999755859375,
          80.3499984741211,
          80.4000015258789,
          80.7699966430664,
          80.5199966430664,
          80.52999877929688,
          81.04000091552734,
          80.55000305175781,
          79.8499984741211,
          79.16999816894531,
          77.88999938964844,
          78.41000366210938,
          null,
          76.3499984741211,
          76.58000183105469,
          76.76000213623047,
          77.23999786376953,
          78.1500015258789,
          79,
          80.63999938964844,
          81,
          81.05000305175781
         ],
         "showlegend": true,
         "type": "candlestick",
         "x": [
          "2023-09-01",
          "2023-09-04",
          "2023-09-05",
          "2023-09-06",
          "2023-09-07",
          "2023-09-08",
          "2023-09-11",
          "2023-09-12",
          "2023-09-13",
          "2023-09-14",
          "2023-09-15",
          "2023-09-18",
          "2023-09-19",
          "2023-09-20",
          "2023-09-21",
          "2023-09-22",
          "2023-09-25",
          "2023-09-26",
          "2023-09-27",
          "2023-09-28",
          "2023-09-29",
          "2023-10-02",
          "2023-10-03",
          "2023-10-04",
          "2023-10-05",
          "2023-10-06",
          "2023-10-09",
          "2023-10-10",
          "2023-10-11",
          "2023-10-12",
          "2023-10-13",
          "2023-10-16",
          "2023-10-17",
          "2023-10-18",
          "2023-10-19",
          "2023-10-20",
          "2023-10-23",
          "2023-10-24",
          "2023-10-25",
          "2023-10-26",
          "2023-10-27",
          "2023-10-30",
          "2023-10-31",
          "2023-11-01",
          "2023-11-03",
          "2023-11-06",
          "2023-11-07",
          "2023-11-08"
         ],
         "yaxis": "y2"
        }
       ],
       "layout": {
        "legend": {
         "bgcolor": "#F5F6F9",
         "font": {
          "color": "#4D5663"
         }
        },
        "margin": {
         "b": 30,
         "l": 30,
         "r": 30,
         "t": 30
        },
        "paper_bgcolor": "#F5F6F9",
        "plot_bgcolor": "#F5F6F9",
        "showlegend": true,
        "template": {
         "data": {
          "bar": [
           {
            "error_x": {
             "color": "#2a3f5f"
            },
            "error_y": {
             "color": "#2a3f5f"
            },
            "marker": {
             "line": {
              "color": "#E5ECF6",
              "width": 0.5
             },
             "pattern": {
              "fillmode": "overlay",
              "size": 10,
              "solidity": 0.2
             }
            },
            "type": "bar"
           }
          ],
          "barpolar": [
           {
            "marker": {
             "line": {
              "color": "#E5ECF6",
              "width": 0.5
             },
             "pattern": {
              "fillmode": "overlay",
              "size": 10,
              "solidity": 0.2
             }
            },
            "type": "barpolar"
           }
          ],
          "carpet": [
           {
            "aaxis": {
             "endlinecolor": "#2a3f5f",
             "gridcolor": "white",
             "linecolor": "white",
             "minorgridcolor": "white",
             "startlinecolor": "#2a3f5f"
            },
            "baxis": {
             "endlinecolor": "#2a3f5f",
             "gridcolor": "white",
             "linecolor": "white",
             "minorgridcolor": "white",
             "startlinecolor": "#2a3f5f"
            },
            "type": "carpet"
           }
          ],
          "choropleth": [
           {
            "colorbar": {
             "outlinewidth": 0,
             "ticks": ""
            },
            "type": "choropleth"
           }
          ],
          "contour": [
           {
            "colorbar": {
             "outlinewidth": 0,
             "ticks": ""
            },
            "colorscale": [
             [
              0,
              "#0d0887"
             ],
             [
              0.1111111111111111,
              "#46039f"
             ],
             [
              0.2222222222222222,
              "#7201a8"
             ],
             [
              0.3333333333333333,
              "#9c179e"
             ],
             [
              0.4444444444444444,
              "#bd3786"
             ],
             [
              0.5555555555555556,
              "#d8576b"
             ],
             [
              0.6666666666666666,
              "#ed7953"
             ],
             [
              0.7777777777777778,
              "#fb9f3a"
             ],
             [
              0.8888888888888888,
              "#fdca26"
             ],
             [
              1,
              "#f0f921"
             ]
            ],
            "type": "contour"
           }
          ],
          "contourcarpet": [
           {
            "colorbar": {
             "outlinewidth": 0,
             "ticks": ""
            },
            "type": "contourcarpet"
           }
          ],
          "heatmap": [
           {
            "colorbar": {
             "outlinewidth": 0,
             "ticks": ""
            },
            "colorscale": [
             [
              0,
              "#0d0887"
             ],
             [
              0.1111111111111111,
              "#46039f"
             ],
             [
              0.2222222222222222,
              "#7201a8"
             ],
             [
              0.3333333333333333,
              "#9c179e"
             ],
             [
              0.4444444444444444,
              "#bd3786"
             ],
             [
              0.5555555555555556,
              "#d8576b"
             ],
             [
              0.6666666666666666,
              "#ed7953"
             ],
             [
              0.7777777777777778,
              "#fb9f3a"
             ],
             [
              0.8888888888888888,
              "#fdca26"
             ],
             [
              1,
              "#f0f921"
             ]
            ],
            "type": "heatmap"
           }
          ],
          "heatmapgl": [
           {
            "colorbar": {
             "outlinewidth": 0,
             "ticks": ""
            },
            "colorscale": [
             [
              0,
              "#0d0887"
             ],
             [
              0.1111111111111111,
              "#46039f"
             ],
             [
              0.2222222222222222,
              "#7201a8"
             ],
             [
              0.3333333333333333,
              "#9c179e"
             ],
             [
              0.4444444444444444,
              "#bd3786"
             ],
             [
              0.5555555555555556,
              "#d8576b"
             ],
             [
              0.6666666666666666,
              "#ed7953"
             ],
             [
              0.7777777777777778,
              "#fb9f3a"
             ],
             [
              0.8888888888888888,
              "#fdca26"
             ],
             [
              1,
              "#f0f921"
             ]
            ],
            "type": "heatmapgl"
           }
          ],
          "histogram": [
           {
            "marker": {
             "pattern": {
              "fillmode": "overlay",
              "size": 10,
              "solidity": 0.2
             }
            },
            "type": "histogram"
           }
          ],
          "histogram2d": [
           {
            "colorbar": {
             "outlinewidth": 0,
             "ticks": ""
            },
            "colorscale": [
             [
              0,
              "#0d0887"
             ],
             [
              0.1111111111111111,
              "#46039f"
             ],
             [
              0.2222222222222222,
              "#7201a8"
             ],
             [
              0.3333333333333333,
              "#9c179e"
             ],
             [
              0.4444444444444444,
              "#bd3786"
             ],
             [
              0.5555555555555556,
              "#d8576b"
             ],
             [
              0.6666666666666666,
              "#ed7953"
             ],
             [
              0.7777777777777778,
              "#fb9f3a"
             ],
             [
              0.8888888888888888,
              "#fdca26"
             ],
             [
              1,
              "#f0f921"
             ]
            ],
            "type": "histogram2d"
           }
          ],
          "histogram2dcontour": [
           {
            "colorbar": {
             "outlinewidth": 0,
             "ticks": ""
            },
            "colorscale": [
             [
              0,
              "#0d0887"
             ],
             [
              0.1111111111111111,
              "#46039f"
             ],
             [
              0.2222222222222222,
              "#7201a8"
             ],
             [
              0.3333333333333333,
              "#9c179e"
             ],
             [
              0.4444444444444444,
              "#bd3786"
             ],
             [
              0.5555555555555556,
              "#d8576b"
             ],
             [
              0.6666666666666666,
              "#ed7953"
             ],
             [
              0.7777777777777778,
              "#fb9f3a"
             ],
             [
              0.8888888888888888,
              "#fdca26"
             ],
             [
              1,
              "#f0f921"
             ]
            ],
            "type": "histogram2dcontour"
           }
          ],
          "mesh3d": [
           {
            "colorbar": {
             "outlinewidth": 0,
             "ticks": ""
            },
            "type": "mesh3d"
           }
          ],
          "parcoords": [
           {
            "line": {
             "colorbar": {
              "outlinewidth": 0,
              "ticks": ""
             }
            },
            "type": "parcoords"
           }
          ],
          "pie": [
           {
            "automargin": true,
            "type": "pie"
           }
          ],
          "scatter": [
           {
            "fillpattern": {
             "fillmode": "overlay",
             "size": 10,
             "solidity": 0.2
            },
            "type": "scatter"
           }
          ],
          "scatter3d": [
           {
            "line": {
             "colorbar": {
              "outlinewidth": 0,
              "ticks": ""
             }
            },
            "marker": {
             "colorbar": {
              "outlinewidth": 0,
              "ticks": ""
             }
            },
            "type": "scatter3d"
           }
          ],
          "scattercarpet": [
           {
            "marker": {
             "colorbar": {
              "outlinewidth": 0,
              "ticks": ""
             }
            },
            "type": "scattercarpet"
           }
          ],
          "scattergeo": [
           {
            "marker": {
             "colorbar": {
              "outlinewidth": 0,
              "ticks": ""
             }
            },
            "type": "scattergeo"
           }
          ],
          "scattergl": [
           {
            "marker": {
             "colorbar": {
              "outlinewidth": 0,
              "ticks": ""
             }
            },
            "type": "scattergl"
           }
          ],
          "scattermapbox": [
           {
            "marker": {
             "colorbar": {
              "outlinewidth": 0,
              "ticks": ""
             }
            },
            "type": "scattermapbox"
           }
          ],
          "scatterpolar": [
           {
            "marker": {
             "colorbar": {
              "outlinewidth": 0,
              "ticks": ""
             }
            },
            "type": "scatterpolar"
           }
          ],
          "scatterpolargl": [
           {
            "marker": {
             "colorbar": {
              "outlinewidth": 0,
              "ticks": ""
             }
            },
            "type": "scatterpolargl"
           }
          ],
          "scatterternary": [
           {
            "marker": {
             "colorbar": {
              "outlinewidth": 0,
              "ticks": ""
             }
            },
            "type": "scatterternary"
           }
          ],
          "surface": [
           {
            "colorbar": {
             "outlinewidth": 0,
             "ticks": ""
            },
            "colorscale": [
             [
              0,
              "#0d0887"
             ],
             [
              0.1111111111111111,
              "#46039f"
             ],
             [
              0.2222222222222222,
              "#7201a8"
             ],
             [
              0.3333333333333333,
              "#9c179e"
             ],
             [
              0.4444444444444444,
              "#bd3786"
             ],
             [
              0.5555555555555556,
              "#d8576b"
             ],
             [
              0.6666666666666666,
              "#ed7953"
             ],
             [
              0.7777777777777778,
              "#fb9f3a"
             ],
             [
              0.8888888888888888,
              "#fdca26"
             ],
             [
              1,
              "#f0f921"
             ]
            ],
            "type": "surface"
           }
          ],
          "table": [
           {
            "cells": {
             "fill": {
              "color": "#EBF0F8"
             },
             "line": {
              "color": "white"
             }
            },
            "header": {
             "fill": {
              "color": "#C8D4E3"
             },
             "line": {
              "color": "white"
             }
            },
            "type": "table"
           }
          ]
         },
         "layout": {
          "annotationdefaults": {
           "arrowcolor": "#2a3f5f",
           "arrowhead": 0,
           "arrowwidth": 1
          },
          "autotypenumbers": "strict",
          "coloraxis": {
           "colorbar": {
            "outlinewidth": 0,
            "ticks": ""
           }
          },
          "colorscale": {
           "diverging": [
            [
             0,
             "#8e0152"
            ],
            [
             0.1,
             "#c51b7d"
            ],
            [
             0.2,
             "#de77ae"
            ],
            [
             0.3,
             "#f1b6da"
            ],
            [
             0.4,
             "#fde0ef"
            ],
            [
             0.5,
             "#f7f7f7"
            ],
            [
             0.6,
             "#e6f5d0"
            ],
            [
             0.7,
             "#b8e186"
            ],
            [
             0.8,
             "#7fbc41"
            ],
            [
             0.9,
             "#4d9221"
            ],
            [
             1,
             "#276419"
            ]
           ],
           "sequential": [
            [
             0,
             "#0d0887"
            ],
            [
             0.1111111111111111,
             "#46039f"
            ],
            [
             0.2222222222222222,
             "#7201a8"
            ],
            [
             0.3333333333333333,
             "#9c179e"
            ],
            [
             0.4444444444444444,
             "#bd3786"
            ],
            [
             0.5555555555555556,
             "#d8576b"
            ],
            [
             0.6666666666666666,
             "#ed7953"
            ],
            [
             0.7777777777777778,
             "#fb9f3a"
            ],
            [
             0.8888888888888888,
             "#fdca26"
            ],
            [
             1,
             "#f0f921"
            ]
           ],
           "sequentialminus": [
            [
             0,
             "#0d0887"
            ],
            [
             0.1111111111111111,
             "#46039f"
            ],
            [
             0.2222222222222222,
             "#7201a8"
            ],
            [
             0.3333333333333333,
             "#9c179e"
            ],
            [
             0.4444444444444444,
             "#bd3786"
            ],
            [
             0.5555555555555556,
             "#d8576b"
            ],
            [
             0.6666666666666666,
             "#ed7953"
            ],
            [
             0.7777777777777778,
             "#fb9f3a"
            ],
            [
             0.8888888888888888,
             "#fdca26"
            ],
            [
             1,
             "#f0f921"
            ]
           ]
          },
          "colorway": [
           "#636efa",
           "#EF553B",
           "#00cc96",
           "#ab63fa",
           "#FFA15A",
           "#19d3f3",
           "#FF6692",
           "#B6E880",
           "#FF97FF",
           "#FECB52"
          ],
          "font": {
           "color": "#2a3f5f"
          },
          "geo": {
           "bgcolor": "white",
           "lakecolor": "white",
           "landcolor": "#E5ECF6",
           "showlakes": true,
           "showland": true,
           "subunitcolor": "white"
          },
          "hoverlabel": {
           "align": "left"
          },
          "hovermode": "closest",
          "mapbox": {
           "style": "light"
          },
          "paper_bgcolor": "white",
          "plot_bgcolor": "#E5ECF6",
          "polar": {
           "angularaxis": {
            "gridcolor": "white",
            "linecolor": "white",
            "ticks": ""
           },
           "bgcolor": "#E5ECF6",
           "radialaxis": {
            "gridcolor": "white",
            "linecolor": "white",
            "ticks": ""
           }
          },
          "scene": {
           "xaxis": {
            "backgroundcolor": "#E5ECF6",
            "gridcolor": "white",
            "gridwidth": 2,
            "linecolor": "white",
            "showbackground": true,
            "ticks": "",
            "zerolinecolor": "white"
           },
           "yaxis": {
            "backgroundcolor": "#E5ECF6",
            "gridcolor": "white",
            "gridwidth": 2,
            "linecolor": "white",
            "showbackground": true,
            "ticks": "",
            "zerolinecolor": "white"
           },
           "zaxis": {
            "backgroundcolor": "#E5ECF6",
            "gridcolor": "white",
            "gridwidth": 2,
            "linecolor": "white",
            "showbackground": true,
            "ticks": "",
            "zerolinecolor": "white"
           }
          },
          "shapedefaults": {
           "line": {
            "color": "#2a3f5f"
           }
          },
          "ternary": {
           "aaxis": {
            "gridcolor": "white",
            "linecolor": "white",
            "ticks": ""
           },
           "baxis": {
            "gridcolor": "white",
            "linecolor": "white",
            "ticks": ""
           },
           "bgcolor": "#E5ECF6",
           "caxis": {
            "gridcolor": "white",
            "linecolor": "white",
            "ticks": ""
           }
          },
          "title": {
           "x": 0.05
          },
          "xaxis": {
           "automargin": true,
           "gridcolor": "white",
           "linecolor": "white",
           "ticks": "",
           "title": {
            "standoff": 15
           },
           "zerolinecolor": "white",
           "zerolinewidth": 2
          },
          "yaxis": {
           "automargin": true,
           "gridcolor": "white",
           "linecolor": "white",
           "ticks": "",
           "title": {
            "standoff": 15
           },
           "zerolinecolor": "white",
           "zerolinewidth": 2
          }
         }
        },
        "title": {
         "font": {
          "color": "#4D5663"
         },
         "text": "IVVPESOISHRS.MX"
        },
        "xaxis": {
         "anchor": "y2",
         "gridcolor": "#E1E5ED",
         "rangeselector": {
          "bgcolor": "rgba(150, 200, 250, 1)",
          "buttons": [
           {
            "count": 1,
            "label": "1m",
            "step": "month",
            "stepmode": "backward"
           },
           {
            "count": 1,
            "label": "1y",
            "step": "year",
            "stepmode": "backward"
           }
          ],
          "font": {
           "size": 13
          },
          "visible": false,
          "x": 0,
          "y": 0.9
         },
         "rangeslider": {
          "visible": false
         },
         "showgrid": true,
         "tickfont": {
          "color": "#4D5663"
         },
         "title": {
          "font": {
           "color": "#4D5663"
          },
          "text": ""
         },
         "zerolinecolor": "#E1E5ED"
        },
        "yaxis": {
         "gridcolor": "#E1E5ED",
         "showgrid": true,
         "showticklabels": false,
         "tickfont": {
          "color": "#4D5663"
         },
         "title": {
          "font": {
           "color": "#4D5663"
          },
          "text": ""
         },
         "zerolinecolor": "#E1E5ED"
        },
        "yaxis2": {
         "domain": [
          0,
          0.9
         ],
         "gridcolor": "#E1E5ED",
         "showgrid": true,
         "tickfont": {
          "color": "#4D5663"
         },
         "title": {
          "font": {
           "color": "#4D5663"
          },
          "text": ""
         },
         "zerolinecolor": "#E1E5ED"
        }
       }
      },
      "text/html": [
       "<div>                            <div id=\"86e75c8f-fbfe-4631-bb0c-5dda558c135f\" class=\"plotly-graph-div\" style=\"height:525px; width:100%;\"></div>            <script type=\"text/javascript\">                require([\"plotly\"], function(Plotly) {                    window.PLOTLYENV=window.PLOTLYENV || {};\n",
       "                    window.PLOTLYENV.BASE_URL='https://plot.ly';                                    if (document.getElementById(\"86e75c8f-fbfe-4631-bb0c-5dda558c135f\")) {                    Plotly.newPlot(                        \"86e75c8f-fbfe-4631-bb0c-5dda558c135f\",                        [{\"line\":{\"color\":\"rgba(55, 128, 191, 1.0)\",\"dash\":\"solid\",\"shape\":\"linear\",\"width\":1.3},\"mode\":\"lines\",\"name\":\" EMA(20)\",\"text\":\"\",\"x\":[\"2023-09-01\",\"2023-09-04\",\"2023-09-05\",\"2023-09-06\",\"2023-09-07\",\"2023-09-08\",\"2023-09-11\",\"2023-09-12\",\"2023-09-13\",\"2023-09-14\",\"2023-09-15\",\"2023-09-18\",\"2023-09-19\",\"2023-09-20\",\"2023-09-21\",\"2023-09-22\",\"2023-09-25\",\"2023-09-26\",\"2023-09-27\",\"2023-09-28\",\"2023-09-29\",\"2023-10-02\",\"2023-10-03\",\"2023-10-04\",\"2023-10-05\",\"2023-10-06\",\"2023-10-09\",\"2023-10-10\",\"2023-10-11\",\"2023-10-12\",\"2023-10-13\",\"2023-10-16\",\"2023-10-17\",\"2023-10-18\",\"2023-10-19\",\"2023-10-20\",\"2023-10-23\",\"2023-10-24\",\"2023-10-25\",\"2023-10-26\",\"2023-10-27\",\"2023-10-30\",\"2023-10-31\",\"2023-11-01\",\"2023-11-03\",\"2023-11-06\",\"2023-11-07\",\"2023-11-08\"],\"y\":[\"\",\"\",\"\",\"\",\"\",\"\",\"\",\"\",\"\",\"\",\"\",\"\",\"\",\"\",\"\",\"\",\"\",\"\",\"\",\"\",80.71454070554849,80.51315573112683,80.2633313176527,80.1115853034901,79.94572029807028,79.92708026968265,79.95402491871027,80.01554620970178,80.06549427692326,80.08497069274641,80.07116419261877,80.15486255029718,80.19725644780422,80.1594227910379,80.15376333228392,80.001976115742,79.8503596915865,79.73603986628102,79.73603986628102,79.44776784862773,79.1327422811059,78.92295733101732,78.7626754769937,78.73003954289386,78.9109878962771,79.07184604654796,79.26024195180605,79.42593319449118],\"yaxis\":\"y2\",\"type\":\"scatter\"},{\"line\":{\"color\":\"rgba(55, 128, 191, 1.0)\",\"dash\":\"solid\",\"shape\":\"linear\",\"width\":1.3},\"mode\":\"lines\",\"name\":\" EMA(100)\",\"text\":\"\",\"x\":[\"2023-09-01\",\"2023-09-04\",\"2023-09-05\",\"2023-09-06\",\"2023-09-07\",\"2023-09-08\",\"2023-09-11\",\"2023-09-12\",\"2023-09-13\",\"2023-09-14\",\"2023-09-15\",\"2023-09-18\",\"2023-09-19\",\"2023-09-20\",\"2023-09-21\",\"2023-09-22\",\"2023-09-25\",\"2023-09-26\",\"2023-09-27\",\"2023-09-28\",\"2023-09-29\",\"2023-10-02\",\"2023-10-03\",\"2023-10-04\",\"2023-10-05\",\"2023-10-06\",\"2023-10-09\",\"2023-10-10\",\"2023-10-11\",\"2023-10-12\",\"2023-10-13\",\"2023-10-16\",\"2023-10-17\",\"2023-10-18\",\"2023-10-19\",\"2023-10-20\",\"2023-10-23\",\"2023-10-24\",\"2023-10-25\",\"2023-10-26\",\"2023-10-27\",\"2023-10-30\",\"2023-10-31\",\"2023-11-01\",\"2023-11-03\",\"2023-11-06\",\"2023-11-07\",\"2023-11-08\"],\"y\":[\"\",\"\",\"\",\"\",\"\",\"\",\"\",\"\",\"\",\"\",\"\",\"\",\"\",\"\",\"\",\"\",\"\",\"\",\"\",\"\",\"\",\"\",\"\",\"\",\"\",\"\",\"\",\"\",\"\",\"\",\"\",\"\",\"\",\"\",\"\",\"\",\"\",\"\",\"\",\"\",\"\",\"\",\"\",\"\",\"\",\"\",\"\",\"\"],\"yaxis\":\"y2\",\"type\":\"scatter\"},{\"close\":[82.69999694824219,82.72000122070312,82.58000183105469,81.95999908447266,81.5999984741211,81.86000061035156,82.27999877929688,82.08000183105469,81.97000122070312,82.81999969482422,null,82.12000274658203,81.62999725341797,82.0,80.0,79.80000305175781,79.5999984741211,78.6500015258789,78.6500015258789,79.1500015258789,78.88999938964844,78.5999984741211,77.88999938964844,78.66999816894531,78.37000274658203,79.75,80.20999908447266,80.5999984741211,80.54000091552734,80.2699966430664,79.94000244140625,80.94999694824219,80.5999984741211,79.80000305175781,80.0999984741211,78.55999755859375,78.41000366210938,78.6500015258789,null,76.97000122070312,76.13999938964844,76.93000030517578,77.23999786376953,78.41999816894531,80.62999725341797,80.5999984741211,81.05000305175781,81.0],\"decreasing\":{\"line\":{\"color\":\"#808080\"}},\"high\":[83.02999877929688,82.72000122070312,82.83000183105469,82.36000061035156,81.62999725341797,82.16000366210938,82.51000213623047,82.08000183105469,82.30000305175781,82.81999969482422,null,82.19999694824219,82.19000244140625,82.08000183105469,80.48999786376953,80.19000244140625,79.69999694824219,79.33000183105469,78.66999816894531,79.30000305175781,79.80000305175781,78.97000122070312,78.12999725341797,78.68000030517578,78.51000213623047,79.75,80.20999908447266,80.8499984741211,80.54000091552734,80.80999755859375,80.5199966430664,81.23999786376953,81.04000091552734,80.55000305175781,80.0999984741211,79.16999816894531,78.41000366210938,78.66000366210938,null,77.13999938964844,76.77999877929688,76.97000122070312,77.23999786376953,78.41999816894531,80.8499984741211,80.7300033569336,81.05000305175781,81.06999969482422],\"increasing\":{\"line\":{\"color\":\"#17BECF\"}},\"low\":[82.68000030517578,82.72000122070312,82.55000305175781,81.66999816894531,81.41999816894531,81.86000061035156,82.12999725341797,82.08000183105469,81.97000122070312,82.3499984741211,null,81.87999725341797,81.31999969482422,81.80000305175781,80.0,79.79000091552734,79.33000183105469,78.6500015258789,77.94000244140625,79.12999725341797,78.88999938964844,78.56999969482422,77.75,78.5199966430664,78.1500015258789,78.27999877929688,79.05000305175781,80.3499984741211,80.4000015258789,80.20999908447266,79.87000274658203,80.52999877929688,80.44999694824219,79.69000244140625,79.55000305175781,78.43000030517578,77.88999938964844,78.18000030517578,null,76.3499984741211,76.13999938964844,76.5999984741211,77.23999786376953,77.87000274658203,79.0,80.5,80.83999633789062,80.68000030517578],\"name\":\"MX ETFs\",\"open\":[83.01000213623047,82.72000122070312,82.70999908447266,82.36000061035156,81.41999816894531,82.16000366210938,82.12999725341797,82.08000183105469,82.05000305175781,82.3499984741211,null,81.87999725341797,82.19000244140625,81.94999694824219,80.48999786376953,80.0,79.33000183105469,79.33000183105469,78.66999816894531,79.20999908447266,79.61000061035156,78.88999938964844,78.0,78.63999938964844,78.5,78.27999877929688,79.05999755859375,80.3499984741211,80.4000015258789,80.7699966430664,80.5199966430664,80.52999877929688,81.04000091552734,80.55000305175781,79.8499984741211,79.16999816894531,77.88999938964844,78.41000366210938,null,76.3499984741211,76.58000183105469,76.76000213623047,77.23999786376953,78.1500015258789,79.0,80.63999938964844,81.0,81.05000305175781],\"showlegend\":true,\"x\":[\"2023-09-01\",\"2023-09-04\",\"2023-09-05\",\"2023-09-06\",\"2023-09-07\",\"2023-09-08\",\"2023-09-11\",\"2023-09-12\",\"2023-09-13\",\"2023-09-14\",\"2023-09-15\",\"2023-09-18\",\"2023-09-19\",\"2023-09-20\",\"2023-09-21\",\"2023-09-22\",\"2023-09-25\",\"2023-09-26\",\"2023-09-27\",\"2023-09-28\",\"2023-09-29\",\"2023-10-02\",\"2023-10-03\",\"2023-10-04\",\"2023-10-05\",\"2023-10-06\",\"2023-10-09\",\"2023-10-10\",\"2023-10-11\",\"2023-10-12\",\"2023-10-13\",\"2023-10-16\",\"2023-10-17\",\"2023-10-18\",\"2023-10-19\",\"2023-10-20\",\"2023-10-23\",\"2023-10-24\",\"2023-10-25\",\"2023-10-26\",\"2023-10-27\",\"2023-10-30\",\"2023-10-31\",\"2023-11-01\",\"2023-11-03\",\"2023-11-06\",\"2023-11-07\",\"2023-11-08\"],\"yaxis\":\"y2\",\"type\":\"candlestick\"}],                        {\"legend\":{\"bgcolor\":\"#F5F6F9\",\"font\":{\"color\":\"#4D5663\"}},\"margin\":{\"b\":30,\"l\":30,\"r\":30,\"t\":30},\"paper_bgcolor\":\"#F5F6F9\",\"plot_bgcolor\":\"#F5F6F9\",\"showlegend\":true,\"template\":{\"data\":{\"barpolar\":[{\"marker\":{\"line\":{\"color\":\"#E5ECF6\",\"width\":0.5},\"pattern\":{\"fillmode\":\"overlay\",\"size\":10,\"solidity\":0.2}},\"type\":\"barpolar\"}],\"bar\":[{\"error_x\":{\"color\":\"#2a3f5f\"},\"error_y\":{\"color\":\"#2a3f5f\"},\"marker\":{\"line\":{\"color\":\"#E5ECF6\",\"width\":0.5},\"pattern\":{\"fillmode\":\"overlay\",\"size\":10,\"solidity\":0.2}},\"type\":\"bar\"}],\"carpet\":[{\"aaxis\":{\"endlinecolor\":\"#2a3f5f\",\"gridcolor\":\"white\",\"linecolor\":\"white\",\"minorgridcolor\":\"white\",\"startlinecolor\":\"#2a3f5f\"},\"baxis\":{\"endlinecolor\":\"#2a3f5f\",\"gridcolor\":\"white\",\"linecolor\":\"white\",\"minorgridcolor\":\"white\",\"startlinecolor\":\"#2a3f5f\"},\"type\":\"carpet\"}],\"choropleth\":[{\"colorbar\":{\"outlinewidth\":0,\"ticks\":\"\"},\"type\":\"choropleth\"}],\"contourcarpet\":[{\"colorbar\":{\"outlinewidth\":0,\"ticks\":\"\"},\"type\":\"contourcarpet\"}],\"contour\":[{\"colorbar\":{\"outlinewidth\":0,\"ticks\":\"\"},\"colorscale\":[[0.0,\"#0d0887\"],[0.1111111111111111,\"#46039f\"],[0.2222222222222222,\"#7201a8\"],[0.3333333333333333,\"#9c179e\"],[0.4444444444444444,\"#bd3786\"],[0.5555555555555556,\"#d8576b\"],[0.6666666666666666,\"#ed7953\"],[0.7777777777777778,\"#fb9f3a\"],[0.8888888888888888,\"#fdca26\"],[1.0,\"#f0f921\"]],\"type\":\"contour\"}],\"heatmapgl\":[{\"colorbar\":{\"outlinewidth\":0,\"ticks\":\"\"},\"colorscale\":[[0.0,\"#0d0887\"],[0.1111111111111111,\"#46039f\"],[0.2222222222222222,\"#7201a8\"],[0.3333333333333333,\"#9c179e\"],[0.4444444444444444,\"#bd3786\"],[0.5555555555555556,\"#d8576b\"],[0.6666666666666666,\"#ed7953\"],[0.7777777777777778,\"#fb9f3a\"],[0.8888888888888888,\"#fdca26\"],[1.0,\"#f0f921\"]],\"type\":\"heatmapgl\"}],\"heatmap\":[{\"colorbar\":{\"outlinewidth\":0,\"ticks\":\"\"},\"colorscale\":[[0.0,\"#0d0887\"],[0.1111111111111111,\"#46039f\"],[0.2222222222222222,\"#7201a8\"],[0.3333333333333333,\"#9c179e\"],[0.4444444444444444,\"#bd3786\"],[0.5555555555555556,\"#d8576b\"],[0.6666666666666666,\"#ed7953\"],[0.7777777777777778,\"#fb9f3a\"],[0.8888888888888888,\"#fdca26\"],[1.0,\"#f0f921\"]],\"type\":\"heatmap\"}],\"histogram2dcontour\":[{\"colorbar\":{\"outlinewidth\":0,\"ticks\":\"\"},\"colorscale\":[[0.0,\"#0d0887\"],[0.1111111111111111,\"#46039f\"],[0.2222222222222222,\"#7201a8\"],[0.3333333333333333,\"#9c179e\"],[0.4444444444444444,\"#bd3786\"],[0.5555555555555556,\"#d8576b\"],[0.6666666666666666,\"#ed7953\"],[0.7777777777777778,\"#fb9f3a\"],[0.8888888888888888,\"#fdca26\"],[1.0,\"#f0f921\"]],\"type\":\"histogram2dcontour\"}],\"histogram2d\":[{\"colorbar\":{\"outlinewidth\":0,\"ticks\":\"\"},\"colorscale\":[[0.0,\"#0d0887\"],[0.1111111111111111,\"#46039f\"],[0.2222222222222222,\"#7201a8\"],[0.3333333333333333,\"#9c179e\"],[0.4444444444444444,\"#bd3786\"],[0.5555555555555556,\"#d8576b\"],[0.6666666666666666,\"#ed7953\"],[0.7777777777777778,\"#fb9f3a\"],[0.8888888888888888,\"#fdca26\"],[1.0,\"#f0f921\"]],\"type\":\"histogram2d\"}],\"histogram\":[{\"marker\":{\"pattern\":{\"fillmode\":\"overlay\",\"size\":10,\"solidity\":0.2}},\"type\":\"histogram\"}],\"mesh3d\":[{\"colorbar\":{\"outlinewidth\":0,\"ticks\":\"\"},\"type\":\"mesh3d\"}],\"parcoords\":[{\"line\":{\"colorbar\":{\"outlinewidth\":0,\"ticks\":\"\"}},\"type\":\"parcoords\"}],\"pie\":[{\"automargin\":true,\"type\":\"pie\"}],\"scatter3d\":[{\"line\":{\"colorbar\":{\"outlinewidth\":0,\"ticks\":\"\"}},\"marker\":{\"colorbar\":{\"outlinewidth\":0,\"ticks\":\"\"}},\"type\":\"scatter3d\"}],\"scattercarpet\":[{\"marker\":{\"colorbar\":{\"outlinewidth\":0,\"ticks\":\"\"}},\"type\":\"scattercarpet\"}],\"scattergeo\":[{\"marker\":{\"colorbar\":{\"outlinewidth\":0,\"ticks\":\"\"}},\"type\":\"scattergeo\"}],\"scattergl\":[{\"marker\":{\"colorbar\":{\"outlinewidth\":0,\"ticks\":\"\"}},\"type\":\"scattergl\"}],\"scattermapbox\":[{\"marker\":{\"colorbar\":{\"outlinewidth\":0,\"ticks\":\"\"}},\"type\":\"scattermapbox\"}],\"scatterpolargl\":[{\"marker\":{\"colorbar\":{\"outlinewidth\":0,\"ticks\":\"\"}},\"type\":\"scatterpolargl\"}],\"scatterpolar\":[{\"marker\":{\"colorbar\":{\"outlinewidth\":0,\"ticks\":\"\"}},\"type\":\"scatterpolar\"}],\"scatter\":[{\"fillpattern\":{\"fillmode\":\"overlay\",\"size\":10,\"solidity\":0.2},\"type\":\"scatter\"}],\"scatterternary\":[{\"marker\":{\"colorbar\":{\"outlinewidth\":0,\"ticks\":\"\"}},\"type\":\"scatterternary\"}],\"surface\":[{\"colorbar\":{\"outlinewidth\":0,\"ticks\":\"\"},\"colorscale\":[[0.0,\"#0d0887\"],[0.1111111111111111,\"#46039f\"],[0.2222222222222222,\"#7201a8\"],[0.3333333333333333,\"#9c179e\"],[0.4444444444444444,\"#bd3786\"],[0.5555555555555556,\"#d8576b\"],[0.6666666666666666,\"#ed7953\"],[0.7777777777777778,\"#fb9f3a\"],[0.8888888888888888,\"#fdca26\"],[1.0,\"#f0f921\"]],\"type\":\"surface\"}],\"table\":[{\"cells\":{\"fill\":{\"color\":\"#EBF0F8\"},\"line\":{\"color\":\"white\"}},\"header\":{\"fill\":{\"color\":\"#C8D4E3\"},\"line\":{\"color\":\"white\"}},\"type\":\"table\"}]},\"layout\":{\"annotationdefaults\":{\"arrowcolor\":\"#2a3f5f\",\"arrowhead\":0,\"arrowwidth\":1},\"autotypenumbers\":\"strict\",\"coloraxis\":{\"colorbar\":{\"outlinewidth\":0,\"ticks\":\"\"}},\"colorscale\":{\"diverging\":[[0,\"#8e0152\"],[0.1,\"#c51b7d\"],[0.2,\"#de77ae\"],[0.3,\"#f1b6da\"],[0.4,\"#fde0ef\"],[0.5,\"#f7f7f7\"],[0.6,\"#e6f5d0\"],[0.7,\"#b8e186\"],[0.8,\"#7fbc41\"],[0.9,\"#4d9221\"],[1,\"#276419\"]],\"sequential\":[[0.0,\"#0d0887\"],[0.1111111111111111,\"#46039f\"],[0.2222222222222222,\"#7201a8\"],[0.3333333333333333,\"#9c179e\"],[0.4444444444444444,\"#bd3786\"],[0.5555555555555556,\"#d8576b\"],[0.6666666666666666,\"#ed7953\"],[0.7777777777777778,\"#fb9f3a\"],[0.8888888888888888,\"#fdca26\"],[1.0,\"#f0f921\"]],\"sequentialminus\":[[0.0,\"#0d0887\"],[0.1111111111111111,\"#46039f\"],[0.2222222222222222,\"#7201a8\"],[0.3333333333333333,\"#9c179e\"],[0.4444444444444444,\"#bd3786\"],[0.5555555555555556,\"#d8576b\"],[0.6666666666666666,\"#ed7953\"],[0.7777777777777778,\"#fb9f3a\"],[0.8888888888888888,\"#fdca26\"],[1.0,\"#f0f921\"]]},\"colorway\":[\"#636efa\",\"#EF553B\",\"#00cc96\",\"#ab63fa\",\"#FFA15A\",\"#19d3f3\",\"#FF6692\",\"#B6E880\",\"#FF97FF\",\"#FECB52\"],\"font\":{\"color\":\"#2a3f5f\"},\"geo\":{\"bgcolor\":\"white\",\"lakecolor\":\"white\",\"landcolor\":\"#E5ECF6\",\"showlakes\":true,\"showland\":true,\"subunitcolor\":\"white\"},\"hoverlabel\":{\"align\":\"left\"},\"hovermode\":\"closest\",\"mapbox\":{\"style\":\"light\"},\"paper_bgcolor\":\"white\",\"plot_bgcolor\":\"#E5ECF6\",\"polar\":{\"angularaxis\":{\"gridcolor\":\"white\",\"linecolor\":\"white\",\"ticks\":\"\"},\"bgcolor\":\"#E5ECF6\",\"radialaxis\":{\"gridcolor\":\"white\",\"linecolor\":\"white\",\"ticks\":\"\"}},\"scene\":{\"xaxis\":{\"backgroundcolor\":\"#E5ECF6\",\"gridcolor\":\"white\",\"gridwidth\":2,\"linecolor\":\"white\",\"showbackground\":true,\"ticks\":\"\",\"zerolinecolor\":\"white\"},\"yaxis\":{\"backgroundcolor\":\"#E5ECF6\",\"gridcolor\":\"white\",\"gridwidth\":2,\"linecolor\":\"white\",\"showbackground\":true,\"ticks\":\"\",\"zerolinecolor\":\"white\"},\"zaxis\":{\"backgroundcolor\":\"#E5ECF6\",\"gridcolor\":\"white\",\"gridwidth\":2,\"linecolor\":\"white\",\"showbackground\":true,\"ticks\":\"\",\"zerolinecolor\":\"white\"}},\"shapedefaults\":{\"line\":{\"color\":\"#2a3f5f\"}},\"ternary\":{\"aaxis\":{\"gridcolor\":\"white\",\"linecolor\":\"white\",\"ticks\":\"\"},\"baxis\":{\"gridcolor\":\"white\",\"linecolor\":\"white\",\"ticks\":\"\"},\"bgcolor\":\"#E5ECF6\",\"caxis\":{\"gridcolor\":\"white\",\"linecolor\":\"white\",\"ticks\":\"\"}},\"title\":{\"x\":0.05},\"xaxis\":{\"automargin\":true,\"gridcolor\":\"white\",\"linecolor\":\"white\",\"ticks\":\"\",\"title\":{\"standoff\":15},\"zerolinecolor\":\"white\",\"zerolinewidth\":2},\"yaxis\":{\"automargin\":true,\"gridcolor\":\"white\",\"linecolor\":\"white\",\"ticks\":\"\",\"title\":{\"standoff\":15},\"zerolinecolor\":\"white\",\"zerolinewidth\":2}}},\"title\":{\"font\":{\"color\":\"#4D5663\"},\"text\":\"IVVPESOISHRS.MX\"},\"xaxis\":{\"anchor\":\"y2\",\"gridcolor\":\"#E1E5ED\",\"rangeselector\":{\"bgcolor\":\"rgba(150, 200, 250, 1)\",\"buttons\":[{\"count\":1,\"label\":\"1m\",\"step\":\"month\",\"stepmode\":\"backward\"},{\"count\":1,\"label\":\"1y\",\"step\":\"year\",\"stepmode\":\"backward\"}],\"font\":{\"size\":13},\"visible\":false,\"x\":0,\"y\":0.9},\"rangeslider\":{\"visible\":false},\"showgrid\":true,\"tickfont\":{\"color\":\"#4D5663\"},\"title\":{\"font\":{\"color\":\"#4D5663\"},\"text\":\"\"},\"zerolinecolor\":\"#E1E5ED\"},\"yaxis\":{\"gridcolor\":\"#E1E5ED\",\"showgrid\":true,\"showticklabels\":false,\"tickfont\":{\"color\":\"#4D5663\"},\"title\":{\"font\":{\"color\":\"#4D5663\"},\"text\":\"\"},\"zerolinecolor\":\"#E1E5ED\"},\"yaxis2\":{\"domain\":[0.0,0.9],\"gridcolor\":\"#E1E5ED\",\"showgrid\":true,\"tickfont\":{\"color\":\"#4D5663\"},\"title\":{\"font\":{\"color\":\"#4D5663\"},\"text\":\"\"},\"zerolinecolor\":\"#E1E5ED\"}},                        {\"showLink\": true, \"linkText\": \"Export to plot.ly\", \"plotlyServerURL\": \"https://plot.ly\", \"responsive\": true}                    ).then(function(){\n",
       "                            \n",
       "var gd = document.getElementById('86e75c8f-fbfe-4631-bb0c-5dda558c135f');\n",
       "var x = new MutationObserver(function (mutations, observer) {{\n",
       "        var display = window.getComputedStyle(gd).display;\n",
       "        if (!display || display === 'none') {{\n",
       "            console.log([gd, 'removed!']);\n",
       "            Plotly.purge(gd);\n",
       "            observer.disconnect();\n",
       "        }}\n",
       "}});\n",
       "\n",
       "// Listen for the removal of the full notebook cells\n",
       "var notebookContainer = gd.closest('#notebook-container');\n",
       "if (notebookContainer) {{\n",
       "    x.observe(notebookContainer, {childList: true});\n",
       "}}\n",
       "\n",
       "// Listen for the clearing of the current output cell\n",
       "var outputEl = gd.closest('.output');\n",
       "if (outputEl) {{\n",
       "    x.observe(outputEl, {childList: true});\n",
       "}}\n",
       "\n",
       "                        })                };                });            </script>        </div>"
      ]
     },
     "metadata": {},
     "output_type": "display_data"
    }
   ],
   "source": [
    "qf = cf.QuantFig(df = ivvpesoishrs.loc[\"09-2023\":])\n",
    "qf.add_ema(periods=20)\n",
    "qf.add_ema(periods=100)\n",
    "qf.iplot(title= \"IVVPESOISHRS.MX\", name = \"MX ETFs\")"
   ]
  },
  {
   "cell_type": "code",
   "execution_count": 36,
   "metadata": {},
   "outputs": [
    {
     "data": {
      "application/vnd.plotly.v1+json": {
       "config": {
        "linkText": "Export to plot.ly",
        "plotlyServerURL": "https://plot.ly",
        "showLink": true
       },
       "data": [
        {
         "line": {
          "color": "rgba(55, 128, 191, 1.0)",
          "dash": "solid",
          "shape": "linear",
          "width": 1.3
         },
         "mode": "lines",
         "name": " EMA(50)",
         "text": "",
         "type": "scatter",
         "x": [
          "2023-09-01",
          "2023-09-04",
          "2023-09-05",
          "2023-09-06",
          "2023-09-07",
          "2023-09-08",
          "2023-09-11",
          "2023-09-12",
          "2023-09-13",
          "2023-09-14",
          "2023-09-15",
          "2023-09-18",
          "2023-09-19",
          "2023-09-20",
          "2023-09-21",
          "2023-09-22",
          "2023-09-25",
          "2023-09-26",
          "2023-09-27",
          "2023-09-28",
          "2023-09-29",
          "2023-10-02",
          "2023-10-03",
          "2023-10-04",
          "2023-10-05",
          "2023-10-06",
          "2023-10-09",
          "2023-10-10",
          "2023-10-11",
          "2023-10-12",
          "2023-10-13",
          "2023-10-16",
          "2023-10-17",
          "2023-10-18",
          "2023-10-19",
          "2023-10-20",
          "2023-10-23",
          "2023-10-24",
          "2023-10-25",
          "2023-10-26",
          "2023-10-27",
          "2023-10-30",
          "2023-10-31",
          "2023-11-01",
          "2023-11-03",
          "2023-11-06",
          "2023-11-07",
          "2023-11-08"
         ],
         "y": [
          "",
          "",
          "",
          "",
          "",
          "",
          "",
          "",
          "",
          "",
          "",
          "",
          "",
          "",
          "",
          "",
          "",
          "",
          "",
          "",
          "",
          "",
          "",
          "",
          "",
          "",
          "",
          "",
          "",
          "",
          "",
          "",
          "",
          "",
          "",
          "",
          "",
          "",
          "",
          "",
          "",
          "",
          "",
          "",
          "",
          "",
          "",
          ""
         ],
         "yaxis": "y2"
        },
        {
         "line": {
          "color": "rgba(55, 128, 191, 1.0)",
          "dash": "solid",
          "shape": "linear",
          "width": 1.3
         },
         "mode": "lines",
         "name": " SMA(50)",
         "text": "",
         "type": "scatter",
         "x": [
          "2023-09-01",
          "2023-09-04",
          "2023-09-05",
          "2023-09-06",
          "2023-09-07",
          "2023-09-08",
          "2023-09-11",
          "2023-09-12",
          "2023-09-13",
          "2023-09-14",
          "2023-09-15",
          "2023-09-18",
          "2023-09-19",
          "2023-09-20",
          "2023-09-21",
          "2023-09-22",
          "2023-09-25",
          "2023-09-26",
          "2023-09-27",
          "2023-09-28",
          "2023-09-29",
          "2023-10-02",
          "2023-10-03",
          "2023-10-04",
          "2023-10-05",
          "2023-10-06",
          "2023-10-09",
          "2023-10-10",
          "2023-10-11",
          "2023-10-12",
          "2023-10-13",
          "2023-10-16",
          "2023-10-17",
          "2023-10-18",
          "2023-10-19",
          "2023-10-20",
          "2023-10-23",
          "2023-10-24",
          "2023-10-25",
          "2023-10-26",
          "2023-10-27",
          "2023-10-30",
          "2023-10-31",
          "2023-11-01",
          "2023-11-03",
          "2023-11-06",
          "2023-11-07",
          "2023-11-08"
         ],
         "y": [
          "",
          "",
          "",
          "",
          "",
          "",
          "",
          "",
          "",
          "",
          "",
          "",
          "",
          "",
          "",
          "",
          "",
          "",
          "",
          "",
          "",
          "",
          "",
          "",
          "",
          "",
          "",
          "",
          "",
          "",
          "",
          "",
          "",
          "",
          "",
          "",
          "",
          "",
          "",
          "",
          "",
          "",
          "",
          "",
          "",
          "",
          "",
          ""
         ],
         "yaxis": "y2"
        },
        {
         "close": [
          82.69999694824219,
          82.72000122070312,
          82.58000183105469,
          81.95999908447266,
          81.5999984741211,
          81.86000061035156,
          82.27999877929688,
          82.08000183105469,
          81.97000122070312,
          82.81999969482422,
          null,
          82.12000274658203,
          81.62999725341797,
          82,
          80,
          79.80000305175781,
          79.5999984741211,
          78.6500015258789,
          78.6500015258789,
          79.1500015258789,
          78.88999938964844,
          78.5999984741211,
          77.88999938964844,
          78.66999816894531,
          78.37000274658203,
          79.75,
          80.20999908447266,
          80.5999984741211,
          80.54000091552734,
          80.2699966430664,
          79.94000244140625,
          80.94999694824219,
          80.5999984741211,
          79.80000305175781,
          80.0999984741211,
          78.55999755859375,
          78.41000366210938,
          78.6500015258789,
          null,
          76.97000122070312,
          76.13999938964844,
          76.93000030517578,
          77.23999786376953,
          78.41999816894531,
          80.62999725341797,
          80.5999984741211,
          81.05000305175781,
          81
         ],
         "decreasing": {
          "line": {
           "color": "#808080"
          }
         },
         "high": [
          83.02999877929688,
          82.72000122070312,
          82.83000183105469,
          82.36000061035156,
          81.62999725341797,
          82.16000366210938,
          82.51000213623047,
          82.08000183105469,
          82.30000305175781,
          82.81999969482422,
          null,
          82.19999694824219,
          82.19000244140625,
          82.08000183105469,
          80.48999786376953,
          80.19000244140625,
          79.69999694824219,
          79.33000183105469,
          78.66999816894531,
          79.30000305175781,
          79.80000305175781,
          78.97000122070312,
          78.12999725341797,
          78.68000030517578,
          78.51000213623047,
          79.75,
          80.20999908447266,
          80.8499984741211,
          80.54000091552734,
          80.80999755859375,
          80.5199966430664,
          81.23999786376953,
          81.04000091552734,
          80.55000305175781,
          80.0999984741211,
          79.16999816894531,
          78.41000366210938,
          78.66000366210938,
          null,
          77.13999938964844,
          76.77999877929688,
          76.97000122070312,
          77.23999786376953,
          78.41999816894531,
          80.8499984741211,
          80.7300033569336,
          81.05000305175781,
          81.06999969482422
         ],
         "increasing": {
          "line": {
           "color": "#17BECF"
          }
         },
         "low": [
          82.68000030517578,
          82.72000122070312,
          82.55000305175781,
          81.66999816894531,
          81.41999816894531,
          81.86000061035156,
          82.12999725341797,
          82.08000183105469,
          81.97000122070312,
          82.3499984741211,
          null,
          81.87999725341797,
          81.31999969482422,
          81.80000305175781,
          80,
          79.79000091552734,
          79.33000183105469,
          78.6500015258789,
          77.94000244140625,
          79.12999725341797,
          78.88999938964844,
          78.56999969482422,
          77.75,
          78.5199966430664,
          78.1500015258789,
          78.27999877929688,
          79.05000305175781,
          80.3499984741211,
          80.4000015258789,
          80.20999908447266,
          79.87000274658203,
          80.52999877929688,
          80.44999694824219,
          79.69000244140625,
          79.55000305175781,
          78.43000030517578,
          77.88999938964844,
          78.18000030517578,
          null,
          76.3499984741211,
          76.13999938964844,
          76.5999984741211,
          77.23999786376953,
          77.87000274658203,
          79,
          80.5,
          80.83999633789062,
          80.68000030517578
         ],
         "name": "MX ETFs",
         "open": [
          83.01000213623047,
          82.72000122070312,
          82.70999908447266,
          82.36000061035156,
          81.41999816894531,
          82.16000366210938,
          82.12999725341797,
          82.08000183105469,
          82.05000305175781,
          82.3499984741211,
          null,
          81.87999725341797,
          82.19000244140625,
          81.94999694824219,
          80.48999786376953,
          80,
          79.33000183105469,
          79.33000183105469,
          78.66999816894531,
          79.20999908447266,
          79.61000061035156,
          78.88999938964844,
          78,
          78.63999938964844,
          78.5,
          78.27999877929688,
          79.05999755859375,
          80.3499984741211,
          80.4000015258789,
          80.7699966430664,
          80.5199966430664,
          80.52999877929688,
          81.04000091552734,
          80.55000305175781,
          79.8499984741211,
          79.16999816894531,
          77.88999938964844,
          78.41000366210938,
          null,
          76.3499984741211,
          76.58000183105469,
          76.76000213623047,
          77.23999786376953,
          78.1500015258789,
          79,
          80.63999938964844,
          81,
          81.05000305175781
         ],
         "showlegend": true,
         "type": "candlestick",
         "x": [
          "2023-09-01",
          "2023-09-04",
          "2023-09-05",
          "2023-09-06",
          "2023-09-07",
          "2023-09-08",
          "2023-09-11",
          "2023-09-12",
          "2023-09-13",
          "2023-09-14",
          "2023-09-15",
          "2023-09-18",
          "2023-09-19",
          "2023-09-20",
          "2023-09-21",
          "2023-09-22",
          "2023-09-25",
          "2023-09-26",
          "2023-09-27",
          "2023-09-28",
          "2023-09-29",
          "2023-10-02",
          "2023-10-03",
          "2023-10-04",
          "2023-10-05",
          "2023-10-06",
          "2023-10-09",
          "2023-10-10",
          "2023-10-11",
          "2023-10-12",
          "2023-10-13",
          "2023-10-16",
          "2023-10-17",
          "2023-10-18",
          "2023-10-19",
          "2023-10-20",
          "2023-10-23",
          "2023-10-24",
          "2023-10-25",
          "2023-10-26",
          "2023-10-27",
          "2023-10-30",
          "2023-10-31",
          "2023-11-01",
          "2023-11-03",
          "2023-11-06",
          "2023-11-07",
          "2023-11-08"
         ],
         "yaxis": "y2"
        }
       ],
       "layout": {
        "legend": {
         "bgcolor": "#F5F6F9",
         "font": {
          "color": "#4D5663"
         }
        },
        "margin": {
         "b": 30,
         "l": 30,
         "r": 30,
         "t": 30
        },
        "paper_bgcolor": "#F5F6F9",
        "plot_bgcolor": "#F5F6F9",
        "showlegend": true,
        "template": {
         "data": {
          "bar": [
           {
            "error_x": {
             "color": "#2a3f5f"
            },
            "error_y": {
             "color": "#2a3f5f"
            },
            "marker": {
             "line": {
              "color": "#E5ECF6",
              "width": 0.5
             },
             "pattern": {
              "fillmode": "overlay",
              "size": 10,
              "solidity": 0.2
             }
            },
            "type": "bar"
           }
          ],
          "barpolar": [
           {
            "marker": {
             "line": {
              "color": "#E5ECF6",
              "width": 0.5
             },
             "pattern": {
              "fillmode": "overlay",
              "size": 10,
              "solidity": 0.2
             }
            },
            "type": "barpolar"
           }
          ],
          "carpet": [
           {
            "aaxis": {
             "endlinecolor": "#2a3f5f",
             "gridcolor": "white",
             "linecolor": "white",
             "minorgridcolor": "white",
             "startlinecolor": "#2a3f5f"
            },
            "baxis": {
             "endlinecolor": "#2a3f5f",
             "gridcolor": "white",
             "linecolor": "white",
             "minorgridcolor": "white",
             "startlinecolor": "#2a3f5f"
            },
            "type": "carpet"
           }
          ],
          "choropleth": [
           {
            "colorbar": {
             "outlinewidth": 0,
             "ticks": ""
            },
            "type": "choropleth"
           }
          ],
          "contour": [
           {
            "colorbar": {
             "outlinewidth": 0,
             "ticks": ""
            },
            "colorscale": [
             [
              0,
              "#0d0887"
             ],
             [
              0.1111111111111111,
              "#46039f"
             ],
             [
              0.2222222222222222,
              "#7201a8"
             ],
             [
              0.3333333333333333,
              "#9c179e"
             ],
             [
              0.4444444444444444,
              "#bd3786"
             ],
             [
              0.5555555555555556,
              "#d8576b"
             ],
             [
              0.6666666666666666,
              "#ed7953"
             ],
             [
              0.7777777777777778,
              "#fb9f3a"
             ],
             [
              0.8888888888888888,
              "#fdca26"
             ],
             [
              1,
              "#f0f921"
             ]
            ],
            "type": "contour"
           }
          ],
          "contourcarpet": [
           {
            "colorbar": {
             "outlinewidth": 0,
             "ticks": ""
            },
            "type": "contourcarpet"
           }
          ],
          "heatmap": [
           {
            "colorbar": {
             "outlinewidth": 0,
             "ticks": ""
            },
            "colorscale": [
             [
              0,
              "#0d0887"
             ],
             [
              0.1111111111111111,
              "#46039f"
             ],
             [
              0.2222222222222222,
              "#7201a8"
             ],
             [
              0.3333333333333333,
              "#9c179e"
             ],
             [
              0.4444444444444444,
              "#bd3786"
             ],
             [
              0.5555555555555556,
              "#d8576b"
             ],
             [
              0.6666666666666666,
              "#ed7953"
             ],
             [
              0.7777777777777778,
              "#fb9f3a"
             ],
             [
              0.8888888888888888,
              "#fdca26"
             ],
             [
              1,
              "#f0f921"
             ]
            ],
            "type": "heatmap"
           }
          ],
          "heatmapgl": [
           {
            "colorbar": {
             "outlinewidth": 0,
             "ticks": ""
            },
            "colorscale": [
             [
              0,
              "#0d0887"
             ],
             [
              0.1111111111111111,
              "#46039f"
             ],
             [
              0.2222222222222222,
              "#7201a8"
             ],
             [
              0.3333333333333333,
              "#9c179e"
             ],
             [
              0.4444444444444444,
              "#bd3786"
             ],
             [
              0.5555555555555556,
              "#d8576b"
             ],
             [
              0.6666666666666666,
              "#ed7953"
             ],
             [
              0.7777777777777778,
              "#fb9f3a"
             ],
             [
              0.8888888888888888,
              "#fdca26"
             ],
             [
              1,
              "#f0f921"
             ]
            ],
            "type": "heatmapgl"
           }
          ],
          "histogram": [
           {
            "marker": {
             "pattern": {
              "fillmode": "overlay",
              "size": 10,
              "solidity": 0.2
             }
            },
            "type": "histogram"
           }
          ],
          "histogram2d": [
           {
            "colorbar": {
             "outlinewidth": 0,
             "ticks": ""
            },
            "colorscale": [
             [
              0,
              "#0d0887"
             ],
             [
              0.1111111111111111,
              "#46039f"
             ],
             [
              0.2222222222222222,
              "#7201a8"
             ],
             [
              0.3333333333333333,
              "#9c179e"
             ],
             [
              0.4444444444444444,
              "#bd3786"
             ],
             [
              0.5555555555555556,
              "#d8576b"
             ],
             [
              0.6666666666666666,
              "#ed7953"
             ],
             [
              0.7777777777777778,
              "#fb9f3a"
             ],
             [
              0.8888888888888888,
              "#fdca26"
             ],
             [
              1,
              "#f0f921"
             ]
            ],
            "type": "histogram2d"
           }
          ],
          "histogram2dcontour": [
           {
            "colorbar": {
             "outlinewidth": 0,
             "ticks": ""
            },
            "colorscale": [
             [
              0,
              "#0d0887"
             ],
             [
              0.1111111111111111,
              "#46039f"
             ],
             [
              0.2222222222222222,
              "#7201a8"
             ],
             [
              0.3333333333333333,
              "#9c179e"
             ],
             [
              0.4444444444444444,
              "#bd3786"
             ],
             [
              0.5555555555555556,
              "#d8576b"
             ],
             [
              0.6666666666666666,
              "#ed7953"
             ],
             [
              0.7777777777777778,
              "#fb9f3a"
             ],
             [
              0.8888888888888888,
              "#fdca26"
             ],
             [
              1,
              "#f0f921"
             ]
            ],
            "type": "histogram2dcontour"
           }
          ],
          "mesh3d": [
           {
            "colorbar": {
             "outlinewidth": 0,
             "ticks": ""
            },
            "type": "mesh3d"
           }
          ],
          "parcoords": [
           {
            "line": {
             "colorbar": {
              "outlinewidth": 0,
              "ticks": ""
             }
            },
            "type": "parcoords"
           }
          ],
          "pie": [
           {
            "automargin": true,
            "type": "pie"
           }
          ],
          "scatter": [
           {
            "fillpattern": {
             "fillmode": "overlay",
             "size": 10,
             "solidity": 0.2
            },
            "type": "scatter"
           }
          ],
          "scatter3d": [
           {
            "line": {
             "colorbar": {
              "outlinewidth": 0,
              "ticks": ""
             }
            },
            "marker": {
             "colorbar": {
              "outlinewidth": 0,
              "ticks": ""
             }
            },
            "type": "scatter3d"
           }
          ],
          "scattercarpet": [
           {
            "marker": {
             "colorbar": {
              "outlinewidth": 0,
              "ticks": ""
             }
            },
            "type": "scattercarpet"
           }
          ],
          "scattergeo": [
           {
            "marker": {
             "colorbar": {
              "outlinewidth": 0,
              "ticks": ""
             }
            },
            "type": "scattergeo"
           }
          ],
          "scattergl": [
           {
            "marker": {
             "colorbar": {
              "outlinewidth": 0,
              "ticks": ""
             }
            },
            "type": "scattergl"
           }
          ],
          "scattermapbox": [
           {
            "marker": {
             "colorbar": {
              "outlinewidth": 0,
              "ticks": ""
             }
            },
            "type": "scattermapbox"
           }
          ],
          "scatterpolar": [
           {
            "marker": {
             "colorbar": {
              "outlinewidth": 0,
              "ticks": ""
             }
            },
            "type": "scatterpolar"
           }
          ],
          "scatterpolargl": [
           {
            "marker": {
             "colorbar": {
              "outlinewidth": 0,
              "ticks": ""
             }
            },
            "type": "scatterpolargl"
           }
          ],
          "scatterternary": [
           {
            "marker": {
             "colorbar": {
              "outlinewidth": 0,
              "ticks": ""
             }
            },
            "type": "scatterternary"
           }
          ],
          "surface": [
           {
            "colorbar": {
             "outlinewidth": 0,
             "ticks": ""
            },
            "colorscale": [
             [
              0,
              "#0d0887"
             ],
             [
              0.1111111111111111,
              "#46039f"
             ],
             [
              0.2222222222222222,
              "#7201a8"
             ],
             [
              0.3333333333333333,
              "#9c179e"
             ],
             [
              0.4444444444444444,
              "#bd3786"
             ],
             [
              0.5555555555555556,
              "#d8576b"
             ],
             [
              0.6666666666666666,
              "#ed7953"
             ],
             [
              0.7777777777777778,
              "#fb9f3a"
             ],
             [
              0.8888888888888888,
              "#fdca26"
             ],
             [
              1,
              "#f0f921"
             ]
            ],
            "type": "surface"
           }
          ],
          "table": [
           {
            "cells": {
             "fill": {
              "color": "#EBF0F8"
             },
             "line": {
              "color": "white"
             }
            },
            "header": {
             "fill": {
              "color": "#C8D4E3"
             },
             "line": {
              "color": "white"
             }
            },
            "type": "table"
           }
          ]
         },
         "layout": {
          "annotationdefaults": {
           "arrowcolor": "#2a3f5f",
           "arrowhead": 0,
           "arrowwidth": 1
          },
          "autotypenumbers": "strict",
          "coloraxis": {
           "colorbar": {
            "outlinewidth": 0,
            "ticks": ""
           }
          },
          "colorscale": {
           "diverging": [
            [
             0,
             "#8e0152"
            ],
            [
             0.1,
             "#c51b7d"
            ],
            [
             0.2,
             "#de77ae"
            ],
            [
             0.3,
             "#f1b6da"
            ],
            [
             0.4,
             "#fde0ef"
            ],
            [
             0.5,
             "#f7f7f7"
            ],
            [
             0.6,
             "#e6f5d0"
            ],
            [
             0.7,
             "#b8e186"
            ],
            [
             0.8,
             "#7fbc41"
            ],
            [
             0.9,
             "#4d9221"
            ],
            [
             1,
             "#276419"
            ]
           ],
           "sequential": [
            [
             0,
             "#0d0887"
            ],
            [
             0.1111111111111111,
             "#46039f"
            ],
            [
             0.2222222222222222,
             "#7201a8"
            ],
            [
             0.3333333333333333,
             "#9c179e"
            ],
            [
             0.4444444444444444,
             "#bd3786"
            ],
            [
             0.5555555555555556,
             "#d8576b"
            ],
            [
             0.6666666666666666,
             "#ed7953"
            ],
            [
             0.7777777777777778,
             "#fb9f3a"
            ],
            [
             0.8888888888888888,
             "#fdca26"
            ],
            [
             1,
             "#f0f921"
            ]
           ],
           "sequentialminus": [
            [
             0,
             "#0d0887"
            ],
            [
             0.1111111111111111,
             "#46039f"
            ],
            [
             0.2222222222222222,
             "#7201a8"
            ],
            [
             0.3333333333333333,
             "#9c179e"
            ],
            [
             0.4444444444444444,
             "#bd3786"
            ],
            [
             0.5555555555555556,
             "#d8576b"
            ],
            [
             0.6666666666666666,
             "#ed7953"
            ],
            [
             0.7777777777777778,
             "#fb9f3a"
            ],
            [
             0.8888888888888888,
             "#fdca26"
            ],
            [
             1,
             "#f0f921"
            ]
           ]
          },
          "colorway": [
           "#636efa",
           "#EF553B",
           "#00cc96",
           "#ab63fa",
           "#FFA15A",
           "#19d3f3",
           "#FF6692",
           "#B6E880",
           "#FF97FF",
           "#FECB52"
          ],
          "font": {
           "color": "#2a3f5f"
          },
          "geo": {
           "bgcolor": "white",
           "lakecolor": "white",
           "landcolor": "#E5ECF6",
           "showlakes": true,
           "showland": true,
           "subunitcolor": "white"
          },
          "hoverlabel": {
           "align": "left"
          },
          "hovermode": "closest",
          "mapbox": {
           "style": "light"
          },
          "paper_bgcolor": "white",
          "plot_bgcolor": "#E5ECF6",
          "polar": {
           "angularaxis": {
            "gridcolor": "white",
            "linecolor": "white",
            "ticks": ""
           },
           "bgcolor": "#E5ECF6",
           "radialaxis": {
            "gridcolor": "white",
            "linecolor": "white",
            "ticks": ""
           }
          },
          "scene": {
           "xaxis": {
            "backgroundcolor": "#E5ECF6",
            "gridcolor": "white",
            "gridwidth": 2,
            "linecolor": "white",
            "showbackground": true,
            "ticks": "",
            "zerolinecolor": "white"
           },
           "yaxis": {
            "backgroundcolor": "#E5ECF6",
            "gridcolor": "white",
            "gridwidth": 2,
            "linecolor": "white",
            "showbackground": true,
            "ticks": "",
            "zerolinecolor": "white"
           },
           "zaxis": {
            "backgroundcolor": "#E5ECF6",
            "gridcolor": "white",
            "gridwidth": 2,
            "linecolor": "white",
            "showbackground": true,
            "ticks": "",
            "zerolinecolor": "white"
           }
          },
          "shapedefaults": {
           "line": {
            "color": "#2a3f5f"
           }
          },
          "ternary": {
           "aaxis": {
            "gridcolor": "white",
            "linecolor": "white",
            "ticks": ""
           },
           "baxis": {
            "gridcolor": "white",
            "linecolor": "white",
            "ticks": ""
           },
           "bgcolor": "#E5ECF6",
           "caxis": {
            "gridcolor": "white",
            "linecolor": "white",
            "ticks": ""
           }
          },
          "title": {
           "x": 0.05
          },
          "xaxis": {
           "automargin": true,
           "gridcolor": "white",
           "linecolor": "white",
           "ticks": "",
           "title": {
            "standoff": 15
           },
           "zerolinecolor": "white",
           "zerolinewidth": 2
          },
          "yaxis": {
           "automargin": true,
           "gridcolor": "white",
           "linecolor": "white",
           "ticks": "",
           "title": {
            "standoff": 15
           },
           "zerolinecolor": "white",
           "zerolinewidth": 2
          }
         }
        },
        "title": {
         "font": {
          "color": "#4D5663"
         },
         "text": "IVVPESOISHRS.MX"
        },
        "xaxis": {
         "anchor": "y2",
         "gridcolor": "#E1E5ED",
         "rangeselector": {
          "bgcolor": "rgba(150, 200, 250, 1)",
          "buttons": [
           {
            "count": 1,
            "label": "1m",
            "step": "month",
            "stepmode": "backward"
           },
           {
            "count": 1,
            "label": "1y",
            "step": "year",
            "stepmode": "backward"
           }
          ],
          "font": {
           "size": 13
          },
          "visible": false,
          "x": 0,
          "y": 0.9
         },
         "rangeslider": {
          "visible": false
         },
         "showgrid": true,
         "tickfont": {
          "color": "#4D5663"
         },
         "title": {
          "font": {
           "color": "#4D5663"
          },
          "text": ""
         },
         "zerolinecolor": "#E1E5ED"
        },
        "yaxis": {
         "gridcolor": "#E1E5ED",
         "showgrid": true,
         "showticklabels": false,
         "tickfont": {
          "color": "#4D5663"
         },
         "title": {
          "font": {
           "color": "#4D5663"
          },
          "text": ""
         },
         "zerolinecolor": "#E1E5ED"
        },
        "yaxis2": {
         "domain": [
          0,
          0.9
         ],
         "gridcolor": "#E1E5ED",
         "showgrid": true,
         "tickfont": {
          "color": "#4D5663"
         },
         "title": {
          "font": {
           "color": "#4D5663"
          },
          "text": ""
         },
         "zerolinecolor": "#E1E5ED"
        }
       }
      },
      "text/html": [
       "<div>                            <div id=\"1374ba30-9bbf-4ce2-9d96-d30016a2c5b2\" class=\"plotly-graph-div\" style=\"height:525px; width:100%;\"></div>            <script type=\"text/javascript\">                require([\"plotly\"], function(Plotly) {                    window.PLOTLYENV=window.PLOTLYENV || {};\n",
       "                    window.PLOTLYENV.BASE_URL='https://plot.ly';                                    if (document.getElementById(\"1374ba30-9bbf-4ce2-9d96-d30016a2c5b2\")) {                    Plotly.newPlot(                        \"1374ba30-9bbf-4ce2-9d96-d30016a2c5b2\",                        [{\"line\":{\"color\":\"rgba(55, 128, 191, 1.0)\",\"dash\":\"solid\",\"shape\":\"linear\",\"width\":1.3},\"mode\":\"lines\",\"name\":\" EMA(50)\",\"text\":\"\",\"x\":[\"2023-09-01\",\"2023-09-04\",\"2023-09-05\",\"2023-09-06\",\"2023-09-07\",\"2023-09-08\",\"2023-09-11\",\"2023-09-12\",\"2023-09-13\",\"2023-09-14\",\"2023-09-15\",\"2023-09-18\",\"2023-09-19\",\"2023-09-20\",\"2023-09-21\",\"2023-09-22\",\"2023-09-25\",\"2023-09-26\",\"2023-09-27\",\"2023-09-28\",\"2023-09-29\",\"2023-10-02\",\"2023-10-03\",\"2023-10-04\",\"2023-10-05\",\"2023-10-06\",\"2023-10-09\",\"2023-10-10\",\"2023-10-11\",\"2023-10-12\",\"2023-10-13\",\"2023-10-16\",\"2023-10-17\",\"2023-10-18\",\"2023-10-19\",\"2023-10-20\",\"2023-10-23\",\"2023-10-24\",\"2023-10-25\",\"2023-10-26\",\"2023-10-27\",\"2023-10-30\",\"2023-10-31\",\"2023-11-01\",\"2023-11-03\",\"2023-11-06\",\"2023-11-07\",\"2023-11-08\"],\"y\":[\"\",\"\",\"\",\"\",\"\",\"\",\"\",\"\",\"\",\"\",\"\",\"\",\"\",\"\",\"\",\"\",\"\",\"\",\"\",\"\",\"\",\"\",\"\",\"\",\"\",\"\",\"\",\"\",\"\",\"\",\"\",\"\",\"\",\"\",\"\",\"\",\"\",\"\",\"\",\"\",\"\",\"\",\"\",\"\",\"\",\"\",\"\",\"\"],\"yaxis\":\"y2\",\"type\":\"scatter\"},{\"line\":{\"color\":\"rgba(55, 128, 191, 1.0)\",\"dash\":\"solid\",\"shape\":\"linear\",\"width\":1.3},\"mode\":\"lines\",\"name\":\" SMA(50)\",\"text\":\"\",\"x\":[\"2023-09-01\",\"2023-09-04\",\"2023-09-05\",\"2023-09-06\",\"2023-09-07\",\"2023-09-08\",\"2023-09-11\",\"2023-09-12\",\"2023-09-13\",\"2023-09-14\",\"2023-09-15\",\"2023-09-18\",\"2023-09-19\",\"2023-09-20\",\"2023-09-21\",\"2023-09-22\",\"2023-09-25\",\"2023-09-26\",\"2023-09-27\",\"2023-09-28\",\"2023-09-29\",\"2023-10-02\",\"2023-10-03\",\"2023-10-04\",\"2023-10-05\",\"2023-10-06\",\"2023-10-09\",\"2023-10-10\",\"2023-10-11\",\"2023-10-12\",\"2023-10-13\",\"2023-10-16\",\"2023-10-17\",\"2023-10-18\",\"2023-10-19\",\"2023-10-20\",\"2023-10-23\",\"2023-10-24\",\"2023-10-25\",\"2023-10-26\",\"2023-10-27\",\"2023-10-30\",\"2023-10-31\",\"2023-11-01\",\"2023-11-03\",\"2023-11-06\",\"2023-11-07\",\"2023-11-08\"],\"y\":[\"\",\"\",\"\",\"\",\"\",\"\",\"\",\"\",\"\",\"\",\"\",\"\",\"\",\"\",\"\",\"\",\"\",\"\",\"\",\"\",\"\",\"\",\"\",\"\",\"\",\"\",\"\",\"\",\"\",\"\",\"\",\"\",\"\",\"\",\"\",\"\",\"\",\"\",\"\",\"\",\"\",\"\",\"\",\"\",\"\",\"\",\"\",\"\"],\"yaxis\":\"y2\",\"type\":\"scatter\"},{\"close\":[82.69999694824219,82.72000122070312,82.58000183105469,81.95999908447266,81.5999984741211,81.86000061035156,82.27999877929688,82.08000183105469,81.97000122070312,82.81999969482422,null,82.12000274658203,81.62999725341797,82.0,80.0,79.80000305175781,79.5999984741211,78.6500015258789,78.6500015258789,79.1500015258789,78.88999938964844,78.5999984741211,77.88999938964844,78.66999816894531,78.37000274658203,79.75,80.20999908447266,80.5999984741211,80.54000091552734,80.2699966430664,79.94000244140625,80.94999694824219,80.5999984741211,79.80000305175781,80.0999984741211,78.55999755859375,78.41000366210938,78.6500015258789,null,76.97000122070312,76.13999938964844,76.93000030517578,77.23999786376953,78.41999816894531,80.62999725341797,80.5999984741211,81.05000305175781,81.0],\"decreasing\":{\"line\":{\"color\":\"#808080\"}},\"high\":[83.02999877929688,82.72000122070312,82.83000183105469,82.36000061035156,81.62999725341797,82.16000366210938,82.51000213623047,82.08000183105469,82.30000305175781,82.81999969482422,null,82.19999694824219,82.19000244140625,82.08000183105469,80.48999786376953,80.19000244140625,79.69999694824219,79.33000183105469,78.66999816894531,79.30000305175781,79.80000305175781,78.97000122070312,78.12999725341797,78.68000030517578,78.51000213623047,79.75,80.20999908447266,80.8499984741211,80.54000091552734,80.80999755859375,80.5199966430664,81.23999786376953,81.04000091552734,80.55000305175781,80.0999984741211,79.16999816894531,78.41000366210938,78.66000366210938,null,77.13999938964844,76.77999877929688,76.97000122070312,77.23999786376953,78.41999816894531,80.8499984741211,80.7300033569336,81.05000305175781,81.06999969482422],\"increasing\":{\"line\":{\"color\":\"#17BECF\"}},\"low\":[82.68000030517578,82.72000122070312,82.55000305175781,81.66999816894531,81.41999816894531,81.86000061035156,82.12999725341797,82.08000183105469,81.97000122070312,82.3499984741211,null,81.87999725341797,81.31999969482422,81.80000305175781,80.0,79.79000091552734,79.33000183105469,78.6500015258789,77.94000244140625,79.12999725341797,78.88999938964844,78.56999969482422,77.75,78.5199966430664,78.1500015258789,78.27999877929688,79.05000305175781,80.3499984741211,80.4000015258789,80.20999908447266,79.87000274658203,80.52999877929688,80.44999694824219,79.69000244140625,79.55000305175781,78.43000030517578,77.88999938964844,78.18000030517578,null,76.3499984741211,76.13999938964844,76.5999984741211,77.23999786376953,77.87000274658203,79.0,80.5,80.83999633789062,80.68000030517578],\"name\":\"MX ETFs\",\"open\":[83.01000213623047,82.72000122070312,82.70999908447266,82.36000061035156,81.41999816894531,82.16000366210938,82.12999725341797,82.08000183105469,82.05000305175781,82.3499984741211,null,81.87999725341797,82.19000244140625,81.94999694824219,80.48999786376953,80.0,79.33000183105469,79.33000183105469,78.66999816894531,79.20999908447266,79.61000061035156,78.88999938964844,78.0,78.63999938964844,78.5,78.27999877929688,79.05999755859375,80.3499984741211,80.4000015258789,80.7699966430664,80.5199966430664,80.52999877929688,81.04000091552734,80.55000305175781,79.8499984741211,79.16999816894531,77.88999938964844,78.41000366210938,null,76.3499984741211,76.58000183105469,76.76000213623047,77.23999786376953,78.1500015258789,79.0,80.63999938964844,81.0,81.05000305175781],\"showlegend\":true,\"x\":[\"2023-09-01\",\"2023-09-04\",\"2023-09-05\",\"2023-09-06\",\"2023-09-07\",\"2023-09-08\",\"2023-09-11\",\"2023-09-12\",\"2023-09-13\",\"2023-09-14\",\"2023-09-15\",\"2023-09-18\",\"2023-09-19\",\"2023-09-20\",\"2023-09-21\",\"2023-09-22\",\"2023-09-25\",\"2023-09-26\",\"2023-09-27\",\"2023-09-28\",\"2023-09-29\",\"2023-10-02\",\"2023-10-03\",\"2023-10-04\",\"2023-10-05\",\"2023-10-06\",\"2023-10-09\",\"2023-10-10\",\"2023-10-11\",\"2023-10-12\",\"2023-10-13\",\"2023-10-16\",\"2023-10-17\",\"2023-10-18\",\"2023-10-19\",\"2023-10-20\",\"2023-10-23\",\"2023-10-24\",\"2023-10-25\",\"2023-10-26\",\"2023-10-27\",\"2023-10-30\",\"2023-10-31\",\"2023-11-01\",\"2023-11-03\",\"2023-11-06\",\"2023-11-07\",\"2023-11-08\"],\"yaxis\":\"y2\",\"type\":\"candlestick\"}],                        {\"legend\":{\"bgcolor\":\"#F5F6F9\",\"font\":{\"color\":\"#4D5663\"}},\"margin\":{\"b\":30,\"l\":30,\"r\":30,\"t\":30},\"paper_bgcolor\":\"#F5F6F9\",\"plot_bgcolor\":\"#F5F6F9\",\"showlegend\":true,\"template\":{\"data\":{\"barpolar\":[{\"marker\":{\"line\":{\"color\":\"#E5ECF6\",\"width\":0.5},\"pattern\":{\"fillmode\":\"overlay\",\"size\":10,\"solidity\":0.2}},\"type\":\"barpolar\"}],\"bar\":[{\"error_x\":{\"color\":\"#2a3f5f\"},\"error_y\":{\"color\":\"#2a3f5f\"},\"marker\":{\"line\":{\"color\":\"#E5ECF6\",\"width\":0.5},\"pattern\":{\"fillmode\":\"overlay\",\"size\":10,\"solidity\":0.2}},\"type\":\"bar\"}],\"carpet\":[{\"aaxis\":{\"endlinecolor\":\"#2a3f5f\",\"gridcolor\":\"white\",\"linecolor\":\"white\",\"minorgridcolor\":\"white\",\"startlinecolor\":\"#2a3f5f\"},\"baxis\":{\"endlinecolor\":\"#2a3f5f\",\"gridcolor\":\"white\",\"linecolor\":\"white\",\"minorgridcolor\":\"white\",\"startlinecolor\":\"#2a3f5f\"},\"type\":\"carpet\"}],\"choropleth\":[{\"colorbar\":{\"outlinewidth\":0,\"ticks\":\"\"},\"type\":\"choropleth\"}],\"contourcarpet\":[{\"colorbar\":{\"outlinewidth\":0,\"ticks\":\"\"},\"type\":\"contourcarpet\"}],\"contour\":[{\"colorbar\":{\"outlinewidth\":0,\"ticks\":\"\"},\"colorscale\":[[0.0,\"#0d0887\"],[0.1111111111111111,\"#46039f\"],[0.2222222222222222,\"#7201a8\"],[0.3333333333333333,\"#9c179e\"],[0.4444444444444444,\"#bd3786\"],[0.5555555555555556,\"#d8576b\"],[0.6666666666666666,\"#ed7953\"],[0.7777777777777778,\"#fb9f3a\"],[0.8888888888888888,\"#fdca26\"],[1.0,\"#f0f921\"]],\"type\":\"contour\"}],\"heatmapgl\":[{\"colorbar\":{\"outlinewidth\":0,\"ticks\":\"\"},\"colorscale\":[[0.0,\"#0d0887\"],[0.1111111111111111,\"#46039f\"],[0.2222222222222222,\"#7201a8\"],[0.3333333333333333,\"#9c179e\"],[0.4444444444444444,\"#bd3786\"],[0.5555555555555556,\"#d8576b\"],[0.6666666666666666,\"#ed7953\"],[0.7777777777777778,\"#fb9f3a\"],[0.8888888888888888,\"#fdca26\"],[1.0,\"#f0f921\"]],\"type\":\"heatmapgl\"}],\"heatmap\":[{\"colorbar\":{\"outlinewidth\":0,\"ticks\":\"\"},\"colorscale\":[[0.0,\"#0d0887\"],[0.1111111111111111,\"#46039f\"],[0.2222222222222222,\"#7201a8\"],[0.3333333333333333,\"#9c179e\"],[0.4444444444444444,\"#bd3786\"],[0.5555555555555556,\"#d8576b\"],[0.6666666666666666,\"#ed7953\"],[0.7777777777777778,\"#fb9f3a\"],[0.8888888888888888,\"#fdca26\"],[1.0,\"#f0f921\"]],\"type\":\"heatmap\"}],\"histogram2dcontour\":[{\"colorbar\":{\"outlinewidth\":0,\"ticks\":\"\"},\"colorscale\":[[0.0,\"#0d0887\"],[0.1111111111111111,\"#46039f\"],[0.2222222222222222,\"#7201a8\"],[0.3333333333333333,\"#9c179e\"],[0.4444444444444444,\"#bd3786\"],[0.5555555555555556,\"#d8576b\"],[0.6666666666666666,\"#ed7953\"],[0.7777777777777778,\"#fb9f3a\"],[0.8888888888888888,\"#fdca26\"],[1.0,\"#f0f921\"]],\"type\":\"histogram2dcontour\"}],\"histogram2d\":[{\"colorbar\":{\"outlinewidth\":0,\"ticks\":\"\"},\"colorscale\":[[0.0,\"#0d0887\"],[0.1111111111111111,\"#46039f\"],[0.2222222222222222,\"#7201a8\"],[0.3333333333333333,\"#9c179e\"],[0.4444444444444444,\"#bd3786\"],[0.5555555555555556,\"#d8576b\"],[0.6666666666666666,\"#ed7953\"],[0.7777777777777778,\"#fb9f3a\"],[0.8888888888888888,\"#fdca26\"],[1.0,\"#f0f921\"]],\"type\":\"histogram2d\"}],\"histogram\":[{\"marker\":{\"pattern\":{\"fillmode\":\"overlay\",\"size\":10,\"solidity\":0.2}},\"type\":\"histogram\"}],\"mesh3d\":[{\"colorbar\":{\"outlinewidth\":0,\"ticks\":\"\"},\"type\":\"mesh3d\"}],\"parcoords\":[{\"line\":{\"colorbar\":{\"outlinewidth\":0,\"ticks\":\"\"}},\"type\":\"parcoords\"}],\"pie\":[{\"automargin\":true,\"type\":\"pie\"}],\"scatter3d\":[{\"line\":{\"colorbar\":{\"outlinewidth\":0,\"ticks\":\"\"}},\"marker\":{\"colorbar\":{\"outlinewidth\":0,\"ticks\":\"\"}},\"type\":\"scatter3d\"}],\"scattercarpet\":[{\"marker\":{\"colorbar\":{\"outlinewidth\":0,\"ticks\":\"\"}},\"type\":\"scattercarpet\"}],\"scattergeo\":[{\"marker\":{\"colorbar\":{\"outlinewidth\":0,\"ticks\":\"\"}},\"type\":\"scattergeo\"}],\"scattergl\":[{\"marker\":{\"colorbar\":{\"outlinewidth\":0,\"ticks\":\"\"}},\"type\":\"scattergl\"}],\"scattermapbox\":[{\"marker\":{\"colorbar\":{\"outlinewidth\":0,\"ticks\":\"\"}},\"type\":\"scattermapbox\"}],\"scatterpolargl\":[{\"marker\":{\"colorbar\":{\"outlinewidth\":0,\"ticks\":\"\"}},\"type\":\"scatterpolargl\"}],\"scatterpolar\":[{\"marker\":{\"colorbar\":{\"outlinewidth\":0,\"ticks\":\"\"}},\"type\":\"scatterpolar\"}],\"scatter\":[{\"fillpattern\":{\"fillmode\":\"overlay\",\"size\":10,\"solidity\":0.2},\"type\":\"scatter\"}],\"scatterternary\":[{\"marker\":{\"colorbar\":{\"outlinewidth\":0,\"ticks\":\"\"}},\"type\":\"scatterternary\"}],\"surface\":[{\"colorbar\":{\"outlinewidth\":0,\"ticks\":\"\"},\"colorscale\":[[0.0,\"#0d0887\"],[0.1111111111111111,\"#46039f\"],[0.2222222222222222,\"#7201a8\"],[0.3333333333333333,\"#9c179e\"],[0.4444444444444444,\"#bd3786\"],[0.5555555555555556,\"#d8576b\"],[0.6666666666666666,\"#ed7953\"],[0.7777777777777778,\"#fb9f3a\"],[0.8888888888888888,\"#fdca26\"],[1.0,\"#f0f921\"]],\"type\":\"surface\"}],\"table\":[{\"cells\":{\"fill\":{\"color\":\"#EBF0F8\"},\"line\":{\"color\":\"white\"}},\"header\":{\"fill\":{\"color\":\"#C8D4E3\"},\"line\":{\"color\":\"white\"}},\"type\":\"table\"}]},\"layout\":{\"annotationdefaults\":{\"arrowcolor\":\"#2a3f5f\",\"arrowhead\":0,\"arrowwidth\":1},\"autotypenumbers\":\"strict\",\"coloraxis\":{\"colorbar\":{\"outlinewidth\":0,\"ticks\":\"\"}},\"colorscale\":{\"diverging\":[[0,\"#8e0152\"],[0.1,\"#c51b7d\"],[0.2,\"#de77ae\"],[0.3,\"#f1b6da\"],[0.4,\"#fde0ef\"],[0.5,\"#f7f7f7\"],[0.6,\"#e6f5d0\"],[0.7,\"#b8e186\"],[0.8,\"#7fbc41\"],[0.9,\"#4d9221\"],[1,\"#276419\"]],\"sequential\":[[0.0,\"#0d0887\"],[0.1111111111111111,\"#46039f\"],[0.2222222222222222,\"#7201a8\"],[0.3333333333333333,\"#9c179e\"],[0.4444444444444444,\"#bd3786\"],[0.5555555555555556,\"#d8576b\"],[0.6666666666666666,\"#ed7953\"],[0.7777777777777778,\"#fb9f3a\"],[0.8888888888888888,\"#fdca26\"],[1.0,\"#f0f921\"]],\"sequentialminus\":[[0.0,\"#0d0887\"],[0.1111111111111111,\"#46039f\"],[0.2222222222222222,\"#7201a8\"],[0.3333333333333333,\"#9c179e\"],[0.4444444444444444,\"#bd3786\"],[0.5555555555555556,\"#d8576b\"],[0.6666666666666666,\"#ed7953\"],[0.7777777777777778,\"#fb9f3a\"],[0.8888888888888888,\"#fdca26\"],[1.0,\"#f0f921\"]]},\"colorway\":[\"#636efa\",\"#EF553B\",\"#00cc96\",\"#ab63fa\",\"#FFA15A\",\"#19d3f3\",\"#FF6692\",\"#B6E880\",\"#FF97FF\",\"#FECB52\"],\"font\":{\"color\":\"#2a3f5f\"},\"geo\":{\"bgcolor\":\"white\",\"lakecolor\":\"white\",\"landcolor\":\"#E5ECF6\",\"showlakes\":true,\"showland\":true,\"subunitcolor\":\"white\"},\"hoverlabel\":{\"align\":\"left\"},\"hovermode\":\"closest\",\"mapbox\":{\"style\":\"light\"},\"paper_bgcolor\":\"white\",\"plot_bgcolor\":\"#E5ECF6\",\"polar\":{\"angularaxis\":{\"gridcolor\":\"white\",\"linecolor\":\"white\",\"ticks\":\"\"},\"bgcolor\":\"#E5ECF6\",\"radialaxis\":{\"gridcolor\":\"white\",\"linecolor\":\"white\",\"ticks\":\"\"}},\"scene\":{\"xaxis\":{\"backgroundcolor\":\"#E5ECF6\",\"gridcolor\":\"white\",\"gridwidth\":2,\"linecolor\":\"white\",\"showbackground\":true,\"ticks\":\"\",\"zerolinecolor\":\"white\"},\"yaxis\":{\"backgroundcolor\":\"#E5ECF6\",\"gridcolor\":\"white\",\"gridwidth\":2,\"linecolor\":\"white\",\"showbackground\":true,\"ticks\":\"\",\"zerolinecolor\":\"white\"},\"zaxis\":{\"backgroundcolor\":\"#E5ECF6\",\"gridcolor\":\"white\",\"gridwidth\":2,\"linecolor\":\"white\",\"showbackground\":true,\"ticks\":\"\",\"zerolinecolor\":\"white\"}},\"shapedefaults\":{\"line\":{\"color\":\"#2a3f5f\"}},\"ternary\":{\"aaxis\":{\"gridcolor\":\"white\",\"linecolor\":\"white\",\"ticks\":\"\"},\"baxis\":{\"gridcolor\":\"white\",\"linecolor\":\"white\",\"ticks\":\"\"},\"bgcolor\":\"#E5ECF6\",\"caxis\":{\"gridcolor\":\"white\",\"linecolor\":\"white\",\"ticks\":\"\"}},\"title\":{\"x\":0.05},\"xaxis\":{\"automargin\":true,\"gridcolor\":\"white\",\"linecolor\":\"white\",\"ticks\":\"\",\"title\":{\"standoff\":15},\"zerolinecolor\":\"white\",\"zerolinewidth\":2},\"yaxis\":{\"automargin\":true,\"gridcolor\":\"white\",\"linecolor\":\"white\",\"ticks\":\"\",\"title\":{\"standoff\":15},\"zerolinecolor\":\"white\",\"zerolinewidth\":2}}},\"title\":{\"font\":{\"color\":\"#4D5663\"},\"text\":\"IVVPESOISHRS.MX\"},\"xaxis\":{\"anchor\":\"y2\",\"gridcolor\":\"#E1E5ED\",\"rangeselector\":{\"bgcolor\":\"rgba(150, 200, 250, 1)\",\"buttons\":[{\"count\":1,\"label\":\"1m\",\"step\":\"month\",\"stepmode\":\"backward\"},{\"count\":1,\"label\":\"1y\",\"step\":\"year\",\"stepmode\":\"backward\"}],\"font\":{\"size\":13},\"visible\":false,\"x\":0,\"y\":0.9},\"rangeslider\":{\"visible\":false},\"showgrid\":true,\"tickfont\":{\"color\":\"#4D5663\"},\"title\":{\"font\":{\"color\":\"#4D5663\"},\"text\":\"\"},\"zerolinecolor\":\"#E1E5ED\"},\"yaxis\":{\"gridcolor\":\"#E1E5ED\",\"showgrid\":true,\"showticklabels\":false,\"tickfont\":{\"color\":\"#4D5663\"},\"title\":{\"font\":{\"color\":\"#4D5663\"},\"text\":\"\"},\"zerolinecolor\":\"#E1E5ED\"},\"yaxis2\":{\"domain\":[0.0,0.9],\"gridcolor\":\"#E1E5ED\",\"showgrid\":true,\"tickfont\":{\"color\":\"#4D5663\"},\"title\":{\"font\":{\"color\":\"#4D5663\"},\"text\":\"\"},\"zerolinecolor\":\"#E1E5ED\"}},                        {\"showLink\": true, \"linkText\": \"Export to plot.ly\", \"plotlyServerURL\": \"https://plot.ly\", \"responsive\": true}                    ).then(function(){\n",
       "                            \n",
       "var gd = document.getElementById('1374ba30-9bbf-4ce2-9d96-d30016a2c5b2');\n",
       "var x = new MutationObserver(function (mutations, observer) {{\n",
       "        var display = window.getComputedStyle(gd).display;\n",
       "        if (!display || display === 'none') {{\n",
       "            console.log([gd, 'removed!']);\n",
       "            Plotly.purge(gd);\n",
       "            observer.disconnect();\n",
       "        }}\n",
       "}});\n",
       "\n",
       "// Listen for the removal of the full notebook cells\n",
       "var notebookContainer = gd.closest('#notebook-container');\n",
       "if (notebookContainer) {{\n",
       "    x.observe(notebookContainer, {childList: true});\n",
       "}}\n",
       "\n",
       "// Listen for the clearing of the current output cell\n",
       "var outputEl = gd.closest('.output');\n",
       "if (outputEl) {{\n",
       "    x.observe(outputEl, {childList: true});\n",
       "}}\n",
       "\n",
       "                        })                };                });            </script>        </div>"
      ]
     },
     "metadata": {},
     "output_type": "display_data"
    }
   ],
   "source": [
    "qf = cf.QuantFig(df = ivvpesoishrs.loc[\"09-2023\":])\n",
    "qf.add_ema(periods=50)\n",
    "qf.add_sma(periods=50)\n",
    "qf.iplot(title= \"IVVPESOISHRS.MX\", name = \"MX ETFs\")"
   ]
  },
  {
   "cell_type": "code",
   "execution_count": null,
   "metadata": {},
   "outputs": [],
   "source": []
  }
 ],
 "metadata": {
  "kernelspec": {
   "display_name": "Python 3",
   "language": "python",
   "name": "python3"
  },
  "language_info": {
   "codemirror_mode": {
    "name": "ipython",
    "version": 3
   },
   "file_extension": ".py",
   "mimetype": "text/x-python",
   "name": "python",
   "nbconvert_exporter": "python",
   "pygments_lexer": "ipython3",
   "version": "3.10.12"
  }
 },
 "nbformat": 4,
 "nbformat_minor": 2
}
