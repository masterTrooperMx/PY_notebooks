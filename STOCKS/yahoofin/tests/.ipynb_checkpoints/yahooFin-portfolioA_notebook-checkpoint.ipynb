{
 "cells": [
  {
   "cell_type": "code",
   "execution_count": 1,
   "id": "8b2aba98",
   "metadata": {},
   "outputs": [],
   "source": [
    "#pip install yfinance\n",
    "import pandas  as pd #Data manipulation\n",
    "import numpy as np #Data manipulation\n",
    "import matplotlib.pyplot as plt\n",
    "plt.style.use(\"seaborn\")\n",
    "import yfinance as yf"
   ]
  },
  {
   "cell_type": "code",
   "execution_count": null,
   "id": "301dd666",
   "metadata": {},
   "outputs": [],
   "source": [
    "# my portfolio\n",
    "# \"BIMBOA.MX\", \"HERDEZ.MX\", \"BOLSAA.MX\",\n",
    "# yf.download(tickers = symbol, start = start, end = end)\n",
    "symbol = [\"GENIUS21.MX\", \"IVVPESOISHRS.MX\", \"WALMEX.MX\", \"AAPL\", \"AMZN\", \"FDX\",\"NVDA\", \"XOM\"]\n",
    "start = \"2023-01-02\" \n",
    "# manyways to say now\n",
    "end = datetime.now().strftime(\"%Y-%m-%d\")\n",
    "\n",
    "portfolio_df = yf.download(tickers=symbol, start = start, end = end)\n",
    "portfolio_df.head()\n",
    "portfolio_df.info()"
   ]
  }
 ],
 "metadata": {
  "kernelspec": {
   "display_name": "Python 3 (ipykernel)",
   "language": "python",
   "name": "python3"
  },
  "language_info": {
   "codemirror_mode": {
    "name": "ipython",
    "version": 3
   },
   "file_extension": ".py",
   "mimetype": "text/x-python",
   "name": "python",
   "nbconvert_exporter": "python",
   "pygments_lexer": "ipython3",
   "version": "3.9.13"
  }
 },
 "nbformat": 4,
 "nbformat_minor": 5
}
