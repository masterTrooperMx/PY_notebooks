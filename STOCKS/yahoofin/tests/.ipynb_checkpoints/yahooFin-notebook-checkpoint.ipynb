{
 "cells": [
  {
   "cell_type": "code",
   "execution_count": 1,
   "metadata": {},
   "outputs": [],
   "source": [
    "#pip install yfinance\n",
    "import pandas  as pd #Data manipulation\n",
    "import numpy as np #Data manipulation\n",
    "import yfinance as yf\n",
    "#from yahoofinancials import YahooFinancials"
   ]
  },
  {
   "cell_type": "code",
   "execution_count": 3,
   "metadata": {},
   "outputs": [
    {
     "name": "stderr",
     "output_type": "stream",
     "text": [
      "[*********************100%%**********************]  1 of 1 completed\n"
     ]
    },
    {
     "data": {
      "text/html": [
       "<div>\n",
       "<style scoped>\n",
       "    .dataframe tbody tr th:only-of-type {\n",
       "        vertical-align: middle;\n",
       "    }\n",
       "\n",
       "    .dataframe tbody tr th {\n",
       "        vertical-align: top;\n",
       "    }\n",
       "\n",
       "    .dataframe thead th {\n",
       "        text-align: right;\n",
       "    }\n",
       "</style>\n",
       "<table border=\"1\" class=\"dataframe\">\n",
       "  <thead>\n",
       "    <tr style=\"text-align: right;\">\n",
       "      <th></th>\n",
       "      <th>Open</th>\n",
       "      <th>High</th>\n",
       "      <th>Low</th>\n",
       "      <th>Close</th>\n",
       "      <th>Volume</th>\n",
       "    </tr>\n",
       "    <tr>\n",
       "      <th>Date</th>\n",
       "      <th></th>\n",
       "      <th></th>\n",
       "      <th></th>\n",
       "      <th></th>\n",
       "      <th></th>\n",
       "    </tr>\n",
       "  </thead>\n",
       "  <tbody>\n",
       "    <tr>\n",
       "      <th>2023-07-10</th>\n",
       "      <td>188.260192</td>\n",
       "      <td>188.986347</td>\n",
       "      <td>186.051919</td>\n",
       "      <td>187.613632</td>\n",
       "      <td>59922200</td>\n",
       "    </tr>\n",
       "    <tr>\n",
       "      <th>2023-07-11</th>\n",
       "      <td>188.160738</td>\n",
       "      <td>188.299997</td>\n",
       "      <td>185.614264</td>\n",
       "      <td>187.086441</td>\n",
       "      <td>46638100</td>\n",
       "    </tr>\n",
       "    <tr>\n",
       "      <th>2023-07-12</th>\n",
       "      <td>188.677966</td>\n",
       "      <td>190.687299</td>\n",
       "      <td>187.474366</td>\n",
       "      <td>188.767502</td>\n",
       "      <td>60750200</td>\n",
       "    </tr>\n",
       "    <tr>\n",
       "      <th>2023-07-13</th>\n",
       "      <td>189.493650</td>\n",
       "      <td>190.180007</td>\n",
       "      <td>188.777452</td>\n",
       "      <td>189.533432</td>\n",
       "      <td>41342300</td>\n",
       "    </tr>\n",
       "    <tr>\n",
       "      <th>2023-07-14</th>\n",
       "      <td>189.225056</td>\n",
       "      <td>190.170034</td>\n",
       "      <td>188.628235</td>\n",
       "      <td>189.682632</td>\n",
       "      <td>41573900</td>\n",
       "    </tr>\n",
       "  </tbody>\n",
       "</table>\n",
       "</div>"
      ],
      "text/plain": [
       "                  Open        High         Low       Close    Volume\n",
       "Date                                                                \n",
       "2023-07-10  188.260192  188.986347  186.051919  187.613632  59922200\n",
       "2023-07-11  188.160738  188.299997  185.614264  187.086441  46638100\n",
       "2023-07-12  188.677966  190.687299  187.474366  188.767502  60750200\n",
       "2023-07-13  189.493650  190.180007  188.777452  189.533432  41342300\n",
       "2023-07-14  189.225056  190.170034  188.628235  189.682632  41573900"
      ]
     },
     "execution_count": 3,
     "metadata": {},
     "output_type": "execute_result"
    }
   ],
   "source": [
    "# also\n",
    "# yf.download(tickers = symbol, start = start, end = end)\n",
    "symbol = ['AAPL']\n",
    "aapl_df = yf.download(tickers=symbol, auto_adjust=True, period=\"1y\")\n",
    "aapl_df.head()"
   ]
  },
  {
   "cell_type": "code",
   "execution_count": 4,
   "metadata": {},
   "outputs": [
    {
     "name": "stdout",
     "output_type": "stream",
     "text": [
      "<class 'pandas.core.frame.DataFrame'>\n",
      "Index: 0 entries\n",
      "Data columns (total 6 columns):\n",
      " #   Column     Non-Null Count  Dtype  \n",
      "---  ------     --------------  -----  \n",
      " 0   Open       0 non-null      float64\n",
      " 1   High       0 non-null      float64\n",
      " 2   Low        0 non-null      float64\n",
      " 3   Close      0 non-null      float64\n",
      " 4   Adj Close  0 non-null      float64\n",
      " 5   Volume     0 non-null      float64\n",
      "dtypes: float64(6)\n",
      "memory usage: 0.0+ bytes\n"
     ]
    }
   ],
   "source": [
    "# check we don't have nulls\n",
    "aapl_df.info()"
   ]
  },
  {
   "cell_type": "code",
   "execution_count": null,
   "metadata": {},
   "outputs": [],
   "source": [
    "# pip install matplotlib\n",
    "import matplotlib.pyplot as plt # Visualization\n",
    "aapl_df['Close'].plot(title='Apple historic')"
   ]
  },
  {
   "cell_type": "code",
   "execution_count": null,
   "metadata": {},
   "outputs": [],
   "source": [
    "aapl_df_2022 = aapl_df.loc['2022-01-01' : '2022-12-31']\n",
    "aapl_df_2022.head()"
   ]
  },
  {
   "cell_type": "code",
   "execution_count": null,
   "metadata": {},
   "outputs": [],
   "source": [
    "aapl_df_2022['Close'].plot(title='Apple historic 2022')"
   ]
  },
  {
   "cell_type": "code",
   "execution_count": null,
   "metadata": {},
   "outputs": [],
   "source": [
    "aapl_df_2023 = aapl_df.loc['2023-01-01' : '2023-12-31']\n",
    "aapl_df_2023['Close'].plot(title='Apple historic 2023')"
   ]
  },
  {
   "cell_type": "code",
   "execution_count": null,
   "metadata": {},
   "outputs": [],
   "source": [
    "aapl_df_2020_2023 = aapl_df.loc['2020-01-01' : '2023-12-31']\n",
    "aapl_df_2020_2023['Close'].plot(title='Apple historic 2020-2023')"
   ]
  },
  {
   "cell_type": "code",
   "execution_count": null,
   "metadata": {},
   "outputs": [],
   "source": [
    "# https://coderzcolumn.com/tutorials/data-science/candlestick-chart-in-python-mplfinance-plotly-bokeh#2\n",
    "# pip install plotly\n",
    "# pip install --upgrade nbformat\n",
    "import plotly.graph_objects as go\n",
    "from datetime import datetime\n",
    "\n",
    "df = aapl_df_2020_2023\n",
    "\n",
    "fig = go.Figure(data=[go.Candlestick(x=df.index,\n",
    "                open=df['Open'],\n",
    "                high=df['High'],\n",
    "                low=df['Low'],\n",
    "                close=df['Close'])])\n",
    "\n",
    "fig.show()"
   ]
  },
  {
   "cell_type": "code",
   "execution_count": null,
   "metadata": {},
   "outputs": [],
   "source": [
    "# interactive plots\n",
    "# import it or install it\n",
    "try:\n",
    "    import cufflinks as cf\n",
    "except:\n",
    "    %pip install cufflinks\n",
    "    import cufflinks as cf\n",
    "\n",
    "#symbol = 'BOLSAA.MX'\n",
    "#bolsaamx_df = yf.download(tickers=symbol) # no period brings all\n",
    "#bolsaamx_df.head()"
   ]
  },
  {
   "cell_type": "code",
   "execution_count": null,
   "metadata": {},
   "outputs": [],
   "source": [
    "apple_df = yf.Ticker(\"AAPL\")\n",
    "apple_df.info"
   ]
  },
  {
   "cell_type": "code",
   "execution_count": null,
   "metadata": {},
   "outputs": [],
   "source": [
    "apple_df.history_metadata"
   ]
  },
  {
   "cell_type": "code",
   "execution_count": null,
   "metadata": {},
   "outputs": [],
   "source": [
    "# get historical market data\n",
    "hist = apple_df.history(period=\"1y\")\n",
    "hist"
   ]
  },
  {
   "cell_type": "code",
   "execution_count": null,
   "metadata": {},
   "outputs": [],
   "source": [
    "hist.info()"
   ]
  },
  {
   "cell_type": "code",
   "execution_count": null,
   "metadata": {},
   "outputs": [],
   "source": [
    "apple_df.balance_sheet"
   ]
  },
  {
   "cell_type": "code",
   "execution_count": null,
   "metadata": {},
   "outputs": [],
   "source": [
    "hist['Close']"
   ]
  },
  {
   "cell_type": "code",
   "execution_count": null,
   "metadata": {},
   "outputs": [],
   "source": [
    "# variation of day to day\n",
    "#hist['Var-d'] = hist.Close[-1] / hist.Close[0]\n",
    "#var_diff = hist.T.loc[1:] / hist.T.iloc[0:]\n",
    "#var_diff\n",
    "#starttime = hist.index[0].to_pydatetime()\n",
    "starttime = hist.index[0]\n",
    "starttime\n",
    "j = 0\n",
    "for i in hist.index:\n",
    "    print(i, j)\n",
    "    if j > 0:\n",
    "        # look for consecutive cells\n",
    "        print(hist.Close.iloc[j], hist.Close.iloc[j-1])\n",
    "    j = j + 1\n",
    "# var_d"
   ]
  },
  {
   "cell_type": "code",
   "execution_count": null,
   "metadata": {},
   "outputs": [],
   "source": [
    "# get difference between days of rows, pick anything you want\n",
    "j = 0\n",
    "hist['Var-d'][0] = 0\n",
    "for i in hist.index:\n",
    "    if j > 0:\n",
    "        # look for consecutive cells\n",
    "        print((hist.Close.iloc[j]/hist.Close.iloc[j-1])-1)\n",
    "        hist['Var-d'][i] = (hist.Close.iloc[j]/hist.Close.iloc[j-1])-1\n",
    "    j = j + 1"
   ]
  },
  {
   "cell_type": "code",
   "execution_count": null,
   "metadata": {},
   "outputs": [],
   "source": [
    "hist"
   ]
  },
  {
   "cell_type": "code",
   "execution_count": null,
   "metadata": {},
   "outputs": [],
   "source": [
    "# get statistics from stock, we see variation within days in percentage values \n",
    "hist.describe()"
   ]
  },
  {
   "cell_type": "code",
   "execution_count": null,
   "metadata": {},
   "outputs": [],
   "source": [
    "#look for month end\n",
    "apple_df_2023 = hist\n",
    "thism = 0\n",
    "lastm = 0\n",
    "j = 0\n",
    "for i in apple_df_2023.index:\n",
    "    thism = i.month\n",
    "    #if j > 0:\n",
    "    #    lastm = i.month\n",
    "    if thism != lastm:\n",
    "        print(i)\n",
    "    else:\n",
    "        lastm = thism-1\n",
    "    j = j + 1\n",
    "    print(thism, lastm)\n"
   ]
  },
  {
   "cell_type": "code",
   "execution_count": null,
   "metadata": {},
   "outputs": [],
   "source": [
    "# sma\n",
    "sma_s = 50\n",
    "sma_l = 200\n",
    "# https://www.geeksforgeeks.org/python-pandas-dataframe-rolling/\n",
    "hist[\"SMA_S\"] = hist.Close.rolling(sma_s).mean()"
   ]
  },
  {
   "cell_type": "code",
   "execution_count": null,
   "metadata": {},
   "outputs": [],
   "source": [
    "# with SMA and no EMA index\n",
    "candlestick = go.Candlestick(\n",
    "                            x=hist.index,\n",
    "                            open=hist['Open'],\n",
    "                            high=hist['High'],\n",
    "                            low=hist['Low'],\n",
    "                            close=hist['Close'],\n",
    "                            showlegend=False,\n",
    "                            increasing_line_color= 'blue', decreasing_line_color= 'orange',\n",
    "                            )\n",
    "\n",
    "sma = go.Scatter(x=hist.index,\n",
    "                 y=hist[\"SMA_S\"],\n",
    "                 yaxis=\"y1\",\n",
    "                 name=\"SMA\"\n",
    "                )\n",
    "#ema = go.Scatter(x=df.index,\n",
    "#                 y=df[\"EMA\"],\n",
    "#                 name=\"EMA\"\n",
    "#                )\n",
    "\n",
    "#fig = go.Figure(data=[candlestick, sma, ema])\n",
    "fig = go.Figure(data=[candlestick, sma])\n",
    "\n",
    "fig.update_layout(\n",
    "    width=1800, height=1600,\n",
    "    title=\"Apple, Jan, 2020 to Dec, 2023\",\n",
    "    yaxis_title='AAPL Stock',\n",
    ")\n",
    "\n",
    "fig.show()"
   ]
  },
  {
   "cell_type": "code",
   "execution_count": null,
   "metadata": {},
   "outputs": [],
   "source": [
    "aapl_df_2020_2023 = df\n",
    "aapl_df_2023_jan_dec = aapl_df_2020_2023.loc['2023-01-01' : '2023-12-31']\n",
    "aapl_df_2023_jan_dec.head()\n",
    "df = aapl_df_2023_jan_dec\n",
    "\n",
    "# with SMA and no EMA index\n",
    "candlestick = go.Candlestick(\n",
    "                            x=df.index,\n",
    "                            open=df['Open'],\n",
    "                            high=df['High'],\n",
    "                            low=df['Low'],\n",
    "                            close=df['Close'],\n",
    "                            showlegend=False,\n",
    "                            increasing_line_color= 'blue', decreasing_line_color= 'orange',\n",
    "                            )\n",
    "\n",
    "sma = go.Scatter(x=df.index,\n",
    "                 y=df[\"sma\"],\n",
    "                 yaxis=\"y1\",\n",
    "                 name=\"SMA\"\n",
    "                )\n",
    "#ema = go.Scatter(x=df.index,\n",
    "#                 y=df[\"EMA\"],\n",
    "#                 name=\"EMA\"\n",
    "#                )\n",
    "\n",
    "#fig = go.Figure(data=[candlestick, sma, ema])\n",
    "fig = go.Figure(data=[candlestick, sma])\n",
    "\n",
    "fig.update_layout(\n",
    "    width=1800, height=1600,\n",
    "    title=\"Apple, Jan, 2020 to Dec, 2023\",\n",
    "    yaxis_title='AAPL Stock',\n",
    ")\n",
    "\n",
    "fig.show()"
   ]
  },
  {
   "cell_type": "code",
   "execution_count": null,
   "metadata": {},
   "outputs": [],
   "source": [
    "def plot_candle_sma(dini, dend, df):\n",
    "    df = df.loc[dini.strftime(\"%Y-%m-%d\") : dend.strftime(\"%Y-%m-%d\")]\n",
    "    # with SMA and no EMA index\n",
    "    candlestick = go.Candlestick(\n",
    "                                x=df.index,\n",
    "                                open=df['Open'],\n",
    "                                high=df['High'],\n",
    "                                low=df['Low'],\n",
    "                                close=df['Close'],\n",
    "                                showlegend=False,\n",
    "                                increasing_line_color= 'blue', decreasing_line_color= 'orange',\n",
    "                                )\n",
    "\n",
    "    sma = go.Scatter(x=df.index,\n",
    "                    y=df[\"SMA\"],\n",
    "                    yaxis=\"y1\",\n",
    "                    name=\"SMA\"\n",
    "                    )\n",
    "    #ema = go.Scatter(x=df.index,\n",
    "    #                 y=df[\"EMA\"],\n",
    "    #                 name=\"EMA\"\n",
    "    #                )\n",
    "\n",
    "    #fig = go.Figure(data=[candlestick, sma, ema])\n",
    "    fig = go.Figure(data=[candlestick, sma])\n",
    "\n",
    "    fig.update_layout(\n",
    "        width=1800, height=1600,\n",
    "        title=\"Apple, Jan, 2020 to Dec, 2023\",\n",
    "        yaxis_title='AAPL Stock',\n",
    "    )\n",
    "\n",
    "    fig.show()\n",
    "\n",
    "date_end = datetime.now()\n",
    "date_start = datetime(2023, 9, 1)\n",
    "\n",
    "print(date_end.strftime(\"%Y-%m-%d\"), date_start.strftime(\"%Y-%m-%d\"))\n",
    "plot_candle_sma(date_start, date_end, aapl_df_2023_jan_dec)\n"
   ]
  },
  {
   "cell_type": "code",
   "execution_count": null,
   "metadata": {},
   "outputs": [],
   "source": [
    "# my portfolio\n",
    "# yf.download(tickers = symbol, start = start, end = end)\n",
    "symbol = [\"GENIUS21.MX\", \"BIMBOA.MX\", \"HERDEZ.MX\", \"BOLSAA.MX\", \"IVVPESOISHRS.MX\", \"WALMEX.MX\"]\n",
    "start = \"2023-01-02\" \n",
    "end = datetime.now().strftime(\"%Y-%m-%d\")\n",
    "\n",
    "portfolio_df = yf.download(tickers=symbol, start = start, end = end)\n",
    "portfolio_df.head()\n",
    "portfolio_df.info()"
   ]
  },
  {
   "cell_type": "code",
   "execution_count": null,
   "metadata": {},
   "outputs": [],
   "source": [
    "portfolio_df.to_csv(\"stocks_portfolio.csv\")"
   ]
  },
  {
   "cell_type": "code",
   "execution_count": null,
   "metadata": {},
   "outputs": [],
   "source": [
    "BOLSA_df = portfolio_df.Close[\"BOLSAA.MX\"]\n",
    "BOLSA_df.info()\n",
    "#BOLSA_df.head()"
   ]
  },
  {
   "cell_type": "code",
   "execution_count": null,
   "metadata": {},
   "outputs": [],
   "source": [
    "BOLSA_df.head()"
   ]
  },
  {
   "cell_type": "code",
   "execution_count": null,
   "metadata": {},
   "outputs": [],
   "source": [
    "BOLSA_df.plot()\n",
    "plt.show()"
   ]
  },
  {
   "cell_type": "code",
   "execution_count": null,
   "metadata": {},
   "outputs": [],
   "source": [
    "# interactive plots\n",
    "import cufflinks as cf"
   ]
  },
  {
   "cell_type": "code",
   "execution_count": null,
   "metadata": {},
   "outputs": [],
   "source": [
    "cf.set_config_file(offline = True)\n",
    "BOLSA_df.iplot()"
   ]
  },
  {
   "cell_type": "code",
   "execution_count": null,
   "metadata": {},
   "outputs": [],
   "source": [
    "# now for all dataframe with Close price\n",
    "portfolio_df.Close.iplot()"
   ]
  },
  {
   "cell_type": "code",
   "execution_count": null,
   "metadata": {},
   "outputs": [],
   "source": [
    "ivvpesoishrs = portfolio_df.swaplevel(axis = 1)[\"IVVPESOISHRS.MX\"].copy()\n",
    "ivvpesoishrs.head()"
   ]
  },
  {
   "cell_type": "code",
   "execution_count": null,
   "metadata": {},
   "outputs": [],
   "source": [
    "# ivvpesoishrs.loc[\"2017-05\"].iplot(kind= \"candle\")\n",
    "ivvpesoishrs.loc[\"05-2023\"].iplot(kind= \"candle\", \n",
    "                                  colorscale= \"pubugn\", \n",
    "                                  title= \"IVVPESOISHRS.MX\", \n",
    "                                  xTitle= \"Time\", \n",
    "                                  yTitle= \"Stock Price\")\n"
   ]
  },
  {
   "cell_type": "code",
   "execution_count": null,
   "metadata": {},
   "outputs": [],
   "source": [
    "# same data but with another granullarity (weekly)\n",
    "ivvpesoishrs = portfolio_df.swaplevel(axis = 1)[\"IVVPESOISHRS.MX\"].copy()\n",
    "weekly = ivvpesoishrs.resample(\"W-Fri\").agg({\"Open\":\"first\",\n",
    "                                   \"High\":\"max\",\n",
    "                                   \"Low\":\"min\",\n",
    "                                   \"Close\":\"last\"\n",
    "                                  })\n",
    "weekly.head()"
   ]
  },
  {
   "cell_type": "code",
   "execution_count": null,
   "metadata": {},
   "outputs": [],
   "source": [
    "weekly.loc[\"5-2023\":].iplot(kind= \"candle\")"
   ]
  },
  {
   "cell_type": "code",
   "execution_count": null,
   "metadata": {},
   "outputs": [],
   "source": [
    "# adding more technical stuff\n",
    "ivvpesoishrs.loc[\"09-2023\":].iplot(kind= \"candle\", \n",
    "                                  colorscale= \"pubugn\", \n",
    "                                  title= \"IVVPESOISHRS.MX\", \n",
    "                                  xTitle= \"Time\", \n",
    "                                  yTitle= \"Stock Price\")"
   ]
  },
  {
   "cell_type": "code",
   "execution_count": null,
   "metadata": {},
   "outputs": [],
   "source": [
    "# adding more technical stuff\n",
    "qf = cf.QuantFig(df = ivvpesoishrs.loc[\"09-2023\":])\n",
    "type(qf)\n",
    "\n",
    "qf.iplot(title= \"IVVPESOISHRS.MX\", name = \"MX ETFs\")"
   ]
  },
  {
   "cell_type": "code",
   "execution_count": null,
   "metadata": {},
   "outputs": [],
   "source": [
    "qf = cf.QuantFig(df = ivvpesoishrs.loc[\"09-2023\":])\n",
    "qf.add_volume(colorchange=False)\n",
    "qf.iplot(title= \"IVVPESOISHRS.MX\", name = \"MX ETFs\")"
   ]
  },
  {
   "cell_type": "code",
   "execution_count": null,
   "metadata": {},
   "outputs": [],
   "source": [
    "qf = cf.QuantFig(df = ivvpesoishrs.loc[\"09-2023\":])\n",
    "qf.add_sma(periods=20)\n",
    "qf.add_sma(periods=100)\n",
    "qf.iplot(title= \"IVVPESOISHRS.MX\", name = \"MX ETFs\")"
   ]
  },
  {
   "cell_type": "code",
   "execution_count": null,
   "metadata": {},
   "outputs": [],
   "source": [
    "qf = cf.QuantFig(df = ivvpesoishrs.loc[\"09-2023\":])\n",
    "qf.add_ema(periods=20)\n",
    "qf.add_ema(periods=100)\n",
    "qf.iplot(title= \"IVVPESOISHRS.MX\", name = \"MX ETFs\")"
   ]
  },
  {
   "cell_type": "code",
   "execution_count": null,
   "metadata": {},
   "outputs": [],
   "source": [
    "qf = cf.QuantFig(df = ivvpesoishrs.loc[\"09-2023\":])\n",
    "qf.add_ema(periods=50)\n",
    "qf.add_sma(periods=50)\n",
    "qf.iplot(title= \"IVVPESOISHRS.MX\", name = \"MX ETFs\")"
   ]
  },
  {
   "cell_type": "code",
   "execution_count": null,
   "metadata": {},
   "outputs": [],
   "source": [
    "# QuantFig is apersistent object\n",
    "qf = cf.QuantFig(df = ivvpesoishrs.loc[\"09-2023\":])\n",
    "qf.add_ema([5,15],width=2,color=['green','lightgreen'],legendgroup=True)\n",
    "qf.add_sma([5,10],width=2,color=['blue','lightblue'],legendgroup=True)\n",
    "qf.add_rsi(periods=10,color='orange')\n",
    "qf.add_bollinger_bands(periods=5,boll_std=2,colors=['magenta','grey'],fill=True)\n",
    "qf.iplot(title= \"IVVPESOISHRS.MX\", name = \"MX ETFs\")"
   ]
  },
  {
   "cell_type": "code",
   "execution_count": null,
   "metadata": {},
   "outputs": [],
   "source": [
    "# QuantFig is apersistent object\n",
    "qf = cf.QuantFig(df = ivvpesoishrs.loc[\"09-2023\":])\n",
    "qf.add_ema([5,15],width=2,color=['green','lightgreen'],legendgroup=True)\n",
    "qf.add_sma([5,10],width=2,color=['blue','lightblue'],legendgroup=True)\n",
    "qf.add_rsi(periods=10,color='orange')\n",
    "qf.add_bollinger_bands(periods=5,boll_std=2,colors=['magenta','grey'],fill=True)\n",
    "qf.add_volume()\n",
    "qf.iplot(title= \"IVVPESOISHRS.MX\", name = \"MX ETFs\")"
   ]
  },
  {
   "cell_type": "code",
   "execution_count": null,
   "metadata": {},
   "outputs": [],
   "source": [
    "# QuantFig is apersistent object\n",
    "qf = cf.QuantFig(df = ivvpesoishrs.loc[\"09-2023\":])\n",
    "qf.add_ema([5,15],width=2,color=['green','lightgreen'],legendgroup=True)\n",
    "qf.add_sma([5,10],width=2,color=['blue','lightblue'],legendgroup=True)\n",
    "qf.add_rsi(periods=10,color='orange')\n",
    "qf.add_bollinger_bands(periods=5,boll_std=2,colors=['magenta','grey'],fill=True)\n",
    "qf.add_volume()\n",
    "qf.add_trendline(date0=\"2023-11-01\", date1=\"2023-11-15\") # trendline in red\n",
    "qf.iplot(title= \"IVVPESOISHRS.MX\", name = \"MX ETFs\")"
   ]
  },
  {
   "cell_type": "code",
   "execution_count": null,
   "metadata": {},
   "outputs": [],
   "source": [
    "# QuantFig is apersistent object\n",
    "# with this resistance we see that is going up the price so stay in\n",
    "qf = cf.QuantFig(df = ivvpesoishrs.loc[\"09-2023\":])\n",
    "qf.add_ema([5,15],width=2,color=['green','lightgreen'],legendgroup=True)\n",
    "qf.add_sma([5,10],width=2,color=['blue','lightblue'],legendgroup=True)\n",
    "qf.add_resistance(date=\"2023-10-17\") # is from a date on\n",
    "qf.iplot(title= \"IVVPESOISHRS.MX\", name = \"MX ETFs\")"
   ]
  },
  {
   "cell_type": "code",
   "execution_count": null,
   "metadata": {},
   "outputs": [],
   "source": [
    "# QuantFig is apersistent object\n",
    "# with this resistance we see that is going up the price so stay in\n",
    "qf = cf.QuantFig(df = ivvpesoishrs.loc[\"09-2023\":])\n",
    "qf.add_ema([5,15],width=2,color=['green','lightgreen'],legendgroup=True)\n",
    "qf.add_sma([5,10],width=2,color=['blue','lightblue'],legendgroup=True)\n",
    "qf.add_resistance(date=\"2023-10-17\") # is from a date on\n",
    "qf.add_support(date=\"2023-10-31\")\n",
    "qf.iplot(title= \"IVVPESOISHRS.MX\", name = \"MX ETFs\")"
   ]
  }
 ],
 "metadata": {
  "kernelspec": {
   "display_name": "Python 3 (ipykernel)",
   "language": "python",
   "name": "python3"
  },
  "language_info": {
   "codemirror_mode": {
    "name": "ipython",
    "version": 3
   },
   "file_extension": ".py",
   "mimetype": "text/x-python",
   "name": "python",
   "nbconvert_exporter": "python",
   "pygments_lexer": "ipython3",
   "version": "3.9.13"
  }
 },
 "nbformat": 4,
 "nbformat_minor": 2
}
